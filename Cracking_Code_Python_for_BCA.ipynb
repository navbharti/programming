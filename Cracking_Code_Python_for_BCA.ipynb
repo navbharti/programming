{
  "nbformat": 4,
  "nbformat_minor": 0,
  "metadata": {
    "colab": {
      "name": "Cracking Code - Python for BCA.ipynb",
      "provenance": [],
      "authorship_tag": "ABX9TyOAQFcT3XR51VtZMtEv1oxk",
      "include_colab_link": true
    },
    "kernelspec": {
      "name": "python3",
      "display_name": "Python 3"
    },
    "language_info": {
      "name": "python"
    }
  },
  "cells": [
    {
      "cell_type": "markdown",
      "metadata": {
        "id": "view-in-github",
        "colab_type": "text"
      },
      "source": [
        "<a href=\"https://colab.research.google.com/github/navbharti/programming/blob/master/Cracking_Code_Python_for_BCA.ipynb\" target=\"_parent\"><img src=\"https://colab.research.google.com/assets/colab-badge.svg\" alt=\"Open In Colab\"/></a>"
      ]
    },
    {
      "cell_type": "markdown",
      "source": [
        "#1. Fundamental of Python\n",
        "  1. Python interpreter and interactive mode\n",
        "  2. Data types\n",
        "  3. Conditionals: Boolean values and operators, operator precedence and comments variables, expressions, statements conditional (if), alternative (if-else), chained conditional (if-elif-else);\n",
        "  4. Iteration: state, while, for, break, pass\n",
        "\n",
        "  5. List, Set, Tuple ,Dictionary\n",
        "\n",
        "  6. Comparison between Lists, Tuple,Set, Dictionary\n",
        "\n",
        "  7. Functions and Recursion \n",
        "\n",
        "  8. Strings"
      ],
      "metadata": {
        "id": "rx1dU1ierkQ5"
      }
    },
    {
      "cell_type": "markdown",
      "source": [
        " The Complete Monty Python's Circus\n",
        "\n",
        " 1. Functional Programming Features from C\n",
        " 2. Object Oriented Programming Features from C++\n",
        " 3. Scripting Language Features from Perl and Shell Script\n",
        " 4. Modular Programming Features from Modula-3\n",
        "\n",
        "# Can be used for\n",
        "* For developing Desktop Applications\n",
        "* For developing web Applications\n",
        "* For developing database Applications\n",
        "* For Network Programmin\n",
        "* For developing games\n",
        "* For Data Analysis Applications\n",
        "* For Machine Learning\n",
        "* For developing Artificial Intelligence Applications\n",
        "* For IoT\n",
        "\n",
        "# Features of Python\n",
        "* Simple and easy to learn\n",
        "* Freeware and Open Source\n",
        "* High Level Programming language\n",
        "* Platform Independent\n",
        "* Portability\n",
        "* Dynamically Typed\n",
        "* Both Procedure Oriented and Object Oriented\n",
        "* Interpreted\n",
        "* Extensible\n",
        "* Embedded\n",
        "* Extensive Library\n",
        "\n",
        "##  Performance wise not up to the mark because it is interpreted language.\n",
        "## Not using for mobile Applications.\n",
        "\n",
        "Python 3.10.6 Python 2.7.13\n",
        "\n",
        "## CPython:\n",
        "  It is the standard flavor of Python. It can be used to work with C lanugage Applications.\n",
        "## Jython OR JPython:\n",
        "  It is for Java Applications. It can run on JVM\n",
        "## IronPython:\n",
        "  It is for C#.Net platform\n",
        "## PyPy:\n",
        "  The main advantage of PyPy is performance will be improved because JIT compiler is\n",
        " available inside PVM.\n",
        "## RubyPython\n",
        "  For Ruby Platforms\n",
        "## AnacondaPython\n"
      ],
      "metadata": {
        "id": "dUYM98mD1u5B"
      }
    },
    {
      "cell_type": "markdown",
      "source": [
        "# 33 reserved Words\n",
        "\n",
        "## True, False, None\n",
        "## and, or ,not,is\n",
        "## if, elif, else\n",
        "## while, for, break, continue, return, in, yield\n",
        "## try, except, finally, raise, assert\n",
        " \n",
        "## import, from, as, class, def, pass, global, nonlocal, lambda, del, with"
      ],
      "metadata": {
        "id": "H5c5vx-e4CXD"
      }
    },
    {
      "cell_type": "code",
      "source": [
        "import keyword\n",
        "keyword.kwlist"
      ],
      "metadata": {
        "colab": {
          "base_uri": "https://localhost:8080/"
        },
        "id": "qhVO5-0A5CIz",
        "outputId": "076a1fec-2ea6-4563-bbdd-cb0ae2db8abb"
      },
      "execution_count": 1,
      "outputs": [
        {
          "output_type": "execute_result",
          "data": {
            "text/plain": [
              "['False',\n",
              " 'None',\n",
              " 'True',\n",
              " 'and',\n",
              " 'as',\n",
              " 'assert',\n",
              " 'async',\n",
              " 'await',\n",
              " 'break',\n",
              " 'class',\n",
              " 'continue',\n",
              " 'def',\n",
              " 'del',\n",
              " 'elif',\n",
              " 'else',\n",
              " 'except',\n",
              " 'finally',\n",
              " 'for',\n",
              " 'from',\n",
              " 'global',\n",
              " 'if',\n",
              " 'import',\n",
              " 'in',\n",
              " 'is',\n",
              " 'lambda',\n",
              " 'nonlocal',\n",
              " 'not',\n",
              " 'or',\n",
              " 'pass',\n",
              " 'raise',\n",
              " 'return',\n",
              " 'try',\n",
              " 'while',\n",
              " 'with',\n",
              " 'yield']"
            ]
          },
          "metadata": {},
          "execution_count": 1
        }
      ]
    },
    {
      "cell_type": "markdown",
      "source": [
        "`>>>` \n",
        "\n",
        "\n",
        "`c:\\> python abc.py`"
      ],
      "metadata": {
        "id": "j2XzL_pzyIRR"
      }
    },
    {
      "cell_type": "code",
      "source": [
        " print(\"Hello World\")"
      ],
      "metadata": {
        "colab": {
          "base_uri": "https://localhost:8080/"
        },
        "id": "4566mHy51I1p",
        "outputId": "c9b0949b-648f-4a46-94cd-5daf374aa1e9"
      },
      "execution_count": 2,
      "outputs": [
        {
          "output_type": "stream",
          "name": "stdout",
          "text": [
            "Hello World\n"
          ]
        }
      ]
    },
    {
      "cell_type": "markdown",
      "source": [
        "# Data Types\n",
        "\n",
        "1) Int\n",
        "\n",
        "2) Float\n",
        "\n",
        "3) Complex\n",
        "\n",
        "4) Bool\n",
        "\n",
        "5) Str\n",
        "\n",
        "6) Bytes\n",
        "\n",
        "7) Bytearray\n",
        "\n",
        "8) Range\n",
        "\n",
        "9) List\n",
        "\n",
        "10) Tuple\n",
        "\n",
        "11) Set\n",
        "\n",
        "12) Frozenset \n",
        "\n",
        "13) Dict\n",
        "\n",
        "14) None"
      ],
      "metadata": {
        "id": "78T3u2LTyU6a"
      }
    },
    {
      "cell_type": "markdown",
      "source": [
        "# several inbuilt functions\n",
        "\n",
        "type()\n",
        "\n",
        "id()\n",
        "\n",
        "print()"
      ],
      "metadata": {
        "id": "iJIzV90u5gRP"
      }
    },
    {
      "cell_type": "markdown",
      "source": [
        "# int Data Type\n",
        "\n",
        " Decimal form (default number system)\n",
        "\n",
        " Binary form (prefixed with 0B or 0b)\n",
        "\n",
        " Octal form (prefixed with 0o 0O)\n",
        "\n",
        " Hexa decimal form (prefixed with 0x or 0X)"
      ],
      "metadata": {
        "id": "xQzAGijh5syn"
      }
    },
    {
      "cell_type": "code",
      "source": [
        "a = 0B1111\n",
        "a = 0B123\n",
        "a= b111"
      ],
      "metadata": {
        "colab": {
          "base_uri": "https://localhost:8080/",
          "height": 131
        },
        "id": "OGJSuUBz53M0",
        "outputId": "087c2f47-3624-4659-db14-8f93fb47f0cc"
      },
      "execution_count": 3,
      "outputs": [
        {
          "output_type": "error",
          "ename": "SyntaxError",
          "evalue": "ignored",
          "traceback": [
            "\u001b[0;36m  File \u001b[0;32m\"<ipython-input-3-6d5997f5a50f>\"\u001b[0;36m, line \u001b[0;32m2\u001b[0m\n\u001b[0;31m    a = 0B123\u001b[0m\n\u001b[0m            ^\u001b[0m\n\u001b[0;31mSyntaxError\u001b[0m\u001b[0;31m:\u001b[0m invalid syntax\n"
          ]
        }
      ]
    },
    {
      "cell_type": "code",
      "source": [
        "a = 0o123\n",
        "a = 0o786"
      ],
      "metadata": {
        "colab": {
          "base_uri": "https://localhost:8080/",
          "height": 131
        },
        "id": "X4L8hK_b6Wlf",
        "outputId": "201c76b3-980e-453d-bb42-569b27281eda"
      },
      "execution_count": 4,
      "outputs": [
        {
          "output_type": "error",
          "ename": "SyntaxError",
          "evalue": "ignored",
          "traceback": [
            "\u001b[0;36m  File \u001b[0;32m\"<ipython-input-4-a8bd0d9b68c5>\"\u001b[0;36m, line \u001b[0;32m2\u001b[0m\n\u001b[0;31m    a = 0o786\u001b[0m\n\u001b[0m            ^\u001b[0m\n\u001b[0;31mSyntaxError\u001b[0m\u001b[0;31m:\u001b[0m invalid syntax\n"
          ]
        }
      ]
    },
    {
      "cell_type": "code",
      "source": [
        "a = 0XFACE\n",
        "a = 0XBeef\n",
        "a = 0XBeer"
      ],
      "metadata": {
        "colab": {
          "base_uri": "https://localhost:8080/",
          "height": 131
        },
        "id": "ffQunT856bI4",
        "outputId": "93813d07-82c1-4855-c7d5-c38d044ce830"
      },
      "execution_count": 5,
      "outputs": [
        {
          "output_type": "error",
          "ename": "SyntaxError",
          "evalue": "ignored",
          "traceback": [
            "\u001b[0;36m  File \u001b[0;32m\"<ipython-input-5-b7db02f739bc>\"\u001b[0;36m, line \u001b[0;32m3\u001b[0m\n\u001b[0;31m    a = 0XBeer\u001b[0m\n\u001b[0m             ^\u001b[0m\n\u001b[0;31mSyntaxError\u001b[0m\u001b[0;31m:\u001b[0m invalid syntax\n"
          ]
        }
      ]
    },
    {
      "cell_type": "markdown",
      "source": [
        "# Base Conversion\n",
        "\n"
      ],
      "metadata": {
        "id": "pUMiDSqe6p8g"
      }
    },
    {
      "cell_type": "code",
      "source": [
        "a = bin(15)\n",
        "#'0b1111'\n",
        "b = bin(0o11)\n",
        "#'0b1001'\n",
        "c = bin(0X10)\n",
        "#'0b10000'\n",
        "print(a)\n",
        "print(b)\n",
        "print(c)"
      ],
      "metadata": {
        "colab": {
          "base_uri": "https://localhost:8080/"
        },
        "id": "JwSNcnAJ6xCD",
        "outputId": "59bd0745-560d-4bb9-f687-f15066c1290e"
      },
      "execution_count": 6,
      "outputs": [
        {
          "output_type": "stream",
          "name": "stdout",
          "text": [
            "0b1111\n",
            "0b1001\n",
            "0b10000\n"
          ]
        }
      ]
    },
    {
      "cell_type": "code",
      "source": [
        "d = oct(10)\n",
        "#'0o12'\n",
        "e = oct(0B1111)\n",
        "#'0o17'\n",
        "f = oct(0X123)\n",
        "#'0o443'\n",
        "print(d)\n",
        "print(e)\n",
        "print(f)"
      ],
      "metadata": {
        "colab": {
          "base_uri": "https://localhost:8080/"
        },
        "id": "neiGiG7c67g9",
        "outputId": "00746f37-e27e-4adc-cf4d-37ae93ec3d63"
      },
      "execution_count": 7,
      "outputs": [
        {
          "output_type": "stream",
          "name": "stdout",
          "text": [
            "0o12\n",
            "0o17\n",
            "0o443\n"
          ]
        }
      ]
    },
    {
      "cell_type": "code",
      "source": [
        "g = hex(100)\n",
        "#'0x64'\n",
        "h = hex(0B111111)\n",
        "#'0x3f'\n",
        "i = hex(0o12345)\n",
        "#'0x14e5'\n",
        "print(g)\n",
        "print(h)\n",
        "print(i)"
      ],
      "metadata": {
        "colab": {
          "base_uri": "https://localhost:8080/"
        },
        "id": "B7rgpN2C7DC6",
        "outputId": "2b476952-2056-4a6d-9bb5-31bb0b5e0937"
      },
      "execution_count": 8,
      "outputs": [
        {
          "output_type": "stream",
          "name": "stdout",
          "text": [
            "0x64\n",
            "0x3f\n",
            "0x14e5\n"
          ]
        }
      ]
    },
    {
      "cell_type": "code",
      "source": [
        "a=10\n",
        "b=20\n",
        "print(\"TheSum:\",(a+b))"
      ],
      "metadata": {
        "colab": {
          "base_uri": "https://localhost:8080/"
        },
        "id": "xaUnNCCT1PkJ",
        "outputId": "1fe1cedb-c616-4831-f6b7-3f5274129cd6"
      },
      "execution_count": 9,
      "outputs": [
        {
          "output_type": "stream",
          "name": "stdout",
          "text": [
            "TheSum: 30\n"
          ]
        }
      ]
    },
    {
      "cell_type": "code",
      "source": [
        "a = 10\n",
        "print(type(a))"
      ],
      "metadata": {
        "colab": {
          "base_uri": "https://localhost:8080/"
        },
        "id": "_2pW_3j3yZ9D",
        "outputId": "d7de6367-9ee3-45f8-db1b-ba9858a41ff9"
      },
      "execution_count": 10,
      "outputs": [
        {
          "output_type": "stream",
          "name": "stdout",
          "text": [
            "<class 'int'>\n"
          ]
        }
      ]
    },
    {
      "cell_type": "markdown",
      "source": [
        "# Float Data Type"
      ],
      "metadata": {
        "id": "kUuao2XW7U30"
      }
    },
    {
      "cell_type": "code",
      "source": [
        "f = 1.234\n",
        "print(type(f)) # float"
      ],
      "metadata": {
        "colab": {
          "base_uri": "https://localhost:8080/"
        },
        "id": "YtS_HwAQ7Zwd",
        "outputId": "79fe9cff-cf83-4db3-ab64-4e65b9cb3a49"
      },
      "execution_count": 11,
      "outputs": [
        {
          "output_type": "stream",
          "name": "stdout",
          "text": [
            "<class 'float'>\n"
          ]
        }
      ]
    },
    {
      "cell_type": "code",
      "source": [
        "f = 1.2e3 # instead of 'e' we can use 'E'\n",
        "print(f) #1200.0"
      ],
      "metadata": {
        "colab": {
          "base_uri": "https://localhost:8080/"
        },
        "id": "sD9lN5xr7g06",
        "outputId": "7affa451-abdd-43f3-91c4-345423ecafa9"
      },
      "execution_count": 12,
      "outputs": [
        {
          "output_type": "stream",
          "name": "stdout",
          "text": [
            "1200.0\n"
          ]
        }
      ]
    },
    {
      "cell_type": "code",
      "source": [
        "b = True\n",
        "print(type(b))"
      ],
      "metadata": {
        "colab": {
          "base_uri": "https://localhost:8080/"
        },
        "id": "tBS2OUsvzItC",
        "outputId": "599cdf03-4ae4-459f-8fe2-f12ff4e00f04"
      },
      "execution_count": 13,
      "outputs": [
        {
          "output_type": "stream",
          "name": "stdout",
          "text": [
            "<class 'bool'>\n"
          ]
        }
      ]
    },
    {
      "cell_type": "markdown",
      "source": [
        "# Complex Data Type:"
      ],
      "metadata": {
        "id": "YbbD46Tz7rpn"
      }
    },
    {
      "cell_type": "code",
      "source": [
        "c = 4+5j\n",
        "print(type(c))"
      ],
      "metadata": {
        "colab": {
          "base_uri": "https://localhost:8080/"
        },
        "id": "uBj3jFFFzPqS",
        "outputId": "575aeeec-c164-449f-9c53-0b95c58ae04f"
      },
      "execution_count": 14,
      "outputs": [
        {
          "output_type": "stream",
          "name": "stdout",
          "text": [
            "<class 'complex'>\n"
          ]
        }
      ]
    },
    {
      "cell_type": "code",
      "source": [
        "a=0B11+5j\n",
        "print(a)\n",
        "#(3+5j)\n",
        "a=3+0B11j\n",
        "#SyntaxError: invalid syntax"
      ],
      "metadata": {
        "colab": {
          "base_uri": "https://localhost:8080/",
          "height": 131
        },
        "id": "AxR0KeDa7wuX",
        "outputId": "26b8d2e4-17c7-493c-eeba-9256a46a9cd7"
      },
      "execution_count": 15,
      "outputs": [
        {
          "output_type": "error",
          "ename": "SyntaxError",
          "evalue": "ignored",
          "traceback": [
            "\u001b[0;36m  File \u001b[0;32m\"<ipython-input-15-ea337f4d95f7>\"\u001b[0;36m, line \u001b[0;32m4\u001b[0m\n\u001b[0;31m    a=3+0B11j\u001b[0m\n\u001b[0m            ^\u001b[0m\n\u001b[0;31mSyntaxError\u001b[0m\u001b[0;31m:\u001b[0m invalid syntax\n"
          ]
        }
      ]
    },
    {
      "cell_type": "markdown",
      "source": [
        "## operations on complex type values"
      ],
      "metadata": {
        "id": "5w4R-Wq976jw"
      }
    },
    {
      "cell_type": "code",
      "source": [
        "a=10+1.5j\n",
        "b=20+2.5j\n",
        "print(a+b)\n",
        "print(a-b)\n",
        "print(a*b)\n",
        "print(a/b)\n"
      ],
      "metadata": {
        "colab": {
          "base_uri": "https://localhost:8080/"
        },
        "id": "qThIO3ft7_6O",
        "outputId": "496493ca-0e8e-4d95-9807-c060091d7546"
      },
      "execution_count": 16,
      "outputs": [
        {
          "output_type": "stream",
          "name": "stdout",
          "text": [
            "(30+4j)\n",
            "(-10-1j)\n",
            "(196.25+55j)\n",
            "(0.5015384615384615+0.012307692307692308j)\n"
          ]
        }
      ]
    },
    {
      "cell_type": "code",
      "source": [
        "print(a.real)\n",
        "print(a.imag)"
      ],
      "metadata": {
        "colab": {
          "base_uri": "https://localhost:8080/"
        },
        "id": "WKBTVAKB8Ty5",
        "outputId": "57e38363-32e2-49c0-f6b1-d2f8d111cc22"
      },
      "execution_count": 17,
      "outputs": [
        {
          "output_type": "stream",
          "name": "stdout",
          "text": [
            "10.0\n",
            "1.5\n"
          ]
        }
      ]
    },
    {
      "cell_type": "markdown",
      "source": [
        "## bool Data Type:"
      ],
      "metadata": {
        "id": "xldv-92z8bMs"
      }
    },
    {
      "cell_type": "code",
      "source": [
        "b=20\n",
        "c=a<b\n",
        "print(c) # True\n",
        "print(True+True) # 2\n",
        "print(True-False) # 1"
      ],
      "metadata": {
        "colab": {
          "base_uri": "https://localhost:8080/",
          "height": 236
        },
        "id": "kb161XEj8gnB",
        "outputId": "92acea17-d795-46ba-ba81-eb304dc7f55d"
      },
      "execution_count": 18,
      "outputs": [
        {
          "output_type": "error",
          "ename": "TypeError",
          "evalue": "ignored",
          "traceback": [
            "\u001b[0;31m---------------------------------------------------------------------------\u001b[0m",
            "\u001b[0;31mTypeError\u001b[0m                                 Traceback (most recent call last)",
            "\u001b[0;32m<ipython-input-18-f1f82abb0a03>\u001b[0m in \u001b[0;36m<module>\u001b[0;34m()\u001b[0m\n\u001b[1;32m      1\u001b[0m \u001b[0mb\u001b[0m\u001b[0;34m=\u001b[0m\u001b[0;36m20\u001b[0m\u001b[0;34m\u001b[0m\u001b[0;34m\u001b[0m\u001b[0m\n\u001b[0;32m----> 2\u001b[0;31m \u001b[0mc\u001b[0m\u001b[0;34m=\u001b[0m\u001b[0ma\u001b[0m\u001b[0;34m<\u001b[0m\u001b[0mb\u001b[0m\u001b[0;34m\u001b[0m\u001b[0;34m\u001b[0m\u001b[0m\n\u001b[0m\u001b[1;32m      3\u001b[0m \u001b[0mprint\u001b[0m\u001b[0;34m(\u001b[0m\u001b[0mc\u001b[0m\u001b[0;34m)\u001b[0m \u001b[0;31m# True\u001b[0m\u001b[0;34m\u001b[0m\u001b[0;34m\u001b[0m\u001b[0m\n\u001b[1;32m      4\u001b[0m \u001b[0mprint\u001b[0m\u001b[0;34m(\u001b[0m\u001b[0;32mTrue\u001b[0m\u001b[0;34m+\u001b[0m\u001b[0;32mTrue\u001b[0m\u001b[0;34m)\u001b[0m \u001b[0;31m# 2\u001b[0m\u001b[0;34m\u001b[0m\u001b[0;34m\u001b[0m\u001b[0m\n\u001b[1;32m      5\u001b[0m \u001b[0mprint\u001b[0m\u001b[0;34m(\u001b[0m\u001b[0;32mTrue\u001b[0m\u001b[0;34m-\u001b[0m\u001b[0;32mFalse\u001b[0m\u001b[0;34m)\u001b[0m \u001b[0;31m# 1\u001b[0m\u001b[0;34m\u001b[0m\u001b[0;34m\u001b[0m\u001b[0m\n",
            "\u001b[0;31mTypeError\u001b[0m: '<' not supported between instances of 'complex' and 'int'"
          ]
        }
      ]
    },
    {
      "cell_type": "markdown",
      "source": [
        "## str Data Type:\n",
        "\n",
        "Single Quote\n",
        "\n",
        "Double Quote\n",
        "\n",
        "Triple Quote"
      ],
      "metadata": {
        "id": "Lhb-b1AC8ssP"
      }
    },
    {
      "cell_type": "markdown",
      "source": [
        "## Slicing of Strings:\n",
        "\n",
        "slice means a piece\n",
        "\n",
        "[ ] operator is called slice operator, which can be used to retrieve parts of String.\n",
        "\n",
        "In Python Strings follows zero based index.\n",
        "\n",
        "The index can be either +ve or -ve.\n",
        "\n",
        "+ve index means forward direction from Left to Right\n",
        "\n",
        "-ve index means backward direction from Right to Left"
      ],
      "metadata": {
        "id": "6RqRmDP585Lg"
      }
    },
    {
      "cell_type": "code",
      "source": [
        "s=\"jain university\"\n",
        "s[0]\n",
        "\n",
        "s[1]\n",
        "\n",
        "s[-1]\n",
        "\n",
        "s[40]\n",
        "s[1:40]\n",
        "s[1:]\n",
        "\n",
        "s[:4]\n",
        "s[:]\n",
        "s*3\n",
        "len(s)"
      ],
      "metadata": {
        "colab": {
          "base_uri": "https://localhost:8080/",
          "height": 236
        },
        "id": "ie1mjO0mIeHd",
        "outputId": "cdc491e8-9a68-4549-bd72-a085df40cd04"
      },
      "execution_count": 19,
      "outputs": [
        {
          "output_type": "error",
          "ename": "IndexError",
          "evalue": "ignored",
          "traceback": [
            "\u001b[0;31m---------------------------------------------------------------------------\u001b[0m",
            "\u001b[0;31mIndexError\u001b[0m                                Traceback (most recent call last)",
            "\u001b[0;32m<ipython-input-19-8d0cdc9128ec>\u001b[0m in \u001b[0;36m<module>\u001b[0;34m()\u001b[0m\n\u001b[1;32m      6\u001b[0m \u001b[0ms\u001b[0m\u001b[0;34m[\u001b[0m\u001b[0;34m-\u001b[0m\u001b[0;36m1\u001b[0m\u001b[0;34m]\u001b[0m\u001b[0;34m\u001b[0m\u001b[0;34m\u001b[0m\u001b[0m\n\u001b[1;32m      7\u001b[0m \u001b[0;34m\u001b[0m\u001b[0m\n\u001b[0;32m----> 8\u001b[0;31m \u001b[0ms\u001b[0m\u001b[0;34m[\u001b[0m\u001b[0;36m40\u001b[0m\u001b[0;34m]\u001b[0m\u001b[0;34m\u001b[0m\u001b[0;34m\u001b[0m\u001b[0m\n\u001b[0m\u001b[1;32m      9\u001b[0m \u001b[0ms\u001b[0m\u001b[0;34m[\u001b[0m\u001b[0;36m1\u001b[0m\u001b[0;34m:\u001b[0m\u001b[0;36m40\u001b[0m\u001b[0;34m]\u001b[0m\u001b[0;34m\u001b[0m\u001b[0;34m\u001b[0m\u001b[0m\n\u001b[1;32m     10\u001b[0m \u001b[0ms\u001b[0m\u001b[0;34m[\u001b[0m\u001b[0;36m1\u001b[0m\u001b[0;34m:\u001b[0m\u001b[0;34m]\u001b[0m\u001b[0;34m\u001b[0m\u001b[0;34m\u001b[0m\u001b[0m\n",
            "\u001b[0;31mIndexError\u001b[0m: string index out of range"
          ]
        }
      ]
    },
    {
      "cell_type": "markdown",
      "source": [
        "# TYPE CASTING"
      ],
      "metadata": {
        "id": "SvIuvDYh9Igh"
      }
    },
    {
      "cell_type": "code",
      "source": [
        "print(int(123.987))\n",
        "#123\n",
        "print(int(10+5j))\n",
        "# TypeError:can'tconvertcomplextoint\n",
        "print(int(True))\n",
        "#1\n",
        "print(int(False))\n",
        "#0\n",
        "print(int(\"10\"))\n",
        "#10\n",
        "print(int(\"10.5\"))\n",
        "# ValueError: invalid literal for int() with base 10: '10.5'\n",
        "print(int(\"ten\"))\n",
        "# ValueError: invalid literal for int() with base 10: 'ten'\n",
        "print(int(\"0B1111\"))\n",
        "# ValueError: invalid literal for int() with base 10: '0B1111'"
      ],
      "metadata": {
        "colab": {
          "base_uri": "https://localhost:8080/",
          "height": 253
        },
        "id": "I4wUJV549N2b",
        "outputId": "ca4fb9a2-5fa1-4745-c68f-a5c61e82b6e8"
      },
      "execution_count": 20,
      "outputs": [
        {
          "output_type": "stream",
          "name": "stdout",
          "text": [
            "123\n"
          ]
        },
        {
          "output_type": "error",
          "ename": "TypeError",
          "evalue": "ignored",
          "traceback": [
            "\u001b[0;31m---------------------------------------------------------------------------\u001b[0m",
            "\u001b[0;31mTypeError\u001b[0m                                 Traceback (most recent call last)",
            "\u001b[0;32m<ipython-input-20-a3879b690c28>\u001b[0m in \u001b[0;36m<module>\u001b[0;34m()\u001b[0m\n\u001b[1;32m      1\u001b[0m \u001b[0mprint\u001b[0m\u001b[0;34m(\u001b[0m\u001b[0mint\u001b[0m\u001b[0;34m(\u001b[0m\u001b[0;36m123.987\u001b[0m\u001b[0;34m)\u001b[0m\u001b[0;34m)\u001b[0m\u001b[0;34m\u001b[0m\u001b[0;34m\u001b[0m\u001b[0m\n\u001b[1;32m      2\u001b[0m \u001b[0;31m#123\u001b[0m\u001b[0;34m\u001b[0m\u001b[0;34m\u001b[0m\u001b[0;34m\u001b[0m\u001b[0m\n\u001b[0;32m----> 3\u001b[0;31m \u001b[0mprint\u001b[0m\u001b[0;34m(\u001b[0m\u001b[0mint\u001b[0m\u001b[0;34m(\u001b[0m\u001b[0;36m10\u001b[0m\u001b[0;34m+\u001b[0m\u001b[0;36m5j\u001b[0m\u001b[0;34m)\u001b[0m\u001b[0;34m)\u001b[0m\u001b[0;34m\u001b[0m\u001b[0;34m\u001b[0m\u001b[0m\n\u001b[0m\u001b[1;32m      4\u001b[0m \u001b[0;31m# TypeError:can'tconvertcomplextoint\u001b[0m\u001b[0;34m\u001b[0m\u001b[0;34m\u001b[0m\u001b[0;34m\u001b[0m\u001b[0m\n\u001b[1;32m      5\u001b[0m \u001b[0mprint\u001b[0m\u001b[0;34m(\u001b[0m\u001b[0mint\u001b[0m\u001b[0;34m(\u001b[0m\u001b[0;32mTrue\u001b[0m\u001b[0;34m)\u001b[0m\u001b[0;34m)\u001b[0m\u001b[0;34m\u001b[0m\u001b[0;34m\u001b[0m\u001b[0m\n",
            "\u001b[0;31mTypeError\u001b[0m: can't convert complex to int"
          ]
        }
      ]
    },
    {
      "cell_type": "code",
      "source": [
        "print(float(10))\n",
        "# 10.0\n",
        "print(float(10+5j))\n",
        "# TypeError:can'tconvertcomplextofloat\n",
        "print(float(True))\n",
        "# 1.0\n",
        "print(float(False))\n",
        "# 0.0\n",
        "print(float(\"10\"))\n",
        "# 10.0\n",
        "print(float(\"10.5\"))\n",
        "# 10.5\n",
        "float(\"ten\")\n",
        "# ValueError: could not convert string to float: 'ten'\n",
        "float(\"0B1111\")\n",
        "# ValueError: could not convert string to float: '0B1111'"
      ],
      "metadata": {
        "colab": {
          "base_uri": "https://localhost:8080/",
          "height": 253
        },
        "id": "ZFqFvNGp9qnj",
        "outputId": "7cbd904e-1132-4712-89c6-16195b24408e"
      },
      "execution_count": 21,
      "outputs": [
        {
          "output_type": "stream",
          "name": "stdout",
          "text": [
            "10.0\n"
          ]
        },
        {
          "output_type": "error",
          "ename": "TypeError",
          "evalue": "ignored",
          "traceback": [
            "\u001b[0;31m---------------------------------------------------------------------------\u001b[0m",
            "\u001b[0;31mTypeError\u001b[0m                                 Traceback (most recent call last)",
            "\u001b[0;32m<ipython-input-21-282a197689b0>\u001b[0m in \u001b[0;36m<module>\u001b[0;34m()\u001b[0m\n\u001b[1;32m      1\u001b[0m \u001b[0mprint\u001b[0m\u001b[0;34m(\u001b[0m\u001b[0mfloat\u001b[0m\u001b[0;34m(\u001b[0m\u001b[0;36m10\u001b[0m\u001b[0;34m)\u001b[0m\u001b[0;34m)\u001b[0m\u001b[0;34m\u001b[0m\u001b[0;34m\u001b[0m\u001b[0m\n\u001b[1;32m      2\u001b[0m \u001b[0;31m# 10.0\u001b[0m\u001b[0;34m\u001b[0m\u001b[0;34m\u001b[0m\u001b[0;34m\u001b[0m\u001b[0m\n\u001b[0;32m----> 3\u001b[0;31m \u001b[0mprint\u001b[0m\u001b[0;34m(\u001b[0m\u001b[0mfloat\u001b[0m\u001b[0;34m(\u001b[0m\u001b[0;36m10\u001b[0m\u001b[0;34m+\u001b[0m\u001b[0;36m5j\u001b[0m\u001b[0;34m)\u001b[0m\u001b[0;34m)\u001b[0m\u001b[0;34m\u001b[0m\u001b[0;34m\u001b[0m\u001b[0m\n\u001b[0m\u001b[1;32m      4\u001b[0m \u001b[0;31m# TypeError:can'tconvertcomplextofloat\u001b[0m\u001b[0;34m\u001b[0m\u001b[0;34m\u001b[0m\u001b[0;34m\u001b[0m\u001b[0m\n\u001b[1;32m      5\u001b[0m \u001b[0mprint\u001b[0m\u001b[0;34m(\u001b[0m\u001b[0mfloat\u001b[0m\u001b[0;34m(\u001b[0m\u001b[0;32mTrue\u001b[0m\u001b[0;34m)\u001b[0m\u001b[0;34m)\u001b[0m\u001b[0;34m\u001b[0m\u001b[0;34m\u001b[0m\u001b[0m\n",
            "\u001b[0;31mTypeError\u001b[0m: can't convert complex to float"
          ]
        }
      ]
    },
    {
      "cell_type": "code",
      "source": [
        "complex(10) #==>10+0j\n",
        "complex(10.5) #===>10.5+0j\n",
        "complex(True) #==>1+0j\n",
        "complex(False) #==>0j\n",
        "complex(\"10\") #==>10+0j\n",
        "complex(\"10.5\") #==>10.5+0j\n",
        "complex(\"ten\")\n",
        "# ValueError: complex() arg is a malformed string\n",
        "\n",
        "complex(10, -2) #10-2j\n",
        "complex(True, False) #1+0j"
      ],
      "metadata": {
        "colab": {
          "base_uri": "https://localhost:8080/",
          "height": 236
        },
        "id": "e1BXKvT2-DLz",
        "outputId": "f0bcbd23-952f-4b5a-88a2-9256be1d40dd"
      },
      "execution_count": 22,
      "outputs": [
        {
          "output_type": "error",
          "ename": "ValueError",
          "evalue": "ignored",
          "traceback": [
            "\u001b[0;31m---------------------------------------------------------------------------\u001b[0m",
            "\u001b[0;31mValueError\u001b[0m                                Traceback (most recent call last)",
            "\u001b[0;32m<ipython-input-22-79bd25dd12dc>\u001b[0m in \u001b[0;36m<module>\u001b[0;34m()\u001b[0m\n\u001b[1;32m      5\u001b[0m \u001b[0mcomplex\u001b[0m\u001b[0;34m(\u001b[0m\u001b[0;34m\"10\"\u001b[0m\u001b[0;34m)\u001b[0m \u001b[0;31m#==>10+0j\u001b[0m\u001b[0;34m\u001b[0m\u001b[0;34m\u001b[0m\u001b[0m\n\u001b[1;32m      6\u001b[0m \u001b[0mcomplex\u001b[0m\u001b[0;34m(\u001b[0m\u001b[0;34m\"10.5\"\u001b[0m\u001b[0;34m)\u001b[0m \u001b[0;31m#==>10.5+0j\u001b[0m\u001b[0;34m\u001b[0m\u001b[0;34m\u001b[0m\u001b[0m\n\u001b[0;32m----> 7\u001b[0;31m \u001b[0mcomplex\u001b[0m\u001b[0;34m(\u001b[0m\u001b[0;34m\"ten\"\u001b[0m\u001b[0;34m)\u001b[0m\u001b[0;34m\u001b[0m\u001b[0;34m\u001b[0m\u001b[0m\n\u001b[0m\u001b[1;32m      8\u001b[0m \u001b[0;31m# ValueError: complex() arg is a malformed string\u001b[0m\u001b[0;34m\u001b[0m\u001b[0;34m\u001b[0m\u001b[0;34m\u001b[0m\u001b[0m\n\u001b[1;32m      9\u001b[0m \u001b[0;34m\u001b[0m\u001b[0m\n",
            "\u001b[0;31mValueError\u001b[0m: complex() arg is a malformed string"
          ]
        }
      ]
    },
    {
      "cell_type": "code",
      "source": [
        "bool(0) #False\n",
        "bool(1) #True\n",
        "bool(10) #True\n",
        "bool(10.5) #True\n",
        "bool(0.178) #True\n",
        "bool(0.0) #False\n",
        "bool(10-2j) #True\n",
        "bool(0+1.5j) #True\n",
        "bool(0+0j) #False\n",
        "bool(\"True\") #True\n",
        "bool(\"False\") #True\n",
        "bool(\"\") # False"
      ],
      "metadata": {
        "colab": {
          "base_uri": "https://localhost:8080/"
        },
        "id": "pu0d2KJ9-TI1",
        "outputId": "db89c2e3-5dc3-47ee-eb8d-f8bc8c2fc6cc"
      },
      "execution_count": 23,
      "outputs": [
        {
          "output_type": "execute_result",
          "data": {
            "text/plain": [
              "False"
            ]
          },
          "metadata": {},
          "execution_count": 23
        }
      ]
    },
    {
      "cell_type": "code",
      "source": [
        "str(10)\n",
        "# '10'\n",
        "str(10.5)\n",
        "# '10.5'\n",
        "str(10+5j)\n",
        "# '(10+5j)'\n",
        "str(True)\n",
        "# 'True'"
      ],
      "metadata": {
        "colab": {
          "base_uri": "https://localhost:8080/",
          "height": 35
        },
        "id": "eV2Id8lm-kDG",
        "outputId": "a5687118-1022-4bf3-cd67-cc57de5fcb3f"
      },
      "execution_count": 24,
      "outputs": [
        {
          "output_type": "execute_result",
          "data": {
            "text/plain": [
              "'True'"
            ],
            "application/vnd.google.colaboratory.intrinsic+json": {
              "type": "string"
            }
          },
          "metadata": {},
          "execution_count": 24
        }
      ]
    },
    {
      "cell_type": "markdown",
      "source": [
        "All Fundamental Data types are immutable.\n",
        "\n",
        "In Python if a new object is required, then `PVM` won’t create object immediately. \n",
        "\n",
        "First it will check if any object available with the required content or not. \n",
        "\n",
        "If available then existing object will be reused. If it is not available then only a new object will be created. The advantage of this approach is memory utilization and performance will be improved.\n",
        "\n",
        "several references pointing to the same object\n",
        "\n",
        "But the problem in this approach is, several references pointing to the same object, \n",
        "by using one reference if we are allowed to change the content in the existing object then the remaining references will be effected. \n",
        "\n",
        "To prevent this immutability concept is required. According to this once creates an object we are not allowed to change content. \n",
        "\n",
        "If we are trying to change with those changes a new object will be created."
      ],
      "metadata": {
        "id": "P07sA_zX-vE8"
      }
    },
    {
      "cell_type": "code",
      "source": [
        "a=10\n",
        "b=10\n",
        "a is b\n",
        "# True\n",
        "id(a)\n",
        "# 1572353952\n",
        "id(b)\n",
        "# 1572353952\n"
      ],
      "metadata": {
        "colab": {
          "base_uri": "https://localhost:8080/"
        },
        "id": "OI5b8CAh_cp0",
        "outputId": "033d925a-bec6-4314-fabc-d5ae59d8556f"
      },
      "execution_count": 25,
      "outputs": [
        {
          "output_type": "execute_result",
          "data": {
            "text/plain": [
              "11256352"
            ]
          },
          "metadata": {},
          "execution_count": 25
        }
      ]
    },
    {
      "cell_type": "markdown",
      "source": [
        "## bytes Data Type:"
      ],
      "metadata": {
        "id": "oSA5VPs5_173"
      }
    },
    {
      "cell_type": "code",
      "source": [
        "x = [10,20,30,40]\n",
        "b = bytes(x)\n",
        "type(b) # bytes\n",
        "print(b[0]) # 10\n",
        "print(b[-1]) # 40\n",
        "for i in b : print(i)"
      ],
      "metadata": {
        "colab": {
          "base_uri": "https://localhost:8080/"
        },
        "id": "pyHU7yJL_47L",
        "outputId": "0ae2ac37-c4b7-432d-9306-9e9d3deb4383"
      },
      "execution_count": 26,
      "outputs": [
        {
          "output_type": "stream",
          "name": "stdout",
          "text": [
            "10\n",
            "40\n",
            "10\n",
            "20\n",
            "30\n",
            "40\n"
          ]
        }
      ]
    },
    {
      "cell_type": "markdown",
      "source": [
        "The only allowed values for byte data type are 0 to 256. By mistake if we are trying to\n",
        " provide any other values then we will get value error.\n",
        "\n",
        "Once we creates bytes data type value, we cannot change its values,otherwise we will get\n",
        " TypeError."
      ],
      "metadata": {
        "id": "jvPua2ipACT4"
      }
    },
    {
      "cell_type": "code",
      "source": [
        "x=[10,20,30,40]\n",
        "b=bytes(x)\n",
        "b[0]=100\n",
        "# TypeError: 'bytes' object does not support item assignment"
      ],
      "metadata": {
        "colab": {
          "base_uri": "https://localhost:8080/",
          "height": 218
        },
        "id": "Pmvmu263AKNQ",
        "outputId": "e7837cb0-8b83-4eaa-ea88-c872a53cbc5b"
      },
      "execution_count": 27,
      "outputs": [
        {
          "output_type": "error",
          "ename": "TypeError",
          "evalue": "ignored",
          "traceback": [
            "\u001b[0;31m---------------------------------------------------------------------------\u001b[0m",
            "\u001b[0;31mTypeError\u001b[0m                                 Traceback (most recent call last)",
            "\u001b[0;32m<ipython-input-27-b2d3a7ad03fd>\u001b[0m in \u001b[0;36m<module>\u001b[0;34m()\u001b[0m\n\u001b[1;32m      1\u001b[0m \u001b[0mx\u001b[0m\u001b[0;34m=\u001b[0m\u001b[0;34m[\u001b[0m\u001b[0;36m10\u001b[0m\u001b[0;34m,\u001b[0m\u001b[0;36m20\u001b[0m\u001b[0;34m,\u001b[0m\u001b[0;36m30\u001b[0m\u001b[0;34m,\u001b[0m\u001b[0;36m40\u001b[0m\u001b[0;34m]\u001b[0m\u001b[0;34m\u001b[0m\u001b[0;34m\u001b[0m\u001b[0m\n\u001b[1;32m      2\u001b[0m \u001b[0mb\u001b[0m\u001b[0;34m=\u001b[0m\u001b[0mbytes\u001b[0m\u001b[0;34m(\u001b[0m\u001b[0mx\u001b[0m\u001b[0;34m)\u001b[0m\u001b[0;34m\u001b[0m\u001b[0;34m\u001b[0m\u001b[0m\n\u001b[0;32m----> 3\u001b[0;31m \u001b[0mb\u001b[0m\u001b[0;34m[\u001b[0m\u001b[0;36m0\u001b[0m\u001b[0;34m]\u001b[0m\u001b[0;34m=\u001b[0m\u001b[0;36m100\u001b[0m\u001b[0;34m\u001b[0m\u001b[0;34m\u001b[0m\u001b[0m\n\u001b[0m\u001b[1;32m      4\u001b[0m \u001b[0;31m# TypeError: 'bytes' object does not support item assignment\u001b[0m\u001b[0;34m\u001b[0m\u001b[0;34m\u001b[0m\u001b[0;34m\u001b[0m\u001b[0m\n",
            "\u001b[0;31mTypeError\u001b[0m: 'bytes' object does not support item assignment"
          ]
        }
      ]
    },
    {
      "cell_type": "markdown",
      "source": [
        "##  bytearray Data Type:\n",
        "  bytearray is exactly same as bytes data type except that its elements can be\n",
        " modified."
      ],
      "metadata": {
        "id": "sbZDHVl9ARGZ"
      }
    },
    {
      "cell_type": "code",
      "source": [
        "x=[10,20,30,40]\n",
        "b=bytearray(x)\n",
        "for i in b: print(i)\n",
        "b[0]=100\n",
        "for i in b: print(i)"
      ],
      "metadata": {
        "colab": {
          "base_uri": "https://localhost:8080/"
        },
        "id": "LPlXD4wiAVVU",
        "outputId": "ebe09f0d-87b5-4fdb-e55c-ac0da2ded48c"
      },
      "execution_count": 28,
      "outputs": [
        {
          "output_type": "stream",
          "name": "stdout",
          "text": [
            "10\n",
            "20\n",
            "30\n",
            "40\n",
            "100\n",
            "20\n",
            "30\n",
            "40\n"
          ]
        }
      ]
    },
    {
      "cell_type": "code",
      "source": [
        "x=[10,256]\n",
        "b=bytearray(x)\n",
        "# ValueError:bytemustbeinrange(0,256)"
      ],
      "metadata": {
        "colab": {
          "base_uri": "https://localhost:8080/",
          "height": 201
        },
        "id": "SzliCDK9Amn5",
        "outputId": "354d37ee-ceba-48d1-f4c4-eafb2ce2293a"
      },
      "execution_count": 29,
      "outputs": [
        {
          "output_type": "error",
          "ename": "ValueError",
          "evalue": "ignored",
          "traceback": [
            "\u001b[0;31m---------------------------------------------------------------------------\u001b[0m",
            "\u001b[0;31mValueError\u001b[0m                                Traceback (most recent call last)",
            "\u001b[0;32m<ipython-input-29-769bfb18837c>\u001b[0m in \u001b[0;36m<module>\u001b[0;34m()\u001b[0m\n\u001b[1;32m      1\u001b[0m \u001b[0mx\u001b[0m\u001b[0;34m=\u001b[0m\u001b[0;34m[\u001b[0m\u001b[0;36m10\u001b[0m\u001b[0;34m,\u001b[0m\u001b[0;36m256\u001b[0m\u001b[0;34m]\u001b[0m\u001b[0;34m\u001b[0m\u001b[0;34m\u001b[0m\u001b[0m\n\u001b[0;32m----> 2\u001b[0;31m \u001b[0mb\u001b[0m\u001b[0;34m=\u001b[0m\u001b[0mbytearray\u001b[0m\u001b[0;34m(\u001b[0m\u001b[0mx\u001b[0m\u001b[0;34m)\u001b[0m\u001b[0;34m\u001b[0m\u001b[0;34m\u001b[0m\u001b[0m\n\u001b[0m\u001b[1;32m      3\u001b[0m \u001b[0;31m# ValueError:bytemustbeinrange(0,256)\u001b[0m\u001b[0;34m\u001b[0m\u001b[0;34m\u001b[0m\u001b[0;34m\u001b[0m\u001b[0m\n",
            "\u001b[0;31mValueError\u001b[0m: byte must be in range(0, 256)"
          ]
        }
      ]
    },
    {
      "cell_type": "markdown",
      "source": [
        "#  List Data Type\n",
        "\n",
        "  If we want to represent a group of values as a single entity where insertion order\n",
        " required to preserve and duplicates are allowed then we should go for list data\n",
        "\n",
        " Insertion Order is preserved\n",
        "\n",
        " Heterogeneous Objects are allowed\n",
        "\n",
        " Duplicates are allowed\n",
        "\n",
        " Growable in nature\n",
        "\n",
        " Values should be enclosed within square brackets."
      ],
      "metadata": {
        "id": "3_RhjvhaAxEn"
      }
    },
    {
      "cell_type": "code",
      "source": [
        "list=[10,10.5,'durga',True,10]\n",
        "print(list) # [10,10.5,'durga',True,10]"
      ],
      "metadata": {
        "colab": {
          "base_uri": "https://localhost:8080/"
        },
        "id": "hJ6gzzsfBF12",
        "outputId": "8408a51c-899a-4e11-f7dd-6a0c00ea6da6"
      },
      "execution_count": 30,
      "outputs": [
        {
          "output_type": "stream",
          "name": "stdout",
          "text": [
            "[10, 10.5, 'durga', True, 10]\n"
          ]
        }
      ]
    },
    {
      "cell_type": "code",
      "source": [
        "list=[10,20,30,40]\n",
        "list[0]\n",
        "# 10\n",
        "list[-1]\n",
        "# 40\n",
        "list[1:3]\n",
        "# [20,30]\n",
        "list[0]=100\n",
        "for i in list: print(i)"
      ],
      "metadata": {
        "colab": {
          "base_uri": "https://localhost:8080/"
        },
        "id": "mPRrdR_LBJu2",
        "outputId": "4d8abc6a-80c3-4d2c-ce2e-31276230bf4a"
      },
      "execution_count": 31,
      "outputs": [
        {
          "output_type": "stream",
          "name": "stdout",
          "text": [
            "100\n",
            "20\n",
            "30\n",
            "40\n"
          ]
        }
      ]
    },
    {
      "cell_type": "markdown",
      "source": [
        "list is growable in nature. i.e based on our requirement we can increase or decrease the\n",
        "size."
      ],
      "metadata": {
        "id": "tKMTvkxnBU1b"
      }
    },
    {
      "cell_type": "code",
      "source": [
        "list=[10,20,30]\n",
        "list.append(\"durga\")\n",
        "list\n",
        "# [10,20,30,'durga']\n",
        "list.remove(20)\n",
        "list\n",
        "# [10,30,'durga']\n",
        "list2=list*2\n",
        "list2\n",
        "# [10, 30, 'durga', 10, 30, 'durga']"
      ],
      "metadata": {
        "colab": {
          "base_uri": "https://localhost:8080/"
        },
        "id": "AwwzByVABXfH",
        "outputId": "3d0015f9-2008-44dc-8f48-d95bd5b421ea"
      },
      "execution_count": 32,
      "outputs": [
        {
          "output_type": "execute_result",
          "data": {
            "text/plain": [
              "[10, 30, 'durga', 10, 30, 'durga']"
            ]
          },
          "metadata": {},
          "execution_count": 32
        }
      ]
    },
    {
      "cell_type": "markdown",
      "source": [
        "An ordered, mutable, heterogenous collection of eleemnts is nothing but list,\n",
        "  where duplicates also allowed."
      ],
      "metadata": {
        "id": "HW7ATM2pBg1X"
      }
    },
    {
      "cell_type": "markdown",
      "source": [
        "## Tuple Data Type:\n",
        "  tuple data type is exactly same as list data type except that it is immutable.i.e we cannot chage values.\n",
        " Tuple elements can be represented within parenthesis."
      ],
      "metadata": {
        "id": "7cpC7-WtBoR9"
      }
    },
    {
      "cell_type": "code",
      "source": [
        "t=(10,20,30,40)\n",
        "type(t)\n",
        "# <class'tuple'>\n",
        "t[0]=100\n",
        "# TypeError:'tuple'objectdoesnotsupportitemassignment\n",
        "t.append(\"durga\")\n",
        "# AttributeError:'tuple'objecthasnoattribute'append'\n",
        "t.remove(10)\n",
        "# AttributeError:'tuple'objecthasnoattribute'remove'"
      ],
      "metadata": {
        "colab": {
          "base_uri": "https://localhost:8080/",
          "height": 236
        },
        "id": "imvk3VqzBtdQ",
        "outputId": "85a709d6-381c-49a3-c8a6-a5e8c5feb401"
      },
      "execution_count": 33,
      "outputs": [
        {
          "output_type": "error",
          "ename": "TypeError",
          "evalue": "ignored",
          "traceback": [
            "\u001b[0;31m---------------------------------------------------------------------------\u001b[0m",
            "\u001b[0;31mTypeError\u001b[0m                                 Traceback (most recent call last)",
            "\u001b[0;32m<ipython-input-33-69ef770ed452>\u001b[0m in \u001b[0;36m<module>\u001b[0;34m()\u001b[0m\n\u001b[1;32m      2\u001b[0m \u001b[0mtype\u001b[0m\u001b[0;34m(\u001b[0m\u001b[0mt\u001b[0m\u001b[0;34m)\u001b[0m\u001b[0;34m\u001b[0m\u001b[0;34m\u001b[0m\u001b[0m\n\u001b[1;32m      3\u001b[0m \u001b[0;31m# <class'tuple'>\u001b[0m\u001b[0;34m\u001b[0m\u001b[0;34m\u001b[0m\u001b[0;34m\u001b[0m\u001b[0m\n\u001b[0;32m----> 4\u001b[0;31m \u001b[0mt\u001b[0m\u001b[0;34m[\u001b[0m\u001b[0;36m0\u001b[0m\u001b[0;34m]\u001b[0m\u001b[0;34m=\u001b[0m\u001b[0;36m100\u001b[0m\u001b[0;34m\u001b[0m\u001b[0;34m\u001b[0m\u001b[0m\n\u001b[0m\u001b[1;32m      5\u001b[0m \u001b[0;31m# TypeError:'tuple'objectdoesnotsupportitemassignment\u001b[0m\u001b[0;34m\u001b[0m\u001b[0;34m\u001b[0m\u001b[0;34m\u001b[0m\u001b[0m\n\u001b[1;32m      6\u001b[0m \u001b[0mt\u001b[0m\u001b[0;34m.\u001b[0m\u001b[0mappend\u001b[0m\u001b[0;34m(\u001b[0m\u001b[0;34m\"durga\"\u001b[0m\u001b[0;34m)\u001b[0m\u001b[0;34m\u001b[0m\u001b[0;34m\u001b[0m\u001b[0m\n",
            "\u001b[0;31mTypeError\u001b[0m: 'tuple' object does not support item assignment"
          ]
        }
      ]
    },
    {
      "cell_type": "markdown",
      "source": [
        "##  Range Data Type:\n",
        "  range Data Type represents a sequence of numbers.\n",
        " The elements present in range Data type are not modifiable. i.e range Data type is\n",
        " immutable.\n",
        " \n",
        " ### Form-1: range(10)\n",
        "  generate numbers from 0 to 9\n",
        "\n",
        " `r = range(10)`\n",
        "\n",
        " `foriinr:print(i) #0to9`\n",
        " \n",
        " ### Form-2: range(10, 20)\n",
        "  generate numbers from 10 to 19\n",
        "\n",
        " `r = range(10,20)`\n",
        "\n",
        " `for i in r : print(i) #10 to 19`\n",
        "\n",
        " ### Form-3: range(10, 20, 2)\n",
        "2 means increment value\n",
        "\n",
        "Eg:\n",
        "We can access elements present in the range Data Type by using index.\n",
        "\n",
        "Eg:\n",
        "We cannot modify the values of range data type\n",
        "\n",
        "Eg:\n",
        "We can create a list of values with range data type\n",
        "\n",
        "Eg:\n",
        "11) set Data Type: ֍\n",
        "1) 2) 3) 4) 5) 6)\n",
        "26\n",
        " r = range(10,20,2)\n",
        " for i in r : print(i)10,12,14,16,18\n",
        " r = range(10,20)\n",
        " r[0]  10\n",
        " r[15]IndexError: range object index out of range\n",
        " r[0] = 100\n",
        " TypeError: 'rang"
      ],
      "metadata": {
        "id": "22C-C-yAB3dh"
      }
    },
    {
      "cell_type": "code",
      "source": [
        "r = range(10,20,2)\n",
        "for i in r : \n",
        "  print(i) #10,12,14,16,18"
      ],
      "metadata": {
        "colab": {
          "base_uri": "https://localhost:8080/"
        },
        "id": "2SEI9wfiCyEp",
        "outputId": "978a992f-65ae-4a30-d6fc-863a3804ca41"
      },
      "execution_count": 34,
      "outputs": [
        {
          "output_type": "stream",
          "name": "stdout",
          "text": [
            "10\n",
            "12\n",
            "14\n",
            "16\n",
            "18\n"
          ]
        }
      ]
    },
    {
      "cell_type": "code",
      "source": [
        "r = range(10,20)\n",
        "r[0] # 10\n",
        "r[15] #\n",
        "# IndexError: range object index out of range"
      ],
      "metadata": {
        "colab": {
          "base_uri": "https://localhost:8080/",
          "height": 218
        },
        "id": "dl1a1Su_C86Q",
        "outputId": "c4dca56d-913d-4cc4-ab2c-9fd1c305a9ec"
      },
      "execution_count": 36,
      "outputs": [
        {
          "output_type": "error",
          "ename": "IndexError",
          "evalue": "ignored",
          "traceback": [
            "\u001b[0;31m---------------------------------------------------------------------------\u001b[0m",
            "\u001b[0;31mIndexError\u001b[0m                                Traceback (most recent call last)",
            "\u001b[0;32m<ipython-input-36-bfef35b28251>\u001b[0m in \u001b[0;36m<module>\u001b[0;34m()\u001b[0m\n\u001b[1;32m      1\u001b[0m \u001b[0mr\u001b[0m \u001b[0;34m=\u001b[0m \u001b[0mrange\u001b[0m\u001b[0;34m(\u001b[0m\u001b[0;36m10\u001b[0m\u001b[0;34m,\u001b[0m\u001b[0;36m20\u001b[0m\u001b[0;34m)\u001b[0m\u001b[0;34m\u001b[0m\u001b[0;34m\u001b[0m\u001b[0m\n\u001b[1;32m      2\u001b[0m \u001b[0mr\u001b[0m\u001b[0;34m[\u001b[0m\u001b[0;36m0\u001b[0m\u001b[0;34m]\u001b[0m \u001b[0;31m# 10\u001b[0m\u001b[0;34m\u001b[0m\u001b[0;34m\u001b[0m\u001b[0m\n\u001b[0;32m----> 3\u001b[0;31m \u001b[0mr\u001b[0m\u001b[0;34m[\u001b[0m\u001b[0;36m15\u001b[0m\u001b[0;34m]\u001b[0m \u001b[0;31m#\u001b[0m\u001b[0;34m\u001b[0m\u001b[0;34m\u001b[0m\u001b[0m\n\u001b[0m\u001b[1;32m      4\u001b[0m \u001b[0;31m# IndexError: range object index out of range\u001b[0m\u001b[0;34m\u001b[0m\u001b[0;34m\u001b[0m\u001b[0;34m\u001b[0m\u001b[0m\n",
            "\u001b[0;31mIndexError\u001b[0m: range object index out of range"
          ]
        }
      ]
    },
    {
      "cell_type": "code",
      "source": [
        "r[0] = 100"
      ],
      "metadata": {
        "colab": {
          "base_uri": "https://localhost:8080/",
          "height": 166
        },
        "id": "CYEbAATnDFFw",
        "outputId": "a09d9c7a-7d07-4117-b182-c5c51de4a5f8"
      },
      "execution_count": 38,
      "outputs": [
        {
          "output_type": "error",
          "ename": "TypeError",
          "evalue": "ignored",
          "traceback": [
            "\u001b[0;31m---------------------------------------------------------------------------\u001b[0m",
            "\u001b[0;31mTypeError\u001b[0m                                 Traceback (most recent call last)",
            "\u001b[0;32m<ipython-input-38-28938df5d02e>\u001b[0m in \u001b[0;36m<module>\u001b[0;34m()\u001b[0m\n\u001b[0;32m----> 1\u001b[0;31m \u001b[0mr\u001b[0m\u001b[0;34m[\u001b[0m\u001b[0;36m0\u001b[0m\u001b[0;34m]\u001b[0m \u001b[0;34m=\u001b[0m \u001b[0;36m100\u001b[0m\u001b[0;34m\u001b[0m\u001b[0;34m\u001b[0m\u001b[0m\n\u001b[0m",
            "\u001b[0;31mTypeError\u001b[0m: 'range' object does not support item assignment"
          ]
        }
      ]
    },
    {
      "cell_type": "code",
      "source": [
        "r = range(10)\n",
        "\n",
        "for i in r:\n",
        "  print(i) #0to9`\n",
        " \n",
        "# generate numbers from 10 to 19\n",
        "  \n",
        "r = range(10,20)\n",
        "\n",
        "for i in r : \n",
        "  print(i) #10 to 19`\n",
        "\n",
        "  "
      ],
      "metadata": {
        "colab": {
          "base_uri": "https://localhost:8080/"
        },
        "id": "Ea6OaYgUCHgr",
        "outputId": "3e0fe89c-ce19-4567-e679-db9464a9b642"
      },
      "execution_count": 39,
      "outputs": [
        {
          "output_type": "stream",
          "name": "stdout",
          "text": [
            "0\n",
            "1\n",
            "2\n",
            "3\n",
            "4\n",
            "5\n",
            "6\n",
            "7\n",
            "8\n",
            "9\n",
            "10\n",
            "11\n",
            "12\n",
            "13\n",
            "14\n",
            "15\n",
            "16\n",
            "17\n",
            "18\n",
            "19\n"
          ]
        }
      ]
    },
    {
      "cell_type": "markdown",
      "source": [
        "## set Data Type:\n",
        "\n",
        "A group of unique values or without duplicates and order is not important: `set Data Type`.\n",
        "\n",
        "1)\tInsertion order is not preserved\n",
        "\n",
        "2)\tDuplicates are not allowed\n",
        "\n",
        "3)\tHeterogeneous objects are allowed\n",
        "\n",
        "4)\tIndex concept is not applicable\n",
        "\n",
        "5)\tIt is mutable collection\n",
        "\n",
        "6)\tGrowable in nature\n"
      ],
      "metadata": {
        "id": "MKU7esc2DKu9"
      }
    },
    {
      "cell_type": "code",
      "source": [
        "s={100,0,10,200,10,'jain'}\n",
        "print(s) \n",
        "s[0] ##TypeError: 'set' object does not support indexing"
      ],
      "metadata": {
        "colab": {
          "base_uri": "https://localhost:8080/",
          "height": 201
        },
        "id": "rWWeouUcQINO",
        "outputId": "cf3a1523-b09d-4ed3-b53c-e41cfafbe297"
      },
      "execution_count": 41,
      "outputs": [
        {
          "output_type": "error",
          "ename": "TypeError",
          "evalue": "ignored",
          "traceback": [
            "\u001b[0;31m---------------------------------------------------------------------------\u001b[0m",
            "\u001b[0;31mTypeError\u001b[0m                                 Traceback (most recent call last)",
            "\u001b[0;32m<ipython-input-41-172c6ca76932>\u001b[0m in \u001b[0;36m<module>\u001b[0;34m()\u001b[0m\n\u001b[1;32m      1\u001b[0m \u001b[0ms\u001b[0m\u001b[0;34m=\u001b[0m\u001b[0;34m{\u001b[0m\u001b[0;36m100\u001b[0m\u001b[0;34m,\u001b[0m\u001b[0;36m0\u001b[0m\u001b[0;34m,\u001b[0m\u001b[0;36m10\u001b[0m\u001b[0;34m,\u001b[0m\u001b[0;36m200\u001b[0m\u001b[0;34m,\u001b[0m\u001b[0;36m10\u001b[0m\u001b[0;34m,\u001b[0m\u001b[0;34m'durga'\u001b[0m\u001b[0;34m}\u001b[0m\u001b[0;34m\u001b[0m\u001b[0;34m\u001b[0m\u001b[0m\n\u001b[1;32m      2\u001b[0m \u001b[0ms\u001b[0m \u001b[0;31m# {0, 100, 'jain', 200, 10}\u001b[0m\u001b[0;34m\u001b[0m\u001b[0;34m\u001b[0m\u001b[0m\n\u001b[0;32m----> 3\u001b[0;31m \u001b[0ms\u001b[0m\u001b[0;34m[\u001b[0m\u001b[0;36m0\u001b[0m\u001b[0;34m]\u001b[0m \u001b[0;31m##TypeError: 'set' object does not support indexing\u001b[0m\u001b[0;34m\u001b[0m\u001b[0;34m\u001b[0m\u001b[0m\n\u001b[0m",
            "\u001b[0;31mTypeError\u001b[0m: 'set' object is not subscriptable"
          ]
        }
      ]
    },
    {
      "cell_type": "markdown",
      "source": [
        "set is growable in nature, based on our requirement we can increase or decrease the size.\n"
      ],
      "metadata": {
        "id": "Jxjs9hmUQUpb"
      }
    },
    {
      "cell_type": "code",
      "source": [
        "s.add(60)\n",
        "print(s)\n",
        "\n",
        "s.remove(100)\n",
        "print(s)\n"
      ],
      "metadata": {
        "colab": {
          "base_uri": "https://localhost:8080/",
          "height": 236
        },
        "id": "X9RLXIoPQV8o",
        "outputId": "daf112c3-9195-4005-e1e0-4ad386a2d6b3"
      },
      "execution_count": 44,
      "outputs": [
        {
          "output_type": "stream",
          "name": "stdout",
          "text": [
            "{40, 10, 20, 60, 30}\n"
          ]
        },
        {
          "output_type": "error",
          "ename": "KeyError",
          "evalue": "ignored",
          "traceback": [
            "\u001b[0;31m---------------------------------------------------------------------------\u001b[0m",
            "\u001b[0;31mKeyError\u001b[0m                                  Traceback (most recent call last)",
            "\u001b[0;32m<ipython-input-44-332e723e35c5>\u001b[0m in \u001b[0;36m<module>\u001b[0;34m()\u001b[0m\n\u001b[1;32m      2\u001b[0m \u001b[0mprint\u001b[0m\u001b[0;34m(\u001b[0m\u001b[0ms\u001b[0m\u001b[0;34m)\u001b[0m\u001b[0;34m\u001b[0m\u001b[0;34m\u001b[0m\u001b[0m\n\u001b[1;32m      3\u001b[0m \u001b[0;34m\u001b[0m\u001b[0m\n\u001b[0;32m----> 4\u001b[0;31m \u001b[0ms\u001b[0m\u001b[0;34m.\u001b[0m\u001b[0mremove\u001b[0m\u001b[0;34m(\u001b[0m\u001b[0;36m100\u001b[0m\u001b[0;34m)\u001b[0m\u001b[0;34m\u001b[0m\u001b[0;34m\u001b[0m\u001b[0m\n\u001b[0m\u001b[1;32m      5\u001b[0m \u001b[0mprint\u001b[0m\u001b[0;34m(\u001b[0m\u001b[0ms\u001b[0m\u001b[0;34m)\u001b[0m\u001b[0;34m\u001b[0m\u001b[0;34m\u001b[0m\u001b[0m\n",
            "\u001b[0;31mKeyError\u001b[0m: 100"
          ]
        }
      ]
    },
    {
      "cell_type": "markdown",
      "source": [
        "## frozenset Data Type:\n",
        "\n",
        "It is exactly same as set except that it is immutable.\n",
        "\n",
        "Hence we cannot use add or remove functions."
      ],
      "metadata": {
        "id": "Erotb0NBQmZQ"
      }
    },
    {
      "cell_type": "code",
      "source": [
        "s={10,20,30,40}\n",
        "fs=frozenset(s)\n",
        "print(type(fs))\n",
        "print(fs)\n",
        "# frozenset({40,10,20,30})\n",
        "for i in fs:\n",
        "  print(i)\n",
        "\n",
        "fs.add(70)\n",
        "# AttributeError: 'frozenset' object has no attribute 'add'\n",
        "fs.remove(10)\n",
        "# AttributeError: 'frozenset' object has no attribute 'remove'"
      ],
      "metadata": {
        "colab": {
          "base_uri": "https://localhost:8080/",
          "height": 340
        },
        "id": "ATW46JUpQzWs",
        "outputId": "92ae3b89-f110-405a-85d6-09728f35a0c3"
      },
      "execution_count": 43,
      "outputs": [
        {
          "output_type": "stream",
          "name": "stdout",
          "text": [
            "<class 'frozenset'>\n",
            "frozenset({40, 10, 20, 30})\n",
            "40\n",
            "10\n",
            "20\n",
            "30\n"
          ]
        },
        {
          "output_type": "error",
          "ename": "AttributeError",
          "evalue": "ignored",
          "traceback": [
            "\u001b[0;31m---------------------------------------------------------------------------\u001b[0m",
            "\u001b[0;31mAttributeError\u001b[0m                            Traceback (most recent call last)",
            "\u001b[0;32m<ipython-input-43-cf98778a906f>\u001b[0m in \u001b[0;36m<module>\u001b[0;34m()\u001b[0m\n\u001b[1;32m      7\u001b[0m   \u001b[0mprint\u001b[0m\u001b[0;34m(\u001b[0m\u001b[0mi\u001b[0m\u001b[0;34m)\u001b[0m\u001b[0;34m\u001b[0m\u001b[0;34m\u001b[0m\u001b[0m\n\u001b[1;32m      8\u001b[0m \u001b[0;34m\u001b[0m\u001b[0m\n\u001b[0;32m----> 9\u001b[0;31m \u001b[0mfs\u001b[0m\u001b[0;34m.\u001b[0m\u001b[0madd\u001b[0m\u001b[0;34m(\u001b[0m\u001b[0;36m70\u001b[0m\u001b[0;34m)\u001b[0m\u001b[0;34m\u001b[0m\u001b[0;34m\u001b[0m\u001b[0m\n\u001b[0m\u001b[1;32m     10\u001b[0m \u001b[0;31m# AttributeError: 'frozenset' object has no attribute 'add'\u001b[0m\u001b[0;34m\u001b[0m\u001b[0;34m\u001b[0m\u001b[0;34m\u001b[0m\u001b[0m\n\u001b[1;32m     11\u001b[0m \u001b[0mfs\u001b[0m\u001b[0;34m.\u001b[0m\u001b[0mremove\u001b[0m\u001b[0;34m(\u001b[0m\u001b[0;36m10\u001b[0m\u001b[0;34m)\u001b[0m\u001b[0;34m\u001b[0m\u001b[0;34m\u001b[0m\u001b[0m\n",
            "\u001b[0;31mAttributeError\u001b[0m: 'frozenset' object has no attribute 'add'"
          ]
        }
      ]
    },
    {
      "cell_type": "markdown",
      "source": [
        "## dict Data Type:\n",
        "\n",
        "If we want to represent a group of values as key-value pairs then we should go for dict data type.\n",
        "\n",
        "Eg: d = {101:'durga',102:'ravi',103:'shiva'}\n",
        "\n",
        "Duplicate keys are not allowed but values can be duplicated. If we are trying to insert an entry with duplicate key then old value will be replaced with new value."
      ],
      "metadata": {
        "id": "4eSvNiUGRD3-"
      }
    },
    {
      "cell_type": "code",
      "source": [
        "d={101:'mahesh',102:'ravi',103:'shiva'}\n",
        "d[101]='sunny'\n",
        "d\n",
        "#  {101: 'sunny', 102: 'ravi', 103: 'shiva'}\n",
        "\n",
        "#  We can create empty dictionary as follows\n",
        "d={ }\n",
        "\n",
        "#  We can add key-value pairs as follows\n",
        "d['a']='apple'\n",
        "d['b']='banana'\n",
        "print(d)"
      ],
      "metadata": {
        "colab": {
          "base_uri": "https://localhost:8080/"
        },
        "id": "RJikapjpRNvI",
        "outputId": "1ae10d7f-f98d-412b-b890-c07c2111a601"
      },
      "execution_count": 42,
      "outputs": [
        {
          "output_type": "stream",
          "name": "stdout",
          "text": [
            "{'a': 'apple', 'b': 'banana'}\n"
          ]
        }
      ]
    },
    {
      "cell_type": "markdown",
      "source": [
        "dict is mutable and the order won’t be preserved.\n",
        "\n",
        "Note:\n",
        "\n",
        "1)\tIn general we can use bytes and bytearray data types to represent binary information like images, video files etc\n",
        "\n",
        "2)\tIn Python2 long data type is available. But in Python3 it is not available and we can represent long values also by using int type only.\n",
        "\n",
        "3)\tIn Python there is no char data type. Hence we can represent char values also by using str type."
      ],
      "metadata": {
        "id": "nnfWFTdKRftH"
      }
    },
    {
      "cell_type": "markdown",
      "source": [
        "## None Data Type:\n",
        "•\tNone means nothing or No value associated.\n",
        "\n",
        "•\tIf the value is not available, then to handle such type of cases None introduced.\n",
        "\n",
        "•\tIt is something like null value in Java.\n",
        "\n",
        "Eg:\n",
        "\n"
      ],
      "metadata": {
        "id": "KSdapKtURrgq"
      }
    },
    {
      "cell_type": "code",
      "source": [
        "def m1(): \n",
        "  a=10\n",
        "\n",
        "print(m1()) \n",
        "# None"
      ],
      "metadata": {
        "colab": {
          "base_uri": "https://localhost:8080/"
        },
        "id": "O_aE833MRvuv",
        "outputId": "53e75070-09f9-4884-87a4-69e4bc07e773"
      },
      "execution_count": 45,
      "outputs": [
        {
          "output_type": "stream",
          "name": "stdout",
          "text": [
            "None\n"
          ]
        }
      ]
    },
    {
      "cell_type": "markdown",
      "source": [
        "## Escape Characters:\n",
        "\n",
        "In String literals we can use esacpe characters to associate a special meaning.\n",
        "\n",
        "The following are various important escape characters in Python\n",
        "\n",
        " \n",
        "1)\t\\n\n",
        "\n",
        "2)\t\\t\n",
        "\n",
        "3)\t\\r\n",
        "\n",
        "4)\t\\b\n",
        "\n",
        "5)\t\\f\n",
        "\n",
        "6)\t\\v\n",
        "\n",
        "7)  \\'\n",
        "\n",
        "8)  \\\"\n",
        "\n",
        "9)  \\\\\n",
        "....\n",
        " \n",
        "New Line\n",
        "\n",
        "Horizontal Tab\n",
        "\n",
        "Carriage Return\n",
        "\n",
        "Back Space\n",
        "\n",
        "Form Feed\n",
        "\n",
        "Vertical Tab\n",
        "\n",
        "Single Quote\n",
        "\n",
        "Double Quote\n",
        "\n",
        "Back Slash Symbol\n"
      ],
      "metadata": {
        "id": "tyFfMU66R5vx"
      }
    },
    {
      "cell_type": "markdown",
      "source": [
        "# OPERATORS\n",
        "Operator is a symbol that performs certain operations.\n",
        "\n",
        "Python provides the following set of operators\n",
        "\n",
        "1)\tArithmetic Operators\n",
        "\n",
        "2)\tRelational Operators OR Comparison Operators\n",
        "\n",
        "3)\tLogical operators\n",
        "\n",
        "4)\tBitwise oeprators\n",
        "\n",
        "5)\tAssignment operators\n",
        "\n",
        "6)\tSpecial operators\n",
        "\n",
        "1)\tArithmetic Operators:\n",
        "\n",
        " \n",
        "1)  +\n",
        "\n",
        "2)  –\n",
        "\n",
        "3)  *\n",
        "\n",
        "4)  /\n",
        "\n",
        "5)  %\n",
        "\n",
        "6)  //\n",
        "\n",
        "7)  **\n",
        "\n",
        "Eg: test.py\n",
        " \n",
        "Addition\n",
        "\n",
        "Subtraction\n",
        "\n",
        "Multiplication\n",
        "\n",
        "Division Operator\n",
        "\n",
        "Modulo Operator\n",
        "\n",
        "Floor Division Operator\n",
        "\n",
        "Exponent Operator OR Power Operator\n"
      ],
      "metadata": {
        "id": "6nZ7fI8aSURD"
      }
    },
    {
      "cell_type": "code",
      "source": [
        "a=10\n",
        "b=2\n",
        "print('a+b=',a+b)\n",
        "print('a-b=',a-b)\n",
        "print('a*b=',a*b)\n",
        "print('a/b=',a/b)\n",
        "print('a//b=',a//b)\n",
        "print('a%b=',a%b)\n",
        "print('a**b=',a**b)"
      ],
      "metadata": {
        "colab": {
          "base_uri": "https://localhost:8080/"
        },
        "id": "Wb4vgcuES4tE",
        "outputId": "58adcd0a-e453-4221-893b-1bcfc530f335"
      },
      "execution_count": 46,
      "outputs": [
        {
          "output_type": "stream",
          "name": "stdout",
          "text": [
            "a+b= 12\n",
            "a-b= 8\n",
            "a*b= 20\n",
            "a/b= 5.0\n",
            "a//b= 5\n",
            "a%b= 0\n",
            "a**b= 100\n"
          ]
        }
      ]
    },
    {
      "cell_type": "code",
      "source": [
        "a = 10.5\n",
        "b=2\n",
        "\n",
        "a+b # 12.5\n",
        "a-b # 8.5\n",
        "a*b #21.0\n",
        "a/b # 5.25\n",
        "a//b # 5.0\n",
        "a%b # 0.5\n",
        "a**b # 110.25\n"
      ],
      "metadata": {
        "colab": {
          "base_uri": "https://localhost:8080/"
        },
        "id": "v8GWGw2wS-29",
        "outputId": "eafa503e-c01c-41fc-f2d8-6c558cb18f4c"
      },
      "execution_count": 47,
      "outputs": [
        {
          "output_type": "execute_result",
          "data": {
            "text/plain": [
              "110.25"
            ]
          },
          "metadata": {},
          "execution_count": 47
        }
      ]
    },
    {
      "cell_type": "markdown",
      "source": [
        "Note:\n",
        "\n",
        "֍ / operator always performs floating point arithmetic. Hence it will always returns float value.\n",
        "\n",
        "֍ But Floor division (//) can perform both floating point and integral arithmetic. If arguments are int type then result is int type. If atleast one argument is float type then result is float type.\n",
        "\n",
        "Note:\n",
        "\n",
        "֍ We can use +,* operators for str type also.\n",
        "\n",
        "֍ If we want to use + operator for str type then compulsory both arguments should be str type only otherwise we will get error.\n"
      ],
      "metadata": {
        "id": "YsqkO3zyTYqx"
      }
    },
    {
      "cell_type": "code",
      "source": [
        "\"bangalore\"+10\n",
        "#\tTypeError: must be str, not int\n",
        "\"Jain\"+\"10\""
      ],
      "metadata": {
        "id": "cfMKldp7Tgbj"
      },
      "execution_count": null,
      "outputs": []
    },
    {
      "cell_type": "markdown",
      "source": [
        "֍ If we use * operator for str type then compulsory one argument should be int and other argument should be str type.\n",
        "\n"
      ],
      "metadata": {
        "id": "Z68kD4YKTkxG"
      }
    },
    {
      "cell_type": "code",
      "source": [
        "2*\"mahesh\" \n",
        "\"maheshrga\"*2\n",
        "2.5*\"mahesh\" \n",
        "# TypeError: can't multiply sequence by non-int of type 'float' \n",
        "\n",
        "\"mahesh\"*\"suresh\" \n",
        "# TypeError: can't multiply sequence by non-int of type 'str'\n",
        "\n"
      ],
      "metadata": {
        "colab": {
          "base_uri": "https://localhost:8080/",
          "height": 236
        },
        "id": "CKm9ac82Tqvy",
        "outputId": "3a913c3b-ac8e-40a5-e8d8-26166953dc95"
      },
      "execution_count": 48,
      "outputs": [
        {
          "output_type": "error",
          "ename": "TypeError",
          "evalue": "ignored",
          "traceback": [
            "\u001b[0;31m---------------------------------------------------------------------------\u001b[0m",
            "\u001b[0;31mTypeError\u001b[0m                                 Traceback (most recent call last)",
            "\u001b[0;32m<ipython-input-48-724bf68f8c27>\u001b[0m in \u001b[0;36m<module>\u001b[0;34m()\u001b[0m\n\u001b[1;32m      1\u001b[0m \u001b[0;36m2\u001b[0m\u001b[0;34m*\u001b[0m\u001b[0;34m\"mahesh\"\u001b[0m\u001b[0;34m\u001b[0m\u001b[0;34m\u001b[0m\u001b[0m\n\u001b[1;32m      2\u001b[0m \u001b[0;34m\"maheshrga\"\u001b[0m\u001b[0;34m*\u001b[0m\u001b[0;36m2\u001b[0m\u001b[0;34m\u001b[0m\u001b[0;34m\u001b[0m\u001b[0m\n\u001b[0;32m----> 3\u001b[0;31m \u001b[0;36m2.5\u001b[0m\u001b[0;34m*\u001b[0m\u001b[0;34m\"mahesh\"\u001b[0m\u001b[0;34m\u001b[0m\u001b[0;34m\u001b[0m\u001b[0m\n\u001b[0m\u001b[1;32m      4\u001b[0m \u001b[0;31m# TypeError: can't multiply sequence by non-int of type 'float'\u001b[0m\u001b[0;34m\u001b[0m\u001b[0;34m\u001b[0m\u001b[0;34m\u001b[0m\u001b[0m\n\u001b[1;32m      5\u001b[0m \u001b[0;34m\u001b[0m\u001b[0m\n",
            "\u001b[0;31mTypeError\u001b[0m: can't multiply sequence by non-int of type 'float'"
          ]
        }
      ]
    },
    {
      "cell_type": "markdown",
      "source": [
        " ` + ` ==>String Concatenation Operator\n",
        "\n",
        " ` * `  ==>String Multiplication Operator\n",
        "\n",
        "Note: For any number x,\n",
        "\n",
        "x/0 and x%0 always raises `\"ZeroDivisionError\"`\n",
        "\n"
      ],
      "metadata": {
        "id": "UJsxwQhwUDH1"
      }
    },
    {
      "cell_type": "code",
      "source": [
        "\n",
        "print(10/0)\n",
        "\n",
        "print(10.0/0)"
      ],
      "metadata": {
        "colab": {
          "base_uri": "https://localhost:8080/",
          "height": 218
        },
        "id": "KOITHLvHUP2h",
        "outputId": "2df05b75-5a7f-41d4-ee48-e0802b875681"
      },
      "execution_count": 49,
      "outputs": [
        {
          "output_type": "error",
          "ename": "ZeroDivisionError",
          "evalue": "ignored",
          "traceback": [
            "\u001b[0;31m---------------------------------------------------------------------------\u001b[0m",
            "\u001b[0;31mZeroDivisionError\u001b[0m                         Traceback (most recent call last)",
            "\u001b[0;32m<ipython-input-49-4bcc51ea3a81>\u001b[0m in \u001b[0;36m<module>\u001b[0;34m()\u001b[0m\n\u001b[1;32m      1\u001b[0m \u001b[0;34m\u001b[0m\u001b[0m\n\u001b[0;32m----> 2\u001b[0;31m \u001b[0mprint\u001b[0m\u001b[0;34m(\u001b[0m\u001b[0;36m10\u001b[0m\u001b[0;34m/\u001b[0m\u001b[0;36m0\u001b[0m\u001b[0;34m)\u001b[0m\u001b[0;34m\u001b[0m\u001b[0;34m\u001b[0m\u001b[0m\n\u001b[0m\u001b[1;32m      3\u001b[0m \u001b[0;34m\u001b[0m\u001b[0m\n\u001b[1;32m      4\u001b[0m \u001b[0mprint\u001b[0m\u001b[0;34m(\u001b[0m\u001b[0;36m10.0\u001b[0m\u001b[0;34m/\u001b[0m\u001b[0;36m0\u001b[0m\u001b[0;34m)\u001b[0m\u001b[0;34m\u001b[0m\u001b[0;34m\u001b[0m\u001b[0m\n",
            "\u001b[0;31mZeroDivisionError\u001b[0m: division by zero"
          ]
        }
      ]
    },
    {
      "cell_type": "markdown",
      "source": [
        "## Relational Operators: >, >=, <, <=\n",
        "\n",
        "\n"
      ],
      "metadata": {
        "id": "Gdh7lDLrUcdQ"
      }
    },
    {
      "cell_type": "code",
      "source": [
        "a=10\n",
        "b=20\n",
        "print(\"a > b is \",a>b)\n",
        "print(\"a >= b is \",a>=b)\n",
        "print(\"a < b is \",a<b)\n",
        "print(\"a <= b is \",a<=b)"
      ],
      "metadata": {
        "colab": {
          "base_uri": "https://localhost:8080/"
        },
        "id": "b8sddv2SUgO7",
        "outputId": "14221423-e2b5-4d06-849b-038e02251919"
      },
      "execution_count": 50,
      "outputs": [
        {
          "output_type": "stream",
          "name": "stdout",
          "text": [
            "a > b is  False\n",
            "a >= b is  False\n",
            "a < b is  True\n",
            "a <= b is  True\n"
          ]
        }
      ]
    },
    {
      "cell_type": "code",
      "source": [
        "print(True>True)  #False\n",
        "print(True>=True)  #True\n",
        "print(10 >True) #True\n",
        "print(False > True) #False\n",
        "\n",
        "print(10>'suresh')\n",
        "#\tTypeError: '>' not supported between instances of 'int' and 'str'\n",
        "\n",
        "\n",
        "a=10\n",
        "b=20\n",
        "if(a>b):\n",
        "  print(\"a is greater than b\")\n",
        "else:\n",
        "  print(\"a is not greater than b\")"
      ],
      "metadata": {
        "colab": {
          "base_uri": "https://localhost:8080/",
          "height": 305
        },
        "id": "mugNGqkAVAgX",
        "outputId": "85cb84f7-9f40-4045-d731-93398729790d"
      },
      "execution_count": 51,
      "outputs": [
        {
          "output_type": "stream",
          "name": "stdout",
          "text": [
            "False\n",
            "True\n",
            "True\n",
            "False\n"
          ]
        },
        {
          "output_type": "error",
          "ename": "TypeError",
          "evalue": "ignored",
          "traceback": [
            "\u001b[0;31m---------------------------------------------------------------------------\u001b[0m",
            "\u001b[0;31mTypeError\u001b[0m                                 Traceback (most recent call last)",
            "\u001b[0;32m<ipython-input-51-46b307b5ce42>\u001b[0m in \u001b[0;36m<module>\u001b[0;34m()\u001b[0m\n\u001b[1;32m      4\u001b[0m \u001b[0mprint\u001b[0m\u001b[0;34m(\u001b[0m\u001b[0;32mFalse\u001b[0m \u001b[0;34m>\u001b[0m \u001b[0;32mTrue\u001b[0m\u001b[0;34m)\u001b[0m \u001b[0;31m#False\u001b[0m\u001b[0;34m\u001b[0m\u001b[0;34m\u001b[0m\u001b[0m\n\u001b[1;32m      5\u001b[0m \u001b[0;34m\u001b[0m\u001b[0m\n\u001b[0;32m----> 6\u001b[0;31m \u001b[0mprint\u001b[0m\u001b[0;34m(\u001b[0m\u001b[0;36m10\u001b[0m\u001b[0;34m>\u001b[0m\u001b[0;34m'suresh'\u001b[0m\u001b[0;34m)\u001b[0m\u001b[0;34m\u001b[0m\u001b[0;34m\u001b[0m\u001b[0m\n\u001b[0m\u001b[1;32m      7\u001b[0m \u001b[0;31m#       TypeError: '>' not supported between instances of 'int' and 'str'\u001b[0m\u001b[0;34m\u001b[0m\u001b[0;34m\u001b[0m\u001b[0;34m\u001b[0m\u001b[0m\n\u001b[1;32m      8\u001b[0m \u001b[0;34m\u001b[0m\u001b[0m\n",
            "\u001b[0;31mTypeError\u001b[0m: '>' not supported between instances of 'int' and 'str'"
          ]
        }
      ]
    },
    {
      "cell_type": "markdown",
      "source": [
        "Note: Chaining of relational operators is possible. In the chaining, if all comparisons returns True then only result is True. If atleast one comparison returns False then the result is False\n",
        "\n"
      ],
      "metadata": {
        "id": "TydOggiXU5Jf"
      }
    },
    {
      "cell_type": "code",
      "source": [
        "\n",
        "print(10<20) #True\n",
        "print(10<20<30 ) #True\n",
        "print(10<20<30<40) #True\n",
        "print(10<20<30<40>50) #False\n"
      ],
      "metadata": {
        "colab": {
          "base_uri": "https://localhost:8080/"
        },
        "id": "ITIGy_rmVPid",
        "outputId": "7f2a2789-a6f0-455e-8df2-c326c1bfefcd"
      },
      "execution_count": 53,
      "outputs": [
        {
          "output_type": "stream",
          "name": "stdout",
          "text": [
            "True\n",
            "True\n",
            "True\n",
            "False\n"
          ]
        }
      ]
    },
    {
      "cell_type": "markdown",
      "source": [
        "\n",
        "3)\tEquality Operators: ==, !=\n",
        "We can apply these operators for any type even for incompatible types also.\n"
      ],
      "metadata": {
        "id": "24xSjVO1VRDE"
      }
    },
    {
      "cell_type": "code",
      "source": [
        "10==20\n",
        "#  False\n",
        "10!= 20\n",
        "#  True\n",
        "10==True\n",
        "#  False\n",
        "False==False\n",
        "#  True\n",
        "\"rakesh\"==\"rakesh\"\n",
        "# True\n",
        "10==\"rakesh\""
      ],
      "metadata": {
        "colab": {
          "base_uri": "https://localhost:8080/"
        },
        "id": "nkD5w3rCVSOO",
        "outputId": "54aeaac1-c96c-40bd-ea2c-47b3e7a1ace2"
      },
      "execution_count": 55,
      "outputs": [
        {
          "output_type": "execute_result",
          "data": {
            "text/plain": [
              "False"
            ]
          },
          "metadata": {},
          "execution_count": 55
        }
      ]
    },
    {
      "cell_type": "markdown",
      "source": [
        "We can apply relational operators for str types also.\n",
        "\n",
        "Eg 2:\n",
        "\n"
      ],
      "metadata": {
        "id": "giIZbwIzUiM7"
      }
    },
    {
      "cell_type": "code",
      "source": [
        "a=\"rakesh\"\n",
        "b=\"rakesh\"\n",
        "print(\"a > b is \",a>b)\n",
        "print(\"a >= b is \",a>=b)\n",
        "print(\"a < b is \",a<b)\n",
        "print(\"a <= b is \",a<=b)"
      ],
      "metadata": {
        "colab": {
          "base_uri": "https://localhost:8080/"
        },
        "id": "QYG8S82ZUjlL",
        "outputId": "c71064f6-a0b0-4155-fdfe-268caf67517b"
      },
      "execution_count": 54,
      "outputs": [
        {
          "output_type": "stream",
          "name": "stdout",
          "text": [
            "a > b is  False\n",
            "a >= b is  True\n",
            "a < b is  False\n",
            "a <= b is  True\n"
          ]
        }
      ]
    },
    {
      "cell_type": "markdown",
      "source": [
        "Note: Chaining concept is applicable for equality operators. If atleast one comparison returns False then the result is False. Otherwise the result is True.\n"
      ],
      "metadata": {
        "id": "RMchNROmVmh7"
      }
    },
    {
      "cell_type": "code",
      "source": [
        "\n",
        "10==20==30==40\n",
        "#\tFalse\n",
        "10==10==10==10\n",
        "#\tTrue"
      ],
      "metadata": {
        "colab": {
          "base_uri": "https://localhost:8080/"
        },
        "id": "RS5xp3ZNVoHy",
        "outputId": "aae7ccf1-1a09-499c-e6e3-28f3da1302e9"
      },
      "execution_count": 56,
      "outputs": [
        {
          "output_type": "execute_result",
          "data": {
            "text/plain": [
              "True"
            ]
          },
          "metadata": {},
          "execution_count": 56
        }
      ]
    },
    {
      "cell_type": "markdown",
      "source": [
        "## Logical Operators: and, or, not\n",
        "We can apply for all types.\n",
        "\n",
        "### For boolean Types Behaviour:\n",
        "\n",
        "` and ` : If both arguments are True then only result is True \n",
        "\n",
        "` or ` : If atleast one arugemnt is True then result is True \n",
        "\n",
        "` not ` : Complement\n",
        "\n",
        "\n"
      ],
      "metadata": {
        "id": "rtI65qzGVzej"
      }
    },
    {
      "cell_type": "code",
      "source": [
        "print(True and False) #False \n",
        "\n",
        "print(True or False) #True \n",
        "\n",
        "print(not False )#True\n",
        "\n"
      ],
      "metadata": {
        "colab": {
          "base_uri": "https://localhost:8080/"
        },
        "id": "eVnJh3rkWUmz",
        "outputId": "82207bf3-bb28-4177-b457-e4d150cfb3b5"
      },
      "execution_count": 57,
      "outputs": [
        {
          "output_type": "stream",
          "name": "stdout",
          "text": [
            "False\n",
            "True\n",
            "True\n"
          ]
        }
      ]
    },
    {
      "cell_type": "markdown",
      "source": [
        "### For non-boolean Types Behaviour:\n",
        "0 means False\n",
        "\n",
        "non-zero means True\n",
        "\n",
        "empty string is always treated as False\n",
        "\n",
        "`x and y`:\n",
        "\n",
        "If x is evaluates to false return x otherwise return y  Eg:\n",
        "\n",
        "`10 and 20`\n",
        "\n",
        "`0 and 20`\n",
        "\n",
        "If first argument is zero then result is zero otherwise result is y\n",
        "\n",
        "`x or y`:\n",
        "\n",
        "If x evaluates to True then result is x otherwise result is y\n",
        "\n",
        "`10 or 20`  # 10\n",
        "\n",
        "`0 or 20` #20"
      ],
      "metadata": {
        "id": "IJe6JHUlWWWX"
      }
    },
    {
      "cell_type": "markdown",
      "source": [
        "`not x`:\n",
        "\n",
        "If x is evalutates to False then result is True otherwise False\n",
        "\n",
        "not 10 #False \n",
        "\n",
        "not 0 #True\n",
        "\n",
        "Eg:\n",
        "\n"
      ],
      "metadata": {
        "id": "_1-GRrw4WzxR"
      }
    },
    {
      "cell_type": "code",
      "source": [
        "print(\"rakesh\" and \"suresh\") #==>suresh\n",
        "print(\"\" and \"rakesh\") #==>\"\"\n",
        "print(\"rakesh\" and \"\") #==>\"\"\n",
        "print(\"\" or \"rakesh\") #==>\"durga\"\n",
        "print(\"rakesh\" or \"\") #==>\"durga\"\n",
        "print(not \"\") #==>True\n",
        "print(not \"rakesh\") #==>False"
      ],
      "metadata": {
        "colab": {
          "base_uri": "https://localhost:8080/"
        },
        "id": "mRd_LDq8W8q1",
        "outputId": "c57808a7-6c68-461f-c94b-df1fceb30307"
      },
      "execution_count": 58,
      "outputs": [
        {
          "output_type": "stream",
          "name": "stdout",
          "text": [
            "suresh\n",
            "\n",
            "\n",
            "rakesh\n",
            "rakesh\n",
            "True\n",
            "False\n"
          ]
        }
      ]
    },
    {
      "cell_type": "markdown",
      "source": [
        "## Bitwise Operators:\n",
        "\n",
        "֍ We can apply these operators bitwise. \n",
        "\n",
        "֍ These operators are applicable only for int and boolean types.\n",
        "\n",
        "֍ By mistake if we are trying to apply for any other type then we will get `Error`.\n",
        "\n",
        "֍ &, |, ^, ~, <<, >>\n",
        "\n",
        "\n"
      ],
      "metadata": {
        "id": "ShDNXCGVXvkz"
      }
    },
    {
      "cell_type": "code",
      "source": [
        "print(4&5) #Valid\n",
        "\n",
        "print(10.5 & 5.6)\n",
        "# TypeError: unsupported operand type(s) for &: 'float' and 'float'\n",
        "\n",
        "print(True & True) #Valid\n",
        "\n"
      ],
      "metadata": {
        "colab": {
          "base_uri": "https://localhost:8080/",
          "height": 253
        },
        "id": "Zs9li1nGX1pM",
        "outputId": "a66e845a-5860-4f56-9541-280b3fed80ea"
      },
      "execution_count": 59,
      "outputs": [
        {
          "output_type": "stream",
          "name": "stdout",
          "text": [
            "4\n"
          ]
        },
        {
          "output_type": "error",
          "ename": "TypeError",
          "evalue": "ignored",
          "traceback": [
            "\u001b[0;31m---------------------------------------------------------------------------\u001b[0m",
            "\u001b[0;31mTypeError\u001b[0m                                 Traceback (most recent call last)",
            "\u001b[0;32m<ipython-input-59-771df8127339>\u001b[0m in \u001b[0;36m<module>\u001b[0;34m()\u001b[0m\n\u001b[1;32m      1\u001b[0m \u001b[0mprint\u001b[0m\u001b[0;34m(\u001b[0m\u001b[0;36m4\u001b[0m\u001b[0;34m&\u001b[0m\u001b[0;36m5\u001b[0m\u001b[0;34m)\u001b[0m \u001b[0;31m#Valid\u001b[0m\u001b[0;34m\u001b[0m\u001b[0;34m\u001b[0m\u001b[0m\n\u001b[1;32m      2\u001b[0m \u001b[0;34m\u001b[0m\u001b[0m\n\u001b[0;32m----> 3\u001b[0;31m \u001b[0mprint\u001b[0m\u001b[0;34m(\u001b[0m\u001b[0;36m10.5\u001b[0m \u001b[0;34m&\u001b[0m \u001b[0;36m5.6\u001b[0m\u001b[0;34m)\u001b[0m\u001b[0;34m\u001b[0m\u001b[0;34m\u001b[0m\u001b[0m\n\u001b[0m\u001b[1;32m      4\u001b[0m \u001b[0;31m# TypeError: unsupported operand type(s) for &: 'float' and 'float'\u001b[0m\u001b[0;34m\u001b[0m\u001b[0;34m\u001b[0m\u001b[0;34m\u001b[0m\u001b[0m\n\u001b[1;32m      5\u001b[0m \u001b[0;34m\u001b[0m\u001b[0m\n",
            "\u001b[0;31mTypeError\u001b[0m: unsupported operand type(s) for &: 'float' and 'float'"
          ]
        }
      ]
    },
    {
      "cell_type": "markdown",
      "source": [
        "֍ ` & ` : If both bits are 1 then only result is 1 otherwise result is 0 \n",
        "\n",
        "֍ ` | `: If atleast one bit is 1 then result is 1 otherwise result is 0\n",
        "\n",
        "֍ ` ^ ` : If bits are different then only result is 1 otherwise result is 0\n",
        "\n",
        "֍ ` ~ ` : bitwise complement operator\n",
        "\n",
        "֍ ` << ` : Bitwise Left Shift\n",
        "\n",
        "֍ ` >> ` : Bitwise Right Shift\n",
        "\n"
      ],
      "metadata": {
        "id": "tP2za_VeZ5Jx"
      }
    },
    {
      "cell_type": "code",
      "source": [
        "print(4&5) #4\n",
        "\n",
        "print(4|5) #5\n",
        "\n",
        "print(4^5) #1"
      ],
      "metadata": {
        "colab": {
          "base_uri": "https://localhost:8080/"
        },
        "id": "CClU-kUTZ6Xy",
        "outputId": "0962114f-0366-4a59-efca-8c26cf14e5b5"
      },
      "execution_count": 60,
      "outputs": [
        {
          "output_type": "stream",
          "name": "stdout",
          "text": [
            "4\n",
            "5\n",
            "1\n"
          ]
        }
      ]
    },
    {
      "cell_type": "markdown",
      "source": [
        "## Bitwise Complement Operator (~):\n",
        "\n",
        "We have to apply complement for total bits.  Eg: print(~5)-6\n",
        "\n",
        "Note:\n",
        "\n",
        "֍ The most significant bit acts as sign bit. 0 value represents +ve number where as 1 represents -ve value.\n",
        "\n",
        "֍ Positive numbers will be repesented directly in the memory where as -ve numbers will be represented indirectly in 2's complement form.\n",
        "\n",
        "6)\tShift Operators:\n",
        "\n",
        "` << ` Left Shift Operator\n",
        "\n",
        "After shifting the empty cells we have to fill with zero \n",
        "\n",
        "`>>>print(10<<2) ` \n",
        "\n",
        "`#40`\n",
        "\n",
        "`0\t0\t1\t0\t1\t0\t0\t0`\n",
        "\n",
        "` >> ` Right Shift Operator \n",
        "\n",
        "After shifting the empty cells we have to fill with sign bit.( 0 for +ve and 1 for -ve) \n",
        "\n",
        "`print(10>>2)`\n",
        "\n",
        "`#2`\n",
        "\n",
        "\n",
        "\n",
        "`0\t0\t0\t0\t0\t0\t1\t0`\n",
        "\n"
      ],
      "metadata": {
        "id": "ZT1eJ7S5aDqK"
      }
    },
    {
      "cell_type": "markdown",
      "source": [
        "We can apply bitwise operators for boolean types also\n"
      ],
      "metadata": {
        "id": "awbpUpEfaoGd"
      }
    },
    {
      "cell_type": "code",
      "source": [
        "print(True & False) #False\n",
        "print(True | False) #True\n",
        "print(True ^ False) #True\n",
        "print(~True) #-2\n",
        "print(True<<2) #4\n",
        "print(True>>2) #0"
      ],
      "metadata": {
        "colab": {
          "base_uri": "https://localhost:8080/"
        },
        "id": "gh7eaUo_apud",
        "outputId": "0232d5bf-d595-4422-c5d1-972b04152e30"
      },
      "execution_count": 61,
      "outputs": [
        {
          "output_type": "stream",
          "name": "stdout",
          "text": [
            "False\n",
            "True\n",
            "True\n",
            "-2\n",
            "4\n",
            "0\n"
          ]
        }
      ]
    },
    {
      "cell_type": "markdown",
      "source": [
        "## Assignment Operators:\n",
        "\n",
        "֍ We can use assignment operator to assign value to the variable.\n",
        "\n",
        "Eg: `x = 10`\n",
        "\n",
        "֍ We can combine asignment operator with some other operator to form compound assignment operator.\n",
        "\n",
        "Eg: `x += 10 #x = x+10`\n",
        "\n",
        "The following is the list of all possible compound assignment operators in Python.\n",
        "\n",
        "\t+=\n",
        "\n",
        "\t-=\n",
        "\n",
        "\t*=\n",
        "\n",
        "\t/=\n",
        "\n",
        "\t%=\n",
        "\n",
        "\t//=\n",
        "\n",
        "\t**=\n",
        "\n",
        "\t&=\n",
        "\n",
        "\t|=\n",
        "\n",
        "\t^=\n",
        "\n",
        "\t>>=\n",
        "\n",
        "\t<<=\n",
        "\n"
      ],
      "metadata": {
        "id": "_N6IZSJca1Uq"
      }
    },
    {
      "cell_type": "code",
      "source": [
        "x=10\n",
        "x+=20\n",
        "print(x) #30\n",
        "\n",
        "x=10\n",
        "x&=5\n",
        "print(x) #0\n"
      ],
      "metadata": {
        "colab": {
          "base_uri": "https://localhost:8080/"
        },
        "id": "yqnxGcDkbQG4",
        "outputId": "f85415db-5755-483c-bcbf-7a07a0b50573"
      },
      "execution_count": 1,
      "outputs": [
        {
          "output_type": "stream",
          "name": "stdout",
          "text": [
            "30\n",
            "0\n"
          ]
        }
      ]
    },
    {
      "cell_type": "markdown",
      "source": [
        "## Ternary Operator OR Conditional Operator\n",
        "\n",
        "Syntax: `x = firstValue if condition else secondValue`\n",
        "\n",
        "If condition is True then firstValue will be considered else secondValue will be considered.\n",
        "\n",
        "Eg 1:\n",
        "\n"
      ],
      "metadata": {
        "id": "mCcBUCqAbeEJ"
      }
    },
    {
      "cell_type": "code",
      "source": [
        "a,b=10,20\n",
        "x=30 if a<b else 40\n",
        "print(x)\t#30\n",
        "\n",
        "#Eg 2: Read two numbers from the keyboard and print minimum value\n",
        "\n",
        "a=int(input(\"Enter First Number:\"))\n",
        "b=int(input(\"Enter Second Number:\"))\n",
        "min=a if a<b else b\n",
        "print(\"Minimum Value:\",min)\n",
        "\n"
      ],
      "metadata": {
        "colab": {
          "base_uri": "https://localhost:8080/"
        },
        "id": "_P42NCu4bjs9",
        "outputId": "2ecc6e98-068c-4270-c8ed-69129448b46f"
      },
      "execution_count": 2,
      "outputs": [
        {
          "output_type": "stream",
          "name": "stdout",
          "text": [
            "30\n",
            "Enter First Number:45\n",
            "Enter Second Number:7\n",
            "Minimum Value: 7\n"
          ]
        }
      ]
    },
    {
      "cell_type": "markdown",
      "source": [
        "Note: Nesting of Ternary Operator is Possible."
      ],
      "metadata": {
        "id": "nFtWRaexbyws"
      }
    },
    {
      "cell_type": "code",
      "source": [
        "#Q) Program for Minimum of 3 Numbers\n",
        "\n",
        "a=int(input(\"Enter First Number:\"))\n",
        "b=int(input(\"Enter Second Number:\"))\n",
        "c=int(input(\"Enter Third Number:\"))\n",
        "min=a if a<b and a<c else b if b<c else c\n",
        "print(\"Minimum Value:\",min)\n",
        "\n",
        "#Q) Program for Maximum of 3 Numbers\n",
        "\n",
        "a=int(input(\"Enter First Number:\"))\n",
        "b=int(input(\"Enter Second Number:\"))\n",
        "c=int(input(\"Enter Third Number:\"))\n",
        "max=a if a>b and a>c else b if b>c else c\n",
        "print(\"Maximum Value:\",max)"
      ],
      "metadata": {
        "colab": {
          "base_uri": "https://localhost:8080/"
        },
        "id": "roaeIWGPb1Wq",
        "outputId": "75aced49-99b8-4137-8061-b2f6d82c0e62"
      },
      "execution_count": 3,
      "outputs": [
        {
          "output_type": "stream",
          "name": "stdout",
          "text": [
            "Enter First Number:45\n",
            "Enter Second Number:56\n",
            "Enter Third Number:67\n",
            "Minimum Value: 45\n",
            "Enter First Number:4\n",
            "Enter Second Number:9\n",
            "Enter Third Number:8\n",
            "Maximum Value: 9\n"
          ]
        }
      ]
    },
    {
      "cell_type": "markdown",
      "source": [
        "## Special Operators:\n",
        "\n",
        "Python defines the following 2 special operators\n",
        "\n",
        "1)\tIdentity Operators\n",
        "\n",
        "2)\tMembership operators\n",
        "\n",
        "### 1)\tIdentity Operators\n",
        "•\tWe can use identity operators for address comparison.\n",
        "•\tThere are 2 identity operators are available\n",
        "#### 1)\tis\n",
        "#### 2)\tis not\n",
        "\n",
        "•\tr1 is r2  returns True if both r1 and r2 are pointing to the same object.\n",
        "\n",
        "•\tr1 is not r2 returns True if both r1 and r2 are not pointing to the same object.\n",
        "\n",
        "Eg:\n",
        "\n",
        "\n"
      ],
      "metadata": {
        "id": "2luxey3CcHxX"
      }
    },
    {
      "cell_type": "code",
      "source": [
        "a=10\n",
        "b=10\n",
        "print(a is b)\t#True\n",
        "x=True\n",
        "y=True\t\n",
        "print( x is y)\t#True"
      ],
      "metadata": {
        "colab": {
          "base_uri": "https://localhost:8080/"
        },
        "id": "pBGf037ScTtD",
        "outputId": "f82a00fe-551b-403d-9ba0-e459d460b05e"
      },
      "execution_count": 5,
      "outputs": [
        {
          "output_type": "stream",
          "name": "stdout",
          "text": [
            "True\n",
            "True\n"
          ]
        }
      ]
    },
    {
      "cell_type": "code",
      "source": [
        "a=\"jain\"\n",
        "b=\"jain\"\n",
        "print(id(a))\n",
        "print(id(b))\n",
        "print(a is b)\n",
        "\n",
        "#Eg:\n",
        "\n",
        "list1=[\"one\",\"two\",\"three\"]\n",
        "list2=[\"one\",\"two\",\"three\"]\n",
        "print(id(list1))\n",
        "print(id(list2))\n",
        "print(list1 is list2)  #False\n",
        "print(list1 is not list2)  #True\n",
        "print(list1 == list2)\t#True\n",
        "\n",
        "#Note: We can use is operator for address comparison where as == operator for content comparison.\n",
        "\n"
      ],
      "metadata": {
        "colab": {
          "base_uri": "https://localhost:8080/"
        },
        "id": "asiv3YGUcsKU",
        "outputId": "d268814e-6de1-42fd-fc65-58b8459d958c"
      },
      "execution_count": 6,
      "outputs": [
        {
          "output_type": "stream",
          "name": "stdout",
          "text": [
            "140574343165168\n",
            "140574343165168\n",
            "True\n",
            "140574343170960\n",
            "140574343292240\n",
            "False\n",
            "True\n",
            "True\n"
          ]
        }
      ]
    },
    {
      "cell_type": "markdown",
      "source": [
        "2)Membership Operators:\n",
        "\n",
        "•\tWe can use Membership operators to check whether the given object present in the given collection. (It may be String, List, Set, Tuple OR Dict)\n",
        "\n",
        "` in ` : Returns True if the given object present in the specified Collection\n",
        "\n",
        "` not in ` : Retruns True if the given object not present in the specified Collection\n"
      ],
      "metadata": {
        "id": "Vagt2CZXcwPP"
      }
    },
    {
      "cell_type": "markdown",
      "source": [
        "# Mathematical Functions (math Module)\n",
        "\n",
        "֍ A Module is collection of functions, variables and classes etc.\n",
        "\n",
        "֍ math is a module that contains several functions to perform mathematical operations.\n",
        "\n",
        "֍ If we want to use any module in Python, first we have to import that module.  import math\n",
        "\n",
        "֍ Once we import a module then we can call any function of that module.\n",
        "\n",
        "\n"
      ],
      "metadata": {
        "id": "Vn0vxF7RdU_l"
      }
    },
    {
      "cell_type": "code",
      "source": [
        "import math\n",
        "print(math.sqrt(16))\n",
        "print(math.pi)"
      ],
      "metadata": {
        "colab": {
          "base_uri": "https://localhost:8080/"
        },
        "id": "VHye5r-Kdart",
        "outputId": "82dd4301-5369-4bc2-f291-6750c4f83ff7"
      },
      "execution_count": 7,
      "outputs": [
        {
          "output_type": "stream",
          "name": "stdout",
          "text": [
            "4.0\n",
            "3.141592653589793\n"
          ]
        }
      ]
    },
    {
      "cell_type": "markdown",
      "source": [
        "֍ We can create alias name by using as keyword. import math as m\n",
        "֍ Once we create alias name, by using that we can access functions and variables of that module.\n"
      ],
      "metadata": {
        "id": "j8af9aZodh4e"
      }
    },
    {
      "cell_type": "code",
      "source": [
        "import math as m\n",
        "print(m.sqrt(16))\n",
        "print(m.pi)"
      ],
      "metadata": {
        "colab": {
          "base_uri": "https://localhost:8080/"
        },
        "id": "NtOnbKXcdjyM",
        "outputId": "f9ad75ca-305b-4104-9571-6494f35521ae"
      },
      "execution_count": 8,
      "outputs": [
        {
          "output_type": "stream",
          "name": "stdout",
          "text": [
            "4.0\n",
            "3.141592653589793\n"
          ]
        }
      ]
    },
    {
      "cell_type": "markdown",
      "source": [
        "\n",
        "֍ We can import a particular member of a module explicitly as follows \n",
        "\n",
        "`from math import sqrt`\n",
        "\n",
        "`from math import sqrt, pi`\n",
        "\n",
        "֍ If we import a member explicitly then it is not required to use module name while accessing.\n"
      ],
      "metadata": {
        "id": "KNqWvKgKdlVR"
      }
    },
    {
      "cell_type": "code",
      "source": [
        "from math import sqrt, pi\n",
        "print(sqrt(16))\n",
        "print(pi)"
      ],
      "metadata": {
        "colab": {
          "base_uri": "https://localhost:8080/"
        },
        "id": "-klw4MnNdm0B",
        "outputId": "53173b80-41a7-40c0-f809-880c283a3124"
      },
      "execution_count": 10,
      "outputs": [
        {
          "output_type": "stream",
          "name": "stdout",
          "text": [
            "4.0\n",
            "3.141592653589793\n"
          ]
        }
      ]
    },
    {
      "cell_type": "code",
      "source": [
        "x=\"hello learning Python is very easy!!!\"\n",
        "print('h' in x)\t#True\n",
        "print('d' in x)\t#False\n",
        "print('d' not in x)\t#True\n",
        "print('Python' in x)\t#True\n",
        "\n",
        "\n",
        "list1=[\"sunny\",\"bunny\",\"chinny\",\"pinny\"]\n",
        "print(\"sunny\" in list1) #True\n",
        "print(\"tunny\" in list1) #False\n",
        "print(\"tunny\" not in list1)  #True"
      ],
      "metadata": {
        "colab": {
          "base_uri": "https://localhost:8080/"
        },
        "id": "q6ina9cscz88",
        "outputId": "5d1654c9-7f91-4f43-ecc1-7c664537fb61"
      },
      "execution_count": 11,
      "outputs": [
        {
          "output_type": "stream",
          "name": "stdout",
          "text": [
            "True\n",
            "False\n",
            "True\n",
            "True\n",
            "True\n",
            "False\n",
            "True\n"
          ]
        }
      ]
    },
    {
      "cell_type": "markdown",
      "source": [
        "### Important functions of math\n",
        "\n",
        "ceil(x)\n",
        "\n",
        "floor(x)\n",
        "\n",
        "pow(x,y)\n",
        "\n",
        "factorial(x)\n",
        "\n",
        "trunc(x)\n",
        "\n",
        "gcd(x,y)\n",
        "\n",
        "sin(x)\n",
        "\n",
        "cos(x)\n",
        "\n",
        "tan(x) "
      ],
      "metadata": {
        "id": "ioCxayGweLav"
      }
    },
    {
      "cell_type": "markdown",
      "source": [
        "# Write a Python Program to find Area of Circle\tpi*r**2"
      ],
      "metadata": {
        "id": "33xTV0e3eage"
      }
    },
    {
      "cell_type": "markdown",
      "source": [
        ""
      ],
      "metadata": {
        "id": "fDsJRdK8etiB"
      }
    },
    {
      "cell_type": "code",
      "source": [
        "from math import pi\n",
        "r = 16\n",
        "print(\"Area of Circle is :\",pi*r**2)"
      ],
      "metadata": {
        "colab": {
          "base_uri": "https://localhost:8080/"
        },
        "id": "n1uXzvKIehY1",
        "outputId": "71fd5f06-b9c5-47c0-8a8b-363af3a9eae5"
      },
      "execution_count": 12,
      "outputs": [
        {
          "output_type": "stream",
          "name": "stdout",
          "text": [
            "Area of Circle is : 804.247719318987\n"
          ]
        }
      ]
    },
    {
      "cell_type": "markdown",
      "source": [
        "# INPUT AND OUTPUT STATEMENTS\n",
        "\n",
        "Reading Dynamic Input from the Keyboard:\n",
        "\n",
        "In Python2 the following 2 functions are available to read dynamic input from the keyboard.\n",
        "\n",
        "1)\traw_input()\n",
        "2)\tinput()\n",
        "\n",
        "1)raw_input():\n",
        "\n",
        "This function always reads the data from the keyboard in the form of String Format. We have to convert that string type to our required type by using the corresponding type casting methods.\n",
        "\n",
        "Eg:\n",
        "\n",
        "\n",
        "2)input():\n",
        "\n",
        "input() function can be used to read data directly in our required format.We are not required to perform type casting.\n",
        "\n",
        " \n",
        "\n",
        "10 : int \n",
        "\"durga\" : str\n",
        "10.5 : float \n",
        "True : bool\n",
        "\n",
        "***Note:\n",
        "\n",
        "•\tBut in Python 3 we have only input() method and raw_input() method is not available.\n",
        "\n",
        "•\tPython3 input() function behaviour exactly same as raw_input() method of Python2.\n",
        "\n",
        "i.e every input value is treated as str type only.\n",
        "\n",
        "•\traw_input() function of Python 2 is renamed as input() function in Python 3.\n",
        "\n",
        "\n"
      ],
      "metadata": {
        "id": "f5m0ahqjeugS"
      }
    },
    {
      "cell_type": "code",
      "source": [
        "type(input(\"Enter value:\"))\n",
        "#Enter value:10\n",
        "#<class 'str'>\n",
        "\n",
        "#Enter value:10.5\n",
        "#<class 'str'>"
      ],
      "metadata": {
        "colab": {
          "base_uri": "https://localhost:8080/"
        },
        "id": "2btjQeqNfSoQ",
        "outputId": "d1c70e18-d7f8-4000-a609-c056b83e7107"
      },
      "execution_count": 14,
      "outputs": [
        {
          "name": "stdout",
          "output_type": "stream",
          "text": [
            "Enter value:12\n"
          ]
        },
        {
          "output_type": "execute_result",
          "data": {
            "text/plain": [
              "str"
            ]
          },
          "metadata": {},
          "execution_count": 14
        }
      ]
    },
    {
      "cell_type": "markdown",
      "source": [
        "# Q) Write a program to read 2 numbers from the keyboard and print sum\n",
        "\n",
        "# Q) Write a Program to read Employee Data from the Keyboard and  print that Data\n",
        "\n",
        "# How to read multiple values from the keyboard in a  single line:"
      ],
      "metadata": {
        "id": "4ruTbgyKf02i"
      }
    },
    {
      "cell_type": "code",
      "source": [
        "a,b = [int(x) for x in input(\"Enter 2 numbers :\").split()]\n",
        "print(\"Product is :\", a*b)"
      ],
      "metadata": {
        "colab": {
          "base_uri": "https://localhost:8080/"
        },
        "id": "pYm_yPurgf0h",
        "outputId": "823a4702-4e25-44cd-9665-3993331620d4"
      },
      "execution_count": 15,
      "outputs": [
        {
          "output_type": "stream",
          "name": "stdout",
          "text": [
            "Enter 2 numbers :34 5\n",
            "Product is : 170\n"
          ]
        }
      ]
    },
    {
      "cell_type": "markdown",
      "source": [
        "# Write a program to read 3 float numbers from the keyboard  with, seperator and print their sum\n"
      ],
      "metadata": {
        "id": "FKCdGdNIgxo5"
      }
    },
    {
      "cell_type": "markdown",
      "source": [
        "# Output Statements:\n",
        "\n",
        "## Form-1: `print() `\n",
        "\n",
        "without any argument Just it prints new line character\n",
        "\n",
        "## Form-2:\n",
        "\n",
        "\n"
      ],
      "metadata": {
        "id": "SYDlGvoChRP3"
      }
    },
    {
      "cell_type": "code",
      "source": [
        "# print(String):\n",
        "print(\"Hello World\")\n",
        "\n",
        "#We can use escape characters also\n",
        "print(\"Hello \\n World\")\n",
        "print(\"Hello\\tWorld\")\n",
        "\n",
        "#We can use repetetion operator (*) in the string\n",
        "print(10*\"Hello\")\n",
        "print(\"Hello\"*10)\n",
        "\n",
        "#  We can use + operator also\n",
        "print(\"Hello\"+\"World\")\n",
        "\n"
      ],
      "metadata": {
        "colab": {
          "base_uri": "https://localhost:8080/"
        },
        "id": "Wj-8WazVhdkP",
        "outputId": "e1e184db-f0b4-42be-979f-1bdef03f13b2"
      },
      "execution_count": 17,
      "outputs": [
        {
          "output_type": "stream",
          "name": "stdout",
          "text": [
            "Hello World\n",
            "Hello \n",
            " World\n",
            "Hello\tWorld\n",
            "HelloHelloHelloHelloHelloHelloHelloHelloHelloHello\n",
            "HelloHelloHelloHelloHelloHelloHelloHelloHelloHello\n",
            "HelloWorld\n"
          ]
        }
      ]
    },
    {
      "cell_type": "markdown",
      "source": [
        "\n",
        "Note:\n",
        "֍ If both arguments are String type then ` + ` operator acts as `concatenation operator`.\n",
        "\n",
        "֍ If one argument is string type and second is any other type like int then we will get Error.\n",
        "\n",
        "֍ If both arguments are number type then + operator acts as arithmetic addition operator.\n",
        "\n",
        "Note:\n",
        "\n",
        "```python\n",
        "print(\"Hello\"+\"World\")`\n",
        "print(\"Hello\",\"World\")\n",
        "```\n",
        "```console\n",
        "HelloWorld \n",
        "Hello World\n",
        "```\n",
        "\n"
      ],
      "metadata": {
        "id": "PeDynccdhw9P"
      }
    },
    {
      "cell_type": "code",
      "source": [
        "\n",
        "print(\"Hello\"+\"World\")\n",
        "print(\"Hello\",\"World\")"
      ],
      "metadata": {
        "colab": {
          "base_uri": "https://localhost:8080/"
        },
        "id": "HKhk2EVI7JX4",
        "outputId": "f2f5dc13-2870-4e10-a532-2d92adf3642c"
      },
      "execution_count": 22,
      "outputs": [
        {
          "output_type": "stream",
          "name": "stdout",
          "text": [
            "HelloWorld\n",
            "Hello World\n"
          ]
        }
      ]
    },
    {
      "cell_type": "markdown",
      "source": [
        "## Form-3: print() with variable number of arguments\n",
        "\n",
        "```python\n",
        "a,b,c=10,20,30\n",
        "print(a,b,c,sep=',')\n",
        "print(a,b,c,sep=':')\n",
        "```\n",
        "```console\n",
        "The Values are : 10 20 30\n",
        "```\n",
        "\n",
        "By default output values are seperated by space. If we want we can specify seperator by using `sep` attribute\n",
        "\n",
        "\n",
        "\n",
        "```console\n",
        "D:\\Python_classes>py test.py 10,20,30\n",
        "10:20:30\n",
        "```\n"
      ],
      "metadata": {
        "id": "XevuCSUL6-Cb"
      }
    },
    {
      "cell_type": "code",
      "source": [
        "a,b,c=10,20,30\n",
        "print(a,b,c,sep=',')\n",
        "print(a,b,c,sep=':')"
      ],
      "metadata": {
        "colab": {
          "base_uri": "https://localhost:8080/"
        },
        "id": "4bFTmanq7Rw8",
        "outputId": "21935f25-1be7-48dd-fb79-99116588d18d"
      },
      "execution_count": 23,
      "outputs": [
        {
          "output_type": "stream",
          "name": "stdout",
          "text": [
            "10,20,30\n",
            "10:20:30\n"
          ]
        }
      ]
    },
    {
      "cell_type": "markdown",
      "source": [
        "## Form-4:print() with end attribute\n",
        "```python\n",
        "print(\"Hello\")\n",
        "print(\"Durga\")\n",
        "print(\"Soft\")\n",
        "```\n",
        "```console\n",
        "Hello Durga Soft\n",
        "```\n",
        "If we want output in the same line with space\n",
        "```python\n",
        "1)  print(\"Hello\",end=' ')\n",
        "2)\tprint(\"Durga\",end=' ')\n",
        "3)\tprint(\"Soft\")\n",
        "```\n",
        "```console\n",
        "Hello Durga Soft\n",
        "```\n",
        "\n",
        "Note: The default value for end attribute is \\n, which is nothing but new line character.\n",
        "\n"
      ],
      "metadata": {
        "id": "4LCjCDv066gV"
      }
    },
    {
      "cell_type": "code",
      "source": [
        "\n",
        "print(\"Hello\")\n",
        "print(\"Rakesh\")\n",
        "print(\"Soft\")\n",
        "\n",
        "print(\"Hello\",end=' ')\n",
        "print(\"Rakesh\",end=' ')\n",
        "print(\"Soft\")\n"
      ],
      "metadata": {
        "colab": {
          "base_uri": "https://localhost:8080/"
        },
        "id": "ywySDMiV7Viv",
        "outputId": "8a640807-085c-4665-f0ff-673b231036db"
      },
      "execution_count": 24,
      "outputs": [
        {
          "output_type": "stream",
          "name": "stdout",
          "text": [
            "Hello\n",
            "Rakesh\n",
            "Soft\n",
            "Hello Rakesh Soft\n"
          ]
        }
      ]
    },
    {
      "cell_type": "markdown",
      "source": [
        "## Form-5: print(object) statement\n",
        "\n",
        "We can pass any object (like list, tuple, set etc) as argument to the print() statement.\n",
        "\n",
        "```python\n",
        "l=[10,20,30,40]\n",
        "t=(10,20,30,40)\n",
        "print(l)\n",
        "print(t)\n",
        "```\n"
      ],
      "metadata": {
        "id": "DLFGtvph634f"
      }
    },
    {
      "cell_type": "code",
      "source": [
        "l=[10,20,30,40]\n",
        "t=(10,20,30,40)\n",
        "print(l)\n",
        "print(t)"
      ],
      "metadata": {
        "colab": {
          "base_uri": "https://localhost:8080/"
        },
        "id": "9mAJoGee7f-h",
        "outputId": "c064ac61-5d19-431e-fe2c-12c5cc4508f6"
      },
      "execution_count": 25,
      "outputs": [
        {
          "output_type": "stream",
          "name": "stdout",
          "text": [
            "[10, 20, 30, 40]\n",
            "(10, 20, 30, 40)\n"
          ]
        }
      ]
    },
    {
      "cell_type": "markdown",
      "source": [
        "## Form-6: print(String, variable list)\n",
        "\n",
        "We can use print() statement with String and any number of arguments.\n",
        "```python\n",
        "s  = \"Durga\"\n",
        "a = 48\n",
        "s1 =\"Java\"\n",
        "s2 =\"Python\"\n",
        "print(\"Hello\",s,\"Your Age is\",a)\n",
        "print(\"You are teaching\",s1,\"and\",s2)\n",
        "```\n",
        "```console\n",
        "Hello Durga Your Age is 48\n",
        "You are teaching java and Python\n",
        "```\n"
      ],
      "metadata": {
        "id": "h4RPuoNp61az"
      }
    },
    {
      "cell_type": "code",
      "source": [
        "s  = \"Rakesh\"\n",
        "a = 48\n",
        "s1 =\"Java\"\n",
        "s2 =\"Python\"\n",
        "print(\"Hello\",s,\"Your Age is\",a)\n",
        "print(\"You are teaching\",s1,\"and\",s2)"
      ],
      "metadata": {
        "colab": {
          "base_uri": "https://localhost:8080/"
        },
        "id": "YUhbFVmf7i19",
        "outputId": "b8317701-5a97-4f07-8565-a694111ad197"
      },
      "execution_count": 27,
      "outputs": [
        {
          "output_type": "stream",
          "name": "stdout",
          "text": [
            "Hello Rakesh Your Age is 48\n",
            "You are teaching Java and Python\n"
          ]
        }
      ]
    },
    {
      "cell_type": "markdown",
      "source": [
        "## Form-7: print (formatted string)\n",
        "```console\n",
        "1)\t%i\t#int\n",
        "2)\t%d  #int\n",
        "3)\t%f  #float\n",
        "4)\t%s  #String type\n",
        "```\n",
        "Syntax: `print(\"formatted string\" %(variable list))`"
      ],
      "metadata": {
        "id": "0LGnElg36yFo"
      }
    },
    {
      "cell_type": "code",
      "source": [
        "a=10\n",
        "b=20\n",
        "c=30\n",
        "print(\"a value is %i\" %a)\n",
        "print(\"b value is %d and c value is %d\" %(b,c))"
      ],
      "metadata": {
        "colab": {
          "base_uri": "https://localhost:8080/"
        },
        "id": "r-3daJY76dwc",
        "outputId": "039c789e-648e-4d7b-fd59-99b051925429"
      },
      "execution_count": 20,
      "outputs": [
        {
          "output_type": "stream",
          "name": "stdout",
          "text": [
            "a value is 10\n",
            "b value is 20 and c value is 30\n"
          ]
        }
      ]
    },
    {
      "cell_type": "markdown",
      "source": [
        "Eg 1:\n",
        "```python\n",
        "1)  a=10\n",
        "2)\tb=20\n",
        "3)\tc=30\n",
        "4)\tprint(\"a value is %i\" %a)\n",
        "5)\tprint(\"b value is %d and c value is %d\" %(b,c))\n",
        "```\n",
        "```console\n",
        "a value is 10\n",
        "b value is 20 and c value is 30\n",
        "```\n",
        "\n"
      ],
      "metadata": {
        "id": "TfqyLc7K6kNx"
      }
    },
    {
      "cell_type": "code",
      "source": [
        "a=10\n",
        "b=20\n",
        "c=30\n",
        "print(\"a value is %i\" %a)\n",
        "print(\"b value is %d and c value is %d\" %(b,c))"
      ],
      "metadata": {
        "colab": {
          "base_uri": "https://localhost:8080/"
        },
        "id": "ULnE9Bfd7oyL",
        "outputId": "96c44fea-450a-4cea-e1dd-79844b979188"
      },
      "execution_count": 28,
      "outputs": [
        {
          "output_type": "stream",
          "name": "stdout",
          "text": [
            "a value is 10\n",
            "b value is 20 and c value is 30\n"
          ]
        }
      ]
    },
    {
      "cell_type": "markdown",
      "source": [
        "Eg 2:\n",
        "```python\n",
        "s=\"Rakesh\"\n",
        "list=[10,20,30,40]\n",
        "print(\"Hello %s ...The List of Items are %s\" %(s,list))\n",
        "```\n",
        "```console\n",
        "Hello Durga ...The List of Items are [10, 20, 30, 40]\n",
        "```\n"
      ],
      "metadata": {
        "id": "9bwMDBPyt4P4"
      }
    },
    {
      "cell_type": "code",
      "source": [
        "s=\"Rakesh\"\n",
        "list=[10,20,30,40]\n",
        "print(\"Hello %s ...The List of Items are %s\" %(s,list))"
      ],
      "metadata": {
        "colab": {
          "base_uri": "https://localhost:8080/"
        },
        "id": "WuQ7ARK27uAy",
        "outputId": "eb5092eb-75e3-4c3a-f5dd-693b8dbc2fd6"
      },
      "execution_count": 29,
      "outputs": [
        {
          "output_type": "stream",
          "name": "stdout",
          "text": [
            "Hello Rakesh ...The List of Items are [10, 20, 30, 40]\n"
          ]
        }
      ]
    },
    {
      "cell_type": "code",
      "source": [
        "s=\"Reksh\"\n",
        "list=[10,20,30,40]\n",
        "print(\"Hello %s ...The List of Items are %s\" %(s,list))"
      ],
      "metadata": {
        "colab": {
          "base_uri": "https://localhost:8080/"
        },
        "id": "8LDAH_ejtrV6",
        "outputId": "89362b85-b570-45d5-a8b9-9cf87ebadf2e"
      },
      "execution_count": 19,
      "outputs": [
        {
          "output_type": "stream",
          "name": "stdout",
          "text": [
            "Hello Reksh ...The List of Items are [10, 20, 30, 40]\n"
          ]
        }
      ]
    },
    {
      "cell_type": "markdown",
      "source": [
        "## Form-8: print() with replacement operator {}  Eg:\n",
        "```python\n",
        "name = \"Durga\"\n",
        "salary = 10000\n",
        "gf = \"Sunny\"\n",
        "print(\"Hello {0} your salary is {1} and Your Friend {2} is waiting\".format(name,salary,gf))\n",
        "print(\"Hello {x} your salary is {y} and Your Friend {z} is waiting\".format(x=name,y=salary,z=gf))\n",
        "```\n",
        "\n",
        "```console\n",
        "Hello Durga your salary is 10000 and Your Friend Sunny is waiting \n",
        "Hello Durga your salary is 10000 and Your Friend Sunny is waiting\n",
        "```"
      ],
      "metadata": {
        "id": "x9xKm85ptmsA"
      }
    },
    {
      "cell_type": "code",
      "source": [
        "name = \"Durga\"\n",
        "salary = 10000\n",
        "gf = \"Sunny\"\n",
        "print(\"Hello {0} your salary is {1} and Your Friend {2} is waiting\".format(name,salary,gf))\n",
        "print(\"Hello {x} your salary is {y} and Your Friend {z} is waiting\".format(x=name,y=salary,z=gf))"
      ],
      "metadata": {
        "colab": {
          "base_uri": "https://localhost:8080/"
        },
        "id": "jGqo5DFD7xQs",
        "outputId": "f03a2e38-a926-483b-bfca-68ee56a3608b"
      },
      "execution_count": 30,
      "outputs": [
        {
          "output_type": "stream",
          "name": "stdout",
          "text": [
            "Hello Durga your salary is 10000 and Your Friend Sunny is waiting\n",
            "Hello Durga your salary is 10000 and Your Friend Sunny is waiting\n"
          ]
        }
      ]
    },
    {
      "cell_type": "code",
      "source": [
        "name = \"Rakesh\"\n",
        "salary = 10000\n",
        "gf = \"Sunny\"\n",
        "print(\"Hello {0} your salary is {1} and Your Friend {2} is waiting\".format(name,salary,gf))\n",
        "print(\"Hello {x} your salary is {y} and Your Friend {z} is waiting\".format(x=name,y=salary,z=gf))"
      ],
      "metadata": {
        "colab": {
          "base_uri": "https://localhost:8080/"
        },
        "id": "MHqSI888tW_n",
        "outputId": "b6d8426e-f8b8-44ba-8b5e-10f8362d6805"
      },
      "execution_count": 18,
      "outputs": [
        {
          "output_type": "stream",
          "name": "stdout",
          "text": [
            "Hello Rakesh your salary is 10000 and Your Friend Sunny is waiting\n",
            "Hello Rakesh your salary is 10000 and Your Friend Sunny is waiting\n"
          ]
        }
      ]
    },
    {
      "cell_type": "markdown",
      "source": [
        "# Conditional Statements\n",
        "\n",
        "## 1. if statement\n",
        "\n",
        "```python\n",
        "if condition : \n",
        "  statement\n",
        "``` \n",
        "\n",
        "OR\n",
        "\n",
        "```python\n",
        "if condition : \n",
        "\tstatement-1 \n",
        "\tstatement-2 \n",
        "\tstatement-3\n",
        "```\n",
        "\n"
      ],
      "metadata": {
        "id": "pj2AY47woawy"
      }
    },
    {
      "cell_type": "markdown",
      "source": [
        "If condition is true then statements will be executed.  Eg:\n",
        "\n",
        "```python\n",
        "name=input(\"Enter Name:\")\n",
        "if name==\"durga\" :\n",
        "\tprint(\"Hello Durga Good Morning\")\n",
        "\tprint(\"How are you!!!\")\n",
        "```\n",
        "```console\n",
        "D:\\Python_classes>py test.py Enter Name:durga\n",
        "Hello Durga Good Morning How are you!!!\n",
        "D:\\Python_classes>py test.py Enter Name: Ravi\n",
        "How are you!!!\n",
        "```\n",
        "\n"
      ],
      "metadata": {
        "id": "DTGXSi5fAdN7"
      }
    },
    {
      "cell_type": "code",
      "source": [
        "name=input(\"Enter Name:\")\n",
        "if name==\"rakesh\" :\n",
        "\tprint(\"Hello Rakesh Good Morning\")\n",
        "\tprint(\"How are you!!!\")"
      ],
      "metadata": {
        "colab": {
          "base_uri": "https://localhost:8080/"
        },
        "id": "DONRXPvcAkWJ",
        "outputId": "2433d0f3-a307-46bc-8de8-eb2ea466a362"
      },
      "execution_count": 33,
      "outputs": [
        {
          "output_type": "stream",
          "name": "stdout",
          "text": [
            "Enter Name:rakesh\n",
            "Hello Rakesh Good Morning\n",
            "How are you!!!\n"
          ]
        }
      ]
    },
    {
      "cell_type": "markdown",
      "source": [
        "## 2)\tif-else statement\n",
        "\n",
        "```python\n",
        "if condition:\n",
        "\tAction-1 \n",
        "else:\n",
        "\tAction-2\n",
        "```\n"
      ],
      "metadata": {
        "id": "juM5GNE-Aapw"
      }
    },
    {
      "cell_type": "markdown",
      "source": [
        "if condition is true then Action-1 will be executed otherwise Action-2 will be executed.\n",
        "\n",
        "```python\n",
        "name=input(\"Enter Name:\")\n",
        "if name==\"durga\" :\n",
        "\tprint(\"Hello Durga Good Morning\")\n",
        "else:\n",
        "\tprint(\"Hello Guest Good Moring\")\n",
        "\tprint(\"How are you!!!\")\n",
        "```\n",
        "```console\n",
        "D:\\Python_classes>py test.py \n",
        "Enter Name:durga\n",
        "Hello Durga Good Morning \n",
        "How are you!!!\n",
        "\n",
        "D:\\Python_classes>py test.py \n",
        "Enter Name:Ravi\n",
        "Hello Guest Good Moring \n",
        "How are you!!!\n",
        "```\n",
        "\n"
      ],
      "metadata": {
        "id": "RltxmpIlAYgR"
      }
    },
    {
      "cell_type": "code",
      "source": [
        "name=input(\"Enter Name:\")\n",
        "if name==\"rakesh\" :\n",
        "\tprint(\"Hello Rakesh Good Morning\")\n",
        "else:\n",
        "\tprint(\"Hello Guest Good Moring\")\n",
        "\tprint(\"How are you!!!\")"
      ],
      "metadata": {
        "colab": {
          "base_uri": "https://localhost:8080/"
        },
        "id": "wi3mkmgOAytR",
        "outputId": "ab6a6ee3-0f43-46d4-f77f-4555213312c3"
      },
      "execution_count": 34,
      "outputs": [
        {
          "output_type": "stream",
          "name": "stdout",
          "text": [
            "Enter Name:rakesh\n",
            "Hello Rakesh Good Morning\n"
          ]
        }
      ]
    },
    {
      "cell_type": "markdown",
      "source": [
        "## 3)\tif-elif-else statement\n",
        "```python\n",
        "if condition1:\n",
        "\tAction-1\n",
        "elif condition2:\n",
        "\tAction-2 \n",
        "elif condition3:\n",
        "\tAction-3 \n",
        "elif condition4:\n",
        "\tAction-4\n",
        "\t...\n",
        "else:\n",
        "\tDefault Action\n",
        "```"
      ],
      "metadata": {
        "id": "xxFIDpzxAVyS"
      }
    },
    {
      "cell_type": "markdown",
      "source": [
        "Based condition the corresponding action will be executed.\n",
        "\n",
        "```python\n",
        "brand=input(\"Enter Your Favourite Brand:\")\n",
        "if brand==\"RC\" :\n",
        "\tprint(\"It is childrens brand\")\n",
        "elif brand==\"KF\":\n",
        "\tprint(\"It is not that much kick\")\n",
        "elif brand==\"FO\":\n",
        "\tprint(\"Buy one get Free One\")\n",
        "else :\n",
        "\tprint(\"Other Brands are not recommended\")\n",
        "```\n",
        "```console\n",
        "D:\\Python_classes>py test.py \n",
        "Enter Your Favourite Brand:RC \n",
        "It is childrens brand\n",
        "\n",
        "D:\\Python_classes>py test.py \n",
        "Enter Your Favourite Brand:KF \n",
        "It is not that much kick\n",
        "\n",
        "D:\\Python_classes>py test.py\n",
        "Enter Your Favourite Brand: KALYANI \n",
        "Other Brands are not recommended\n",
        "```"
      ],
      "metadata": {
        "id": "lzChkWSnAS3l"
      }
    },
    {
      "cell_type": "code",
      "source": [
        "brand=input(\"Enter Your Favourite Brand:\")\n",
        "if brand==\"RC\" :\n",
        "\tprint(\"It is childrens brand\")\n",
        "elif brand==\"KF\":\n",
        "\tprint(\"It is not that much kick\")\n",
        "elif brand==\"FO\":\n",
        "\tprint(\"Buy one get Free One\")\n",
        "else :\n",
        "\tprint(\"Other Brands are not recommended\")"
      ],
      "metadata": {
        "colab": {
          "base_uri": "https://localhost:8080/"
        },
        "id": "o5nw7PNTA8Jb",
        "outputId": "0f39cd9d-ab71-4eea-b352-403f5b8417de"
      },
      "execution_count": 35,
      "outputs": [
        {
          "output_type": "stream",
          "name": "stdout",
          "text": [
            "Enter Your Favourite Brand:RC\n",
            "It is childrens brand\n"
          ]
        }
      ]
    },
    {
      "cell_type": "markdown",
      "source": [
        "Note:\n",
        "\n",
        "1)\telse part is always optional. Hence the following are various possible syntaxes.\n",
        "\n",
        "1)\tIf\n",
        "\n",
        "2)\tif – else\n",
        "\n",
        "3)\tif-elif-else\n",
        "\n",
        "4)\tif-elif\n",
        "\n",
        "`Note`: There is no switch statement in Python"
      ],
      "metadata": {
        "id": "P9FB4SHb-9_o"
      }
    },
    {
      "cell_type": "markdown",
      "source": [
        "Q) Write a Program to find Biggest of given 2 Numbers from the  Commad Prompt?\n",
        "\n",
        "```python\n",
        "n1=int(input(\"Enter First Number:\"))\n",
        "n2=int(input(\"Enter Second Number:\"))\n",
        "if n1>n2:\n",
        "\tprint(\"Biggest Number is:\",n1)\n",
        "else :\n",
        "\tprint(\"Biggest Number is:\",n2)\n",
        "```\n",
        "\n",
        "```console\n",
        "D:\\Python_classes>py test.py \n",
        "Enter First Number:10\n",
        "Enter Second Number:20 \n",
        "Biggest Number is: 20\n",
        "```\n",
        "\n"
      ],
      "metadata": {
        "id": "rVRrN2Zl-5jE"
      }
    },
    {
      "cell_type": "code",
      "source": [
        "n1=int(input(\"Enter First Number:\"))\n",
        "n2=int(input(\"Enter Second Number:\"))\n",
        "if n1>n2:\n",
        "\tprint(\"Biggest Number is:\",n1)\n",
        "else :\n",
        "\tprint(\"Biggest Number is:\",n2)"
      ],
      "metadata": {
        "colab": {
          "base_uri": "https://localhost:8080/"
        },
        "id": "pWvhbZCLBCfy",
        "outputId": "29f7b1f1-987f-4ce1-eb2d-e6abc7bca968"
      },
      "execution_count": 36,
      "outputs": [
        {
          "output_type": "stream",
          "name": "stdout",
          "text": [
            "Enter First Number:23\n",
            "Enter Second Number:2\n",
            "Biggest Number is: 23\n"
          ]
        }
      ]
    },
    {
      "cell_type": "markdown",
      "source": [
        "Write a Program to find Biggest of given 3 Numbers from the  Commad Prompt?\n",
        "```python\n",
        "n1=int(input(\"Enter First Number:\"))\n",
        "n2=int(input(\"Enter Second Number:\"))\n",
        "n3=int(input(\"Enter Third Number:\"))\n",
        "if n1>n2 and n1>n3:\n",
        "\tprint(\"Biggest Number is:\",n1)\n",
        "elif n2>n3:\n",
        "\tprint(\"Biggest Number is:\",n2)\n",
        "else :\n",
        "\tprint(\"Biggest Number is:\",n3)\n",
        "```\n",
        "```console\n",
        "D:\\Python_classes>py test.py \n",
        "Enter First Number:10\n",
        "Enter Second Number:20 \n",
        "Enter Third Number:30 \n",
        "Biggest Number is: 30\n",
        "\n",
        "D:\\Python_classes>py test.py \n",
        "Enter First Number:10\n",
        "Enter Second Number:30 \n",
        "Enter Third Number:20 \n",
        "Biggest Number is: 30\n",
        "```2"
      ],
      "metadata": {
        "id": "4tsRv2Fq-3aV"
      }
    },
    {
      "cell_type": "code",
      "source": [
        "n1=int(input(\"Enter First Number:\"))\n",
        "n2=int(input(\"Enter Second Number:\"))\n",
        "n3=int(input(\"Enter Third Number:\"))\n",
        "if n1>n2 and n1>n3:\n",
        "\tprint(\"Biggest Number is:\",n1)\n",
        "elif n2>n3:\n",
        "\tprint(\"Biggest Number is:\",n2)\n",
        "else :\n",
        "\tprint(\"Biggest Number is:\",n3)"
      ],
      "metadata": {
        "colab": {
          "base_uri": "https://localhost:8080/"
        },
        "id": "R6-B4Ig-BHHl",
        "outputId": "f34675c4-8eff-4b54-f7e3-ad03b13fada4"
      },
      "execution_count": 38,
      "outputs": [
        {
          "output_type": "stream",
          "name": "stdout",
          "text": [
            "Enter First Number:23\n",
            "Enter Second Number:3\n",
            "Enter Third Number:234\n",
            "Biggest Number is: 234\n"
          ]
        }
      ]
    },
    {
      "cell_type": "markdown",
      "source": [
        "Q) Write a program to find smallest of given 2 numbers? \n",
        "\n",
        "Q) Write a program to find smallest of given 3 numbers?\n",
        "\n",
        "Q) Write a program to check whether the given number is even or odd?\n",
        "\n",
        "Q) Write a Program to Check whether the given Number is in  between 1 and 100?"
      ],
      "metadata": {
        "id": "efIIRErr-z-f"
      }
    },
    {
      "cell_type": "markdown",
      "source": [
        "```python\n",
        "n=int(input(\"Enter Number:\"))\n",
        "if n>=1 and n<=10 :\n",
        "\tprint(\"The number\",n,\"is in between 1 to 10\")\n",
        "else:\n",
        "\tprint(\"The number\",n,\"is not in between 1 to 10\")\n",
        "```\n",
        "\n",
        "Write a Program to take a Single Digit Number from the Key  Board and Print is Value in English Word?"
      ],
      "metadata": {
        "id": "HsqyQe55-x4y"
      }
    },
    {
      "cell_type": "code",
      "source": [
        "n=int(input(\"Enter Number:\"))\n",
        "if n>=1 and n<=10 :\n",
        "\tprint(\"The number\",n,\"is in between 1 to 10\")\n",
        "else:\n",
        "\tprint(\"The number\",n,\"is not in between 1 to 10\")"
      ],
      "metadata": {
        "colab": {
          "base_uri": "https://localhost:8080/"
        },
        "id": "zt7z7AJcBQ_F",
        "outputId": "61159b17-a49d-472c-f469-6db2d83355a8"
      },
      "execution_count": 39,
      "outputs": [
        {
          "output_type": "stream",
          "name": "stdout",
          "text": [
            "Enter Number:34\n",
            "The number 34 is not in between 1 to 10\n"
          ]
        }
      ]
    },
    {
      "cell_type": "markdown",
      "source": [
        "# Iterative Statements\n",
        "֍ If we want to execute a group of statements multiple times then we should go for Iterative statements.\n",
        "\n",
        "֍ Python supports 2 types of iterative statements.\n",
        "\n",
        "1)\tfor loop\n",
        "\n",
        "2)\twhile loop\n",
        "\n",
        "## 1)\tfor loop:\n",
        "If we want to execute some action for every element present in some sequence (it may be string or collection) then we should go for for loop.\n",
        "\n",
        "Syntax: \n",
        "```python\n",
        "for x in sequence:\n",
        "\tBody\n",
        "```"
      ],
      "metadata": {
        "id": "gSgHwTy0wGwC"
      }
    },
    {
      "cell_type": "markdown",
      "source": [
        "Where sequence can be string or any collection.\n",
        "Body will be executed for every element present in the sequence.\n",
        "\n",
        "Eg 1: To print characters present in the given string\n",
        "```python\n",
        "s=\"Sunny Leone\"\n",
        "for x in s :\n",
        "\tprint(x)\n",
        "```\n",
        "```console\n",
        "S\n",
        "u \n",
        "n \n",
        "n \n",
        "y\n",
        "\n",
        "L\n",
        "e \n",
        "o \n",
        "n \n",
        "e\n",
        "```\n"
      ],
      "metadata": {
        "id": "lLnUFax0-qe8"
      }
    },
    {
      "cell_type": "code",
      "source": [
        "s=\"Sunny Leone\"\n",
        "for x in s :\n",
        "\tprint(x)"
      ],
      "metadata": {
        "colab": {
          "base_uri": "https://localhost:8080/"
        },
        "id": "RmP7bNBUBXvd",
        "outputId": "05a26f9f-b496-4d21-d8e2-75122e53325b"
      },
      "execution_count": 40,
      "outputs": [
        {
          "output_type": "stream",
          "name": "stdout",
          "text": [
            "S\n",
            "u\n",
            "n\n",
            "n\n",
            "y\n",
            " \n",
            "L\n",
            "e\n",
            "o\n",
            "n\n",
            "e\n"
          ]
        }
      ]
    },
    {
      "cell_type": "markdown",
      "source": [
        "Eg 2: To print characters present in string index wise:\n",
        "```python\n",
        "s=input(\"Enter some String: \")\n",
        "i=0\n",
        "for x in s :\n",
        "\tprint(\"The character present at \",i,\"index is :\",x)\n",
        "\ti=i+1\n",
        "```\n",
        "```console\n",
        "D:\\Python_classes>py test.py \n",
        "Enter some String: Sunny Leone\n",
        "\n",
        "The character present at 0 index is : S \n",
        "The character present at 1 index is : u \n",
        "The character present at 2 index is : n \n",
        "The character present at 3 index is : n \n",
        "The character present at 4 index is : y \n",
        "The character present at 5 index is : \n",
        "The character present at 6 index is : L \n",
        "The character present at 7 index is : e \n",
        "The character present at 8 index is : o \n",
        "The character present at 9 index is : n \n",
        "The character present at 10 index is : e\n",
        "```\n"
      ],
      "metadata": {
        "id": "kBONLiHn-nx_"
      }
    },
    {
      "cell_type": "code",
      "source": [
        "s=input(\"Enter some String: \")\n",
        "i=0\n",
        "for x in s :\n",
        "\tprint(\"The character present at \",i,\"index is :\",x)\n",
        "\ti=i+1"
      ],
      "metadata": {
        "colab": {
          "base_uri": "https://localhost:8080/"
        },
        "id": "HAPtzQ4fBaww",
        "outputId": "a9c11e3a-d409-4606-f97a-697e0c6b967e"
      },
      "execution_count": 41,
      "outputs": [
        {
          "output_type": "stream",
          "name": "stdout",
          "text": [
            "Enter some String: naveen\n",
            "The character present at  0 index is : n\n",
            "The character present at  1 index is : a\n",
            "The character present at  2 index is : v\n",
            "The character present at  3 index is : e\n",
            "The character present at  4 index is : e\n",
            "The character present at  5 index is : n\n"
          ]
        }
      ]
    },
    {
      "cell_type": "markdown",
      "source": [
        "Eg 3: To print Hello 10 times\n",
        "\n",
        "\n",
        "Eg 4: To display numbers from 0 to 10\n",
        "\n",
        "Eg 5: To display odd numbers from 0 to 20\n",
        "```python\n",
        "for x in range(21) :\n",
        "\tif (x%2!=0):\n",
        "\t\tprint(x)\n",
        "```\n"
      ],
      "metadata": {
        "id": "RC_rt1oC-lRO"
      }
    },
    {
      "cell_type": "code",
      "source": [
        "for x in range(21) :\n",
        "\tif (x%2!=0):\n",
        "\t\tprint(x)"
      ],
      "metadata": {
        "colab": {
          "base_uri": "https://localhost:8080/"
        },
        "id": "FZLtOLAiBe1S",
        "outputId": "1477ef10-61ce-4e88-be31-169204944f64"
      },
      "execution_count": 42,
      "outputs": [
        {
          "output_type": "stream",
          "name": "stdout",
          "text": [
            "1\n",
            "3\n",
            "5\n",
            "7\n",
            "9\n",
            "11\n",
            "13\n",
            "15\n",
            "17\n",
            "19\n"
          ]
        }
      ]
    },
    {
      "cell_type": "markdown",
      "source": [
        "Eg 6: To display numbers from 10 to 1 in descending order\n",
        "\n",
        "Eg 7:  To print sum of numbers presenst inside list\n",
        "```python\n",
        "list = eval(input(\"Enter List:\"))\n",
        "sum=0;\n",
        "for x in list:\n",
        "sum=sum+x;\n",
        "print(\"The Sum=\",sum)\n",
        "```\n",
        "```console\n",
        "D:\\Python_classes>py test.py \n",
        "Enter List:[10,20,30,40]\n",
        "The Sum= 100\n",
        "\n",
        "D:\\Python_classes>py test.py \n",
        "Enter List:[45,67]\n",
        "The Sum= 112\n",
        "```\n"
      ],
      "metadata": {
        "id": "UNw0m6TB-i0y"
      }
    },
    {
      "cell_type": "code",
      "source": [
        "list = eval(input(\"Enter List:\"))\n",
        "sum=0;\n",
        "for x in list:\n",
        "  sum=sum+x;\n",
        "print(\"The Sum=\",sum)"
      ],
      "metadata": {
        "colab": {
          "base_uri": "https://localhost:8080/"
        },
        "id": "8vzJqeUZBhrU",
        "outputId": "69684d2a-e92e-49f1-e99b-73497caae1a9"
      },
      "execution_count": 44,
      "outputs": [
        {
          "output_type": "stream",
          "name": "stdout",
          "text": [
            "Enter List:[2,5,7,4]\n",
            "The Sum= 18\n"
          ]
        }
      ]
    },
    {
      "cell_type": "markdown",
      "source": [
        "## 2)\twhile loop:\n",
        "If we want to execute a group of statements iteratively until some condition false,then we should go for while loop.\n",
        "\n",
        "Syntax: \n",
        "\n",
        "```python\n",
        "while condition :\n",
        "\tbody\n",
        "```\n",
        "Eg: To print numbers from 1 to 10 by using while loop\n",
        "```python\n",
        "x = 1\n",
        "while x <= 10:\n",
        "\tprint(x)\n",
        "\tx = x+1\n",
        "```\n"
      ],
      "metadata": {
        "id": "VWHUwwlj-fUS"
      }
    },
    {
      "cell_type": "code",
      "source": [
        "x = 1\n",
        "while x <= 10:\n",
        "\tprint(x)\n",
        "\tx = x+1"
      ],
      "metadata": {
        "colab": {
          "base_uri": "https://localhost:8080/"
        },
        "id": "SNffuV8WBrpI",
        "outputId": "c4ad964b-11d2-4f27-b0e0-9290dba58516"
      },
      "execution_count": 45,
      "outputs": [
        {
          "output_type": "stream",
          "name": "stdout",
          "text": [
            "1\n",
            "2\n",
            "3\n",
            "4\n",
            "5\n",
            "6\n",
            "7\n",
            "8\n",
            "9\n",
            "10\n"
          ]
        }
      ]
    },
    {
      "cell_type": "markdown",
      "source": [
        "Eg: To display the sum of first n numbers\n",
        "```python\n",
        "n=int(input(\"Enter number:\"))\n",
        "sum=0\n",
        "i=1\n",
        "while i<=n:\n",
        "sum=sum+i\n",
        "i=i+1\n",
        "print(\"The sum of first\",n,\"numbers is :\",sum)\n",
        "```\n"
      ],
      "metadata": {
        "id": "o8CD_ggU-c3t"
      }
    },
    {
      "cell_type": "code",
      "source": [
        "n=int(input(\"Enter number:\"))\n",
        "sum=0\n",
        "i=1\n",
        "while i<=n:\n",
        "  sum=sum+i\n",
        "  i=i+1\n",
        "print(\"The sum of first\",n,\"numbers is :\",sum)"
      ],
      "metadata": {
        "colab": {
          "base_uri": "https://localhost:8080/"
        },
        "id": "feXf9KNmBubH",
        "outputId": "ac44b6d7-d59a-4315-b678-f3f4dafae45b"
      },
      "execution_count": 47,
      "outputs": [
        {
          "output_type": "stream",
          "name": "stdout",
          "text": [
            "Enter number:12\n",
            "The sum of first 12 numbers is : 78\n"
          ]
        }
      ]
    },
    {
      "cell_type": "markdown",
      "source": [
        "Eg: Write a program to prompt user to enter some name until entering Durga\n",
        "```python\n",
        "name=\"\"\n",
        "while name!=\"durga\":\n",
        "name=input(\"Enter Name:\")\n",
        "print(\"Thanks for confirmation\")\n",
        "```\n"
      ],
      "metadata": {
        "id": "paJbm9ul-aaB"
      }
    },
    {
      "cell_type": "code",
      "source": [
        "name=\"\"\n",
        "while name!=\"rakesh\":\n",
        "  name=input(\"Enter Name:\")\n",
        "print(\"Thanks for confirmation\")"
      ],
      "metadata": {
        "colab": {
          "base_uri": "https://localhost:8080/"
        },
        "id": "U6gmBQG0B0vK",
        "outputId": "fe38af5a-527f-456f-be82-58a558605307"
      },
      "execution_count": 50,
      "outputs": [
        {
          "output_type": "stream",
          "name": "stdout",
          "text": [
            "Enter Name:abc\n",
            "Enter Name:nveen\n",
            "Enter Name:naveen\n",
            "Enter Name:rakesh\n",
            "Thanks for confirmation\n"
          ]
        }
      ]
    },
    {
      "cell_type": "markdown",
      "source": [
        "### Infinite Loops:\n",
        "```python\n",
        "i=0;\n",
        "while True :\n",
        "i=i+1;\n",
        "print(\"Hello\",i)\n",
        "```\n",
        "\n"
      ],
      "metadata": {
        "id": "knDUc9AL-XrJ"
      }
    },
    {
      "cell_type": "code",
      "source": [
        "i=0;\n",
        "while True :\n",
        "  i=i+1;\n",
        "  print(\"Hello\",i)"
      ],
      "metadata": {
        "id": "5QzRX7XOCAwv"
      },
      "execution_count": null,
      "outputs": []
    },
    {
      "cell_type": "markdown",
      "source": [
        "### Nested Loops:\n",
        "Sometimes we can take a loop inside another loop,which are also known as nested loops.\n",
        "```python\n",
        "for i in range(4):\n",
        "\tfor j in range(4):\n",
        "\t\tprint(\"i=\",i,\"  j=\",j)\n",
        "```\n",
        "```console\n",
        "D:\\Python_classes>py  test.py \n",
        "i= 0\tj= 0\n",
        "i= 0\tj= 1\n",
        "i= 0\tj= 2\n",
        "i= 0\tj= 3\n",
        "i= 1\tj= 0\n",
        "i= 1\tj= 1\n",
        "i= 1\tj= 2\n",
        "i= 1\tj= 3\n",
        "i= 2\tj= 0\n",
        "i= 2\tj= 1\n",
        "i= 2\tj= 2\n",
        "i= 2\tj= 3\n",
        "i= 3\tj= 0\n",
        "i= 3\tj= 1\n",
        "i= 3\tj= 2\n",
        "i= 3\tj= 3\n",
        "```\n",
        "\n",
        "```console\n",
        "*\n",
        "* *\n",
        "* * *\n",
        "* * * *\n",
        "* * * * *\n",
        "* * * * * *\n",
        "* * * * * * *\n",
        "```\n",
        "\n"
      ],
      "metadata": {
        "id": "mrZ_p1cM-Rnk"
      }
    },
    {
      "cell_type": "code",
      "source": [
        "for i in range(4):\n",
        "\tfor j in range(4):\n",
        "\t\tprint(\"i=\",i,\"  j=\",j)"
      ],
      "metadata": {
        "colab": {
          "base_uri": "https://localhost:8080/"
        },
        "id": "j_jY7_kiCOIx",
        "outputId": "2c16dc23-536e-4e63-8aa1-db28e0c4802a"
      },
      "execution_count": 52,
      "outputs": [
        {
          "output_type": "stream",
          "name": "stdout",
          "text": [
            "i= 0   j= 0\n",
            "i= 0   j= 1\n",
            "i= 0   j= 2\n",
            "i= 0   j= 3\n",
            "i= 1   j= 0\n",
            "i= 1   j= 1\n",
            "i= 1   j= 2\n",
            "i= 1   j= 3\n",
            "i= 2   j= 0\n",
            "i= 2   j= 1\n",
            "i= 2   j= 2\n",
            "i= 2   j= 3\n",
            "i= 3   j= 0\n",
            "i= 3   j= 1\n",
            "i= 3   j= 2\n",
            "i= 3   j= 3\n"
          ]
        }
      ]
    },
    {
      "cell_type": "markdown",
      "source": [
        "# Transfer Statements\n",
        "\n",
        "## 1) break:\n",
        "We can use break statement inside loops to break loop execution based on some condition.\n",
        "```python\n",
        "for i in range(10):\n",
        "\tif i==7:\n",
        "\t\tprint(\"processing is enough..plz break\")\n",
        "\t\tbreak\n",
        "\tprint(i)\n",
        "```\n",
        "```console\n",
        "D:\\Python_classes>py test.py \n",
        "0\n",
        "1\n",
        "2\n",
        "3\n",
        "4\n",
        "5\n",
        "6\n",
        "processing is enough..plz break  \n",
        "```"
      ],
      "metadata": {
        "id": "j_7jyF7d-MpL"
      }
    },
    {
      "cell_type": "code",
      "source": [
        "for i in range(10):\n",
        "\tif i==7:\n",
        "\t\tprint(\"processing is enough..plz break\")\n",
        "\t\tbreak\n",
        "\tprint(i)"
      ],
      "metadata": {
        "colab": {
          "base_uri": "https://localhost:8080/"
        },
        "id": "t1zOqJkECQdi",
        "outputId": "de65232c-63a4-4a5a-ca23-8cc31adffc0c"
      },
      "execution_count": 53,
      "outputs": [
        {
          "output_type": "stream",
          "name": "stdout",
          "text": [
            "0\n",
            "1\n",
            "2\n",
            "3\n",
            "4\n",
            "5\n",
            "6\n",
            "processing is enough..plz break\n"
          ]
        }
      ]
    },
    {
      "cell_type": "markdown",
      "source": [
        "Eg:\n",
        "\n",
        "```python\n",
        "cart=[10,20,600,60,70]\n",
        "for item in cart:\n",
        "\tif item>500:\n",
        "\t\tprint(\"To place this order insurence must be required\")\n",
        "\t\tbreak\n",
        "\tprint(item)\n",
        "```\n",
        "```console\n",
        "D:\\Python_classes>py test.py \n",
        "10\n",
        "20\n",
        "To place this order insurence must be required\n",
        "```"
      ],
      "metadata": {
        "id": "wO7F0FEx9TjC"
      }
    },
    {
      "cell_type": "code",
      "source": [
        "cart=[10,20,600,60,70]\n",
        "for item in cart:\n",
        "\tif item>500:\n",
        "\t\tprint(\"To place this order insurence must be required\")\n",
        "\t\tbreak\n",
        "\tprint(item)"
      ],
      "metadata": {
        "colab": {
          "base_uri": "https://localhost:8080/"
        },
        "id": "CfXyyrfxCTct",
        "outputId": "afc3763d-c59f-4877-de08-7cee990d8092"
      },
      "execution_count": 54,
      "outputs": [
        {
          "output_type": "stream",
          "name": "stdout",
          "text": [
            "10\n",
            "20\n",
            "To place this order insurence must be required\n"
          ]
        }
      ]
    },
    {
      "cell_type": "markdown",
      "source": [
        "## 2) continue:\n",
        "We can use continue statement to skip current iteration and continue next iteration.\n",
        "\n",
        "Eg 1: To print odd numbers in the range 0 to 9\n",
        "```python\n",
        "for i in range(10):\n",
        "\tif i%2==0:\n",
        "\t\tcontinue\n",
        "\tprint(i)\n",
        "```\n",
        "```console\n",
        "D:\\Python_classes>py test.py 1\n",
        "3\n",
        "5\n",
        "7\n",
        "9\n",
        "```"
      ],
      "metadata": {
        "id": "Qf7a65ut9Qdo"
      }
    },
    {
      "cell_type": "code",
      "source": [
        "for i in range(10):\n",
        "\tif i%2==0:\n",
        "\t\tcontinue\n",
        "\tprint(i)"
      ],
      "metadata": {
        "colab": {
          "base_uri": "https://localhost:8080/"
        },
        "id": "hK0o7fyPCV1l",
        "outputId": "43ffbb6f-d455-487e-98f4-aef8a3bedb61"
      },
      "execution_count": 55,
      "outputs": [
        {
          "output_type": "stream",
          "name": "stdout",
          "text": [
            "1\n",
            "3\n",
            "5\n",
            "7\n",
            "9\n"
          ]
        }
      ]
    },
    {
      "cell_type": "markdown",
      "source": [
        "Eg 2:\n",
        "```python\n",
        "cart=[10,20,500,700,50,60]\n",
        "for item in cart:\n",
        "\tif item>=500:\n",
        "\t\tprint(\"We cannot process this item :\",item)\n",
        "\t\tcontinue\n",
        "\tprint(item)\n",
        "```\n",
        "```console\n",
        "D:\\Python_classes>py test.py \n",
        "10\n",
        "20\n",
        "We cannot process this item : 500 \n",
        "We cannot process this item : 700 \n",
        "50\n",
        "60\n",
        "```"
      ],
      "metadata": {
        "id": "v_aXrl_d9NGA"
      }
    },
    {
      "cell_type": "code",
      "source": [
        "cart=[10,20,500,700,50,60]\n",
        "for item in cart:\n",
        "\tif item>=500:\n",
        "\t\tprint(\"We cannot process this item :\",item)\n",
        "\t\tcontinue\n",
        "\tprint(item)"
      ],
      "metadata": {
        "colab": {
          "base_uri": "https://localhost:8080/"
        },
        "id": "Rm24fHsaCYIQ",
        "outputId": "7464b951-bfb3-4d53-cf28-6d21b99554c8"
      },
      "execution_count": 56,
      "outputs": [
        {
          "output_type": "stream",
          "name": "stdout",
          "text": [
            "10\n",
            "20\n",
            "We cannot process this item : 500\n",
            "We cannot process this item : 700\n",
            "50\n",
            "60\n"
          ]
        }
      ]
    },
    {
      "cell_type": "markdown",
      "source": [
        "Eg 3:\n",
        "```python\n",
        "numbers=[10,20,0,5,0,30]\n",
        "for n in numbers:\n",
        "\tif n==0:\n",
        "\t\tprint(\"Hey how we can divide with zero..just skipping\")\n",
        "\t\tcontinue\n",
        "\tprint(\"100/{} = {}\".format(n,100/n))\n",
        "```\n",
        "\n",
        "```console\n",
        "100/10 = 10.0\n",
        "100/20 = 5.0\n",
        "Hey how we can divide with zero..just skipping 100/5 = 20.0\n",
        "Hey how we can divide with zero..just skipping 100/30 = 3.3333333333333335\n",
        "```"
      ],
      "metadata": {
        "id": "MkDT0ISy9JN4"
      }
    },
    {
      "cell_type": "code",
      "source": [
        "numbers=[10,20,0,5,0,30]\n",
        "for n in numbers:\n",
        "\tif n==0:\n",
        "\t\tprint(\"Hey how we can divide with zero..just skipping\")\n",
        "\t\tcontinue\n",
        "\tprint(\"100/{} = {}\".format(n,100/n))"
      ],
      "metadata": {
        "colab": {
          "base_uri": "https://localhost:8080/"
        },
        "id": "4qY_KLcyCa9Q",
        "outputId": "6f03558f-4e3e-40d4-b10c-101f9e616d81"
      },
      "execution_count": 57,
      "outputs": [
        {
          "output_type": "stream",
          "name": "stdout",
          "text": [
            "100/10 = 10.0\n",
            "100/20 = 5.0\n",
            "Hey how we can divide with zero..just skipping\n",
            "100/5 = 20.0\n",
            "Hey how we can divide with zero..just skipping\n",
            "100/30 = 3.3333333333333335\n"
          ]
        }
      ]
    },
    {
      "cell_type": "markdown",
      "source": [
        "## Loops with else Block:\n",
        "•\tInside loop execution, if break statement not executed, then only else part will be executed.\n",
        "\n",
        "•\telse means loop without break.\n",
        "```python\n",
        "cart=[10,20,30,40,50]\n",
        "for item in cart:\n",
        "\tif item>=500:\n",
        "\t\tprint(\"We cannot process this order\")\n",
        "\t\tbreak\n",
        "\tprint(item)\n",
        "\telse:\n",
        "\tprint(\"Congrats ...all items processed successfully\")\n",
        "```\n",
        "```console \t\n",
        "10\n",
        "20\n",
        "30\n",
        "40\n",
        "50\n",
        "Congrats ...all items processed successfully\n",
        "```"
      ],
      "metadata": {
        "id": "WOP_jg_P9Gn4"
      }
    },
    {
      "cell_type": "code",
      "source": [
        "cart=[10,20,30,40,50]\n",
        "for item in cart:\n",
        "\tif item>=500:\n",
        "\t\tprint(\"We cannot process this order\")\n",
        "\t\tbreak\n",
        "\tprint(item)\n",
        "else:\n",
        "\tprint(\"Congrats ...all items processed successfully\")"
      ],
      "metadata": {
        "colab": {
          "base_uri": "https://localhost:8080/"
        },
        "id": "jXmlQOftCeP4",
        "outputId": "b90c4d28-da80-4e00-98db-ef308f9ec171"
      },
      "execution_count": 59,
      "outputs": [
        {
          "output_type": "stream",
          "name": "stdout",
          "text": [
            "10\n",
            "20\n",
            "30\n",
            "40\n",
            "50\n",
            "Congrats ...all items processed successfully\n"
          ]
        }
      ]
    },
    {
      "cell_type": "markdown",
      "source": [
        "Eg:\n",
        "```python\n",
        "cart=[10,20,600,30,40,50]\n",
        "for item in cart:\n",
        "\tif item>=500:\n",
        "\t\tprint(\"We cannot process this order\")\n",
        "\t\tbreak\n",
        "\tprint(item)\n",
        "else:\n",
        "\tprint(\"Congrats ...all items processed successfully\")\n",
        "```\n",
        "```console\n",
        "D:\\Python_classes>py  test.py \n",
        "10\n",
        "20\n",
        "We cannot process this order\n",
        "```"
      ],
      "metadata": {
        "id": "oMgjSFTs9DH9"
      }
    },
    {
      "cell_type": "code",
      "source": [
        "cart=[10,20,600,30,40,50]\n",
        "for item in cart:\n",
        "\tif item>=500:\n",
        "\t\tprint(\"We cannot process this order\")\n",
        "\t\tbreak\n",
        "\tprint(item)\n",
        "else:\n",
        "\tprint(\"Congrats ...all items processed successfully\")"
      ],
      "metadata": {
        "colab": {
          "base_uri": "https://localhost:8080/"
        },
        "id": "4lr16aKLCj5-",
        "outputId": "e20e54f3-c8ea-4c82-adc4-6b1d0c35c4b7"
      },
      "execution_count": 60,
      "outputs": [
        {
          "output_type": "stream",
          "name": "stdout",
          "text": [
            "10\n",
            "20\n",
            "We cannot process this order\n"
          ]
        }
      ]
    },
    {
      "cell_type": "code",
      "source": [
        "cart=[10,20,600,30,40,50]\n",
        "for item in cart:\n",
        "\tif item>=500:\n",
        "\t\tprint(\"We cannot process this order\")\n",
        "\t\tbreak\n",
        "\tprint(item)\n",
        "else:\n",
        "\tprint(\"Congrats ...all items processed successfully\")"
      ],
      "metadata": {
        "colab": {
          "base_uri": "https://localhost:8080/"
        },
        "id": "nw3PmuLS9A8A",
        "outputId": "781aa33d-7761-4c36-c930-70d4a80fc987"
      },
      "execution_count": 61,
      "outputs": [
        {
          "output_type": "stream",
          "name": "stdout",
          "text": [
            "10\n",
            "20\n",
            "We cannot process this order\n"
          ]
        }
      ]
    },
    {
      "cell_type": "markdown",
      "source": [
        "Q) What is the difference between for loop and while loop  in Python? \n",
        "\n",
        "֍ We can use loops to repeat code execution\n",
        "\n",
        "֍ Repeat code for every item in sequence for loop\n",
        "\n",
        "֍ Repeat code as long as condition is true while loop\n",
        "\n",
        "Q) How to exit from the loop? By using break statement\n",
        "\n",
        "Q)How to skip some iterations inside loop? By using continue statement.\n",
        "\n",
        "Q)When else part will be executed wrt loops? If loop executed without break"
      ],
      "metadata": {
        "id": "3yl0QBk388zi"
      }
    },
    {
      "cell_type": "markdown",
      "source": [
        "## 3)\tpass statement:\n",
        "•\tpass is a keyword in Python.\n",
        "\n",
        "•\tIn our programming syntactically if block is required which won't do anything then we can define that empty block with pass keyword.\n",
        "\n",
        "pass\n",
        "|- It is an empty statement\n",
        "|- It is null statement\n",
        "|- It won't do anything\n",
        "\n",
        "Eg: \n",
        "```python\n",
        "if True:\n",
        "\n",
        "```\n",
        "\n",
        "```console\n",
        "SyntaxError: unexpected EOF while parsing \n",
        "```\n",
        "```python\n",
        "if True: \n",
        "\tpass #valid\n",
        "```\n",
        "\n",
        "```python\n",
        "def m1():\n",
        "\n",
        "```\n",
        "```console\n",
        "SyntaxError: unexpected EOF while parsing \n",
        "```\n",
        "```python\n",
        "def m1(): \n",
        "\tpass\n",
        "\n",
        "```\n"
      ],
      "metadata": {
        "id": "oDzoAEYA81db"
      }
    },
    {
      "cell_type": "markdown",
      "source": [
        "### Use Case of pass:\n",
        "\n",
        "Sometimes in the parent class we have to declare a function with empty  body and child class responsible to provide proper implementation. \n",
        "\n",
        "Such type of empty body we can define by using pass keyword. (It is something like abstract method in Java)\n",
        "\n",
        "Eg: def m1(): pass\n",
        "```python\n",
        "1)  for i in range(100):\n",
        "2)\tif i%9==0:\n",
        "3)\tprint(i)\n",
        "4)\telse:pass\n",
        "```\n",
        "```console\n",
        "D:\\Python_classes>py test.py 0\n",
        "9\n",
        "18\n",
        "27\n",
        "36\n",
        "45\n",
        "54\n",
        "63\n",
        "72\n",
        "81\n",
        "90\n",
        "99\n",
        "```"
      ],
      "metadata": {
        "id": "oP0tSZun8wOD"
      }
    },
    {
      "cell_type": "code",
      "source": [
        "for i in range(100):\n",
        "  if i%9==0:\n",
        "    print(i)\n",
        "  else:\n",
        "    pass"
      ],
      "metadata": {
        "colab": {
          "base_uri": "https://localhost:8080/"
        },
        "id": "guhHazqECqkI",
        "outputId": "b9ed26c6-4531-4bde-83d3-b75888d410f0"
      },
      "execution_count": 62,
      "outputs": [
        {
          "output_type": "stream",
          "name": "stdout",
          "text": [
            "0\n",
            "9\n",
            "18\n",
            "27\n",
            "36\n",
            "45\n",
            "54\n",
            "63\n",
            "72\n",
            "81\n",
            "90\n",
            "99\n"
          ]
        }
      ]
    },
    {
      "cell_type": "markdown",
      "source": [
        "### del Statement:\n",
        "•\tdel is a keyword in Python.\n",
        "\n",
        "•\tAfter using a variable, it is highly recommended to delete that variable if it is no longer required,so that the corresponding object is eligible for Garbage Collection.\n",
        "\n",
        "•\tWe can delete variable by using del keyword.\n",
        "```python\n",
        "x = 10\n",
        "print(x)\n",
        "del x\n",
        "```\n"
      ],
      "metadata": {
        "id": "6_5V3CQn8RYQ"
      }
    },
    {
      "cell_type": "code",
      "source": [
        "x = 10\n",
        "print(x)\n",
        "del x\n"
      ],
      "metadata": {
        "colab": {
          "base_uri": "https://localhost:8080/"
        },
        "id": "pmlqsgRwGN2F",
        "outputId": "74d82c6e-74bf-4197-d6c1-35556049d3a7"
      },
      "execution_count": 64,
      "outputs": [
        {
          "output_type": "stream",
          "name": "stdout",
          "text": [
            "10\n"
          ]
        }
      ]
    },
    {
      "cell_type": "markdown",
      "source": [
        "After deleting a variable we cannot access that variable otherwise we will get NameError.\n",
        "```python\n",
        "x = 10\n",
        "del x\n",
        "print(x)\n",
        "```\n",
        "\n",
        "```console\n",
        "NameError: name 'x' is not defined.\n",
        "```\n"
      ],
      "metadata": {
        "id": "gY3yIyn28OrV"
      }
    },
    {
      "cell_type": "code",
      "source": [
        "x = 10\n",
        "del x\n",
        "print(x)"
      ],
      "metadata": {
        "colab": {
          "base_uri": "https://localhost:8080/",
          "height": 201
        },
        "id": "nxdgmrmLGTfP",
        "outputId": "f7139fb3-975a-4de1-942e-9b413303b62d"
      },
      "execution_count": 65,
      "outputs": [
        {
          "output_type": "error",
          "ename": "NameError",
          "evalue": "ignored",
          "traceback": [
            "\u001b[0;31m---------------------------------------------------------------------------\u001b[0m",
            "\u001b[0;31mNameError\u001b[0m                                 Traceback (most recent call last)",
            "\u001b[0;32m<ipython-input-65-5ee6bfbd3ae2>\u001b[0m in \u001b[0;36m<module>\u001b[0;34m()\u001b[0m\n\u001b[1;32m      1\u001b[0m \u001b[0mx\u001b[0m \u001b[0;34m=\u001b[0m \u001b[0;36m10\u001b[0m\u001b[0;34m\u001b[0m\u001b[0;34m\u001b[0m\u001b[0m\n\u001b[1;32m      2\u001b[0m \u001b[0;32mdel\u001b[0m \u001b[0mx\u001b[0m\u001b[0;34m\u001b[0m\u001b[0;34m\u001b[0m\u001b[0m\n\u001b[0;32m----> 3\u001b[0;31m \u001b[0mprint\u001b[0m\u001b[0;34m(\u001b[0m\u001b[0mx\u001b[0m\u001b[0;34m)\u001b[0m\u001b[0;34m\u001b[0m\u001b[0;34m\u001b[0m\u001b[0m\n\u001b[0m",
            "\u001b[0;31mNameError\u001b[0m: name 'x' is not defined"
          ]
        }
      ]
    },
    {
      "cell_type": "markdown",
      "source": [
        "Note: We can delete variables which are pointed to immutable objects.\n",
        "\n",
        "But we cannot delete the elements present inside immutable object.\n",
        "```python\n",
        "s = \"rakesh\"\n",
        "print(s)\n",
        "del s #valid\n",
        "del s[0] \n",
        "#TypeError: 'str' object doesn't support item deletion\n",
        "```\n",
        "\n"
      ],
      "metadata": {
        "id": "_ahsWd-b8Mcq"
      }
    },
    {
      "cell_type": "code",
      "source": [
        "s = \"rakesh\"\n",
        "print(s)\n",
        "del s #valid\n",
        "del s[0] "
      ],
      "metadata": {
        "colab": {
          "base_uri": "https://localhost:8080/",
          "height": 218
        },
        "id": "G6aA_WSjGaYs",
        "outputId": "9a293696-63f8-4c9c-a3f3-3c37b1ae1cc7"
      },
      "execution_count": 67,
      "outputs": [
        {
          "output_type": "stream",
          "name": "stdout",
          "text": [
            "rakesh\n"
          ]
        },
        {
          "output_type": "error",
          "ename": "NameError",
          "evalue": "ignored",
          "traceback": [
            "\u001b[0;31m---------------------------------------------------------------------------\u001b[0m",
            "\u001b[0;31mNameError\u001b[0m                                 Traceback (most recent call last)",
            "\u001b[0;32m<ipython-input-67-bf4dedfd3257>\u001b[0m in \u001b[0;36m<module>\u001b[0;34m()\u001b[0m\n\u001b[1;32m      2\u001b[0m \u001b[0mprint\u001b[0m\u001b[0;34m(\u001b[0m\u001b[0ms\u001b[0m\u001b[0;34m)\u001b[0m\u001b[0;34m\u001b[0m\u001b[0;34m\u001b[0m\u001b[0m\n\u001b[1;32m      3\u001b[0m \u001b[0;32mdel\u001b[0m \u001b[0ms\u001b[0m \u001b[0;31m#valid\u001b[0m\u001b[0;34m\u001b[0m\u001b[0;34m\u001b[0m\u001b[0m\n\u001b[0;32m----> 4\u001b[0;31m \u001b[0;32mdel\u001b[0m \u001b[0ms\u001b[0m\u001b[0;34m[\u001b[0m\u001b[0;36m0\u001b[0m\u001b[0;34m]\u001b[0m\u001b[0;34m\u001b[0m\u001b[0;34m\u001b[0m\u001b[0m\n\u001b[0m",
            "\u001b[0;31mNameError\u001b[0m: name 's' is not defined"
          ]
        }
      ]
    },
    {
      "cell_type": "markdown",
      "source": [
        "## Difference between del and None:\n",
        "In the case `del`, the variable will be removed and we cannot access that variable(unbind operation)\n",
        "```python\n",
        "s = \"rakesh\"\n",
        "del s\n",
        "print(s) #NameError: name 's' is not defined.\n",
        "```\n"
      ],
      "metadata": {
        "id": "4IubUMO18Jhw"
      }
    },
    {
      "cell_type": "code",
      "source": [
        "s = \"rakesh\"\n",
        "del s\n",
        "print(s)"
      ],
      "metadata": {
        "colab": {
          "base_uri": "https://localhost:8080/",
          "height": 201
        },
        "id": "OD7pPFNhGkmY",
        "outputId": "5253d5dc-641b-4d16-9077-35c0ff1ea018"
      },
      "execution_count": 68,
      "outputs": [
        {
          "output_type": "error",
          "ename": "NameError",
          "evalue": "ignored",
          "traceback": [
            "\u001b[0;31m---------------------------------------------------------------------------\u001b[0m",
            "\u001b[0;31mNameError\u001b[0m                                 Traceback (most recent call last)",
            "\u001b[0;32m<ipython-input-68-d489efbb62e5>\u001b[0m in \u001b[0;36m<module>\u001b[0;34m()\u001b[0m\n\u001b[1;32m      1\u001b[0m \u001b[0ms\u001b[0m \u001b[0;34m=\u001b[0m \u001b[0;34m\"rakesh\"\u001b[0m\u001b[0;34m\u001b[0m\u001b[0;34m\u001b[0m\u001b[0m\n\u001b[1;32m      2\u001b[0m \u001b[0;32mdel\u001b[0m \u001b[0ms\u001b[0m\u001b[0;34m\u001b[0m\u001b[0;34m\u001b[0m\u001b[0m\n\u001b[0;32m----> 3\u001b[0;31m \u001b[0mprint\u001b[0m\u001b[0;34m(\u001b[0m\u001b[0ms\u001b[0m\u001b[0;34m)\u001b[0m\u001b[0;34m\u001b[0m\u001b[0;34m\u001b[0m\u001b[0m\n\u001b[0m",
            "\u001b[0;31mNameError\u001b[0m: name 's' is not defined"
          ]
        }
      ]
    },
    {
      "cell_type": "markdown",
      "source": [
        "\n",
        "But in the case of `None` assignment the variable won't be removed but the corresponding object is eligible for Garbage Collection (re bind operation). \n",
        "\n",
        "Hence after assigning with None value, we can access that variable.\n",
        "```python\n",
        "s = \"rakesh\"\n",
        "s = None\n",
        "print(s) #None\n",
        "```"
      ],
      "metadata": {
        "id": "0CCZOghJ8G58"
      }
    },
    {
      "cell_type": "code",
      "source": [
        "s = \"rakesh\"\n",
        "s = None\n",
        "print(s)"
      ],
      "metadata": {
        "colab": {
          "base_uri": "https://localhost:8080/"
        },
        "id": "iffNsCdmGnkx",
        "outputId": "296c1fed-a454-4085-870f-7a71dbf53711"
      },
      "execution_count": 69,
      "outputs": [
        {
          "output_type": "stream",
          "name": "stdout",
          "text": [
            "None\n"
          ]
        }
      ]
    },
    {
      "cell_type": "markdown",
      "source": [
        "#2. Introduction to OOP principles command line arguments\n",
        "## Class, object, methods,\n",
        "\n",
        "## Access specifiers –public ,private Constructors, Difference between Methods and constructors,\n",
        "\n",
        "## Method overloading\n",
        "## Inheritance and its types \n",
        "## Inheritance – Super classes- sub classes –Protected members\n",
        "## Polymorphism: Static Polymorphism , Dynamic Polymorphism (Overriding),\n",
        "\n",
        "## Object as argument and return value\n",
        "\n",
        "\n",
        "\n",
        "## Nested classes\n",
        "## Interfaces – defining an interface, implementing interface,\n",
        "## Differences between classes and interfaces\n",
        "## Extending interfaces\n",
        "\n",
        "# Exceptions – exception hierarchy \n",
        "\n",
        "## Raising exceptions\n",
        "\n",
        "## Built-in exceptions\n",
        "\n",
        "## Creating own exceptions\n",
        "\n"
      ],
      "metadata": {
        "id": "DgwmQdWBtX3J"
      }
    },
    {
      "cell_type": "code",
      "source": [
        ""
      ],
      "metadata": {
        "id": "nLbf6BTm8SXw"
      },
      "execution_count": null,
      "outputs": []
    },
    {
      "cell_type": "code",
      "source": [
        ""
      ],
      "metadata": {
        "id": "48E0TgeazV2F"
      },
      "execution_count": null,
      "outputs": []
    },
    {
      "cell_type": "markdown",
      "source": [
        "#3. Introduction To files: \n",
        "## Create, Read Write, \n",
        "\n",
        "## Append, Delete from file \n",
        "\n"
      ],
      "metadata": {
        "id": "Mlk9Dk8ktagT"
      }
    },
    {
      "cell_type": "markdown",
      "source": [
        "#4. Packages\n",
        "\n",
        "## Importing packages\n",
        "\n",
        "# Multithreading introduction\n",
        "\n",
        "## Different Thread objects.\n",
        "\n",
        "## Difference Between Multithreading vs Multiprocessing in Python"
      ],
      "metadata": {
        "id": "DWKeT1tFtb4D"
      }
    },
    {
      "cell_type": "code",
      "source": [
        ""
      ],
      "metadata": {
        "id": "L_mjfLJVrqJ2"
      },
      "execution_count": null,
      "outputs": []
    },
    {
      "cell_type": "markdown",
      "source": [
        ""
      ],
      "metadata": {
        "id": "PGD58amPruAV"
      }
    }
  ]
}