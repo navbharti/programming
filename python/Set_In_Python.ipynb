{
  "nbformat": 4,
  "nbformat_minor": 0,
  "metadata": {
    "colab": {
      "name": "Set In Python.ipynb",
      "provenance": [],
      "authorship_tag": "ABX9TyPQlwWYeOPnsqr2EeoNRTAa",
      "include_colab_link": true
    },
    "kernelspec": {
      "name": "python3",
      "display_name": "Python 3"
    },
    "language_info": {
      "name": "python"
    }
  },
  "cells": [
    {
      "cell_type": "markdown",
      "metadata": {
        "id": "view-in-github",
        "colab_type": "text"
      },
      "source": [
        "<a href=\"https://colab.research.google.com/github/navbharti/programming/blob/master/python/Set_In_Python.ipynb\" target=\"_parent\"><img src=\"https://colab.research.google.com/assets/colab-badge.svg\" alt=\"Open In Colab\"/></a>"
      ]
    },
    {
      "cell_type": "code",
      "execution_count": null,
      "metadata": {
        "colab": {
          "base_uri": "https://localhost:8080/"
        },
        "id": "Y4imtDtfP-J5",
        "outputId": "a63f2b2f-274c-4887-c8ab-61141fa624f1"
      },
      "outputs": [
        {
          "output_type": "stream",
          "name": "stdout",
          "text": [
            "s1:  set()\n",
            "Datatype of s1:  <class 'set'>\n"
          ]
        }
      ],
      "source": [
        "s1 = set()\n",
        "print(\"s1: \", s1)\n",
        "print(\"Datatype of s1: \",type(s1))\n",
        "#Output: set()\n",
        "\n",
        "\n"
      ]
    },
    {
      "cell_type": "code",
      "source": [
        "\n",
        "#Creating Empty Set using curly braces is not possible\n",
        "s2 = {}\n",
        "print(\"s2: \", s2)\n",
        "print(\"Datatype of s2: \", type(s2))\n"
      ],
      "metadata": {
        "colab": {
          "base_uri": "https://localhost:8080/"
        },
        "id": "D225xLafQSii",
        "outputId": "cc207d81-1b2c-4e17-8b93-f8e27d566cbd"
      },
      "execution_count": null,
      "outputs": [
        {
          "output_type": "stream",
          "name": "stdout",
          "text": [
            "s2:  {}\n",
            "Datatype of s2:  <class 'dict'>\n"
          ]
        }
      ]
    },
    {
      "cell_type": "code",
      "source": [
        "\n",
        "#Creating Set with one element\n",
        "s3 = {10}\n",
        "print(\"s3: \", s3)\n",
        "print(\"Datatype of s3: \", type(s3))\n",
        "\n"
      ],
      "metadata": {
        "colab": {
          "base_uri": "https://localhost:8080/"
        },
        "id": "HDyAsqwTQQ4s",
        "outputId": "88c42c87-5466-4e48-bbf5-950c0fe31f13"
      },
      "execution_count": null,
      "outputs": [
        {
          "output_type": "stream",
          "name": "stdout",
          "text": [
            "s3:  {10}\n",
            "Datatype of s3:  <class 'set'>\n"
          ]
        }
      ]
    },
    {
      "cell_type": "code",
      "source": [
        "\n",
        "#Creating Set with multiple elements\n",
        "s4 = {10, 20, 30, 40}\n",
        "print(\"s4: \", s4)\n",
        "print(\"Datatype of s4: \", type(s4))\n"
      ],
      "metadata": {
        "colab": {
          "base_uri": "https://localhost:8080/"
        },
        "id": "V1akj8H3QPZt",
        "outputId": "88948f4e-61cb-48ae-f5dd-c0f1af67ea2c"
      },
      "execution_count": null,
      "outputs": [
        {
          "output_type": "stream",
          "name": "stdout",
          "text": [
            "s4:  {40, 10, 20, 30}\n",
            "Datatype of s4:  <class 'set'>\n"
          ]
        }
      ]
    },
    {
      "cell_type": "code",
      "source": [
        "#Creating Set with Heterogeneous Datatype\n",
        "s5 = {12, \"one\", 2.5, True, 3+5j}\n",
        "print(\"s5: \", s5)\n",
        "print(\"Datatype of s5: \", type(s5))\n",
        "\n"
      ],
      "metadata": {
        "colab": {
          "base_uri": "https://localhost:8080/"
        },
        "id": "CuE8kSyhQNSn",
        "outputId": "51d9c6da-70a0-4001-943d-15173e7bd7a4"
      },
      "execution_count": null,
      "outputs": [
        {
          "output_type": "stream",
          "name": "stdout",
          "text": [
            "s5:  {True, 2.5, 12, (3+5j), 'one'}\n",
            "Datatype of s5:  <class 'set'>\n"
          ]
        }
      ]
    },
    {
      "cell_type": "code",
      "source": [
        "#Creating Set with Duplicate Elements\n",
        "s6 = {10, 10, 4, 10, 4, 3, 2, 10}\n",
        "print(\"s6: \", s6)\n",
        "print(\"Datatype of s6: \", type(s6))\n"
      ],
      "metadata": {
        "colab": {
          "base_uri": "https://localhost:8080/"
        },
        "id": "4aKY7Es0QLF3",
        "outputId": "722b5801-109f-4c1f-a08b-4b0deaaf4844"
      },
      "execution_count": null,
      "outputs": [
        {
          "output_type": "stream",
          "name": "stdout",
          "text": [
            "s6:  {2, 10, 3, 4}\n",
            "Datatype of s6:  <class 'set'>\n"
          ]
        }
      ]
    }
  ]
}