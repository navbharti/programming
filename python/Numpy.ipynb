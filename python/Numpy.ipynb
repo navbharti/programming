{
  "cells": [
    {
      "cell_type": "markdown",
      "metadata": {
        "id": "view-in-github",
        "colab_type": "text"
      },
      "source": [
        "<a href=\"https://colab.research.google.com/github/navbharti/programming/blob/master/python/Numpy.ipynb\" target=\"_parent\"><img src=\"https://colab.research.google.com/assets/colab-badge.svg\" alt=\"Open In Colab\"/></a>"
      ]
    },
    {
      "cell_type": "markdown",
      "metadata": {
        "id": "IummFDYoYDRM"
      },
      "source": [
        "<!DOCTYPE html>\n",
        "<html>\n",
        "<body>\n",
        "<div align=\"center\">\n",
        "    \n",
        "<h1>Numpy Tutorial</h1>\n",
        "</div>\n",
        "</body>\n",
        "</html>"
      ]
    },
    {
      "cell_type": "code",
      "execution_count": 1,
      "metadata": {
        "id": "1HaIO4y8YDRR"
      },
      "outputs": [],
      "source": [
        "# Import Numpy Library\n",
        "import numpy as np\n",
        "import warnings\n",
        "warnings.filterwarnings(\"ignore\")\n",
        "from IPython.display import Image"
      ]
    },
    {
      "cell_type": "markdown",
      "metadata": {
        "id": "SDtfIBY-YDRT"
      },
      "source": [
        "# Numpy Array Creation"
      ]
    },
    {
      "cell_type": "code",
      "execution_count": 2,
      "metadata": {
        "colab": {
          "base_uri": "https://localhost:8080/"
        },
        "id": "vtjEYML9YDRU",
        "outputId": "bd9c4716-955d-4b65-e873-529ca79be157"
      },
      "outputs": [
        {
          "output_type": "execute_result",
          "data": {
            "text/plain": [
              "[10, 20, 30, 40, 50, 60]"
            ]
          },
          "metadata": {},
          "execution_count": 2
        }
      ],
      "source": [
        "list1 = [10,20,30,40,50,60]\n",
        "list1"
      ]
    },
    {
      "cell_type": "code",
      "execution_count": 3,
      "metadata": {
        "colab": {
          "base_uri": "https://localhost:8080/"
        },
        "id": "qKSFbJwXYDRW",
        "outputId": "8a747313-495a-4b84-ec2a-de8e2e0d40e4"
      },
      "outputs": [
        {
          "output_type": "execute_result",
          "data": {
            "text/plain": [
              "list"
            ]
          },
          "metadata": {},
          "execution_count": 3
        }
      ],
      "source": [
        "# Display the type of an object\n",
        "type(list1)"
      ]
    },
    {
      "cell_type": "code",
      "execution_count": 4,
      "metadata": {
        "colab": {
          "base_uri": "https://localhost:8080/"
        },
        "id": "PN7_iNGwYDRW",
        "outputId": "c1c4e909-5d28-45f2-a89f-222baca3245d"
      },
      "outputs": [
        {
          "output_type": "execute_result",
          "data": {
            "text/plain": [
              "array([10, 20, 30, 40, 50, 60])"
            ]
          },
          "metadata": {},
          "execution_count": 4
        }
      ],
      "source": [
        "#Convert list to Numpy Array\n",
        "arr1 = np.array(list1)\n",
        "arr1"
      ]
    },
    {
      "cell_type": "code",
      "execution_count": 5,
      "metadata": {
        "colab": {
          "base_uri": "https://localhost:8080/"
        },
        "id": "ZaWaujPLYDRX",
        "outputId": "dcd723dd-b225-4726-df4c-b0d3e74166c6"
      },
      "outputs": [
        {
          "output_type": "execute_result",
          "data": {
            "text/plain": [
              "<memory at 0x7f38c9a03280>"
            ]
          },
          "metadata": {},
          "execution_count": 5
        }
      ],
      "source": [
        "#Memory address of an array object\n",
        "arr1.data"
      ]
    },
    {
      "cell_type": "code",
      "execution_count": 6,
      "metadata": {
        "colab": {
          "base_uri": "https://localhost:8080/"
        },
        "id": "JInsQLhzYDRY",
        "outputId": "dcb50efd-85b0-4e9c-8143-30aa24435403"
      },
      "outputs": [
        {
          "output_type": "execute_result",
          "data": {
            "text/plain": [
              "numpy.ndarray"
            ]
          },
          "metadata": {},
          "execution_count": 6
        }
      ],
      "source": [
        "# Display type of an object\n",
        "type(arr1)"
      ]
    },
    {
      "cell_type": "code",
      "execution_count": 7,
      "metadata": {
        "colab": {
          "base_uri": "https://localhost:8080/"
        },
        "id": "ItZdFtDOYDRZ",
        "outputId": "5132a010-0349-47aa-a4fa-b3490771d7eb"
      },
      "outputs": [
        {
          "output_type": "execute_result",
          "data": {
            "text/plain": [
              "dtype('int64')"
            ]
          },
          "metadata": {},
          "execution_count": 7
        }
      ],
      "source": [
        "#Datatype of array\n",
        "arr1.dtype"
      ]
    },
    {
      "cell_type": "code",
      "execution_count": 8,
      "metadata": {
        "colab": {
          "base_uri": "https://localhost:8080/"
        },
        "id": "NFeY8mjFYDRZ",
        "outputId": "8ad704de-9529-4a9a-eb92-dda202c5c3b5"
      },
      "outputs": [
        {
          "output_type": "execute_result",
          "data": {
            "text/plain": [
              "array([10., 20., 30., 40., 50., 60.])"
            ]
          },
          "metadata": {},
          "execution_count": 8
        }
      ],
      "source": [
        "# Convert Integer Array to FLOAT\n",
        "arr1.astype(float)"
      ]
    },
    {
      "cell_type": "code",
      "execution_count": 9,
      "metadata": {
        "colab": {
          "base_uri": "https://localhost:8080/"
        },
        "id": "G3Q6sulOYDRo",
        "outputId": "d70c5f1e-36bd-4167-e740-d53e2a8b741f"
      },
      "outputs": [
        {
          "output_type": "execute_result",
          "data": {
            "text/plain": [
              "array([0, 1, 2, 3, 4, 5, 6, 7, 8, 9])"
            ]
          },
          "metadata": {},
          "execution_count": 9
        }
      ],
      "source": [
        "# Generate evenly spaced numbers (space =1) between 0 to 10\n",
        "np.arange(0,10)"
      ]
    },
    {
      "cell_type": "code",
      "execution_count": 10,
      "metadata": {
        "colab": {
          "base_uri": "https://localhost:8080/"
        },
        "id": "zVyPv8z_YDRp",
        "outputId": "d3762c15-9573-4400-fbed-f79418f6ab4c"
      },
      "outputs": [
        {
          "output_type": "execute_result",
          "data": {
            "text/plain": [
              "array([ 0, 10, 20, 30, 40, 50, 60, 70, 80, 90])"
            ]
          },
          "metadata": {},
          "execution_count": 10
        }
      ],
      "source": [
        "# Generate numbers between 0 to 100 with a space of 10\n",
        "np.arange(0,100,10)"
      ]
    },
    {
      "cell_type": "code",
      "execution_count": 11,
      "metadata": {
        "colab": {
          "base_uri": "https://localhost:8080/"
        },
        "id": "Twgv0Bs2YDRp",
        "outputId": "2b67f489-10a2-4f88-adcd-ae38b79f419a"
      },
      "outputs": [
        {
          "output_type": "execute_result",
          "data": {
            "text/plain": [
              "array([100,  90,  80,  70,  60,  50,  40,  30,  20])"
            ]
          },
          "metadata": {},
          "execution_count": 11
        }
      ],
      "source": [
        "# Generate numbers between 10 to 100 with a space of 10 in descending order\n",
        "np.arange(100, 10, -10)"
      ]
    },
    {
      "cell_type": "code",
      "execution_count": 12,
      "metadata": {
        "colab": {
          "base_uri": "https://localhost:8080/"
        },
        "id": "xo-mwBeHYDRq",
        "outputId": "deba0a81-be73-4bc0-8663-1eee7ccb2301"
      },
      "outputs": [
        {
          "output_type": "execute_result",
          "data": {
            "text/plain": [
              "(10,)"
            ]
          },
          "metadata": {},
          "execution_count": 12
        }
      ],
      "source": [
        "#Shape of Array\n",
        "arr3 = np.arange(0,10)\n",
        "arr3.shape"
      ]
    },
    {
      "cell_type": "code",
      "execution_count": 13,
      "metadata": {
        "colab": {
          "base_uri": "https://localhost:8080/"
        },
        "id": "aJSVPzgYYDRq",
        "outputId": "a97dc061-17a1-4860-9db6-53382e20b068"
      },
      "outputs": [
        {
          "output_type": "execute_result",
          "data": {
            "text/plain": [
              "array([0, 1, 2, 3, 4, 5, 6, 7, 8, 9])"
            ]
          },
          "metadata": {},
          "execution_count": 13
        }
      ],
      "source": [
        "arr3"
      ]
    },
    {
      "cell_type": "code",
      "execution_count": 14,
      "metadata": {
        "colab": {
          "base_uri": "https://localhost:8080/"
        },
        "id": "xBtm6VHcYDRr",
        "outputId": "d9000461-b38b-4c69-d71d-402a97d33b16"
      },
      "outputs": [
        {
          "output_type": "execute_result",
          "data": {
            "text/plain": [
              "10"
            ]
          },
          "metadata": {},
          "execution_count": 14
        }
      ],
      "source": [
        "# Size of array\n",
        "arr3.size"
      ]
    },
    {
      "cell_type": "code",
      "execution_count": 15,
      "metadata": {
        "colab": {
          "base_uri": "https://localhost:8080/"
        },
        "id": "WKZvxXHIYDRs",
        "outputId": "bde370e0-1c39-4e2b-ee5d-9c7eebe111c1"
      },
      "outputs": [
        {
          "output_type": "execute_result",
          "data": {
            "text/plain": [
              "1"
            ]
          },
          "metadata": {},
          "execution_count": 15
        }
      ],
      "source": [
        "# Dimension \n",
        "arr3.ndim"
      ]
    },
    {
      "cell_type": "code",
      "execution_count": 16,
      "metadata": {
        "colab": {
          "base_uri": "https://localhost:8080/"
        },
        "id": "p0ElrGKOYDRs",
        "outputId": "26bdf79f-1a4e-4e63-8bac-f888c2423ff2"
      },
      "outputs": [
        {
          "output_type": "execute_result",
          "data": {
            "text/plain": [
              "dtype('int64')"
            ]
          },
          "metadata": {},
          "execution_count": 16
        }
      ],
      "source": [
        "# Datatype of object\n",
        "arr3.dtype"
      ]
    },
    {
      "cell_type": "code",
      "execution_count": 17,
      "metadata": {
        "colab": {
          "base_uri": "https://localhost:8080/"
        },
        "id": "IMBe9Qd2YDRv",
        "outputId": "2b9882f4-7071-4812-97c7-0ffec33f431a"
      },
      "outputs": [
        {
          "output_type": "execute_result",
          "data": {
            "text/plain": [
              "8"
            ]
          },
          "metadata": {},
          "execution_count": 17
        }
      ],
      "source": [
        "# Bytes consumed by one element of an array object\n",
        "arr3.itemsize"
      ]
    },
    {
      "cell_type": "code",
      "execution_count": 18,
      "metadata": {
        "colab": {
          "base_uri": "https://localhost:8080/"
        },
        "id": "po3uepicYDRw",
        "outputId": "d9664b10-0f14-42c2-b869-cd58d05d4991"
      },
      "outputs": [
        {
          "output_type": "execute_result",
          "data": {
            "text/plain": [
              "80"
            ]
          },
          "metadata": {},
          "execution_count": 18
        }
      ],
      "source": [
        "# Bytes consumed by an array object\n",
        "arr3.nbytes"
      ]
    },
    {
      "cell_type": "code",
      "execution_count": 19,
      "metadata": {
        "colab": {
          "base_uri": "https://localhost:8080/"
        },
        "id": "LCFNZEyZYDRx",
        "outputId": "235706e9-2019-4c90-dc78-80db506cf781"
      },
      "outputs": [
        {
          "output_type": "execute_result",
          "data": {
            "text/plain": [
              "10"
            ]
          },
          "metadata": {},
          "execution_count": 19
        }
      ],
      "source": [
        "# Length of array\n",
        "len(arr3)"
      ]
    },
    {
      "cell_type": "code",
      "execution_count": 20,
      "metadata": {
        "colab": {
          "base_uri": "https://localhost:8080/"
        },
        "id": "Ouy802rXYDRx",
        "outputId": "a62e08ae-bc4f-45c3-8871-944ebfc199b7"
      },
      "outputs": [
        {
          "output_type": "execute_result",
          "data": {
            "text/plain": [
              "array([0., 0., 0., 0., 0., 0., 0., 0., 0., 0.])"
            ]
          },
          "metadata": {},
          "execution_count": 20
        }
      ],
      "source": [
        "# Generate an array of zeros\n",
        "np.zeros(10)"
      ]
    },
    {
      "cell_type": "code",
      "execution_count": 21,
      "metadata": {
        "colab": {
          "base_uri": "https://localhost:8080/"
        },
        "id": "8olw8HvjYDRy",
        "outputId": "05694e3a-810d-422e-f361-8492d92e91b2"
      },
      "outputs": [
        {
          "output_type": "execute_result",
          "data": {
            "text/plain": [
              "array([1., 1., 1., 1., 1., 1., 1., 1., 1., 1.])"
            ]
          },
          "metadata": {},
          "execution_count": 21
        }
      ],
      "source": [
        "# Generate an array of ones with given shape\n",
        "np.ones(10)"
      ]
    },
    {
      "cell_type": "code",
      "execution_count": 22,
      "metadata": {
        "colab": {
          "base_uri": "https://localhost:8080/"
        },
        "id": "-r53f7aMYDRy",
        "outputId": "182ff9bd-4acc-4c7c-d731-6b064edfb9cc"
      },
      "outputs": [
        {
          "output_type": "execute_result",
          "data": {
            "text/plain": [
              "array([10, 10, 10, 10, 10])"
            ]
          },
          "metadata": {},
          "execution_count": 22
        }
      ],
      "source": [
        "# Repeat 10 five times in an array\n",
        "np.repeat(10,5)"
      ]
    },
    {
      "cell_type": "code",
      "execution_count": 23,
      "metadata": {
        "colab": {
          "base_uri": "https://localhost:8080/"
        },
        "id": "nzymA7zkYDRz",
        "outputId": "9864915a-894e-4d82-99ab-69bec74644cc"
      },
      "outputs": [
        {
          "output_type": "execute_result",
          "data": {
            "text/plain": [
              "array([10, 10, 10, 20, 20, 20, 30, 30, 30])"
            ]
          },
          "metadata": {},
          "execution_count": 23
        }
      ],
      "source": [
        "# Repeat each element in array 'a' thrice\n",
        "a= np.array([10,20,30])\n",
        "np.repeat(a,3)"
      ]
    },
    {
      "cell_type": "code",
      "execution_count": 24,
      "metadata": {
        "colab": {
          "base_uri": "https://localhost:8080/"
        },
        "id": "s9g0nkFoYDRz",
        "outputId": "aac048c8-9f7b-4df8-f8ad-94c708b509c3"
      },
      "outputs": [
        {
          "output_type": "execute_result",
          "data": {
            "text/plain": [
              "array([10, 10, 10, 10, 10])"
            ]
          },
          "metadata": {},
          "execution_count": 24
        }
      ],
      "source": [
        "# Array of 10's\n",
        "np.full(5,10)"
      ]
    },
    {
      "cell_type": "code",
      "execution_count": 25,
      "metadata": {
        "colab": {
          "base_uri": "https://localhost:8080/"
        },
        "id": "zGvmwpLVYDR0",
        "outputId": "ad6f65ea-0a69-4a34-f608-783c2b80ff6d"
      },
      "outputs": [
        {
          "output_type": "execute_result",
          "data": {
            "text/plain": [
              "array([ 1,  3,  5,  7,  9, 11, 13, 15, 17, 19])"
            ]
          },
          "metadata": {},
          "execution_count": 25
        }
      ],
      "source": [
        "# Generate array of Odd numbers\n",
        "ar1 = np.arange(1,20)\n",
        "ar1[ar1%2 ==1]"
      ]
    },
    {
      "cell_type": "code",
      "execution_count": 26,
      "metadata": {
        "colab": {
          "base_uri": "https://localhost:8080/"
        },
        "id": "IQNLrhz-YDR0",
        "outputId": "738f1f29-e7a1-43ad-cc71-0513e1b4426d"
      },
      "outputs": [
        {
          "output_type": "execute_result",
          "data": {
            "text/plain": [
              "array([ 2,  4,  6,  8, 10, 12, 14, 16, 18])"
            ]
          },
          "metadata": {},
          "execution_count": 26
        }
      ],
      "source": [
        "# Generate array of even numbers\n",
        "ar1 = np.arange(1,20)\n",
        "ar1[ar1%2 == 0]"
      ]
    },
    {
      "cell_type": "code",
      "execution_count": 27,
      "metadata": {
        "colab": {
          "base_uri": "https://localhost:8080/"
        },
        "id": "yTJUT5U5YDR1",
        "outputId": "e4642c90-0cec-42e7-9cfd-7f6a8867a0b1"
      },
      "outputs": [
        {
          "output_type": "execute_result",
          "data": {
            "text/plain": [
              "array([10.        , 13.33333333, 16.66666667, 20.        ])"
            ]
          },
          "metadata": {},
          "execution_count": 27
        }
      ],
      "source": [
        "# Generate evenly spaced 4 numbers between 10 to 20.\n",
        "np.linspace(10,20,4)"
      ]
    },
    {
      "cell_type": "code",
      "execution_count": 28,
      "metadata": {
        "colab": {
          "base_uri": "https://localhost:8080/"
        },
        "id": "d9NONUtLYDSD",
        "outputId": "0fca8da8-e0f6-48c7-ad16-6c1390f215c5"
      },
      "outputs": [
        {
          "output_type": "execute_result",
          "data": {
            "text/plain": [
              "array([10., 11., 12., 13., 14., 15., 16., 17., 18., 19., 20.])"
            ]
          },
          "metadata": {},
          "execution_count": 28
        }
      ],
      "source": [
        "# Generate evenly spaced 11 numbers between 10 to 20.\n",
        "np.linspace(10,20,11)"
      ]
    },
    {
      "cell_type": "code",
      "execution_count": 29,
      "metadata": {
        "colab": {
          "base_uri": "https://localhost:8080/"
        },
        "id": "ZpQ24SWQYDSD",
        "outputId": "5ae4c334-1bf5-4c1a-ecf8-32a6d2197934"
      },
      "outputs": [
        {
          "output_type": "execute_result",
          "data": {
            "text/plain": [
              "array([0.48644093, 0.30413212, 0.72710365, 0.2899368 ])"
            ]
          },
          "metadata": {},
          "execution_count": 29
        }
      ],
      "source": [
        "# Create an array of random values\n",
        "np.random.random(4)"
      ]
    },
    {
      "cell_type": "code",
      "execution_count": 30,
      "metadata": {
        "colab": {
          "base_uri": "https://localhost:8080/"
        },
        "id": "_UhrqykyYDSE",
        "outputId": "ce01a60c-12cc-4340-d863-bb28416e0d6a"
      },
      "outputs": [
        {
          "output_type": "execute_result",
          "data": {
            "text/plain": [
              "array([479,  13, 406, 265, 369])"
            ]
          },
          "metadata": {},
          "execution_count": 30
        }
      ],
      "source": [
        "# Generate an array of 5 elements of Random Integer numbers\n",
        "np.random.randint(0,500,5)"
      ]
    },
    {
      "cell_type": "code",
      "execution_count": 31,
      "metadata": {
        "colab": {
          "base_uri": "https://localhost:8080/"
        },
        "id": "7DL7v0XbYDSF",
        "outputId": "d74f1aee-07d7-4500-dee6-21681ec67b16"
      },
      "outputs": [
        {
          "output_type": "execute_result",
          "data": {
            "text/plain": [
              "array([440, 232, 295,  50, 350,  69, 224, 184, 469, 265])"
            ]
          },
          "metadata": {},
          "execution_count": 31
        }
      ],
      "source": [
        "# Generate an array of Random Integer numbers\n",
        "np.random.randint(0,500,10)"
      ]
    },
    {
      "cell_type": "code",
      "execution_count": 32,
      "metadata": {
        "colab": {
          "base_uri": "https://localhost:8080/"
        },
        "id": "JJWhdSoPYDSF",
        "outputId": "e5aa6f01-79c2-4983-b0c5-7d252474eaa0"
      },
      "outputs": [
        {
          "output_type": "execute_result",
          "data": {
            "text/plain": [
              "array([66, 92, 98, 17, 83, 57, 86, 97, 96, 47, 73])"
            ]
          },
          "metadata": {},
          "execution_count": 32
        }
      ],
      "source": [
        "# Using random.seed we can generate same number of Random numbers\n",
        "np.random.seed(123)\n",
        "np.random.randint(0,100,11)\n",
        "#array([66, 92, 98, 17, 83, 57, 86, 97, 96, 47])"
      ]
    },
    {
      "cell_type": "code",
      "execution_count": 33,
      "metadata": {
        "colab": {
          "base_uri": "https://localhost:8080/"
        },
        "id": "CkVKCmFzYDSF",
        "outputId": "22951ae2-9f66-4ac1-f3ca-fc1b9ecc6478"
      },
      "outputs": [
        {
          "output_type": "execute_result",
          "data": {
            "text/plain": [
              "array([66, 92, 98, 17, 83, 57, 86, 97, 96, 47])"
            ]
          },
          "metadata": {},
          "execution_count": 33
        }
      ],
      "source": [
        "# Using random.seed we can generate same number of Random numbers\n",
        "np.random.seed(123)\n",
        "np.random.randint(0,100,10)"
      ]
    },
    {
      "cell_type": "code",
      "execution_count": 34,
      "metadata": {
        "colab": {
          "base_uri": "https://localhost:8080/"
        },
        "id": "JQkD-doUYDSG",
        "outputId": "66ab1bb4-4ca0-440c-c340-a9906041ae9d"
      },
      "outputs": [
        {
          "output_type": "execute_result",
          "data": {
            "text/plain": [
              "array([95, 11, 81, 70, 63, 87, 75,  9, 77, 40])"
            ]
          },
          "metadata": {},
          "execution_count": 34
        }
      ],
      "source": [
        "# Using random.seed we can generate same number of Random numbers\n",
        "np.random.seed(101)\n",
        "np.random.randint(0,100,10)"
      ]
    },
    {
      "cell_type": "code",
      "execution_count": 35,
      "metadata": {
        "colab": {
          "base_uri": "https://localhost:8080/"
        },
        "id": "mtGyclECYDSG",
        "outputId": "12a6ed89-454a-4929-f69d-3233041af003"
      },
      "outputs": [
        {
          "output_type": "execute_result",
          "data": {
            "text/plain": [
              "array([95, 11, 81, 70, 63, 87, 75,  9, 77, 40])"
            ]
          },
          "metadata": {},
          "execution_count": 35
        }
      ],
      "source": [
        "# Using random.seed we can generate same number of Random numbers\n",
        "np.random.seed(101)\n",
        "np.random.randint(0,100,10)"
      ]
    },
    {
      "cell_type": "code",
      "execution_count": 36,
      "metadata": {
        "colab": {
          "base_uri": "https://localhost:8080/"
        },
        "id": "3xddLMMVYDSH",
        "outputId": "957dd921-9588-4722-d430-bd1023c5efd0"
      },
      "outputs": [
        {
          "output_type": "execute_result",
          "data": {
            "text/plain": [
              "array([6.5348311 , 9.4680654 , 8.60771931, 5.94969477, 7.77113796,\n",
              "       6.76065977, 5.90946201, 8.92800881, 9.82741611, 6.16176831])"
            ]
          },
          "metadata": {},
          "execution_count": 36
        }
      ],
      "source": [
        "# Generate array of Random float numbers\n",
        "f1 = np.random.uniform(5,10, size=(10))\n",
        "f1"
      ]
    },
    {
      "cell_type": "code",
      "execution_count": 37,
      "metadata": {
        "colab": {
          "base_uri": "https://localhost:8080/"
        },
        "id": "5Rte4hYNYDSI",
        "outputId": "fc7ec40e-0d94-453c-b2c4-17e6f81ef174"
      },
      "outputs": [
        {
          "output_type": "execute_result",
          "data": {
            "text/plain": [
              "array([6., 9., 8., 5., 7., 6., 5., 8., 9., 6.])"
            ]
          },
          "metadata": {},
          "execution_count": 37
        }
      ],
      "source": [
        "# Extract Integer part\n",
        "np.floor(f1)"
      ]
    },
    {
      "cell_type": "code",
      "execution_count": 38,
      "metadata": {
        "colab": {
          "base_uri": "https://localhost:8080/"
        },
        "id": "tbIZQ0kKYDSI",
        "outputId": "16d99f2a-8fed-43da-e875-3c251bbbeff0"
      },
      "outputs": [
        {
          "output_type": "execute_result",
          "data": {
            "text/plain": [
              "array([6., 9., 8., 5., 7., 6., 5., 8., 9., 6.])"
            ]
          },
          "metadata": {},
          "execution_count": 38
        }
      ],
      "source": [
        "# Truncate decimal part\n",
        "np.trunc(f1)"
      ]
    },
    {
      "cell_type": "code",
      "execution_count": 39,
      "metadata": {
        "colab": {
          "base_uri": "https://localhost:8080/"
        },
        "id": "E6V9L7WTYDSI",
        "outputId": "59db0bfd-0014-495c-b486-325c9ce70a4f"
      },
      "outputs": [
        {
          "output_type": "execute_result",
          "data": {
            "text/plain": [
              "array([6, 9, 8, 5, 7, 6, 5, 8, 9, 6])"
            ]
          },
          "metadata": {},
          "execution_count": 39
        }
      ],
      "source": [
        "# Convert Float Array to Integer array\n",
        "f1.astype(int)"
      ]
    },
    {
      "cell_type": "code",
      "execution_count": 40,
      "metadata": {
        "colab": {
          "base_uri": "https://localhost:8080/"
        },
        "id": "UDG6BUt0YDSJ",
        "outputId": "39d8fd83-87be-41c3-c331-4de3aaeea3a2"
      },
      "outputs": [
        {
          "output_type": "stream",
          "name": "stdout",
          "text": [
            "Mean:  0.6907058731805531\n",
            "1.1794247925082093\n"
          ]
        }
      ],
      "source": [
        "# Normal distribution (mean=0 and variance=1)\n",
        "b2 =np.random.randn(10)\n",
        "b2\n",
        "print(\"Mean: \", np.mean(b2))\n",
        "print(np.var(b2))"
      ]
    },
    {
      "cell_type": "code",
      "execution_count": 41,
      "metadata": {
        "colab": {
          "base_uri": "https://localhost:8080/"
        },
        "id": "Pylv7023YDSJ",
        "outputId": "4566f723-c1b5-47e9-8835-001a74b862fc"
      },
      "outputs": [
        {
          "output_type": "execute_result",
          "data": {
            "text/plain": [
              "array([10, 20, 30, 40, 50, 60])"
            ]
          },
          "metadata": {},
          "execution_count": 41
        }
      ],
      "source": [
        "arr1"
      ]
    },
    {
      "cell_type": "code",
      "execution_count": 42,
      "metadata": {
        "colab": {
          "base_uri": "https://localhost:8080/"
        },
        "id": "QSqeNuWJYDSK",
        "outputId": "6c14fa60-b077-4421-d06d-65b44780e205"
      },
      "outputs": [
        {
          "output_type": "stream",
          "name": "stdout",
          "text": [
            "(0,) 10\n",
            "(1,) 20\n",
            "(2,) 30\n",
            "(3,) 40\n",
            "(4,) 50\n",
            "(5,) 60\n"
          ]
        }
      ],
      "source": [
        "# Enumerate for Numpy Arrays\n",
        "for index, value in np.ndenumerate(arr1):\n",
        "    print(index, value)"
      ]
    },
    {
      "cell_type": "markdown",
      "metadata": {
        "id": "hx4Ps-XlYDSK"
      },
      "source": [
        "# Operations on an Array"
      ]
    },
    {
      "cell_type": "code",
      "execution_count": 43,
      "metadata": {
        "colab": {
          "base_uri": "https://localhost:8080/"
        },
        "id": "qwbUlzOKYDSK",
        "outputId": "bbb59c61-1a1a-46f7-d269-75cbec39e8c3"
      },
      "outputs": [
        {
          "output_type": "execute_result",
          "data": {
            "text/plain": [
              "array([ 1,  2,  3,  4,  5,  6,  7,  8,  9, 10, 11, 12, 13, 14, 15, 16, 17,\n",
              "       18, 19])"
            ]
          },
          "metadata": {},
          "execution_count": 43
        }
      ],
      "source": [
        "arr2 = np.arange(1,20)\n",
        "arr2"
      ]
    },
    {
      "cell_type": "code",
      "execution_count": 44,
      "metadata": {
        "colab": {
          "base_uri": "https://localhost:8080/"
        },
        "id": "ZVHN16sZYDSL",
        "outputId": "4243b105-fa87-44f9-fe69-0244d62c5d89"
      },
      "outputs": [
        {
          "output_type": "execute_result",
          "data": {
            "text/plain": [
              "190"
            ]
          },
          "metadata": {},
          "execution_count": 44
        }
      ],
      "source": [
        "# Sum of all elements in an array\n",
        "arr2.sum()"
      ]
    },
    {
      "cell_type": "code",
      "execution_count": 45,
      "metadata": {
        "colab": {
          "base_uri": "https://localhost:8080/"
        },
        "id": "-PHWJMp3YDSL",
        "outputId": "bca29c59-f521-4e07-cc5e-28903e9955e2"
      },
      "outputs": [
        {
          "output_type": "execute_result",
          "data": {
            "text/plain": [
              "array([  1,   3,   6,  10,  15,  21,  28,  36,  45,  55,  66,  78,  91,\n",
              "       105, 120, 136, 153, 171, 190])"
            ]
          },
          "metadata": {},
          "execution_count": 45
        }
      ],
      "source": [
        "# Cumulative Sum\n",
        "np.cumsum(arr2)"
      ]
    },
    {
      "cell_type": "code",
      "execution_count": 46,
      "metadata": {
        "colab": {
          "base_uri": "https://localhost:8080/"
        },
        "id": "z7FC1bC5YDSL",
        "outputId": "0b73da4d-d32c-46a5-a0c4-e91505d888cc"
      },
      "outputs": [
        {
          "output_type": "execute_result",
          "data": {
            "text/plain": [
              "1"
            ]
          },
          "metadata": {},
          "execution_count": 46
        }
      ],
      "source": [
        "# Find Minimum number in an array\n",
        "arr2.min()"
      ]
    },
    {
      "cell_type": "code",
      "execution_count": 47,
      "metadata": {
        "colab": {
          "base_uri": "https://localhost:8080/"
        },
        "id": "krTbGI3CYDSM",
        "outputId": "ae8ec9d1-1e19-4db1-f124-a7b03d415117"
      },
      "outputs": [
        {
          "output_type": "execute_result",
          "data": {
            "text/plain": [
              "19"
            ]
          },
          "metadata": {},
          "execution_count": 47
        }
      ],
      "source": [
        "# Find MAX number in an array\n",
        "arr2.max()"
      ]
    },
    {
      "cell_type": "code",
      "execution_count": 48,
      "metadata": {
        "colab": {
          "base_uri": "https://localhost:8080/"
        },
        "id": "IcXm4ejEYDSN",
        "outputId": "f8052b43-697d-4d07-a3e1-2c53f5e6e0c5"
      },
      "outputs": [
        {
          "output_type": "execute_result",
          "data": {
            "text/plain": [
              "0"
            ]
          },
          "metadata": {},
          "execution_count": 48
        }
      ],
      "source": [
        "# Find INDEX of Minimum number in an array\n",
        "arr2.argmin()"
      ]
    },
    {
      "cell_type": "code",
      "execution_count": 49,
      "metadata": {
        "colab": {
          "base_uri": "https://localhost:8080/"
        },
        "id": "LGe8YKSNYDSO",
        "outputId": "f48e81ae-5070-48ac-da10-ca640c96ca1c"
      },
      "outputs": [
        {
          "output_type": "execute_result",
          "data": {
            "text/plain": [
              "18"
            ]
          },
          "metadata": {},
          "execution_count": 49
        }
      ],
      "source": [
        "# Find INDEX of MAX number in an array\n",
        "arr2.argmax()"
      ]
    },
    {
      "cell_type": "code",
      "execution_count": 50,
      "metadata": {
        "colab": {
          "base_uri": "https://localhost:8080/"
        },
        "id": "ZAwjBnwAYDSP",
        "outputId": "45581832-e3a6-4496-a492-7533f31557ee"
      },
      "outputs": [
        {
          "output_type": "execute_result",
          "data": {
            "text/plain": [
              "10.0"
            ]
          },
          "metadata": {},
          "execution_count": 50
        }
      ],
      "source": [
        "# Find mean of all numbers in an array\n",
        "arr2.mean()"
      ]
    },
    {
      "cell_type": "code",
      "execution_count": 51,
      "metadata": {
        "colab": {
          "base_uri": "https://localhost:8080/"
        },
        "id": "vgCKP4bbYDSP",
        "outputId": "1e0ca73e-1a4e-46ae-b748-efa185488877"
      },
      "outputs": [
        {
          "output_type": "execute_result",
          "data": {
            "text/plain": [
              "10.0"
            ]
          },
          "metadata": {},
          "execution_count": 51
        }
      ],
      "source": [
        "# Find median of all numbers present in arr2\n",
        "np.median(arr2)"
      ]
    },
    {
      "cell_type": "code",
      "execution_count": 52,
      "metadata": {
        "colab": {
          "base_uri": "https://localhost:8080/"
        },
        "id": "Gjdlw0DnYDSQ",
        "outputId": "14ce1078-4417-4d43-b36a-ffae10682e89"
      },
      "outputs": [
        {
          "output_type": "execute_result",
          "data": {
            "text/plain": [
              "30.0"
            ]
          },
          "metadata": {},
          "execution_count": 52
        }
      ],
      "source": [
        "# Variance\n",
        "np.var(arr2)"
      ]
    },
    {
      "cell_type": "code",
      "execution_count": 53,
      "metadata": {
        "colab": {
          "base_uri": "https://localhost:8080/"
        },
        "id": "d7xRkKMWYDSR",
        "outputId": "a11f7169-ac31-477e-c142-206247776ab5"
      },
      "outputs": [
        {
          "output_type": "execute_result",
          "data": {
            "text/plain": [
              "5.477225575051661"
            ]
          },
          "metadata": {},
          "execution_count": 53
        }
      ],
      "source": [
        "# Standard deviation\n",
        "np.std(arr2)"
      ]
    },
    {
      "cell_type": "code",
      "execution_count": 54,
      "metadata": {
        "colab": {
          "base_uri": "https://localhost:8080/"
        },
        "id": "8G3vAe5_YDSR",
        "outputId": "3f546efe-e5bb-48c5-f369-b267d3a8b55b"
      },
      "outputs": [
        {
          "output_type": "execute_result",
          "data": {
            "text/plain": [
              "13.6"
            ]
          },
          "metadata": {},
          "execution_count": 54
        }
      ],
      "source": [
        "# Calculating percentiles\n",
        "np.percentile(arr2,70)"
      ]
    },
    {
      "cell_type": "code",
      "execution_count": 55,
      "metadata": {
        "colab": {
          "base_uri": "https://localhost:8080/"
        },
        "id": "Hx4YqYl9YDSS",
        "outputId": "446b2e6c-64ad-49df-e1cc-47b0f509c619"
      },
      "outputs": [
        {
          "output_type": "execute_result",
          "data": {
            "text/plain": [
              "array([ 2.8, 13.6])"
            ]
          },
          "metadata": {},
          "execution_count": 55
        }
      ],
      "source": [
        "# 10th & 70th percentile\n",
        "np.percentile(arr2,[10,70])"
      ]
    },
    {
      "cell_type": "markdown",
      "metadata": {
        "id": "RMKEzA5bYDST"
      },
      "source": [
        "# Operations on a 2D Array"
      ]
    },
    {
      "cell_type": "code",
      "execution_count": 56,
      "metadata": {
        "colab": {
          "base_uri": "https://localhost:8080/"
        },
        "id": "46f6UcegYDST",
        "outputId": "41763c67-04e3-4aaf-f80f-1e2a1071977c"
      },
      "outputs": [
        {
          "output_type": "execute_result",
          "data": {
            "text/plain": [
              "array([[ 1,  2,  3,  0],\n",
              "       [ 5,  6,  7, 22],\n",
              "       [10, 11,  1, 13],\n",
              "       [14, 15, 16,  3]])"
            ]
          },
          "metadata": {},
          "execution_count": 56
        }
      ],
      "source": [
        "A = np.array([[1,2,3,0], [5,6,7,22], [10 , 11 , 1 ,13] , [14,15,16,3]])\n",
        "A"
      ]
    },
    {
      "cell_type": "code",
      "execution_count": 57,
      "metadata": {
        "colab": {
          "base_uri": "https://localhost:8080/"
        },
        "id": "4cJNudIoYDST",
        "outputId": "198b1c36-084a-43de-8f59-8d0269b015ec"
      },
      "outputs": [
        {
          "output_type": "execute_result",
          "data": {
            "text/plain": [
              "129"
            ]
          },
          "metadata": {},
          "execution_count": 57
        }
      ],
      "source": [
        "# SUM of all numbers in a 2D array\n",
        "A.sum()"
      ]
    },
    {
      "cell_type": "code",
      "execution_count": 58,
      "metadata": {
        "colab": {
          "base_uri": "https://localhost:8080/"
        },
        "id": "g85txDIfYDST",
        "outputId": "b30004aa-3997-4033-ec08-589df8069010"
      },
      "outputs": [
        {
          "output_type": "execute_result",
          "data": {
            "text/plain": [
              "22"
            ]
          },
          "metadata": {},
          "execution_count": 58
        }
      ],
      "source": [
        "# MAX number in a 2D array\n",
        "A.max()"
      ]
    },
    {
      "cell_type": "code",
      "execution_count": 59,
      "metadata": {
        "colab": {
          "base_uri": "https://localhost:8080/"
        },
        "id": "D0kjnlJnYDSV",
        "outputId": "6049d05f-b45c-4fd2-f5a5-357fec034679"
      },
      "outputs": [
        {
          "output_type": "execute_result",
          "data": {
            "text/plain": [
              "0"
            ]
          },
          "metadata": {},
          "execution_count": 59
        }
      ],
      "source": [
        "# Minimum\n",
        "A.min()"
      ]
    },
    {
      "cell_type": "code",
      "execution_count": 60,
      "metadata": {
        "colab": {
          "base_uri": "https://localhost:8080/"
        },
        "id": "YkVmYjEXYDSV",
        "outputId": "3cf8b59e-2a69-4b12-a70c-e0d533727b98"
      },
      "outputs": [
        {
          "output_type": "execute_result",
          "data": {
            "text/plain": [
              "array([1, 2, 1, 0])"
            ]
          },
          "metadata": {},
          "execution_count": 60
        }
      ],
      "source": [
        "# Column wise mimimum value \n",
        "np.amin(A, axis=0)"
      ]
    },
    {
      "cell_type": "code",
      "execution_count": 61,
      "metadata": {
        "colab": {
          "base_uri": "https://localhost:8080/"
        },
        "id": "Q826okFbYDSV",
        "outputId": "9fa36c60-479e-4e52-cd6f-f1d7719afea5"
      },
      "outputs": [
        {
          "output_type": "execute_result",
          "data": {
            "text/plain": [
              "array([0, 5, 1, 3])"
            ]
          },
          "metadata": {},
          "execution_count": 61
        }
      ],
      "source": [
        "# Row wise mimimum value \n",
        "np.amin(A, axis=1)"
      ]
    },
    {
      "cell_type": "code",
      "execution_count": 62,
      "metadata": {
        "colab": {
          "base_uri": "https://localhost:8080/"
        },
        "id": "z-1qtPujYDSW",
        "outputId": "843258e7-e3bc-4090-d557-182c997182c4"
      },
      "outputs": [
        {
          "output_type": "execute_result",
          "data": {
            "text/plain": [
              "8.0625"
            ]
          },
          "metadata": {},
          "execution_count": 62
        }
      ],
      "source": [
        "# Mean of all numbers in a 2D array\n",
        "A.mean()"
      ]
    },
    {
      "cell_type": "code",
      "execution_count": 63,
      "metadata": {
        "colab": {
          "base_uri": "https://localhost:8080/"
        },
        "id": "VBUl_NEyYDSW",
        "outputId": "9c8fc0e8-5e3b-42eb-a442-6672c7a24f7e"
      },
      "outputs": [
        {
          "output_type": "execute_result",
          "data": {
            "text/plain": [
              "8.0625"
            ]
          },
          "metadata": {},
          "execution_count": 63
        }
      ],
      "source": [
        "# Mean\n",
        "np.mean(A)"
      ]
    },
    {
      "cell_type": "code",
      "execution_count": 64,
      "metadata": {
        "colab": {
          "base_uri": "https://localhost:8080/"
        },
        "id": "gInaF6A7YDSW",
        "outputId": "49803184-0b1e-41e8-df8f-299fb4112941"
      },
      "outputs": [
        {
          "output_type": "execute_result",
          "data": {
            "text/plain": [
              "6.5"
            ]
          },
          "metadata": {},
          "execution_count": 64
        }
      ],
      "source": [
        "# Median\n",
        "np.median(A)"
      ]
    },
    {
      "cell_type": "code",
      "execution_count": 65,
      "metadata": {
        "colab": {
          "base_uri": "https://localhost:8080/"
        },
        "id": "ue-KNrnBYDSX",
        "outputId": "0d8da9a5-a0c2-4f08-9bda-1deff3e96a21"
      },
      "outputs": [
        {
          "output_type": "execute_result",
          "data": {
            "text/plain": [
              "6.5"
            ]
          },
          "metadata": {},
          "execution_count": 65
        }
      ],
      "source": [
        "# 50 percentile = Median\n",
        "np.percentile(A,50)"
      ]
    },
    {
      "cell_type": "code",
      "execution_count": 66,
      "metadata": {
        "colab": {
          "base_uri": "https://localhost:8080/"
        },
        "id": "3VQrg2emYDSX",
        "outputId": "1269d692-e80f-4d7f-f628-700f27eb662f"
      },
      "outputs": [
        {
          "output_type": "execute_result",
          "data": {
            "text/plain": [
              "40.30859375"
            ]
          },
          "metadata": {},
          "execution_count": 66
        }
      ],
      "source": [
        "np.var(A)"
      ]
    },
    {
      "cell_type": "code",
      "execution_count": 67,
      "metadata": {
        "colab": {
          "base_uri": "https://localhost:8080/"
        },
        "id": "JOvQp8p_YDSX",
        "outputId": "c78cee37-92fa-4aad-caf7-fdae2f238a2f"
      },
      "outputs": [
        {
          "output_type": "execute_result",
          "data": {
            "text/plain": [
              "6.348904925260734"
            ]
          },
          "metadata": {},
          "execution_count": 67
        }
      ],
      "source": [
        "np.std(A)"
      ]
    },
    {
      "cell_type": "code",
      "execution_count": 68,
      "metadata": {
        "colab": {
          "base_uri": "https://localhost:8080/"
        },
        "id": "bQHBmC3IYDSY",
        "outputId": "3ab721ea-6248-4f4d-975a-fc608572e78b"
      },
      "outputs": [
        {
          "output_type": "execute_result",
          "data": {
            "text/plain": [
              "13.6"
            ]
          },
          "metadata": {},
          "execution_count": 68
        }
      ],
      "source": [
        "np.percentile(arr2,70)"
      ]
    },
    {
      "cell_type": "code",
      "execution_count": 69,
      "metadata": {
        "colab": {
          "base_uri": "https://localhost:8080/"
        },
        "id": "ZvmTPjhBYDSY",
        "outputId": "f1009561-6785-472f-f180-ae35afa158e5"
      },
      "outputs": [
        {
          "output_type": "stream",
          "name": "stdout",
          "text": [
            "(0, 0) 1\n",
            "(0, 1) 2\n",
            "(0, 2) 3\n",
            "(0, 3) 0\n",
            "(1, 0) 5\n",
            "(1, 1) 6\n",
            "(1, 2) 7\n",
            "(1, 3) 22\n",
            "(2, 0) 10\n",
            "(2, 1) 11\n",
            "(2, 2) 1\n",
            "(2, 3) 13\n",
            "(3, 0) 14\n",
            "(3, 1) 15\n",
            "(3, 2) 16\n",
            "(3, 3) 3\n"
          ]
        }
      ],
      "source": [
        "# Enumerate for Numpy 2D Arrays\n",
        "for index, value in np.ndenumerate(A):\n",
        "    print(index, value)"
      ]
    },
    {
      "cell_type": "markdown",
      "metadata": {
        "id": "5YxGuEj-YDSu"
      },
      "source": [
        "# Reading elements of an array"
      ]
    },
    {
      "cell_type": "code",
      "execution_count": 70,
      "metadata": {
        "id": "2HxB3-lgYDSv"
      },
      "outputs": [],
      "source": [
        "a = np.array([7,5,3,9,0,2])"
      ]
    },
    {
      "cell_type": "code",
      "execution_count": 71,
      "metadata": {
        "colab": {
          "base_uri": "https://localhost:8080/"
        },
        "id": "bMoIU_hAYDSv",
        "outputId": "f97da8b3-2cc0-470a-ba59-e6e7efe27f57"
      },
      "outputs": [
        {
          "output_type": "execute_result",
          "data": {
            "text/plain": [
              "7"
            ]
          },
          "metadata": {},
          "execution_count": 71
        }
      ],
      "source": [
        "# Access first element of the array\n",
        "a[0]"
      ]
    },
    {
      "cell_type": "code",
      "execution_count": 72,
      "metadata": {
        "colab": {
          "base_uri": "https://localhost:8080/"
        },
        "id": "fW9hOu6DYDSv",
        "outputId": "c85b8775-d838-4247-933c-aa7cc1918ffc"
      },
      "outputs": [
        {
          "output_type": "execute_result",
          "data": {
            "text/plain": [
              "array([5, 3, 9, 0, 2])"
            ]
          },
          "metadata": {},
          "execution_count": 72
        }
      ],
      "source": [
        "# Access all elements of Array except first one.\n",
        "a[1:]"
      ]
    },
    {
      "cell_type": "code",
      "execution_count": 73,
      "metadata": {
        "colab": {
          "base_uri": "https://localhost:8080/"
        },
        "id": "h1ITibOlYDSw",
        "outputId": "1054822a-bd7d-4077-e683-54aae829db78"
      },
      "outputs": [
        {
          "output_type": "execute_result",
          "data": {
            "text/plain": [
              "array([5, 3, 9])"
            ]
          },
          "metadata": {},
          "execution_count": 73
        }
      ],
      "source": [
        "# Fetch 2nd , 3rd & 4th value from the Array\n",
        "a[1:4]"
      ]
    },
    {
      "cell_type": "code",
      "execution_count": 74,
      "metadata": {
        "colab": {
          "base_uri": "https://localhost:8080/"
        },
        "id": "lqVDtryMYDSw",
        "outputId": "7b4a8ffa-bcfa-44a3-fc91-41b597ff4700"
      },
      "outputs": [
        {
          "output_type": "execute_result",
          "data": {
            "text/plain": [
              "2"
            ]
          },
          "metadata": {},
          "execution_count": 74
        }
      ],
      "source": [
        "# Get last element of the array\n",
        "a[-1]"
      ]
    },
    {
      "cell_type": "code",
      "execution_count": 75,
      "metadata": {
        "colab": {
          "base_uri": "https://localhost:8080/"
        },
        "id": "G_SGqLa5YDSx",
        "outputId": "bc4532ff-9da1-4816-dd60-1a098fad536e"
      },
      "outputs": [
        {
          "output_type": "execute_result",
          "data": {
            "text/plain": [
              "9"
            ]
          },
          "metadata": {},
          "execution_count": 75
        }
      ],
      "source": [
        "a[-3]"
      ]
    },
    {
      "cell_type": "code",
      "execution_count": 76,
      "metadata": {
        "colab": {
          "base_uri": "https://localhost:8080/"
        },
        "id": "revC9-NgYDSx",
        "outputId": "caae005c-39cb-4cc5-f82a-334dba01311f"
      },
      "outputs": [
        {
          "output_type": "execute_result",
          "data": {
            "text/plain": [
              "7"
            ]
          },
          "metadata": {},
          "execution_count": 76
        }
      ],
      "source": [
        "a[-6]"
      ]
    },
    {
      "cell_type": "code",
      "execution_count": 77,
      "metadata": {
        "colab": {
          "base_uri": "https://localhost:8080/"
        },
        "id": "G3PJJ6ctYDSx",
        "outputId": "bc18af88-ebb3-40e9-f7ad-8b4730f7d982"
      },
      "outputs": [
        {
          "output_type": "execute_result",
          "data": {
            "text/plain": [
              "array([9, 0])"
            ]
          },
          "metadata": {},
          "execution_count": 77
        }
      ],
      "source": [
        "a[-3:-1]"
      ]
    },
    {
      "cell_type": "markdown",
      "metadata": {
        "id": "zp2Rg_MBYDSy"
      },
      "source": [
        "# Replace elements in array"
      ]
    },
    {
      "cell_type": "code",
      "execution_count": 78,
      "metadata": {
        "colab": {
          "base_uri": "https://localhost:8080/"
        },
        "id": "3CnWNj-CYDS5",
        "outputId": "fbb422a7-e314-4bed-ac79-f5f8e3653de4"
      },
      "outputs": [
        {
          "output_type": "execute_result",
          "data": {
            "text/plain": [
              "array([ 1,  2,  3,  4,  5,  6,  7,  8,  9, 10, 11, 12, 13, 14, 15, 16, 17,\n",
              "       18, 19])"
            ]
          },
          "metadata": {},
          "execution_count": 78
        }
      ],
      "source": [
        "ar = np.arange(1,20)\n",
        "ar"
      ]
    },
    {
      "cell_type": "code",
      "execution_count": 79,
      "metadata": {
        "colab": {
          "base_uri": "https://localhost:8080/"
        },
        "id": "apIdGrQfYDS5",
        "outputId": "7f4d6926-5e81-4039-95b5-2d31c1179cb2"
      },
      "outputs": [
        {
          "output_type": "stream",
          "name": "stdout",
          "text": [
            "[ 1  0  3  0  5  0  7  0  9  0 11  0 13  0 15  0 17  0 19]\n"
          ]
        }
      ],
      "source": [
        "# Replace EVEN numbers with ZERO\n",
        "rep1 = np.where(ar % 2 == 0, 0 , ar)\n",
        "print(rep1)"
      ]
    },
    {
      "cell_type": "code",
      "execution_count": 80,
      "metadata": {
        "colab": {
          "base_uri": "https://localhost:8080/"
        },
        "id": "_eqL-p66YDS5",
        "outputId": "c417f21a-fcff-46ae-9739-399d32f595b6"
      },
      "outputs": [
        {
          "output_type": "execute_result",
          "data": {
            "text/plain": [
              "array([10, 20, 30, 10, 10, 20, 20])"
            ]
          },
          "metadata": {},
          "execution_count": 80
        }
      ],
      "source": [
        "ar2 = np.array([10, 20 , 30 , 10 ,10 ,20, 20])\n",
        "ar2"
      ]
    },
    {
      "cell_type": "code",
      "execution_count": 81,
      "metadata": {
        "colab": {
          "base_uri": "https://localhost:8080/"
        },
        "id": "gisn-z55YDS6",
        "outputId": "52fa9c59-4a01-48c2-eb82-495a479a19b1"
      },
      "outputs": [
        {
          "output_type": "stream",
          "name": "stdout",
          "text": [
            "[99 20 30 99 99 20 20]\n"
          ]
        }
      ],
      "source": [
        "# Replace 10 with value 99\n",
        "rep2 = np.where(ar2 == 10, 99 , ar2)\n",
        "print(rep2)"
      ]
    },
    {
      "cell_type": "code",
      "execution_count": 82,
      "metadata": {
        "colab": {
          "base_uri": "https://localhost:8080/"
        },
        "id": "C23jMGScYDS6",
        "outputId": "fc350b08-199e-412b-a3da-3754fbcc3ae4"
      },
      "outputs": [
        {
          "output_type": "execute_result",
          "data": {
            "text/plain": [
              "array([ 0, 10, 20, 30, 40, 50, 60, 70, 80, 90])"
            ]
          },
          "metadata": {},
          "execution_count": 82
        }
      ],
      "source": [
        "p2 = np.arange(0,100,10)\n",
        "p2"
      ]
    },
    {
      "cell_type": "code",
      "execution_count": 83,
      "metadata": {
        "colab": {
          "base_uri": "https://localhost:8080/"
        },
        "id": "oI4oQCC4YDS7",
        "outputId": "b828e218-c7b8-4a1e-dc78-2f93c44be258"
      },
      "outputs": [
        {
          "output_type": "execute_result",
          "data": {
            "text/plain": [
              "array([33, 10, 20, 55, 40, 99, 60, 70, 80, 90])"
            ]
          },
          "metadata": {},
          "execution_count": 83
        }
      ],
      "source": [
        "# Replace values at INDEX loc 0,3,5 with 33,55,99\n",
        "np.put(p2, [0, 3 , 5], [33, 55, 99])\n",
        "p2"
      ]
    },
    {
      "cell_type": "markdown",
      "metadata": {
        "id": "DMyHJz--YDS8"
      },
      "source": [
        "# Missing Values in an array"
      ]
    },
    {
      "cell_type": "code",
      "execution_count": 84,
      "metadata": {
        "colab": {
          "base_uri": "https://localhost:8080/"
        },
        "id": "Bf5fEwrVYDS8",
        "outputId": "919d10d9-2d9b-42cb-a345-fe7afbbec043"
      },
      "outputs": [
        {
          "output_type": "execute_result",
          "data": {
            "text/plain": [
              "array([10., nan, 20., 30., 60., nan, 90., inf])"
            ]
          },
          "metadata": {},
          "execution_count": 84
        }
      ],
      "source": [
        "a = np.array([10 ,np.nan,20,30,60,np.nan,90,np.inf])\n",
        "a"
      ]
    },
    {
      "cell_type": "code",
      "execution_count": 85,
      "metadata": {
        "colab": {
          "base_uri": "https://localhost:8080/"
        },
        "id": "mAFZL8yrYDS8",
        "outputId": "adba372e-e9e0-4706-ca02-52b2130cb6dc"
      },
      "outputs": [
        {
          "output_type": "execute_result",
          "data": {
            "text/plain": [
              "array([False,  True, False, False, False,  True, False, False])"
            ]
          },
          "metadata": {},
          "execution_count": 85
        }
      ],
      "source": [
        "# Search for missing values and return as a boolean array\n",
        "np.isnan(a)"
      ]
    },
    {
      "cell_type": "code",
      "execution_count": 86,
      "metadata": {
        "colab": {
          "base_uri": "https://localhost:8080/"
        },
        "id": "idm688SGYDS9",
        "outputId": "565debaf-4d12-493d-b1cd-27ae3d57e727"
      },
      "outputs": [
        {
          "output_type": "execute_result",
          "data": {
            "text/plain": [
              "(array([1, 5]),)"
            ]
          },
          "metadata": {},
          "execution_count": 86
        }
      ],
      "source": [
        "# Index of missing values in an array\n",
        "np.where(np.isnan(a))"
      ]
    },
    {
      "cell_type": "code",
      "execution_count": 87,
      "metadata": {
        "colab": {
          "base_uri": "https://localhost:8080/"
        },
        "id": "3GzE3DP9YDS-",
        "outputId": "939a7b4b-6b8e-484d-8a13-73256e1a32f0"
      },
      "outputs": [
        {
          "output_type": "execute_result",
          "data": {
            "text/plain": [
              "array([10., 99., 20., 30., 60., 99., 90., inf])"
            ]
          },
          "metadata": {},
          "execution_count": 87
        }
      ],
      "source": [
        "# Replace all missing values with 99\n",
        "a[np.isnan(a)] = 99\n",
        "a"
      ]
    },
    {
      "cell_type": "code",
      "execution_count": 88,
      "metadata": {
        "colab": {
          "base_uri": "https://localhost:8080/"
        },
        "id": "fdCBQBozYDS-",
        "outputId": "a1e9014d-fdcc-49ef-ad48-b8e978b5d517"
      },
      "outputs": [
        {
          "output_type": "execute_result",
          "data": {
            "text/plain": [
              "False"
            ]
          },
          "metadata": {},
          "execution_count": 88
        }
      ],
      "source": [
        "# Check if array has any NULL value\n",
        "np.isnan(a).any()"
      ]
    },
    {
      "cell_type": "code",
      "execution_count": 89,
      "metadata": {
        "colab": {
          "base_uri": "https://localhost:8080/"
        },
        "id": "diU1aILDYDS_",
        "outputId": "0c892eeb-73f3-43dc-da8b-94c3c034fb40"
      },
      "outputs": [
        {
          "output_type": "execute_result",
          "data": {
            "text/plain": [
              "array([[ 1.,  2., nan,  4.],\n",
              "       [nan,  6.,  7.,  8.],\n",
              "       [10., nan, 12., 13.],\n",
              "       [14., 15., 16., 17.]])"
            ]
          },
          "metadata": {},
          "execution_count": 89
        }
      ],
      "source": [
        "A = np.array([[1,2,np.nan,4] , [np.nan,6,7,8] , [10 , np.nan , 12 ,13] , [14,15,16,17]])\n",
        "A"
      ]
    },
    {
      "cell_type": "code",
      "execution_count": 90,
      "metadata": {
        "colab": {
          "base_uri": "https://localhost:8080/"
        },
        "id": "DhpfsoWDYDS_",
        "outputId": "a3284740-82ae-452f-d778-06620b11a9e5"
      },
      "outputs": [
        {
          "output_type": "execute_result",
          "data": {
            "text/plain": [
              "array([[False, False,  True, False],\n",
              "       [ True, False, False, False],\n",
              "       [False,  True, False, False],\n",
              "       [False, False, False, False]])"
            ]
          },
          "metadata": {},
          "execution_count": 90
        }
      ],
      "source": [
        "# Search for missing values and return as a boolean array\n",
        "np.isnan(A)"
      ]
    },
    {
      "cell_type": "code",
      "execution_count": 91,
      "metadata": {
        "colab": {
          "base_uri": "https://localhost:8080/"
        },
        "id": "3XHgWRa-YDTL",
        "outputId": "65d81e7a-b21b-44f0-eb73-1affad2d2120"
      },
      "outputs": [
        {
          "output_type": "execute_result",
          "data": {
            "text/plain": [
              "(array([0, 1, 2]), array([2, 0, 1]))"
            ]
          },
          "metadata": {},
          "execution_count": 91
        }
      ],
      "source": [
        "# Index of missing values in an array\n",
        "np.where(np.isnan(A))"
      ]
    },
    {
      "cell_type": "markdown",
      "metadata": {
        "id": "3EjPh6-zYDTL"
      },
      "source": [
        "# Stack Arrays Vertically"
      ]
    },
    {
      "cell_type": "code",
      "execution_count": 92,
      "metadata": {
        "colab": {
          "base_uri": "https://localhost:8080/"
        },
        "id": "KUEhhQY_YDTM",
        "outputId": "8ec844df-f1c6-4705-dc9f-914fbcc4a91d"
      },
      "outputs": [
        {
          "output_type": "execute_result",
          "data": {
            "text/plain": [
              "array([[0., 0., 0., 0., 0., 0., 0., 0., 0., 0.],\n",
              "       [0., 0., 0., 0., 0., 0., 0., 0., 0., 0.]])"
            ]
          },
          "metadata": {},
          "execution_count": 92
        }
      ],
      "source": [
        "a = np.zeros(20).reshape(2,-1)\n",
        "b = np.repeat(1, 20).reshape(2,-1)\n",
        "a"
      ]
    },
    {
      "cell_type": "code",
      "execution_count": 93,
      "metadata": {
        "colab": {
          "base_uri": "https://localhost:8080/"
        },
        "id": "vXEy9Ur5YDTM",
        "outputId": "8eaec904-d84f-4001-e648-38ab925e91d4"
      },
      "outputs": [
        {
          "output_type": "execute_result",
          "data": {
            "text/plain": [
              "array([[1, 1, 1, 1, 1, 1, 1, 1, 1, 1],\n",
              "       [1, 1, 1, 1, 1, 1, 1, 1, 1, 1]])"
            ]
          },
          "metadata": {},
          "execution_count": 93
        }
      ],
      "source": [
        "b"
      ]
    },
    {
      "cell_type": "code",
      "execution_count": 94,
      "metadata": {
        "colab": {
          "base_uri": "https://localhost:8080/"
        },
        "id": "1Fw1OQmdYDTO",
        "outputId": "091f3adb-eefd-43a1-8aaa-b1b268885b1d"
      },
      "outputs": [
        {
          "output_type": "execute_result",
          "data": {
            "text/plain": [
              "array([[0., 0., 0., 0., 0., 0., 0., 0., 0., 0.],\n",
              "       [0., 0., 0., 0., 0., 0., 0., 0., 0., 0.],\n",
              "       [1., 1., 1., 1., 1., 1., 1., 1., 1., 1.],\n",
              "       [1., 1., 1., 1., 1., 1., 1., 1., 1., 1.]])"
            ]
          },
          "metadata": {},
          "execution_count": 94
        }
      ],
      "source": [
        "np.vstack([a,b])"
      ]
    },
    {
      "cell_type": "code",
      "execution_count": 95,
      "metadata": {
        "id": "b4mFQ8pBYDTP"
      },
      "outputs": [],
      "source": [
        "a1 = np.array([[1], [2], [3]])\n",
        "b1 = np.array([[4], [5], [6]])"
      ]
    },
    {
      "cell_type": "code",
      "execution_count": 96,
      "metadata": {
        "colab": {
          "base_uri": "https://localhost:8080/"
        },
        "id": "mayjesPEYDTQ",
        "outputId": "b2e37052-48fd-4774-b166-543f89620581"
      },
      "outputs": [
        {
          "output_type": "execute_result",
          "data": {
            "text/plain": [
              "array([[1],\n",
              "       [2],\n",
              "       [3]])"
            ]
          },
          "metadata": {},
          "execution_count": 96
        }
      ],
      "source": [
        "a1"
      ]
    },
    {
      "cell_type": "code",
      "execution_count": 97,
      "metadata": {
        "colab": {
          "base_uri": "https://localhost:8080/"
        },
        "id": "qX4TjU2vYDTQ",
        "outputId": "7cc74c4e-d3f7-42d6-823f-ef6d5332698e"
      },
      "outputs": [
        {
          "output_type": "execute_result",
          "data": {
            "text/plain": [
              "array([[4],\n",
              "       [5],\n",
              "       [6]])"
            ]
          },
          "metadata": {},
          "execution_count": 97
        }
      ],
      "source": [
        "b1"
      ]
    },
    {
      "cell_type": "code",
      "execution_count": 98,
      "metadata": {
        "colab": {
          "base_uri": "https://localhost:8080/"
        },
        "id": "k7-85sycYDTR",
        "outputId": "5723180b-6a40-4f3a-a3be-8d1bc46ac1d4"
      },
      "outputs": [
        {
          "output_type": "execute_result",
          "data": {
            "text/plain": [
              "array([[1],\n",
              "       [2],\n",
              "       [3],\n",
              "       [4],\n",
              "       [5],\n",
              "       [6]])"
            ]
          },
          "metadata": {},
          "execution_count": 98
        }
      ],
      "source": [
        "np.vstack([a1,b1])"
      ]
    },
    {
      "cell_type": "markdown",
      "metadata": {
        "id": "5quQbovQYDTV"
      },
      "source": [
        "# Stack Arrays Horizontally"
      ]
    },
    {
      "cell_type": "code",
      "execution_count": 99,
      "metadata": {
        "colab": {
          "base_uri": "https://localhost:8080/"
        },
        "id": "eXJNhOEYYDTV",
        "outputId": "5436cb70-f2db-4bba-ebd2-8662e0d42875"
      },
      "outputs": [
        {
          "output_type": "execute_result",
          "data": {
            "text/plain": [
              "array([[0., 0., 0., 0., 0., 0., 0., 0., 0., 0., 1., 1., 1., 1., 1., 1.,\n",
              "        1., 1., 1., 1.],\n",
              "       [0., 0., 0., 0., 0., 0., 0., 0., 0., 0., 1., 1., 1., 1., 1., 1.,\n",
              "        1., 1., 1., 1.]])"
            ]
          },
          "metadata": {},
          "execution_count": 99
        }
      ],
      "source": [
        "np.hstack([a,b])"
      ]
    },
    {
      "cell_type": "code",
      "execution_count": 100,
      "metadata": {
        "colab": {
          "base_uri": "https://localhost:8080/"
        },
        "id": "rSLKLOKIYDTV",
        "outputId": "9f346542-fa60-4ac8-f2c7-f0da616e84ac"
      },
      "outputs": [
        {
          "output_type": "execute_result",
          "data": {
            "text/plain": [
              "array([[1, 4],\n",
              "       [2, 5],\n",
              "       [3, 6]])"
            ]
          },
          "metadata": {},
          "execution_count": 100
        }
      ],
      "source": [
        "np.hstack([a1,b1])"
      ]
    },
    {
      "cell_type": "code",
      "execution_count": 101,
      "metadata": {
        "colab": {
          "base_uri": "https://localhost:8080/"
        },
        "id": "3DBimjTgYDTW",
        "outputId": "d0070068-f755-4cc5-887f-efcea66fdda1"
      },
      "outputs": [
        {
          "output_type": "execute_result",
          "data": {
            "text/plain": [
              "array([[ 7, 13, 14,  5],\n",
              "       [18, 10, 17,  8],\n",
              "       [11, 12, 19,  4],\n",
              "       [16,  6,  1,  3]])"
            ]
          },
          "metadata": {},
          "execution_count": 101
        }
      ],
      "source": [
        "### hstack & vstack\n",
        "\n",
        "arr1 = np.array([[7,13,14],[18,10,17],[11,12,19]])\n",
        "arr2= np.array([16,6,1])\n",
        "arr3= np.array([[5,8,4,3]])\n",
        "\n",
        "np.hstack((np.vstack((arr1,arr2)),np.transpose(arr3)))"
      ]
    },
    {
      "cell_type": "markdown",
      "metadata": {
        "id": "gN3gH80DYDTW"
      },
      "source": [
        "# Common items between two Arrays"
      ]
    },
    {
      "cell_type": "code",
      "execution_count": 102,
      "metadata": {
        "id": "weOssQPBYDTX"
      },
      "outputs": [],
      "source": [
        "c1 = np.array([10,20,30,40,50,60])\n",
        "c2 = np.array([12,20,33,40,55,60])"
      ]
    },
    {
      "cell_type": "code",
      "execution_count": 103,
      "metadata": {
        "colab": {
          "base_uri": "https://localhost:8080/"
        },
        "id": "-6uoMl2fYDTX",
        "outputId": "fc586461-e234-4464-c0c7-e5e490b78fff"
      },
      "outputs": [
        {
          "output_type": "execute_result",
          "data": {
            "text/plain": [
              "array([20, 40, 60])"
            ]
          },
          "metadata": {},
          "execution_count": 103
        }
      ],
      "source": [
        "np.intersect1d(c1,c2)"
      ]
    },
    {
      "cell_type": "markdown",
      "metadata": {
        "id": "07SjTmEKYDTX"
      },
      "source": [
        "# Remove Common Elements"
      ]
    },
    {
      "cell_type": "code",
      "execution_count": 104,
      "metadata": {
        "colab": {
          "base_uri": "https://localhost:8080/"
        },
        "id": "BoTsQROVYDTY",
        "outputId": "938631ce-9453-4f56-d26a-2d3050db2876"
      },
      "outputs": [
        {
          "output_type": "execute_result",
          "data": {
            "text/plain": [
              "array([10, 30, 50])"
            ]
          },
          "metadata": {},
          "execution_count": 104
        }
      ],
      "source": [
        "# Remove common elements of C1 & C2 array from C1\n",
        "\n",
        "np.setdiff1d(c1,c2)"
      ]
    },
    {
      "cell_type": "markdown",
      "metadata": {
        "id": "xy3uEsarYDTY"
      },
      "source": [
        "# Process Elements on Conditions"
      ]
    },
    {
      "cell_type": "code",
      "execution_count": 105,
      "metadata": {
        "colab": {
          "base_uri": "https://localhost:8080/"
        },
        "id": "WdprhrhyYDTY",
        "outputId": "cb854de6-510c-4d62-de42-1cab60530658"
      },
      "outputs": [
        {
          "output_type": "execute_result",
          "data": {
            "text/plain": [
              "(array([1, 4]),)"
            ]
          },
          "metadata": {},
          "execution_count": 105
        }
      ],
      "source": [
        "a = np.array([1,2,3,6,8])\n",
        "b = np.array([10,2,30,60,8])\n",
        "\n",
        "np.where(a == b) # returns the indices of elements in an input array where the given condition is satisfied."
      ]
    },
    {
      "cell_type": "code",
      "execution_count": 106,
      "metadata": {
        "colab": {
          "base_uri": "https://localhost:8080/"
        },
        "id": "-QgMApRKYDTZ",
        "outputId": "e1da9e5f-0d9b-467e-b1ec-999142257496"
      },
      "outputs": [
        {
          "output_type": "execute_result",
          "data": {
            "text/plain": [
              "array([2, 8])"
            ]
          },
          "metadata": {},
          "execution_count": 106
        }
      ],
      "source": [
        "# Return an array where condition is satisfied\n",
        "a[np.where(a == b)]"
      ]
    },
    {
      "cell_type": "code",
      "execution_count": 107,
      "metadata": {
        "colab": {
          "base_uri": "https://localhost:8080/"
        },
        "id": "rez-Rk7DYDTZ",
        "outputId": "0f20f8eb-d9b4-4504-e54a-b78d33f1134c"
      },
      "outputs": [
        {
          "output_type": "execute_result",
          "data": {
            "text/plain": [
              "array([21, 22, 23, 24, 25, 26, 27, 28, 29, 30, 31, 32, 33, 34])"
            ]
          },
          "metadata": {},
          "execution_count": 107
        }
      ],
      "source": [
        "# Return all numbers betweeen 20 & 35\n",
        "a1 = np.arange(0,60)\n",
        "a1[np.where ((a1>20) & (a1<35))]"
      ]
    },
    {
      "cell_type": "code",
      "execution_count": 108,
      "metadata": {
        "colab": {
          "base_uri": "https://localhost:8080/"
        },
        "id": "48QHY53HYDTZ",
        "outputId": "7ee9a538-7f2f-41c2-eb36-803f4cab8542"
      },
      "outputs": [
        {
          "output_type": "execute_result",
          "data": {
            "text/plain": [
              "array([ 0, 10, 20, 21, 22, 23, 24, 25, 26, 27, 28, 29, 30, 31, 32, 33, 34,\n",
              "       40, 50])"
            ]
          },
          "metadata": {},
          "execution_count": 108
        }
      ],
      "source": [
        "# Return all numbers betweeen 20 & 35 OR numbers divisible by 10\n",
        "a1 = np.arange(0,60)\n",
        "a1[np.where (((a1>20) & (a1<35)) | (a1 % 10 ==0)) ]"
      ]
    },
    {
      "cell_type": "code",
      "execution_count": 109,
      "metadata": {
        "colab": {
          "base_uri": "https://localhost:8080/"
        },
        "id": "ocRTZIVNYDTa",
        "outputId": "c112d7fc-68e6-4203-fa40-dacef6ba6096"
      },
      "outputs": [
        {
          "output_type": "execute_result",
          "data": {
            "text/plain": [
              "array([21, 22, 23, 24, 25, 26, 27, 28, 29, 30, 31, 32, 33, 34])"
            ]
          },
          "metadata": {},
          "execution_count": 109
        }
      ],
      "source": [
        "# Return all numbers betweeen 20 & 35 using np.logical_and\n",
        "a1[np.where(np.logical_and(a1>20, a1<35))]"
      ]
    },
    {
      "cell_type": "markdown",
      "metadata": {
        "id": "qu6uGURuYDTa"
      },
      "source": [
        "# Check for elements in an Array using isin()"
      ]
    },
    {
      "cell_type": "code",
      "execution_count": 110,
      "metadata": {
        "colab": {
          "base_uri": "https://localhost:8080/"
        },
        "id": "SSrxOzBOYDTa",
        "outputId": "6b2e8649-ae06-461e-cd9c-983ca15d1dde"
      },
      "outputs": [
        {
          "output_type": "execute_result",
          "data": {
            "text/plain": [
              "array([10, 20, 30, 40, 50, 60, 70])"
            ]
          },
          "metadata": {},
          "execution_count": 110
        }
      ],
      "source": [
        "a = np.array([10,20,30,40,50,60,70])\n",
        "a"
      ]
    },
    {
      "cell_type": "code",
      "execution_count": 111,
      "metadata": {
        "colab": {
          "base_uri": "https://localhost:8080/"
        },
        "id": "6VV-kEJaYDTb",
        "outputId": "1842744f-150e-4bd2-d2bc-ffa3abad36aa"
      },
      "outputs": [
        {
          "output_type": "execute_result",
          "data": {
            "text/plain": [
              "array([False,  True, False, False, False, False, False])"
            ]
          },
          "metadata": {},
          "execution_count": 111
        }
      ],
      "source": [
        "# Check whether number 11 & 20 are present in an array\n",
        "np.isin(a, [11,20])"
      ]
    },
    {
      "cell_type": "code",
      "execution_count": 112,
      "metadata": {
        "colab": {
          "base_uri": "https://localhost:8080/"
        },
        "id": "gH__QrtTYDTm",
        "outputId": "74a89d82-8c74-4745-bdee-9eac8bf84659"
      },
      "outputs": [
        {
          "output_type": "execute_result",
          "data": {
            "text/plain": [
              "array([20])"
            ]
          },
          "metadata": {},
          "execution_count": 112
        }
      ],
      "source": [
        "#Display the matching numbers\n",
        "a[np.isin(a,20)]"
      ]
    },
    {
      "cell_type": "code",
      "execution_count": 113,
      "metadata": {
        "colab": {
          "base_uri": "https://localhost:8080/"
        },
        "id": "cyKzg5E-YDTn",
        "outputId": "f66856d9-c5e4-4719-ffdd-ad7f41622e95"
      },
      "outputs": [
        {
          "output_type": "execute_result",
          "data": {
            "text/plain": [
              "array([False, False, False, False, False, False, False])"
            ]
          },
          "metadata": {},
          "execution_count": 113
        }
      ],
      "source": [
        "# Check whether number 33 is present in an array\n",
        "np.isin(a, 33)"
      ]
    },
    {
      "cell_type": "code",
      "execution_count": 114,
      "metadata": {
        "colab": {
          "base_uri": "https://localhost:8080/"
        },
        "id": "RFB1g5AJYDTn",
        "outputId": "e51d3a0d-1e38-4772-b6c0-31f193ac70f8"
      },
      "outputs": [
        {
          "output_type": "execute_result",
          "data": {
            "text/plain": [
              "array([], dtype=int64)"
            ]
          },
          "metadata": {},
          "execution_count": 114
        }
      ],
      "source": [
        "a[np.isin(a, 33)]"
      ]
    },
    {
      "cell_type": "code",
      "execution_count": 115,
      "metadata": {
        "colab": {
          "base_uri": "https://localhost:8080/"
        },
        "id": "WhnsAc_iYDTn",
        "outputId": "dc372824-9e73-4ac3-bea5-92087b03597c"
      },
      "outputs": [
        {
          "output_type": "execute_result",
          "data": {
            "text/plain": [
              "array([10, 20, 30, 40, 10, 10, 70, 80, 70, 90])"
            ]
          },
          "metadata": {},
          "execution_count": 115
        }
      ],
      "source": [
        "b = np.array([10,20,30,40,10,10,70,80,70,90])\n",
        "b"
      ]
    },
    {
      "cell_type": "code",
      "execution_count": 116,
      "metadata": {
        "colab": {
          "base_uri": "https://localhost:8080/"
        },
        "id": "3khn83YCYDTo",
        "outputId": "8f35241a-6148-4285-f88c-a3f0c11107f0"
      },
      "outputs": [
        {
          "output_type": "execute_result",
          "data": {
            "text/plain": [
              "array([ True, False, False, False,  True,  True,  True, False,  True,\n",
              "       False])"
            ]
          },
          "metadata": {},
          "execution_count": 116
        }
      ],
      "source": [
        "# Check whether number 10 & 70 are present in an array\n",
        "np.isin(b, [10,70])"
      ]
    },
    {
      "cell_type": "code",
      "execution_count": 117,
      "metadata": {
        "colab": {
          "base_uri": "https://localhost:8080/"
        },
        "id": "XHREVFybYDTo",
        "outputId": "0a2336cb-fa46-4d72-d683-ea9df036af2c"
      },
      "outputs": [
        {
          "output_type": "execute_result",
          "data": {
            "text/plain": [
              "(array([0, 4, 5, 6, 8]),)"
            ]
          },
          "metadata": {},
          "execution_count": 117
        }
      ],
      "source": [
        "# Display the indices where match occurred\n",
        "np.where(np.isin(b, [10,70]))"
      ]
    },
    {
      "cell_type": "code",
      "execution_count": 118,
      "metadata": {
        "colab": {
          "base_uri": "https://localhost:8080/"
        },
        "id": "Z6WNQiybYDTo",
        "outputId": "871fec45-621f-4f36-e8e6-841d37db8ebd"
      },
      "outputs": [
        {
          "output_type": "execute_result",
          "data": {
            "text/plain": [
              "array([10, 10, 10, 70, 70])"
            ]
          },
          "metadata": {},
          "execution_count": 118
        }
      ],
      "source": [
        "# Display the matching values\n",
        "b[np.where(np.isin(b, [10,70]))]"
      ]
    },
    {
      "cell_type": "code",
      "execution_count": 119,
      "metadata": {
        "colab": {
          "base_uri": "https://localhost:8080/"
        },
        "id": "EYeEsBZEYDTp",
        "outputId": "861e8e5b-6358-4a18-e3bb-a5be580212b4"
      },
      "outputs": [
        {
          "output_type": "execute_result",
          "data": {
            "text/plain": [
              "array([10, 10, 10, 70, 70])"
            ]
          },
          "metadata": {},
          "execution_count": 119
        }
      ],
      "source": [
        "# Display the matching values\n",
        "b[np.isin(b, [10,70])]"
      ]
    },
    {
      "cell_type": "markdown",
      "metadata": {
        "id": "YYH0mPnuYDTq"
      },
      "source": [
        "# Reverse Array"
      ]
    },
    {
      "cell_type": "code",
      "execution_count": 120,
      "metadata": {
        "id": "ACI2Bxa5YDTq"
      },
      "outputs": [],
      "source": [
        "a4 = np.arange(10,30)"
      ]
    },
    {
      "cell_type": "code",
      "execution_count": 121,
      "metadata": {
        "colab": {
          "base_uri": "https://localhost:8080/"
        },
        "id": "na2xmWXCYDTr",
        "outputId": "5038dfc3-56dd-495d-a989-954fcc393fe0"
      },
      "outputs": [
        {
          "output_type": "execute_result",
          "data": {
            "text/plain": [
              "array([10, 11, 12, 13, 14, 15, 16, 17, 18, 19, 20, 21, 22, 23, 24, 25, 26,\n",
              "       27, 28, 29])"
            ]
          },
          "metadata": {},
          "execution_count": 121
        }
      ],
      "source": [
        "a4"
      ]
    },
    {
      "cell_type": "code",
      "execution_count": 122,
      "metadata": {
        "colab": {
          "base_uri": "https://localhost:8080/"
        },
        "id": "DtsYCryzYDTr",
        "outputId": "5fd38d7c-db09-44b0-d668-05b7b5907f8d"
      },
      "outputs": [
        {
          "output_type": "execute_result",
          "data": {
            "text/plain": [
              "array([29, 28, 27, 26, 25, 24, 23, 22, 21, 20, 19, 18, 17, 16, 15, 14, 13,\n",
              "       12, 11, 10])"
            ]
          },
          "metadata": {},
          "execution_count": 122
        }
      ],
      "source": [
        "# Reverse the array\n",
        "a4[::-1]"
      ]
    },
    {
      "cell_type": "code",
      "execution_count": 123,
      "metadata": {
        "colab": {
          "base_uri": "https://localhost:8080/"
        },
        "id": "zSCjY1QcYDTr",
        "outputId": "98c1db4a-ac13-4fcf-a3e8-4ea4a4dd6579"
      },
      "outputs": [
        {
          "output_type": "execute_result",
          "data": {
            "text/plain": [
              "array([29, 28, 27, 26, 25, 24, 23, 22, 21, 20, 19, 18, 17, 16, 15, 14, 13,\n",
              "       12, 11, 10])"
            ]
          },
          "metadata": {},
          "execution_count": 123
        }
      ],
      "source": [
        "# Reverse the array\n",
        "np.flip(a4)"
      ]
    },
    {
      "cell_type": "code",
      "execution_count": 124,
      "metadata": {
        "colab": {
          "base_uri": "https://localhost:8080/"
        },
        "id": "husOF2cmYDTr",
        "outputId": "2f7528e8-16f2-4501-bc53-7662cafc9b59"
      },
      "outputs": [
        {
          "output_type": "execute_result",
          "data": {
            "text/plain": [
              "array([[ 3,  2,  8,  1],\n",
              "       [70, 50, 10, 67],\n",
              "       [45, 25, 75, 15],\n",
              "       [12,  9, 77,  4]])"
            ]
          },
          "metadata": {},
          "execution_count": 124
        }
      ],
      "source": [
        "a3 = np.array([[3,2,8,1] , [70,50,10,67] , [45,25,75,15] , [12,9,77,4]])\n",
        "a3"
      ]
    },
    {
      "cell_type": "code",
      "execution_count": 125,
      "metadata": {
        "colab": {
          "base_uri": "https://localhost:8080/"
        },
        "id": "hFG9HqNbYDTs",
        "outputId": "5b3ad984-e8c6-407e-dfcc-e0b93717320d"
      },
      "outputs": [
        {
          "output_type": "execute_result",
          "data": {
            "text/plain": [
              "array([[12,  9, 77,  4],\n",
              "       [45, 25, 75, 15],\n",
              "       [70, 50, 10, 67],\n",
              "       [ 3,  2,  8,  1]])"
            ]
          },
          "metadata": {},
          "execution_count": 125
        }
      ],
      "source": [
        "# Reverse ROW positions\n",
        "a3[::-1,]"
      ]
    },
    {
      "cell_type": "code",
      "execution_count": 126,
      "metadata": {
        "colab": {
          "base_uri": "https://localhost:8080/"
        },
        "id": "HTeD4U6nYDTt",
        "outputId": "1214b6b8-0d11-4e02-b06f-a9098fc50add"
      },
      "outputs": [
        {
          "output_type": "execute_result",
          "data": {
            "text/plain": [
              "array([[ 1,  8,  2,  3],\n",
              "       [67, 10, 50, 70],\n",
              "       [15, 75, 25, 45],\n",
              "       [ 4, 77,  9, 12]])"
            ]
          },
          "metadata": {},
          "execution_count": 126
        }
      ],
      "source": [
        "# Reverse COLUMN positions\n",
        "a3[:,::-1]"
      ]
    },
    {
      "cell_type": "code",
      "execution_count": 127,
      "metadata": {
        "colab": {
          "base_uri": "https://localhost:8080/"
        },
        "id": "CMR3qxBaYDTt",
        "outputId": "e66f7d86-7296-4d00-fc0b-e9eec8336771"
      },
      "outputs": [
        {
          "output_type": "execute_result",
          "data": {
            "text/plain": [
              "array([[ 4, 77,  9, 12],\n",
              "       [15, 75, 25, 45],\n",
              "       [67, 10, 50, 70],\n",
              "       [ 1,  8,  2,  3]])"
            ]
          },
          "metadata": {},
          "execution_count": 127
        }
      ],
      "source": [
        "# Reverse both ROW & COLUMN positions\n",
        "a3[::-1,::-1]"
      ]
    },
    {
      "cell_type": "markdown",
      "metadata": {
        "id": "EzGerWf6YDTu"
      },
      "source": [
        "# Sorting Array"
      ]
    },
    {
      "cell_type": "code",
      "execution_count": 128,
      "metadata": {
        "id": "err01A81YDTu"
      },
      "outputs": [],
      "source": [
        "a = np.array([10,5,2,22,12,92,17,33])"
      ]
    },
    {
      "cell_type": "code",
      "execution_count": 129,
      "metadata": {
        "colab": {
          "base_uri": "https://localhost:8080/"
        },
        "id": "7jBZYsL1YDTu",
        "outputId": "fa64c979-f155-4247-8eb0-00af6326b48d"
      },
      "outputs": [
        {
          "output_type": "execute_result",
          "data": {
            "text/plain": [
              "array([ 2,  5, 10, 12, 17, 22, 33, 92])"
            ]
          },
          "metadata": {},
          "execution_count": 129
        }
      ],
      "source": [
        "# Sort array in ascending order\n",
        "np.sort(a)"
      ]
    },
    {
      "cell_type": "code",
      "execution_count": 130,
      "metadata": {
        "colab": {
          "base_uri": "https://localhost:8080/"
        },
        "id": "GSFPws1eYDTu",
        "outputId": "f8db90c4-cfa8-4689-997d-52ff0e79ab85"
      },
      "outputs": [
        {
          "output_type": "execute_result",
          "data": {
            "text/plain": [
              "array([[ 3,  2,  8,  1],\n",
              "       [70, 50, 10, 67],\n",
              "       [45, 25, 75, 15]])"
            ]
          },
          "metadata": {},
          "execution_count": 130
        }
      ],
      "source": [
        "a3 = np.array([[3,2,8,1] , [70,50,10,67] , [45,25,75,15]])\n",
        "a3"
      ]
    },
    {
      "cell_type": "code",
      "execution_count": 131,
      "metadata": {
        "colab": {
          "base_uri": "https://localhost:8080/"
        },
        "id": "ETVzCr48YDTv",
        "outputId": "91630d67-c6ff-495e-e529-0a425bcd659f"
      },
      "outputs": [
        {
          "output_type": "execute_result",
          "data": {
            "text/plain": [
              "array([[ 1,  2,  3,  8],\n",
              "       [10, 50, 67, 70],\n",
              "       [15, 25, 45, 75]])"
            ]
          },
          "metadata": {},
          "execution_count": 131
        }
      ],
      "source": [
        "# Sort along rows\n",
        "np.sort(a3)"
      ]
    },
    {
      "cell_type": "code",
      "execution_count": 132,
      "metadata": {
        "colab": {
          "base_uri": "https://localhost:8080/"
        },
        "id": "oYZA7mQHYDTv",
        "outputId": "675914c9-700b-4b6f-b974-2dd9b56b760d"
      },
      "outputs": [
        {
          "output_type": "execute_result",
          "data": {
            "text/plain": [
              "array([[ 1,  2,  3,  8],\n",
              "       [10, 50, 67, 70],\n",
              "       [15, 25, 45, 75]])"
            ]
          },
          "metadata": {},
          "execution_count": 132
        }
      ],
      "source": [
        "# Sort along rows\n",
        "np.sort(a3,axis =1)"
      ]
    },
    {
      "cell_type": "code",
      "execution_count": 133,
      "metadata": {
        "colab": {
          "base_uri": "https://localhost:8080/"
        },
        "id": "l9yZLAbZYDTv",
        "outputId": "2b8e0887-bca8-48fa-d0f8-845a776bbf41"
      },
      "outputs": [
        {
          "output_type": "execute_result",
          "data": {
            "text/plain": [
              "array([[ 3,  2,  8,  1],\n",
              "       [45, 25, 10, 15],\n",
              "       [70, 50, 75, 67]])"
            ]
          },
          "metadata": {},
          "execution_count": 133
        }
      ],
      "source": [
        "# Sort along columns\n",
        "np.sort(a3,axis =0)"
      ]
    },
    {
      "cell_type": "code",
      "execution_count": 134,
      "metadata": {
        "colab": {
          "base_uri": "https://localhost:8080/"
        },
        "id": "0hakcF8GYDTw",
        "outputId": "9a1e24c8-d20e-4622-f11f-bb56a38c7225"
      },
      "outputs": [
        {
          "output_type": "execute_result",
          "data": {
            "text/plain": [
              "array([92, 33, 22, 17, 12, 10,  5,  2])"
            ]
          },
          "metadata": {},
          "execution_count": 134
        }
      ],
      "source": [
        "# Sort in descending order\n",
        "b = np.sort(a)\n",
        "b = b[::-1]\n",
        "b"
      ]
    },
    {
      "cell_type": "code",
      "execution_count": 135,
      "metadata": {
        "colab": {
          "base_uri": "https://localhost:8080/"
        },
        "id": "9gVidaENYDTw",
        "outputId": "5d9957a9-ccb4-4e85-8ef4-ca05e62fff97"
      },
      "outputs": [
        {
          "output_type": "execute_result",
          "data": {
            "text/plain": [
              "array([92, 33, 22, 17, 12, 10,  5,  2])"
            ]
          },
          "metadata": {},
          "execution_count": 135
        }
      ],
      "source": [
        "# Sort in descending order\n",
        "c = np.sort(a)\n",
        "np.flip(c)"
      ]
    },
    {
      "cell_type": "code",
      "execution_count": 136,
      "metadata": {
        "colab": {
          "base_uri": "https://localhost:8080/"
        },
        "id": "NN53gzisYDTw",
        "outputId": "e05bb29f-9be3-4d1f-b240-9b41eb2fc543"
      },
      "outputs": [
        {
          "output_type": "execute_result",
          "data": {
            "text/plain": [
              "array([92, 33, 22, 17, 12, 10,  5,  2])"
            ]
          },
          "metadata": {},
          "execution_count": 136
        }
      ],
      "source": [
        "# Sort in descending order\n",
        "a[::-1].sort()\n",
        "a"
      ]
    },
    {
      "cell_type": "markdown",
      "metadata": {
        "id": "3HkvVhjQYDTx"
      },
      "source": [
        "# \"N\" Largest & Smallest Numbers in an Array"
      ]
    },
    {
      "cell_type": "code",
      "execution_count": 137,
      "metadata": {
        "colab": {
          "base_uri": "https://localhost:8080/"
        },
        "id": "7hxXko_dYDTx",
        "outputId": "38f52771-5810-41a9-d927-c9164f872a37"
      },
      "outputs": [
        {
          "output_type": "execute_result",
          "data": {
            "text/plain": [
              "array([ 0,  1,  2,  3,  4,  5,  6,  7,  8,  9, 10, 11, 12, 13, 14, 15, 16,\n",
              "       17, 18, 19, 20, 21, 22, 23, 24, 25, 26, 27, 28, 29, 30, 31, 32, 33,\n",
              "       34, 35, 36, 37, 38, 39, 40, 41, 42, 43, 44, 45, 46, 47, 48, 49])"
            ]
          },
          "metadata": {},
          "execution_count": 137
        }
      ],
      "source": [
        "p = np.arange(0,50)\n",
        "p"
      ]
    },
    {
      "cell_type": "code",
      "execution_count": 138,
      "metadata": {
        "colab": {
          "base_uri": "https://localhost:8080/"
        },
        "id": "qYlaUT7iYDTx",
        "outputId": "60067f00-4cef-4670-92e2-49b14a7b3a84"
      },
      "outputs": [
        {
          "output_type": "execute_result",
          "data": {
            "text/plain": [
              "array([27, 26, 35, 41, 45, 43,  6,  4, 34, 16,  3,  1, 31, 25, 48, 40, 21,\n",
              "        2, 13, 47,  5, 37, 14, 23, 32, 22,  8, 20, 44, 28, 36, 10, 30, 19,\n",
              "       24, 29, 33, 42, 11, 17, 12,  0, 15, 49,  7, 18,  9, 46, 38, 39])"
            ]
          },
          "metadata": {},
          "execution_count": 138
        }
      ],
      "source": [
        "np.random.shuffle(p)\n",
        "p"
      ]
    },
    {
      "cell_type": "code",
      "execution_count": 140,
      "metadata": {
        "colab": {
          "base_uri": "https://localhost:8080/"
        },
        "id": "KKmE9JgtYDTy",
        "outputId": "77235cf5-65ce-469f-cb8a-adcd02803094"
      },
      "outputs": [
        {
          "output_type": "execute_result",
          "data": {
            "text/plain": [
              "array([46, 47, 48, 49])"
            ]
          },
          "metadata": {},
          "execution_count": 140
        }
      ],
      "source": [
        "# Return \"n\" largest numbers in an Array\n",
        "n = 4\n",
        "p[np.argsort(p)[-n:]]"
      ]
    },
    {
      "cell_type": "code",
      "execution_count": 141,
      "metadata": {
        "colab": {
          "base_uri": "https://localhost:8080/"
        },
        "id": "pVc9eK9ZYDTy",
        "outputId": "948b7165-fdfe-43a2-db85-07ca3ac1b59d"
      },
      "outputs": [
        {
          "output_type": "execute_result",
          "data": {
            "text/plain": [
              "array([48, 49, 47, 46])"
            ]
          },
          "metadata": {},
          "execution_count": 141
        }
      ],
      "source": [
        "# Return \"n\" largest numbers in an Array\n",
        "p[np.argpartition(-p,n)[:n]]"
      ]
    },
    {
      "cell_type": "code",
      "execution_count": 142,
      "metadata": {
        "colab": {
          "base_uri": "https://localhost:8080/"
        },
        "id": "cTrKHOxuYDTz",
        "outputId": "509b560a-2c53-48fb-f976-50d4f1ffb1c7"
      },
      "outputs": [
        {
          "output_type": "execute_result",
          "data": {
            "text/plain": [
              "array([3, 2, 1, 0])"
            ]
          },
          "metadata": {},
          "execution_count": 142
        }
      ],
      "source": [
        "# Return \"n\" smallest numbers in an Array\n",
        "p[np.argsort(-p)[-n:]]"
      ]
    },
    {
      "cell_type": "code",
      "execution_count": 143,
      "metadata": {
        "colab": {
          "base_uri": "https://localhost:8080/"
        },
        "id": "9-LaRPmaYDTz",
        "outputId": "bdb94e05-507d-41a8-cdb1-17c30dcb9750"
      },
      "outputs": [
        {
          "output_type": "execute_result",
          "data": {
            "text/plain": [
              "array([1, 0, 2, 3])"
            ]
          },
          "metadata": {},
          "execution_count": 143
        }
      ],
      "source": [
        "# Return \"n\" smallest numbers in an Array\n",
        "p[np.argpartition(p,n)[:n]]"
      ]
    },
    {
      "cell_type": "markdown",
      "metadata": {
        "id": "y-YS7o26YDTz"
      },
      "source": [
        "# Repeating Sequences"
      ]
    },
    {
      "cell_type": "code",
      "execution_count": 144,
      "metadata": {
        "colab": {
          "base_uri": "https://localhost:8080/"
        },
        "id": "qm-2Uu9vYDTz",
        "outputId": "5efb105b-9ec7-4c9d-d6ea-c81ad2c0a7fe"
      },
      "outputs": [
        {
          "output_type": "execute_result",
          "data": {
            "text/plain": [
              "[10, 20, 30]"
            ]
          },
          "metadata": {},
          "execution_count": 144
        }
      ],
      "source": [
        "a5 = [10,20,30] \n",
        "a5"
      ]
    },
    {
      "cell_type": "code",
      "execution_count": 145,
      "metadata": {
        "colab": {
          "base_uri": "https://localhost:8080/"
        },
        "id": "vk_ITUnJYDT0",
        "outputId": "4063cd98-dd9b-48fc-d6da-a040cfac2a29"
      },
      "outputs": [
        {
          "output_type": "execute_result",
          "data": {
            "text/plain": [
              "array([10, 20, 30, 10, 20, 30])"
            ]
          },
          "metadata": {},
          "execution_count": 145
        }
      ],
      "source": [
        "# Repeat whole array twice\n",
        "np.tile(a5, 2)"
      ]
    },
    {
      "cell_type": "code",
      "execution_count": 146,
      "metadata": {
        "colab": {
          "base_uri": "https://localhost:8080/"
        },
        "id": "a4aLvu9aYDT0",
        "outputId": "7d685257-e4f8-4045-8014-30312693299f"
      },
      "outputs": [
        {
          "output_type": "execute_result",
          "data": {
            "text/plain": [
              "array([10, 10, 10, 20, 20, 20, 30, 30, 30])"
            ]
          },
          "metadata": {},
          "execution_count": 146
        }
      ],
      "source": [
        "# Repeat each element in an array thrice\n",
        "np.repeat(a5, 3)"
      ]
    },
    {
      "cell_type": "markdown",
      "metadata": {
        "id": "wxkmv1RTYDT1"
      },
      "source": [
        "# Compare Arrays"
      ]
    },
    {
      "cell_type": "code",
      "execution_count": 147,
      "metadata": {
        "colab": {
          "base_uri": "https://localhost:8080/"
        },
        "id": "aE6CGEhsYDT1",
        "outputId": "c0b57a56-a80d-418a-e17e-3f21ab56fb42"
      },
      "outputs": [
        {
          "output_type": "execute_result",
          "data": {
            "text/plain": [
              "array([0, 1, 2, 3, 4, 5, 6, 7, 8, 9])"
            ]
          },
          "metadata": {},
          "execution_count": 147
        }
      ],
      "source": [
        "d1 = np.arange(0,10)\n",
        "d1"
      ]
    },
    {
      "cell_type": "code",
      "execution_count": 148,
      "metadata": {
        "colab": {
          "base_uri": "https://localhost:8080/"
        },
        "id": "dKLHynZEYDT2",
        "outputId": "4e1c6e06-79aa-4352-f527-fd3140f2b8ce"
      },
      "outputs": [
        {
          "output_type": "execute_result",
          "data": {
            "text/plain": [
              "array([0, 1, 2, 3, 4, 5, 6, 7, 8, 9])"
            ]
          },
          "metadata": {},
          "execution_count": 148
        }
      ],
      "source": [
        "d2 = np.arange(0,10)\n",
        "d2"
      ]
    },
    {
      "cell_type": "code",
      "execution_count": 149,
      "metadata": {
        "colab": {
          "base_uri": "https://localhost:8080/"
        },
        "id": "zAKI5UbIYDT2",
        "outputId": "8303bbb3-ddab-48cb-d601-d59cd3dfee13"
      },
      "outputs": [
        {
          "output_type": "execute_result",
          "data": {
            "text/plain": [
              "array([10, 11, 12, 13, 14, 15, 16, 17, 18, 19])"
            ]
          },
          "metadata": {},
          "execution_count": 149
        }
      ],
      "source": [
        "d3 = np.arange(10,20)\n",
        "d3"
      ]
    },
    {
      "cell_type": "code",
      "execution_count": 150,
      "metadata": {
        "colab": {
          "base_uri": "https://localhost:8080/"
        },
        "id": "WGaEFP-rYDT3",
        "outputId": "273ed29a-d0ab-4692-c7bb-ef8c311e269f"
      },
      "outputs": [
        {
          "output_type": "execute_result",
          "data": {
            "text/plain": [
              "array([9, 8, 7, 6, 5, 4, 3, 2, 1, 0])"
            ]
          },
          "metadata": {},
          "execution_count": 150
        }
      ],
      "source": [
        "d4 = d1[::-1]\n",
        "d4"
      ]
    },
    {
      "cell_type": "code",
      "execution_count": 151,
      "metadata": {
        "colab": {
          "base_uri": "https://localhost:8080/"
        },
        "id": "gBgdAzpbYDT3",
        "outputId": "1259ddc2-a2db-456d-a3f1-06de321fe284"
      },
      "outputs": [
        {
          "output_type": "execute_result",
          "data": {
            "text/plain": [
              "True"
            ]
          },
          "metadata": {},
          "execution_count": 151
        }
      ],
      "source": [
        "# Compare arrays using \"allclose\" function. If this function returns True then Arrays are equal\n",
        "res1 = np.allclose(d1,d2)\n",
        "res1"
      ]
    },
    {
      "cell_type": "code",
      "execution_count": 152,
      "metadata": {
        "colab": {
          "base_uri": "https://localhost:8080/"
        },
        "id": "ODz2dwA6YDT4",
        "outputId": "c959d23d-945c-496c-dc1f-f75674e8d22e"
      },
      "outputs": [
        {
          "output_type": "execute_result",
          "data": {
            "text/plain": [
              "False"
            ]
          },
          "metadata": {},
          "execution_count": 152
        }
      ],
      "source": [
        "# Compare arrays using \"allclose\" function. If this function returns False then Arrays are not equal\n",
        "res2 = np.allclose(d1,d3)\n",
        "res2"
      ]
    },
    {
      "cell_type": "code",
      "execution_count": 153,
      "metadata": {
        "colab": {
          "base_uri": "https://localhost:8080/"
        },
        "id": "VprsRW6XYDT4",
        "outputId": "1a047df4-540d-4cce-9f5e-43cc7611de31"
      },
      "outputs": [
        {
          "output_type": "execute_result",
          "data": {
            "text/plain": [
              "False"
            ]
          },
          "metadata": {},
          "execution_count": 153
        }
      ],
      "source": [
        "# Compare arrays using \"allclose\" function.\n",
        "res3 = np.allclose(d1,d4)\n",
        "res3"
      ]
    },
    {
      "cell_type": "markdown",
      "metadata": {
        "id": "6YoDjbAAYDT5"
      },
      "source": [
        "# Frequent Values in an Array"
      ]
    },
    {
      "cell_type": "code",
      "execution_count": 154,
      "metadata": {
        "colab": {
          "base_uri": "https://localhost:8080/"
        },
        "id": "nuGa8NSdYDT5",
        "outputId": "048b2e84-c788-46d8-8b7f-f14b753deaf2"
      },
      "outputs": [
        {
          "output_type": "execute_result",
          "data": {
            "text/plain": [
              "array([10, 20, 30])"
            ]
          },
          "metadata": {},
          "execution_count": 154
        }
      ],
      "source": [
        "# unique numbers in an array\n",
        "b = np.array([10,10,10,20,30,20,30,30,20,10,10,30,10])\n",
        "np.unique(b)"
      ]
    },
    {
      "cell_type": "code",
      "execution_count": 155,
      "metadata": {
        "colab": {
          "base_uri": "https://localhost:8080/"
        },
        "id": "zuJJU7YkYDT5",
        "outputId": "6f7e8f05-0028-4de5-a8df-fcb8713cb543"
      },
      "outputs": [
        {
          "output_type": "execute_result",
          "data": {
            "text/plain": [
              "(array([10, 20, 30]), array([6, 3, 4]))"
            ]
          },
          "metadata": {},
          "execution_count": 155
        }
      ],
      "source": [
        "# unique numbers in an array along with the count E.g value 10 occurred maximum times (5 times) in an array \"b\"\n",
        "val , count = np.unique(b,return_counts=True)\n",
        "val,count"
      ]
    },
    {
      "cell_type": "code",
      "execution_count": 156,
      "metadata": {
        "colab": {
          "base_uri": "https://localhost:8080/"
        },
        "id": "g7MenCNlYDT5",
        "outputId": "b77f6e90-526f-45ac-efa8-f0d0c254da8d"
      },
      "outputs": [
        {
          "output_type": "execute_result",
          "data": {
            "text/plain": [
              "10"
            ]
          },
          "metadata": {},
          "execution_count": 156
        }
      ],
      "source": [
        "# 10 is the most frequent value \n",
        "np.bincount(b).argmax()"
      ]
    },
    {
      "cell_type": "markdown",
      "metadata": {
        "id": "w7o7lsdkYDT6"
      },
      "source": [
        "# Read-Only Array"
      ]
    },
    {
      "cell_type": "code",
      "execution_count": 157,
      "metadata": {
        "colab": {
          "base_uri": "https://localhost:8080/"
        },
        "id": "NWHi1UPRYDT6",
        "outputId": "ad436f8b-0362-4b58-d4c6-153562b61635"
      },
      "outputs": [
        {
          "output_type": "execute_result",
          "data": {
            "text/plain": [
              "array([10, 20, 30, 40, 50, 60, 70, 80, 90])"
            ]
          },
          "metadata": {},
          "execution_count": 157
        }
      ],
      "source": [
        "d5 = np.arange(10,100,10)\n",
        "d5"
      ]
    },
    {
      "cell_type": "code",
      "execution_count": 158,
      "metadata": {
        "id": "Ei3xNjQuYDT6"
      },
      "outputs": [],
      "source": [
        "# Make arrays immutable  \n",
        "d5.flags.writeable = False"
      ]
    },
    {
      "cell_type": "code",
      "execution_count": 159,
      "metadata": {
        "colab": {
          "base_uri": "https://localhost:8080/",
          "height": 166
        },
        "id": "3bIqJA6kYDT7",
        "outputId": "b7109531-9c92-4e7e-f239-cf0e0b9853a7"
      },
      "outputs": [
        {
          "output_type": "error",
          "ename": "ValueError",
          "evalue": "ignored",
          "traceback": [
            "\u001b[0;31m---------------------------------------------------------------------------\u001b[0m",
            "\u001b[0;31mValueError\u001b[0m                                Traceback (most recent call last)",
            "\u001b[0;32m<ipython-input-159-cff52f234eeb>\u001b[0m in \u001b[0;36m<module>\u001b[0;34m\u001b[0m\n\u001b[0;32m----> 1\u001b[0;31m \u001b[0md5\u001b[0m\u001b[0;34m[\u001b[0m\u001b[0;36m0\u001b[0m\u001b[0;34m]\u001b[0m \u001b[0;34m=\u001b[0m \u001b[0;36m99\u001b[0m\u001b[0;34m\u001b[0m\u001b[0;34m\u001b[0m\u001b[0m\n\u001b[0m",
            "\u001b[0;31mValueError\u001b[0m: assignment destination is read-only"
          ]
        }
      ],
      "source": [
        "d5[0] = 99"
      ]
    },
    {
      "cell_type": "code",
      "execution_count": 160,
      "metadata": {
        "colab": {
          "base_uri": "https://localhost:8080/",
          "height": 166
        },
        "id": "IRarZw4ZYDT9",
        "outputId": "f4860e94-cb76-4832-dda3-18cdd66b5500"
      },
      "outputs": [
        {
          "output_type": "error",
          "ename": "ValueError",
          "evalue": "ignored",
          "traceback": [
            "\u001b[0;31m---------------------------------------------------------------------------\u001b[0m",
            "\u001b[0;31mValueError\u001b[0m                                Traceback (most recent call last)",
            "\u001b[0;32m<ipython-input-160-a3b6c959d563>\u001b[0m in \u001b[0;36m<module>\u001b[0;34m\u001b[0m\n\u001b[0;32m----> 1\u001b[0;31m \u001b[0md5\u001b[0m\u001b[0;34m[\u001b[0m\u001b[0;36m2\u001b[0m\u001b[0;34m]\u001b[0m \u001b[0;34m=\u001b[0m \u001b[0;36m11\u001b[0m\u001b[0;34m\u001b[0m\u001b[0;34m\u001b[0m\u001b[0m\n\u001b[0m",
            "\u001b[0;31mValueError\u001b[0m: assignment destination is read-only"
          ]
        }
      ],
      "source": [
        "d5[2] = 11"
      ]
    },
    {
      "cell_type": "markdown",
      "metadata": {
        "id": "JGGVJ-M6YDT-"
      },
      "source": [
        "# Load & Save"
      ]
    },
    {
      "cell_type": "code",
      "execution_count": 161,
      "metadata": {
        "colab": {
          "base_uri": "https://localhost:8080/",
          "height": 381
        },
        "id": "k2jSvMdnYDT_",
        "outputId": "615d886c-76bb-4f33-d57c-cde478394a9a"
      },
      "outputs": [
        {
          "output_type": "error",
          "ename": "OSError",
          "evalue": "ignored",
          "traceback": [
            "\u001b[0;31m---------------------------------------------------------------------------\u001b[0m",
            "\u001b[0;31mOSError\u001b[0m                                   Traceback (most recent call last)",
            "\u001b[0;32m<ipython-input-161-48c14971a386>\u001b[0m in \u001b[0;36m<module>\u001b[0;34m\u001b[0m\n\u001b[1;32m      1\u001b[0m \u001b[0;31m# Load data from a text file using loadtext\u001b[0m\u001b[0;34m\u001b[0m\u001b[0;34m\u001b[0m\u001b[0;34m\u001b[0m\u001b[0m\n\u001b[0;32m----> 2\u001b[0;31m p4 = np.loadtxt('sample.txt', \n\u001b[0m\u001b[1;32m      3\u001b[0m                 \u001b[0mdtype\u001b[0m \u001b[0;34m=\u001b[0m \u001b[0mnp\u001b[0m\u001b[0;34m.\u001b[0m\u001b[0minteger\u001b[0m \u001b[0;31m# Decides the datatype of resulting array\u001b[0m\u001b[0;34m\u001b[0m\u001b[0;34m\u001b[0m\u001b[0m\n\u001b[1;32m      4\u001b[0m                )\n\u001b[1;32m      5\u001b[0m \u001b[0mp4\u001b[0m\u001b[0;34m\u001b[0m\u001b[0;34m\u001b[0m\u001b[0m\n",
            "\u001b[0;32m/usr/local/lib/python3.8/dist-packages/numpy/lib/npyio.py\u001b[0m in \u001b[0;36mloadtxt\u001b[0;34m(fname, dtype, comments, delimiter, converters, skiprows, usecols, unpack, ndmin, encoding, max_rows, like)\u001b[0m\n\u001b[1;32m   1065\u001b[0m             \u001b[0mfname\u001b[0m \u001b[0;34m=\u001b[0m \u001b[0mos_fspath\u001b[0m\u001b[0;34m(\u001b[0m\u001b[0mfname\u001b[0m\u001b[0;34m)\u001b[0m\u001b[0;34m\u001b[0m\u001b[0;34m\u001b[0m\u001b[0m\n\u001b[1;32m   1066\u001b[0m         \u001b[0;32mif\u001b[0m \u001b[0m_is_string_like\u001b[0m\u001b[0;34m(\u001b[0m\u001b[0mfname\u001b[0m\u001b[0;34m)\u001b[0m\u001b[0;34m:\u001b[0m\u001b[0;34m\u001b[0m\u001b[0;34m\u001b[0m\u001b[0m\n\u001b[0;32m-> 1067\u001b[0;31m             \u001b[0mfh\u001b[0m \u001b[0;34m=\u001b[0m \u001b[0mnp\u001b[0m\u001b[0;34m.\u001b[0m\u001b[0mlib\u001b[0m\u001b[0;34m.\u001b[0m\u001b[0m_datasource\u001b[0m\u001b[0;34m.\u001b[0m\u001b[0mopen\u001b[0m\u001b[0;34m(\u001b[0m\u001b[0mfname\u001b[0m\u001b[0;34m,\u001b[0m \u001b[0;34m'rt'\u001b[0m\u001b[0;34m,\u001b[0m \u001b[0mencoding\u001b[0m\u001b[0;34m=\u001b[0m\u001b[0mencoding\u001b[0m\u001b[0;34m)\u001b[0m\u001b[0;34m\u001b[0m\u001b[0;34m\u001b[0m\u001b[0m\n\u001b[0m\u001b[1;32m   1068\u001b[0m             \u001b[0mfencoding\u001b[0m \u001b[0;34m=\u001b[0m \u001b[0mgetattr\u001b[0m\u001b[0;34m(\u001b[0m\u001b[0mfh\u001b[0m\u001b[0;34m,\u001b[0m \u001b[0;34m'encoding'\u001b[0m\u001b[0;34m,\u001b[0m \u001b[0;34m'latin1'\u001b[0m\u001b[0;34m)\u001b[0m\u001b[0;34m\u001b[0m\u001b[0;34m\u001b[0m\u001b[0m\n\u001b[1;32m   1069\u001b[0m             \u001b[0mfh\u001b[0m \u001b[0;34m=\u001b[0m \u001b[0miter\u001b[0m\u001b[0;34m(\u001b[0m\u001b[0mfh\u001b[0m\u001b[0;34m)\u001b[0m\u001b[0;34m\u001b[0m\u001b[0;34m\u001b[0m\u001b[0m\n",
            "\u001b[0;32m/usr/local/lib/python3.8/dist-packages/numpy/lib/_datasource.py\u001b[0m in \u001b[0;36mopen\u001b[0;34m(path, mode, destpath, encoding, newline)\u001b[0m\n\u001b[1;32m    191\u001b[0m \u001b[0;34m\u001b[0m\u001b[0m\n\u001b[1;32m    192\u001b[0m     \u001b[0mds\u001b[0m \u001b[0;34m=\u001b[0m \u001b[0mDataSource\u001b[0m\u001b[0;34m(\u001b[0m\u001b[0mdestpath\u001b[0m\u001b[0;34m)\u001b[0m\u001b[0;34m\u001b[0m\u001b[0;34m\u001b[0m\u001b[0m\n\u001b[0;32m--> 193\u001b[0;31m     \u001b[0;32mreturn\u001b[0m \u001b[0mds\u001b[0m\u001b[0;34m.\u001b[0m\u001b[0mopen\u001b[0m\u001b[0;34m(\u001b[0m\u001b[0mpath\u001b[0m\u001b[0;34m,\u001b[0m \u001b[0mmode\u001b[0m\u001b[0;34m,\u001b[0m \u001b[0mencoding\u001b[0m\u001b[0;34m=\u001b[0m\u001b[0mencoding\u001b[0m\u001b[0;34m,\u001b[0m \u001b[0mnewline\u001b[0m\u001b[0;34m=\u001b[0m\u001b[0mnewline\u001b[0m\u001b[0;34m)\u001b[0m\u001b[0;34m\u001b[0m\u001b[0;34m\u001b[0m\u001b[0m\n\u001b[0m\u001b[1;32m    194\u001b[0m \u001b[0;34m\u001b[0m\u001b[0m\n\u001b[1;32m    195\u001b[0m \u001b[0;34m\u001b[0m\u001b[0m\n",
            "\u001b[0;32m/usr/local/lib/python3.8/dist-packages/numpy/lib/_datasource.py\u001b[0m in \u001b[0;36mopen\u001b[0;34m(self, path, mode, encoding, newline)\u001b[0m\n\u001b[1;32m    531\u001b[0m                                       encoding=encoding, newline=newline)\n\u001b[1;32m    532\u001b[0m         \u001b[0;32melse\u001b[0m\u001b[0;34m:\u001b[0m\u001b[0;34m\u001b[0m\u001b[0;34m\u001b[0m\u001b[0m\n\u001b[0;32m--> 533\u001b[0;31m             \u001b[0;32mraise\u001b[0m \u001b[0mIOError\u001b[0m\u001b[0;34m(\u001b[0m\u001b[0;34m\"%s not found.\"\u001b[0m \u001b[0;34m%\u001b[0m \u001b[0mpath\u001b[0m\u001b[0;34m)\u001b[0m\u001b[0;34m\u001b[0m\u001b[0;34m\u001b[0m\u001b[0m\n\u001b[0m\u001b[1;32m    534\u001b[0m \u001b[0;34m\u001b[0m\u001b[0m\n\u001b[1;32m    535\u001b[0m \u001b[0;34m\u001b[0m\u001b[0m\n",
            "\u001b[0;31mOSError\u001b[0m: sample.txt not found."
          ]
        }
      ],
      "source": [
        "# Load data from a text file using loadtext\n",
        "p4 = np.loadtxt('sample.txt', \n",
        "                dtype = np.integer # Decides the datatype of resulting array\n",
        "               )\n",
        "p4"
      ]
    },
    {
      "cell_type": "code",
      "execution_count": 162,
      "metadata": {
        "colab": {
          "base_uri": "https://localhost:8080/",
          "height": 346
        },
        "id": "TDtgy5olYDT_",
        "outputId": "381e2501-c13d-45e2-ad9a-25279e1a058e"
      },
      "outputs": [
        {
          "output_type": "error",
          "ename": "OSError",
          "evalue": "ignored",
          "traceback": [
            "\u001b[0;31m---------------------------------------------------------------------------\u001b[0m",
            "\u001b[0;31mOSError\u001b[0m                                   Traceback (most recent call last)",
            "\u001b[0;32m<ipython-input-162-b18b766894bf>\u001b[0m in \u001b[0;36m<module>\u001b[0;34m\u001b[0m\n\u001b[1;32m      1\u001b[0m \u001b[0;31m# Load data from a text file using genfromtxt\u001b[0m\u001b[0;34m\u001b[0m\u001b[0;34m\u001b[0m\u001b[0;34m\u001b[0m\u001b[0m\n\u001b[0;32m----> 2\u001b[0;31m \u001b[0mp5\u001b[0m \u001b[0;34m=\u001b[0m \u001b[0mnp\u001b[0m\u001b[0;34m.\u001b[0m\u001b[0mgenfromtxt\u001b[0m\u001b[0;34m(\u001b[0m\u001b[0;34m'sample0.txt'\u001b[0m\u001b[0;34m,\u001b[0m\u001b[0mdtype\u001b[0m\u001b[0;34m=\u001b[0m\u001b[0;34m'str'\u001b[0m\u001b[0;34m)\u001b[0m\u001b[0;34m\u001b[0m\u001b[0;34m\u001b[0m\u001b[0m\n\u001b[0m\u001b[1;32m      3\u001b[0m \u001b[0mp5\u001b[0m\u001b[0;34m\u001b[0m\u001b[0;34m\u001b[0m\u001b[0m\n",
            "\u001b[0;32m/usr/local/lib/python3.8/dist-packages/numpy/lib/npyio.py\u001b[0m in \u001b[0;36mgenfromtxt\u001b[0;34m(fname, dtype, comments, delimiter, skip_header, skip_footer, converters, missing_values, filling_values, usecols, names, excludelist, deletechars, replace_space, autostrip, case_sensitive, defaultfmt, unpack, usemask, loose, invalid_raise, max_rows, encoding, like)\u001b[0m\n\u001b[1;32m   1791\u001b[0m             \u001b[0mfname\u001b[0m \u001b[0;34m=\u001b[0m \u001b[0mos_fspath\u001b[0m\u001b[0;34m(\u001b[0m\u001b[0mfname\u001b[0m\u001b[0;34m)\u001b[0m\u001b[0;34m\u001b[0m\u001b[0;34m\u001b[0m\u001b[0m\n\u001b[1;32m   1792\u001b[0m         \u001b[0;32mif\u001b[0m \u001b[0misinstance\u001b[0m\u001b[0;34m(\u001b[0m\u001b[0mfname\u001b[0m\u001b[0;34m,\u001b[0m \u001b[0mstr\u001b[0m\u001b[0;34m)\u001b[0m\u001b[0;34m:\u001b[0m\u001b[0;34m\u001b[0m\u001b[0;34m\u001b[0m\u001b[0m\n\u001b[0;32m-> 1793\u001b[0;31m             \u001b[0mfid\u001b[0m \u001b[0;34m=\u001b[0m \u001b[0mnp\u001b[0m\u001b[0;34m.\u001b[0m\u001b[0mlib\u001b[0m\u001b[0;34m.\u001b[0m\u001b[0m_datasource\u001b[0m\u001b[0;34m.\u001b[0m\u001b[0mopen\u001b[0m\u001b[0;34m(\u001b[0m\u001b[0mfname\u001b[0m\u001b[0;34m,\u001b[0m \u001b[0;34m'rt'\u001b[0m\u001b[0;34m,\u001b[0m \u001b[0mencoding\u001b[0m\u001b[0;34m=\u001b[0m\u001b[0mencoding\u001b[0m\u001b[0;34m)\u001b[0m\u001b[0;34m\u001b[0m\u001b[0;34m\u001b[0m\u001b[0m\n\u001b[0m\u001b[1;32m   1794\u001b[0m             \u001b[0mfid_ctx\u001b[0m \u001b[0;34m=\u001b[0m \u001b[0mcontextlib\u001b[0m\u001b[0;34m.\u001b[0m\u001b[0mclosing\u001b[0m\u001b[0;34m(\u001b[0m\u001b[0mfid\u001b[0m\u001b[0;34m)\u001b[0m\u001b[0;34m\u001b[0m\u001b[0;34m\u001b[0m\u001b[0m\n\u001b[1;32m   1795\u001b[0m         \u001b[0;32melse\u001b[0m\u001b[0;34m:\u001b[0m\u001b[0;34m\u001b[0m\u001b[0;34m\u001b[0m\u001b[0m\n",
            "\u001b[0;32m/usr/local/lib/python3.8/dist-packages/numpy/lib/_datasource.py\u001b[0m in \u001b[0;36mopen\u001b[0;34m(path, mode, destpath, encoding, newline)\u001b[0m\n\u001b[1;32m    191\u001b[0m \u001b[0;34m\u001b[0m\u001b[0m\n\u001b[1;32m    192\u001b[0m     \u001b[0mds\u001b[0m \u001b[0;34m=\u001b[0m \u001b[0mDataSource\u001b[0m\u001b[0;34m(\u001b[0m\u001b[0mdestpath\u001b[0m\u001b[0;34m)\u001b[0m\u001b[0;34m\u001b[0m\u001b[0;34m\u001b[0m\u001b[0m\n\u001b[0;32m--> 193\u001b[0;31m     \u001b[0;32mreturn\u001b[0m \u001b[0mds\u001b[0m\u001b[0;34m.\u001b[0m\u001b[0mopen\u001b[0m\u001b[0;34m(\u001b[0m\u001b[0mpath\u001b[0m\u001b[0;34m,\u001b[0m \u001b[0mmode\u001b[0m\u001b[0;34m,\u001b[0m \u001b[0mencoding\u001b[0m\u001b[0;34m=\u001b[0m\u001b[0mencoding\u001b[0m\u001b[0;34m,\u001b[0m \u001b[0mnewline\u001b[0m\u001b[0;34m=\u001b[0m\u001b[0mnewline\u001b[0m\u001b[0;34m)\u001b[0m\u001b[0;34m\u001b[0m\u001b[0;34m\u001b[0m\u001b[0m\n\u001b[0m\u001b[1;32m    194\u001b[0m \u001b[0;34m\u001b[0m\u001b[0m\n\u001b[1;32m    195\u001b[0m \u001b[0;34m\u001b[0m\u001b[0m\n",
            "\u001b[0;32m/usr/local/lib/python3.8/dist-packages/numpy/lib/_datasource.py\u001b[0m in \u001b[0;36mopen\u001b[0;34m(self, path, mode, encoding, newline)\u001b[0m\n\u001b[1;32m    531\u001b[0m                                       encoding=encoding, newline=newline)\n\u001b[1;32m    532\u001b[0m         \u001b[0;32melse\u001b[0m\u001b[0;34m:\u001b[0m\u001b[0;34m\u001b[0m\u001b[0;34m\u001b[0m\u001b[0m\n\u001b[0;32m--> 533\u001b[0;31m             \u001b[0;32mraise\u001b[0m \u001b[0mIOError\u001b[0m\u001b[0;34m(\u001b[0m\u001b[0;34m\"%s not found.\"\u001b[0m \u001b[0;34m%\u001b[0m \u001b[0mpath\u001b[0m\u001b[0;34m)\u001b[0m\u001b[0;34m\u001b[0m\u001b[0;34m\u001b[0m\u001b[0m\n\u001b[0m\u001b[1;32m    534\u001b[0m \u001b[0;34m\u001b[0m\u001b[0m\n\u001b[1;32m    535\u001b[0m \u001b[0;34m\u001b[0m\u001b[0m\n",
            "\u001b[0;31mOSError\u001b[0m: sample0.txt not found."
          ]
        }
      ],
      "source": [
        "# Load data from a text file using genfromtxt\n",
        "p5 = np.genfromtxt('sample0.txt',dtype='str')\n",
        "p5"
      ]
    },
    {
      "cell_type": "code",
      "execution_count": 163,
      "metadata": {
        "colab": {
          "base_uri": "https://localhost:8080/",
          "height": 184
        },
        "id": "gMdD_DeAYDUA",
        "outputId": "c1d8a93b-0d1e-460d-9a8e-47ed59378e1c"
      },
      "outputs": [
        {
          "output_type": "error",
          "ename": "NameError",
          "evalue": "ignored",
          "traceback": [
            "\u001b[0;31m---------------------------------------------------------------------------\u001b[0m",
            "\u001b[0;31mNameError\u001b[0m                                 Traceback (most recent call last)",
            "\u001b[0;32m<ipython-input-163-1027a6492420>\u001b[0m in \u001b[0;36m<module>\u001b[0;34m\u001b[0m\n\u001b[1;32m      1\u001b[0m \u001b[0;31m# Accessing specific rows\u001b[0m\u001b[0;34m\u001b[0m\u001b[0;34m\u001b[0m\u001b[0;34m\u001b[0m\u001b[0m\n\u001b[0;32m----> 2\u001b[0;31m \u001b[0mp5\u001b[0m\u001b[0;34m[\u001b[0m\u001b[0;36m0\u001b[0m\u001b[0;34m]\u001b[0m\u001b[0;34m\u001b[0m\u001b[0;34m\u001b[0m\u001b[0m\n\u001b[0m",
            "\u001b[0;31mNameError\u001b[0m: name 'p5' is not defined"
          ]
        }
      ],
      "source": [
        "# Accessing specific rows\n",
        "p5[0]"
      ]
    },
    {
      "cell_type": "code",
      "execution_count": 164,
      "metadata": {
        "colab": {
          "base_uri": "https://localhost:8080/",
          "height": 184
        },
        "id": "0P23wz98YDUA",
        "outputId": "5db1e436-7d46-4465-9525-5d973dd3cce5"
      },
      "outputs": [
        {
          "output_type": "error",
          "ename": "NameError",
          "evalue": "ignored",
          "traceback": [
            "\u001b[0;31m---------------------------------------------------------------------------\u001b[0m",
            "\u001b[0;31mNameError\u001b[0m                                 Traceback (most recent call last)",
            "\u001b[0;32m<ipython-input-164-4479515b0bf1>\u001b[0m in \u001b[0;36m<module>\u001b[0;34m\u001b[0m\n\u001b[1;32m      1\u001b[0m \u001b[0;31m# Accessing specific columns\u001b[0m\u001b[0;34m\u001b[0m\u001b[0;34m\u001b[0m\u001b[0;34m\u001b[0m\u001b[0m\n\u001b[0;32m----> 2\u001b[0;31m \u001b[0mp5\u001b[0m\u001b[0;34m[\u001b[0m\u001b[0;34m:\u001b[0m\u001b[0;34m,\u001b[0m\u001b[0;36m0\u001b[0m\u001b[0;34m]\u001b[0m\u001b[0;34m\u001b[0m\u001b[0;34m\u001b[0m\u001b[0m\n\u001b[0m",
            "\u001b[0;31mNameError\u001b[0m: name 'p5' is not defined"
          ]
        }
      ],
      "source": [
        "# Accessing specific columns\n",
        "p5[:,0]"
      ]
    },
    {
      "cell_type": "code",
      "execution_count": 165,
      "metadata": {
        "colab": {
          "base_uri": "https://localhost:8080/",
          "height": 381
        },
        "id": "05puVyIkYDUA",
        "outputId": "7a24c0da-f416-4eef-b030-b36c851bb4f9"
      },
      "outputs": [
        {
          "output_type": "error",
          "ename": "OSError",
          "evalue": "ignored",
          "traceback": [
            "\u001b[0;31m---------------------------------------------------------------------------\u001b[0m",
            "\u001b[0;31mOSError\u001b[0m                                   Traceback (most recent call last)",
            "\u001b[0;32m<ipython-input-165-80e773817482>\u001b[0m in \u001b[0;36m<module>\u001b[0;34m\u001b[0m\n\u001b[0;32m----> 1\u001b[0;31m p6 = np.genfromtxt('sample2.txt', \n\u001b[0m\u001b[1;32m      2\u001b[0m                    \u001b[0mdelimiter\u001b[0m\u001b[0;34m=\u001b[0m\u001b[0;34m' '\u001b[0m\u001b[0;34m,\u001b[0m\u001b[0;34m\u001b[0m\u001b[0;34m\u001b[0m\u001b[0m\n\u001b[1;32m      3\u001b[0m                    \u001b[0mdtype\u001b[0m\u001b[0;34m=\u001b[0m\u001b[0;32mNone\u001b[0m\u001b[0;34m,\u001b[0m\u001b[0;34m\u001b[0m\u001b[0;34m\u001b[0m\u001b[0m\n\u001b[1;32m      4\u001b[0m                    \u001b[0mnames\u001b[0m\u001b[0;34m=\u001b[0m\u001b[0;34m(\u001b[0m\u001b[0;34m'Name'\u001b[0m\u001b[0;34m,\u001b[0m \u001b[0;34m'ID'\u001b[0m\u001b[0;34m,\u001b[0m \u001b[0;34m'Age'\u001b[0m\u001b[0;34m)\u001b[0m\u001b[0;34m\u001b[0m\u001b[0;34m\u001b[0m\u001b[0m\n\u001b[1;32m      5\u001b[0m                   )\n",
            "\u001b[0;32m/usr/local/lib/python3.8/dist-packages/numpy/lib/npyio.py\u001b[0m in \u001b[0;36mgenfromtxt\u001b[0;34m(fname, dtype, comments, delimiter, skip_header, skip_footer, converters, missing_values, filling_values, usecols, names, excludelist, deletechars, replace_space, autostrip, case_sensitive, defaultfmt, unpack, usemask, loose, invalid_raise, max_rows, encoding, like)\u001b[0m\n\u001b[1;32m   1791\u001b[0m             \u001b[0mfname\u001b[0m \u001b[0;34m=\u001b[0m \u001b[0mos_fspath\u001b[0m\u001b[0;34m(\u001b[0m\u001b[0mfname\u001b[0m\u001b[0;34m)\u001b[0m\u001b[0;34m\u001b[0m\u001b[0;34m\u001b[0m\u001b[0m\n\u001b[1;32m   1792\u001b[0m         \u001b[0;32mif\u001b[0m \u001b[0misinstance\u001b[0m\u001b[0;34m(\u001b[0m\u001b[0mfname\u001b[0m\u001b[0;34m,\u001b[0m \u001b[0mstr\u001b[0m\u001b[0;34m)\u001b[0m\u001b[0;34m:\u001b[0m\u001b[0;34m\u001b[0m\u001b[0;34m\u001b[0m\u001b[0m\n\u001b[0;32m-> 1793\u001b[0;31m             \u001b[0mfid\u001b[0m \u001b[0;34m=\u001b[0m \u001b[0mnp\u001b[0m\u001b[0;34m.\u001b[0m\u001b[0mlib\u001b[0m\u001b[0;34m.\u001b[0m\u001b[0m_datasource\u001b[0m\u001b[0;34m.\u001b[0m\u001b[0mopen\u001b[0m\u001b[0;34m(\u001b[0m\u001b[0mfname\u001b[0m\u001b[0;34m,\u001b[0m \u001b[0;34m'rt'\u001b[0m\u001b[0;34m,\u001b[0m \u001b[0mencoding\u001b[0m\u001b[0;34m=\u001b[0m\u001b[0mencoding\u001b[0m\u001b[0;34m)\u001b[0m\u001b[0;34m\u001b[0m\u001b[0;34m\u001b[0m\u001b[0m\n\u001b[0m\u001b[1;32m   1794\u001b[0m             \u001b[0mfid_ctx\u001b[0m \u001b[0;34m=\u001b[0m \u001b[0mcontextlib\u001b[0m\u001b[0;34m.\u001b[0m\u001b[0mclosing\u001b[0m\u001b[0;34m(\u001b[0m\u001b[0mfid\u001b[0m\u001b[0;34m)\u001b[0m\u001b[0;34m\u001b[0m\u001b[0;34m\u001b[0m\u001b[0m\n\u001b[1;32m   1795\u001b[0m         \u001b[0;32melse\u001b[0m\u001b[0;34m:\u001b[0m\u001b[0;34m\u001b[0m\u001b[0;34m\u001b[0m\u001b[0m\n",
            "\u001b[0;32m/usr/local/lib/python3.8/dist-packages/numpy/lib/_datasource.py\u001b[0m in \u001b[0;36mopen\u001b[0;34m(path, mode, destpath, encoding, newline)\u001b[0m\n\u001b[1;32m    191\u001b[0m \u001b[0;34m\u001b[0m\u001b[0m\n\u001b[1;32m    192\u001b[0m     \u001b[0mds\u001b[0m \u001b[0;34m=\u001b[0m \u001b[0mDataSource\u001b[0m\u001b[0;34m(\u001b[0m\u001b[0mdestpath\u001b[0m\u001b[0;34m)\u001b[0m\u001b[0;34m\u001b[0m\u001b[0;34m\u001b[0m\u001b[0m\n\u001b[0;32m--> 193\u001b[0;31m     \u001b[0;32mreturn\u001b[0m \u001b[0mds\u001b[0m\u001b[0;34m.\u001b[0m\u001b[0mopen\u001b[0m\u001b[0;34m(\u001b[0m\u001b[0mpath\u001b[0m\u001b[0;34m,\u001b[0m \u001b[0mmode\u001b[0m\u001b[0;34m,\u001b[0m \u001b[0mencoding\u001b[0m\u001b[0;34m=\u001b[0m\u001b[0mencoding\u001b[0m\u001b[0;34m,\u001b[0m \u001b[0mnewline\u001b[0m\u001b[0;34m=\u001b[0m\u001b[0mnewline\u001b[0m\u001b[0;34m)\u001b[0m\u001b[0;34m\u001b[0m\u001b[0;34m\u001b[0m\u001b[0m\n\u001b[0m\u001b[1;32m    194\u001b[0m \u001b[0;34m\u001b[0m\u001b[0m\n\u001b[1;32m    195\u001b[0m \u001b[0;34m\u001b[0m\u001b[0m\n",
            "\u001b[0;32m/usr/local/lib/python3.8/dist-packages/numpy/lib/_datasource.py\u001b[0m in \u001b[0;36mopen\u001b[0;34m(self, path, mode, encoding, newline)\u001b[0m\n\u001b[1;32m    531\u001b[0m                                       encoding=encoding, newline=newline)\n\u001b[1;32m    532\u001b[0m         \u001b[0;32melse\u001b[0m\u001b[0;34m:\u001b[0m\u001b[0;34m\u001b[0m\u001b[0;34m\u001b[0m\u001b[0m\n\u001b[0;32m--> 533\u001b[0;31m             \u001b[0;32mraise\u001b[0m \u001b[0mIOError\u001b[0m\u001b[0;34m(\u001b[0m\u001b[0;34m\"%s not found.\"\u001b[0m \u001b[0;34m%\u001b[0m \u001b[0mpath\u001b[0m\u001b[0;34m)\u001b[0m\u001b[0;34m\u001b[0m\u001b[0;34m\u001b[0m\u001b[0m\n\u001b[0m\u001b[1;32m    534\u001b[0m \u001b[0;34m\u001b[0m\u001b[0m\n\u001b[1;32m    535\u001b[0m \u001b[0;34m\u001b[0m\u001b[0m\n",
            "\u001b[0;31mOSError\u001b[0m: sample2.txt not found."
          ]
        }
      ],
      "source": [
        "p6 = np.genfromtxt('sample2.txt', \n",
        "                   delimiter=' ', \n",
        "                   dtype=None, \n",
        "                   names=('Name', 'ID', 'Age')\n",
        "                  )\n",
        "p6"
      ]
    },
    {
      "cell_type": "code",
      "execution_count": 166,
      "metadata": {
        "colab": {
          "base_uri": "https://localhost:8080/",
          "height": 381
        },
        "id": "trHq-Qw5YDUA",
        "outputId": "4d4e8511-2fc1-4466-8f80-884723d60ad3"
      },
      "outputs": [
        {
          "output_type": "error",
          "ename": "OSError",
          "evalue": "ignored",
          "traceback": [
            "\u001b[0;31m---------------------------------------------------------------------------\u001b[0m",
            "\u001b[0;31mOSError\u001b[0m                                   Traceback (most recent call last)",
            "\u001b[0;32m<ipython-input-166-11945b500bcc>\u001b[0m in \u001b[0;36m<module>\u001b[0;34m\u001b[0m\n\u001b[1;32m      1\u001b[0m \u001b[0;31m# Skip header using \"skiprows\" parameter\u001b[0m\u001b[0;34m\u001b[0m\u001b[0;34m\u001b[0m\u001b[0;34m\u001b[0m\u001b[0m\n\u001b[0;32m----> 2\u001b[0;31m p6 = np.loadtxt('sample2.txt', \n\u001b[0m\u001b[1;32m      3\u001b[0m                    \u001b[0mdelimiter\u001b[0m\u001b[0;34m=\u001b[0m\u001b[0;34m' '\u001b[0m\u001b[0;34m,\u001b[0m\u001b[0;34m\u001b[0m\u001b[0;34m\u001b[0m\u001b[0m\n\u001b[1;32m      4\u001b[0m                    \u001b[0mdtype\u001b[0m\u001b[0;34m=\u001b[0m\u001b[0;34m[\u001b[0m\u001b[0;34m(\u001b[0m\u001b[0;34m'Name'\u001b[0m\u001b[0;34m,\u001b[0m \u001b[0mstr\u001b[0m\u001b[0;34m,\u001b[0m \u001b[0;36m50\u001b[0m\u001b[0;34m)\u001b[0m\u001b[0;34m,\u001b[0m \u001b[0;34m(\u001b[0m\u001b[0;34m'ID'\u001b[0m\u001b[0;34m,\u001b[0m \u001b[0mnp\u001b[0m\u001b[0;34m.\u001b[0m\u001b[0minteger\u001b[0m\u001b[0;34m)\u001b[0m\u001b[0;34m,\u001b[0m \u001b[0;34m(\u001b[0m\u001b[0;34m'Age'\u001b[0m\u001b[0;34m,\u001b[0m \u001b[0mnp\u001b[0m\u001b[0;34m.\u001b[0m\u001b[0minteger\u001b[0m\u001b[0;34m)\u001b[0m\u001b[0;34m]\u001b[0m\u001b[0;34m,\u001b[0m\u001b[0;34m\u001b[0m\u001b[0;34m\u001b[0m\u001b[0m\n\u001b[1;32m      5\u001b[0m                    \u001b[0mskiprows\u001b[0m\u001b[0;34m=\u001b[0m\u001b[0;36m1\u001b[0m\u001b[0;34m\u001b[0m\u001b[0;34m\u001b[0m\u001b[0m\n",
            "\u001b[0;32m/usr/local/lib/python3.8/dist-packages/numpy/lib/npyio.py\u001b[0m in \u001b[0;36mloadtxt\u001b[0;34m(fname, dtype, comments, delimiter, converters, skiprows, usecols, unpack, ndmin, encoding, max_rows, like)\u001b[0m\n\u001b[1;32m   1065\u001b[0m             \u001b[0mfname\u001b[0m \u001b[0;34m=\u001b[0m \u001b[0mos_fspath\u001b[0m\u001b[0;34m(\u001b[0m\u001b[0mfname\u001b[0m\u001b[0;34m)\u001b[0m\u001b[0;34m\u001b[0m\u001b[0;34m\u001b[0m\u001b[0m\n\u001b[1;32m   1066\u001b[0m         \u001b[0;32mif\u001b[0m \u001b[0m_is_string_like\u001b[0m\u001b[0;34m(\u001b[0m\u001b[0mfname\u001b[0m\u001b[0;34m)\u001b[0m\u001b[0;34m:\u001b[0m\u001b[0;34m\u001b[0m\u001b[0;34m\u001b[0m\u001b[0m\n\u001b[0;32m-> 1067\u001b[0;31m             \u001b[0mfh\u001b[0m \u001b[0;34m=\u001b[0m \u001b[0mnp\u001b[0m\u001b[0;34m.\u001b[0m\u001b[0mlib\u001b[0m\u001b[0;34m.\u001b[0m\u001b[0m_datasource\u001b[0m\u001b[0;34m.\u001b[0m\u001b[0mopen\u001b[0m\u001b[0;34m(\u001b[0m\u001b[0mfname\u001b[0m\u001b[0;34m,\u001b[0m \u001b[0;34m'rt'\u001b[0m\u001b[0;34m,\u001b[0m \u001b[0mencoding\u001b[0m\u001b[0;34m=\u001b[0m\u001b[0mencoding\u001b[0m\u001b[0;34m)\u001b[0m\u001b[0;34m\u001b[0m\u001b[0;34m\u001b[0m\u001b[0m\n\u001b[0m\u001b[1;32m   1068\u001b[0m             \u001b[0mfencoding\u001b[0m \u001b[0;34m=\u001b[0m \u001b[0mgetattr\u001b[0m\u001b[0;34m(\u001b[0m\u001b[0mfh\u001b[0m\u001b[0;34m,\u001b[0m \u001b[0;34m'encoding'\u001b[0m\u001b[0;34m,\u001b[0m \u001b[0;34m'latin1'\u001b[0m\u001b[0;34m)\u001b[0m\u001b[0;34m\u001b[0m\u001b[0;34m\u001b[0m\u001b[0m\n\u001b[1;32m   1069\u001b[0m             \u001b[0mfh\u001b[0m \u001b[0;34m=\u001b[0m \u001b[0miter\u001b[0m\u001b[0;34m(\u001b[0m\u001b[0mfh\u001b[0m\u001b[0;34m)\u001b[0m\u001b[0;34m\u001b[0m\u001b[0;34m\u001b[0m\u001b[0m\n",
            "\u001b[0;32m/usr/local/lib/python3.8/dist-packages/numpy/lib/_datasource.py\u001b[0m in \u001b[0;36mopen\u001b[0;34m(path, mode, destpath, encoding, newline)\u001b[0m\n\u001b[1;32m    191\u001b[0m \u001b[0;34m\u001b[0m\u001b[0m\n\u001b[1;32m    192\u001b[0m     \u001b[0mds\u001b[0m \u001b[0;34m=\u001b[0m \u001b[0mDataSource\u001b[0m\u001b[0;34m(\u001b[0m\u001b[0mdestpath\u001b[0m\u001b[0;34m)\u001b[0m\u001b[0;34m\u001b[0m\u001b[0;34m\u001b[0m\u001b[0m\n\u001b[0;32m--> 193\u001b[0;31m     \u001b[0;32mreturn\u001b[0m \u001b[0mds\u001b[0m\u001b[0;34m.\u001b[0m\u001b[0mopen\u001b[0m\u001b[0;34m(\u001b[0m\u001b[0mpath\u001b[0m\u001b[0;34m,\u001b[0m \u001b[0mmode\u001b[0m\u001b[0;34m,\u001b[0m \u001b[0mencoding\u001b[0m\u001b[0;34m=\u001b[0m\u001b[0mencoding\u001b[0m\u001b[0;34m,\u001b[0m \u001b[0mnewline\u001b[0m\u001b[0;34m=\u001b[0m\u001b[0mnewline\u001b[0m\u001b[0;34m)\u001b[0m\u001b[0;34m\u001b[0m\u001b[0;34m\u001b[0m\u001b[0m\n\u001b[0m\u001b[1;32m    194\u001b[0m \u001b[0;34m\u001b[0m\u001b[0m\n\u001b[1;32m    195\u001b[0m \u001b[0;34m\u001b[0m\u001b[0m\n",
            "\u001b[0;32m/usr/local/lib/python3.8/dist-packages/numpy/lib/_datasource.py\u001b[0m in \u001b[0;36mopen\u001b[0;34m(self, path, mode, encoding, newline)\u001b[0m\n\u001b[1;32m    531\u001b[0m                                       encoding=encoding, newline=newline)\n\u001b[1;32m    532\u001b[0m         \u001b[0;32melse\u001b[0m\u001b[0;34m:\u001b[0m\u001b[0;34m\u001b[0m\u001b[0;34m\u001b[0m\u001b[0m\n\u001b[0;32m--> 533\u001b[0;31m             \u001b[0;32mraise\u001b[0m \u001b[0mIOError\u001b[0m\u001b[0;34m(\u001b[0m\u001b[0;34m\"%s not found.\"\u001b[0m \u001b[0;34m%\u001b[0m \u001b[0mpath\u001b[0m\u001b[0;34m)\u001b[0m\u001b[0;34m\u001b[0m\u001b[0;34m\u001b[0m\u001b[0m\n\u001b[0m\u001b[1;32m    534\u001b[0m \u001b[0;34m\u001b[0m\u001b[0m\n\u001b[1;32m    535\u001b[0m \u001b[0;34m\u001b[0m\u001b[0m\n",
            "\u001b[0;31mOSError\u001b[0m: sample2.txt not found."
          ]
        }
      ],
      "source": [
        "# Skip header using \"skiprows\" parameter\n",
        "p6 = np.loadtxt('sample2.txt', \n",
        "                   delimiter=' ', \n",
        "                   dtype=[('Name', str, 50), ('ID', np.integer), ('Age', np.integer)], \n",
        "                   skiprows=1\n",
        "                  )\n",
        "p6"
      ]
    },
    {
      "cell_type": "code",
      "execution_count": 167,
      "metadata": {
        "colab": {
          "base_uri": "https://localhost:8080/",
          "height": 329
        },
        "id": "stVjkRXEYDUB",
        "outputId": "7cb5593e-43ef-4aa4-9136-efa80239831e"
      },
      "outputs": [
        {
          "output_type": "error",
          "ename": "OSError",
          "evalue": "ignored",
          "traceback": [
            "\u001b[0;31m---------------------------------------------------------------------------\u001b[0m",
            "\u001b[0;31mOSError\u001b[0m                                   Traceback (most recent call last)",
            "\u001b[0;32m<ipython-input-167-ee173e8e3c04>\u001b[0m in \u001b[0;36m<module>\u001b[0;34m\u001b[0m\n\u001b[1;32m      1\u001b[0m \u001b[0;31m# Return only first & third column using \"usecols\" parameter\u001b[0m\u001b[0;34m\u001b[0m\u001b[0;34m\u001b[0m\u001b[0;34m\u001b[0m\u001b[0m\n\u001b[0;32m----> 2\u001b[0;31m \u001b[0mnp\u001b[0m\u001b[0;34m.\u001b[0m\u001b[0mloadtxt\u001b[0m\u001b[0;34m(\u001b[0m\u001b[0;34m'sample.txt'\u001b[0m\u001b[0;34m,\u001b[0m \u001b[0mdelimiter\u001b[0m \u001b[0;34m=\u001b[0m\u001b[0;34m' '\u001b[0m\u001b[0;34m,\u001b[0m \u001b[0musecols\u001b[0m \u001b[0;34m=\u001b[0m\u001b[0;34m(\u001b[0m\u001b[0;36m0\u001b[0m\u001b[0;34m,\u001b[0m \u001b[0;36m2\u001b[0m\u001b[0;34m)\u001b[0m\u001b[0;34m)\u001b[0m\u001b[0;34m\u001b[0m\u001b[0;34m\u001b[0m\u001b[0m\n\u001b[0m",
            "\u001b[0;32m/usr/local/lib/python3.8/dist-packages/numpy/lib/npyio.py\u001b[0m in \u001b[0;36mloadtxt\u001b[0;34m(fname, dtype, comments, delimiter, converters, skiprows, usecols, unpack, ndmin, encoding, max_rows, like)\u001b[0m\n\u001b[1;32m   1065\u001b[0m             \u001b[0mfname\u001b[0m \u001b[0;34m=\u001b[0m \u001b[0mos_fspath\u001b[0m\u001b[0;34m(\u001b[0m\u001b[0mfname\u001b[0m\u001b[0;34m)\u001b[0m\u001b[0;34m\u001b[0m\u001b[0;34m\u001b[0m\u001b[0m\n\u001b[1;32m   1066\u001b[0m         \u001b[0;32mif\u001b[0m \u001b[0m_is_string_like\u001b[0m\u001b[0;34m(\u001b[0m\u001b[0mfname\u001b[0m\u001b[0;34m)\u001b[0m\u001b[0;34m:\u001b[0m\u001b[0;34m\u001b[0m\u001b[0;34m\u001b[0m\u001b[0m\n\u001b[0;32m-> 1067\u001b[0;31m             \u001b[0mfh\u001b[0m \u001b[0;34m=\u001b[0m \u001b[0mnp\u001b[0m\u001b[0;34m.\u001b[0m\u001b[0mlib\u001b[0m\u001b[0;34m.\u001b[0m\u001b[0m_datasource\u001b[0m\u001b[0;34m.\u001b[0m\u001b[0mopen\u001b[0m\u001b[0;34m(\u001b[0m\u001b[0mfname\u001b[0m\u001b[0;34m,\u001b[0m \u001b[0;34m'rt'\u001b[0m\u001b[0;34m,\u001b[0m \u001b[0mencoding\u001b[0m\u001b[0;34m=\u001b[0m\u001b[0mencoding\u001b[0m\u001b[0;34m)\u001b[0m\u001b[0;34m\u001b[0m\u001b[0;34m\u001b[0m\u001b[0m\n\u001b[0m\u001b[1;32m   1068\u001b[0m             \u001b[0mfencoding\u001b[0m \u001b[0;34m=\u001b[0m \u001b[0mgetattr\u001b[0m\u001b[0;34m(\u001b[0m\u001b[0mfh\u001b[0m\u001b[0;34m,\u001b[0m \u001b[0;34m'encoding'\u001b[0m\u001b[0;34m,\u001b[0m \u001b[0;34m'latin1'\u001b[0m\u001b[0;34m)\u001b[0m\u001b[0;34m\u001b[0m\u001b[0;34m\u001b[0m\u001b[0m\n\u001b[1;32m   1069\u001b[0m             \u001b[0mfh\u001b[0m \u001b[0;34m=\u001b[0m \u001b[0miter\u001b[0m\u001b[0;34m(\u001b[0m\u001b[0mfh\u001b[0m\u001b[0;34m)\u001b[0m\u001b[0;34m\u001b[0m\u001b[0;34m\u001b[0m\u001b[0m\n",
            "\u001b[0;32m/usr/local/lib/python3.8/dist-packages/numpy/lib/_datasource.py\u001b[0m in \u001b[0;36mopen\u001b[0;34m(path, mode, destpath, encoding, newline)\u001b[0m\n\u001b[1;32m    191\u001b[0m \u001b[0;34m\u001b[0m\u001b[0m\n\u001b[1;32m    192\u001b[0m     \u001b[0mds\u001b[0m \u001b[0;34m=\u001b[0m \u001b[0mDataSource\u001b[0m\u001b[0;34m(\u001b[0m\u001b[0mdestpath\u001b[0m\u001b[0;34m)\u001b[0m\u001b[0;34m\u001b[0m\u001b[0;34m\u001b[0m\u001b[0m\n\u001b[0;32m--> 193\u001b[0;31m     \u001b[0;32mreturn\u001b[0m \u001b[0mds\u001b[0m\u001b[0;34m.\u001b[0m\u001b[0mopen\u001b[0m\u001b[0;34m(\u001b[0m\u001b[0mpath\u001b[0m\u001b[0;34m,\u001b[0m \u001b[0mmode\u001b[0m\u001b[0;34m,\u001b[0m \u001b[0mencoding\u001b[0m\u001b[0;34m=\u001b[0m\u001b[0mencoding\u001b[0m\u001b[0;34m,\u001b[0m \u001b[0mnewline\u001b[0m\u001b[0;34m=\u001b[0m\u001b[0mnewline\u001b[0m\u001b[0;34m)\u001b[0m\u001b[0;34m\u001b[0m\u001b[0;34m\u001b[0m\u001b[0m\n\u001b[0m\u001b[1;32m    194\u001b[0m \u001b[0;34m\u001b[0m\u001b[0m\n\u001b[1;32m    195\u001b[0m \u001b[0;34m\u001b[0m\u001b[0m\n",
            "\u001b[0;32m/usr/local/lib/python3.8/dist-packages/numpy/lib/_datasource.py\u001b[0m in \u001b[0;36mopen\u001b[0;34m(self, path, mode, encoding, newline)\u001b[0m\n\u001b[1;32m    531\u001b[0m                                       encoding=encoding, newline=newline)\n\u001b[1;32m    532\u001b[0m         \u001b[0;32melse\u001b[0m\u001b[0;34m:\u001b[0m\u001b[0;34m\u001b[0m\u001b[0;34m\u001b[0m\u001b[0m\n\u001b[0;32m--> 533\u001b[0;31m             \u001b[0;32mraise\u001b[0m \u001b[0mIOError\u001b[0m\u001b[0;34m(\u001b[0m\u001b[0;34m\"%s not found.\"\u001b[0m \u001b[0;34m%\u001b[0m \u001b[0mpath\u001b[0m\u001b[0;34m)\u001b[0m\u001b[0;34m\u001b[0m\u001b[0;34m\u001b[0m\u001b[0m\n\u001b[0m\u001b[1;32m    534\u001b[0m \u001b[0;34m\u001b[0m\u001b[0m\n\u001b[1;32m    535\u001b[0m \u001b[0;34m\u001b[0m\u001b[0m\n",
            "\u001b[0;31mOSError\u001b[0m: sample.txt not found."
          ]
        }
      ],
      "source": [
        "# Return only first & third column using \"usecols\" parameter\n",
        "np.loadtxt('sample.txt', delimiter =' ', usecols =(0, 2)) "
      ]
    },
    {
      "cell_type": "code",
      "execution_count": 168,
      "metadata": {
        "colab": {
          "base_uri": "https://localhost:8080/",
          "height": 381
        },
        "id": "RRSlhpG4YDUB",
        "outputId": "6f398fbd-eb6c-4be6-dffc-bc0701657272"
      },
      "outputs": [
        {
          "output_type": "error",
          "ename": "OSError",
          "evalue": "ignored",
          "traceback": [
            "\u001b[0;31m---------------------------------------------------------------------------\u001b[0m",
            "\u001b[0;31mOSError\u001b[0m                                   Traceback (most recent call last)",
            "\u001b[0;32m<ipython-input-168-db180257d525>\u001b[0m in \u001b[0;36m<module>\u001b[0;34m\u001b[0m\n\u001b[1;32m      1\u001b[0m \u001b[0;31m# Return only three rows using \"max_rows\" parameter\u001b[0m\u001b[0;34m\u001b[0m\u001b[0;34m\u001b[0m\u001b[0;34m\u001b[0m\u001b[0m\n\u001b[0;32m----> 2\u001b[0;31m p6 = np.loadtxt('sample2.txt', \n\u001b[0m\u001b[1;32m      3\u001b[0m                    \u001b[0mdelimiter\u001b[0m\u001b[0;34m=\u001b[0m\u001b[0;34m' '\u001b[0m\u001b[0;34m,\u001b[0m\u001b[0;34m\u001b[0m\u001b[0;34m\u001b[0m\u001b[0m\n\u001b[1;32m      4\u001b[0m                    \u001b[0mdtype\u001b[0m\u001b[0;34m=\u001b[0m\u001b[0;34m[\u001b[0m\u001b[0;34m(\u001b[0m\u001b[0;34m'Name'\u001b[0m\u001b[0;34m,\u001b[0m \u001b[0mstr\u001b[0m\u001b[0;34m,\u001b[0m \u001b[0;36m50\u001b[0m\u001b[0;34m)\u001b[0m\u001b[0;34m,\u001b[0m \u001b[0;34m(\u001b[0m\u001b[0;34m'ID'\u001b[0m\u001b[0;34m,\u001b[0m \u001b[0mnp\u001b[0m\u001b[0;34m.\u001b[0m\u001b[0minteger\u001b[0m\u001b[0;34m)\u001b[0m\u001b[0;34m,\u001b[0m \u001b[0;34m(\u001b[0m\u001b[0;34m'Age'\u001b[0m\u001b[0;34m,\u001b[0m \u001b[0mnp\u001b[0m\u001b[0;34m.\u001b[0m\u001b[0minteger\u001b[0m\u001b[0;34m)\u001b[0m\u001b[0;34m]\u001b[0m\u001b[0;34m,\u001b[0m\u001b[0;34m\u001b[0m\u001b[0;34m\u001b[0m\u001b[0m\n\u001b[1;32m      5\u001b[0m                    \u001b[0mskiprows\u001b[0m\u001b[0;34m=\u001b[0m\u001b[0;36m1\u001b[0m\u001b[0;34m,\u001b[0m\u001b[0;34m\u001b[0m\u001b[0;34m\u001b[0m\u001b[0m\n",
            "\u001b[0;32m/usr/local/lib/python3.8/dist-packages/numpy/lib/npyio.py\u001b[0m in \u001b[0;36mloadtxt\u001b[0;34m(fname, dtype, comments, delimiter, converters, skiprows, usecols, unpack, ndmin, encoding, max_rows, like)\u001b[0m\n\u001b[1;32m   1065\u001b[0m             \u001b[0mfname\u001b[0m \u001b[0;34m=\u001b[0m \u001b[0mos_fspath\u001b[0m\u001b[0;34m(\u001b[0m\u001b[0mfname\u001b[0m\u001b[0;34m)\u001b[0m\u001b[0;34m\u001b[0m\u001b[0;34m\u001b[0m\u001b[0m\n\u001b[1;32m   1066\u001b[0m         \u001b[0;32mif\u001b[0m \u001b[0m_is_string_like\u001b[0m\u001b[0;34m(\u001b[0m\u001b[0mfname\u001b[0m\u001b[0;34m)\u001b[0m\u001b[0;34m:\u001b[0m\u001b[0;34m\u001b[0m\u001b[0;34m\u001b[0m\u001b[0m\n\u001b[0;32m-> 1067\u001b[0;31m             \u001b[0mfh\u001b[0m \u001b[0;34m=\u001b[0m \u001b[0mnp\u001b[0m\u001b[0;34m.\u001b[0m\u001b[0mlib\u001b[0m\u001b[0;34m.\u001b[0m\u001b[0m_datasource\u001b[0m\u001b[0;34m.\u001b[0m\u001b[0mopen\u001b[0m\u001b[0;34m(\u001b[0m\u001b[0mfname\u001b[0m\u001b[0;34m,\u001b[0m \u001b[0;34m'rt'\u001b[0m\u001b[0;34m,\u001b[0m \u001b[0mencoding\u001b[0m\u001b[0;34m=\u001b[0m\u001b[0mencoding\u001b[0m\u001b[0;34m)\u001b[0m\u001b[0;34m\u001b[0m\u001b[0;34m\u001b[0m\u001b[0m\n\u001b[0m\u001b[1;32m   1068\u001b[0m             \u001b[0mfencoding\u001b[0m \u001b[0;34m=\u001b[0m \u001b[0mgetattr\u001b[0m\u001b[0;34m(\u001b[0m\u001b[0mfh\u001b[0m\u001b[0;34m,\u001b[0m \u001b[0;34m'encoding'\u001b[0m\u001b[0;34m,\u001b[0m \u001b[0;34m'latin1'\u001b[0m\u001b[0;34m)\u001b[0m\u001b[0;34m\u001b[0m\u001b[0;34m\u001b[0m\u001b[0m\n\u001b[1;32m   1069\u001b[0m             \u001b[0mfh\u001b[0m \u001b[0;34m=\u001b[0m \u001b[0miter\u001b[0m\u001b[0;34m(\u001b[0m\u001b[0mfh\u001b[0m\u001b[0;34m)\u001b[0m\u001b[0;34m\u001b[0m\u001b[0;34m\u001b[0m\u001b[0m\n",
            "\u001b[0;32m/usr/local/lib/python3.8/dist-packages/numpy/lib/_datasource.py\u001b[0m in \u001b[0;36mopen\u001b[0;34m(path, mode, destpath, encoding, newline)\u001b[0m\n\u001b[1;32m    191\u001b[0m \u001b[0;34m\u001b[0m\u001b[0m\n\u001b[1;32m    192\u001b[0m     \u001b[0mds\u001b[0m \u001b[0;34m=\u001b[0m \u001b[0mDataSource\u001b[0m\u001b[0;34m(\u001b[0m\u001b[0mdestpath\u001b[0m\u001b[0;34m)\u001b[0m\u001b[0;34m\u001b[0m\u001b[0;34m\u001b[0m\u001b[0m\n\u001b[0;32m--> 193\u001b[0;31m     \u001b[0;32mreturn\u001b[0m \u001b[0mds\u001b[0m\u001b[0;34m.\u001b[0m\u001b[0mopen\u001b[0m\u001b[0;34m(\u001b[0m\u001b[0mpath\u001b[0m\u001b[0;34m,\u001b[0m \u001b[0mmode\u001b[0m\u001b[0;34m,\u001b[0m \u001b[0mencoding\u001b[0m\u001b[0;34m=\u001b[0m\u001b[0mencoding\u001b[0m\u001b[0;34m,\u001b[0m \u001b[0mnewline\u001b[0m\u001b[0;34m=\u001b[0m\u001b[0mnewline\u001b[0m\u001b[0;34m)\u001b[0m\u001b[0;34m\u001b[0m\u001b[0;34m\u001b[0m\u001b[0m\n\u001b[0m\u001b[1;32m    194\u001b[0m \u001b[0;34m\u001b[0m\u001b[0m\n\u001b[1;32m    195\u001b[0m \u001b[0;34m\u001b[0m\u001b[0m\n",
            "\u001b[0;32m/usr/local/lib/python3.8/dist-packages/numpy/lib/_datasource.py\u001b[0m in \u001b[0;36mopen\u001b[0;34m(self, path, mode, encoding, newline)\u001b[0m\n\u001b[1;32m    531\u001b[0m                                       encoding=encoding, newline=newline)\n\u001b[1;32m    532\u001b[0m         \u001b[0;32melse\u001b[0m\u001b[0;34m:\u001b[0m\u001b[0;34m\u001b[0m\u001b[0;34m\u001b[0m\u001b[0m\n\u001b[0;32m--> 533\u001b[0;31m             \u001b[0;32mraise\u001b[0m \u001b[0mIOError\u001b[0m\u001b[0;34m(\u001b[0m\u001b[0;34m\"%s not found.\"\u001b[0m \u001b[0;34m%\u001b[0m \u001b[0mpath\u001b[0m\u001b[0;34m)\u001b[0m\u001b[0;34m\u001b[0m\u001b[0;34m\u001b[0m\u001b[0m\n\u001b[0m\u001b[1;32m    534\u001b[0m \u001b[0;34m\u001b[0m\u001b[0m\n\u001b[1;32m    535\u001b[0m \u001b[0;34m\u001b[0m\u001b[0m\n",
            "\u001b[0;31mOSError\u001b[0m: sample2.txt not found."
          ]
        }
      ],
      "source": [
        "# Return only three rows using \"max_rows\" parameter\n",
        "p6 = np.loadtxt('sample2.txt', \n",
        "                   delimiter=' ', \n",
        "                   dtype=[('Name', str, 50), ('ID', np.integer), ('Age', np.integer)], \n",
        "                   skiprows=1,\n",
        "                   max_rows = 3\n",
        "                  )\n",
        "p6"
      ]
    },
    {
      "cell_type": "code",
      "execution_count": 169,
      "metadata": {
        "colab": {
          "base_uri": "https://localhost:8080/",
          "height": 381
        },
        "id": "M5GnCg-AYDUB",
        "outputId": "779c9f33-4620-40c0-a852-76f9840f055f"
      },
      "outputs": [
        {
          "output_type": "error",
          "ename": "OSError",
          "evalue": "ignored",
          "traceback": [
            "\u001b[0;31m---------------------------------------------------------------------------\u001b[0m",
            "\u001b[0;31mOSError\u001b[0m                                   Traceback (most recent call last)",
            "\u001b[0;32m<ipython-input-169-52cc350658f9>\u001b[0m in \u001b[0;36m<module>\u001b[0;34m\u001b[0m\n\u001b[1;32m      1\u001b[0m \u001b[0;31m# Skip header using \"skip_header\" parameter\u001b[0m\u001b[0;34m\u001b[0m\u001b[0;34m\u001b[0m\u001b[0;34m\u001b[0m\u001b[0m\n\u001b[0;32m----> 2\u001b[0;31m p6 = np.genfromtxt('sample2.txt', \n\u001b[0m\u001b[1;32m      3\u001b[0m                    \u001b[0mdelimiter\u001b[0m\u001b[0;34m=\u001b[0m\u001b[0;34m' '\u001b[0m\u001b[0;34m,\u001b[0m\u001b[0;34m\u001b[0m\u001b[0;34m\u001b[0m\u001b[0m\n\u001b[1;32m      4\u001b[0m                    \u001b[0mdtype\u001b[0m\u001b[0;34m=\u001b[0m\u001b[0;34m[\u001b[0m\u001b[0;34m(\u001b[0m\u001b[0;34m'Name'\u001b[0m\u001b[0;34m,\u001b[0m \u001b[0mstr\u001b[0m\u001b[0;34m,\u001b[0m \u001b[0;36m50\u001b[0m\u001b[0;34m)\u001b[0m\u001b[0;34m,\u001b[0m \u001b[0;34m(\u001b[0m\u001b[0;34m'ID'\u001b[0m\u001b[0;34m,\u001b[0m \u001b[0mnp\u001b[0m\u001b[0;34m.\u001b[0m\u001b[0minteger\u001b[0m\u001b[0;34m)\u001b[0m\u001b[0;34m,\u001b[0m \u001b[0;34m(\u001b[0m\u001b[0;34m'Age'\u001b[0m\u001b[0;34m,\u001b[0m \u001b[0mnp\u001b[0m\u001b[0;34m.\u001b[0m\u001b[0mfloat\u001b[0m\u001b[0;34m)\u001b[0m\u001b[0;34m]\u001b[0m\u001b[0;34m,\u001b[0m\u001b[0;34m\u001b[0m\u001b[0;34m\u001b[0m\u001b[0m\n\u001b[1;32m      5\u001b[0m                    \u001b[0mnames\u001b[0m\u001b[0;34m=\u001b[0m\u001b[0;34m(\u001b[0m\u001b[0;34m'Name'\u001b[0m\u001b[0;34m,\u001b[0m \u001b[0;34m'ID'\u001b[0m\u001b[0;34m,\u001b[0m \u001b[0;34m'Age'\u001b[0m\u001b[0;34m)\u001b[0m\u001b[0;34m,\u001b[0m\u001b[0;34m\u001b[0m\u001b[0;34m\u001b[0m\u001b[0m\n",
            "\u001b[0;32m/usr/local/lib/python3.8/dist-packages/numpy/lib/npyio.py\u001b[0m in \u001b[0;36mgenfromtxt\u001b[0;34m(fname, dtype, comments, delimiter, skip_header, skip_footer, converters, missing_values, filling_values, usecols, names, excludelist, deletechars, replace_space, autostrip, case_sensitive, defaultfmt, unpack, usemask, loose, invalid_raise, max_rows, encoding, like)\u001b[0m\n\u001b[1;32m   1791\u001b[0m             \u001b[0mfname\u001b[0m \u001b[0;34m=\u001b[0m \u001b[0mos_fspath\u001b[0m\u001b[0;34m(\u001b[0m\u001b[0mfname\u001b[0m\u001b[0;34m)\u001b[0m\u001b[0;34m\u001b[0m\u001b[0;34m\u001b[0m\u001b[0m\n\u001b[1;32m   1792\u001b[0m         \u001b[0;32mif\u001b[0m \u001b[0misinstance\u001b[0m\u001b[0;34m(\u001b[0m\u001b[0mfname\u001b[0m\u001b[0;34m,\u001b[0m \u001b[0mstr\u001b[0m\u001b[0;34m)\u001b[0m\u001b[0;34m:\u001b[0m\u001b[0;34m\u001b[0m\u001b[0;34m\u001b[0m\u001b[0m\n\u001b[0;32m-> 1793\u001b[0;31m             \u001b[0mfid\u001b[0m \u001b[0;34m=\u001b[0m \u001b[0mnp\u001b[0m\u001b[0;34m.\u001b[0m\u001b[0mlib\u001b[0m\u001b[0;34m.\u001b[0m\u001b[0m_datasource\u001b[0m\u001b[0;34m.\u001b[0m\u001b[0mopen\u001b[0m\u001b[0;34m(\u001b[0m\u001b[0mfname\u001b[0m\u001b[0;34m,\u001b[0m \u001b[0;34m'rt'\u001b[0m\u001b[0;34m,\u001b[0m \u001b[0mencoding\u001b[0m\u001b[0;34m=\u001b[0m\u001b[0mencoding\u001b[0m\u001b[0;34m)\u001b[0m\u001b[0;34m\u001b[0m\u001b[0;34m\u001b[0m\u001b[0m\n\u001b[0m\u001b[1;32m   1794\u001b[0m             \u001b[0mfid_ctx\u001b[0m \u001b[0;34m=\u001b[0m \u001b[0mcontextlib\u001b[0m\u001b[0;34m.\u001b[0m\u001b[0mclosing\u001b[0m\u001b[0;34m(\u001b[0m\u001b[0mfid\u001b[0m\u001b[0;34m)\u001b[0m\u001b[0;34m\u001b[0m\u001b[0;34m\u001b[0m\u001b[0m\n\u001b[1;32m   1795\u001b[0m         \u001b[0;32melse\u001b[0m\u001b[0;34m:\u001b[0m\u001b[0;34m\u001b[0m\u001b[0;34m\u001b[0m\u001b[0m\n",
            "\u001b[0;32m/usr/local/lib/python3.8/dist-packages/numpy/lib/_datasource.py\u001b[0m in \u001b[0;36mopen\u001b[0;34m(path, mode, destpath, encoding, newline)\u001b[0m\n\u001b[1;32m    191\u001b[0m \u001b[0;34m\u001b[0m\u001b[0m\n\u001b[1;32m    192\u001b[0m     \u001b[0mds\u001b[0m \u001b[0;34m=\u001b[0m \u001b[0mDataSource\u001b[0m\u001b[0;34m(\u001b[0m\u001b[0mdestpath\u001b[0m\u001b[0;34m)\u001b[0m\u001b[0;34m\u001b[0m\u001b[0;34m\u001b[0m\u001b[0m\n\u001b[0;32m--> 193\u001b[0;31m     \u001b[0;32mreturn\u001b[0m \u001b[0mds\u001b[0m\u001b[0;34m.\u001b[0m\u001b[0mopen\u001b[0m\u001b[0;34m(\u001b[0m\u001b[0mpath\u001b[0m\u001b[0;34m,\u001b[0m \u001b[0mmode\u001b[0m\u001b[0;34m,\u001b[0m \u001b[0mencoding\u001b[0m\u001b[0;34m=\u001b[0m\u001b[0mencoding\u001b[0m\u001b[0;34m,\u001b[0m \u001b[0mnewline\u001b[0m\u001b[0;34m=\u001b[0m\u001b[0mnewline\u001b[0m\u001b[0;34m)\u001b[0m\u001b[0;34m\u001b[0m\u001b[0;34m\u001b[0m\u001b[0m\n\u001b[0m\u001b[1;32m    194\u001b[0m \u001b[0;34m\u001b[0m\u001b[0m\n\u001b[1;32m    195\u001b[0m \u001b[0;34m\u001b[0m\u001b[0m\n",
            "\u001b[0;32m/usr/local/lib/python3.8/dist-packages/numpy/lib/_datasource.py\u001b[0m in \u001b[0;36mopen\u001b[0;34m(self, path, mode, encoding, newline)\u001b[0m\n\u001b[1;32m    531\u001b[0m                                       encoding=encoding, newline=newline)\n\u001b[1;32m    532\u001b[0m         \u001b[0;32melse\u001b[0m\u001b[0;34m:\u001b[0m\u001b[0;34m\u001b[0m\u001b[0;34m\u001b[0m\u001b[0m\n\u001b[0;32m--> 533\u001b[0;31m             \u001b[0;32mraise\u001b[0m \u001b[0mIOError\u001b[0m\u001b[0;34m(\u001b[0m\u001b[0;34m\"%s not found.\"\u001b[0m \u001b[0;34m%\u001b[0m \u001b[0mpath\u001b[0m\u001b[0;34m)\u001b[0m\u001b[0;34m\u001b[0m\u001b[0;34m\u001b[0m\u001b[0m\n\u001b[0m\u001b[1;32m    534\u001b[0m \u001b[0;34m\u001b[0m\u001b[0m\n\u001b[1;32m    535\u001b[0m \u001b[0;34m\u001b[0m\u001b[0m\n",
            "\u001b[0;31mOSError\u001b[0m: sample2.txt not found."
          ]
        }
      ],
      "source": [
        "# Skip header using \"skip_header\" parameter\n",
        "p6 = np.genfromtxt('sample2.txt', \n",
        "                   delimiter=' ', \n",
        "                   dtype=[('Name', str, 50), ('ID', np.integer), ('Age', np.float)], \n",
        "                   names=('Name', 'ID', 'Age'),\n",
        "                   skip_header=1\n",
        "                  )\n",
        "p6"
      ]
    },
    {
      "cell_type": "code",
      "execution_count": 170,
      "metadata": {
        "colab": {
          "base_uri": "https://localhost:8080/"
        },
        "id": "NhS2VULnYDUC",
        "outputId": "5ff9fe91-5c06-4229-8ae4-7a3d874537b5"
      },
      "outputs": [
        {
          "output_type": "execute_result",
          "data": {
            "text/plain": [
              "array([ 10,  21,  32,  43,  54,  65,  76,  87,  98, 109, 120, 131, 142,\n",
              "       153, 164, 175, 186, 197])"
            ]
          },
          "metadata": {},
          "execution_count": 170
        }
      ],
      "source": [
        "p7 = np.arange(10,200,11)\n",
        "p7"
      ]
    },
    {
      "cell_type": "code",
      "execution_count": 171,
      "metadata": {
        "id": "s2a0_CztYDUC"
      },
      "outputs": [],
      "source": [
        "np.savetxt('test3.csv', p7, delimiter=',')"
      ]
    },
    {
      "cell_type": "code",
      "execution_count": 172,
      "metadata": {
        "colab": {
          "base_uri": "https://localhost:8080/"
        },
        "id": "c4pc_ZrpYDUC",
        "outputId": "144ac137-4b4d-45c2-d808-493bc8b2328d"
      },
      "outputs": [
        {
          "output_type": "execute_result",
          "data": {
            "text/plain": [
              "array([[  0,   1,   2,   3,   4,   5,   6,   7,   8,   9,  10],\n",
              "       [ 11,  12,  13,  14,  15,  16,  17,  18,  19,  20,  21],\n",
              "       [ 22,  23,  24,  25,  26,  27,  28,  29,  30,  31,  32],\n",
              "       [ 33,  34,  35,  36,  37,  38,  39,  40,  41,  42,  43],\n",
              "       [ 44,  45,  46,  47,  48,  49,  50,  51,  52,  53,  54],\n",
              "       [ 55,  56,  57,  58,  59,  60,  61,  62,  63,  64,  65],\n",
              "       [ 66,  67,  68,  69,  70,  71,  72,  73,  74,  75,  76],\n",
              "       [ 77,  78,  79,  80,  81,  82,  83,  84,  85,  86,  87],\n",
              "       [ 88,  89,  90,  91,  92,  93,  94,  95,  96,  97,  98],\n",
              "       [ 99, 100, 101, 102, 103, 104, 105, 106, 107, 108, 109],\n",
              "       [110, 111, 112, 113, 114, 115, 116, 117, 118, 119, 120]])"
            ]
          },
          "metadata": {},
          "execution_count": 172
        }
      ],
      "source": [
        "p8 = np.arange(0,121).reshape(11,11)\n",
        "p8"
      ]
    },
    {
      "cell_type": "code",
      "execution_count": 173,
      "metadata": {
        "id": "UAryWKFjYDUD"
      },
      "outputs": [],
      "source": [
        "np.save('test4.npy', p8)"
      ]
    },
    {
      "cell_type": "code",
      "execution_count": 174,
      "metadata": {
        "colab": {
          "base_uri": "https://localhost:8080/"
        },
        "id": "5qaL87zQYDUD",
        "outputId": "4ce97cb8-8465-4d65-fade-604512888950"
      },
      "outputs": [
        {
          "output_type": "execute_result",
          "data": {
            "text/plain": [
              "array([[  0,   1,   2,   3,   4,   5,   6,   7,   8,   9,  10],\n",
              "       [ 11,  12,  13,  14,  15,  16,  17,  18,  19,  20,  21],\n",
              "       [ 22,  23,  24,  25,  26,  27,  28,  29,  30,  31,  32],\n",
              "       [ 33,  34,  35,  36,  37,  38,  39,  40,  41,  42,  43],\n",
              "       [ 44,  45,  46,  47,  48,  49,  50,  51,  52,  53,  54],\n",
              "       [ 55,  56,  57,  58,  59,  60,  61,  62,  63,  64,  65],\n",
              "       [ 66,  67,  68,  69,  70,  71,  72,  73,  74,  75,  76],\n",
              "       [ 77,  78,  79,  80,  81,  82,  83,  84,  85,  86,  87],\n",
              "       [ 88,  89,  90,  91,  92,  93,  94,  95,  96,  97,  98],\n",
              "       [ 99, 100, 101, 102, 103, 104, 105, 106, 107, 108, 109],\n",
              "       [110, 111, 112, 113, 114, 115, 116, 117, 118, 119, 120]])"
            ]
          },
          "metadata": {},
          "execution_count": 174
        }
      ],
      "source": [
        "p9 = np.load('test4.npy')\n",
        "p9"
      ]
    },
    {
      "cell_type": "code",
      "execution_count": 175,
      "metadata": {
        "id": "-HwJTl-TYDUD"
      },
      "outputs": [],
      "source": [
        "np.save('numpyfile', p8)"
      ]
    },
    {
      "cell_type": "code",
      "execution_count": 176,
      "metadata": {
        "colab": {
          "base_uri": "https://localhost:8080/"
        },
        "id": "l1a14grkYDUE",
        "outputId": "2db2e78a-74f9-489f-9807-a540393b608c"
      },
      "outputs": [
        {
          "output_type": "execute_result",
          "data": {
            "text/plain": [
              "array([[  0,   1,   2,   3,   4,   5,   6,   7,   8,   9,  10],\n",
              "       [ 11,  12,  13,  14,  15,  16,  17,  18,  19,  20,  21],\n",
              "       [ 22,  23,  24,  25,  26,  27,  28,  29,  30,  31,  32],\n",
              "       [ 33,  34,  35,  36,  37,  38,  39,  40,  41,  42,  43],\n",
              "       [ 44,  45,  46,  47,  48,  49,  50,  51,  52,  53,  54],\n",
              "       [ 55,  56,  57,  58,  59,  60,  61,  62,  63,  64,  65],\n",
              "       [ 66,  67,  68,  69,  70,  71,  72,  73,  74,  75,  76],\n",
              "       [ 77,  78,  79,  80,  81,  82,  83,  84,  85,  86,  87],\n",
              "       [ 88,  89,  90,  91,  92,  93,  94,  95,  96,  97,  98],\n",
              "       [ 99, 100, 101, 102, 103, 104, 105, 106, 107, 108, 109],\n",
              "       [110, 111, 112, 113, 114, 115, 116, 117, 118, 119, 120]])"
            ]
          },
          "metadata": {},
          "execution_count": 176
        }
      ],
      "source": [
        "p10 = np.load('numpyfile.npy')\n",
        "p10"
      ]
    },
    {
      "cell_type": "code",
      "execution_count": 177,
      "metadata": {
        "colab": {
          "base_uri": "https://localhost:8080/"
        },
        "id": "88L-XyOSYDUE",
        "outputId": "f50b9f22-2e3f-4fce-b170-e224974ef471"
      },
      "outputs": [
        {
          "output_type": "execute_result",
          "data": {
            "text/plain": [
              "array([[     0,      1,      2, ...,    997,    998,    999],\n",
              "       [  1000,   1001,   1002, ...,   1997,   1998,   1999],\n",
              "       [  2000,   2001,   2002, ...,   2997,   2998,   2999],\n",
              "       ...,\n",
              "       [997000, 997001, 997002, ..., 997997, 997998, 997999],\n",
              "       [998000, 998001, 998002, ..., 998997, 998998, 998999],\n",
              "       [999000, 999001, 999002, ..., 999997, 999998, 999999]])"
            ]
          },
          "metadata": {},
          "execution_count": 177
        }
      ],
      "source": [
        "p11 = np.arange(0,1000000).reshape(1000,1000)\n",
        "p11"
      ]
    },
    {
      "cell_type": "code",
      "execution_count": 178,
      "metadata": {
        "id": "nYZhESL8YDUF"
      },
      "outputs": [],
      "source": [
        "# Save Numpy array to a compressed file\n",
        "np.savez_compressed('test6.npz', p11)"
      ]
    },
    {
      "cell_type": "code",
      "execution_count": 179,
      "metadata": {
        "id": "kHbKN70GYDUG"
      },
      "outputs": [],
      "source": [
        "# Save Numpy array to a npy file\n",
        "np.save('test7.npy', p11)"
      ]
    },
    {
      "cell_type": "code",
      "execution_count": 180,
      "metadata": {
        "colab": {
          "base_uri": "https://localhost:8080/",
          "height": 329
        },
        "id": "G6Swng8nYDUG",
        "outputId": "a81c788d-9615-4d37-e683-975821e45cfc"
      },
      "outputs": [
        {
          "output_type": "error",
          "ename": "FileNotFoundError",
          "evalue": "ignored",
          "traceback": [
            "\u001b[0;31m---------------------------------------------------------------------------\u001b[0m",
            "\u001b[0;31mFileNotFoundError\u001b[0m                         Traceback (most recent call last)",
            "\u001b[0;32m<ipython-input-180-339a63e610f7>\u001b[0m in \u001b[0;36m<module>\u001b[0;34m\u001b[0m\n\u001b[1;32m      1\u001b[0m \u001b[0;31m# Compressed file size is much lesser than normal npy file\u001b[0m\u001b[0;34m\u001b[0m\u001b[0;34m\u001b[0m\u001b[0;34m\u001b[0m\u001b[0m\n\u001b[0;32m----> 2\u001b[0;31m \u001b[0mImage\u001b[0m\u001b[0;34m(\u001b[0m\u001b[0mfilename\u001b[0m\u001b[0;34m=\u001b[0m\u001b[0;34m'load_save.PNG'\u001b[0m\u001b[0;34m)\u001b[0m\u001b[0;34m\u001b[0m\u001b[0;34m\u001b[0m\u001b[0m\n\u001b[0m",
            "\u001b[0;32m/usr/local/lib/python3.8/dist-packages/IPython/core/display.py\u001b[0m in \u001b[0;36m__init__\u001b[0;34m(self, data, url, filename, format, embed, width, height, retina, unconfined, metadata)\u001b[0m\n\u001b[1;32m   1201\u001b[0m         \u001b[0mself\u001b[0m\u001b[0;34m.\u001b[0m\u001b[0mretina\u001b[0m \u001b[0;34m=\u001b[0m \u001b[0mretina\u001b[0m\u001b[0;34m\u001b[0m\u001b[0;34m\u001b[0m\u001b[0m\n\u001b[1;32m   1202\u001b[0m         \u001b[0mself\u001b[0m\u001b[0;34m.\u001b[0m\u001b[0munconfined\u001b[0m \u001b[0;34m=\u001b[0m \u001b[0munconfined\u001b[0m\u001b[0;34m\u001b[0m\u001b[0;34m\u001b[0m\u001b[0m\n\u001b[0;32m-> 1203\u001b[0;31m         super(Image, self).__init__(data=data, url=url, filename=filename, \n\u001b[0m\u001b[1;32m   1204\u001b[0m                 metadata=metadata)\n\u001b[1;32m   1205\u001b[0m \u001b[0;34m\u001b[0m\u001b[0m\n",
            "\u001b[0;32m/usr/local/lib/python3.8/dist-packages/IPython/core/display.py\u001b[0m in \u001b[0;36m__init__\u001b[0;34m(self, data, url, filename, metadata)\u001b[0m\n\u001b[1;32m    625\u001b[0m             \u001b[0mself\u001b[0m\u001b[0;34m.\u001b[0m\u001b[0mmetadata\u001b[0m \u001b[0;34m=\u001b[0m \u001b[0;34m{\u001b[0m\u001b[0;34m}\u001b[0m\u001b[0;34m\u001b[0m\u001b[0;34m\u001b[0m\u001b[0m\n\u001b[1;32m    626\u001b[0m \u001b[0;34m\u001b[0m\u001b[0m\n\u001b[0;32m--> 627\u001b[0;31m         \u001b[0mself\u001b[0m\u001b[0;34m.\u001b[0m\u001b[0mreload\u001b[0m\u001b[0;34m(\u001b[0m\u001b[0;34m)\u001b[0m\u001b[0;34m\u001b[0m\u001b[0;34m\u001b[0m\u001b[0m\n\u001b[0m\u001b[1;32m    628\u001b[0m         \u001b[0mself\u001b[0m\u001b[0;34m.\u001b[0m\u001b[0m_check_data\u001b[0m\u001b[0;34m(\u001b[0m\u001b[0;34m)\u001b[0m\u001b[0;34m\u001b[0m\u001b[0;34m\u001b[0m\u001b[0m\n\u001b[1;32m    629\u001b[0m \u001b[0;34m\u001b[0m\u001b[0m\n",
            "\u001b[0;32m/usr/local/lib/python3.8/dist-packages/IPython/core/display.py\u001b[0m in \u001b[0;36mreload\u001b[0;34m(self)\u001b[0m\n\u001b[1;32m   1233\u001b[0m         \u001b[0;34m\"\"\"Reload the raw data from file or URL.\"\"\"\u001b[0m\u001b[0;34m\u001b[0m\u001b[0;34m\u001b[0m\u001b[0m\n\u001b[1;32m   1234\u001b[0m         \u001b[0;32mif\u001b[0m \u001b[0mself\u001b[0m\u001b[0;34m.\u001b[0m\u001b[0membed\u001b[0m\u001b[0;34m:\u001b[0m\u001b[0;34m\u001b[0m\u001b[0;34m\u001b[0m\u001b[0m\n\u001b[0;32m-> 1235\u001b[0;31m             \u001b[0msuper\u001b[0m\u001b[0;34m(\u001b[0m\u001b[0mImage\u001b[0m\u001b[0;34m,\u001b[0m\u001b[0mself\u001b[0m\u001b[0;34m)\u001b[0m\u001b[0;34m.\u001b[0m\u001b[0mreload\u001b[0m\u001b[0;34m(\u001b[0m\u001b[0;34m)\u001b[0m\u001b[0;34m\u001b[0m\u001b[0;34m\u001b[0m\u001b[0m\n\u001b[0m\u001b[1;32m   1236\u001b[0m             \u001b[0;32mif\u001b[0m \u001b[0mself\u001b[0m\u001b[0;34m.\u001b[0m\u001b[0mretina\u001b[0m\u001b[0;34m:\u001b[0m\u001b[0;34m\u001b[0m\u001b[0;34m\u001b[0m\u001b[0m\n\u001b[1;32m   1237\u001b[0m                 \u001b[0mself\u001b[0m\u001b[0;34m.\u001b[0m\u001b[0m_retina_shape\u001b[0m\u001b[0;34m(\u001b[0m\u001b[0;34m)\u001b[0m\u001b[0;34m\u001b[0m\u001b[0;34m\u001b[0m\u001b[0m\n",
            "\u001b[0;32m/usr/local/lib/python3.8/dist-packages/IPython/core/display.py\u001b[0m in \u001b[0;36mreload\u001b[0;34m(self)\u001b[0m\n\u001b[1;32m    650\u001b[0m         \u001b[0;34m\"\"\"Reload the raw data from file or URL.\"\"\"\u001b[0m\u001b[0;34m\u001b[0m\u001b[0;34m\u001b[0m\u001b[0m\n\u001b[1;32m    651\u001b[0m         \u001b[0;32mif\u001b[0m \u001b[0mself\u001b[0m\u001b[0;34m.\u001b[0m\u001b[0mfilename\u001b[0m \u001b[0;32mis\u001b[0m \u001b[0;32mnot\u001b[0m \u001b[0;32mNone\u001b[0m\u001b[0;34m:\u001b[0m\u001b[0;34m\u001b[0m\u001b[0;34m\u001b[0m\u001b[0m\n\u001b[0;32m--> 652\u001b[0;31m             \u001b[0;32mwith\u001b[0m \u001b[0mopen\u001b[0m\u001b[0;34m(\u001b[0m\u001b[0mself\u001b[0m\u001b[0;34m.\u001b[0m\u001b[0mfilename\u001b[0m\u001b[0;34m,\u001b[0m \u001b[0mself\u001b[0m\u001b[0;34m.\u001b[0m\u001b[0m_read_flags\u001b[0m\u001b[0;34m)\u001b[0m \u001b[0;32mas\u001b[0m \u001b[0mf\u001b[0m\u001b[0;34m:\u001b[0m\u001b[0;34m\u001b[0m\u001b[0;34m\u001b[0m\u001b[0m\n\u001b[0m\u001b[1;32m    653\u001b[0m                 \u001b[0mself\u001b[0m\u001b[0;34m.\u001b[0m\u001b[0mdata\u001b[0m \u001b[0;34m=\u001b[0m \u001b[0mf\u001b[0m\u001b[0;34m.\u001b[0m\u001b[0mread\u001b[0m\u001b[0;34m(\u001b[0m\u001b[0;34m)\u001b[0m\u001b[0;34m\u001b[0m\u001b[0;34m\u001b[0m\u001b[0m\n\u001b[1;32m    654\u001b[0m         \u001b[0;32melif\u001b[0m \u001b[0mself\u001b[0m\u001b[0;34m.\u001b[0m\u001b[0murl\u001b[0m \u001b[0;32mis\u001b[0m \u001b[0;32mnot\u001b[0m \u001b[0;32mNone\u001b[0m\u001b[0;34m:\u001b[0m\u001b[0;34m\u001b[0m\u001b[0;34m\u001b[0m\u001b[0m\n",
            "\u001b[0;31mFileNotFoundError\u001b[0m: [Errno 2] No such file or directory: 'load_save.PNG'"
          ]
        }
      ],
      "source": [
        "# Compressed file size is much lesser than normal npy file\n",
        "Image(filename='load_save.PNG')"
      ]
    },
    {
      "cell_type": "markdown",
      "metadata": {
        "id": "2E3h0vxfYDUH"
      },
      "source": [
        "# Printing Options"
      ]
    },
    {
      "cell_type": "code",
      "execution_count": 181,
      "metadata": {
        "colab": {
          "base_uri": "https://localhost:8080/"
        },
        "id": "TsDxs_DmYDUH",
        "outputId": "306d8855-f369-4b12-9ee6-59bec97f9704"
      },
      "outputs": [
        {
          "output_type": "execute_result",
          "data": {
            "text/plain": [
              "array([12.6544, 90.7864])"
            ]
          },
          "metadata": {},
          "execution_count": 181
        }
      ],
      "source": [
        "# Display values upto 4 decimal place\n",
        "np.set_printoptions(precision=4)\n",
        "a = np.array([12.654398765 , 90.7864098354674])\n",
        "a"
      ]
    },
    {
      "cell_type": "code",
      "execution_count": 182,
      "metadata": {
        "colab": {
          "base_uri": "https://localhost:8080/"
        },
        "id": "nTnJzj-IYDUH",
        "outputId": "4d9b7357-a173-4471-a02f-c5e3c7d7bb3b"
      },
      "outputs": [
        {
          "output_type": "execute_result",
          "data": {
            "text/plain": [
              "array([12.65, 90.79])"
            ]
          },
          "metadata": {},
          "execution_count": 182
        }
      ],
      "source": [
        "# Display values upto 2 decimal place\n",
        "np.set_printoptions(precision=2)\n",
        "a = np.array([12.654398765 , 90.7864098354674])\n",
        "a"
      ]
    },
    {
      "cell_type": "code",
      "execution_count": 183,
      "metadata": {
        "colab": {
          "base_uri": "https://localhost:8080/"
        },
        "id": "yLGW-UIFYDUH",
        "outputId": "ce04f102-7383-44e3-8199-03bd8baa85c4"
      },
      "outputs": [
        {
          "output_type": "execute_result",
          "data": {
            "text/plain": [
              "array([  0,   1,   2, ..., 197, 198, 199])"
            ]
          },
          "metadata": {},
          "execution_count": 183
        }
      ],
      "source": [
        "# Array Summarization\n",
        "np.set_printoptions(threshold=3)\n",
        "np.arange(200)"
      ]
    },
    {
      "cell_type": "code",
      "execution_count": 184,
      "metadata": {
        "colab": {
          "base_uri": "https://localhost:8080/"
        },
        "id": "sY_HEferYDUI",
        "outputId": "fad9b7df-026d-41de-ccad-d7c32d8a2743"
      },
      "outputs": [
        {
          "output_type": "execute_result",
          "data": {
            "text/plain": [
              "array([12.65439876, 90.78640984])"
            ]
          },
          "metadata": {},
          "execution_count": 184
        }
      ],
      "source": [
        "# Reset Formatter\n",
        "np.set_printoptions(precision=8,suppress=False, threshold=1000, formatter=None)\n",
        "a = np.array([12.654398765 , 90.7864098354674])\n",
        "a"
      ]
    },
    {
      "cell_type": "code",
      "execution_count": 185,
      "metadata": {
        "colab": {
          "base_uri": "https://localhost:8080/"
        },
        "id": "S4AERgZPYDUK",
        "outputId": "684271bd-e9bc-402c-8110-ccf0f157cf24"
      },
      "outputs": [
        {
          "output_type": "execute_result",
          "data": {
            "text/plain": [
              "array([   1,    2,    3, ..., 1097, 1098, 1099])"
            ]
          },
          "metadata": {},
          "execution_count": 185
        }
      ],
      "source": [
        "np.arange(1,1100)"
      ]
    },
    {
      "cell_type": "code",
      "execution_count": 186,
      "metadata": {
        "colab": {
          "base_uri": "https://localhost:8080/"
        },
        "id": "URSa4dpqYDUK",
        "outputId": "ff761404-6cea-4a9d-a5c6-9ada5e36d39f"
      },
      "outputs": [
        {
          "output_type": "execute_result",
          "data": {
            "text/plain": [
              "array([   1,    2,    3,    4,    5,    6,    7,    8,    9,   10,   11,\n",
              "         12,   13,   14,   15,   16,   17,   18,   19,   20,   21,   22,\n",
              "         23,   24,   25,   26,   27,   28,   29,   30,   31,   32,   33,\n",
              "         34,   35,   36,   37,   38,   39,   40,   41,   42,   43,   44,\n",
              "         45,   46,   47,   48,   49,   50,   51,   52,   53,   54,   55,\n",
              "         56,   57,   58,   59,   60,   61,   62,   63,   64,   65,   66,\n",
              "         67,   68,   69,   70,   71,   72,   73,   74,   75,   76,   77,\n",
              "         78,   79,   80,   81,   82,   83,   84,   85,   86,   87,   88,\n",
              "         89,   90,   91,   92,   93,   94,   95,   96,   97,   98,   99,\n",
              "        100,  101,  102,  103,  104,  105,  106,  107,  108,  109,  110,\n",
              "        111,  112,  113,  114,  115,  116,  117,  118,  119,  120,  121,\n",
              "        122,  123,  124,  125,  126,  127,  128,  129,  130,  131,  132,\n",
              "        133,  134,  135,  136,  137,  138,  139,  140,  141,  142,  143,\n",
              "        144,  145,  146,  147,  148,  149,  150,  151,  152,  153,  154,\n",
              "        155,  156,  157,  158,  159,  160,  161,  162,  163,  164,  165,\n",
              "        166,  167,  168,  169,  170,  171,  172,  173,  174,  175,  176,\n",
              "        177,  178,  179,  180,  181,  182,  183,  184,  185,  186,  187,\n",
              "        188,  189,  190,  191,  192,  193,  194,  195,  196,  197,  198,\n",
              "        199,  200,  201,  202,  203,  204,  205,  206,  207,  208,  209,\n",
              "        210,  211,  212,  213,  214,  215,  216,  217,  218,  219,  220,\n",
              "        221,  222,  223,  224,  225,  226,  227,  228,  229,  230,  231,\n",
              "        232,  233,  234,  235,  236,  237,  238,  239,  240,  241,  242,\n",
              "        243,  244,  245,  246,  247,  248,  249,  250,  251,  252,  253,\n",
              "        254,  255,  256,  257,  258,  259,  260,  261,  262,  263,  264,\n",
              "        265,  266,  267,  268,  269,  270,  271,  272,  273,  274,  275,\n",
              "        276,  277,  278,  279,  280,  281,  282,  283,  284,  285,  286,\n",
              "        287,  288,  289,  290,  291,  292,  293,  294,  295,  296,  297,\n",
              "        298,  299,  300,  301,  302,  303,  304,  305,  306,  307,  308,\n",
              "        309,  310,  311,  312,  313,  314,  315,  316,  317,  318,  319,\n",
              "        320,  321,  322,  323,  324,  325,  326,  327,  328,  329,  330,\n",
              "        331,  332,  333,  334,  335,  336,  337,  338,  339,  340,  341,\n",
              "        342,  343,  344,  345,  346,  347,  348,  349,  350,  351,  352,\n",
              "        353,  354,  355,  356,  357,  358,  359,  360,  361,  362,  363,\n",
              "        364,  365,  366,  367,  368,  369,  370,  371,  372,  373,  374,\n",
              "        375,  376,  377,  378,  379,  380,  381,  382,  383,  384,  385,\n",
              "        386,  387,  388,  389,  390,  391,  392,  393,  394,  395,  396,\n",
              "        397,  398,  399,  400,  401,  402,  403,  404,  405,  406,  407,\n",
              "        408,  409,  410,  411,  412,  413,  414,  415,  416,  417,  418,\n",
              "        419,  420,  421,  422,  423,  424,  425,  426,  427,  428,  429,\n",
              "        430,  431,  432,  433,  434,  435,  436,  437,  438,  439,  440,\n",
              "        441,  442,  443,  444,  445,  446,  447,  448,  449,  450,  451,\n",
              "        452,  453,  454,  455,  456,  457,  458,  459,  460,  461,  462,\n",
              "        463,  464,  465,  466,  467,  468,  469,  470,  471,  472,  473,\n",
              "        474,  475,  476,  477,  478,  479,  480,  481,  482,  483,  484,\n",
              "        485,  486,  487,  488,  489,  490,  491,  492,  493,  494,  495,\n",
              "        496,  497,  498,  499,  500,  501,  502,  503,  504,  505,  506,\n",
              "        507,  508,  509,  510,  511,  512,  513,  514,  515,  516,  517,\n",
              "        518,  519,  520,  521,  522,  523,  524,  525,  526,  527,  528,\n",
              "        529,  530,  531,  532,  533,  534,  535,  536,  537,  538,  539,\n",
              "        540,  541,  542,  543,  544,  545,  546,  547,  548,  549,  550,\n",
              "        551,  552,  553,  554,  555,  556,  557,  558,  559,  560,  561,\n",
              "        562,  563,  564,  565,  566,  567,  568,  569,  570,  571,  572,\n",
              "        573,  574,  575,  576,  577,  578,  579,  580,  581,  582,  583,\n",
              "        584,  585,  586,  587,  588,  589,  590,  591,  592,  593,  594,\n",
              "        595,  596,  597,  598,  599,  600,  601,  602,  603,  604,  605,\n",
              "        606,  607,  608,  609,  610,  611,  612,  613,  614,  615,  616,\n",
              "        617,  618,  619,  620,  621,  622,  623,  624,  625,  626,  627,\n",
              "        628,  629,  630,  631,  632,  633,  634,  635,  636,  637,  638,\n",
              "        639,  640,  641,  642,  643,  644,  645,  646,  647,  648,  649,\n",
              "        650,  651,  652,  653,  654,  655,  656,  657,  658,  659,  660,\n",
              "        661,  662,  663,  664,  665,  666,  667,  668,  669,  670,  671,\n",
              "        672,  673,  674,  675,  676,  677,  678,  679,  680,  681,  682,\n",
              "        683,  684,  685,  686,  687,  688,  689,  690,  691,  692,  693,\n",
              "        694,  695,  696,  697,  698,  699,  700,  701,  702,  703,  704,\n",
              "        705,  706,  707,  708,  709,  710,  711,  712,  713,  714,  715,\n",
              "        716,  717,  718,  719,  720,  721,  722,  723,  724,  725,  726,\n",
              "        727,  728,  729,  730,  731,  732,  733,  734,  735,  736,  737,\n",
              "        738,  739,  740,  741,  742,  743,  744,  745,  746,  747,  748,\n",
              "        749,  750,  751,  752,  753,  754,  755,  756,  757,  758,  759,\n",
              "        760,  761,  762,  763,  764,  765,  766,  767,  768,  769,  770,\n",
              "        771,  772,  773,  774,  775,  776,  777,  778,  779,  780,  781,\n",
              "        782,  783,  784,  785,  786,  787,  788,  789,  790,  791,  792,\n",
              "        793,  794,  795,  796,  797,  798,  799,  800,  801,  802,  803,\n",
              "        804,  805,  806,  807,  808,  809,  810,  811,  812,  813,  814,\n",
              "        815,  816,  817,  818,  819,  820,  821,  822,  823,  824,  825,\n",
              "        826,  827,  828,  829,  830,  831,  832,  833,  834,  835,  836,\n",
              "        837,  838,  839,  840,  841,  842,  843,  844,  845,  846,  847,\n",
              "        848,  849,  850,  851,  852,  853,  854,  855,  856,  857,  858,\n",
              "        859,  860,  861,  862,  863,  864,  865,  866,  867,  868,  869,\n",
              "        870,  871,  872,  873,  874,  875,  876,  877,  878,  879,  880,\n",
              "        881,  882,  883,  884,  885,  886,  887,  888,  889,  890,  891,\n",
              "        892,  893,  894,  895,  896,  897,  898,  899,  900,  901,  902,\n",
              "        903,  904,  905,  906,  907,  908,  909,  910,  911,  912,  913,\n",
              "        914,  915,  916,  917,  918,  919,  920,  921,  922,  923,  924,\n",
              "        925,  926,  927,  928,  929,  930,  931,  932,  933,  934,  935,\n",
              "        936,  937,  938,  939,  940,  941,  942,  943,  944,  945,  946,\n",
              "        947,  948,  949,  950,  951,  952,  953,  954,  955,  956,  957,\n",
              "        958,  959,  960,  961,  962,  963,  964,  965,  966,  967,  968,\n",
              "        969,  970,  971,  972,  973,  974,  975,  976,  977,  978,  979,\n",
              "        980,  981,  982,  983,  984,  985,  986,  987,  988,  989,  990,\n",
              "        991,  992,  993,  994,  995,  996,  997,  998,  999, 1000, 1001,\n",
              "       1002, 1003, 1004, 1005, 1006, 1007, 1008, 1009, 1010, 1011, 1012,\n",
              "       1013, 1014, 1015, 1016, 1017, 1018, 1019, 1020, 1021, 1022, 1023,\n",
              "       1024, 1025, 1026, 1027, 1028, 1029, 1030, 1031, 1032, 1033, 1034,\n",
              "       1035, 1036, 1037, 1038, 1039, 1040, 1041, 1042, 1043, 1044, 1045,\n",
              "       1046, 1047, 1048, 1049, 1050, 1051, 1052, 1053, 1054, 1055, 1056,\n",
              "       1057, 1058, 1059, 1060, 1061, 1062, 1063, 1064, 1065, 1066, 1067,\n",
              "       1068, 1069, 1070, 1071, 1072, 1073, 1074, 1075, 1076, 1077, 1078,\n",
              "       1079, 1080, 1081, 1082, 1083, 1084, 1085, 1086, 1087, 1088, 1089,\n",
              "       1090, 1091, 1092, 1093, 1094, 1095, 1096, 1097, 1098, 1099])"
            ]
          },
          "metadata": {},
          "execution_count": 186
        }
      ],
      "source": [
        "# Display all values\n",
        "np.set_printoptions(threshold=np.inf)\n",
        "np.arange(1,1100)"
      ]
    },
    {
      "cell_type": "markdown",
      "metadata": {
        "id": "FIXhgLpxYDUK"
      },
      "source": [
        "# Vector Addition"
      ]
    },
    {
      "cell_type": "code",
      "execution_count": 187,
      "metadata": {
        "colab": {
          "base_uri": "https://localhost:8080/"
        },
        "id": "_5OUkGtlYDUK",
        "outputId": "b2597fb2-555b-43b4-868a-e82771f8a846"
      },
      "outputs": [
        {
          "output_type": "stream",
          "name": "stdout",
          "text": [
            "V3 = [4 6]\n"
          ]
        }
      ],
      "source": [
        "v1 = np.array([1,2])\n",
        "v2 = np.array([3,4])\n",
        "v3 = v1+v2\n",
        "v3 = np.add(v1,v2)\n",
        "print('V3 =' ,v3)"
      ]
    },
    {
      "cell_type": "markdown",
      "metadata": {
        "id": "0tTscxQ7YDUL"
      },
      "source": [
        "# Multiplication of vectors"
      ]
    },
    {
      "cell_type": "code",
      "execution_count": 188,
      "metadata": {
        "colab": {
          "base_uri": "https://localhost:8080/"
        },
        "id": "0VcXHsxKYDUL",
        "outputId": "8d1766b8-9791-4169-d634-6c60e9cfe180"
      },
      "outputs": [
        {
          "output_type": "stream",
          "name": "stdout",
          "text": [
            "[20 42 72]\n"
          ]
        }
      ],
      "source": [
        "a1 = [5 , 6 ,8]\n",
        "a2 = [4, 7 , 9]\n",
        "print(np.multiply(a1,a2))"
      ]
    },
    {
      "cell_type": "markdown",
      "metadata": {
        "id": "8fx_MUz0YDUL"
      },
      "source": [
        "# Dot Product"
      ]
    },
    {
      "cell_type": "markdown",
      "metadata": {
        "id": "ZV_M9bfOYDUM"
      },
      "source": [
        "https://www.youtube.com/watch?v=WNuIhXo39_k\n",
        "\n",
        "https://www.youtube.com/watch?v=LyGKycYT2v0"
      ]
    },
    {
      "cell_type": "code",
      "execution_count": null,
      "metadata": {
        "id": "96Qlf8_bYDUM",
        "outputId": "a198d7f9-ee71-44f1-f294-92a15bbf8c0a"
      },
      "outputs": [
        {
          "name": "stdout",
          "output_type": "stream",
          "text": [
            " Dot product -  32\n",
            " Dot product usign np.dot 32\n",
            " Dot product usign np.inner 32\n",
            " Dot product usign np.multiply & sum 32\n",
            " Dot product usign np.matmul 32\n",
            " Dot product usign for loop 32\n"
          ]
        }
      ],
      "source": [
        "a1 = np.array([1,2,3])\n",
        "a2 = np.array([4,5,6])\n",
        "\n",
        "dotp = a1@a2\n",
        "print(\" Dot product - \",dotp)\n",
        "\n",
        "dotp = np.dot(a1,a2)\n",
        "print(\" Dot product usign np.dot\",dotp)\n",
        "\n",
        "dotp = np.inner(a1,a2)\n",
        "print(\" Dot product usign np.inner\", dotp)\n",
        "\n",
        "dotp = sum(np.multiply(a1,a2))\n",
        "print(\" Dot product usign np.multiply & sum\",dotp)\n",
        "\n",
        "dotp = np.matmul(a1,a2)\n",
        "print(\" Dot product usign np.matmul\",dotp)\n",
        "\n",
        "dotp = 0\n",
        "for i in range(len(a1)):\n",
        "    dotp = dotp + a1[i]*a2[i]\n",
        "print(\" Dot product usign for loop\" , dotp)"
      ]
    },
    {
      "cell_type": "markdown",
      "metadata": {
        "id": "SXBwWElMYDUN"
      },
      "source": [
        "# Length of Vector"
      ]
    },
    {
      "cell_type": "code",
      "execution_count": null,
      "metadata": {
        "id": "yRaNXxuDYDUO",
        "outputId": "4264fb62-a557-4bb9-942a-70291e105ee6"
      },
      "outputs": [
        {
          "data": {
            "text/plain": [
              "9.539392014169456"
            ]
          },
          "execution_count": 190,
          "metadata": {},
          "output_type": "execute_result"
        }
      ],
      "source": [
        "v3 = np.array([1,2,3,4,5,6])\n",
        "length = np.sqrt(np.dot(v3,v3))\n",
        "length"
      ]
    },
    {
      "cell_type": "code",
      "execution_count": null,
      "metadata": {
        "id": "3hd22EBNYDUc",
        "outputId": "1936842e-f992-40fd-a3b6-df05ecd99ed3"
      },
      "outputs": [
        {
          "data": {
            "text/plain": [
              "9.539392014169456"
            ]
          },
          "execution_count": 191,
          "metadata": {},
          "output_type": "execute_result"
        }
      ],
      "source": [
        "v3 = np.array([1,2,3,4,5,6])\n",
        "length = np.sqrt(sum(np.multiply(v3,v3)))\n",
        "length"
      ]
    },
    {
      "cell_type": "code",
      "execution_count": null,
      "metadata": {
        "id": "XaEBLLNyYDUc",
        "outputId": "153c17f2-6e57-4711-9ec2-3154ebfb27ee"
      },
      "outputs": [
        {
          "data": {
            "text/plain": [
              "9.539392014169456"
            ]
          },
          "execution_count": 193,
          "metadata": {},
          "output_type": "execute_result"
        }
      ],
      "source": [
        "v3 = np.array([1,2,3,4,5,6])\n",
        "length = np.sqrt(np.matmul(v3,v3))\n",
        "length"
      ]
    },
    {
      "cell_type": "markdown",
      "metadata": {
        "id": "oUT8icq6YDUd"
      },
      "source": [
        "# Normalized Vector"
      ]
    },
    {
      "cell_type": "markdown",
      "metadata": {
        "id": "JJekmaK2YDUd"
      },
      "source": [
        "How to normalize a vector : https://www.youtube.com/watch?v=7fn03DIW3Ak"
      ]
    },
    {
      "cell_type": "code",
      "execution_count": null,
      "metadata": {
        "id": "1zJ9jx3qYDUd",
        "outputId": "9a01190b-8f59-4e9d-e4a1-26583909a2e0"
      },
      "outputs": [
        {
          "data": {
            "text/plain": [
              "(3.605551275463989, array([0.5547002 , 0.83205029]))"
            ]
          },
          "execution_count": 194,
          "metadata": {},
          "output_type": "execute_result"
        }
      ],
      "source": [
        "#First Method\n",
        "v1 = [2,3]\n",
        "length_v1 = np.sqrt(np.dot(v1,v1))\n",
        "norm_v1 = v1/length_v1\n",
        "length_v1 , norm_v1"
      ]
    },
    {
      "cell_type": "code",
      "execution_count": null,
      "metadata": {
        "id": "P7PK4WBrYDUe",
        "outputId": "a83aad4a-b06b-4787-e93a-914208c14f4e"
      },
      "outputs": [
        {
          "data": {
            "text/plain": [
              "array([0.5547002 , 0.83205029])"
            ]
          },
          "execution_count": 199,
          "metadata": {},
          "output_type": "execute_result"
        }
      ],
      "source": [
        "#Second Method\n",
        "v1 = [2,3]\n",
        "norm_v1 = v1/np.linalg.norm(v1)\n",
        "norm_v1"
      ]
    },
    {
      "cell_type": "markdown",
      "metadata": {
        "id": "UNM2o7CqYDUe"
      },
      "source": [
        "# Angle between vectors"
      ]
    },
    {
      "cell_type": "code",
      "execution_count": null,
      "metadata": {
        "id": "tol8P21iYDUe",
        "outputId": "a5020713-abca-4ea7-b8fe-e46e991c1164"
      },
      "outputs": [
        {
          "data": {
            "text/plain": [
              "90.0"
            ]
          },
          "execution_count": 200,
          "metadata": {},
          "output_type": "execute_result"
        }
      ],
      "source": [
        "#First Method\n",
        "v1 = np.array([8,4])\n",
        "v2 = np.array([-4,8])\n",
        "ang = np.rad2deg(np.arccos( np.dot(v1,v2) / (np.linalg.norm(v1)*np.linalg.norm(v2))))\n",
        "ang"
      ]
    },
    {
      "cell_type": "code",
      "execution_count": null,
      "metadata": {
        "id": "Nm76TKNWYDUe",
        "outputId": "06bfe233-6e2f-40ce-e6a4-ce9d078c44cc"
      },
      "outputs": [
        {
          "name": "stdout",
          "output_type": "stream",
          "text": [
            "Angle between Vectors - 90.0\n"
          ]
        }
      ],
      "source": [
        "#Second Method\n",
        "v1 = np.array([4,3])\n",
        "v2 = np.array([-3,4])\n",
        "lengthV1 = np.sqrt(np.dot(v1,v1)) \n",
        "lengthV2  = np.sqrt(np.dot(v2,v2))\n",
        "ang = np.rad2deg(np.arccos( np.dot(v1,v2) / (lengthV1 * lengthV2)))\n",
        "print('Angle between Vectors - %s' %ang)"
      ]
    },
    {
      "cell_type": "markdown",
      "metadata": {
        "id": "KnmbjX54YDUf"
      },
      "source": [
        "# Inner & outer products"
      ]
    },
    {
      "cell_type": "markdown",
      "metadata": {
        "id": "17kPSajdYDUf"
      },
      "source": [
        "Inner and Outer Product :\n",
        "\n",
        "https://www.youtube.com/watch?v=FCmH4MqbFGs&t=2s\n",
        "\n",
        "https://www.youtube.com/watch?v=FCmH4MqbFGs\n"
      ]
    },
    {
      "cell_type": "code",
      "execution_count": null,
      "metadata": {
        "id": "6dJqqPrTYDUf",
        "outputId": "7a6bc8f3-3402-4df1-ebe4-c3af31364021"
      },
      "outputs": [
        {
          "name": "stdout",
          "output_type": "stream",
          "text": [
            "\n",
            " Inner Product ==>  \n",
            " 32\n",
            "\n",
            " Outer Product ==>  \n",
            " [[ 4  5  6]\n",
            " [ 8 10 12]\n",
            " [12 15 18]]\n"
          ]
        }
      ],
      "source": [
        "v1 = np.array([1,2,3])\n",
        "v2 = np.array([4,5,6])\n",
        "np.inner(v1,v2)\n",
        "\n",
        "print(\"\\n Inner Product ==>  \\n\", np.inner(v1,v2))\n",
        "print(\"\\n Outer Product ==>  \\n\", np.outer(v1,v2))"
      ]
    },
    {
      "cell_type": "markdown",
      "metadata": {
        "id": "Di2f2gd5YDUf"
      },
      "source": [
        "# Vector Cross Product"
      ]
    },
    {
      "cell_type": "code",
      "execution_count": null,
      "metadata": {
        "id": "V3aX5FwSYDUg",
        "outputId": "53af0018-6a8e-4133-da69-8537bb09c096"
      },
      "outputs": [
        {
          "name": "stdout",
          "output_type": "stream",
          "text": [
            "\n",
            "Vector Cross Product ==>  \n",
            " [-3  6 -3]\n"
          ]
        }
      ],
      "source": [
        "v1 = np.array([1,2,3])\n",
        "v2 = np.array([4,5,6])\n",
        "print(\"\\nVector Cross Product ==>  \\n\", np.cross(v1,v2))"
      ]
    },
    {
      "cell_type": "markdown",
      "metadata": {
        "id": "pTpDabbvYDUg"
      },
      "source": [
        "# Matrix Creation"
      ]
    },
    {
      "cell_type": "code",
      "execution_count": null,
      "metadata": {
        "id": "Lap112opYDUg",
        "outputId": "0410be41-c98b-4789-b4ed-60fa4f3409c8"
      },
      "outputs": [
        {
          "data": {
            "text/plain": [
              "array([[ 1,  2,  3,  4],\n",
              "       [ 5,  6,  7,  8],\n",
              "       [10, 11, 12, 13],\n",
              "       [14, 15, 16, 17]])"
            ]
          },
          "execution_count": 644,
          "metadata": {},
          "output_type": "execute_result"
        }
      ],
      "source": [
        "# Create a 4x4 matrix\n",
        "A = np.array([[1,2,3,4] , [5,6,7,8] , [10 , 11 , 12 ,13] , [14,15,16,17]])\n",
        "A"
      ]
    },
    {
      "cell_type": "code",
      "execution_count": null,
      "metadata": {
        "id": "UVxu9j4WYDUh",
        "outputId": "a3a4c04f-a398-4935-dba4-f925b720b153"
      },
      "outputs": [
        {
          "data": {
            "text/plain": [
              "dtype('int32')"
            ]
          },
          "execution_count": 125,
          "metadata": {},
          "output_type": "execute_result"
        }
      ],
      "source": [
        "# Datatype of Matrix\n",
        "A.dtype"
      ]
    },
    {
      "cell_type": "code",
      "execution_count": null,
      "metadata": {
        "id": "amI-QCJ-YDUh",
        "outputId": "2d5a063c-3718-48ff-92a5-e80e5d6883c7"
      },
      "outputs": [
        {
          "data": {
            "text/plain": [
              "array([[ 1.5 ,  2.07,  3.  ,  4.  ],\n",
              "       [ 5.  ,  6.  ,  7.  ,  8.  ],\n",
              "       [10.  , 11.  , 12.  , 13.  ],\n",
              "       [14.  , 15.  , 16.  , 17.  ]])"
            ]
          },
          "execution_count": 126,
          "metadata": {},
          "output_type": "execute_result"
        }
      ],
      "source": [
        "B = np.array([[1.5,2.07,3,4] , [5,6,7,8] , [10 , 11 , 12 ,13] , [14,15,16,17]])\n",
        "B"
      ]
    },
    {
      "cell_type": "code",
      "execution_count": null,
      "metadata": {
        "id": "W9uQS46WYDUh",
        "outputId": "3afb810f-5509-4b57-b031-27cb2f328c35"
      },
      "outputs": [
        {
          "data": {
            "text/plain": [
              "dtype('float64')"
            ]
          },
          "execution_count": 127,
          "metadata": {},
          "output_type": "execute_result"
        }
      ],
      "source": [
        "# Datatype of Matrix\n",
        "B.dtype"
      ]
    },
    {
      "cell_type": "code",
      "execution_count": null,
      "metadata": {
        "id": "J5_wouWhYDUh",
        "outputId": "edf13a36-bc4c-46f1-fa62-2095417e865e"
      },
      "outputs": [
        {
          "data": {
            "text/plain": [
              "(4, 4)"
            ]
          },
          "execution_count": 121,
          "metadata": {},
          "output_type": "execute_result"
        }
      ],
      "source": [
        "# Shape of Matrix\n",
        "A.shape"
      ]
    },
    {
      "cell_type": "code",
      "execution_count": null,
      "metadata": {
        "id": "0Feon9hSYDUi",
        "outputId": "dd7427c1-a3a6-4442-f5a1-0be530e58bae"
      },
      "outputs": [
        {
          "data": {
            "text/plain": [
              "array([[0., 0., 0., 0.],\n",
              "       [0., 0., 0., 0.],\n",
              "       [0., 0., 0., 0.],\n",
              "       [0., 0., 0., 0.]])"
            ]
          },
          "execution_count": 133,
          "metadata": {},
          "output_type": "execute_result"
        }
      ],
      "source": [
        "# Generate a 4x4 zero matrix\n",
        "np.zeros((4,4))"
      ]
    },
    {
      "cell_type": "code",
      "execution_count": null,
      "metadata": {
        "id": "ZoyDM8IVYDUi",
        "outputId": "4df77cbf-367a-433b-a981-bbec44bcbd81"
      },
      "outputs": [
        {
          "data": {
            "text/plain": [
              "(4, 4)"
            ]
          },
          "execution_count": 134,
          "metadata": {},
          "output_type": "execute_result"
        }
      ],
      "source": [
        "#Shape of Matrix\n",
        "z1 = np.zeros((4,4))\n",
        "z1.shape"
      ]
    },
    {
      "cell_type": "code",
      "execution_count": null,
      "metadata": {
        "id": "OEJJPjSmYDUi",
        "outputId": "386e2d8d-f94e-410d-abfa-53c37c08e198"
      },
      "outputs": [
        {
          "data": {
            "text/plain": [
              "array([[1., 1., 1., 1., 1.],\n",
              "       [1., 1., 1., 1., 1.],\n",
              "       [1., 1., 1., 1., 1.],\n",
              "       [1., 1., 1., 1., 1.],\n",
              "       [1., 1., 1., 1., 1.]])"
            ]
          },
          "execution_count": 11,
          "metadata": {},
          "output_type": "execute_result"
        }
      ],
      "source": [
        "# Generate a 5x5 matrix filled with ones\n",
        "np.ones((5,5))"
      ]
    },
    {
      "cell_type": "code",
      "execution_count": null,
      "metadata": {
        "id": "lKVYa02dYDUj",
        "outputId": "24898d1b-dd59-4771-f38f-24986bec3387"
      },
      "outputs": [
        {
          "data": {
            "text/plain": [
              "array([[229, 366,  71, 357, 452, 244, 407, 163, 207, 226],\n",
              "       [451, 338, 441, 461,  46, 131,  46, 485, 285, 470],\n",
              "       [149, 378,  21, 465,  23, 235, 254, 383,  94, 356],\n",
              "       [199, 276,  27, 459,   5, 305, 470, 217, 191,  82],\n",
              "       [ 77, 358, 131, 184, 383, 142, 383,  49, 343,  52],\n",
              "       [253, 397, 431, 433, 280, 404, 448, 180, 316, 303],\n",
              "       [370, 285, 316, 309, 395,  40, 219, 301,  97, 408],\n",
              "       [292, 166, 137, 125,  52,  67, 299, 129,  79,  68],\n",
              "       [196, 484,  61, 146, 307, 270, 412, 401,  87,  46],\n",
              "       [ 52, 144, 454, 455,  84,  10, 190, 362,  96, 122]])"
            ]
          },
          "execution_count": 55,
          "metadata": {},
          "output_type": "execute_result"
        }
      ],
      "source": [
        "# Return 10x10 matrix of random integer numbers between 0 to 500\n",
        "np.random.randint(0,500, (10,10))"
      ]
    },
    {
      "cell_type": "code",
      "execution_count": null,
      "metadata": {
        "id": "N0hXKqU1YDUj",
        "outputId": "b9d66473-8a7d-4229-a5b9-0ce740854661"
      },
      "outputs": [
        {
          "data": {
            "text/plain": [
              "array([644, 575, 936, 757, 316, 732, 704, 110,   5, 908, 477,  40,  49,\n",
              "       851, 623, 506, 136, 371, 925, 883])"
            ]
          },
          "execution_count": 137,
          "metadata": {},
          "output_type": "execute_result"
        }
      ],
      "source": [
        "arr2"
      ]
    },
    {
      "cell_type": "code",
      "execution_count": null,
      "metadata": {
        "id": "88IAHLvhYDVI",
        "outputId": "51937426-42fe-460d-df29-2bb081af7eeb"
      },
      "outputs": [
        {
          "data": {
            "text/plain": [
              "array([[644, 575, 936, 757],\n",
              "       [316, 732, 704, 110],\n",
              "       [  5, 908, 477,  40],\n",
              "       [ 49, 851, 623, 506],\n",
              "       [136, 371, 925, 883]])"
            ]
          },
          "execution_count": 90,
          "metadata": {},
          "output_type": "execute_result"
        }
      ],
      "source": [
        "arr2.reshape(5,4)"
      ]
    },
    {
      "cell_type": "code",
      "execution_count": null,
      "metadata": {
        "id": "XxmRZlmxYDVJ",
        "outputId": "0c207301-a3f0-4a21-9605-585dfa7e6196"
      },
      "outputs": [
        {
          "data": {
            "text/plain": [
              "array([[ 92, 907, 507, 394, 625, 478, 419, 540,   3, 851],\n",
              "       [340, 303, 526, 250, 709, 505, 956, 197, 632, 947],\n",
              "       [262, 984, 103, 229, 366,  71, 357, 964, 244, 919],\n",
              "       [675, 207, 226, 451, 850, 953, 461,  46, 643, 558],\n",
              "       [508, 997, 797, 470, 149, 378,  21, 465, 535, 235],\n",
              "       [254, 383,  94, 356, 711, 788, 539, 971,   5, 305],\n",
              "       [982, 217, 703,  82, 589, 358, 643, 696, 895, 654],\n",
              "       [383, 561, 855,  52, 253, 397, 943, 945, 280, 404],\n",
              "       [960, 692, 828, 815, 370, 285, 828, 309, 395,  40],\n",
              "       [219, 813, 609, 920, 804, 678, 649, 125, 564,  67]])"
            ]
          },
          "execution_count": 91,
          "metadata": {},
          "output_type": "execute_result"
        }
      ],
      "source": [
        "mat1 = np.random.randint(0,1000,100).reshape(10,10)\n",
        "mat1"
      ]
    },
    {
      "cell_type": "code",
      "execution_count": null,
      "metadata": {
        "id": "k_ElRWR8YDVJ",
        "outputId": "cc47e68c-29bb-4ae0-f90f-b322fada2971"
      },
      "outputs": [
        {
          "data": {
            "text/plain": [
              "644"
            ]
          },
          "execution_count": 69,
          "metadata": {},
          "output_type": "execute_result"
        }
      ],
      "source": [
        "mat1[0,0]"
      ]
    },
    {
      "cell_type": "code",
      "execution_count": null,
      "metadata": {
        "id": "0Y0LyodRYDVJ",
        "outputId": "f127f8ce-b5d3-4c50-993d-5c2312ca5766"
      },
      "outputs": [
        {
          "data": {
            "text/plain": [
              "array([644, 575, 936, 757, 732, 704, 908, 851, 623, 506, 925, 883, 556,\n",
              "       840, 638, 906, 735, 619, 896, 503, 574, 676, 979, 831, 519, 906,\n",
              "       615, 750, 503, 615, 911, 512, 628, 760, 865, 989, 664, 676, 892,\n",
              "       703, 542, 956, 615, 923, 776, 854, 794, 855, 686, 950, 741, 685,\n",
              "       570])"
            ]
          },
          "execution_count": 70,
          "metadata": {},
          "output_type": "execute_result"
        }
      ],
      "source": [
        "mat1[mat1 > 500]"
      ]
    },
    {
      "cell_type": "code",
      "execution_count": null,
      "metadata": {
        "id": "ybfPxAZyYDVM",
        "outputId": "b092b694-288f-468b-f289-9ca658663eea"
      },
      "outputs": [
        {
          "data": {
            "text/plain": [
              "array([[1., 0., 0., 0., 0., 0., 0., 0., 0.],\n",
              "       [0., 1., 0., 0., 0., 0., 0., 0., 0.],\n",
              "       [0., 0., 1., 0., 0., 0., 0., 0., 0.],\n",
              "       [0., 0., 0., 1., 0., 0., 0., 0., 0.],\n",
              "       [0., 0., 0., 0., 1., 0., 0., 0., 0.],\n",
              "       [0., 0., 0., 0., 0., 1., 0., 0., 0.],\n",
              "       [0., 0., 0., 0., 0., 0., 1., 0., 0.],\n",
              "       [0., 0., 0., 0., 0., 0., 0., 1., 0.],\n",
              "       [0., 0., 0., 0., 0., 0., 0., 0., 1.]])"
            ]
          },
          "execution_count": 206,
          "metadata": {},
          "output_type": "execute_result"
        }
      ],
      "source": [
        "# Identity Matrix : https://en.wikipedia.org/wiki/Identity_matrix\n",
        "\n",
        "I = np.eye(9)\n",
        "I"
      ]
    },
    {
      "cell_type": "code",
      "execution_count": null,
      "metadata": {
        "id": "fzcHjGOaYDVM",
        "outputId": "f698d7f7-5e62-4a54-c90f-0748fb2118de"
      },
      "outputs": [
        {
          "data": {
            "text/plain": [
              "array([[1, 0, 0, 0, 0, 0, 0, 0],\n",
              "       [0, 2, 0, 0, 0, 0, 0, 0],\n",
              "       [0, 0, 3, 0, 0, 0, 0, 0],\n",
              "       [0, 0, 0, 4, 0, 0, 0, 0],\n",
              "       [0, 0, 0, 0, 5, 0, 0, 0],\n",
              "       [0, 0, 0, 0, 0, 6, 0, 0],\n",
              "       [0, 0, 0, 0, 0, 0, 7, 0],\n",
              "       [0, 0, 0, 0, 0, 0, 0, 8]])"
            ]
          },
          "execution_count": 207,
          "metadata": {},
          "output_type": "execute_result"
        }
      ],
      "source": [
        "# Diagonal Matrix : https://en.wikipedia.org/wiki/Diagonal_matrix\n",
        "\n",
        "D = np.diag([1,2,3,4,5,6,7,8])\n",
        "D"
      ]
    },
    {
      "cell_type": "code",
      "execution_count": null,
      "metadata": {
        "id": "g8lNg_QyYDVN",
        "outputId": "c0d75a8a-b587-4af2-f521-0a247bf81928"
      },
      "outputs": [
        {
          "name": "stdout",
          "output_type": "stream",
          "text": [
            "lower triangular matrix - \n",
            " [[ 0.65111795 -0.31931804 -0.84807698  0.60596535 -2.01816824]\n",
            " [ 0.74012206  0.52881349 -0.58900053  0.18869531 -0.75887206]\n",
            " [-0.93323722  0.95505651  0.19079432  1.97875732  2.60596728]\n",
            " [ 0.68350889  0.30266545  1.69372293 -1.70608593 -1.15911942]\n",
            " [-0.13484072  0.39052784  0.16690464  0.18450186  0.80770591]]\n",
            "\n",
            "\n",
            "lower triangular matrix - \n",
            " [[ 0.65111795  0.          0.          0.          0.        ]\n",
            " [ 0.74012206  0.52881349  0.          0.          0.        ]\n",
            " [-0.93323722  0.95505651  0.19079432  0.          0.        ]\n",
            " [ 0.68350889  0.30266545  1.69372293 -1.70608593  0.        ]\n",
            " [-0.13484072  0.39052784  0.16690464  0.18450186  0.80770591]]\n",
            "\n",
            "\n",
            "Upper triangular matrix - \n",
            " [[ 0.65111795 -0.31931804 -0.84807698  0.60596535 -2.01816824]\n",
            " [ 0.          0.52881349 -0.58900053  0.18869531 -0.75887206]\n",
            " [ 0.          0.          0.19079432  1.97875732  2.60596728]\n",
            " [ 0.          0.          0.         -1.70608593 -1.15911942]\n",
            " [ 0.          0.          0.          0.          0.80770591]]\n"
          ]
        }
      ],
      "source": [
        "# Traingular Matrices (lower & Upper triangular matrix) : https://en.wikipedia.org/wiki/Triangular_matrix\n",
        "\n",
        "M = np.random.randn(5,5)\n",
        "U = np.triu(M)\n",
        "L = np.tril(M)\n",
        "print(\"lower triangular matrix - \\n\" , M)\n",
        "print(\"\\n\")\n",
        "\n",
        "\n",
        "print(\"lower triangular matrix - \\n\" , L)\n",
        "print(\"\\n\")\n",
        "\n",
        "print(\"Upper triangular matrix - \\n\" , U)\n"
      ]
    },
    {
      "cell_type": "code",
      "execution_count": null,
      "metadata": {
        "id": "B8TYUH7mYDVx",
        "outputId": "99b9cadf-d751-484e-823e-50af95558761"
      },
      "outputs": [
        {
          "data": {
            "text/plain": [
              "array([[8, 8, 8, 8, 8],\n",
              "       [8, 8, 8, 8, 8],\n",
              "       [8, 8, 8, 8, 8],\n",
              "       [8, 8, 8, 8, 8],\n",
              "       [8, 8, 8, 8, 8]])"
            ]
          },
          "execution_count": 210,
          "metadata": {},
          "output_type": "execute_result"
        }
      ],
      "source": [
        "# Generate a 5X5 matrix with a given fill value of 8\n",
        "np.full((5,5) , 8)"
      ]
    },
    {
      "cell_type": "code",
      "execution_count": null,
      "metadata": {
        "id": "XHXXxORwYDVy",
        "outputId": "b0267e96-2ef4-4556-ec8f-5f62724abfaa"
      },
      "outputs": [
        {
          "data": {
            "text/plain": [
              "array([[13.51434265, 17.33567613, 19.13889527, 17.00987494, 13.88531272],\n",
              "       [19.42259289, 17.36491331, 12.38464388, 18.23773728, 17.60613445],\n",
              "       [13.94709074, 12.00187917, 17.12596473, 18.45308897, 13.68646541],\n",
              "       [14.36980119, 13.56597664, 12.39737407, 16.53378141, 13.90439201],\n",
              "       [16.57783018, 13.62273355, 13.56502014, 11.952516  , 19.87312751]])"
            ]
          },
          "execution_count": 371,
          "metadata": {},
          "output_type": "execute_result"
        }
      ],
      "source": [
        "# Generate 5X5 matrix of Random float numbers between 10 to 20\n",
        "np.random.uniform(10,20, size=(5,5))"
      ]
    },
    {
      "cell_type": "code",
      "execution_count": null,
      "metadata": {
        "id": "2TJnJMx7YDVy",
        "outputId": "e7d64073-e77d-40b9-8b85-7dbbf0c534c0"
      },
      "outputs": [
        {
          "data": {
            "text/plain": [
              "array([[ 1,  2,  3,  4],\n",
              "       [ 5,  6,  7,  8],\n",
              "       [10, 11, 12, 13],\n",
              "       [14, 15, 16, 17]])"
            ]
          },
          "execution_count": 211,
          "metadata": {},
          "output_type": "execute_result"
        }
      ],
      "source": [
        "A"
      ]
    },
    {
      "cell_type": "code",
      "execution_count": null,
      "metadata": {
        "id": "Kg9Kbc0vYDVy",
        "outputId": "c4a25090-e2d8-4a86-aad3-49266a8d87eb"
      },
      "outputs": [
        {
          "data": {
            "text/plain": [
              "array([ 1,  2,  3,  4,  5,  6,  7,  8, 10, 11, 12, 13, 14, 15, 16, 17])"
            ]
          },
          "execution_count": 645,
          "metadata": {},
          "output_type": "execute_result"
        }
      ],
      "source": [
        "# Collapse Matrix into one dimension array\n",
        "A.flatten()"
      ]
    },
    {
      "cell_type": "code",
      "execution_count": null,
      "metadata": {
        "id": "tMu4rV4BYDVz",
        "outputId": "6a06032d-c395-43b8-fb7b-736129351e01"
      },
      "outputs": [
        {
          "data": {
            "text/plain": [
              "array([ 1,  2,  3,  4,  5,  6,  7,  8, 10, 11, 12, 13, 14, 15, 16, 17])"
            ]
          },
          "execution_count": 646,
          "metadata": {},
          "output_type": "execute_result"
        }
      ],
      "source": [
        "# Collapse Matrix into one dimension array\n",
        "A.ravel()"
      ]
    },
    {
      "cell_type": "markdown",
      "metadata": {
        "id": "jnHeOlsHYDVz"
      },
      "source": [
        "# Reading elements of a Matrix"
      ]
    },
    {
      "cell_type": "code",
      "execution_count": null,
      "metadata": {
        "id": "I8Yo_tV0YDVz",
        "outputId": "832a4834-8924-4aaf-90af-2a2d301ca247"
      },
      "outputs": [
        {
          "data": {
            "text/plain": [
              "array([[ 1,  2,  3,  4],\n",
              "       [ 5,  6,  7,  8],\n",
              "       [10, 11, 12, 13],\n",
              "       [14, 15, 16, 17]])"
            ]
          },
          "execution_count": 153,
          "metadata": {},
          "output_type": "execute_result"
        }
      ],
      "source": [
        "A"
      ]
    },
    {
      "cell_type": "code",
      "execution_count": null,
      "metadata": {
        "id": "AXzhxVpgYDV0",
        "outputId": "d4d5a8ce-08d4-4740-aa76-db3514e5fa73"
      },
      "outputs": [
        {
          "data": {
            "text/plain": [
              "array([1, 2, 3, 4])"
            ]
          },
          "execution_count": 154,
          "metadata": {},
          "output_type": "execute_result"
        }
      ],
      "source": [
        "# Fetch first row of matrix\n",
        "A[0,]"
      ]
    },
    {
      "cell_type": "code",
      "execution_count": null,
      "metadata": {
        "id": "JWk4A1ULYDV0",
        "outputId": "6b940fc2-b011-4a27-a727-ca45ffa8de7d"
      },
      "outputs": [
        {
          "data": {
            "text/plain": [
              "array([ 1,  5, 10, 14])"
            ]
          },
          "execution_count": 155,
          "metadata": {},
          "output_type": "execute_result"
        }
      ],
      "source": [
        "# Fetch first column of matrix\n",
        "A[:,0]"
      ]
    },
    {
      "cell_type": "code",
      "execution_count": null,
      "metadata": {
        "id": "frnWZYKGYDV0",
        "outputId": "2d02a8ef-9887-4ecf-f8ef-51fd07f724a9"
      },
      "outputs": [
        {
          "data": {
            "text/plain": [
              "1"
            ]
          },
          "execution_count": 156,
          "metadata": {},
          "output_type": "execute_result"
        }
      ],
      "source": [
        "# Fetch first element of the matrix\n",
        "A[0,0]"
      ]
    },
    {
      "cell_type": "code",
      "execution_count": null,
      "metadata": {
        "id": "pwXohDo6YDV0",
        "outputId": "71d57df4-cb6e-47df-9e6c-fdb0cafeb657"
      },
      "outputs": [
        {
          "data": {
            "text/plain": [
              "array([[ 6,  7],\n",
              "       [11, 12]])"
            ]
          },
          "execution_count": 157,
          "metadata": {},
          "output_type": "execute_result"
        }
      ],
      "source": [
        "A[1:3 , 1:3]"
      ]
    },
    {
      "cell_type": "markdown",
      "metadata": {
        "id": "UDHCPXNrYDV1"
      },
      "source": [
        "# Reverse Rows / Columns of a Matrix"
      ]
    },
    {
      "cell_type": "code",
      "execution_count": null,
      "metadata": {
        "id": "jwF51il-YDV1",
        "outputId": "9287f511-5a1a-4405-d85b-2ff29eec8f25"
      },
      "outputs": [
        {
          "data": {
            "text/plain": [
              "array([[ 0,  1,  2,  3],\n",
              "       [ 4,  5,  6,  7],\n",
              "       [ 8,  9, 10, 11],\n",
              "       [12, 13, 14, 15]])"
            ]
          },
          "execution_count": 380,
          "metadata": {},
          "output_type": "execute_result"
        }
      ],
      "source": [
        "arr = np.arange(16).reshape(4,4)\n",
        "arr"
      ]
    },
    {
      "cell_type": "code",
      "execution_count": null,
      "metadata": {
        "id": "5zITCOfjYDV1",
        "outputId": "c84e8110-505e-40d7-9085-5876a68aecba"
      },
      "outputs": [
        {
          "data": {
            "text/plain": [
              "array([[12, 13, 14, 15],\n",
              "       [ 8,  9, 10, 11],\n",
              "       [ 4,  5,  6,  7],\n",
              "       [ 0,  1,  2,  3]])"
            ]
          },
          "execution_count": 381,
          "metadata": {},
          "output_type": "execute_result"
        }
      ],
      "source": [
        "# Reverse rows\n",
        "arr[::-1]"
      ]
    },
    {
      "cell_type": "code",
      "execution_count": null,
      "metadata": {
        "id": "TB4KFpkWYDV2",
        "outputId": "9aebbc65-b624-4b6b-a1d7-29582c42fbb6"
      },
      "outputs": [
        {
          "data": {
            "text/plain": [
              "array([[ 3,  2,  1,  0],\n",
              "       [ 7,  6,  5,  4],\n",
              "       [11, 10,  9,  8],\n",
              "       [15, 14, 13, 12]])"
            ]
          },
          "execution_count": 382,
          "metadata": {},
          "output_type": "execute_result"
        }
      ],
      "source": [
        "#Reverse Columns\n",
        "arr[:, ::-1]"
      ]
    },
    {
      "cell_type": "markdown",
      "metadata": {
        "id": "kPYkuUwgYDV2"
      },
      "source": [
        "# SWAP Rows & Columns"
      ]
    },
    {
      "cell_type": "code",
      "execution_count": null,
      "metadata": {
        "id": "C1Ea_43JYDV2",
        "outputId": "6ff7a6c7-912a-4f2d-a3b0-49d00ed2b43f"
      },
      "outputs": [
        {
          "data": {
            "text/plain": [
              "array([[ 0,  1,  2,  3],\n",
              "       [ 4,  5,  6,  7],\n",
              "       [ 8,  9, 10, 11],\n",
              "       [12, 13, 14, 15]])"
            ]
          },
          "execution_count": 890,
          "metadata": {},
          "output_type": "execute_result"
        }
      ],
      "source": [
        "m1 = np.arange(0,16).reshape(4,4)\n",
        "m1"
      ]
    },
    {
      "cell_type": "code",
      "execution_count": null,
      "metadata": {
        "id": "ckkw1pXYYDV2",
        "outputId": "83c012f8-1672-4083-9af6-c8cba8552c6f"
      },
      "outputs": [
        {
          "data": {
            "text/plain": [
              "array([[ 0,  1,  2,  3],\n",
              "       [ 4,  5,  6,  7],\n",
              "       [ 8,  9, 10, 11],\n",
              "       [12, 13, 14, 15]])"
            ]
          },
          "execution_count": 892,
          "metadata": {},
          "output_type": "execute_result"
        }
      ],
      "source": [
        "# SWAP rows 0 & 1\n",
        "m1[[0,1]] = m1[[1,0]]\n",
        "m1"
      ]
    },
    {
      "cell_type": "code",
      "execution_count": null,
      "metadata": {
        "id": "78KJXRXgYDV2",
        "outputId": "1a02ae31-cd70-4ac4-c1a1-5cd0d96be9e5"
      },
      "outputs": [
        {
          "data": {
            "text/plain": [
              "array([[ 0,  1,  2,  3],\n",
              "       [ 4,  5,  6,  7],\n",
              "       [12, 13, 14, 15],\n",
              "       [ 8,  9, 10, 11]])"
            ]
          },
          "execution_count": 893,
          "metadata": {},
          "output_type": "execute_result"
        }
      ],
      "source": [
        "# SWAP rows 2 & 3\n",
        "m1[[3,2]] = m1[[2,3]]\n",
        "m1"
      ]
    },
    {
      "cell_type": "code",
      "execution_count": null,
      "metadata": {
        "id": "Iv7Ti6GqYDV3",
        "outputId": "a6f63f6a-eead-469a-f489-58204b6a038f"
      },
      "outputs": [
        {
          "data": {
            "text/plain": [
              "array([[ 0,  1,  2,  3,  4,  5],\n",
              "       [ 6,  7,  8,  9, 10, 11],\n",
              "       [12, 13, 14, 15, 16, 17],\n",
              "       [18, 19, 20, 21, 22, 23],\n",
              "       [24, 25, 26, 27, 28, 29],\n",
              "       [30, 31, 32, 33, 34, 35]])"
            ]
          },
          "execution_count": 895,
          "metadata": {},
          "output_type": "execute_result"
        }
      ],
      "source": [
        "m2 = np.arange(0,36).reshape(6,6)\n",
        "m2"
      ]
    },
    {
      "cell_type": "code",
      "execution_count": null,
      "metadata": {
        "id": "IK_VZIUYYDV3",
        "outputId": "b4838314-ac9a-435c-afe3-f90c5e92c013"
      },
      "outputs": [
        {
          "data": {
            "text/plain": [
              "array([[ 6,  0,  2,  3,  4,  5],\n",
              "       [ 7,  6,  8,  9, 10, 11],\n",
              "       [13, 12, 14, 15, 16, 17],\n",
              "       [19, 18, 20, 21, 22, 23],\n",
              "       [25, 24, 26, 27, 28, 29],\n",
              "       [31, 30, 32, 33, 34, 35]])"
            ]
          },
          "execution_count": 897,
          "metadata": {},
          "output_type": "execute_result"
        }
      ],
      "source": [
        "# Swap columns 0 & 1\n",
        "m2[:,[0, 1]] = m2[:,[1, 0]]\n",
        "m2"
      ]
    },
    {
      "cell_type": "code",
      "execution_count": null,
      "metadata": {
        "id": "_R7P9yNUYDV3",
        "outputId": "93a551b6-7ed1-4a1c-f826-0b1e97787022"
      },
      "outputs": [
        {
          "data": {
            "text/plain": [
              "array([[ 6,  0,  3,  2,  4,  5],\n",
              "       [ 7,  6,  9,  8, 10, 11],\n",
              "       [13, 12, 15, 14, 16, 17],\n",
              "       [19, 18, 21, 20, 22, 23],\n",
              "       [25, 24, 27, 26, 28, 29],\n",
              "       [31, 30, 33, 32, 34, 35]])"
            ]
          },
          "execution_count": 898,
          "metadata": {},
          "output_type": "execute_result"
        }
      ],
      "source": [
        "# Swap columns 2 & 3\n",
        "m2[:,[2, 3]] = m2[:,[3, 2]]\n",
        "m2"
      ]
    },
    {
      "cell_type": "markdown",
      "metadata": {
        "id": "IOiEXFCPYDV3"
      },
      "source": [
        "# Concatenate Matrices"
      ]
    },
    {
      "cell_type": "markdown",
      "metadata": {
        "id": "WmsmNcS_YDV3"
      },
      "source": [
        "Matrix Concatenation : https://docs.scipy.org/doc/numpy/reference/generated/numpy.concatenate.html"
      ]
    },
    {
      "cell_type": "code",
      "execution_count": null,
      "metadata": {
        "id": "-ORiCQgDYDV4",
        "outputId": "6ab683dd-42c3-45b5-d123-074e9c89c13e"
      },
      "outputs": [
        {
          "data": {
            "text/plain": [
              "array([[1, 2],\n",
              "       [3, 4],\n",
              "       [5, 6],\n",
              "       [1, 1],\n",
              "       [1, 1]])"
            ]
          },
          "execution_count": 216,
          "metadata": {},
          "output_type": "execute_result"
        }
      ],
      "source": [
        "A = np.array([[1,2] , [3,4] ,[5,6]])\n",
        "B = np.array([[1,1] , [1,1]])\n",
        "C = np.concatenate((A,B))\n",
        "C"
      ]
    },
    {
      "cell_type": "markdown",
      "metadata": {
        "id": "rBrJLTHXYDV4"
      },
      "source": [
        "# Matrix Addition"
      ]
    },
    {
      "cell_type": "markdown",
      "metadata": {
        "id": "PfmIWnftYDV4"
      },
      "source": [
        "Matrix Addition : https://www.youtube.com/watch?v=ZCmVpGv6_1g"
      ]
    },
    {
      "cell_type": "code",
      "execution_count": null,
      "metadata": {
        "id": "PZke-TWtYDV4",
        "outputId": "ef0106c3-72fd-4d17-fa30-0cdfbfb5f26a"
      },
      "outputs": [
        {
          "name": "stdout",
          "output_type": "stream",
          "text": [
            "\n",
            " First Matrix (M)  ==>  \n",
            " [[ 1  2  3]\n",
            " [ 4 -3  6]\n",
            " [ 7  8  0]]\n",
            "\n",
            " Second Matrix (N)  ==>  \n",
            " [[1 1 1]\n",
            " [2 2 2]\n",
            " [3 3 3]]\n",
            "\n",
            " Matrix Addition (M+N)  ==>  \n",
            " [[ 2  3  4]\n",
            " [ 6 -1  8]\n",
            " [10 11  3]]\n",
            "\n",
            " Matrix Addition using np.add  ==>  \n",
            " [[ 2.  3.  4.]\n",
            " [ 6. -1.  8.]\n",
            " [10. 11.  3.]]\n"
          ]
        }
      ],
      "source": [
        "#********************************************************#\n",
        "M = np.array([[1,2,3],[4,-3,6],[7,8,0]])\n",
        "N = np.array([[1,1,1],[2,2,2],[3,3,3]])\n",
        "\n",
        "print(\"\\n First Matrix (M)  ==>  \\n\", M)\n",
        "print(\"\\n Second Matrix (N)  ==>  \\n\", N)\n",
        "\n",
        "C = M+N\n",
        "print(\"\\n Matrix Addition (M+N)  ==>  \\n\", C)\n",
        "\n",
        "# OR\n",
        "\n",
        "C = np.add(M,N,dtype = np.float64)\n",
        "print(\"\\n Matrix Addition using np.add  ==>  \\n\", C)\n",
        "\n",
        "#********************************************************#"
      ]
    },
    {
      "cell_type": "markdown",
      "metadata": {
        "id": "lT6vqE0UYDV4"
      },
      "source": [
        "# Matrix subtraction"
      ]
    },
    {
      "cell_type": "markdown",
      "metadata": {
        "id": "FuJtxcWPYDV5"
      },
      "source": [
        "Matrix subtraction : https://www.youtube.com/watch?v=7jb_AO_hRc8&list=PLmdFyQYShrjcoVkhCCIwxNj9N4rW1-T5I&index=8"
      ]
    },
    {
      "cell_type": "code",
      "execution_count": null,
      "metadata": {
        "id": "P3FVsrUHYDV7",
        "outputId": "ff79fc86-b64f-4de6-bfe1-34ab663fdd94"
      },
      "outputs": [
        {
          "name": "stdout",
          "output_type": "stream",
          "text": [
            "\n",
            " First Matrix (M)  ==>  \n",
            " [[ 1  2  3]\n",
            " [ 4 -3  6]\n",
            " [ 7  8  0]]\n",
            "\n",
            " Second Matrix (N)  ==>  \n",
            " [[1 1 1]\n",
            " [2 2 2]\n",
            " [3 3 3]]\n",
            "\n",
            " Matrix Subtraction (M-N)  ==>  \n",
            " [[ 0  1  2]\n",
            " [ 2 -5  4]\n",
            " [ 4  5 -3]]\n",
            "\n",
            " Matrix Subtraction using np.subtract  ==>  \n",
            " [[ 0.  1.  2.]\n",
            " [ 2. -5.  4.]\n",
            " [ 4.  5. -3.]]\n"
          ]
        }
      ],
      "source": [
        "#********************************************************#\n",
        "M = np.array([[1,2,3],[4,-3,6],[7,8,0]])\n",
        "N = np.array([[1,1,1],[2,2,2],[3,3,3]])\n",
        "\n",
        "print(\"\\n First Matrix (M)  ==>  \\n\", M)\n",
        "print(\"\\n Second Matrix (N)  ==>  \\n\", N)\n",
        "\n",
        "C = M-N\n",
        "print(\"\\n Matrix Subtraction (M-N)  ==>  \\n\", C)\n",
        "\n",
        "# OR\n",
        "\n",
        "C = np.subtract(M,N,dtype = np.float64)\n",
        "print(\"\\n Matrix Subtraction using np.subtract  ==>  \\n\", C)\n",
        "\n",
        "#********************************************************#"
      ]
    },
    {
      "cell_type": "markdown",
      "metadata": {
        "id": "Wz3RGIQTYDV8"
      },
      "source": [
        "# Matrices Scalar Multiplication"
      ]
    },
    {
      "cell_type": "markdown",
      "metadata": {
        "id": "h6-nuPHqYDV8"
      },
      "source": [
        "Matrices Scalar Multiplication : https://www.youtube.com/watch?v=4lHyTQH1iS8&list=PLmdFyQYShrjcoVkhCCIwxNj9N4rW1-T5I&index=9"
      ]
    },
    {
      "cell_type": "code",
      "execution_count": null,
      "metadata": {
        "id": "dnh7iskxYDV8",
        "outputId": "9bb29234-bf54-40e6-f0c1-b52ade92b860"
      },
      "outputs": [
        {
          "name": "stdout",
          "output_type": "stream",
          "text": [
            "\n",
            " Matrix (M)  ==>  \n",
            " [[ 1  2  3]\n",
            " [ 4 -3  6]\n",
            " [ 7  8  0]]\n",
            "\n",
            "Matrices Scalar Multiplication ==>  \n",
            " [[ 10  20  30]\n",
            " [ 40 -30  60]\n",
            " [ 70  80   0]]\n",
            "\n",
            "Matrices Scalar Multiplication ==>  \n",
            " [[ 10  20  30]\n",
            " [ 40 -30  60]\n",
            " [ 70  80   0]]\n"
          ]
        }
      ],
      "source": [
        "M = np.array([[1,2,3],[4,-3,6],[7,8,0]])\n",
        "\n",
        "C = 10\n",
        "\n",
        "print(\"\\n Matrix (M)  ==>  \\n\", M)\n",
        "\n",
        "print(\"\\nMatrices Scalar Multiplication ==>  \\n\", C*M)\n",
        "\n",
        "# OR\n",
        "\n",
        "print(\"\\nMatrices Scalar Multiplication ==>  \\n\", np.multiply(C,M))"
      ]
    },
    {
      "cell_type": "markdown",
      "metadata": {
        "id": "cZieOePcYDV8"
      },
      "source": [
        "# Transpose of a matrix\n"
      ]
    },
    {
      "cell_type": "markdown",
      "metadata": {
        "id": "DjAZuiIZYDV9"
      },
      "source": [
        "Transpose of a matrix : https://www.youtube.com/watch?v=g_Rz94DXvNo&list=PLmdFyQYShrjcoVkhCCIwxNj9N4rW1-T5I&index=13"
      ]
    },
    {
      "cell_type": "code",
      "execution_count": null,
      "metadata": {
        "id": "QI15T4DaYDV9",
        "outputId": "5414ccff-eed5-4fd9-f977-1ec32f3c9a9f"
      },
      "outputs": [
        {
          "name": "stdout",
          "output_type": "stream",
          "text": [
            "\n",
            " Matrix (M)  ==>  \n",
            " [[ 1  2  3]\n",
            " [ 4 -3  6]\n",
            " [ 7  8  0]]\n",
            "\n",
            "Transpose of M ==>  \n",
            " [[ 1  4  7]\n",
            " [ 2 -3  8]\n",
            " [ 3  6  0]]\n",
            "\n",
            "Transpose of M ==>  \n",
            " [[ 1  4  7]\n",
            " [ 2 -3  8]\n",
            " [ 3  6  0]]\n"
          ]
        }
      ],
      "source": [
        "M = np.array([[1,2,3],[4,-3,6],[7,8,0]])\n",
        "\n",
        "print(\"\\n Matrix (M)  ==>  \\n\", M)\n",
        "\n",
        "print(\"\\nTranspose of M ==>  \\n\", np.transpose(M))\n",
        "\n",
        "# OR\n",
        "\n",
        "print(\"\\nTranspose of M ==>  \\n\", M.T)"
      ]
    },
    {
      "cell_type": "markdown",
      "metadata": {
        "id": "iadvmIh9YDV9"
      },
      "source": [
        "# Determinant of a matrix\n"
      ]
    },
    {
      "cell_type": "markdown",
      "metadata": {
        "id": "M-hhRgK_YDV9"
      },
      "source": [
        "Determinant of a matrix :\n",
        "\n",
        "https://www.youtube.com/watch?v=21LWuY8i6Hw&t=88s\n",
        "    \n",
        "https://www.youtube.com/watch?v=Ip3X9LOh2dk&list=PLZHQObOWTQDPD3MizzM2xVFitgF8hE_ab&index=6"
      ]
    },
    {
      "cell_type": "code",
      "execution_count": null,
      "metadata": {
        "id": "2R_XUNShYDV9",
        "outputId": "49aae005-f54b-4b0b-87fd-2897137696c3"
      },
      "outputs": [
        {
          "name": "stdout",
          "output_type": "stream",
          "text": [
            "\n",
            " Matrix (M)  ==>  \n",
            " [[ 1  2  3]\n",
            " [ 4 -3  6]\n",
            " [ 7  8  0]]\n",
            "\n",
            "Determinant of M ==>   195.0\n"
          ]
        }
      ],
      "source": [
        "M = np.array([[1,2,3],[4,-3,6],[7,8,0]])\n",
        "\n",
        "print(\"\\n Matrix (M)  ==>  \\n\", M)\n",
        "\n",
        "print(\"\\nDeterminant of M ==>  \", np.linalg.det(M))"
      ]
    },
    {
      "cell_type": "markdown",
      "metadata": {
        "id": "YF4NX3rXYDV-"
      },
      "source": [
        "# Rank of a matrix"
      ]
    },
    {
      "cell_type": "code",
      "execution_count": null,
      "metadata": {
        "id": "Mh6yHPUYYDV-",
        "outputId": "8a987678-ba73-4002-aa0b-88f965f571d9"
      },
      "outputs": [
        {
          "name": "stdout",
          "output_type": "stream",
          "text": [
            "\n",
            " Matrix (M)  ==>  \n",
            " [[ 1  2  3]\n",
            " [ 4 -3  6]\n",
            " [ 7  8  0]]\n",
            "\n",
            "Rank of M ==>  3\n"
          ]
        }
      ],
      "source": [
        "M = np.array([[1,2,3],[4,-3,6],[7,8,0]])\n",
        "\n",
        "print(\"\\n Matrix (M)  ==>  \\n\", M)\n",
        "\n",
        "print(\"\\nRank of M ==> \", np.linalg.matrix_rank(M))"
      ]
    },
    {
      "cell_type": "markdown",
      "metadata": {
        "id": "qc22bDcfYDWU"
      },
      "source": [
        "# Trace of matrix"
      ]
    },
    {
      "cell_type": "code",
      "execution_count": null,
      "metadata": {
        "id": "dxMWD0ZzYDWU",
        "outputId": "b4bb3d46-7147-4e76-d474-205fe58e607b"
      },
      "outputs": [
        {
          "name": "stdout",
          "output_type": "stream",
          "text": [
            "\n",
            " Matrix (M)  ==>  \n",
            " [[ 1  2  3]\n",
            " [ 4 -3  6]\n",
            " [ 7  8  0]]\n",
            "\n",
            "Trace of M ==>  -2\n"
          ]
        }
      ],
      "source": [
        "M = np.array([[1,2,3],[4,-3,6],[7,8,0]])\n",
        "\n",
        "print(\"\\n Matrix (M)  ==>  \\n\", M)\n",
        "\n",
        "print(\"\\nTrace of M ==> \", np.trace(M))"
      ]
    },
    {
      "cell_type": "markdown",
      "metadata": {
        "id": "JHHuf6ZnYDWU"
      },
      "source": [
        "# Inverse of matrix A\n"
      ]
    },
    {
      "cell_type": "markdown",
      "metadata": {
        "id": "MoT6XfWGYDWV"
      },
      "source": [
        "Inverse of matrix : https://www.youtube.com/watch?v=pKZyszzmyeQ"
      ]
    },
    {
      "cell_type": "code",
      "execution_count": null,
      "metadata": {
        "id": "NHE4VhHLYDWV",
        "outputId": "fc989bda-ad15-4478-b080-1a90e9899877"
      },
      "outputs": [
        {
          "name": "stdout",
          "output_type": "stream",
          "text": [
            "\n",
            " Matrix (M)  ==>  \n",
            " [[ 1  2  3]\n",
            " [ 4 -3  6]\n",
            " [ 7  8  0]]\n",
            "\n",
            "Inverse of M ==> \n",
            " [[-0.24615385  0.12307692  0.10769231]\n",
            " [ 0.21538462 -0.10769231  0.03076923]\n",
            " [ 0.27179487  0.03076923 -0.05641026]]\n"
          ]
        }
      ],
      "source": [
        "M = np.array([[1,2,3],[4,-3,6],[7,8,0]])\n",
        "\n",
        "print(\"\\n Matrix (M)  ==>  \\n\", M)\n",
        "\n",
        "print(\"\\nInverse of M ==> \\n\", np.linalg.inv(M))"
      ]
    },
    {
      "cell_type": "markdown",
      "metadata": {
        "id": "NwxV5jGeYDWV"
      },
      "source": [
        "# Matrix Multiplication (pointwise multiplication)"
      ]
    },
    {
      "cell_type": "code",
      "execution_count": null,
      "metadata": {
        "id": "gnS06BBuYDWV",
        "outputId": "eb68f134-293e-4512-8e48-ae6aadeadf77"
      },
      "outputs": [
        {
          "name": "stdout",
          "output_type": "stream",
          "text": [
            "\n",
            " First Matrix (M)  ==>  \n",
            " [[ 1  2  3]\n",
            " [ 4 -3  6]\n",
            " [ 7  8  0]]\n",
            "\n",
            " Second Matrix (N)  ==>  \n",
            " [[1 1 1]\n",
            " [2 2 2]\n",
            " [3 3 3]]\n",
            "\n",
            " Point-Wise Multiplication of M & N  ==> \n",
            " [[ 1  2  3]\n",
            " [ 8 -6 12]\n",
            " [21 24  0]]\n",
            "\n",
            " Point-Wise Multiplication of M & N  ==> \n",
            " [[ 1  2  3]\n",
            " [ 8 -6 12]\n",
            " [21 24  0]]\n"
          ]
        }
      ],
      "source": [
        "M = np.array([[1,2,3],[4,-3,6],[7,8,0]])\n",
        "N = np.array([[1,1,1],[2,2,2],[3,3,3]])\n",
        "\n",
        "print(\"\\n First Matrix (M)  ==>  \\n\", M)\n",
        "print(\"\\n Second Matrix (N)  ==>  \\n\", N)\n",
        "\n",
        "print(\"\\n Point-Wise Multiplication of M & N  ==> \\n\", M*N)\n",
        "\n",
        "# OR\n",
        "\n",
        "print(\"\\n Point-Wise Multiplication of M & N  ==> \\n\", np.multiply(M,N))"
      ]
    },
    {
      "cell_type": "markdown",
      "metadata": {
        "id": "7GdcMu45YDWV"
      },
      "source": [
        "# Matrix dot product"
      ]
    },
    {
      "cell_type": "markdown",
      "metadata": {
        "id": "QfArjbjdYDWV"
      },
      "source": [
        "Matrix Multiplication :\n",
        "\n",
        "https://www.youtube.com/watch?v=vzt9c7iWPxs&t=207s\n",
        "\n",
        "https://www.youtube.com/watch?v=XkY2DOUCWMU&list=PLZHQObOWTQDPD3MizzM2xVFitgF8hE_ab&index=4"
      ]
    },
    {
      "cell_type": "code",
      "execution_count": null,
      "metadata": {
        "id": "vq-xxew7YDWW",
        "outputId": "b212f497-34fe-420c-d378-f9f67c203e19"
      },
      "outputs": [
        {
          "name": "stdout",
          "output_type": "stream",
          "text": [
            "\n",
            " First Matrix (M)  ==>  \n",
            " [[ 1  2  3]\n",
            " [ 4 -3  6]\n",
            " [ 7  8  0]]\n",
            "\n",
            " Second Matrix (N)  ==>  \n",
            " [[1 1 1]\n",
            " [2 2 2]\n",
            " [3 3 3]]\n",
            "\n",
            " Matrix Dot Product ==> \n",
            " [[14 14 14]\n",
            " [16 16 16]\n",
            " [23 23 23]]\n",
            "\n",
            " Matrix Dot Product using np.matmul ==> \n",
            " [[14 14 14]\n",
            " [16 16 16]\n",
            " [23 23 23]]\n",
            "\n",
            " Matrix Dot Product using np.dot ==> \n",
            " [[14 14 14]\n",
            " [16 16 16]\n",
            " [23 23 23]]\n"
          ]
        }
      ],
      "source": [
        "M = np.array([[1,2,3],[4,-3,6],[7,8,0]])\n",
        "N = np.array([[1,1,1],[2,2,2],[3,3,3]])\n",
        "\n",
        "print(\"\\n First Matrix (M)  ==>  \\n\", M)\n",
        "print(\"\\n Second Matrix (N)  ==>  \\n\", N)\n",
        "\n",
        "print(\"\\n Matrix Dot Product ==> \\n\", M@N)\n",
        "\n",
        "# OR\n",
        "\n",
        "print(\"\\n Matrix Dot Product using np.matmul ==> \\n\", np.matmul(M,N))\n",
        "\n",
        "# OR\n",
        "\n",
        "print(\"\\n Matrix Dot Product using np.dot ==> \\n\", np.dot(M,N))"
      ]
    },
    {
      "cell_type": "markdown",
      "metadata": {
        "id": "IidtDnlgYDWW"
      },
      "source": [
        "# Matrix Division"
      ]
    },
    {
      "cell_type": "code",
      "execution_count": null,
      "metadata": {
        "id": "xOZ_TPGtYDWW",
        "outputId": "3a1182ae-33a1-4780-9f45-d6305edd6a58"
      },
      "outputs": [
        {
          "name": "stdout",
          "output_type": "stream",
          "text": [
            "\n",
            " First Matrix (M)  ==>  \n",
            " [[ 1  2  3]\n",
            " [ 4 -3  6]\n",
            " [ 7  8  0]]\n",
            "\n",
            " Second Matrix (N)  ==>  \n",
            " [[1 1 1]\n",
            " [2 2 2]\n",
            " [3 3 3]]\n",
            "\n",
            " Matrix Division (M/N)   ==> \n",
            " [[ 1.          2.          3.        ]\n",
            " [ 2.         -1.5         3.        ]\n",
            " [ 2.33333333  2.66666667  0.        ]]\n",
            "\n",
            " Matrix Division (M/N)   ==> \n",
            " [[ 1.          2.          3.        ]\n",
            " [ 2.         -1.5         3.        ]\n",
            " [ 2.33333333  2.66666667  0.        ]]\n"
          ]
        }
      ],
      "source": [
        "M = np.array([[1,2,3],[4,-3,6],[7,8,0]])\n",
        "N = np.array([[1,1,1],[2,2,2],[3,3,3]])\n",
        "\n",
        "print(\"\\n First Matrix (M)  ==>  \\n\", M)\n",
        "print(\"\\n Second Matrix (N)  ==>  \\n\", N)\n",
        "\n",
        "\n",
        "print(\"\\n Matrix Division (M/N)   ==> \\n\", M/N)\n",
        "\n",
        "# OR\n",
        "\n",
        "print(\"\\n Matrix Division (M/N)   ==> \\n\", np.divide(M,N))"
      ]
    },
    {
      "cell_type": "markdown",
      "metadata": {
        "id": "NafWfBaQYDWW"
      },
      "source": [
        "# Sum of all elements in a matrix"
      ]
    },
    {
      "cell_type": "code",
      "execution_count": null,
      "metadata": {
        "id": "gHwCfrMSYDWW",
        "outputId": "5786bc02-2f13-4636-aa99-f0eb253f1b53"
      },
      "outputs": [
        {
          "name": "stdout",
          "output_type": "stream",
          "text": [
            "\n",
            " Matrix (N)  ==>  \n",
            " [[1 1 1]\n",
            " [2 2 2]\n",
            " [3 3 3]]\n",
            "Sum of all elements in a Matrix  ==>\n",
            "18\n"
          ]
        }
      ],
      "source": [
        "N = np.array([[1,1,1],[2,2,2],[3,3,3]])\n",
        "\n",
        "print(\"\\n Matrix (N)  ==>  \\n\", N)\n",
        "\n",
        "\n",
        "print (\"Sum of all elements in a Matrix  ==>\")\n",
        "print (np.sum(N))"
      ]
    },
    {
      "cell_type": "markdown",
      "metadata": {
        "id": "LBdQjEMvYDWW"
      },
      "source": [
        "# Column-Wise Addition"
      ]
    },
    {
      "cell_type": "code",
      "execution_count": null,
      "metadata": {
        "id": "MDXmYPpmYDWX",
        "outputId": "618e9fa5-4dff-403a-84b0-8776ebf0b268"
      },
      "outputs": [
        {
          "name": "stdout",
          "output_type": "stream",
          "text": [
            "\n",
            " Matrix (N)  ==>  \n",
            " [[1 1 1]\n",
            " [2 2 2]\n",
            " [3 3 3]]\n",
            "Column-Wise summation ==> \n",
            "[6 6 6]\n"
          ]
        }
      ],
      "source": [
        "N = np.array([[1,1,1],[2,2,2],[3,3,3]])\n",
        "\n",
        "print(\"\\n Matrix (N)  ==>  \\n\", N)\n",
        "\n",
        "print (\"Column-Wise summation ==> \")\n",
        "print (np.sum(N,axis=0))"
      ]
    },
    {
      "cell_type": "markdown",
      "metadata": {
        "id": "Irbv_hSBYDWX"
      },
      "source": [
        "# Row-Wise Addition"
      ]
    },
    {
      "cell_type": "code",
      "execution_count": null,
      "metadata": {
        "id": "VWqU5pafYDWX",
        "outputId": "3067b6b4-3f4e-4abf-c3e3-d181d19a0836"
      },
      "outputs": [
        {
          "name": "stdout",
          "output_type": "stream",
          "text": [
            "\n",
            " Matrix (N)  ==>  \n",
            " [[1 1 1]\n",
            " [2 2 2]\n",
            " [3 3 3]]\n",
            "Row-Wise summation  ==>\n",
            "[3 6 9]\n"
          ]
        }
      ],
      "source": [
        "N = np.array([[1,1,1],[2,2,2],[3,3,3]])\n",
        "\n",
        "print(\"\\n Matrix (N)  ==>  \\n\", N)\n",
        "\n",
        "print (\"Row-Wise summation  ==>\")\n",
        "print (np.sum(N,axis=1))"
      ]
    },
    {
      "cell_type": "markdown",
      "metadata": {
        "id": "mIPskTKvYDWX"
      },
      "source": [
        "# Kronecker Product of matrices\n"
      ]
    },
    {
      "cell_type": "markdown",
      "metadata": {
        "id": "B8KwJslgYDWX"
      },
      "source": [
        "Kronecker Product of matrices : https://www.youtube.com/watch?v=e1UJXvu8VZk"
      ]
    },
    {
      "cell_type": "code",
      "execution_count": null,
      "metadata": {
        "id": "mfZt2orZYDWX",
        "outputId": "66300ce2-fd79-4e58-9838-628777c4b17f"
      },
      "outputs": [
        {
          "data": {
            "text/plain": [
              "array([[1, 2, 3],\n",
              "       [4, 5, 6]])"
            ]
          },
          "execution_count": 235,
          "metadata": {},
          "output_type": "execute_result"
        }
      ],
      "source": [
        "M1 = np.array([[1,2,3] , [4,5,6]]) \n",
        "M1"
      ]
    },
    {
      "cell_type": "code",
      "execution_count": null,
      "metadata": {
        "id": "4QCV4EiTYDWX",
        "outputId": "b36e0013-30a1-466e-8aa1-8e4426520cd9"
      },
      "outputs": [
        {
          "data": {
            "text/plain": [
              "array([[10, 10, 10],\n",
              "       [10, 10, 10]])"
            ]
          },
          "execution_count": 236,
          "metadata": {},
          "output_type": "execute_result"
        }
      ],
      "source": [
        "M2 = np.array([[10,10,10],[10,10,10]])\n",
        "M2"
      ]
    },
    {
      "cell_type": "code",
      "execution_count": null,
      "metadata": {
        "id": "s4apgtoAYDWY",
        "outputId": "6dfbf3c5-3b4e-42b8-fcba-85e762cdbb6d"
      },
      "outputs": [
        {
          "data": {
            "text/plain": [
              "array([[10, 10, 10, 20, 20, 20, 30, 30, 30],\n",
              "       [10, 10, 10, 20, 20, 20, 30, 30, 30],\n",
              "       [40, 40, 40, 50, 50, 50, 60, 60, 60],\n",
              "       [40, 40, 40, 50, 50, 50, 60, 60, 60]])"
            ]
          },
          "execution_count": 237,
          "metadata": {},
          "output_type": "execute_result"
        }
      ],
      "source": [
        "np.kron(M1,M2)"
      ]
    },
    {
      "cell_type": "markdown",
      "metadata": {
        "id": "9dWgE_keYDWY"
      },
      "source": [
        "# Matrix Powers"
      ]
    },
    {
      "cell_type": "code",
      "execution_count": null,
      "metadata": {
        "id": "FBAUjqlnYDWY",
        "outputId": "d8d70554-c6e2-4ae2-95cb-bfa34a0c64b0"
      },
      "outputs": [
        {
          "data": {
            "text/plain": [
              "array([[1, 2],\n",
              "       [4, 5]])"
            ]
          },
          "execution_count": 238,
          "metadata": {},
          "output_type": "execute_result"
        }
      ],
      "source": [
        "M1 = np.array([[1,2],[4,5]])\n",
        "M1"
      ]
    },
    {
      "cell_type": "code",
      "execution_count": null,
      "metadata": {
        "id": "t8dWM2C0YDWY",
        "outputId": "7974e332-e286-4f22-84cf-644857cc5850"
      },
      "outputs": [
        {
          "data": {
            "text/plain": [
              "array([[ 57,  78],\n",
              "       [156, 213]])"
            ]
          },
          "execution_count": 239,
          "metadata": {},
          "output_type": "execute_result"
        }
      ],
      "source": [
        "#Matrix to the power 3\n",
        "\n",
        "M1@M1@M1"
      ]
    },
    {
      "cell_type": "code",
      "execution_count": null,
      "metadata": {
        "id": "RNb-kYbcYDWY",
        "outputId": "d431fa2b-2c89-481b-b555-41380cad6a8d"
      },
      "outputs": [
        {
          "data": {
            "text/plain": [
              "array([[ 57,  78],\n",
              "       [156, 213]])"
            ]
          },
          "execution_count": 240,
          "metadata": {},
          "output_type": "execute_result"
        }
      ],
      "source": [
        "#Matrix to the power 3\n",
        "\n",
        "np.linalg.matrix_power(M1,3)"
      ]
    },
    {
      "cell_type": "markdown",
      "metadata": {
        "id": "rZpuuPg7YDWZ"
      },
      "source": [
        "# Tensor"
      ]
    },
    {
      "cell_type": "markdown",
      "metadata": {
        "id": "AEGee8Y_YDWZ"
      },
      "source": [
        "What is Tensor :\n",
        "   - https://www.youtube.com/watch?v=f5liqUk0ZTw\n",
        "   - https://www.youtube.com/watch?v=bpG3gqDM80w&t=634s\n",
        "   - https://www.youtube.com/watch?v=uaQeXi4E7gA"
      ]
    },
    {
      "cell_type": "code",
      "execution_count": null,
      "metadata": {
        "id": "XuBcXjzsYDWZ",
        "outputId": "fee9f20d-656e-4382-cad1-3c98317e6d44"
      },
      "outputs": [
        {
          "data": {
            "text/plain": [
              "array([[[  1,   2,   3],\n",
              "        [  4,   5,   6],\n",
              "        [  7,   8,   9]],\n",
              "\n",
              "       [[ 10,  20,  30],\n",
              "        [ 40,  50,  60],\n",
              "        [ 70,  80,  90]],\n",
              "\n",
              "       [[100, 200, 300],\n",
              "        [400, 500, 600],\n",
              "        [700, 800, 900]]])"
            ]
          },
          "execution_count": 242,
          "metadata": {},
          "output_type": "execute_result"
        }
      ],
      "source": [
        "# Create Tensor\n",
        "\n",
        "T1 = np.array([\n",
        "  [[1,2,3],    [4,5,6],    [7,8,9]],\n",
        "  [[10,20,30], [40,50,60], [70,80,90]],\n",
        "  [[100,200,300], [400,500,600], [700,800,900]],\n",
        "  ])\n",
        "\n",
        "T1"
      ]
    },
    {
      "cell_type": "code",
      "execution_count": null,
      "metadata": {
        "id": "cMVPX3htYDWZ",
        "outputId": "0da08e25-8854-40b6-ac57-914bd871e2fb"
      },
      "outputs": [
        {
          "data": {
            "text/plain": [
              "array([[[0, 0, 0],\n",
              "        [0, 0, 0],\n",
              "        [0, 0, 0]],\n",
              "\n",
              "       [[1, 1, 1],\n",
              "        [1, 1, 1],\n",
              "        [1, 1, 1]],\n",
              "\n",
              "       [[2, 2, 2],\n",
              "        [2, 2, 2],\n",
              "        [2, 2, 2]]])"
            ]
          },
          "execution_count": 243,
          "metadata": {},
          "output_type": "execute_result"
        }
      ],
      "source": [
        "T2 = np.array([\n",
        "  [[0,0,0] , [0,0,0] , [0,0,0]],\n",
        "  [[1,1,1] , [1,1,1] , [1,1,1]],\n",
        "  [[2,2,2] , [2,2,2] , [2,2,2]]\n",
        "    \n",
        "])\n",
        "\n",
        "T2"
      ]
    },
    {
      "cell_type": "markdown",
      "metadata": {
        "id": "19jViUbsYDWZ"
      },
      "source": [
        "# Tensor Addition"
      ]
    },
    {
      "cell_type": "code",
      "execution_count": null,
      "metadata": {
        "id": "33FmRAFWYDWZ",
        "outputId": "3f32e69f-ce51-4f81-f033-dd3653e588d9"
      },
      "outputs": [
        {
          "data": {
            "text/plain": [
              "array([[[  1,   2,   3],\n",
              "        [  4,   5,   6],\n",
              "        [  7,   8,   9]],\n",
              "\n",
              "       [[ 11,  21,  31],\n",
              "        [ 41,  51,  61],\n",
              "        [ 71,  81,  91]],\n",
              "\n",
              "       [[102, 202, 302],\n",
              "        [402, 502, 602],\n",
              "        [702, 802, 902]]])"
            ]
          },
          "execution_count": 244,
          "metadata": {},
          "output_type": "execute_result"
        }
      ],
      "source": [
        "A = T1+T2\n",
        "A"
      ]
    },
    {
      "cell_type": "code",
      "execution_count": null,
      "metadata": {
        "id": "-6G89LWjYDWZ",
        "outputId": "f1f19589-0bea-4543-c023-e0c3bf5aa862"
      },
      "outputs": [
        {
          "data": {
            "text/plain": [
              "array([[[  1,   2,   3],\n",
              "        [  4,   5,   6],\n",
              "        [  7,   8,   9]],\n",
              "\n",
              "       [[ 11,  21,  31],\n",
              "        [ 41,  51,  61],\n",
              "        [ 71,  81,  91]],\n",
              "\n",
              "       [[102, 202, 302],\n",
              "        [402, 502, 602],\n",
              "        [702, 802, 902]]])"
            ]
          },
          "execution_count": 245,
          "metadata": {},
          "output_type": "execute_result"
        }
      ],
      "source": [
        "np.add(T1,T2)"
      ]
    },
    {
      "cell_type": "markdown",
      "metadata": {
        "id": "__j4A_msYDWa"
      },
      "source": [
        "# Tensor Subtraction"
      ]
    },
    {
      "cell_type": "code",
      "execution_count": null,
      "metadata": {
        "id": "pPHSK1k6YDWa",
        "outputId": "20891855-861e-4f5c-a1e7-8eebb044be82"
      },
      "outputs": [
        {
          "data": {
            "text/plain": [
              "array([[[  1,   2,   3],\n",
              "        [  4,   5,   6],\n",
              "        [  7,   8,   9]],\n",
              "\n",
              "       [[  9,  19,  29],\n",
              "        [ 39,  49,  59],\n",
              "        [ 69,  79,  89]],\n",
              "\n",
              "       [[ 98, 198, 298],\n",
              "        [398, 498, 598],\n",
              "        [698, 798, 898]]])"
            ]
          },
          "execution_count": 246,
          "metadata": {},
          "output_type": "execute_result"
        }
      ],
      "source": [
        "S = T1-T2\n",
        "S"
      ]
    },
    {
      "cell_type": "code",
      "execution_count": null,
      "metadata": {
        "id": "BtVqS_bSYDWa",
        "outputId": "6323aa24-1da7-4219-e5fb-c3e94088d4ad"
      },
      "outputs": [
        {
          "data": {
            "text/plain": [
              "array([[[  1,   2,   3],\n",
              "        [  4,   5,   6],\n",
              "        [  7,   8,   9]],\n",
              "\n",
              "       [[  9,  19,  29],\n",
              "        [ 39,  49,  59],\n",
              "        [ 69,  79,  89]],\n",
              "\n",
              "       [[ 98, 198, 298],\n",
              "        [398, 498, 598],\n",
              "        [698, 798, 898]]])"
            ]
          },
          "execution_count": 247,
          "metadata": {},
          "output_type": "execute_result"
        }
      ],
      "source": [
        "np.subtract(T1,T2)"
      ]
    },
    {
      "cell_type": "markdown",
      "metadata": {
        "id": "cBmQLcFlYDWa"
      },
      "source": [
        "# Tensor Element-Wise Product"
      ]
    },
    {
      "cell_type": "code",
      "execution_count": null,
      "metadata": {
        "id": "HE92h4jhYDWb",
        "outputId": "7f90ddcf-5bf7-46b2-f818-4613c75fc2e4"
      },
      "outputs": [
        {
          "data": {
            "text/plain": [
              "array([[[   0,    0,    0],\n",
              "        [   0,    0,    0],\n",
              "        [   0,    0,    0]],\n",
              "\n",
              "       [[  10,   20,   30],\n",
              "        [  40,   50,   60],\n",
              "        [  70,   80,   90]],\n",
              "\n",
              "       [[ 200,  400,  600],\n",
              "        [ 800, 1000, 1200],\n",
              "        [1400, 1600, 1800]]])"
            ]
          },
          "execution_count": 248,
          "metadata": {},
          "output_type": "execute_result"
        }
      ],
      "source": [
        "P = T1*T2\n",
        "P"
      ]
    },
    {
      "cell_type": "code",
      "execution_count": null,
      "metadata": {
        "id": "OVCYdinMYDWb",
        "outputId": "6d919a53-abcd-4965-9ac9-f37c89c3ac57"
      },
      "outputs": [
        {
          "data": {
            "text/plain": [
              "array([[[   0,    0,    0],\n",
              "        [   0,    0,    0],\n",
              "        [   0,    0,    0]],\n",
              "\n",
              "       [[  10,   20,   30],\n",
              "        [  40,   50,   60],\n",
              "        [  70,   80,   90]],\n",
              "\n",
              "       [[ 200,  400,  600],\n",
              "        [ 800, 1000, 1200],\n",
              "        [1400, 1600, 1800]]])"
            ]
          },
          "execution_count": 249,
          "metadata": {},
          "output_type": "execute_result"
        }
      ],
      "source": [
        "np.multiply(T1,T2)"
      ]
    },
    {
      "cell_type": "markdown",
      "metadata": {
        "id": "cx602fYNYDWb"
      },
      "source": [
        "# Tensor Element-Wise Division"
      ]
    },
    {
      "cell_type": "code",
      "execution_count": null,
      "metadata": {
        "id": "rGS31OyrYDWb",
        "outputId": "f2f00cdf-2b23-40bf-c061-2a84b1f11586"
      },
      "outputs": [
        {
          "name": "stderr",
          "output_type": "stream",
          "text": [
            "C:\\Anaconda\\lib\\site-packages\\ipykernel_launcher.py:1: RuntimeWarning: divide by zero encountered in true_divide\n",
            "  \"\"\"Entry point for launching an IPython kernel.\n"
          ]
        },
        {
          "data": {
            "text/plain": [
              "array([[[ inf,  inf,  inf],\n",
              "        [ inf,  inf,  inf],\n",
              "        [ inf,  inf,  inf]],\n",
              "\n",
              "       [[ 10.,  20.,  30.],\n",
              "        [ 40.,  50.,  60.],\n",
              "        [ 70.,  80.,  90.]],\n",
              "\n",
              "       [[ 50., 100., 150.],\n",
              "        [200., 250., 300.],\n",
              "        [350., 400., 450.]]])"
            ]
          },
          "execution_count": 250,
          "metadata": {},
          "output_type": "execute_result"
        }
      ],
      "source": [
        "D = T1/T2\n",
        "D"
      ]
    },
    {
      "cell_type": "code",
      "execution_count": null,
      "metadata": {
        "id": "u9-gyBJeYDWb",
        "outputId": "01b8bde1-9066-420e-9778-6ff6c3ac74b0"
      },
      "outputs": [
        {
          "name": "stderr",
          "output_type": "stream",
          "text": [
            "C:\\Anaconda\\lib\\site-packages\\ipykernel_launcher.py:1: RuntimeWarning: divide by zero encountered in true_divide\n",
            "  \"\"\"Entry point for launching an IPython kernel.\n"
          ]
        },
        {
          "data": {
            "text/plain": [
              "array([[[ inf,  inf,  inf],\n",
              "        [ inf,  inf,  inf],\n",
              "        [ inf,  inf,  inf]],\n",
              "\n",
              "       [[ 10.,  20.,  30.],\n",
              "        [ 40.,  50.,  60.],\n",
              "        [ 70.,  80.,  90.]],\n",
              "\n",
              "       [[ 50., 100., 150.],\n",
              "        [200., 250., 300.],\n",
              "        [350., 400., 450.]]])"
            ]
          },
          "execution_count": 251,
          "metadata": {},
          "output_type": "execute_result"
        }
      ],
      "source": [
        "np.divide(T1,T2)"
      ]
    },
    {
      "cell_type": "markdown",
      "metadata": {
        "id": "uiXZsUH_YDWc"
      },
      "source": [
        "# Tensor Dot Product"
      ]
    },
    {
      "cell_type": "code",
      "execution_count": null,
      "metadata": {
        "id": "IJbC5DlNYDWc",
        "outputId": "4fecc14c-7241-4671-8cf2-631ba7c19c3f"
      },
      "outputs": [
        {
          "data": {
            "text/plain": [
              "array([[[  1,   2,   3],\n",
              "        [  4,   5,   6],\n",
              "        [  7,   8,   9]],\n",
              "\n",
              "       [[ 10,  20,  30],\n",
              "        [ 40,  50,  60],\n",
              "        [ 70,  80,  90]],\n",
              "\n",
              "       [[100, 200, 300],\n",
              "        [400, 500, 600],\n",
              "        [700, 800, 900]]])"
            ]
          },
          "execution_count": 252,
          "metadata": {},
          "output_type": "execute_result"
        }
      ],
      "source": [
        "T1"
      ]
    },
    {
      "cell_type": "code",
      "execution_count": null,
      "metadata": {
        "id": "c-RtpEstYDWd",
        "outputId": "8ba92a21-873e-43e1-ef9f-b319fba5355c"
      },
      "outputs": [
        {
          "data": {
            "text/plain": [
              "array([[[0, 0, 0],\n",
              "        [0, 0, 0],\n",
              "        [0, 0, 0]],\n",
              "\n",
              "       [[1, 1, 1],\n",
              "        [1, 1, 1],\n",
              "        [1, 1, 1]],\n",
              "\n",
              "       [[2, 2, 2],\n",
              "        [2, 2, 2],\n",
              "        [2, 2, 2]]])"
            ]
          },
          "execution_count": 253,
          "metadata": {},
          "output_type": "execute_result"
        }
      ],
      "source": [
        "T2"
      ]
    },
    {
      "cell_type": "code",
      "execution_count": null,
      "metadata": {
        "id": "W3lDZmaSYDWd",
        "outputId": "12b995f7-75fd-49a1-c469-017415f0c6a0"
      },
      "outputs": [
        {
          "data": {
            "text/plain": [
              "array([[  63,   63,   63],\n",
              "       [ 630,  630,  630],\n",
              "       [6300, 6300, 6300]])"
            ]
          },
          "execution_count": 254,
          "metadata": {},
          "output_type": "execute_result"
        }
      ],
      "source": [
        "np.tensordot(T1,T2)"
      ]
    },
    {
      "cell_type": "markdown",
      "metadata": {
        "id": "fohtGorkYDWd"
      },
      "source": [
        "# Solving Equations $$AX = B$$"
      ]
    },
    {
      "cell_type": "markdown",
      "metadata": {
        "id": "mcVtCukQYDWd"
      },
      "source": [
        "Solving Equations : \n",
        "   - https://www.youtube.com/watch?v=NNmiOoWt86M\n",
        "   - https://www.youtube.com/watch?v=a2z7sZ4MSqo"
      ]
    },
    {
      "cell_type": "code",
      "execution_count": null,
      "metadata": {
        "id": "-I60tuv8YDWd",
        "outputId": "d5043709-4e26-4795-b817-eb75e65edf3e"
      },
      "outputs": [
        {
          "data": {
            "text/plain": [
              "array([[1, 2, 3],\n",
              "       [4, 5, 6],\n",
              "       [7, 8, 9]])"
            ]
          },
          "execution_count": 256,
          "metadata": {},
          "output_type": "execute_result"
        }
      ],
      "source": [
        "A = np.array([[1,2,3] , [4,5,6] , [7,8,9]])\n",
        "A"
      ]
    },
    {
      "cell_type": "code",
      "execution_count": null,
      "metadata": {
        "id": "VATxdPJIYDWd",
        "outputId": "a24ecc83-c70f-4f75-e471-d2e0243ed1c0"
      },
      "outputs": [
        {
          "data": {
            "text/plain": [
              "array([[0.09714648],\n",
              "       [0.10284749],\n",
              "       [0.7015073 ]])"
            ]
          },
          "execution_count": 257,
          "metadata": {},
          "output_type": "execute_result"
        }
      ],
      "source": [
        "B = np.random.random((3,1))\n",
        "B"
      ]
    },
    {
      "cell_type": "code",
      "execution_count": null,
      "metadata": {
        "id": "hoQWm6BaYDWe",
        "outputId": "1b528e7f-4635-40cf-b421-6256d23d019d"
      },
      "outputs": [
        {
          "data": {
            "text/plain": [
              "array([[ 1.86931429e+15],\n",
              "       [-3.73862857e+15],\n",
              "       [ 1.86931429e+15]])"
            ]
          },
          "execution_count": 258,
          "metadata": {},
          "output_type": "execute_result"
        }
      ],
      "source": [
        "# Ist Method\n",
        "X = np.dot(np.linalg.inv(A) , B)\n",
        "X"
      ]
    },
    {
      "cell_type": "code",
      "execution_count": null,
      "metadata": {
        "id": "dp3RHyMLYDWe",
        "outputId": "e473304d-4467-42a6-89c5-5b77b377d893"
      },
      "outputs": [
        {
          "data": {
            "text/plain": [
              "array([[ 1.86931429e+15],\n",
              "       [-3.73862857e+15],\n",
              "       [ 1.86931429e+15]])"
            ]
          },
          "execution_count": 259,
          "metadata": {},
          "output_type": "execute_result"
        }
      ],
      "source": [
        "# 2nd Method\n",
        "X = np.matmul(np.linalg.inv(A) , B)\n",
        "X"
      ]
    },
    {
      "cell_type": "code",
      "execution_count": null,
      "metadata": {
        "id": "UC8b5oIdYDWe",
        "outputId": "55bf4c6d-5029-443e-ab96-6e6aa0f0dabe"
      },
      "outputs": [
        {
          "data": {
            "text/plain": [
              "array([[ 1.86931429e+15],\n",
              "       [-3.73862857e+15],\n",
              "       [ 1.86931429e+15]])"
            ]
          },
          "execution_count": 260,
          "metadata": {},
          "output_type": "execute_result"
        }
      ],
      "source": [
        "# 3rd Method\n",
        "X = np.linalg.inv(A)@B\n",
        "X"
      ]
    },
    {
      "cell_type": "code",
      "execution_count": null,
      "metadata": {
        "id": "zOGwY79dYDWe",
        "outputId": "d0304161-44fe-4b5c-efcb-b0a269fa5906"
      },
      "outputs": [
        {
          "data": {
            "text/plain": [
              "array([[ 1.86931429e+15],\n",
              "       [-3.73862857e+15],\n",
              "       [ 1.86931429e+15]])"
            ]
          },
          "execution_count": 261,
          "metadata": {},
          "output_type": "execute_result"
        }
      ],
      "source": [
        "# 4th Method\n",
        "X = np.linalg.solve(A,B)\n",
        "X"
      ]
    },
    {
      "cell_type": "markdown",
      "metadata": {
        "id": "c0S0P8OvYDWe"
      },
      "source": [
        "# END"
      ]
    },
    {
      "cell_type": "markdown",
      "source": [
        "# Linear Algebra in Python"
      ],
      "metadata": {
        "id": "rrke6Pp9altY"
      }
    },
    {
      "cell_type": "markdown",
      "source": [
        "Deep Learning is a subdomain of machine learning, concerned with the algorithm which imitates the function and structure of the brain called the artificial neural network.\n",
        "\n",
        "**Linear algebra** is a form of **continuous** mathematics\n",
        "\n",
        "A good understanding of **linear algebra** is essential for understanding and working with many **machine learning algorithms**, especially deep learning algorithms.\n",
        "\n",
        "Learning these topics will contribute a deeper understanding of the underlying algorithmic mechanics and allow development of new algorithms.\n",
        "\n",
        "\n",
        "So it is essential to understand basic linear algebra before getting started with deep learning and programming it.\n",
        "\n",
        "The core data structures behind Deep-Learning are **Scalars, Vectors, Matrices and Tensors**.\n",
        "\n",
        "# Scalars:\n",
        "\n",
        "Scalars are single numbers and are an example of a 0th-order tensor. \n",
        "\n",
        "The notation x ∈ ℝ states that x is a scalar belonging to a set of real-values numbers, ℝ.\n",
        "\n"
      ],
      "metadata": {
        "id": "ODevoaNEc6Cc"
      }
    },
    {
      "cell_type": "markdown",
      "source": [
        "<table class=\"colwidths-auto table\">\n",
        "<thead>\n",
        "<tr class=\"row-odd\"><th class=\"head\"><p>Set Name</p></th>\n",
        "<th class=\"head\"><p>Symbol</p></th>\n",
        "<th class=\"head\"><p>Description</p></th>\n",
        "</tr>\n",
        "</thead>\n",
        "<tbody>\n",
        "<tr class=\"row-even\"><td><p>Naturals</p></td>\n",
        "<td><p><span class=\"math notranslate nohighlight\"><span class=\"MathJax_Preview\" style=\"color: inherit;\"></span><span class=\"MathJax\" id=\"MathJax-Element-27-Frame\" tabindex=\"0\" data-mathml=\"<math xmlns=&quot;http://www.w3.org/1998/Math/MathML&quot;><mrow class=&quot;MJX-TeXAtom-ORD&quot;><mi mathvariant=&quot;double-struck&quot;>N</mi></mrow></math>\" role=\"presentation\" style=\"position: relative;\"><nobr aria-hidden=\"true\"><span class=\"math\" id=\"MathJax-Span-112\" style=\"width: 0.801em; display: inline-block;\"><span style=\"display: inline-block; position: relative; width: 0.687em; height: 0px; font-size: 117%;\"><span style=\"position: absolute; clip: rect(1.712em, 1000.63em, 2.738em, -999.997em); top: -2.561em; left: 0em;\"><span class=\"mrow\" id=\"MathJax-Span-113\"><span class=\"texatom\" id=\"MathJax-Span-114\"><span class=\"mrow\" id=\"MathJax-Span-115\"><span class=\"mi\" id=\"MathJax-Span-116\" style=\"font-family: STIXGeneral-Regular;\">ℕ</span></span></span></span><span style=\"display: inline-block; width: 0px; height: 2.567em;\"></span></span></span><span style=\"display: inline-block; overflow: hidden; vertical-align: -0.063em; border-left: 0px solid; width: 0px; height: 0.937em;\"></span></span></nobr><span class=\"MJX_Assistive_MathML\" role=\"presentation\"><math xmlns=\"http://www.w3.org/1998/Math/MathML\"><mrow class=\"MJX-TeXAtom-ORD\"><mi mathvariant=\"double-struck\">N</mi></mrow></math></span></span><script type=\"math/tex\" id=\"MathJax-Element-27\">\\mathbb{N}</script></span></p></td>\n",
        "<td><p><span class=\"math notranslate nohighlight\"><span class=\"MathJax_Preview\" style=\"color: inherit;\"></span><span class=\"MathJax\" id=\"MathJax-Element-28-Frame\" tabindex=\"0\" data-mathml=\"<math xmlns=&quot;http://www.w3.org/1998/Math/MathML&quot;><mrow class=&quot;MJX-TeXAtom-ORD&quot;><mrow class=&quot;MJX-TeXAtom-ORD&quot;><mi mathvariant=&quot;double-struck&quot;>N</mi></mrow></mrow><mo>=</mo><mo fence=&quot;false&quot; stretchy=&quot;false&quot;>{</mo><mn>1</mn><mo>,</mo><mn>2</mn><mo>,</mo><mn>3</mn><mo>,</mo><mn>4</mn><mo>,</mo><mo>&amp;#x22EF;</mo><mo fence=&quot;false&quot; stretchy=&quot;false&quot;>}</mo></math>\" role=\"presentation\" style=\"position: relative;\"><nobr aria-hidden=\"true\"><span class=\"math\" id=\"MathJax-Span-117\" style=\"width: 8.835em; display: inline-block;\"><span style=\"display: inline-block; position: relative; width: 7.524em; height: 0px; font-size: 117%;\"><span style=\"position: absolute; clip: rect(1.712em, 1007.41em, 2.909em, -999.997em); top: -2.561em; left: 0em;\"><span class=\"mrow\" id=\"MathJax-Span-118\"><span class=\"texatom\" id=\"MathJax-Span-119\"><span class=\"mrow\" id=\"MathJax-Span-120\"><span class=\"texatom\" id=\"MathJax-Span-121\"><span class=\"mrow\" id=\"MathJax-Span-122\"><span class=\"mi\" id=\"MathJax-Span-123\" style=\"font-family: STIXGeneral-Regular;\">ℕ</span></span></span></span></span><span class=\"mo\" id=\"MathJax-Span-124\" style=\"font-family: STIXGeneral-Regular; padding-left: 0.288em;\">=</span><span class=\"mo\" id=\"MathJax-Span-125\" style=\"font-family: STIXGeneral-Regular; padding-left: 0.288em;\">{</span><span class=\"mn\" id=\"MathJax-Span-126\" style=\"font-family: STIXGeneral-Regular;\">1</span><span class=\"mo\" id=\"MathJax-Span-127\" style=\"font-family: STIXGeneral-Regular;\">,</span><span class=\"mn\" id=\"MathJax-Span-128\" style=\"font-family: STIXGeneral-Regular; padding-left: 0.174em;\">2</span><span class=\"mo\" id=\"MathJax-Span-129\" style=\"font-family: STIXGeneral-Regular;\">,</span><span class=\"mn\" id=\"MathJax-Span-130\" style=\"font-family: STIXGeneral-Regular; padding-left: 0.174em;\">3</span><span class=\"mo\" id=\"MathJax-Span-131\" style=\"font-family: STIXGeneral-Regular;\">,</span><span class=\"mn\" id=\"MathJax-Span-132\" style=\"font-family: STIXGeneral-Regular; padding-left: 0.174em;\">4</span><span class=\"mo\" id=\"MathJax-Span-133\" style=\"font-family: STIXGeneral-Regular;\">,</span><span class=\"mo\" id=\"MathJax-Span-134\" style=\"font-family: STIXGeneral-Regular; padding-left: 0.174em;\">⋯</span><span class=\"mo\" id=\"MathJax-Span-135\" style=\"font-family: STIXGeneral-Regular;\">}</span></span><span style=\"display: inline-block; width: 0px; height: 2.567em;\"></span></span></span><span style=\"display: inline-block; overflow: hidden; vertical-align: -0.263em; border-left: 0px solid; width: 0px; height: 1.137em;\"></span></span></nobr><span class=\"MJX_Assistive_MathML\" role=\"presentation\"><math xmlns=\"http://www.w3.org/1998/Math/MathML\"><mrow class=\"MJX-TeXAtom-ORD\"><mrow class=\"MJX-TeXAtom-ORD\"><mi mathvariant=\"double-struck\">N</mi></mrow></mrow><mo>=</mo><mo fence=\"false\" stretchy=\"false\">{</mo><mn>1</mn><mo>,</mo><mn>2</mn><mo>,</mo><mn>3</mn><mo>,</mo><mn>4</mn><mo>,</mo><mo>⋯</mo><mo fence=\"false\" stretchy=\"false\">}</mo></math></span></span><script type=\"math/tex\" id=\"MathJax-Element-28\">{\\mathbb{N}} = \\{1, 2, 3, 4, \\cdots\\}</script></span></p></td>\n",
        "</tr>\n",
        "<tr class=\"row-odd\"><td><p>Wholes</p></td>\n",
        "<td><p><span class=\"math notranslate nohighlight\"><span class=\"MathJax_Preview\" style=\"color: inherit;\"></span><span class=\"MathJax\" id=\"MathJax-Element-29-Frame\" tabindex=\"0\" data-mathml=\"<math xmlns=&quot;http://www.w3.org/1998/Math/MathML&quot;><mrow class=&quot;MJX-TeXAtom-ORD&quot;><mi mathvariant=&quot;double-struck&quot;>W</mi></mrow></math>\" role=\"presentation\" style=\"position: relative;\"><nobr aria-hidden=\"true\"><span class=\"math\" id=\"MathJax-Span-136\" style=\"width: 1.142em; display: inline-block;\"><span style=\"display: inline-block; position: relative; width: 0.972em; height: 0px; font-size: 117%;\"><span style=\"position: absolute; clip: rect(1.712em, 1000.97em, 2.738em, -999.997em); top: -2.561em; left: 0em;\"><span class=\"mrow\" id=\"MathJax-Span-137\"><span class=\"texatom\" id=\"MathJax-Span-138\"><span class=\"mrow\" id=\"MathJax-Span-139\"><span class=\"mi\" id=\"MathJax-Span-140\" style=\"font-family: STIXGeneral-Regular;\">𝕎<span style=\"display: inline-block; overflow: hidden; height: 1px; width: 0.06em;\"></span></span></span></span></span><span style=\"display: inline-block; width: 0px; height: 2.567em;\"></span></span></span><span style=\"display: inline-block; overflow: hidden; vertical-align: -0.063em; border-left: 0px solid; width: 0px; height: 0.937em;\"></span></span></nobr><span class=\"MJX_Assistive_MathML\" role=\"presentation\"><math xmlns=\"http://www.w3.org/1998/Math/MathML\"><mrow class=\"MJX-TeXAtom-ORD\"><mi mathvariant=\"double-struck\">W</mi></mrow></math></span></span><script type=\"math/tex\" id=\"MathJax-Element-29\">\\mathbb{W}</script></span></p></td>\n",
        "<td><p><span class=\"math notranslate nohighlight\"><span class=\"MathJax_Preview\" style=\"color: inherit;\"></span><span class=\"MathJax\" id=\"MathJax-Element-30-Frame\" tabindex=\"0\" data-mathml=\"<math xmlns=&quot;http://www.w3.org/1998/Math/MathML&quot;><mrow class=&quot;MJX-TeXAtom-ORD&quot;><mrow class=&quot;MJX-TeXAtom-ORD&quot;><mi mathvariant=&quot;double-struck&quot;>W</mi></mrow></mrow><mo>=</mo><mrow class=&quot;MJX-TeXAtom-ORD&quot;><mi mathvariant=&quot;double-struck&quot;>N</mi></mrow><mo>&amp;#x222A;</mo><mo fence=&quot;false&quot; stretchy=&quot;false&quot;>{</mo><mn>0</mn><mo fence=&quot;false&quot; stretchy=&quot;false&quot;>}</mo></math>\" role=\"presentation\" style=\"position: relative;\"><nobr aria-hidden=\"true\"><span class=\"math\" id=\"MathJax-Span-141\" style=\"width: 6.442em; display: inline-block;\"><span style=\"display: inline-block; position: relative; width: 5.473em; height: 0px; font-size: 117%;\"><span style=\"position: absolute; clip: rect(1.712em, 1005.36em, 2.909em, -999.997em); top: -2.561em; left: 0em;\"><span class=\"mrow\" id=\"MathJax-Span-142\"><span class=\"texatom\" id=\"MathJax-Span-143\"><span class=\"mrow\" id=\"MathJax-Span-144\"><span class=\"texatom\" id=\"MathJax-Span-145\"><span class=\"mrow\" id=\"MathJax-Span-146\"><span class=\"mi\" id=\"MathJax-Span-147\" style=\"font-family: STIXGeneral-Regular;\">𝕎<span style=\"display: inline-block; overflow: hidden; height: 1px; width: 0.06em;\"></span></span></span></span></span></span><span class=\"mo\" id=\"MathJax-Span-148\" style=\"font-family: STIXGeneral-Regular; padding-left: 0.288em;\">=</span><span class=\"texatom\" id=\"MathJax-Span-149\" style=\"padding-left: 0.288em;\"><span class=\"mrow\" id=\"MathJax-Span-150\"><span class=\"mi\" id=\"MathJax-Span-151\" style=\"font-family: STIXGeneral-Regular;\">ℕ</span></span></span><span class=\"mo\" id=\"MathJax-Span-152\" style=\"font-family: STIXGeneral-Regular; padding-left: 0.231em;\">∪</span><span class=\"mo\" id=\"MathJax-Span-153\" style=\"font-family: STIXGeneral-Regular; padding-left: 0.231em;\">{</span><span class=\"mn\" id=\"MathJax-Span-154\" style=\"font-family: STIXGeneral-Regular;\">0</span><span class=\"mo\" id=\"MathJax-Span-155\" style=\"font-family: STIXGeneral-Regular;\">}</span></span><span style=\"display: inline-block; width: 0px; height: 2.567em;\"></span></span></span><span style=\"display: inline-block; overflow: hidden; vertical-align: -0.263em; border-left: 0px solid; width: 0px; height: 1.137em;\"></span></span></nobr><span class=\"MJX_Assistive_MathML\" role=\"presentation\"><math xmlns=\"http://www.w3.org/1998/Math/MathML\"><mrow class=\"MJX-TeXAtom-ORD\"><mrow class=\"MJX-TeXAtom-ORD\"><mi mathvariant=\"double-struck\">W</mi></mrow></mrow><mo>=</mo><mrow class=\"MJX-TeXAtom-ORD\"><mi mathvariant=\"double-struck\">N</mi></mrow><mo>∪</mo><mo fence=\"false\" stretchy=\"false\">{</mo><mn>0</mn><mo fence=\"false\" stretchy=\"false\">}</mo></math></span></span><script type=\"math/tex\" id=\"MathJax-Element-30\">{\\mathbb{W}} = \\mathbb{N} \\cup \\{0\\}</script></span></p></td>\n",
        "</tr>\n",
        "<tr class=\"row-even\"><td><p>Integers</p></td>\n",
        "<td><p><span class=\"math notranslate nohighlight\"><span class=\"MathJax_Preview\" style=\"color: inherit;\"></span><span class=\"MathJax\" id=\"MathJax-Element-31-Frame\" tabindex=\"0\" data-mathml=\"<math xmlns=&quot;http://www.w3.org/1998/Math/MathML&quot;><mrow class=&quot;MJX-TeXAtom-ORD&quot;><mi mathvariant=&quot;double-struck&quot;>Z</mi></mrow></math>\" role=\"presentation\" style=\"position: relative;\"><nobr aria-hidden=\"true\"><span class=\"math\" id=\"MathJax-Span-156\" style=\"width: 0.915em; display: inline-block;\"><span style=\"display: inline-block; position: relative; width: 0.744em; height: 0px; font-size: 117%;\"><span style=\"position: absolute; clip: rect(1.712em, 1000.69em, 2.738em, -999.997em); top: -2.561em; left: 0em;\"><span class=\"mrow\" id=\"MathJax-Span-157\"><span class=\"texatom\" id=\"MathJax-Span-158\"><span class=\"mrow\" id=\"MathJax-Span-159\"><span class=\"mi\" id=\"MathJax-Span-160\" style=\"font-family: STIXGeneral-Regular;\">ℤ</span></span></span></span><span style=\"display: inline-block; width: 0px; height: 2.567em;\"></span></span></span><span style=\"display: inline-block; overflow: hidden; vertical-align: -0.063em; border-left: 0px solid; width: 0px; height: 0.937em;\"></span></span></nobr><span class=\"MJX_Assistive_MathML\" role=\"presentation\"><math xmlns=\"http://www.w3.org/1998/Math/MathML\"><mrow class=\"MJX-TeXAtom-ORD\"><mi mathvariant=\"double-struck\">Z</mi></mrow></math></span></span><script type=\"math/tex\" id=\"MathJax-Element-31\">\\mathbb{Z}</script></span></p></td>\n",
        "<td><p><span class=\"math notranslate nohighlight\"><span class=\"MathJax_Preview\" style=\"color: inherit;\"></span><span class=\"MathJax\" id=\"MathJax-Element-32-Frame\" tabindex=\"0\" data-mathml=\"<math xmlns=&quot;http://www.w3.org/1998/Math/MathML&quot;><mrow class=&quot;MJX-TeXAtom-ORD&quot;><mrow class=&quot;MJX-TeXAtom-ORD&quot;><mi mathvariant=&quot;double-struck&quot;>Z</mi></mrow></mrow><mo>=</mo><mrow class=&quot;MJX-TeXAtom-ORD&quot;><mi mathvariant=&quot;double-struck&quot;>W</mi></mrow><mo>&amp;#x222A;</mo><mo fence=&quot;false&quot; stretchy=&quot;false&quot;>{</mo><mo>&amp;#x2212;</mo><mn>1</mn><mo>,</mo><mo>&amp;#x2212;</mo><mn>2</mn><mo>,</mo><mo>&amp;#x2212;</mo><mn>3</mn><mo>,</mo><mo>&amp;#x22EF;</mo><mo fence=&quot;false&quot; stretchy=&quot;false&quot;>}</mo></math>\" role=\"presentation\" style=\"position: relative;\"><nobr aria-hidden=\"true\"><span class=\"math\" id=\"MathJax-Span-161\" style=\"width: 12.595em; display: inline-block;\"><span style=\"display: inline-block; position: relative; width: 10.772em; height: 0px; font-size: 117%;\"><span style=\"position: absolute; clip: rect(1.712em, 1010.66em, 2.909em, -999.997em); top: -2.561em; left: 0em;\"><span class=\"mrow\" id=\"MathJax-Span-162\"><span class=\"texatom\" id=\"MathJax-Span-163\"><span class=\"mrow\" id=\"MathJax-Span-164\"><span class=\"texatom\" id=\"MathJax-Span-165\"><span class=\"mrow\" id=\"MathJax-Span-166\"><span class=\"mi\" id=\"MathJax-Span-167\" style=\"font-family: STIXGeneral-Regular;\">ℤ</span></span></span></span></span><span class=\"mo\" id=\"MathJax-Span-168\" style=\"font-family: STIXGeneral-Regular; padding-left: 0.288em;\">=</span><span class=\"texatom\" id=\"MathJax-Span-169\" style=\"padding-left: 0.288em;\"><span class=\"mrow\" id=\"MathJax-Span-170\"><span class=\"mi\" id=\"MathJax-Span-171\" style=\"font-family: STIXGeneral-Regular;\">𝕎<span style=\"display: inline-block; overflow: hidden; height: 1px; width: 0.06em;\"></span></span></span></span><span class=\"mo\" id=\"MathJax-Span-172\" style=\"font-family: STIXGeneral-Regular; padding-left: 0.231em;\">∪</span><span class=\"mo\" id=\"MathJax-Span-173\" style=\"font-family: STIXGeneral-Regular; padding-left: 0.231em;\">{</span><span class=\"mo\" id=\"MathJax-Span-174\" style=\"font-family: STIXGeneral-Regular;\">−</span><span class=\"mn\" id=\"MathJax-Span-175\" style=\"font-family: STIXGeneral-Regular;\">1</span><span class=\"mo\" id=\"MathJax-Span-176\" style=\"font-family: STIXGeneral-Regular;\">,</span><span class=\"mo\" id=\"MathJax-Span-177\" style=\"font-family: STIXGeneral-Regular; padding-left: 0.174em;\">−</span><span class=\"mn\" id=\"MathJax-Span-178\" style=\"font-family: STIXGeneral-Regular;\">2</span><span class=\"mo\" id=\"MathJax-Span-179\" style=\"font-family: STIXGeneral-Regular;\">,</span><span class=\"mo\" id=\"MathJax-Span-180\" style=\"font-family: STIXGeneral-Regular; padding-left: 0.174em;\">−</span><span class=\"mn\" id=\"MathJax-Span-181\" style=\"font-family: STIXGeneral-Regular;\">3</span><span class=\"mo\" id=\"MathJax-Span-182\" style=\"font-family: STIXGeneral-Regular;\">,</span><span class=\"mo\" id=\"MathJax-Span-183\" style=\"font-family: STIXGeneral-Regular; padding-left: 0.174em;\">⋯</span><span class=\"mo\" id=\"MathJax-Span-184\" style=\"font-family: STIXGeneral-Regular;\">}</span></span><span style=\"display: inline-block; width: 0px; height: 2.567em;\"></span></span></span><span style=\"display: inline-block; overflow: hidden; vertical-align: -0.263em; border-left: 0px solid; width: 0px; height: 1.137em;\"></span></span></nobr><span class=\"MJX_Assistive_MathML\" role=\"presentation\"><math xmlns=\"http://www.w3.org/1998/Math/MathML\"><mrow class=\"MJX-TeXAtom-ORD\"><mrow class=\"MJX-TeXAtom-ORD\"><mi mathvariant=\"double-struck\">Z</mi></mrow></mrow><mo>=</mo><mrow class=\"MJX-TeXAtom-ORD\"><mi mathvariant=\"double-struck\">W</mi></mrow><mo>∪</mo><mo fence=\"false\" stretchy=\"false\">{</mo><mo>−</mo><mn>1</mn><mo>,</mo><mo>−</mo><mn>2</mn><mo>,</mo><mo>−</mo><mn>3</mn><mo>,</mo><mo>⋯</mo><mo fence=\"false\" stretchy=\"false\">}</mo></math></span></span><script type=\"math/tex\" id=\"MathJax-Element-32\">{\\mathbb{Z}} = \\mathbb{W} \\cup \\{-1, -2, -3, \\cdots\\}</script></span></p></td>\n",
        "</tr>\n",
        "<tr class=\"row-odd\"><td><p>Rationals</p></td>\n",
        "<td><p><span class=\"math notranslate nohighlight\"><span class=\"MathJax_Preview\" style=\"color: inherit;\"></span><span class=\"MathJax\" id=\"MathJax-Element-33-Frame\" tabindex=\"0\" data-mathml=\"<math xmlns=&quot;http://www.w3.org/1998/Math/MathML&quot;><mrow class=&quot;MJX-TeXAtom-ORD&quot;><mi mathvariant=&quot;double-struck&quot;>Q</mi></mrow></math>\" role=\"presentation\" style=\"position: relative;\"><nobr aria-hidden=\"true\"><span class=\"math\" id=\"MathJax-Span-185\" style=\"width: 0.915em; display: inline-block;\"><span style=\"display: inline-block; position: relative; width: 0.744em; height: 0px; font-size: 117%;\"><span style=\"position: absolute; clip: rect(1.712em, 1000.69em, 2.795em, -999.997em); top: -2.561em; left: 0em;\"><span class=\"mrow\" id=\"MathJax-Span-186\"><span class=\"texatom\" id=\"MathJax-Span-187\"><span class=\"mrow\" id=\"MathJax-Span-188\"><span class=\"mi\" id=\"MathJax-Span-189\" style=\"font-family: STIXGeneral-Regular;\">ℚ</span></span></span></span><span style=\"display: inline-block; width: 0px; height: 2.567em;\"></span></span></span><span style=\"display: inline-block; overflow: hidden; vertical-align: -0.13em; border-left: 0px solid; width: 0px; height: 1.003em;\"></span></span></nobr><span class=\"MJX_Assistive_MathML\" role=\"presentation\"><math xmlns=\"http://www.w3.org/1998/Math/MathML\"><mrow class=\"MJX-TeXAtom-ORD\"><mi mathvariant=\"double-struck\">Q</mi></mrow></math></span></span><script type=\"math/tex\" id=\"MathJax-Element-33\">\\mathbb{Q}</script></span></p></td>\n",
        "<td><p><span class=\"math notranslate nohighlight\"><span class=\"MathJax_Preview\" style=\"color: inherit;\"></span><span class=\"MathJax\" id=\"MathJax-Element-34-Frame\" tabindex=\"0\" data-mathml=\"<math xmlns=&quot;http://www.w3.org/1998/Math/MathML&quot;><mrow class=&quot;MJX-TeXAtom-ORD&quot;><mrow class=&quot;MJX-TeXAtom-ORD&quot;><mi mathvariant=&quot;double-struck&quot;>Q</mi></mrow></mrow><mo>=</mo><mo fence=&quot;false&quot; stretchy=&quot;false&quot;>{</mo><mfrac><mi>p</mi><mi>q</mi></mfrac><mo>:</mo><mi>p</mi><mo>&amp;#x2208;</mo><mrow class=&quot;MJX-TeXAtom-ORD&quot;><mrow class=&quot;MJX-TeXAtom-ORD&quot;><mi mathvariant=&quot;double-struck&quot;>Z</mi></mrow></mrow><mo>,</mo><mi>q</mi><mo>&amp;#x2208;</mo><mrow class=&quot;MJX-TeXAtom-ORD&quot;><mrow class=&quot;MJX-TeXAtom-ORD&quot;><mi mathvariant=&quot;double-struck&quot;>Z</mi></mrow></mrow><mi class=&quot;MJX-variant&quot; mathvariant=&quot;normal&quot;>&amp;#x2216;</mi><mo fence=&quot;false&quot; stretchy=&quot;false&quot;>{</mo><mn>0</mn><mo fence=&quot;false&quot; stretchy=&quot;false&quot;>}</mo><mo fence=&quot;false&quot; stretchy=&quot;false&quot;>}</mo></math>\" role=\"presentation\" style=\"position: relative;\"><nobr aria-hidden=\"true\"><span class=\"math\" id=\"MathJax-Span-190\" style=\"width: 13.906em; display: inline-block;\"><span style=\"display: inline-block; position: relative; width: 11.855em; height: 0px; font-size: 117%;\"><span style=\"position: absolute; clip: rect(1.541em, 1011.74em, 3.194em, -999.997em); top: -2.561em; left: 0em;\"><span class=\"mrow\" id=\"MathJax-Span-191\"><span class=\"texatom\" id=\"MathJax-Span-192\"><span class=\"mrow\" id=\"MathJax-Span-193\"><span class=\"texatom\" id=\"MathJax-Span-194\"><span class=\"mrow\" id=\"MathJax-Span-195\"><span class=\"mi\" id=\"MathJax-Span-196\" style=\"font-family: STIXGeneral-Regular;\">ℚ</span></span></span></span></span><span class=\"mo\" id=\"MathJax-Span-197\" style=\"font-family: STIXGeneral-Regular; padding-left: 0.288em;\">=</span><span class=\"mo\" id=\"MathJax-Span-198\" style=\"font-family: STIXGeneral-Regular; padding-left: 0.288em;\">{</span><span class=\"mfrac\" id=\"MathJax-Span-199\"><span style=\"display: inline-block; position: relative; width: 0.459em; height: 0px; margin-right: 0.117em; margin-left: 0.117em;\"><span style=\"position: absolute; clip: rect(3.536em, 1000.35em, 4.276em, -999.997em); top: -4.556em; left: 50%; margin-left: -0.168em;\"><span class=\"mi\" id=\"MathJax-Span-200\" style=\"font-size: 70.7%; font-family: STIXGeneral-Italic;\">𝑝</span><span style=\"display: inline-block; width: 0px; height: 3.991em;\"></span></span><span style=\"position: absolute; clip: rect(3.536em, 1000.35em, 4.276em, -999.997em); top: -3.644em; left: 50%; margin-left: -0.168em;\"><span class=\"mi\" id=\"MathJax-Span-201\" style=\"font-size: 70.7%; font-family: STIXGeneral-Italic;\">𝑞<span style=\"display: inline-block; overflow: hidden; height: 1px; width: 0.003em;\"></span></span><span style=\"display: inline-block; width: 0px; height: 3.991em;\"></span></span><span style=\"position: absolute; clip: rect(0.858em, 1000.46em, 1.256em, -999.997em); top: -1.308em; left: 0em;\"><span style=\"display: inline-block; overflow: hidden; vertical-align: 0em; border-top: 1.3px solid; width: 0.459em; height: 0px;\"></span><span style=\"display: inline-block; width: 0px; height: 1.085em;\"></span></span></span></span><span class=\"mo\" id=\"MathJax-Span-202\" style=\"font-family: STIXGeneral-Regular; padding-left: 0.288em;\">:</span><span class=\"mi\" id=\"MathJax-Span-203\" style=\"font-family: STIXGeneral-Italic; padding-left: 0.288em;\">𝑝</span><span class=\"mo\" id=\"MathJax-Span-204\" style=\"font-family: STIXGeneral-Regular; padding-left: 0.288em;\">∈</span><span class=\"texatom\" id=\"MathJax-Span-205\" style=\"padding-left: 0.288em;\"><span class=\"mrow\" id=\"MathJax-Span-206\"><span class=\"texatom\" id=\"MathJax-Span-207\"><span class=\"mrow\" id=\"MathJax-Span-208\"><span class=\"mi\" id=\"MathJax-Span-209\" style=\"font-family: STIXGeneral-Regular;\">ℤ</span></span></span></span></span><span class=\"mo\" id=\"MathJax-Span-210\" style=\"font-family: STIXGeneral-Regular;\">,</span><span class=\"mi\" id=\"MathJax-Span-211\" style=\"font-family: STIXGeneral-Italic; padding-left: 0.174em;\">𝑞<span style=\"display: inline-block; overflow: hidden; height: 1px; width: 0.003em;\"></span></span><span class=\"mo\" id=\"MathJax-Span-212\" style=\"font-family: STIXGeneral-Regular; padding-left: 0.288em;\">∈</span><span class=\"texatom\" id=\"MathJax-Span-213\" style=\"padding-left: 0.288em;\"><span class=\"mrow\" id=\"MathJax-Span-214\"><span class=\"texatom\" id=\"MathJax-Span-215\"><span class=\"mrow\" id=\"MathJax-Span-216\"><span class=\"mi\" id=\"MathJax-Span-217\" style=\"font-family: STIXGeneral-Regular;\">ℤ</span></span></span></span></span><span class=\"mi\" id=\"MathJax-Span-218\" style=\"font-family: STIXVariants;\">∖</span><span class=\"mo\" id=\"MathJax-Span-219\" style=\"font-family: STIXGeneral-Regular;\">{</span><span class=\"mn\" id=\"MathJax-Span-220\" style=\"font-family: STIXGeneral-Regular;\">0</span><span class=\"mo\" id=\"MathJax-Span-221\" style=\"font-family: STIXGeneral-Regular;\">}</span><span class=\"mo\" id=\"MathJax-Span-222\" style=\"font-family: STIXGeneral-Regular;\">}</span></span><span style=\"display: inline-block; width: 0px; height: 2.567em;\"></span></span></span><span style=\"display: inline-block; overflow: hidden; vertical-align: -0.597em; border-left: 0px solid; width: 0px; height: 1.67em;\"></span></span></nobr><span class=\"MJX_Assistive_MathML\" role=\"presentation\"><math xmlns=\"http://www.w3.org/1998/Math/MathML\"><mrow class=\"MJX-TeXAtom-ORD\"><mrow class=\"MJX-TeXAtom-ORD\"><mi mathvariant=\"double-struck\">Q</mi></mrow></mrow><mo>=</mo><mo fence=\"false\" stretchy=\"false\">{</mo><mfrac><mi>p</mi><mi>q</mi></mfrac><mo>:</mo><mi>p</mi><mo>∈</mo><mrow class=\"MJX-TeXAtom-ORD\"><mrow class=\"MJX-TeXAtom-ORD\"><mi mathvariant=\"double-struck\">Z</mi></mrow></mrow><mo>,</mo><mi>q</mi><mo>∈</mo><mrow class=\"MJX-TeXAtom-ORD\"><mrow class=\"MJX-TeXAtom-ORD\"><mi mathvariant=\"double-struck\">Z</mi></mrow></mrow><mi class=\"MJX-variant\" mathvariant=\"normal\">∖</mi><mo fence=\"false\" stretchy=\"false\">{</mo><mn>0</mn><mo fence=\"false\" stretchy=\"false\">}</mo><mo fence=\"false\" stretchy=\"false\">}</mo></math></span></span><script type=\"math/tex\" id=\"MathJax-Element-34\">{\\mathbb{Q}} = \\{\\frac{p}{q} : p\\in {\\mathbb{Z}}, q\\in {\\mathbb{Z}} \\backslash \\{0\\}\\}</script></span></p></td>\n",
        "</tr>\n",
        "<tr class=\"row-even\"><td><p>Irrationals</p></td>\n",
        "<td><p><span class=\"math notranslate nohighlight\"><span class=\"MathJax_Preview\" style=\"color: inherit;\"></span><span class=\"MathJax\" id=\"MathJax-Element-35-Frame\" tabindex=\"0\" data-mathml=\"<math xmlns=&quot;http://www.w3.org/1998/Math/MathML&quot;><mrow class=&quot;MJX-TeXAtom-ORD&quot;><mi mathvariant=&quot;double-struck&quot;>I</mi></mrow></math>\" role=\"presentation\" style=\"position: relative;\"><nobr aria-hidden=\"true\"><span class=\"math\" id=\"MathJax-Span-223\" style=\"width: 0.402em; display: inline-block;\"><span style=\"display: inline-block; position: relative; width: 0.345em; height: 0px; font-size: 117%;\"><span style=\"position: absolute; clip: rect(1.712em, 1000.29em, 2.738em, -999.997em); top: -2.561em; left: 0em;\"><span class=\"mrow\" id=\"MathJax-Span-224\"><span class=\"texatom\" id=\"MathJax-Span-225\"><span class=\"mrow\" id=\"MathJax-Span-226\"><span class=\"mi\" id=\"MathJax-Span-227\" style=\"font-family: STIXGeneral-Regular;\">𝕀</span></span></span></span><span style=\"display: inline-block; width: 0px; height: 2.567em;\"></span></span></span><span style=\"display: inline-block; overflow: hidden; vertical-align: -0.063em; border-left: 0px solid; width: 0px; height: 0.937em;\"></span></span></nobr><span class=\"MJX_Assistive_MathML\" role=\"presentation\"><math xmlns=\"http://www.w3.org/1998/Math/MathML\"><mrow class=\"MJX-TeXAtom-ORD\"><mi mathvariant=\"double-struck\">I</mi></mrow></math></span></span><script type=\"math/tex\" id=\"MathJax-Element-35\">\\mathbb{I}</script></span></p></td>\n",
        "<td><p><span class=\"math notranslate nohighlight\"><span class=\"MathJax_Preview\" style=\"color: inherit;\"></span><span class=\"MathJax\" id=\"MathJax-Element-36-Frame\" tabindex=\"0\" data-mathml=\"<math xmlns=&quot;http://www.w3.org/1998/Math/MathML&quot;><mrow class=&quot;MJX-TeXAtom-ORD&quot;><mrow class=&quot;MJX-TeXAtom-ORD&quot;><mi mathvariant=&quot;double-struck&quot;>I</mi></mrow></mrow></math>\" role=\"presentation\" style=\"position: relative;\"><nobr aria-hidden=\"true\"><span class=\"math\" id=\"MathJax-Span-228\" style=\"width: 0.402em; display: inline-block;\"><span style=\"display: inline-block; position: relative; width: 0.345em; height: 0px; font-size: 117%;\"><span style=\"position: absolute; clip: rect(1.712em, 1000.29em, 2.738em, -999.997em); top: -2.561em; left: 0em;\"><span class=\"mrow\" id=\"MathJax-Span-229\"><span class=\"texatom\" id=\"MathJax-Span-230\"><span class=\"mrow\" id=\"MathJax-Span-231\"><span class=\"texatom\" id=\"MathJax-Span-232\"><span class=\"mrow\" id=\"MathJax-Span-233\"><span class=\"mi\" id=\"MathJax-Span-234\" style=\"font-family: STIXGeneral-Regular;\">𝕀</span></span></span></span></span></span><span style=\"display: inline-block; width: 0px; height: 2.567em;\"></span></span></span><span style=\"display: inline-block; overflow: hidden; vertical-align: -0.063em; border-left: 0px solid; width: 0px; height: 0.937em;\"></span></span></nobr><span class=\"MJX_Assistive_MathML\" role=\"presentation\"><math xmlns=\"http://www.w3.org/1998/Math/MathML\"><mrow class=\"MJX-TeXAtom-ORD\"><mrow class=\"MJX-TeXAtom-ORD\"><mi mathvariant=\"double-struck\">I</mi></mrow></mrow></math></span></span><script type=\"math/tex\" id=\"MathJax-Element-36\">{\\mathbb{I}}</script></span> is the set of real numbers not expressible as a fraction of integers.</p></td>\n",
        "</tr>\n",
        "<tr class=\"row-odd\"><td><p>Reals</p></td>\n",
        "<td><p><span class=\"math notranslate nohighlight\"><span class=\"MathJax_Preview\" style=\"color: inherit;\"></span><span class=\"MathJax\" id=\"MathJax-Element-37-Frame\" tabindex=\"0\" data-mathml=\"<math xmlns=&quot;http://www.w3.org/1998/Math/MathML&quot;><mrow class=&quot;MJX-TeXAtom-ORD&quot;><mi mathvariant=&quot;double-struck&quot;>R</mi></mrow></math>\" role=\"presentation\" style=\"position: relative;\"><nobr aria-hidden=\"true\"><span class=\"math\" id=\"MathJax-Span-235\" style=\"width: 0.915em; display: inline-block;\"><span style=\"display: inline-block; position: relative; width: 0.744em; height: 0px; font-size: 117%;\"><span style=\"position: absolute; clip: rect(1.712em, 1000.69em, 2.738em, -999.997em); top: -2.561em; left: 0em;\"><span class=\"mrow\" id=\"MathJax-Span-236\"><span class=\"texatom\" id=\"MathJax-Span-237\"><span class=\"mrow\" id=\"MathJax-Span-238\"><span class=\"mi\" id=\"MathJax-Span-239\" style=\"font-family: STIXGeneral-Regular;\">ℝ</span></span></span></span><span style=\"display: inline-block; width: 0px; height: 2.567em;\"></span></span></span><span style=\"display: inline-block; overflow: hidden; vertical-align: -0.063em; border-left: 0px solid; width: 0px; height: 0.937em;\"></span></span></nobr><span class=\"MJX_Assistive_MathML\" role=\"presentation\"><math xmlns=\"http://www.w3.org/1998/Math/MathML\"><mrow class=\"MJX-TeXAtom-ORD\"><mi mathvariant=\"double-struck\">R</mi></mrow></math></span></span><script type=\"math/tex\" id=\"MathJax-Element-37\">\\mathbb{R}</script></span></p></td>\n",
        "<td><p><span class=\"math notranslate nohighlight\"><span class=\"MathJax_Preview\" style=\"color: inherit;\"></span><span class=\"MathJax\" id=\"MathJax-Element-38-Frame\" tabindex=\"0\" data-mathml=\"<math xmlns=&quot;http://www.w3.org/1998/Math/MathML&quot;><mrow class=&quot;MJX-TeXAtom-ORD&quot;><mrow class=&quot;MJX-TeXAtom-ORD&quot;><mi mathvariant=&quot;double-struck&quot;>R</mi></mrow></mrow><mo>=</mo><mrow class=&quot;MJX-TeXAtom-ORD&quot;><mi mathvariant=&quot;double-struck&quot;>Q</mi></mrow><mo>&amp;#x222A;</mo><mrow class=&quot;MJX-TeXAtom-ORD&quot;><mi mathvariant=&quot;double-struck&quot;>I</mi></mrow></math>\" role=\"presentation\" style=\"position: relative;\"><nobr aria-hidden=\"true\"><span class=\"math\" id=\"MathJax-Span-240\" style=\"width: 4.903em; display: inline-block;\"><span style=\"display: inline-block; position: relative; width: 4.162em; height: 0px; font-size: 117%;\"><span style=\"position: absolute; clip: rect(1.712em, 1004.11em, 2.795em, -999.997em); top: -2.561em; left: 0em;\"><span class=\"mrow\" id=\"MathJax-Span-241\"><span class=\"texatom\" id=\"MathJax-Span-242\"><span class=\"mrow\" id=\"MathJax-Span-243\"><span class=\"texatom\" id=\"MathJax-Span-244\"><span class=\"mrow\" id=\"MathJax-Span-245\"><span class=\"mi\" id=\"MathJax-Span-246\" style=\"font-family: STIXGeneral-Regular;\">ℝ</span></span></span></span></span><span class=\"mo\" id=\"MathJax-Span-247\" style=\"font-family: STIXGeneral-Regular; padding-left: 0.288em;\">=</span><span class=\"texatom\" id=\"MathJax-Span-248\" style=\"padding-left: 0.288em;\"><span class=\"mrow\" id=\"MathJax-Span-249\"><span class=\"mi\" id=\"MathJax-Span-250\" style=\"font-family: STIXGeneral-Regular;\">ℚ</span></span></span><span class=\"mo\" id=\"MathJax-Span-251\" style=\"font-family: STIXGeneral-Regular; padding-left: 0.231em;\">∪</span><span class=\"texatom\" id=\"MathJax-Span-252\" style=\"padding-left: 0.231em;\"><span class=\"mrow\" id=\"MathJax-Span-253\"><span class=\"mi\" id=\"MathJax-Span-254\" style=\"font-family: STIXGeneral-Regular;\">𝕀</span></span></span></span><span style=\"display: inline-block; width: 0px; height: 2.567em;\"></span></span></span><span style=\"display: inline-block; overflow: hidden; vertical-align: -0.13em; border-left: 0px solid; width: 0px; height: 1.003em;\"></span></span></nobr><span class=\"MJX_Assistive_MathML\" role=\"presentation\"><math xmlns=\"http://www.w3.org/1998/Math/MathML\"><mrow class=\"MJX-TeXAtom-ORD\"><mrow class=\"MJX-TeXAtom-ORD\"><mi mathvariant=\"double-struck\">R</mi></mrow></mrow><mo>=</mo><mrow class=\"MJX-TeXAtom-ORD\"><mi mathvariant=\"double-struck\">Q</mi></mrow><mo>∪</mo><mrow class=\"MJX-TeXAtom-ORD\"><mi mathvariant=\"double-struck\">I</mi></mrow></math></span></span><script type=\"math/tex\" id=\"MathJax-Element-38\">{\\mathbb{R}} = \\mathbb{Q} \\cup \\mathbb{I}</script></span></p></td>\n",
        "</tr>\n",
        "<tr class=\"row-even\"><td><p>Complex Numbers</p></td>\n",
        "<td><p><span class=\"math notranslate nohighlight\"><span class=\"MathJax_Preview\" style=\"color: inherit;\"></span><span class=\"MathJax\" id=\"MathJax-Element-39-Frame\" tabindex=\"0\" data-mathml=\"<math xmlns=&quot;http://www.w3.org/1998/Math/MathML&quot;><mrow class=&quot;MJX-TeXAtom-ORD&quot;><mi mathvariant=&quot;double-struck&quot;>C</mi></mrow></math>\" role=\"presentation\" style=\"position: relative;\"><nobr aria-hidden=\"true\"><span class=\"math\" id=\"MathJax-Span-255\" style=\"width: 0.801em; display: inline-block;\"><span style=\"display: inline-block; position: relative; width: 0.687em; height: 0px; font-size: 117%;\"><span style=\"position: absolute; clip: rect(1.712em, 1000.63em, 2.738em, -999.997em); top: -2.561em; left: 0em;\"><span class=\"mrow\" id=\"MathJax-Span-256\"><span class=\"texatom\" id=\"MathJax-Span-257\"><span class=\"mrow\" id=\"MathJax-Span-258\"><span class=\"mi\" id=\"MathJax-Span-259\" style=\"font-family: STIXGeneral-Regular;\">ℂ</span></span></span></span><span style=\"display: inline-block; width: 0px; height: 2.567em;\"></span></span></span><span style=\"display: inline-block; overflow: hidden; vertical-align: -0.063em; border-left: 0px solid; width: 0px; height: 0.937em;\"></span></span></nobr><span class=\"MJX_Assistive_MathML\" role=\"presentation\"><math xmlns=\"http://www.w3.org/1998/Math/MathML\"><mrow class=\"MJX-TeXAtom-ORD\"><mi mathvariant=\"double-struck\">C</mi></mrow></math></span></span><script type=\"math/tex\" id=\"MathJax-Element-39\">\\mathbb{C}</script></span></p></td>\n",
        "<td><p><span class=\"math notranslate nohighlight\"><span class=\"MathJax_Preview\" style=\"color: inherit;\"></span><span class=\"MathJax\" id=\"MathJax-Element-40-Frame\" tabindex=\"0\" data-mathml=\"<math xmlns=&quot;http://www.w3.org/1998/Math/MathML&quot;><mrow class=&quot;MJX-TeXAtom-ORD&quot;><mrow class=&quot;MJX-TeXAtom-ORD&quot;><mi mathvariant=&quot;double-struck&quot;>C</mi></mrow></mrow><mo>=</mo><mo fence=&quot;false&quot; stretchy=&quot;false&quot;>{</mo><mi>a</mi><mo>+</mo><mi>b</mi><mi>i</mi><mo>:</mo><mi>a</mi><mo>,</mo><mi>b</mi><mo>&amp;#x2208;</mo><mrow class=&quot;MJX-TeXAtom-ORD&quot;><mrow class=&quot;MJX-TeXAtom-ORD&quot;><mi mathvariant=&quot;double-struck&quot;>R</mi></mrow></mrow><mo>,</mo><mi>i</mi><mo>=</mo><msqrt><mo>&amp;#x2212;</mo><mn>1</mn></msqrt><mo fence=&quot;false&quot; stretchy=&quot;false&quot;>}</mo></math>\" role=\"presentation\" style=\"position: relative;\"><nobr aria-hidden=\"true\"><span class=\"math\" id=\"MathJax-Span-260\" style=\"width: 16.128em; display: inline-block;\"><span style=\"display: inline-block; position: relative; width: 13.792em; height: 0px; font-size: 117%;\"><span style=\"position: absolute; clip: rect(1.484em, 1013.68em, 3.08em, -999.997em); top: -2.561em; left: 0em;\"><span class=\"mrow\" id=\"MathJax-Span-261\"><span class=\"texatom\" id=\"MathJax-Span-262\"><span class=\"mrow\" id=\"MathJax-Span-263\"><span class=\"texatom\" id=\"MathJax-Span-264\"><span class=\"mrow\" id=\"MathJax-Span-265\"><span class=\"mi\" id=\"MathJax-Span-266\" style=\"font-family: STIXGeneral-Regular;\">ℂ</span></span></span></span></span><span class=\"mo\" id=\"MathJax-Span-267\" style=\"font-family: STIXGeneral-Regular; padding-left: 0.288em;\">=</span><span class=\"mo\" id=\"MathJax-Span-268\" style=\"font-family: STIXGeneral-Regular; padding-left: 0.288em;\">{</span><span class=\"mi\" id=\"MathJax-Span-269\" style=\"font-family: STIXGeneral-Italic;\">𝑎</span><span class=\"mo\" id=\"MathJax-Span-270\" style=\"font-family: STIXGeneral-Regular; padding-left: 0.231em;\">+</span><span class=\"mi\" id=\"MathJax-Span-271\" style=\"font-family: STIXGeneral-Italic; padding-left: 0.231em;\">𝑏</span><span class=\"mi\" id=\"MathJax-Span-272\" style=\"font-family: STIXGeneral-Italic;\">𝑖</span><span class=\"mo\" id=\"MathJax-Span-273\" style=\"font-family: STIXGeneral-Regular; padding-left: 0.288em;\">:</span><span class=\"mi\" id=\"MathJax-Span-274\" style=\"font-family: STIXGeneral-Italic; padding-left: 0.288em;\">𝑎</span><span class=\"mo\" id=\"MathJax-Span-275\" style=\"font-family: STIXGeneral-Regular;\">,</span><span class=\"mi\" id=\"MathJax-Span-276\" style=\"font-family: STIXGeneral-Italic; padding-left: 0.174em;\">𝑏</span><span class=\"mo\" id=\"MathJax-Span-277\" style=\"font-family: STIXGeneral-Regular; padding-left: 0.288em;\">∈</span><span class=\"texatom\" id=\"MathJax-Span-278\" style=\"padding-left: 0.288em;\"><span class=\"mrow\" id=\"MathJax-Span-279\"><span class=\"texatom\" id=\"MathJax-Span-280\"><span class=\"mrow\" id=\"MathJax-Span-281\"><span class=\"mi\" id=\"MathJax-Span-282\" style=\"font-family: STIXGeneral-Regular;\">ℝ</span></span></span></span></span><span class=\"mo\" id=\"MathJax-Span-283\" style=\"font-family: STIXGeneral-Regular;\">,</span><span class=\"mi\" id=\"MathJax-Span-284\" style=\"font-family: STIXGeneral-Italic; padding-left: 0.174em;\">𝑖</span><span class=\"mo\" id=\"MathJax-Span-285\" style=\"font-family: STIXGeneral-Regular; padding-left: 0.288em;\">=</span><span class=\"msqrt\" id=\"MathJax-Span-286\" style=\"padding-left: 0.288em;\"><span style=\"display: inline-block; position: relative; width: 2.168em; height: 0px;\"><span style=\"position: absolute; clip: rect(3.137em, 1001.09em, 4.276em, -999.997em); top: -3.986em; left: 0.915em;\"><span class=\"mrow\" id=\"MathJax-Span-287\"><span class=\"mo\" id=\"MathJax-Span-288\" style=\"font-family: STIXGeneral-Regular;\">−</span><span class=\"mn\" id=\"MathJax-Span-289\" style=\"font-family: STIXGeneral-Regular;\">1</span></span><span style=\"display: inline-block; width: 0px; height: 3.991em;\"></span></span><span style=\"position: absolute; clip: rect(3.023em, 1001.2em, 3.365em, -999.997em); top: -4.043em; left: 0.915em;\"><span style=\"display: inline-block; position: relative; width: 1.199em; height: 0px;\"><span style=\"position: absolute; font-family: STIXGeneral-Regular; top: -3.986em; left: 0em;\">‾<span style=\"display: inline-block; width: 0px; height: 3.991em;\"></span></span><span style=\"position: absolute; font-family: STIXGeneral-Regular; top: -3.986em; left: 0.687em;\">‾<span style=\"display: inline-block; width: 0px; height: 3.991em;\"></span></span><span style=\"font-family: STIXGeneral-Regular; position: absolute; top: -3.986em; left: 0.345em;\">‾<span style=\"display: inline-block; width: 0px; height: 3.991em;\"></span></span></span><span style=\"display: inline-block; width: 0px; height: 3.991em;\"></span></span><span style=\"position: absolute; clip: rect(2.852em, 1000.97em, 4.447em, -999.997em); top: -3.929em; left: 0em;\"><span style=\"font-family: STIXGeneral-Regular;\">√</span><span style=\"display: inline-block; width: 0px; height: 3.991em;\"></span></span></span></span><span class=\"mo\" id=\"MathJax-Span-290\" style=\"font-family: STIXGeneral-Regular;\">}</span></span><span style=\"display: inline-block; width: 0px; height: 2.567em;\"></span></span></span><span style=\"display: inline-block; overflow: hidden; vertical-align: -0.463em; border-left: 0px solid; width: 0px; height: 1.603em;\"></span></span></nobr><span class=\"MJX_Assistive_MathML\" role=\"presentation\"><math xmlns=\"http://www.w3.org/1998/Math/MathML\"><mrow class=\"MJX-TeXAtom-ORD\"><mrow class=\"MJX-TeXAtom-ORD\"><mi mathvariant=\"double-struck\">C</mi></mrow></mrow><mo>=</mo><mo fence=\"false\" stretchy=\"false\">{</mo><mi>a</mi><mo>+</mo><mi>b</mi><mi>i</mi><mo>:</mo><mi>a</mi><mo>,</mo><mi>b</mi><mo>∈</mo><mrow class=\"MJX-TeXAtom-ORD\"><mrow class=\"MJX-TeXAtom-ORD\"><mi mathvariant=\"double-struck\">R</mi></mrow></mrow><mo>,</mo><mi>i</mi><mo>=</mo><msqrt><mo>−</mo><mn>1</mn></msqrt><mo fence=\"false\" stretchy=\"false\">}</mo></math></span></span><script type=\"math/tex\" id=\"MathJax-Element-40\">{\\mathbb{C}} = \\{a + bi : a,b\\in {\\mathbb{R}}, i = \\sqrt{-1}\\}</script></span></p></td>\n",
        "</tr>\n",
        "</tbody>\n",
        "</table>"
      ],
      "metadata": {
        "id": "YNARQsQpeUzf"
      }
    },
    {
      "cell_type": "markdown",
      "source": [
        "# [Datatypes in Numpy](https://docs.scipy.org/doc/numpy-1.14.0/reference/arrays.scalars.html)\n",
        "\n",
        "![image.png](data:image/png;base64,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)\n",
        "\n",
        "\n",
        "In NumPy a python library, there are 24 new fundamental data types to describe different types of scalars."
      ],
      "metadata": {
        "id": "MbcwU38NcY8B"
      }
    },
    {
      "cell_type": "markdown",
      "source": [
        "![image.png](data:image/png;base64,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)"
      ],
      "metadata": {
        "id": "TJcV0QCccLjs"
      }
    },
    {
      "cell_type": "markdown",
      "source": [
        "![image.png](data:image/png;base64,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)\n",
        "\n",
        "Vector Representation in 2-D Plane\n",
        "\n",
        "![image.png](data:image/png;base64,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)\n",
        "\n",
        "Addition of Tow Vectors in 2-D Plane"
      ],
      "metadata": {
        "id": "iwgZ9Sd5xiky"
      }
    },
    {
      "cell_type": "markdown",
      "source": [
        "built-in scalar types are int, float, complex, bytes, Unicode in Python."
      ],
      "metadata": {
        "id": "qUG7vCkUejRo"
      }
    },
    {
      "cell_type": "markdown",
      "source": [
        "# Defining Scalars and Few Operations in Python:"
      ],
      "metadata": {
        "id": "AU1q2qb9e1dG"
      }
    },
    {
      "cell_type": "code",
      "source": [
        "# In-Built Scalars\n",
        "# The following code snippet explains few arithmetic operations on Scalars.\n",
        "a = 5\n",
        "b = 7.5\n",
        "print(type(a))\n",
        "print(type(b))\n",
        "print(a + b)\n",
        "print(a - b)\n",
        "print(a * b)\n",
        "print(a / b)"
      ],
      "metadata": {
        "colab": {
          "base_uri": "https://localhost:8080/"
        },
        "id": "yEcVgqpje6gU",
        "outputId": "cfad07db-eacd-4c05-a25b-af74d4c1a9cb"
      },
      "execution_count": 194,
      "outputs": [
        {
          "output_type": "stream",
          "name": "stdout",
          "text": [
            "<class 'int'>\n",
            "<class 'float'>\n",
            "12.5\n",
            "-2.5\n",
            "37.5\n",
            "0.6666666666666666\n"
          ]
        }
      ]
    },
    {
      "cell_type": "code",
      "source": [
        "# The following code snippet checks if the given variable is scalar or not.\n",
        "\n",
        "import numpy as np\n",
        "\n",
        "# Is Scalar Function\n",
        "def isscalar(num):\n",
        "    if isinstance(num, generic):\n",
        "        return True\n",
        "    else:\n",
        "        return False\n",
        "\n",
        "print(np.isscalar(3.1))\n",
        "print(np.isscalar([3.1]))\n",
        "print(np.isscalar(False))"
      ],
      "metadata": {
        "colab": {
          "base_uri": "https://localhost:8080/"
        },
        "id": "1WPy7MwufI76",
        "outputId": "60dd767d-99e8-4821-8b64-2408493ef26a"
      },
      "execution_count": 195,
      "outputs": [
        {
          "output_type": "stream",
          "name": "stdout",
          "text": [
            "True\n",
            "False\n",
            "True\n"
          ]
        }
      ]
    },
    {
      "cell_type": "markdown",
      "source": [
        "# Vectors:\n",
        "\n",
        "Vectors are ordered arrays of single numbers and are an example of 1st-order tensor. \n",
        "\n",
        "Vectors are fragments of objects known as vector spaces. \n",
        "\n",
        "A vector space can be considered of as the entire collection of all possible vectors of a particular length (or dimension). \n",
        "\n",
        "The three-dimensional real-valued vector space, denoted by ℝ^3 is often used to represent our real-world notion of three-dimensional space mathematically.\n",
        "\n",
        "![image.png](data:image/png;base64,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)\n",
        "\n",
        "\n",
        "To identify the necessary component of a vector explicitly, the ith scalar element of a vector is written as x[i]."
      ],
      "metadata": {
        "id": "a-BTd6D-fhhB"
      }
    },
    {
      "cell_type": "markdown",
      "source": [
        "In deep learning vectors usually represent feature vectors, with their original components defining how relevant a particular feature is. \n",
        "\n",
        "Such elements could include the related importance of the intensity of a set of pixels in a two-dimensional image or historical price values for a cross-section of financial instruments."
      ],
      "metadata": {
        "id": "W_5f9uP5gTT_"
      }
    },
    {
      "cell_type": "markdown",
      "source": [
        "# Defining Vectors and Few Operations in Python:\n",
        "\n"
      ],
      "metadata": {
        "id": "lp91Sn4WgeY9"
      }
    },
    {
      "cell_type": "code",
      "source": [
        "import numpy as np\n",
        "\n",
        "# Declaring Vectors\n",
        "x = [1, 2, 3]\n",
        "y = [4, 5, 6]\n",
        "\n",
        "print(type(x))\n",
        "\n",
        "# This does'nt give the vector addition.\n",
        "print(\"x + y: \", x + y)\n",
        "\n",
        "# Vector addition using Numpy\n",
        "z = np.add(x, y)\n",
        "print(\"z: \", z)\n",
        "print(\"type(z): \", type(z))\n",
        "\n",
        "# Vector Cross Product\n",
        "mul = np.cross(x, y)\n",
        "print(\"np.cross(x, y): \", mul)\n",
        "\n",
        "# Vector Dot Product\n",
        "print(\"np.dot(x, y): \", np.dot(x, y))\n",
        "\n",
        "# Vector Dot Product\n",
        "print(\"x * y: \", np.array(x) * np.array(y) )"
      ],
      "metadata": {
        "colab": {
          "base_uri": "https://localhost:8080/"
        },
        "id": "N5wsK_bVgjJ6",
        "outputId": "734f01db-cc67-4613-969e-9f1333d3cdff"
      },
      "execution_count": 212,
      "outputs": [
        {
          "output_type": "stream",
          "name": "stdout",
          "text": [
            "<class 'list'>\n",
            "x + y:  [1, 2, 3, 4, 5, 6]\n",
            "z:  [5 7 9]\n",
            "type(z):  <class 'numpy.ndarray'>\n",
            "np.cross(x, y):  [-3  6 -3]\n",
            "np.dot(x, y):  32\n",
            "x * y:  [ 4 10 18]\n"
          ]
        }
      ]
    },
    {
      "cell_type": "code",
      "source": [
        "import numpy as np\n",
        "x = np.array([-10, 0, 10])\n",
        "p = np.array([0.1, 0.4, 0.5])\n",
        "print(\"np.inner(x, p): \", np.inner(x, p))\n",
        "print(\"np.inner(p, x): \", np.inner(p, x))\n",
        "print(\"x @ p: \", x@p)\n",
        "print(\"p @ x: \", p@x)\n",
        "print(\"x * p: \", x*p)\n",
        "print(\"p * x: \", p*x)\n",
        "print(\"x.dot(p): \", x.dot(p))\n",
        "print(\"p.dot(x): \", p.dot(x))"
      ],
      "metadata": {
        "colab": {
          "base_uri": "https://localhost:8080/"
        },
        "id": "ZUVu2mRYapDu",
        "outputId": "f3ba8a2f-f567-4685-b809-34bfee5c69be"
      },
      "execution_count": 216,
      "outputs": [
        {
          "output_type": "stream",
          "name": "stdout",
          "text": [
            "np.inner(x, p):  4.0\n",
            "np.inner(p, x):  4.0\n",
            "x @ p:  4.0\n",
            "p @ x:  4.0\n",
            "x * p:  [-1.  0.  5.]\n",
            "p * x:  [-1.  0.  5.]\n",
            "x.dot(p):  4.0\n",
            "p.dot(x):  4.0\n"
          ]
        }
      ]
    },
    {
      "cell_type": "code",
      "source": [
        "# addition of vectors\n",
        "import numpy as np\n",
        "x = np.array([1, 5, 6])\n",
        "print(x)\n",
        "y = np.array([1, 5, 6])\n",
        "print(y)\n",
        "z = x + y\n",
        "print(z)"
      ],
      "metadata": {
        "colab": {
          "base_uri": "https://localhost:8080/"
        },
        "id": "eTL59FLG0H13",
        "outputId": "fd53875b-5f68-4ee6-fa1b-7b3c191d1008"
      },
      "execution_count": 223,
      "outputs": [
        {
          "output_type": "stream",
          "name": "stdout",
          "text": [
            "[1 5 6]\n",
            "[1 5 6]\n",
            "[ 2 10 12]\n"
          ]
        }
      ]
    },
    {
      "cell_type": "code",
      "source": [
        "# addition of vectors\n",
        "import numpy as np\n",
        "x = np.array([1, 5, 6])\n",
        "print(x)\n",
        "y = np.array([1, 4, 6])\n",
        "print(y)\n",
        "z = x - y\n",
        "print(z)"
      ],
      "metadata": {
        "colab": {
          "base_uri": "https://localhost:8080/"
        },
        "id": "JvhVJmr40M7Z",
        "outputId": "52f00795-69d1-429c-eb31-74d31a563fd3"
      },
      "execution_count": 224,
      "outputs": [
        {
          "output_type": "stream",
          "name": "stdout",
          "text": [
            "[1 5 6]\n",
            "[1 4 6]\n",
            "[0 1 0]\n"
          ]
        }
      ]
    },
    {
      "cell_type": "code",
      "source": [
        "#vector dot product\n",
        "import numpy as np\n",
        "x = np.array([1, 2, 3])\n",
        "print(x)\n",
        "y = np.array([1, 2, 5])\n",
        "print(y)\n",
        "z = x.dot(y)\n",
        "print(z)"
      ],
      "metadata": {
        "colab": {
          "base_uri": "https://localhost:8080/"
        },
        "id": "B8KdWNlP0Qo3",
        "outputId": "bf311ddd-41ae-4d9f-de47-3a7cec1a1636"
      },
      "execution_count": 225,
      "outputs": [
        {
          "output_type": "stream",
          "name": "stdout",
          "text": [
            "[1 2 3]\n",
            "[1 2 5]\n",
            "20\n"
          ]
        }
      ]
    },
    {
      "cell_type": "code",
      "source": [
        "#vector cross product\n",
        "# vector that is perpendicular to these two vectors with a magnitude equal to the area of the parallelogram spanned by both vectors\n",
        "import numpy as np\n",
        "x = np.array([1, 2, 3])\n",
        "print(x)\n",
        "y = np.array([1, 2, 5])\n",
        "print(y)\n",
        "z = np.cross(x, y)\n",
        "print(z)"
      ],
      "metadata": {
        "colab": {
          "base_uri": "https://localhost:8080/"
        },
        "id": "XWx38Moq0Unn",
        "outputId": "eab17686-5982-4e26-917f-b02d09091c8d"
      },
      "execution_count": 227,
      "outputs": [
        {
          "output_type": "stream",
          "name": "stdout",
          "text": [
            "[1 2 3]\n",
            "[1 2 5]\n",
            "[ 4 -2  0]\n"
          ]
        }
      ]
    },
    {
      "cell_type": "code",
      "source": [
        "# scalar vector multiplication\n",
        "from numpy import array\n",
        "a = array([1, 2, 3])\n",
        "print(a)\n",
        "b = 2.0\n",
        "print(b)\n",
        "c = b * a\n",
        "print(c)"
      ],
      "metadata": {
        "colab": {
          "base_uri": "https://localhost:8080/"
        },
        "id": "kKc6yA6y0Z_w",
        "outputId": "ef5e4770-2479-450e-82c5-1830f3b3c12f"
      },
      "execution_count": 222,
      "outputs": [
        {
          "output_type": "stream",
          "name": "stdout",
          "text": [
            "[1 2 3]\n",
            "2.0\n",
            "[2. 4. 6.]\n"
          ]
        }
      ]
    },
    {
      "cell_type": "code",
      "source": [
        "#unit vector product\n",
        "from numpy import array\n",
        "x = array([1, 2, 3])\n",
        "x_hat = x / (x**2).sum()**0.5\n",
        "print(x)"
      ],
      "metadata": {
        "id": "AOlAiGIl0jwK"
      },
      "execution_count": null,
      "outputs": []
    },
    {
      "cell_type": "markdown",
      "source": [
        "# Matrices\n",
        "\n",
        "Matrices are rectangular arrays consisting of numbers and are an example of 2nd-order tensors. \n",
        "\n",
        "If m and n are positive integers, that is m, n ∈ ℕ then the m×n matrix contains m*n numbers, with m rows and n columns.\n",
        "\n",
        "The full m×n matrix can be written as:\n",
        "\n",
        "![image.png](data:image/png;base64,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)\n",
        "\n",
        "It is often useful to abbreviate the full matrix component display into the following expression:\n",
        "\n",
        "![image.png](data:image/png;base64,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)\n",
        "\n",
        "\n",
        "We can create ndimensional arrays using numpy. Which are basically matrices, we use matrix method and pass in the lists and thereby defining a matrix.\n",
        "\n",
        "```python\n",
        ">>> import numpy as np\n",
        ">>> x = np.matrix([[1,2],[2,3]])\n",
        ">>> x\n",
        "matrix([[1, 2],\n",
        "        [2, 3]])\n",
        "\n",
        ">>> a = x.mean(0)\n",
        ">>> a\n",
        "matrix([[1.5, 2.5]])\n",
        ">>> # Finding the mean with 1 with the matrix x.\n",
        ">>> z = x.mean(1)\n",
        ">>> z\n",
        "matrix([[ 1.5],\n",
        "        [ 2.5]])\n",
        ">>> z.shape\n",
        "(2, 1)\n",
        ">>> y = x - z\n",
        "matrix([[-0.5,  0.5],\n",
        "        [-0.5,  0.5]])\n",
        ">>> print(type(z))\n",
        "<class 'numpy.matrixlib.defmatrix.matrix'>\n",
        "```"
      ],
      "metadata": {
        "id": "CmMdnnWZhC2t"
      }
    },
    {
      "cell_type": "markdown",
      "source": [
        "# Defining Matrices and Few Operations in Python:\n",
        "\n",
        "# Matrix Addition\n",
        "Matrices can be added to scalars, vectors and other matrices. Each of these operations has a precise definition. These techniques are used frequently in machine learning and deep learning so it is worth familiarising yourself with them.\n",
        "\n",
        "[For more info](https://hadrienj.github.io/posts/Deep-Learning-Book-Series-2.2-Multiplying-Matrices-and-Vectors/)"
      ],
      "metadata": {
        "id": "QBH6ngmvhxKC"
      }
    },
    {
      "cell_type": "code",
      "source": [
        "# Matrix Addition\n",
        "\n",
        "import numpy as np\n",
        "\n",
        "x = np.matrix([[1, 2], [4, 3]])\n",
        "\n",
        "sum = x.sum()\n",
        "print(sum)\n",
        "# Output: 10"
      ],
      "metadata": {
        "colab": {
          "base_uri": "https://localhost:8080/"
        },
        "id": "7DefjhuMbBQ9",
        "outputId": "7dec57c2-3f0e-49b1-b4ad-a9593f2c39de"
      },
      "execution_count": 198,
      "outputs": [
        {
          "output_type": "stream",
          "name": "stdout",
          "text": [
            "10\n"
          ]
        }
      ]
    },
    {
      "cell_type": "markdown",
      "source": [
        "# Matrix-Matrix Addition\n",
        "C = A + B (Shape of A and B should be equal)\n",
        "\n",
        "The methods shape return the shape of the matrix, and add takes in two arguments and returns the sum of those matrices. If the shape of the matrices is not same it throws an error saying, addition not possible."
      ],
      "metadata": {
        "id": "-tbe3ZbQh_QK"
      }
    },
    {
      "cell_type": "code",
      "source": [
        "# Matrix-Matrix Addition\n",
        "\n",
        "import numpy as np\n",
        "\n",
        "x = np.matrix([[1, 2], [4, 3]])\n",
        "y = np.matrix([[3, 4], [3, 10]])\n",
        "\n",
        "print(x.shape)\n",
        "# (2, 2)\n",
        "print(y.shape)\n",
        "# (2, 2)\n",
        "\n",
        "m_sum = np.add(x, y)\n",
        "print(m_sum)\n",
        "print(m_sum.shape)"
      ],
      "metadata": {
        "colab": {
          "base_uri": "https://localhost:8080/"
        },
        "id": "_miemaI7h5Ba",
        "outputId": "e694444f-6eb7-4659-9687-55571a75c92e"
      },
      "execution_count": 200,
      "outputs": [
        {
          "output_type": "stream",
          "name": "stdout",
          "text": [
            "(2, 2)\n",
            "(2, 2)\n",
            "[[ 4  6]\n",
            " [ 7 13]]\n",
            "(2, 2)\n"
          ]
        }
      ]
    },
    {
      "cell_type": "markdown",
      "source": [
        "# Matrix-Scalar Addition\n",
        "Adds the given scalar to all the elements in the given matrix."
      ],
      "metadata": {
        "id": "VemUVjrGiOdd"
      }
    },
    {
      "cell_type": "code",
      "source": [
        "# Matrix-Scalar Addition\n",
        "\n",
        "import numpy as np\n",
        "\n",
        "x = np.matrix([[1, 2], [4, 3]])\n",
        "s_sum = x + 1\n",
        "print(s_sum)"
      ],
      "metadata": {
        "colab": {
          "base_uri": "https://localhost:8080/"
        },
        "id": "nybahjNDiFIi",
        "outputId": "5ab450de-0a83-47b8-a744-54d0740dae6b"
      },
      "execution_count": 201,
      "outputs": [
        {
          "output_type": "stream",
          "name": "stdout",
          "text": [
            "[[2 3]\n",
            " [5 4]]\n"
          ]
        }
      ]
    },
    {
      "cell_type": "markdown",
      "source": [
        "# Matrix Scalar Multiplication\n",
        "Multiplies the given scalar to all the elements in the given matrix."
      ],
      "metadata": {
        "id": "QgRPcHYkiWAC"
      }
    },
    {
      "cell_type": "code",
      "source": [
        "# Matrix Scalar Multiplication\n",
        "\n",
        "import numpy as np\n",
        "\n",
        "x = np.matrix([[1, 2], [4, 3]])\n",
        "s_mul = x * 3\n",
        "print(s_mul)"
      ],
      "metadata": {
        "colab": {
          "base_uri": "https://localhost:8080/"
        },
        "id": "svcoePUmiSjb",
        "outputId": "d3e2a890-cff7-40b6-ab92-fcfa15b91663"
      },
      "execution_count": 202,
      "outputs": [
        {
          "output_type": "stream",
          "name": "stdout",
          "text": [
            "[[ 3  6]\n",
            " [12  9]]\n"
          ]
        }
      ]
    },
    {
      "cell_type": "markdown",
      "source": [
        "# Matrix Multiplication\n",
        "A of shape (m x n) and B of shape (n x p) multiplied gives C of shape (m x p)\n",
        "\n",
        "![image.png](data:image/png;base64,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)"
      ],
      "metadata": {
        "id": "gh9q-u97idxs"
      }
    },
    {
      "cell_type": "code",
      "source": [
        "# Matrix Multiplication\n",
        "\n",
        "import numpy as np\n",
        "\n",
        "a = [[1, 0], [0, 1]]\n",
        "b = [1, 2]\n",
        "np.matmul(a, b)\n",
        "# Output: array([1, 2])\n",
        "\n",
        "complex_mul = np.matmul([2j, 3j], [2j, 3j])\n",
        "print(complex_mul)\n",
        "# Output: (-13+0j)"
      ],
      "metadata": {
        "colab": {
          "base_uri": "https://localhost:8080/"
        },
        "id": "bwcpXRSTia2m",
        "outputId": "38c550f6-a93c-4772-b177-652e53eb29d1"
      },
      "execution_count": 203,
      "outputs": [
        {
          "output_type": "stream",
          "name": "stdout",
          "text": [
            "(-13+0j)\n"
          ]
        }
      ]
    },
    {
      "cell_type": "markdown",
      "source": [
        "# Matrix Transpose\n",
        "With transposition you can convert a row vector to a column vector and vice versa:\n",
        "\n",
        "A=[aij]mxn\n",
        "\n",
        "AT=[aji]n×m\n",
        "\n",
        "\n",
        "![image.png](data:image/png;base64,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)"
      ],
      "metadata": {
        "id": "lNtKfeStjgxW"
      }
    },
    {
      "cell_type": "code",
      "source": [
        "# Matrix Transpose\n",
        "\n",
        "import numpy as np\n",
        "\n",
        "a = np.array([[1, 2], [3, 4]])\n",
        "print(a)\n",
        "\"\"\"\n",
        "[[1 2]\n",
        " [3 4]]\n",
        "\"\"\"\n",
        "a.transpose()\n",
        "print(a)"
      ],
      "metadata": {
        "colab": {
          "base_uri": "https://localhost:8080/"
        },
        "id": "XL9tgIDpjaYc",
        "outputId": "dffabebb-ff50-433a-d455-52b7dba1f8c1"
      },
      "execution_count": 204,
      "outputs": [
        {
          "output_type": "stream",
          "name": "stdout",
          "text": [
            "[[1 2]\n",
            " [3 4]]\n",
            "[[1 2]\n",
            " [3 4]]\n"
          ]
        }
      ]
    },
    {
      "cell_type": "markdown",
      "source": [
        "# Tensors\n",
        "The more general entity of a tensor encapsulates the scalar, vector and the matrix. It is sometimes necessary — both in the physical sciences and machine learning — to make use of tensors with order that exceeds two.\n",
        "\n",
        "![image.png](data:image/png;base64,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)\n",
        "\n",
        "We use Python libraries like tensorflow or PyTorch in order to declare tensors, rather than nesting matrices."
      ],
      "metadata": {
        "id": "tdb1N46Zj-Pr"
      }
    },
    {
      "cell_type": "markdown",
      "source": [
        "# To define a simple tensor in PyTorch"
      ],
      "metadata": {
        "id": "VvERPowXmV23"
      }
    },
    {
      "cell_type": "code",
      "source": [
        "import torch\n",
        "\n",
        "a = torch.Tensor([26])\n",
        "\n",
        "print(type(a))\n",
        "# <class 'torch.FloatTensor'>\n",
        "\n",
        "print(a.shape)\n",
        "# torch.Size([1])\n",
        "\n",
        "# Creates a Random Torch Variable of size 5x3.\n",
        "t = torch.Tensor(5, 3)\n",
        "print(t)\n",
        "\"\"\"\n",
        " 0.0000e+00  0.0000e+00  0.0000e+00\n",
        " 0.0000e+00  7.0065e-45  1.1614e-41\n",
        " 0.0000e+00  2.2369e+08  0.0000e+00\n",
        " 0.0000e+00  0.0000e+00  0.0000e+00\n",
        "        nan         nan -1.4469e+35\n",
        "[torch.FloatTensor of size 5x3]\n",
        "\"\"\"\n",
        "print(t.shape)\n",
        "# torch.Size([5, 3])"
      ],
      "metadata": {
        "colab": {
          "base_uri": "https://localhost:8080/"
        },
        "id": "VFCbJlPVj4XX",
        "outputId": "616a000d-5739-48dd-c3e3-5b2752aa14d5"
      },
      "execution_count": 205,
      "outputs": [
        {
          "output_type": "stream",
          "name": "stdout",
          "text": [
            "<class 'torch.Tensor'>\n",
            "torch.Size([1])\n",
            "tensor([[1.2636e-34, 0.0000e+00, 3.3631e-44],\n",
            "        [0.0000e+00,        nan, 0.0000e+00],\n",
            "        [4.4721e+21, 1.5956e+25, 4.7399e+16],\n",
            "        [3.7987e-39, 2.8175e+20, 1.7566e+25],\n",
            "        [1.7748e+28, 0.0000e+00, 0.0000e+00]])\n",
            "torch.Size([5, 3])\n"
          ]
        }
      ]
    },
    {
      "cell_type": "markdown",
      "source": [
        "# Rotation of a point around the origin (0,0)"
      ],
      "metadata": {
        "id": "vYS-SMHOanOp"
      }
    },
    {
      "cell_type": "code",
      "source": [
        "import numpy as np\n",
        "import matplotlib.pyplot as plt\n",
        "import math"
      ],
      "metadata": {
        "id": "mqh6vfv5an6B"
      },
      "execution_count": 1,
      "outputs": []
    },
    {
      "cell_type": "markdown",
      "source": [
        "# Algorithm\n",
        "\n",
        "1. Determine the initial point to rotate, given as (1,0) and set the origin as (0,0)\n",
        "\n",
        "2. Apply the above rotation formula to each value of  to the  and the  to determine  and .\n",
        "\n",
        "3. Display the original point and the new point as vectors with the tail at the origin (0,0)"
      ],
      "metadata": {
        "id": "NvbB8nyIbCk6"
      }
    },
    {
      "cell_type": "code",
      "source": [
        "def point_rotation(theta):\n",
        "    # Set origin at (0,0) and point to rotate at (1,0)\n",
        "    p_o = (0,0)\n",
        "    p = (1, 0)\n",
        "    \n",
        "    # Use the x and y rotation formulas to rotate around the origin    \n",
        "    p_prime = (round((p[0]*math.cos(theta)-p[1]*math.sin(theta)), 2), round((p[0]*math.sin(theta)+ p[1]*math.cos(theta)), 2))\n",
        "    \n",
        "    # Printing outputs to the user to view the relevant information\n",
        "    print(\"------------------------------------------\")\n",
        "    print(f\"Point = {p}\")\n",
        "    print(f\"Rotation anticlockwise in degrees = {round((theta * 180 / math.pi), 2)}\")\n",
        "    print(f\"Point' = {p_prime}\")\n",
        "    \n",
        "    # Display the rotation as vectors from the origin and setup cartesian coordinates\n",
        "    plt.rcParams[\"figure.figsize\"] = (5,5)\n",
        "    ax = plt.axes()\n",
        "    ax.arrow(p_o[0],p_o[1], p[0],p[1] , head_width=0.1, head_length=0.1)\n",
        "    ax.arrow(p_o[0],p_o[1], p_prime[0],p_prime[1] , head_width=0.1, head_length=0.1)\n",
        "    ax.grid(which='both', color='grey', linewidth=1, linestyle='-', alpha=0.2)\n",
        "    ax.spines['bottom'].set_position('zero')\n",
        "    ax.spines['left'].set_position('zero')\n",
        "    ax.spines['top'].set_visible(False)\n",
        "    ax.spines['right'].set_visible(False)\n",
        "    \n",
        "    x_ticks = np.arange(-2, 2, 0.25)\n",
        "    y_ticks = np.arange(-2, 2, 0.25)\n",
        "    ax.set_xticks(x_ticks[x_ticks != 0])\n",
        "    ax.set_yticks(y_ticks[y_ticks != 0])\n",
        "    ax.set_xticks(np.arange(-2, 2, 0.25), minor=True)\n",
        "    ax.set_yticks(np.arange(-2, 2, 0.25), minor=True)\n",
        "\n",
        "    plt.ylim(-1.2,1.2)\n",
        "    plt.xlim(-1.2,1.2)\n",
        "    \n",
        "    plt.show()\n"
      ],
      "metadata": {
        "id": "LLgs0k3Wa-8_"
      },
      "execution_count": 2,
      "outputs": []
    },
    {
      "cell_type": "code",
      "source": [
        "thetas = [math.pi/8, math.pi/4, math.pi/2, 3*math.pi/4]\n",
        "\n",
        "for theta_in in thetas:\n",
        "    point_rotation(theta_in)"
      ],
      "metadata": {
        "colab": {
          "base_uri": "https://localhost:8080/",
          "height": 1000
        },
        "id": "ENPbREhAbQBd",
        "outputId": "ddd868ac-3bfe-47fe-c1ae-2729d7b82cec"
      },
      "execution_count": 3,
      "outputs": [
        {
          "output_type": "stream",
          "name": "stdout",
          "text": [
            "------------------------------------------\n",
            "Point = (1, 0)\n",
            "Rotation anticlockwise in degrees = 22.5\n",
            "Point' = (0.92, 0.38)\n"
          ]
        },
        {
          "output_type": "display_data",
          "data": {
            "text/plain": [
              "<Figure size 360x360 with 1 Axes>"
            ],
            "image/png": "[encoded data removed]"
          },
          "metadata": {
            "needs_background": "light"
          }
        },
        {
          "output_type": "stream",
          "name": "stdout",
          "text": [
            "------------------------------------------\n",
            "Point = (1, 0)\n",
            "Rotation anticlockwise in degrees = 45.0\n",
            "Point' = (0.71, 0.71)\n"
          ]
        },
        {
          "output_type": "display_data",
          "data": {
            "text/plain": [
              "<Figure size 360x360 with 1 Axes>"
            ],
            "image/png": "[encoded data removed]"
          },
          "metadata": {
            "needs_background": "light"
          }
        },
        {
          "output_type": "stream",
          "name": "stdout",
          "text": [
            "------------------------------------------\n",
            "Point = (1, 0)\n",
            "Rotation anticlockwise in degrees = 90.0\n",
            "Point' = (0.0, 1.0)\n"
          ]
        },
        {
          "output_type": "display_data",
          "data": {
            "text/plain": [
              "<Figure size 360x360 with 1 Axes>"
            ],
            "image/png": "[encoded data removed]"
          },
          "metadata": {
            "needs_background": "light"
          }
        },
        {
          "output_type": "stream",
          "name": "stdout",
          "text": [
            "------------------------------------------\n",
            "Point = (1, 0)\n",
            "Rotation anticlockwise in degrees = 135.0\n",
            "Point' = (-0.71, 0.71)\n"
          ]
        },
        {
          "output_type": "display_data",
          "data": {
            "text/plain": [
              "<Figure size 360x360 with 1 Axes>"
            ],
            "image/png": "[encoded data removed]"
          },
          "metadata": {
            "needs_background": "light"
          }
        }
      ]
    },
    {
      "cell_type": "markdown",
      "source": [
        "# Rotation of 2D Image"
      ],
      "metadata": {
        "id": "4OthKeczcE8I"
      }
    },
    {
      "cell_type": "code",
      "source": [
        "import numpy as np\n",
        "import math\n",
        "from matplotlib import pyplot as plt\n",
        "import random"
      ],
      "metadata": {
        "id": "urEqbkNEcJnr"
      },
      "execution_count": 4,
      "outputs": []
    },
    {
      "cell_type": "code",
      "source": [
        "dimension = 11\n",
        "\n",
        "size_array = (dimension, dimension)\n",
        "x_graph_lim = (size_array[0] - 3)\n",
        "y_graph_lim = (size_array[1] - 3)\n",
        "\n",
        "int_in = random.randint(0, 255)\n",
        "img_numpy = np.full((1,dimension), int_in)\n",
        "\n",
        "\n",
        "for _ in range(0,dimension):\n",
        "    int_in = random.randint(0, 255)\n",
        "    buffer_array = np.full((1,dimension), int_in)\n",
        "    img_numpy = np.concatenate((img_numpy, buffer_array))\n",
        "    \n",
        "print(img_numpy)\n",
        "\n",
        "plt.imshow(img_numpy)\n",
        "plt.show()"
      ],
      "metadata": {
        "colab": {
          "base_uri": "https://localhost:8080/",
          "height": 528
        },
        "id": "ewLqM_s6cM-y",
        "outputId": "549daa25-87b9-4016-8e8f-e4a9a7e747fb"
      },
      "execution_count": 5,
      "outputs": [
        {
          "output_type": "stream",
          "name": "stdout",
          "text": [
            "[[ 23  23  23  23  23  23  23  23  23  23  23]\n",
            " [176 176 176 176 176 176 176 176 176 176 176]\n",
            " [247 247 247 247 247 247 247 247 247 247 247]\n",
            " [ 58  58  58  58  58  58  58  58  58  58  58]\n",
            " [ 60  60  60  60  60  60  60  60  60  60  60]\n",
            " [ 58  58  58  58  58  58  58  58  58  58  58]\n",
            " [115 115 115 115 115 115 115 115 115 115 115]\n",
            " [239 239 239 239 239 239 239 239 239 239 239]\n",
            " [106 106 106 106 106 106 106 106 106 106 106]\n",
            " [203 203 203 203 203 203 203 203 203 203 203]\n",
            " [254 254 254 254 254 254 254 254 254 254 254]\n",
            " [ 53  53  53  53  53  53  53  53  53  53  53]]\n"
          ]
        },
        {
          "output_type": "display_data",
          "data": {
            "text/plain": [
              "<Figure size 360x360 with 1 Axes>"
            ],
            "image/png": "[encoded data removed]"
          },
          "metadata": {
            "needs_background": "light"
          }
        }
      ]
    },
    {
      "cell_type": "code",
      "source": [
        "coords = []\n",
        "\n",
        "array_y = 0\n",
        "for y in range(int((size_array[0]-1)/2), int(-1*(size_array[0]+1)/2), -1):\n",
        "    \n",
        "    array_x = 0\n",
        "    \n",
        "    for x in range(int(-1*(size_array[0]-1)/2), int((size_array[0]+1)/2)):\n",
        "        coords.append((x, y, array_x, array_y))\n",
        "        \n",
        "        array_x += 1\n",
        "\n",
        "    array_y += 1\n",
        "\n",
        "# Showing coords = [x, y, np_x, np_y]\n",
        "print(coords)           \n",
        "\n",
        "\n",
        "# Showing how the array is sliced and used to find colour refs\n",
        "print(img_numpy[0][1])\n",
        "print(coords[0])\n",
        "print(img_numpy[coords[0][2]][1])"
      ],
      "metadata": {
        "colab": {
          "base_uri": "https://localhost:8080/"
        },
        "id": "A2in3pTRcTd5",
        "outputId": "c5a2f61a-1d85-4102-9a6d-24f7e97b5b73"
      },
      "execution_count": 6,
      "outputs": [
        {
          "output_type": "stream",
          "name": "stdout",
          "text": [
            "[(-5, 5, 0, 0), (-4, 5, 1, 0), (-3, 5, 2, 0), (-2, 5, 3, 0), (-1, 5, 4, 0), (0, 5, 5, 0), (1, 5, 6, 0), (2, 5, 7, 0), (3, 5, 8, 0), (4, 5, 9, 0), (5, 5, 10, 0), (-5, 4, 0, 1), (-4, 4, 1, 1), (-3, 4, 2, 1), (-2, 4, 3, 1), (-1, 4, 4, 1), (0, 4, 5, 1), (1, 4, 6, 1), (2, 4, 7, 1), (3, 4, 8, 1), (4, 4, 9, 1), (5, 4, 10, 1), (-5, 3, 0, 2), (-4, 3, 1, 2), (-3, 3, 2, 2), (-2, 3, 3, 2), (-1, 3, 4, 2), (0, 3, 5, 2), (1, 3, 6, 2), (2, 3, 7, 2), (3, 3, 8, 2), (4, 3, 9, 2), (5, 3, 10, 2), (-5, 2, 0, 3), (-4, 2, 1, 3), (-3, 2, 2, 3), (-2, 2, 3, 3), (-1, 2, 4, 3), (0, 2, 5, 3), (1, 2, 6, 3), (2, 2, 7, 3), (3, 2, 8, 3), (4, 2, 9, 3), (5, 2, 10, 3), (-5, 1, 0, 4), (-4, 1, 1, 4), (-3, 1, 2, 4), (-2, 1, 3, 4), (-1, 1, 4, 4), (0, 1, 5, 4), (1, 1, 6, 4), (2, 1, 7, 4), (3, 1, 8, 4), (4, 1, 9, 4), (5, 1, 10, 4), (-5, 0, 0, 5), (-4, 0, 1, 5), (-3, 0, 2, 5), (-2, 0, 3, 5), (-1, 0, 4, 5), (0, 0, 5, 5), (1, 0, 6, 5), (2, 0, 7, 5), (3, 0, 8, 5), (4, 0, 9, 5), (5, 0, 10, 5), (-5, -1, 0, 6), (-4, -1, 1, 6), (-3, -1, 2, 6), (-2, -1, 3, 6), (-1, -1, 4, 6), (0, -1, 5, 6), (1, -1, 6, 6), (2, -1, 7, 6), (3, -1, 8, 6), (4, -1, 9, 6), (5, -1, 10, 6), (-5, -2, 0, 7), (-4, -2, 1, 7), (-3, -2, 2, 7), (-2, -2, 3, 7), (-1, -2, 4, 7), (0, -2, 5, 7), (1, -2, 6, 7), (2, -2, 7, 7), (3, -2, 8, 7), (4, -2, 9, 7), (5, -2, 10, 7), (-5, -3, 0, 8), (-4, -3, 1, 8), (-3, -3, 2, 8), (-2, -3, 3, 8), (-1, -3, 4, 8), (0, -3, 5, 8), (1, -3, 6, 8), (2, -3, 7, 8), (3, -3, 8, 8), (4, -3, 9, 8), (5, -3, 10, 8), (-5, -4, 0, 9), (-4, -4, 1, 9), (-3, -4, 2, 9), (-2, -4, 3, 9), (-1, -4, 4, 9), (0, -4, 5, 9), (1, -4, 6, 9), (2, -4, 7, 9), (3, -4, 8, 9), (4, -4, 9, 9), (5, -4, 10, 9), (-5, -5, 0, 10), (-4, -5, 1, 10), (-3, -5, 2, 10), (-2, -5, 3, 10), (-1, -5, 4, 10), (0, -5, 5, 10), (1, -5, 6, 10), (2, -5, 7, 10), (3, -5, 8, 10), (4, -5, 9, 10), (5, -5, 10, 10)]\n",
            "23\n",
            "(-5, 5, 0, 0)\n",
            "23\n"
          ]
        }
      ]
    },
    {
      "cell_type": "code",
      "source": [
        "def point_rotation(theta, p):\n",
        "    # Set origin at (0,0) and each point to rotate is (cart_x, cart_y) with the colour refs as (np_x, np_y)\n",
        "    p_o = (0,0)\n",
        "    cart_x, cart_y, np_x, np_y = p\n",
        "    \n",
        "    p = (cart_x, cart_y)\n",
        "    \n",
        "    # Use the x and y rotation formulas to rotate around the origin    \n",
        "    p_prime = (round((p[0]*math.cos(theta)-p[1]*math.sin(theta)), 2), round((p[0]*math.sin(theta)+ p[1]*math.cos(theta)), 2))\n",
        "    \n",
        "    return (p_prime[0], p_prime[1], np_x, np_y)"
      ],
      "metadata": {
        "id": "qK1btEFCcmQM"
      },
      "execution_count": 7,
      "outputs": []
    },
    {
      "cell_type": "code",
      "source": [
        "def graph_points_all(points_in_all):\n",
        "    all_x = []\n",
        "    all_y = []\n",
        "    color_point = []\n",
        "\n",
        "    for x, y, np_x, np_y in points_in_all:\n",
        "        all_x.append(x)\n",
        "        all_y.append(y)\n",
        "        color_point.append(img_numpy[coords[np_y][2]][np_x])\n",
        "    \n",
        "    # Display the rotation as vectors from the origin and setup cartesian coordinates\n",
        "    plt.rcParams[\"figure.figsize\"] = (5,5)\n",
        "    \n",
        "    ax = plt.axes()\n",
        "    ax.grid(which='both', color='grey', linewidth=1, linestyle='-', alpha=0.2)\n",
        "    ax.spines['bottom'].set_position('zero')\n",
        "    ax.spines['left'].set_position('zero')\n",
        "    ax.spines['top'].set_visible(False)\n",
        "    ax.spines['right'].set_visible(False)\n",
        "    \n",
        "    x_ticks = np.arange(-1*x_graph_lim, x_graph_lim, 1)\n",
        "    y_ticks = np.arange(-1*y_graph_lim, y_graph_lim, 1)\n",
        "    ax.set_xticks(x_ticks[x_ticks != 0])\n",
        "    ax.set_yticks(y_ticks[y_ticks != 0])\n",
        "    ax.set_xticks(np.arange(-1*x_graph_lim, x_graph_lim, 1), minor=True)\n",
        "    ax.set_yticks(np.arange(-1*y_graph_lim, y_graph_lim, 1), minor=True)\n",
        "    \n",
        "    plt.ylim(-1*y_graph_lim, y_graph_lim)\n",
        "    plt.xlim(-1*x_graph_lim, x_graph_lim)\n",
        "        \n",
        "    plt.scatter(all_x, all_y, c=color_point, s=17**2, marker='s')\n",
        "    plt.show()"
      ],
      "metadata": {
        "id": "gw4EWJnecpv2"
      },
      "execution_count": 8,
      "outputs": []
    },
    {
      "cell_type": "code",
      "source": [
        "thetas = [0, math.pi/8, math.pi/4, math.pi/3, math.pi/2]\n",
        "\n",
        "# Generated rotated matrix for all thetas\n",
        "for theta_in in thetas:\n",
        "   \n",
        "    coords_prime = []\n",
        "    \n",
        "    print(\"------------------------------------------\")\n",
        "    print(f\"Rotation anticlockwise in degrees = {round((theta_in * 180 / math.pi), 2)}\")\n",
        "\n",
        "    for item in coords:\n",
        "        coords_prime.append(point_rotation(theta_in, item))\n",
        "    \n",
        "    graph_points_all(coords_prime)"
      ],
      "metadata": {
        "colab": {
          "base_uri": "https://localhost:8080/",
          "height": 1000
        },
        "id": "Hqy454VwctM8",
        "outputId": "9199e5ff-ce16-4d65-ce5d-0cbb72d7491b"
      },
      "execution_count": 9,
      "outputs": [
        {
          "output_type": "stream",
          "name": "stdout",
          "text": [
            "------------------------------------------\n",
            "Rotation anticlockwise in degrees = 0.0\n"
          ]
        },
        {
          "output_type": "display_data",
          "data": {
            "text/plain": [
              "<Figure size 360x360 with 1 Axes>"
            ],
            "image/png": "[encoded data removed]"
          },
          "metadata": {
            "needs_background": "light"
          }
        },
        {
          "output_type": "stream",
          "name": "stdout",
          "text": [
            "------------------------------------------\n",
            "Rotation anticlockwise in degrees = 22.5\n"
          ]
        },
        {
          "output_type": "display_data",
          "data": {
            "text/plain": [
              "<Figure size 360x360 with 1 Axes>"
            ],
            "image/png": "[encoded data removed]"
          },
          "metadata": {
            "needs_background": "light"
          }
        },
        {
          "output_type": "stream",
          "name": "stdout",
          "text": [
            "------------------------------------------\n",
            "Rotation anticlockwise in degrees = 45.0\n"
          ]
        },
        {
          "output_type": "display_data",
          "data": {
            "text/plain": [
              "<Figure size 360x360 with 1 Axes>"
            ],
            "image/png": "[encoded data removed]"
          },
          "metadata": {
            "needs_background": "light"
          }
        },
        {
          "output_type": "stream",
          "name": "stdout",
          "text": [
            "------------------------------------------\n",
            "Rotation anticlockwise in degrees = 60.0\n"
          ]
        },
        {
          "output_type": "display_data",
          "data": {
            "text/plain": [
              "<Figure size 360x360 with 1 Axes>"
            ],
            "image/png": "[encoded data removed]"
          },
          "metadata": {
            "needs_background": "light"
          }
        },
        {
          "output_type": "stream",
          "name": "stdout",
          "text": [
            "------------------------------------------\n",
            "Rotation anticlockwise in degrees = 90.0\n"
          ]
        },
        {
          "output_type": "display_data",
          "data": {
            "text/plain": [
              "<Figure size 360x360 with 1 Axes>"
            ],
            "image/png": "[encoded data removed]"
          },
          "metadata": {
            "needs_background": "light"
          }
        }
      ]
    },
    {
      "cell_type": "markdown",
      "source": [
        "# Few Arithmetic Operations on Tensors in Python"
      ],
      "metadata": {
        "id": "7LZ057jnmfOl"
      }
    },
    {
      "cell_type": "code",
      "source": [
        "import torch\n",
        "\n",
        "# Creating Tensors\n",
        "\n",
        "p = torch.Tensor(4,4)\n",
        "q = torch.Tensor(4,4)\n",
        "ones = torch.ones(4,4)\n",
        "\n",
        "print(p, q, ones)"
      ],
      "metadata": {
        "colab": {
          "base_uri": "https://localhost:8080/"
        },
        "id": "8dW6cSPKmaak",
        "outputId": "1547e8d2-78d5-486f-d253-5f6d8de85874"
      },
      "execution_count": 208,
      "outputs": [
        {
          "output_type": "stream",
          "name": "stdout",
          "text": [
            "tensor([[1.2637e-34, 0.0000e+00, 2.3694e-38, 2.3694e-38],\n",
            "        [4.7399e+16, 3.7293e-08, 3.9664e+28, 6.9397e+22],\n",
            "        [1.7260e+25, 2.2856e+20, 5.0948e-14, 1.3879e+23],\n",
            "        [3.4521e+25, 4.5711e+20, 1.0190e-13, 0.0000e+00]]) tensor([[1.2637e-34, 0.0000e+00, 2.3694e-38, 2.3694e-38],\n",
            "        [3.6423e-06, 2.0699e-19, 3.3738e-12, 7.4086e+28],\n",
            "        [6.9397e+22, 1.7260e+25, 2.2856e+20, 5.0948e-14],\n",
            "        [5.1781e+25, 6.8567e+20, 1.5284e-13, 0.0000e+00]]) tensor([[1., 1., 1., 1.],\n",
            "        [1., 1., 1., 1.],\n",
            "        [1., 1., 1., 1.],\n",
            "        [1., 1., 1., 1.]])\n"
          ]
        }
      ]
    },
    {
      "cell_type": "markdown",
      "source": [
        "```console\n",
        "\"\"\"\n",
        "Output:\n",
        " 0.0000e+00  0.0000e+00  0.0000e+00  0.0000e+00\n",
        " 1.6009e-19  4.4721e+21  6.2625e+22  4.7428e+30\n",
        " 3.1921e-09  8.0221e+17  5.1019e-08  8.1121e+17\n",
        " 8.1631e-07  8.2022e+17  1.1703e-19  1.5637e-01\n",
        "[torch.FloatTensor of size 4x4]\n",
        " \n",
        " 0.0000e+00  0.0000e+00  0.0000e+00  0.0000e+00\n",
        " 1.8217e-44  1.1614e-41  0.0000e+00  2.2369e+08\n",
        " 0.0000e+00  0.0000e+00  2.0376e-40  2.0376e-40\n",
        "        nan         nan -5.3105e+37         nan\n",
        "[torch.FloatTensor of size 4x4]\n",
        " \n",
        " 1  1  1  1\n",
        " 1  1  1  1\n",
        " 1  1  1  1\n",
        " 1  1  1  1\n",
        "[torch.FloatTensor of size 4x4]\n",
        "\"\"\"\n",
        "```"
      ],
      "metadata": {
        "id": "T2Q1iwh5myJI"
      }
    },
    {
      "cell_type": "code",
      "source": [
        "print(\"Addition:{}\".format(p + q))\n",
        "print(\"Subtraction:{}\".format(p - ones))\n",
        "print(\"Multiplication:{}\".format(p * ones))\n",
        "print(\"Division:{}\".format(q / ones))"
      ],
      "metadata": {
        "colab": {
          "base_uri": "https://localhost:8080/"
        },
        "id": "jI6LiufVmv_2",
        "outputId": "5fa35a9f-1452-45fa-802b-4ddafeceef17"
      },
      "execution_count": 209,
      "outputs": [
        {
          "output_type": "stream",
          "name": "stdout",
          "text": [
            "Addition:tensor([[2.5274e-34, 0.0000e+00, 4.7389e-38, 4.7389e-38],\n",
            "        [4.7399e+16, 3.7293e-08, 3.9664e+28, 7.4086e+28],\n",
            "        [1.7330e+25, 1.7261e+25, 2.2856e+20, 1.3879e+23],\n",
            "        [8.6302e+25, 1.1428e+21, 2.5474e-13, 0.0000e+00]])\n",
            "Subtraction:tensor([[-1.0000e+00, -1.0000e+00, -1.0000e+00, -1.0000e+00],\n",
            "        [ 4.7399e+16, -1.0000e+00,  3.9664e+28,  6.9397e+22],\n",
            "        [ 1.7260e+25,  2.2856e+20, -1.0000e+00,  1.3879e+23],\n",
            "        [ 3.4521e+25,  4.5711e+20, -1.0000e+00, -1.0000e+00]])\n",
            "Multiplication:tensor([[1.2637e-34, 0.0000e+00, 2.3694e-38, 2.3694e-38],\n",
            "        [4.7399e+16, 3.7293e-08, 3.9664e+28, 6.9397e+22],\n",
            "        [1.7260e+25, 2.2856e+20, 5.0948e-14, 1.3879e+23],\n",
            "        [3.4521e+25, 4.5711e+20, 1.0190e-13, 0.0000e+00]])\n",
            "Division:tensor([[1.2637e-34, 0.0000e+00, 2.3694e-38, 2.3694e-38],\n",
            "        [3.6423e-06, 2.0699e-19, 3.3738e-12, 7.4086e+28],\n",
            "        [6.9397e+22, 1.7260e+25, 2.2856e+20, 5.0948e-14],\n",
            "        [5.1781e+25, 6.8567e+20, 1.5284e-13, 0.0000e+00]])\n"
          ]
        }
      ]
    },
    {
      "cell_type": "markdown",
      "source": [
        "```console\n",
        "\"\"\"\n",
        "Addition:\n",
        " 0.0000e+00  0.0000e+00  0.0000e+00  0.0000e+00\n",
        " 1.6009e-19  4.4721e+21  6.2625e+22  4.7428e+30\n",
        " 3.1921e-09  8.0221e+17  5.1019e-08  8.1121e+17\n",
        "        nan         nan -5.3105e+37         nan\n",
        "[torch.FloatTensor of size 4x4]\n",
        "Subtraction:\n",
        "-1.0000e+00 -1.0000e+00 -1.0000e+00 -1.0000e+00\n",
        "-1.0000e+00  4.4721e+21  6.2625e+22  4.7428e+30\n",
        "-1.0000e+00  8.0221e+17 -1.0000e+00  8.1121e+17\n",
        "-1.0000e+00  8.2022e+17 -1.0000e+00 -8.4363e-01\n",
        "[torch.FloatTensor of size 4x4]\n",
        "Multiplication:\n",
        " 0.0000e+00  0.0000e+00  0.0000e+00  0.0000e+00\n",
        " 1.6009e-19  4.4721e+21  6.2625e+22  4.7428e+30\n",
        " 3.1921e-09  8.0221e+17  5.1019e-08  8.1121e+17\n",
        " 8.1631e-07  8.2022e+17  1.1703e-19  1.5637e-01\n",
        "[torch.FloatTensor of size 4x4]\n",
        "Division:\n",
        " 0.0000e+00  0.0000e+00  0.0000e+00  0.0000e+00\n",
        " 1.8217e-44  1.1614e-41  0.0000e+00  2.2369e+08\n",
        " 0.0000e+00  0.0000e+00  2.0376e-40  2.0376e-40\n",
        "        nan         nan -5.3105e+37         nan\n",
        "[torch.FloatTensor of size 4x4]\n",
        "\"\"\"\n",
        "```"
      ],
      "metadata": {
        "id": "rU0nDFcdmocQ"
      }
    },
    {
      "cell_type": "markdown",
      "source": [
        "# size of datatypes in python"
      ],
      "metadata": {
        "id": "UYtEwqKQfmeW"
      }
    },
    {
      "cell_type": "code",
      "source": [
        "a = 10\n",
        "print(a.__sizeof__())"
      ],
      "metadata": {
        "colab": {
          "base_uri": "https://localhost:8080/"
        },
        "id": "nzHnnZHBmjNe",
        "outputId": "ba3b256c-e9f9-4659-bbf9-72d2433411d2"
      },
      "execution_count": 10,
      "outputs": [
        {
          "output_type": "stream",
          "name": "stdout",
          "text": [
            "28\n"
          ]
        }
      ]
    },
    {
      "cell_type": "code",
      "source": [
        "f = 3.15\n",
        "print(f.__sizeof__())"
      ],
      "metadata": {
        "colab": {
          "base_uri": "https://localhost:8080/"
        },
        "id": "66wlBkfFfu8K",
        "outputId": "03dc6aff-bc8a-47a1-a651-e9bc538789fd"
      },
      "execution_count": 11,
      "outputs": [
        {
          "output_type": "stream",
          "name": "stdout",
          "text": [
            "24\n"
          ]
        }
      ]
    },
    {
      "cell_type": "code",
      "source": [
        "s = \"naveen\"\n",
        "print(s.__sizeof__())"
      ],
      "metadata": {
        "colab": {
          "base_uri": "https://localhost:8080/"
        },
        "id": "k4quK4e2f0D3",
        "outputId": "0eea1b73-d157-4a2a-88d4-29ebc5d10eb9"
      },
      "execution_count": 12,
      "outputs": [
        {
          "output_type": "stream",
          "name": "stdout",
          "text": [
            "55\n"
          ]
        }
      ]
    },
    {
      "cell_type": "code",
      "source": [
        "s = ''\n",
        "print(s.__sizeof__())"
      ],
      "metadata": {
        "colab": {
          "base_uri": "https://localhost:8080/"
        },
        "id": "Ku_tcykif5N8",
        "outputId": "202daab0-0ef1-4aea-e611-e517fac3e7da"
      },
      "execution_count": 13,
      "outputs": [
        {
          "output_type": "stream",
          "name": "stdout",
          "text": [
            "49\n"
          ]
        }
      ]
    },
    {
      "cell_type": "code",
      "source": [
        "s = 'a'\n",
        "print(s.__sizeof__())"
      ],
      "metadata": {
        "colab": {
          "base_uri": "https://localhost:8080/"
        },
        "id": "aZV4ECEgf94a",
        "outputId": "7e94daaa-760a-4ca3-cd9d-1f5ecd68b3c3"
      },
      "execution_count": 14,
      "outputs": [
        {
          "output_type": "stream",
          "name": "stdout",
          "text": [
            "50\n"
          ]
        }
      ]
    },
    {
      "cell_type": "code",
      "source": [
        "s = 'ab'\n",
        "print(s.__sizeof__())"
      ],
      "metadata": {
        "colab": {
          "base_uri": "https://localhost:8080/"
        },
        "id": "Hbi2j_UdgCIh",
        "outputId": "2bf8c37e-e16b-4f03-d14f-92bdc26a9195"
      },
      "execution_count": 15,
      "outputs": [
        {
          "output_type": "stream",
          "name": "stdout",
          "text": [
            "51\n"
          ]
        }
      ]
    },
    {
      "cell_type": "code",
      "source": [],
      "metadata": {
        "id": "98cnTmgTgHQ6"
      },
      "execution_count": null,
      "outputs": []
    }
  ],
  "metadata": {
    "kernelspec": {
      "display_name": "Python 3",
      "language": "python",
      "name": "python3"
    },
    "language_info": {
      "codemirror_mode": {
        "name": "ipython",
        "version": 3
      },
      "file_extension": ".py",
      "mimetype": "text/x-python",
      "name": "python",
      "nbconvert_exporter": "python",
      "pygments_lexer": "ipython3",
      "version": "3.8.5"
    },
    "varInspector": {
      "cols": {
        "lenName": 16,
        "lenType": 16,
        "lenVar": 40
      },
      "kernels_config": {
        "python": {
          "delete_cmd_postfix": "",
          "delete_cmd_prefix": "del ",
          "library": "var_list.py",
          "varRefreshCmd": "print(var_dic_list())"
        },
        "r": {
          "delete_cmd_postfix": ") ",
          "delete_cmd_prefix": "rm(",
          "library": "var_list.r",
          "varRefreshCmd": "cat(var_dic_list()) "
        }
      },
      "types_to_exclude": [
        "module",
        "function",
        "builtin_function_or_method",
        "instance",
        "_Feature"
      ],
      "window_display": false
    },
    "colab": {
      "provenance": [],
      "include_colab_link": true
    }
  },
  "nbformat": 4,
  "nbformat_minor": 0
}