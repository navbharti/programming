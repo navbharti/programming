{
  "nbformat": 4,
  "nbformat_minor": 0,
  "metadata": {
    "colab": {
      "name": "intro_to_class_n_obj.ipynb",
      "provenance": [],
      "collapsed_sections": [],
      "authorship_tag": "ABX9TyOyVCPYgDAvRAURJc853fI5",
      "include_colab_link": true
    },
    "kernelspec": {
      "name": "python3",
      "display_name": "Python 3"
    },
    "language_info": {
      "name": "python"
    }
  },
  "cells": [
    {
      "cell_type": "markdown",
      "metadata": {
        "id": "view-in-github",
        "colab_type": "text"
      },
      "source": [
        "<a href=\"https://colab.research.google.com/github/navbharti/programming/blob/master/python/intro_to_class_n_obj.ipynb\" target=\"_parent\"><img src=\"https://colab.research.google.com/assets/colab-badge.svg\" alt=\"Open In Colab\"/></a>"
      ]
    },
    {
      "cell_type": "markdown",
      "source": [
        "# Object Oriented Programming System (OOPS) through Python\n",
        "\n",
        " * Every thing in python is an object. \n",
        " \n",
        " * To create objects we required some Model or Plan or Blue print, which is nothing but class.\n",
        " * We can write a class to represent properties (attributes) and actions (behaviour) of\n",
        " object.\n",
        " * Properties can be represented by variables\n",
        " * Actions can be represented by Methods.\n",
        "\n",
        " * Henceclasscontainsbothvariablesandmethods.\n",
        "\n",
        " ##  How to Define a Class in Python?\n",
        "\n",
        " `Syntax: `\n",
        "\n",
        " ```python\n",
        "class className:\n",
        "    ''' documenttation string '''\n",
        "    #Membere Variables\n",
        "    instance variables\n",
        "    static variables\n",
        "    local variables\n",
        "\n",
        "    #Member Methods \n",
        "    instance methods\n",
        "    static methods\n",
        "    class methods\n",
        " ```\n",
        "\n",
        "  `Note`: Documentation string represents description of the class. Within the class doc string is always optional. We can get doc string by using the following 2 ways."
      ],
      "metadata": {
        "id": "52eFLsXrkH0F"
      }
    },
    {
      "cell_type": "markdown",
      "source": [
        "### Defining Rectangle Class\n"
      ],
      "metadata": {
        "id": "-OJUE6UmrbdZ"
      }
    },
    {
      "cell_type": "code",
      "execution_count": 1,
      "metadata": {
        "colab": {
          "base_uri": "https://localhost:8080/"
        },
        "id": "7QFNPgtvkCcg",
        "outputId": "467ff9c8-58e6-400d-ac4a-8f6c3ad01705"
      },
      "outputs": [
        {
          "output_type": "stream",
          "name": "stdout",
          "text": [
            "{'__module__': '__main__', '__dict__': <attribute '__dict__' of 'Rectangle' objects>, '__weakref__': <attribute '__weakref__' of 'Rectangle' objects>, '__doc__': None}\n"
          ]
        }
      ],
      "source": [
        "#Create an empty class\n",
        "class Rectangle:\n",
        "  pass \n",
        "\n",
        "print(Rectangle.__dict__)"
      ]
    },
    {
      "cell_type": "code",
      "source": [
        "#class a Class Rectangle with documentation String\n",
        "class Rectangle:\n",
        "  '''This is the documentation string of \n",
        "  Rectangle class\n",
        "  which has two attributes\n",
        "  namely length and breadth '''\n",
        "  pass\n",
        "\n",
        "print(Rectangle.__doc__)"
      ],
      "metadata": {
        "colab": {
          "base_uri": "https://localhost:8080/"
        },
        "id": "FYK3b8uyrt2a",
        "outputId": "7cfe4d9c-aa57-424b-82e8-9fe458379fb3"
      },
      "execution_count": 2,
      "outputs": [
        {
          "output_type": "stream",
          "name": "stdout",
          "text": [
            "This is the documentation string of \n",
            "  Rectangle class\n",
            "  which has two attributes\n",
            "  namely length and breadth \n"
          ]
        }
      ]
    },
    {
      "cell_type": "code",
      "source": [
        "help(Rectangle)"
      ],
      "metadata": {
        "colab": {
          "base_uri": "https://localhost:8080/"
        },
        "id": "LlyhIBuU9liy",
        "outputId": "15e699b5-42f7-4927-c509-77e12c31c3aa"
      },
      "execution_count": 3,
      "outputs": [
        {
          "output_type": "stream",
          "name": "stdout",
          "text": [
            "Help on class Rectangle in module __main__:\n",
            "\n",
            "class Rectangle(builtins.object)\n",
            " |  This is the documentation string of \n",
            " |  Rectangle class\n",
            " |  which has two attributes\n",
            " |  namely length and breadth\n",
            " |  \n",
            " |  Data descriptors defined here:\n",
            " |  \n",
            " |  __dict__\n",
            " |      dictionary for instance variables (if defined)\n",
            " |  \n",
            " |  __weakref__\n",
            " |      list of weak references to the object (if defined)\n",
            "\n"
          ]
        }
      ]
    },
    {
      "cell_type": "markdown",
      "source": [
        "`Note`: The Document String is kept as Multiline String using triple quotes. This string is displayed when we use the following statements.\n",
        "\n",
        "```Python\n",
        "print(obj.__doc__)\n",
        "print(Rectangle.__doc__)\n",
        "\n",
        "help(obj)\n",
        "help(Rectangle)\n",
        "```"
      ],
      "metadata": {
        "id": "lz6Oy5N84k5U"
      }
    },
    {
      "cell_type": "markdown",
      "source": [
        "### How to Create an Object of any Class\n",
        "\n",
        "* Pysical existence of a class is class Object also called an Instance or Reference variable. \n",
        "\n",
        "* We can create any number of objects for a class.\n",
        "\n",
        "`Syntax to Create Object`: \n",
        "\n",
        "```python\n",
        "referencevariable = classname()\n",
        "``` \n",
        "\n",
        "`Example`: \n",
        "\n",
        "```python\n",
        "s = Student()\n",
        "```"
      ],
      "metadata": {
        "id": "mh0g3V8Iy2rN"
      }
    },
    {
      "cell_type": "code",
      "source": [
        "class Rectangle:\n",
        "    \"\"\"This is docstring of Rectangle class\"\"\"\n",
        "\n",
        "    #Here are Data Variables\n",
        "    length = 1\n",
        "    breadth = 1\n",
        "\n",
        "    #Here are Member Methods\n",
        "    def message():\n",
        "        print(\"hello from Rectangle class\")\n",
        "\n",
        "    def area():\n",
        "        print(\"This method calculates Area of Rectangle.\")\n",
        "\n",
        "    def perimeter():\n",
        "        print(\"This method calculates Perimeter of Rectangle.\")\n",
        "        \n",
        "#Accessing documentation String using __doc__ or help()\n",
        "print(Rectangle.__doc__)\n",
        "print(help(Rectangle))\n",
        "\n",
        "# Accessing Members of class\n",
        "print(Rectangle.length)\n",
        "print(Rectangle.breadth)\n",
        "Rectangle.message()\n",
        "Rectangle.area()\n",
        "Rectangle.perimeter()"
      ],
      "metadata": {
        "colab": {
          "base_uri": "https://localhost:8080/"
        },
        "id": "ui4HAS-Oy7VT",
        "outputId": "c84d9965-6c07-4010-9d8f-e56d55d998b6"
      },
      "execution_count": 4,
      "outputs": [
        {
          "output_type": "stream",
          "name": "stdout",
          "text": [
            "This is docstring of Rectangle class\n",
            "Help on class Rectangle in module __main__:\n",
            "\n",
            "class Rectangle(builtins.object)\n",
            " |  This is docstring of Rectangle class\n",
            " |  \n",
            " |  Methods defined here:\n",
            " |  \n",
            " |  area()\n",
            " |  \n",
            " |  message()\n",
            " |      #Here are Member Methods\n",
            " |  \n",
            " |  perimeter()\n",
            " |  \n",
            " |  ----------------------------------------------------------------------\n",
            " |  Data descriptors defined here:\n",
            " |  \n",
            " |  __dict__\n",
            " |      dictionary for instance variables (if defined)\n",
            " |  \n",
            " |  __weakref__\n",
            " |      list of weak references to the object (if defined)\n",
            " |  \n",
            " |  ----------------------------------------------------------------------\n",
            " |  Data and other attributes defined here:\n",
            " |  \n",
            " |  breadth = 1\n",
            " |  \n",
            " |  length = 1\n",
            "\n",
            "None\n",
            "1\n",
            "1\n",
            "hello from Rectangle class\n",
            "This method calculates Area of Rectangle.\n",
            "This method calculates Perimeter of Rectangle.\n"
          ]
        }
      ]
    },
    {
      "cell_type": "code",
      "source": [
        "print(Rectangle.__doc__) #this is how we access docstring of a class"
      ],
      "metadata": {
        "colab": {
          "base_uri": "https://localhost:8080/"
        },
        "id": "qSk0QQ62r-M3",
        "outputId": "262d53b2-e86f-4712-effb-2d4b988d6714"
      },
      "execution_count": 5,
      "outputs": [
        {
          "output_type": "stream",
          "name": "stdout",
          "text": [
            "This is docstring of Rectangle class\n"
          ]
        }
      ]
    },
    {
      "cell_type": "code",
      "source": [
        "print(help(Rectangle)) #Getting help of a class Rectangle accesses docstring"
      ],
      "metadata": {
        "colab": {
          "base_uri": "https://localhost:8080/"
        },
        "id": "T0UWQgGNsMV2",
        "outputId": "13f3b6c5-1ec3-4b86-d8cd-8056aba97213"
      },
      "execution_count": 6,
      "outputs": [
        {
          "output_type": "stream",
          "name": "stdout",
          "text": [
            "Help on class Rectangle in module __main__:\n",
            "\n",
            "class Rectangle(builtins.object)\n",
            " |  This is docstring of Rectangle class\n",
            " |  \n",
            " |  Methods defined here:\n",
            " |  \n",
            " |  area()\n",
            " |  \n",
            " |  message()\n",
            " |      #Here are Member Methods\n",
            " |  \n",
            " |  perimeter()\n",
            " |  \n",
            " |  ----------------------------------------------------------------------\n",
            " |  Data descriptors defined here:\n",
            " |  \n",
            " |  __dict__\n",
            " |      dictionary for instance variables (if defined)\n",
            " |  \n",
            " |  __weakref__\n",
            " |      list of weak references to the object (if defined)\n",
            " |  \n",
            " |  ----------------------------------------------------------------------\n",
            " |  Data and other attributes defined here:\n",
            " |  \n",
            " |  breadth = 1\n",
            " |  \n",
            " |  length = 1\n",
            "\n",
            "None\n"
          ]
        }
      ]
    },
    {
      "cell_type": "code",
      "source": [
        "# print all attributes of Rectangle\n",
        "dir(Rectangle)"
      ],
      "metadata": {
        "colab": {
          "base_uri": "https://localhost:8080/"
        },
        "id": "YamdbmdJ9yZ5",
        "outputId": "49c2b96d-8e49-405f-d292-bd790b42e87d"
      },
      "execution_count": 7,
      "outputs": [
        {
          "output_type": "execute_result",
          "data": {
            "text/plain": [
              "['__class__',\n",
              " '__delattr__',\n",
              " '__dict__',\n",
              " '__dir__',\n",
              " '__doc__',\n",
              " '__eq__',\n",
              " '__format__',\n",
              " '__ge__',\n",
              " '__getattribute__',\n",
              " '__gt__',\n",
              " '__hash__',\n",
              " '__init__',\n",
              " '__init_subclass__',\n",
              " '__le__',\n",
              " '__lt__',\n",
              " '__module__',\n",
              " '__ne__',\n",
              " '__new__',\n",
              " '__reduce__',\n",
              " '__reduce_ex__',\n",
              " '__repr__',\n",
              " '__setattr__',\n",
              " '__sizeof__',\n",
              " '__str__',\n",
              " '__subclasshook__',\n",
              " '__weakref__',\n",
              " 'area',\n",
              " 'breadth',\n",
              " 'length',\n",
              " 'message',\n",
              " 'perimeter']"
            ]
          },
          "metadata": {},
          "execution_count": 7
        }
      ]
    },
    {
      "cell_type": "code",
      "source": [
        "Rectangle.__dict__"
      ],
      "metadata": {
        "colab": {
          "base_uri": "https://localhost:8080/"
        },
        "id": "o6XowzEZ9_fP",
        "outputId": "ac6c0308-d78f-4adc-d56f-6c097df24365"
      },
      "execution_count": 8,
      "outputs": [
        {
          "output_type": "execute_result",
          "data": {
            "text/plain": [
              "mappingproxy({'__dict__': <attribute '__dict__' of 'Rectangle' objects>,\n",
              "              '__doc__': 'This is docstring of Rectangle class',\n",
              "              '__module__': '__main__',\n",
              "              '__weakref__': <attribute '__weakref__' of 'Rectangle' objects>,\n",
              "              'area': <function __main__.Rectangle.area>,\n",
              "              'breadth': 1,\n",
              "              'length': 1,\n",
              "              'message': <function __main__.Rectangle.message>,\n",
              "              'perimeter': <function __main__.Rectangle.perimeter>})"
            ]
          },
          "metadata": {},
          "execution_count": 8
        }
      ]
    },
    {
      "cell_type": "markdown",
      "source": [
        "## Concept of Class and Object\n",
        "\n",
        "### Object\n",
        "\n",
        "* Object is things, which has physical form and accupies memory.\n",
        "\n",
        "* Every object has its members that belongs to it.\n",
        "\n",
        "* The members which tell the characteristics of object is called Properties.\n",
        "\n",
        "* The members which describes action about the object is called Behaviour.\n",
        "\n",
        "* Properties aslo called Attributes or Data Members.\n",
        "\n",
        "* Attributes or Properties or Data members are represented by Data Variable. Each variable has its Datatype.\n",
        "\n",
        "* Behaviours are also called Actions, Methods.\n",
        "\n",
        "* Methods or Member Methods are represented by Python functions that belong to the object.\n",
        "\n",
        "`Note`: In OOPS the function is also called Method.\n",
        "\n",
        "### Class\n",
        "\n",
        "* Before we have object in Physical form, we need to have its Logical Form.\n",
        "\n",
        "* The Logical Model of the Object is nothing but Class.\n",
        "\n",
        "* Since Class is the Logical Model, the Class also combination of Properties/Attributes and Behaviour/Methods.\n",
        "\n",
        "* Class is also called as Blueprint, Template, Model etc. Class does not take memory.\n",
        "\n",
        "* Once class is defined we can create any number of objects. \n",
        "\n",
        "## Types of Members (Member Variable and Member Method)\n",
        "\n",
        "### Attributes or Properties or Varaibles\n",
        "\n",
        "\n",
        "### Methods or Actions or Behaviours or Actions\n",
        "\n",
        "\n",
        "## Types of Member Variables\n",
        "\n",
        "1. Instance Variables (Object Level Variables)\n",
        "2. Class Variables (Class Level Variables)\n",
        "3. Local Variables (Method Level Variables)\n"
      ],
      "metadata": {
        "id": "B9c0-h4Rsfzb"
      }
    },
    {
      "cell_type": "markdown",
      "source": [
        "## 1. Instance Variable in Python Class"
      ],
      "metadata": {
        "id": "3b15I63o4KRj"
      }
    },
    {
      "cell_type": "markdown",
      "source": [
        "### 1.1 How and Where to Declare Instance Variables"
      ],
      "metadata": {
        "id": "kY0p90cI4P1D"
      }
    },
    {
      "cell_type": "markdown",
      "source": [
        "#### 1.1.a. Inside Class, within Constructor (__init__()) method, using self variable"
      ],
      "metadata": {
        "id": "cujzi5YE6v4F"
      }
    },
    {
      "cell_type": "code",
      "source": [
        "# Declare length and breadth as instance variable of Rectangle Class\n",
        "class Rectangle:\n",
        "  def __init__(self):\n",
        "    self.length = 1\n",
        "    self.breadth = 1\n",
        "\n",
        "# prints all the attriutes with Rectangle Class\n",
        "print(Rectangle.__dict__)\n",
        "\n",
        "# Calling Rectangle class Constructor will invoke __init__() method which creates instance variables length and breadth\n",
        "r1 = Rectangle()\n",
        "print(r1.__dict__)"
      ],
      "metadata": {
        "colab": {
          "base_uri": "https://localhost:8080/"
        },
        "id": "gSDK0rvKsXae",
        "outputId": "8fda6791-b0b5-48e4-b3a8-f17c8b01bd2b"
      },
      "execution_count": 9,
      "outputs": [
        {
          "output_type": "stream",
          "name": "stdout",
          "text": [
            "{'__module__': '__main__', '__init__': <function Rectangle.__init__ at 0x7fedfe3ddef0>, '__dict__': <attribute '__dict__' of 'Rectangle' objects>, '__weakref__': <attribute '__weakref__' of 'Rectangle' objects>, '__doc__': None}\n",
            "{'length': 1, 'breadth': 1}\n"
          ]
        }
      ]
    },
    {
      "cell_type": "markdown",
      "source": [
        "#### 1.1.b. Inside Class, within Instance Method, using self variable"
      ],
      "metadata": {
        "id": "vYyDwW7u6zl2"
      }
    },
    {
      "cell_type": "code",
      "source": [
        "# Declare color variable as instance variable in  Rectangle Class using instanced method\n",
        "# or write a method in Rectangle class which declares an instance variable with initial value \"blue\" as instance variable\n",
        "class Rectangle:\n",
        "\n",
        "  #define constructor method\n",
        "  def __init__(self):\n",
        "    self.length = 1\n",
        "    self.breadth = 1\n",
        "\n",
        "  #define instance method \n",
        "  def createColor(self):\n",
        "    self.color = \"blue\"\n",
        "\n",
        "# Calling Constructor creates two Instance Variables\n",
        "r1 = Rectangle()\n",
        "print(r1.__dict__)\n",
        "\n",
        "# Calling Instance method createColor() will create another instance variable color\n",
        "r1.createColor()\n",
        "print(\"After calling instance method createColor()\")\n",
        "print(r1.__dict__)"
      ],
      "metadata": {
        "colab": {
          "base_uri": "https://localhost:8080/"
        },
        "id": "wQWCulIs5Ktk",
        "outputId": "d06fe593-afad-4949-cdd2-7db9104de548"
      },
      "execution_count": 10,
      "outputs": [
        {
          "output_type": "stream",
          "name": "stdout",
          "text": [
            "{'length': 1, 'breadth': 1}\n",
            "After calling instance method createColor()\n",
            "{'length': 1, 'breadth': 1, 'color': 'blue'}\n"
          ]
        }
      ]
    },
    {
      "cell_type": "markdown",
      "source": [
        "#### 1.1.c. Outside Class, using object name."
      ],
      "metadata": {
        "id": "rt91JSpD61__"
      }
    },
    {
      "cell_type": "code",
      "source": [
        "# Declare isFilled as instance variable if Rectangle Class using object from ouside class\n",
        "class Rectangle:\n",
        "  def __init__(self):\n",
        "    self.length = 1\n",
        "    self.breadth = 1\n",
        "\n",
        "#create an object\n",
        "r1 = Rectangle()\n",
        "print(\"Before creating instance variable\")\n",
        "print(r1.__dict__)\n",
        "r1.isFille = False\n",
        "print(\"After creating instance variable\")\n",
        "print(r1.__dict__)\n"
      ],
      "metadata": {
        "colab": {
          "base_uri": "https://localhost:8080/"
        },
        "id": "CQ-01GWR54Ev",
        "outputId": "35ca14a5-9110-48c2-9142-9a4ff64b034c"
      },
      "execution_count": 11,
      "outputs": [
        {
          "output_type": "stream",
          "name": "stdout",
          "text": [
            "Before creating instance variable\n",
            "{'length': 1, 'breadth': 1}\n",
            "After creating instance variable\n",
            "{'length': 1, 'breadth': 1, 'isFille': False}\n"
          ]
        }
      ]
    },
    {
      "cell_type": "markdown",
      "source": [
        "### 1.2 How and Where to Access Instance Variables"
      ],
      "metadata": {
        "id": "21XTUy463tJ2"
      }
    },
    {
      "cell_type": "markdown",
      "source": [
        "#### 1.2.a Inside Class, In Constructor, using self variable"
      ],
      "metadata": {
        "id": "1MbWQNJR_-9d"
      }
    },
    {
      "cell_type": "code",
      "source": [
        "class Rectangle:\n",
        "  def __init__(self):\n",
        "    self.length = 1\n",
        "    self.breadth = 1\n",
        "    print(\"Inside Constructor\")\n",
        "    print(\"Length: {} and Breadth: {}\". format(self.length, self.breadth))\n",
        "\n",
        "# Create object r1\n",
        "r1 = Rectangle()\n"
      ],
      "metadata": {
        "colab": {
          "base_uri": "https://localhost:8080/"
        },
        "id": "8J5FNhBhEQGk",
        "outputId": "bae8c18c-8564-4dd6-a406-46c3fbb8dc83"
      },
      "execution_count": 12,
      "outputs": [
        {
          "output_type": "stream",
          "name": "stdout",
          "text": [
            "Inside Constructor\n",
            "Length: 1 and Breadth: 1\n"
          ]
        }
      ]
    },
    {
      "cell_type": "markdown",
      "source": [
        "#### 1.2.b Inside Class, In Instance Method, using self variable"
      ],
      "metadata": {
        "id": "dMqWz0HtAMd-"
      }
    },
    {
      "cell_type": "code",
      "source": [
        "class Rectangle:\n",
        "  def __init__(self):\n",
        "    self.length = 1\n",
        "    self.breadth = 1\n",
        "    print(\"Inside Constructor\")\n",
        "    print(\"Length: {} and Breadth: {}\". format(self.length, self.breadth))\n",
        "\n",
        "  def instanceMethod(self):\n",
        "    print(\"Inside instanceMethod()\")\n",
        "    print(\"Length: {} and Breadth: {}\". format(self.length, self.breadth))\n",
        "\n",
        "# Create object r1\n",
        "r1 = Rectangle()\n",
        "\n",
        "#call insanceMethod()\n",
        "r1.instanceMethod()"
      ],
      "metadata": {
        "colab": {
          "base_uri": "https://localhost:8080/"
        },
        "id": "LvStCsP3EuZ_",
        "outputId": "3a5d1817-22bb-4a1d-d653-ee8ede020591"
      },
      "execution_count": 13,
      "outputs": [
        {
          "output_type": "stream",
          "name": "stdout",
          "text": [
            "Inside Constructor\n",
            "Length: 1 and Breadth: 1\n",
            "Inside instanceMethod()\n",
            "Length: 1 and Breadth: 1\n"
          ]
        }
      ]
    },
    {
      "cell_type": "markdown",
      "source": [
        "#### 1.2.c Outside Class, using object or refence variable name"
      ],
      "metadata": {
        "id": "IQsh1c1GARWX"
      }
    },
    {
      "cell_type": "code",
      "source": [
        "class Rectangle:\n",
        "  def __init__(self):\n",
        "    self.length = 1\n",
        "    self.breadth = 1\n",
        "    print(\"Inside Constructor\")\n",
        "    print(\"Length: {} and Breadth: {}\". format(self.length, self.breadth))\n",
        "\n",
        "  def instanceMethod(self):\n",
        "    print(\"Inside instanceMethod()\")\n",
        "    print(\"Length: {} and Breadth: {}\". format(self.length, self.breadth))\n",
        "\n",
        "# Create object r1\n",
        "r1 = Rectangle()\n",
        "\n",
        "#call insanceMethod()\n",
        "r1.instanceMethod()\n",
        "\n",
        "#calling instance variable using r1 object\n",
        "print(\"Outside Class\")\n",
        "print(\"Length: {} and Breadth: {}\". format(r1.length, r1.breadth))"
      ],
      "metadata": {
        "colab": {
          "base_uri": "https://localhost:8080/"
        },
        "id": "ueO9SUThFCip",
        "outputId": "17e4d2f1-41f3-4cf9-e9e7-db3be1e5a41d"
      },
      "execution_count": 14,
      "outputs": [
        {
          "output_type": "stream",
          "name": "stdout",
          "text": [
            "Inside Constructor\n",
            "Length: 1 and Breadth: 1\n",
            "Inside instanceMethod()\n",
            "Length: 1 and Breadth: 1\n",
            "Outside Class\n",
            "Length: 1 and Breadth: 1\n"
          ]
        }
      ]
    },
    {
      "cell_type": "markdown",
      "source": [
        "### 1.3 How and Where to Modify Instance Variables"
      ],
      "metadata": {
        "id": "cjl9t2H83yNv"
      }
    },
    {
      "cell_type": "markdown",
      "source": [
        "#### 1.3.a Inside Class, In the Constructor, using self variable"
      ],
      "metadata": {
        "id": "Er3hf8f4Ck4k"
      }
    },
    {
      "cell_type": "code",
      "source": [
        "class Rectangle:\n",
        "  def __init__(self):\n",
        "    self.length = 1\n",
        "    self.breadth = 1\n",
        "    print(\"Inside Constructor\")\n",
        "    print(\"Length: {} and Breadth: {}\". format(self.length, self.breadth))\n",
        "    #Modifying length attribute value in the constructor\n",
        "    self.length = \"one\"\n",
        "    print(\"After modifing, Length: {} and Breadth: {}\". format(self.length, self.breadth))\n",
        "\n",
        "# Create object r1\n",
        "r1 = Rectangle()"
      ],
      "metadata": {
        "colab": {
          "base_uri": "https://localhost:8080/"
        },
        "id": "7nFTK_J4Fv3R",
        "outputId": "2078de3c-1bca-4503-f667-89c7ea4f4363"
      },
      "execution_count": 15,
      "outputs": [
        {
          "output_type": "stream",
          "name": "stdout",
          "text": [
            "Inside Constructor\n",
            "Length: 1 and Breadth: 1\n",
            "After modifing, Length: one and Breadth: 1\n"
          ]
        }
      ]
    },
    {
      "cell_type": "markdown",
      "source": [
        "#### 1.3.b Inside Class, In instacne method, using self variable"
      ],
      "metadata": {
        "id": "U9ROjeXVFgYl"
      }
    },
    {
      "cell_type": "code",
      "source": [
        "class Rectangle:\n",
        "  def __init__(self):\n",
        "    self.length = 1\n",
        "    self.breadth = 1\n",
        "    print(\"Inside Constructor\")\n",
        "    print(\"Length: {} and Breadth: {}\". format(self.length, self.breadth))\n",
        "    self.length = \"one\"\n",
        "    print(\"After modifing, Length: {} and Breadth: {}\". format(self.length, self.breadth))\n",
        "\n",
        "  def instanceMethod(self):\n",
        "    #modifying length attribute in instance method\n",
        "    self.length = 100\n",
        "    print(\"After modifing, Length: {} and Breadth: {}\". format(self.length, self.breadth))\n",
        "\n",
        "# Create object r1\n",
        "r1 = Rectangle()\n",
        "print(\"Calling instanceMethod()\")\n",
        "r1.instanceMethod()"
      ],
      "metadata": {
        "colab": {
          "base_uri": "https://localhost:8080/"
        },
        "id": "iNG60DdaGNd5",
        "outputId": "bd2118f6-3bed-4937-e314-67759e1225c5"
      },
      "execution_count": 16,
      "outputs": [
        {
          "output_type": "stream",
          "name": "stdout",
          "text": [
            "Inside Constructor\n",
            "Length: 1 and Breadth: 1\n",
            "After modifing, Length: one and Breadth: 1\n",
            "Calling instanceMethod()\n",
            "After modifing, Length: 100 and Breadth: 1\n"
          ]
        }
      ]
    },
    {
      "cell_type": "markdown",
      "source": [
        "#### 1.3.c Outside Class, object or reference variable name"
      ],
      "metadata": {
        "id": "G4hctJ-1Fjse"
      }
    },
    {
      "cell_type": "code",
      "source": [
        "class Rectangle:\n",
        "  def __init__(self):\n",
        "    self.length = 1\n",
        "    self.breadth = 1\n",
        "    print(\"Inside Constructor\")\n",
        "    print(\"Length: {} and Breadth: {}\". format(self.length, self.breadth))\n",
        "    self.length = \"one\"\n",
        "    print(\"After modifying, Length: {} and Breadth: {}\". format(self.length, self.breadth))\n",
        "\n",
        "  def instanceMethod(self):\n",
        "    self.length = 100\n",
        "    print(\"After modifying, Length: {} and Breadth: {}\". format(self.length, self.breadth))\n",
        "\n",
        "# Create object r1\n",
        "r1 = Rectangle()\n",
        "print(\"Calling instanceMethod()\")\n",
        "r1.instanceMethod()\n",
        "print(\"Modifying length outside class\")\n",
        "#modifying length attribute from outside of class\n",
        "r1.length = 300\n",
        "print(\"Aftr modifying, Length: {} and Breadth: {}\".format(r1.length, r1.breadth))"
      ],
      "metadata": {
        "colab": {
          "base_uri": "https://localhost:8080/"
        },
        "id": "t5QH0GyyGtfL",
        "outputId": "e42eff12-f419-4f3c-da6a-3fafcc7b850a"
      },
      "execution_count": 17,
      "outputs": [
        {
          "output_type": "stream",
          "name": "stdout",
          "text": [
            "Inside Constructor\n",
            "Length: 1 and Breadth: 1\n",
            "After modifying, Length: one and Breadth: 1\n",
            "Calling instanceMethod()\n",
            "After modifying, Length: 100 and Breadth: 1\n",
            "Modifying length outside class\n",
            "Aftr modifying, Length: 300 and Breadth: 1\n"
          ]
        }
      ]
    },
    {
      "cell_type": "markdown",
      "source": [
        "### 1.4 How and Where to Delete Instance Variables"
      ],
      "metadata": {
        "id": "rl7UTVk133ut"
      }
    },
    {
      "cell_type": "markdown",
      "source": [
        "#### 1.4.a. Inside Class In the Constructor using\n",
        "\n",
        "`del self.variable`"
      ],
      "metadata": {
        "id": "Yb8AbQ7pa9A6"
      }
    },
    {
      "cell_type": "code",
      "source": [
        "class Rectangle:\n",
        "  def __init__(self):\n",
        "    self.length = 1\n",
        "    self.breadth = 1\n",
        "    print(\"Length: {} and Breadth: {}\".format(self.length, self.breadth))\n",
        "    #deleting instance variable length inside constructor\n",
        "    del self.length\n",
        "    print(\"Length: {} and Breadth: {}\".format(self.length, self.breadth))\n",
        "\n",
        "#create an object\n",
        "r1 = Rectangle()\n",
        "    "
      ],
      "metadata": {
        "colab": {
          "base_uri": "https://localhost:8080/",
          "height": 357
        },
        "id": "cBIR2tbQG1rR",
        "outputId": "372b2cbe-e7b4-4f13-b137-1cf97d90663c"
      },
      "execution_count": 18,
      "outputs": [
        {
          "output_type": "stream",
          "name": "stdout",
          "text": [
            "Length: 1 and Breadth: 1\n"
          ]
        },
        {
          "output_type": "error",
          "ename": "AttributeError",
          "evalue": "ignored",
          "traceback": [
            "\u001b[0;31m---------------------------------------------------------------------------\u001b[0m",
            "\u001b[0;31mAttributeError\u001b[0m                            Traceback (most recent call last)",
            "\u001b[0;32m<ipython-input-18-21bff4fb0810>\u001b[0m in \u001b[0;36m<module>\u001b[0;34m()\u001b[0m\n\u001b[1;32m      9\u001b[0m \u001b[0;34m\u001b[0m\u001b[0m\n\u001b[1;32m     10\u001b[0m \u001b[0;31m#create an object\u001b[0m\u001b[0;34m\u001b[0m\u001b[0;34m\u001b[0m\u001b[0;34m\u001b[0m\u001b[0m\n\u001b[0;32m---> 11\u001b[0;31m \u001b[0mr1\u001b[0m \u001b[0;34m=\u001b[0m \u001b[0mRectangle\u001b[0m\u001b[0;34m(\u001b[0m\u001b[0;34m)\u001b[0m\u001b[0;34m\u001b[0m\u001b[0;34m\u001b[0m\u001b[0m\n\u001b[0m\u001b[1;32m     12\u001b[0m \u001b[0;34m\u001b[0m\u001b[0m\n",
            "\u001b[0;32m<ipython-input-18-21bff4fb0810>\u001b[0m in \u001b[0;36m__init__\u001b[0;34m(self)\u001b[0m\n\u001b[1;32m      6\u001b[0m     \u001b[0;31m#deleting instance variable length inside constructor\u001b[0m\u001b[0;34m\u001b[0m\u001b[0;34m\u001b[0m\u001b[0;34m\u001b[0m\u001b[0m\n\u001b[1;32m      7\u001b[0m     \u001b[0;32mdel\u001b[0m \u001b[0mself\u001b[0m\u001b[0;34m.\u001b[0m\u001b[0mlength\u001b[0m\u001b[0;34m\u001b[0m\u001b[0;34m\u001b[0m\u001b[0m\n\u001b[0;32m----> 8\u001b[0;31m     \u001b[0mprint\u001b[0m\u001b[0;34m(\u001b[0m\u001b[0;34m\"Length: {} and Breadth: {}\"\u001b[0m\u001b[0;34m.\u001b[0m\u001b[0mformat\u001b[0m\u001b[0;34m(\u001b[0m\u001b[0mself\u001b[0m\u001b[0;34m.\u001b[0m\u001b[0mlength\u001b[0m\u001b[0;34m,\u001b[0m \u001b[0mself\u001b[0m\u001b[0;34m.\u001b[0m\u001b[0mbreadth\u001b[0m\u001b[0;34m)\u001b[0m\u001b[0;34m)\u001b[0m\u001b[0;34m\u001b[0m\u001b[0;34m\u001b[0m\u001b[0m\n\u001b[0m\u001b[1;32m      9\u001b[0m \u001b[0;34m\u001b[0m\u001b[0m\n\u001b[1;32m     10\u001b[0m \u001b[0;31m#create an object\u001b[0m\u001b[0;34m\u001b[0m\u001b[0;34m\u001b[0m\u001b[0;34m\u001b[0m\u001b[0m\n",
            "\u001b[0;31mAttributeError\u001b[0m: 'Rectangle' object has no attribute 'length'"
          ]
        }
      ]
    },
    {
      "cell_type": "markdown",
      "source": [
        "#### 1.4.b. Inside Class In instance method using\n",
        "\n",
        "`del self.variable`"
      ],
      "metadata": {
        "id": "p9nfTOh6bJzJ"
      }
    },
    {
      "cell_type": "code",
      "source": [
        "class Rectangle:\n",
        "  def __init__(self):\n",
        "    self.length = 1\n",
        "    self.breadth = 1\n",
        "\n",
        "  def method1(self):\n",
        "    #deleting instance variable insde instance method\n",
        "    del self.length\n",
        "\n",
        "\n",
        "#create an object\n",
        "r1 = Rectangle()\n",
        "print(r1.length, r1.breadth)\n",
        "r1.method1()\n",
        "print(r1.length, r1.breadth)\n",
        "    "
      ],
      "metadata": {
        "colab": {
          "base_uri": "https://localhost:8080/",
          "height": 236
        },
        "id": "xj5DLBNMHP6A",
        "outputId": "6a4e8b72-5352-43c7-8e1e-c02d685f5507"
      },
      "execution_count": 19,
      "outputs": [
        {
          "output_type": "stream",
          "name": "stdout",
          "text": [
            "1 1\n"
          ]
        },
        {
          "output_type": "error",
          "ename": "AttributeError",
          "evalue": "ignored",
          "traceback": [
            "\u001b[0;31m---------------------------------------------------------------------------\u001b[0m",
            "\u001b[0;31mAttributeError\u001b[0m                            Traceback (most recent call last)",
            "\u001b[0;32m<ipython-input-19-49cd99d8402c>\u001b[0m in \u001b[0;36m<module>\u001b[0;34m()\u001b[0m\n\u001b[1;32m     13\u001b[0m \u001b[0mprint\u001b[0m\u001b[0;34m(\u001b[0m\u001b[0mr1\u001b[0m\u001b[0;34m.\u001b[0m\u001b[0mlength\u001b[0m\u001b[0;34m,\u001b[0m \u001b[0mr1\u001b[0m\u001b[0;34m.\u001b[0m\u001b[0mbreadth\u001b[0m\u001b[0;34m)\u001b[0m\u001b[0;34m\u001b[0m\u001b[0;34m\u001b[0m\u001b[0m\n\u001b[1;32m     14\u001b[0m \u001b[0mr1\u001b[0m\u001b[0;34m.\u001b[0m\u001b[0mmethod1\u001b[0m\u001b[0;34m(\u001b[0m\u001b[0;34m)\u001b[0m\u001b[0;34m\u001b[0m\u001b[0;34m\u001b[0m\u001b[0m\n\u001b[0;32m---> 15\u001b[0;31m \u001b[0mprint\u001b[0m\u001b[0;34m(\u001b[0m\u001b[0mr1\u001b[0m\u001b[0;34m.\u001b[0m\u001b[0mlength\u001b[0m\u001b[0;34m,\u001b[0m \u001b[0mr1\u001b[0m\u001b[0;34m.\u001b[0m\u001b[0mbreadth\u001b[0m\u001b[0;34m)\u001b[0m\u001b[0;34m\u001b[0m\u001b[0;34m\u001b[0m\u001b[0m\n\u001b[0m\u001b[1;32m     16\u001b[0m \u001b[0;34m\u001b[0m\u001b[0m\n",
            "\u001b[0;31mAttributeError\u001b[0m: 'Rectangle' object has no attribute 'length'"
          ]
        }
      ]
    },
    {
      "cell_type": "markdown",
      "source": [
        "#### 1.4.c. Outside Class using\n",
        "\n",
        "`del objectName.variable`"
      ],
      "metadata": {
        "id": "knIWgCERbQL7"
      }
    },
    {
      "cell_type": "code",
      "source": [
        "class Rectangle:\n",
        "  def __init__(self):\n",
        "    self.length = 1\n",
        "    self.breadth = 1\n",
        "\n",
        "  def method1(self):\n",
        "    del self.length\n",
        "\n",
        "\n",
        "#create an object\n",
        "r1 = Rectangle()\n",
        "print(r1.length, r1.breadth)\n",
        "#deleting length instance variable from outside class\n",
        "del r1.length\n",
        "print(r1.length, r1.breadth)\n",
        "    "
      ],
      "metadata": {
        "colab": {
          "base_uri": "https://localhost:8080/",
          "height": 236
        },
        "id": "ZBQdGBgPHmWI",
        "outputId": "bddc03f1-995e-4031-8502-12b8de98d73e"
      },
      "execution_count": 20,
      "outputs": [
        {
          "output_type": "stream",
          "name": "stdout",
          "text": [
            "1 1\n"
          ]
        },
        {
          "output_type": "error",
          "ename": "AttributeError",
          "evalue": "ignored",
          "traceback": [
            "\u001b[0;31m---------------------------------------------------------------------------\u001b[0m",
            "\u001b[0;31mAttributeError\u001b[0m                            Traceback (most recent call last)",
            "\u001b[0;32m<ipython-input-20-7115a9288af7>\u001b[0m in \u001b[0;36m<module>\u001b[0;34m()\u001b[0m\n\u001b[1;32m     13\u001b[0m \u001b[0;31m#deleting length instance variable from outside class\u001b[0m\u001b[0;34m\u001b[0m\u001b[0;34m\u001b[0m\u001b[0;34m\u001b[0m\u001b[0m\n\u001b[1;32m     14\u001b[0m \u001b[0;32mdel\u001b[0m \u001b[0mr1\u001b[0m\u001b[0;34m.\u001b[0m\u001b[0mlength\u001b[0m\u001b[0;34m\u001b[0m\u001b[0;34m\u001b[0m\u001b[0m\n\u001b[0;32m---> 15\u001b[0;31m \u001b[0mprint\u001b[0m\u001b[0;34m(\u001b[0m\u001b[0mr1\u001b[0m\u001b[0;34m.\u001b[0m\u001b[0mlength\u001b[0m\u001b[0;34m,\u001b[0m \u001b[0mr1\u001b[0m\u001b[0;34m.\u001b[0m\u001b[0mbreadth\u001b[0m\u001b[0;34m)\u001b[0m\u001b[0;34m\u001b[0m\u001b[0;34m\u001b[0m\u001b[0m\n\u001b[0m\u001b[1;32m     16\u001b[0m \u001b[0;34m\u001b[0m\u001b[0m\n",
            "\u001b[0;31mAttributeError\u001b[0m: 'Rectangle' object has no attribute 'length'"
          ]
        }
      ]
    },
    {
      "cell_type": "markdown",
      "source": [
        "## 2. Static or Class Variables"
      ],
      "metadata": {
        "id": "drjswfUY3T8K"
      }
    },
    {
      "cell_type": "markdown",
      "source": [
        "### 2.1 How and Where to Declare Static Variables"
      ],
      "metadata": {
        "id": "DrPPYc4P4AIi"
      }
    },
    {
      "cell_type": "markdown",
      "source": [
        "#### 2.1.a. Inside class but outside any method"
      ],
      "metadata": {
        "id": "m7BhORNIIL5O"
      }
    },
    {
      "cell_type": "code",
      "source": [
        "class Rectangle:\n",
        "  color = \"blue\"\n",
        "  def __init__(self):\n",
        "    self.length = 1\n",
        "    self.breadth = 1\n",
        "\n",
        "  def method1(self):\n",
        "    del self.length\n",
        "\n",
        "#printing color value \n",
        "print(Rectangle.color)\n"
      ],
      "metadata": {
        "colab": {
          "base_uri": "https://localhost:8080/"
        },
        "id": "p1PaWnC_iK8U",
        "outputId": "2cad9035-52f4-4878-8e31-9a4f17ccc64b"
      },
      "execution_count": 21,
      "outputs": [
        {
          "output_type": "stream",
          "name": "stdout",
          "text": [
            "blue\n"
          ]
        }
      ]
    },
    {
      "cell_type": "markdown",
      "source": [
        "#### 2.1.b. Inside class Inside constructor using Class Name"
      ],
      "metadata": {
        "id": "LCzgoZdwIYHW"
      }
    },
    {
      "cell_type": "code",
      "source": [
        "class Rectangle:\n",
        "  color = \"blue\"\n",
        "  def __init__(self):\n",
        "    self.length = 1\n",
        "    self.breadth = 1\n",
        "    Rectangle.filled = False\n",
        "\n",
        "  def method1(self):\n",
        "    del self.length\n",
        "\n",
        "#printing color value \n",
        "print(Rectangle.color)\n",
        "r1 = Rectangle()\n",
        "print(Rectangle.filled)\n",
        "print(r1.filled)\n"
      ],
      "metadata": {
        "colab": {
          "base_uri": "https://localhost:8080/"
        },
        "id": "PRDcNEHOidRJ",
        "outputId": "bae78168-1c63-4880-cf70-0705f50600b2"
      },
      "execution_count": 23,
      "outputs": [
        {
          "output_type": "stream",
          "name": "stdout",
          "text": [
            "blue\n",
            "False\n",
            "False\n"
          ]
        }
      ]
    },
    {
      "cell_type": "markdown",
      "source": [
        "#### 2.1.c. Inside class, Inside Instance method, using Class Name"
      ],
      "metadata": {
        "id": "6RBzUxPoIe6M"
      }
    },
    {
      "cell_type": "code",
      "source": [
        "class Rectangle:\n",
        "  color = \"blue\"\n",
        "  def __init__(self):\n",
        "    self.length = 1\n",
        "    self.breadth = 1\n",
        "\n",
        "  def method1(self):\n",
        "    Rectangle.borderWidth = 2\n",
        "\n",
        "#printing color value \n",
        "print(Rectangle.color)\n",
        "r1 = Rectangle()\n",
        "r1.method1()\n",
        "print(Rectangle.borderWidth)\n",
        "print(r1.borderWidth)\n"
      ],
      "metadata": {
        "colab": {
          "base_uri": "https://localhost:8080/"
        },
        "id": "HVWJTLWbixj_",
        "outputId": "86f301eb-aa25-46ed-ac4e-d82657b58e63"
      },
      "execution_count": 25,
      "outputs": [
        {
          "output_type": "stream",
          "name": "stdout",
          "text": [
            "blue\n",
            "2\n",
            "2\n"
          ]
        }
      ]
    },
    {
      "cell_type": "markdown",
      "source": [
        "#### 2.1.d. Inside class, Inside class method using either `cls` or `Class Name`\n",
        "\n",
        "Note: Similar to self variable in case of instance method the `cls` is also special variable that must be atleast parameter to classmethod definition."
      ],
      "metadata": {
        "id": "WJiAkDp_ImLS"
      }
    },
    {
      "cell_type": "code",
      "source": [
        "class Rectangle:\n",
        "  color = \"blue\"\n",
        "  def __init__(self):\n",
        "    self.length = 1\n",
        "    self.breadth = 1\n",
        "\n",
        "  @classmethod\n",
        "  def method1(cls):\n",
        "    Rectangle.x = 10\n",
        "    cls.y = 20\n",
        "    \n",
        "\n",
        "#printing color value \n",
        "print(Rectangle.color)\n",
        "Rectangle.method1()\n",
        "print(Rectangle.x)\n",
        "print(Rectangle.y)\n",
        "r1 = Rectangle()\n",
        "print(r1.x)\n",
        "print(r1.y)"
      ],
      "metadata": {
        "colab": {
          "base_uri": "https://localhost:8080/"
        },
        "id": "ZXBcNnxIjPDx",
        "outputId": "a2b4dc06-806c-48bd-c40e-02d4b03580cb"
      },
      "execution_count": 26,
      "outputs": [
        {
          "output_type": "stream",
          "name": "stdout",
          "text": [
            "blue\n",
            "10\n",
            "20\n",
            "10\n",
            "20\n"
          ]
        }
      ]
    },
    {
      "cell_type": "markdown",
      "source": [
        "#### 2.1.e. Inside class, Inside static method using Class Name"
      ],
      "metadata": {
        "id": "nfzj1KJcJyBR"
      }
    },
    {
      "cell_type": "code",
      "source": [
        "class Rectangle:\n",
        "  color = \"blue\"\n",
        "  def __init__(self):\n",
        "    self.length = 1\n",
        "    self.breadth = 1\n",
        "\n",
        "  @staticmethod\n",
        "  def method1():\n",
        "    Rectangle.z = 30\n",
        "\n",
        "#printing color value \n",
        "print(Rectangle.color)\n",
        "Rectangle.method1()\n",
        "print(Rectangle.z)"
      ],
      "metadata": {
        "colab": {
          "base_uri": "https://localhost:8080/"
        },
        "id": "w17V8Xy4jx_X",
        "outputId": "5bdc3c0a-26ff-4a61-9e47-191adfcaccbb"
      },
      "execution_count": 27,
      "outputs": [
        {
          "output_type": "stream",
          "name": "stdout",
          "text": [
            "blue\n",
            "30\n"
          ]
        }
      ]
    },
    {
      "cell_type": "markdown",
      "source": [
        "#### 2.1.f. Outside class using Class Name"
      ],
      "metadata": {
        "id": "9-G8_hzwJ820"
      }
    },
    {
      "cell_type": "code",
      "source": [
        "class Rectangle:\n",
        "  color = \"blue\"\n",
        "  def __init__(self):\n",
        "    self.length = 1\n",
        "    self.breadth = 1\n",
        "\n",
        "  def method1(self):\n",
        "    del self.length\n",
        "\n",
        "#printing color value \n",
        "print(Rectangle.color)\n",
        "Rectangle.abc = 100\n",
        "print(id(Rectangle.abc))\n",
        "r1 = Rectangle()\n",
        "r2 = Rectangle()\n",
        "r3 = Rectangle()\n",
        "print(\"r1.abc: \", id(r1.abc))\n",
        "print(\"r2.abc: \", id(r2.abc))\n",
        "print(\"r3.abc: \", id(r3.abc))"
      ],
      "metadata": {
        "colab": {
          "base_uri": "https://localhost:8080/"
        },
        "id": "Kjmoz0QWkG7K",
        "outputId": "fe30f35b-ba44-4a89-b56d-d610bcc5cd79"
      },
      "execution_count": 29,
      "outputs": [
        {
          "output_type": "stream",
          "name": "stdout",
          "text": [
            "blue\n",
            "94906321077856\n",
            "r1.abc:  94906321077856\n",
            "r2.abc:  94906321077856\n",
            "r3.abc:  94906321077856\n"
          ]
        }
      ]
    },
    {
      "cell_type": "markdown",
      "source": [
        "### 2.2 How and Where to Access Static Variables"
      ],
      "metadata": {
        "id": "csC04ai24Gev"
      }
    },
    {
      "cell_type": "markdown",
      "source": [
        "#### 2.2.a Inside Class, Inside Constructor, Using Class Name or self"
      ],
      "metadata": {
        "id": "8M6hodNZKE93"
      }
    },
    {
      "cell_type": "code",
      "source": [
        "class Rectangle:\n",
        "  color = \"blue\"\n",
        "  def __init__(self):\n",
        "    self.length = 1\n",
        "    self.breadth = 1\n",
        "    print(\"Rectangle.color: \", Rectangle.color)\n",
        "    print(\"self.color: \", self.color)\n",
        "\n",
        "#printing color value \n",
        "print(Rectangle.color)\n",
        "r1 = Rectangle()"
      ],
      "metadata": {
        "colab": {
          "base_uri": "https://localhost:8080/"
        },
        "id": "756G_O4flBNv",
        "outputId": "3ddf4217-5b0c-4851-8d54-870483e69b04"
      },
      "execution_count": 31,
      "outputs": [
        {
          "output_type": "stream",
          "name": "stdout",
          "text": [
            "blue\n",
            "Rectangle.color:  blue\n",
            "self.color:  blue\n"
          ]
        }
      ]
    },
    {
      "cell_type": "markdown",
      "source": [
        "#### 2.2.b Inside Class, Inside Instance Method, Using Class Name or self"
      ],
      "metadata": {
        "id": "1ptmxARiKOeT"
      }
    },
    {
      "cell_type": "code",
      "source": [
        "class Rectangle:\n",
        "  color = \"blue\"\n",
        "  def __init__(self):\n",
        "    self.length = 1\n",
        "    self.breadth = 1\n",
        "\n",
        "  def method1(self):\n",
        "    print(\"Rectangle.color: \", Rectangle.color)\n",
        "    print(\"self.color: \", self.color)\n",
        "\n",
        "#printing color value \n",
        "print(Rectangle.color)\n",
        "r1 = Rectangle()\n",
        "r1.method1()"
      ],
      "metadata": {
        "colab": {
          "base_uri": "https://localhost:8080/"
        },
        "id": "4IgkhOj5lRw5",
        "outputId": "863c6c7c-330b-4808-f65f-605c11a1bb57"
      },
      "execution_count": 32,
      "outputs": [
        {
          "output_type": "stream",
          "name": "stdout",
          "text": [
            "blue\n",
            "Rectangle.color:  blue\n",
            "self.color:  blue\n"
          ]
        }
      ]
    },
    {
      "cell_type": "markdown",
      "source": [
        "#### 2.2.c Inside Class, Inside Class Method, Using Class Name or cls"
      ],
      "metadata": {
        "id": "dbXM1TmWKSlr"
      }
    },
    {
      "cell_type": "code",
      "source": [
        "class Rectangle:\n",
        "  color = \"blue\"\n",
        "  def __init__(self):\n",
        "    self.length = 1\n",
        "    self.breadth = 1\n",
        "\n",
        "  @classmethod\n",
        "  def method1(cls):\n",
        "    print(\"Rectangle.color: \", Rectangle.color)\n",
        "    print(\"cls.color: \", cls.color)\n",
        "\n",
        "#printing color value \n",
        "print(Rectangle.color)\n",
        "Rectangle.method1()"
      ],
      "metadata": {
        "colab": {
          "base_uri": "https://localhost:8080/"
        },
        "id": "yX5cBxLMlj8w",
        "outputId": "18cf3a34-6b9b-4087-d226-afb4877624f1"
      },
      "execution_count": 33,
      "outputs": [
        {
          "output_type": "stream",
          "name": "stdout",
          "text": [
            "blue\n",
            "Rectangle.color:  blue\n",
            "cls.color:  blue\n"
          ]
        }
      ]
    },
    {
      "cell_type": "markdown",
      "source": [
        "#### 2.2.d Inside Class, Inside Static Method, Using Class Name"
      ],
      "metadata": {
        "id": "V2kmqFi7KYVA"
      }
    },
    {
      "cell_type": "code",
      "source": [
        "class Rectangle:\n",
        "  color = \"blue\"\n",
        "  def __init__(self):\n",
        "    self.length = 1\n",
        "    self.breadth = 1\n",
        "\n",
        "  @staticmethod\n",
        "  def method1():\n",
        "    print(\"Rectangle.color: \", Rectangle.color)\n",
        "\n",
        "#printing color value \n",
        "print(Rectangle.color)\n",
        "Rectangle.method1()"
      ],
      "metadata": {
        "colab": {
          "base_uri": "https://localhost:8080/"
        },
        "id": "GgZWTU38l4KE",
        "outputId": "db5f95e7-7e1c-4c45-9234-51e639ee18b0"
      },
      "execution_count": 34,
      "outputs": [
        {
          "output_type": "stream",
          "name": "stdout",
          "text": [
            "blue\n",
            "Rectangle.color:  blue\n"
          ]
        }
      ]
    },
    {
      "cell_type": "markdown",
      "source": [
        "#### 2.2.e Outside Class, Using Class Name or Object Name"
      ],
      "metadata": {
        "id": "mlpTG258Kc7z"
      }
    },
    {
      "cell_type": "code",
      "source": [
        "class Rectangle:\n",
        "  color = \"blue\"\n",
        "  def __init__(self):\n",
        "    self.length = 1\n",
        "    self.breadth = 1\n",
        "    \n",
        "\n",
        "#printing color value \n",
        "print(\"Rectangle.color: \", Rectangle.color)\n"
      ],
      "metadata": {
        "colab": {
          "base_uri": "https://localhost:8080/"
        },
        "id": "qcSmGtZ3mPi2",
        "outputId": "d478d4aa-8f95-448b-deb1-2feff2da96b1"
      },
      "execution_count": 35,
      "outputs": [
        {
          "output_type": "stream",
          "name": "stdout",
          "text": [
            "Rectangle.color:  blue\n"
          ]
        }
      ]
    },
    {
      "cell_type": "markdown",
      "source": [
        "### 2.3 How and Where to Modify Static Variables"
      ],
      "metadata": {
        "id": "kRRK5Y9H4Kpm"
      }
    },
    {
      "cell_type": "markdown",
      "source": [
        "#### 2.3.a Inside Class, Inside Constructor, Using Class Name"
      ],
      "metadata": {
        "id": "Gang3gXOKlj7"
      }
    },
    {
      "cell_type": "code",
      "source": [
        "class Rectangle:\n",
        "  color = \"blue\"\n",
        "  def __init__(self):\n",
        "    self.length = 1\n",
        "    self.breadth = 1\n",
        "    Rectangle.color = \"red\"\n",
        "    \n",
        "\n",
        "#printing color value \n",
        "print(\"Rectangle.color: \", Rectangle.color)\n",
        "r1 = Rectangle()\n",
        "print(\"Rectangle.color: \", Rectangle.color)\n"
      ],
      "metadata": {
        "colab": {
          "base_uri": "https://localhost:8080/"
        },
        "id": "KELIJWCxmZYQ",
        "outputId": "d8aa6f2b-d52f-4067-b80d-85e2243700b1"
      },
      "execution_count": 37,
      "outputs": [
        {
          "output_type": "stream",
          "name": "stdout",
          "text": [
            "Rectangle.color:  blue\n",
            "Rectangle.color:  red\n"
          ]
        }
      ]
    },
    {
      "cell_type": "markdown",
      "source": [
        "#### 2.3.b Inside Class, Inside Instance Method, Using Class Name"
      ],
      "metadata": {
        "id": "_4EzNplSKqYz"
      }
    },
    {
      "cell_type": "code",
      "source": [
        "class Rectangle:\n",
        "  color = \"blue\"\n",
        "  def __init__(self):\n",
        "    self.length = 1\n",
        "    self.breadth = 1\n",
        "\n",
        "  def method1(self):\n",
        "    Rectangle.color = \"red\"\n",
        "    \n",
        "\n",
        "#printing color value \n",
        "print(\"Rectangle.color: \", Rectangle.color)\n",
        "r1 = Rectangle()\n",
        "print(\"Rectangle.color: \", Rectangle.color)\n",
        "r1.method1()\n",
        "print(\"Rectangle.color: \", Rectangle.color)\n"
      ],
      "metadata": {
        "colab": {
          "base_uri": "https://localhost:8080/"
        },
        "id": "wluQ7bl2mnv6",
        "outputId": "19172a0c-aa4c-467b-b34a-8f1b1dfa67d8"
      },
      "execution_count": 38,
      "outputs": [
        {
          "output_type": "stream",
          "name": "stdout",
          "text": [
            "Rectangle.color:  blue\n",
            "Rectangle.color:  blue\n",
            "Rectangle.color:  red\n"
          ]
        }
      ]
    },
    {
      "cell_type": "markdown",
      "source": [
        "#### 2.3.c Inside Class, Inside Class Method, Using Class Name or cls"
      ],
      "metadata": {
        "id": "sUIF7MK5KuFz"
      }
    },
    {
      "cell_type": "code",
      "source": [
        "class Rectangle:\n",
        "  color = \"blue\"\n",
        "  borderWidth = 2\n",
        "  def __init__(self):\n",
        "    self.length = 1\n",
        "    self.breadth = 1\n",
        "\n",
        "  def method1(self):\n",
        "    Rectangle.color = \"red\"\n",
        "\n",
        "  @classmethod\n",
        "  def method2(cls):\n",
        "    Rectangle.color = \"red\"\n",
        "    cls.borderWidth = 5\n",
        "    \n",
        "\n",
        "#printing color value \n",
        "print(\"Rectangle.color: \", Rectangle.color)\n",
        "Rectangle.method2()\n",
        "print(\"Rectangle.color: \", Rectangle.color)\n",
        "print(\"Rectangle.borderWidth: \", Rectangle.borderWidth)\n"
      ],
      "metadata": {
        "colab": {
          "base_uri": "https://localhost:8080/"
        },
        "id": "H4wuXTMRm2W-",
        "outputId": "405cd69a-9722-4496-8e7b-cfb7799a7530"
      },
      "execution_count": 40,
      "outputs": [
        {
          "output_type": "stream",
          "name": "stdout",
          "text": [
            "Rectangle.color:  blue\n",
            "Rectangle.color:  red\n",
            "Rectangle.borderWidth:  5\n"
          ]
        }
      ]
    },
    {
      "cell_type": "markdown",
      "source": [
        "#### 2.3.d Inside Class, Inside Static Method, Using Class Name"
      ],
      "metadata": {
        "id": "CWDA6_QjKzpZ"
      }
    },
    {
      "cell_type": "code",
      "source": [
        "class Rectangle:\n",
        "  color = \"blue\"\n",
        "  borderWidth = 2\n",
        "  def __init__(self):\n",
        "    self.length = 1\n",
        "    self.breadth = 1\n",
        "\n",
        "  def method1(self):\n",
        "    Rectangle.color = \"red\"\n",
        "\n",
        "  @classmethod\n",
        "  def method2(cls):\n",
        "    Rectangle.color = \"red\"\n",
        "    cls.borderWidth = 5\n",
        "\n",
        "  @staticmethod\n",
        "  def method3():\n",
        "    Rectangle.color = \"green\"\n",
        "    Rectangle.borderWidth = 7\n",
        "    \n",
        "\n",
        "#printing color value \n",
        "print(\"Rectangle.color: \", Rectangle.color)\n",
        "Rectangle.method3()\n",
        "print(\"Rectangle.color: \", Rectangle.color)\n",
        "print(\"Rectangle.borderWidth: \", Rectangle.borderWidth)\n"
      ],
      "metadata": {
        "colab": {
          "base_uri": "https://localhost:8080/"
        },
        "id": "kQuwYOxxneIP",
        "outputId": "c1066f4a-6b8d-4be1-ecf3-6ef2d29e6b93"
      },
      "execution_count": 41,
      "outputs": [
        {
          "output_type": "stream",
          "name": "stdout",
          "text": [
            "Rectangle.color:  blue\n",
            "Rectangle.color:  green\n",
            "Rectangle.borderWidth:  7\n"
          ]
        }
      ]
    },
    {
      "cell_type": "markdown",
      "source": [
        "#### 2.3.e Outside Class, Using Class Name"
      ],
      "metadata": {
        "id": "cYcuFFyRK4t8"
      }
    },
    {
      "cell_type": "code",
      "source": [
        "class Rectangle:\n",
        "  color = \"blue\"\n",
        "  borderWidth = 2\n",
        "  def __init__(self):\n",
        "    self.length = 1\n",
        "    self.breadth = 1\n",
        "\n",
        "  def method1(self):\n",
        "    Rectangle.color = \"red\"\n",
        "\n",
        "  @classmethod\n",
        "  def method2(cls):\n",
        "    Rectangle.color = \"red\"\n",
        "    cls.borderWidth = 5\n",
        "    \n",
        "\n",
        "#printing color value \n",
        "print(\"Rectangle.color: \", Rectangle.color)\n",
        "Rectangle.color = \"orange\"\n",
        "Rectangle.borderWidth = 4\n",
        "print(\"Rectangle.color: \", Rectangle.color)\n",
        "print(\"Rectangle.borderWidth: \", Rectangle.borderWidth)\n"
      ],
      "metadata": {
        "colab": {
          "base_uri": "https://localhost:8080/"
        },
        "id": "A1DX9nkJnsHL",
        "outputId": "b35b3c97-4981-4542-8836-0a32b8c99bd2"
      },
      "execution_count": 42,
      "outputs": [
        {
          "output_type": "stream",
          "name": "stdout",
          "text": [
            "Rectangle.color:  blue\n",
            "Rectangle.color:  orange\n",
            "Rectangle.borderWidth:  4\n"
          ]
        }
      ]
    },
    {
      "cell_type": "markdown",
      "source": [
        "### 2.4 How and Where to Delete Static Variables"
      ],
      "metadata": {
        "id": "V2B_SQ5u4QKo"
      }
    },
    {
      "cell_type": "markdown",
      "source": [
        "#### 2.4.a Inside Class, Inside Constructor, Using Class Name or *self*"
      ],
      "metadata": {
        "id": "65-DjCFOK-kT"
      }
    },
    {
      "cell_type": "code",
      "source": [
        "class Rectangle:\n",
        "  color = \"blue\"\n",
        "  borderWidth = 2\n",
        "  def __init__(self):\n",
        "    self.length = 1\n",
        "    self.breadth = 1\n",
        "    del Rectangle.color    \n",
        "    \n",
        "\n",
        "#printing color value \n",
        "print(\"Rectangle.color: \", Rectangle.color)\n",
        "print(\"Rectangle.borderWidth: \", Rectangle.borderWidth)\n",
        "r1 = Rectangle()\n",
        "print(\"Rectangle.color: \", Rectangle.color)\n",
        "print(\"Rectangle.borderWidth: \", Rectangle.borderWidth)"
      ],
      "metadata": {
        "colab": {
          "base_uri": "https://localhost:8080/",
          "height": 253
        },
        "id": "w3nu1e1_ocvU",
        "outputId": "a47795f0-3762-4748-99c8-2b890f29c566"
      },
      "execution_count": 46,
      "outputs": [
        {
          "output_type": "stream",
          "name": "stdout",
          "text": [
            "Rectangle.color:  blue\n",
            "Rectangle.borderWidth:  2\n"
          ]
        },
        {
          "output_type": "error",
          "ename": "AttributeError",
          "evalue": "ignored",
          "traceback": [
            "\u001b[0;31m---------------------------------------------------------------------------\u001b[0m",
            "\u001b[0;31mAttributeError\u001b[0m                            Traceback (most recent call last)",
            "\u001b[0;32m<ipython-input-46-758ddb73538b>\u001b[0m in \u001b[0;36m<module>\u001b[0;34m()\u001b[0m\n\u001b[1;32m     12\u001b[0m \u001b[0mprint\u001b[0m\u001b[0;34m(\u001b[0m\u001b[0;34m\"Rectangle.borderWidth: \"\u001b[0m\u001b[0;34m,\u001b[0m \u001b[0mRectangle\u001b[0m\u001b[0;34m.\u001b[0m\u001b[0mborderWidth\u001b[0m\u001b[0;34m)\u001b[0m\u001b[0;34m\u001b[0m\u001b[0;34m\u001b[0m\u001b[0m\n\u001b[1;32m     13\u001b[0m \u001b[0mr1\u001b[0m \u001b[0;34m=\u001b[0m \u001b[0mRectangle\u001b[0m\u001b[0;34m(\u001b[0m\u001b[0;34m)\u001b[0m\u001b[0;34m\u001b[0m\u001b[0;34m\u001b[0m\u001b[0m\n\u001b[0;32m---> 14\u001b[0;31m \u001b[0mprint\u001b[0m\u001b[0;34m(\u001b[0m\u001b[0;34m\"Rectangle.color: \"\u001b[0m\u001b[0;34m,\u001b[0m \u001b[0mRectangle\u001b[0m\u001b[0;34m.\u001b[0m\u001b[0mcolor\u001b[0m\u001b[0;34m)\u001b[0m\u001b[0;34m\u001b[0m\u001b[0;34m\u001b[0m\u001b[0m\n\u001b[0m\u001b[1;32m     15\u001b[0m \u001b[0mprint\u001b[0m\u001b[0;34m(\u001b[0m\u001b[0;34m\"Rectangle.borderWidth: \"\u001b[0m\u001b[0;34m,\u001b[0m \u001b[0mRectangle\u001b[0m\u001b[0;34m.\u001b[0m\u001b[0mborderWidth\u001b[0m\u001b[0;34m)\u001b[0m\u001b[0;34m\u001b[0m\u001b[0;34m\u001b[0m\u001b[0m\n",
            "\u001b[0;31mAttributeError\u001b[0m: type object 'Rectangle' has no attribute 'color'"
          ]
        }
      ]
    },
    {
      "cell_type": "markdown",
      "source": [
        "#### 2.4.b Inside Class, Inside Instance Method, Using Class Name or *self*"
      ],
      "metadata": {
        "id": "TiteUg9woBuu"
      }
    },
    {
      "cell_type": "code",
      "source": [
        "class Rectangle:\n",
        "  color = \"blue\"\n",
        "  borderWidth = 2\n",
        "  def __init__(self):\n",
        "    self.length = 1\n",
        "    self.breadth = 1\n",
        "\n",
        "  def method1(self):\n",
        "    del Rectangle.color\n",
        "\n",
        "\n",
        "#printing color value \n",
        "print(\"Rectangle.color: \", Rectangle.color)\n",
        "print(\"Rectangle.borderWidth: \", Rectangle.borderWidth)\n",
        "r1 = Rectangle()\n",
        "r1.method1()\n",
        "print(\"Rectangle.color: \", Rectangle.color)\n",
        "print(\"Rectangle.borderWidth: \", Rectangle.borderWidth)"
      ],
      "metadata": {
        "colab": {
          "base_uri": "https://localhost:8080/",
          "height": 253
        },
        "id": "-SIdMrGuoIMH",
        "outputId": "12123670-0560-47dc-8432-3f39c44ea5eb"
      },
      "execution_count": 48,
      "outputs": [
        {
          "output_type": "stream",
          "name": "stdout",
          "text": [
            "Rectangle.color:  blue\n",
            "Rectangle.borderWidth:  2\n"
          ]
        },
        {
          "output_type": "error",
          "ename": "AttributeError",
          "evalue": "ignored",
          "traceback": [
            "\u001b[0;31m---------------------------------------------------------------------------\u001b[0m",
            "\u001b[0;31mAttributeError\u001b[0m                            Traceback (most recent call last)",
            "\u001b[0;32m<ipython-input-48-43b5c2050ee5>\u001b[0m in \u001b[0;36m<module>\u001b[0;34m()\u001b[0m\n\u001b[1;32m     15\u001b[0m \u001b[0mr1\u001b[0m \u001b[0;34m=\u001b[0m \u001b[0mRectangle\u001b[0m\u001b[0;34m(\u001b[0m\u001b[0;34m)\u001b[0m\u001b[0;34m\u001b[0m\u001b[0;34m\u001b[0m\u001b[0m\n\u001b[1;32m     16\u001b[0m \u001b[0mr1\u001b[0m\u001b[0;34m.\u001b[0m\u001b[0mmethod1\u001b[0m\u001b[0;34m(\u001b[0m\u001b[0;34m)\u001b[0m\u001b[0;34m\u001b[0m\u001b[0;34m\u001b[0m\u001b[0m\n\u001b[0;32m---> 17\u001b[0;31m \u001b[0mprint\u001b[0m\u001b[0;34m(\u001b[0m\u001b[0;34m\"Rectangle.color: \"\u001b[0m\u001b[0;34m,\u001b[0m \u001b[0mRectangle\u001b[0m\u001b[0;34m.\u001b[0m\u001b[0mcolor\u001b[0m\u001b[0;34m)\u001b[0m\u001b[0;34m\u001b[0m\u001b[0;34m\u001b[0m\u001b[0m\n\u001b[0m\u001b[1;32m     18\u001b[0m \u001b[0mprint\u001b[0m\u001b[0;34m(\u001b[0m\u001b[0;34m\"Rectangle.borderWidth: \"\u001b[0m\u001b[0;34m,\u001b[0m \u001b[0mRectangle\u001b[0m\u001b[0;34m.\u001b[0m\u001b[0mborderWidth\u001b[0m\u001b[0;34m)\u001b[0m\u001b[0;34m\u001b[0m\u001b[0;34m\u001b[0m\u001b[0m\n",
            "\u001b[0;31mAttributeError\u001b[0m: type object 'Rectangle' has no attribute 'color'"
          ]
        }
      ]
    },
    {
      "cell_type": "markdown",
      "source": [
        "#### 2.4.c Inside Class, Inside class Method, Using Class Name or *cls*"
      ],
      "metadata": {
        "id": "otOBkMlKoInN"
      }
    },
    {
      "cell_type": "code",
      "source": [
        "class Rectangle:\n",
        "  color = \"blue\"\n",
        "  borderWidth = 2\n",
        "  def __init__(self):\n",
        "    self.length = 1\n",
        "    self.breadth = 1\n",
        "\n",
        "  def method1(self):\n",
        "    del Rectangle.color\n",
        "\n",
        "  @classmethod\n",
        "  def method2(cls):\n",
        "    del Rectangle.color\n",
        "    del cls.borderWidth\n",
        "\n",
        "\n",
        "#printing color value \n",
        "print(\"Rectangle.color: \", Rectangle.color)\n",
        "print(\"Rectangle.borderWidth: \", Rectangle.borderWidth)\n",
        "Rectangle.method2()\n",
        "print(\"Rectangle.color: \", Rectangle.color)\n",
        "print(\"Rectangle.borderWidth: \", Rectangle.borderWidth)"
      ],
      "metadata": {
        "colab": {
          "base_uri": "https://localhost:8080/",
          "height": 253
        },
        "id": "RSF4JjpYodmC",
        "outputId": "a84d7bda-587f-4903-d552-8aeab29da4cb"
      },
      "execution_count": 49,
      "outputs": [
        {
          "output_type": "stream",
          "name": "stdout",
          "text": [
            "Rectangle.color:  blue\n",
            "Rectangle.borderWidth:  2\n"
          ]
        },
        {
          "output_type": "error",
          "ename": "AttributeError",
          "evalue": "ignored",
          "traceback": [
            "\u001b[0;31m---------------------------------------------------------------------------\u001b[0m",
            "\u001b[0;31mAttributeError\u001b[0m                            Traceback (most recent call last)",
            "\u001b[0;32m<ipython-input-49-23eccc230b89>\u001b[0m in \u001b[0;36m<module>\u001b[0;34m()\u001b[0m\n\u001b[1;32m     19\u001b[0m \u001b[0mprint\u001b[0m\u001b[0;34m(\u001b[0m\u001b[0;34m\"Rectangle.borderWidth: \"\u001b[0m\u001b[0;34m,\u001b[0m \u001b[0mRectangle\u001b[0m\u001b[0;34m.\u001b[0m\u001b[0mborderWidth\u001b[0m\u001b[0;34m)\u001b[0m\u001b[0;34m\u001b[0m\u001b[0;34m\u001b[0m\u001b[0m\n\u001b[1;32m     20\u001b[0m \u001b[0mRectangle\u001b[0m\u001b[0;34m.\u001b[0m\u001b[0mmethod2\u001b[0m\u001b[0;34m(\u001b[0m\u001b[0;34m)\u001b[0m\u001b[0;34m\u001b[0m\u001b[0;34m\u001b[0m\u001b[0m\n\u001b[0;32m---> 21\u001b[0;31m \u001b[0mprint\u001b[0m\u001b[0;34m(\u001b[0m\u001b[0;34m\"Rectangle.color: \"\u001b[0m\u001b[0;34m,\u001b[0m \u001b[0mRectangle\u001b[0m\u001b[0;34m.\u001b[0m\u001b[0mcolor\u001b[0m\u001b[0;34m)\u001b[0m\u001b[0;34m\u001b[0m\u001b[0;34m\u001b[0m\u001b[0m\n\u001b[0m\u001b[1;32m     22\u001b[0m \u001b[0mprint\u001b[0m\u001b[0;34m(\u001b[0m\u001b[0;34m\"Rectangle.borderWidth: \"\u001b[0m\u001b[0;34m,\u001b[0m \u001b[0mRectangle\u001b[0m\u001b[0;34m.\u001b[0m\u001b[0mborderWidth\u001b[0m\u001b[0;34m)\u001b[0m\u001b[0;34m\u001b[0m\u001b[0;34m\u001b[0m\u001b[0m\n",
            "\u001b[0;31mAttributeError\u001b[0m: type object 'Rectangle' has no attribute 'color'"
          ]
        }
      ]
    },
    {
      "cell_type": "markdown",
      "source": [
        "#### 2.4.d Inside Class, Inside Static Method, Using Class Name"
      ],
      "metadata": {
        "id": "tpA7F7mnoNRU"
      }
    },
    {
      "cell_type": "code",
      "source": [
        "class Rectangle:\n",
        "  color = \"blue\"\n",
        "  borderWidth = 2\n",
        "  def __init__(self):\n",
        "    self.length = 1\n",
        "    self.breadth = 1\n",
        "\n",
        "  @staticmethod\n",
        "  def method1():\n",
        "    del Rectangle.color\n",
        "\n",
        "\n",
        "#printing color value \n",
        "print(\"Rectangle.color: \", Rectangle.color)\n",
        "print(\"Rectangle.borderWidth: \", Rectangle.borderWidth)\n",
        "Rectangle.method1()\n",
        "print(\"Rectangle.color: \", Rectangle.color)\n",
        "print(\"Rectangle.borderWidth: \", Rectangle.borderWidth)"
      ],
      "metadata": {
        "colab": {
          "base_uri": "https://localhost:8080/",
          "height": 253
        },
        "id": "jyP5XhtYoTiw",
        "outputId": "b12c59ce-9a26-4113-b8a5-6a4601f64615"
      },
      "execution_count": 51,
      "outputs": [
        {
          "output_type": "stream",
          "name": "stdout",
          "text": [
            "Rectangle.color:  blue\n",
            "Rectangle.borderWidth:  2\n"
          ]
        },
        {
          "output_type": "error",
          "ename": "AttributeError",
          "evalue": "ignored",
          "traceback": [
            "\u001b[0;31m---------------------------------------------------------------------------\u001b[0m",
            "\u001b[0;31mAttributeError\u001b[0m                            Traceback (most recent call last)",
            "\u001b[0;32m<ipython-input-51-9131f3c8f4e1>\u001b[0m in \u001b[0;36m<module>\u001b[0;34m()\u001b[0m\n\u001b[1;32m     15\u001b[0m \u001b[0mprint\u001b[0m\u001b[0;34m(\u001b[0m\u001b[0;34m\"Rectangle.borderWidth: \"\u001b[0m\u001b[0;34m,\u001b[0m \u001b[0mRectangle\u001b[0m\u001b[0;34m.\u001b[0m\u001b[0mborderWidth\u001b[0m\u001b[0;34m)\u001b[0m\u001b[0;34m\u001b[0m\u001b[0;34m\u001b[0m\u001b[0m\n\u001b[1;32m     16\u001b[0m \u001b[0mRectangle\u001b[0m\u001b[0;34m.\u001b[0m\u001b[0mmethod1\u001b[0m\u001b[0;34m(\u001b[0m\u001b[0;34m)\u001b[0m\u001b[0;34m\u001b[0m\u001b[0;34m\u001b[0m\u001b[0m\n\u001b[0;32m---> 17\u001b[0;31m \u001b[0mprint\u001b[0m\u001b[0;34m(\u001b[0m\u001b[0;34m\"Rectangle.color: \"\u001b[0m\u001b[0;34m,\u001b[0m \u001b[0mRectangle\u001b[0m\u001b[0;34m.\u001b[0m\u001b[0mcolor\u001b[0m\u001b[0;34m)\u001b[0m\u001b[0;34m\u001b[0m\u001b[0;34m\u001b[0m\u001b[0m\n\u001b[0m\u001b[1;32m     18\u001b[0m \u001b[0mprint\u001b[0m\u001b[0;34m(\u001b[0m\u001b[0;34m\"Rectangle.borderWidth: \"\u001b[0m\u001b[0;34m,\u001b[0m \u001b[0mRectangle\u001b[0m\u001b[0;34m.\u001b[0m\u001b[0mborderWidth\u001b[0m\u001b[0;34m)\u001b[0m\u001b[0;34m\u001b[0m\u001b[0;34m\u001b[0m\u001b[0m\n",
            "\u001b[0;31mAttributeError\u001b[0m: type object 'Rectangle' has no attribute 'color'"
          ]
        }
      ]
    },
    {
      "cell_type": "markdown",
      "source": [
        "#### 2.4.e Outsdie Class, Using Class Name or object Name"
      ],
      "metadata": {
        "id": "OeIeRfW9oU5u"
      }
    },
    {
      "cell_type": "code",
      "source": [
        "class Rectangle:\n",
        "  color = \"blue\"\n",
        "  borderWidth = 2\n",
        "  def __init__(self):\n",
        "    self.length = 1\n",
        "    self.breadth = 1\n",
        "\n",
        "  def method1(self):\n",
        "    del Rectangle.color\n",
        "\n",
        "\n",
        "#printing color value \n",
        "print(\"Rectangle.color: \", Rectangle.color)\n",
        "print(\"Rectangle.borderWidth: \", Rectangle.borderWidth)\n",
        "del Rectangle.color\n",
        "print(\"Rectangle.color: \", Rectangle.color)\n",
        "print(\"Rectangle.borderWidth: \", Rectangle.borderWidth)"
      ],
      "metadata": {
        "colab": {
          "base_uri": "https://localhost:8080/",
          "height": 253
        },
        "id": "vxbMDadMoec6",
        "outputId": "6074d31b-3c1d-4211-ff68-627cdfa40de5"
      },
      "execution_count": 52,
      "outputs": [
        {
          "output_type": "stream",
          "name": "stdout",
          "text": [
            "Rectangle.color:  blue\n",
            "Rectangle.borderWidth:  2\n"
          ]
        },
        {
          "output_type": "error",
          "ename": "AttributeError",
          "evalue": "ignored",
          "traceback": [
            "\u001b[0;31m---------------------------------------------------------------------------\u001b[0m",
            "\u001b[0;31mAttributeError\u001b[0m                            Traceback (most recent call last)",
            "\u001b[0;32m<ipython-input-52-a310d60d62be>\u001b[0m in \u001b[0;36m<module>\u001b[0;34m()\u001b[0m\n\u001b[1;32m     14\u001b[0m \u001b[0mprint\u001b[0m\u001b[0;34m(\u001b[0m\u001b[0;34m\"Rectangle.borderWidth: \"\u001b[0m\u001b[0;34m,\u001b[0m \u001b[0mRectangle\u001b[0m\u001b[0;34m.\u001b[0m\u001b[0mborderWidth\u001b[0m\u001b[0;34m)\u001b[0m\u001b[0;34m\u001b[0m\u001b[0;34m\u001b[0m\u001b[0m\n\u001b[1;32m     15\u001b[0m \u001b[0;32mdel\u001b[0m \u001b[0mRectangle\u001b[0m\u001b[0;34m.\u001b[0m\u001b[0mcolor\u001b[0m\u001b[0;34m\u001b[0m\u001b[0;34m\u001b[0m\u001b[0m\n\u001b[0;32m---> 16\u001b[0;31m \u001b[0mprint\u001b[0m\u001b[0;34m(\u001b[0m\u001b[0;34m\"Rectangle.color: \"\u001b[0m\u001b[0;34m,\u001b[0m \u001b[0mRectangle\u001b[0m\u001b[0;34m.\u001b[0m\u001b[0mcolor\u001b[0m\u001b[0;34m)\u001b[0m\u001b[0;34m\u001b[0m\u001b[0;34m\u001b[0m\u001b[0m\n\u001b[0m\u001b[1;32m     17\u001b[0m \u001b[0mprint\u001b[0m\u001b[0;34m(\u001b[0m\u001b[0;34m\"Rectangle.borderWidth: \"\u001b[0m\u001b[0;34m,\u001b[0m \u001b[0mRectangle\u001b[0m\u001b[0;34m.\u001b[0m\u001b[0mborderWidth\u001b[0m\u001b[0;34m)\u001b[0m\u001b[0;34m\u001b[0m\u001b[0;34m\u001b[0m\u001b[0m\n",
            "\u001b[0;31mAttributeError\u001b[0m: type object 'Rectangle' has no attribute 'color'"
          ]
        }
      ]
    },
    {
      "cell_type": "markdown",
      "source": [
        "## 3. Local Variables\n",
        "\n",
        "`Global variables` are those which are not defined inside any function and have a `global scope`.\n",
        "\n",
        "* Whereas `local variables` are those which are defined inside a function and its `scope is limited` to that function only. \n",
        "\n",
        "* If we try to use this `local variable outside` the function, it give NameError."
      ],
      "metadata": {
        "id": "M0Mf8rEw3aQl"
      }
    },
    {
      "cell_type": "code",
      "source": [
        "def method1():\n",
        "  x = 10\n",
        "  print(\"x: \", x)\n",
        "\n",
        "method1()"
      ],
      "metadata": {
        "colab": {
          "base_uri": "https://localhost:8080/"
        },
        "id": "UI56yNdbr7OM",
        "outputId": "b7d42943-e564-413c-9f3c-710a72e31831"
      },
      "execution_count": 53,
      "outputs": [
        {
          "output_type": "stream",
          "name": "stdout",
          "text": [
            "x:  10\n"
          ]
        }
      ]
    },
    {
      "cell_type": "code",
      "source": [
        "y = 100\n",
        "def method1():\n",
        "  x = 10\n",
        "  print(\"x: \", x)\n",
        "  print(\"in method1, y: \", y)\n",
        "\n",
        "print(\"outside, y: \", y)\n",
        "method1()\n"
      ],
      "metadata": {
        "colab": {
          "base_uri": "https://localhost:8080/"
        },
        "id": "FPxAdIu_sGEo",
        "outputId": "0ed0338c-bb01-4eea-cca3-fabf53954306"
      },
      "execution_count": 55,
      "outputs": [
        {
          "output_type": "stream",
          "name": "stdout",
          "text": [
            "outside, y:  100\n",
            "x:  10\n",
            "in method1, y:  100\n"
          ]
        }
      ]
    },
    {
      "cell_type": "code",
      "source": [
        "y = 100\n",
        "def method1():\n",
        "  x = 10\n",
        "  print(\"x: \", x)\n",
        "  #print(\"in method1, y: \", y)\n",
        "  #try to change y value\n",
        "  y = 500\n",
        "  print(\"in method1, after changing y: \", y)\n",
        "\n",
        "print(\"outside, y: \", y)\n",
        "method1()\n",
        "print(\"outside, after method1 call, y: \", y)\n"
      ],
      "metadata": {
        "colab": {
          "base_uri": "https://localhost:8080/"
        },
        "id": "O8Zb7v8csYwA",
        "outputId": "f22b89b6-116c-4087-f667-a80deeb5ea7a"
      },
      "execution_count": 58,
      "outputs": [
        {
          "output_type": "stream",
          "name": "stdout",
          "text": [
            "outside, y:  100\n",
            "x:  10\n",
            "in method1, after changing y:  500\n",
            "outside, after method1 call, y:  100\n"
          ]
        }
      ]
    },
    {
      "cell_type": "code",
      "source": [
        "y = 100\n",
        "def method1():\n",
        "  x = 10\n",
        "  global y\n",
        "  print(\"x: \", x)\n",
        "  print(\"in method1, before changing value y: \", y)\n",
        "  y = 500\n",
        "  print(\"in method1, after changing value y: \", y)\n",
        "\n",
        "print(\"outside, y: \", y)\n",
        "method1()\n",
        "print(\"outside, after method1 call, y: \", y)"
      ],
      "metadata": {
        "colab": {
          "base_uri": "https://localhost:8080/"
        },
        "id": "6ZuXKkS7tKA0",
        "outputId": "68cc5939-a170-4520-bb51-20dc9f53423f"
      },
      "execution_count": 59,
      "outputs": [
        {
          "output_type": "stream",
          "name": "stdout",
          "text": [
            "outside, y:  100\n",
            "x:  10\n",
            "in method1, before changing value y:  100\n",
            "in method1, after changing value y:  500\n",
            "outside, after method1 call, y:  500\n"
          ]
        }
      ]
    },
    {
      "cell_type": "markdown",
      "source": [
        "## Types of Member Methods\n",
        "1. Instance Methods \n",
        "2. Static Methods\n",
        "3. Class Methods "
      ],
      "metadata": {
        "id": "dDoJ33_yxlHS"
      }
    },
    {
      "cell_type": "markdown",
      "source": [
        "## 1. Instance Methods\n",
        "\n",
        "The method only deals with instance variables should be an Instance Method.\n",
        "\n",
        "Instance Method always taks atleast one parameter as self.\n",
        "\n",
        "Note: self is a special variable which refers to current context object.\n",
        "\n",
        "Instance method is accessed and executed using object name from outside the class.\n",
        "\n",
        "Instance method is accessed and executed using self variable inside class."
      ],
      "metadata": {
        "id": "_SxJTk0l3FEB"
      }
    },
    {
      "cell_type": "code",
      "source": [
        "class Rectangle:\n",
        "  def method1(self):\n",
        "    print(\"instance method\")\n",
        "\n",
        "#try to call method1 using class Name will give Error\n",
        "Rectangle.method1()"
      ],
      "metadata": {
        "colab": {
          "base_uri": "https://localhost:8080/",
          "height": 201
        },
        "id": "PozYxiWgtwK5",
        "outputId": "c22ec959-2aba-45d2-f058-0e1b2629082d"
      },
      "execution_count": 60,
      "outputs": [
        {
          "output_type": "error",
          "ename": "TypeError",
          "evalue": "ignored",
          "traceback": [
            "\u001b[0;31m---------------------------------------------------------------------------\u001b[0m",
            "\u001b[0;31mTypeError\u001b[0m                                 Traceback (most recent call last)",
            "\u001b[0;32m<ipython-input-60-4255d7144d88>\u001b[0m in \u001b[0;36m<module>\u001b[0;34m()\u001b[0m\n\u001b[1;32m      4\u001b[0m \u001b[0;34m\u001b[0m\u001b[0m\n\u001b[1;32m      5\u001b[0m \u001b[0;31m#try to call method1 using class Name will give Error\u001b[0m\u001b[0;34m\u001b[0m\u001b[0;34m\u001b[0m\u001b[0;34m\u001b[0m\u001b[0m\n\u001b[0;32m----> 6\u001b[0;31m \u001b[0mRectangle\u001b[0m\u001b[0;34m.\u001b[0m\u001b[0mmethod1\u001b[0m\u001b[0;34m(\u001b[0m\u001b[0;34m)\u001b[0m\u001b[0;34m\u001b[0m\u001b[0;34m\u001b[0m\u001b[0m\n\u001b[0m",
            "\u001b[0;31mTypeError\u001b[0m: method1() missing 1 required positional argument: 'self'"
          ]
        }
      ]
    },
    {
      "cell_type": "code",
      "source": [
        "class Rectangle:\n",
        "  def method1(self):\n",
        "    print(\"instance method\")\n",
        "\n",
        "#try to call method1 using class Name will give Error\n",
        "r1 = Rectangle()\n",
        "r1.method1()"
      ],
      "metadata": {
        "colab": {
          "base_uri": "https://localhost:8080/"
        },
        "id": "dR-nkZMquBNF",
        "outputId": "17db2270-c2cc-43ad-e35a-7ebd7f9a2009"
      },
      "execution_count": 61,
      "outputs": [
        {
          "output_type": "stream",
          "name": "stdout",
          "text": [
            "instance method\n"
          ]
        }
      ]
    },
    {
      "cell_type": "markdown",
      "source": [
        "## 2. Class Methods\n",
        "\n",
        "The method only deals with Class Variables should be a Class Method.\n",
        "\n",
        "Similar to Instance method, the Class method also must take atleast one parameter i.e. cls variable.\n",
        "\n",
        "Class Method can be accessed or executed using Class Name or Object Name from outside of the class.\n",
        "\n",
        "Class Method can be accessed or executed using `Class Name` or `cls` variable inside the class."
      ],
      "metadata": {
        "id": "wYu7S8fb3Hhp"
      }
    },
    {
      "cell_type": "code",
      "source": [
        "class Rectangle:\n",
        "  def method1(self):\n",
        "    print(\"instance method\")\n",
        "\n",
        "  @classmethod\n",
        "  def method2(cls):\n",
        "    print(\"class method\")\n",
        "\n",
        "#class method can be called using Class Name as well as using object Name\n",
        "Rectangle.method2()\n",
        "r1 = Rectangle()\n",
        "r1.method2()"
      ],
      "metadata": {
        "colab": {
          "base_uri": "https://localhost:8080/"
        },
        "id": "6W67a4mIugHD",
        "outputId": "41ae3846-a496-4f6c-87e5-98f7b857b7b9"
      },
      "execution_count": 62,
      "outputs": [
        {
          "output_type": "stream",
          "name": "stdout",
          "text": [
            "class method\n",
            "class method\n"
          ]
        }
      ]
    },
    {
      "cell_type": "markdown",
      "source": [
        "## 3. Static Methods\n",
        "\n",
        "If the method is not dealing with either instance variables or statice/class variable then that type of method can be Static Method.\n",
        "\n",
        "Static method is accessed or executed using Class Name or Object Name from outiside.\n",
        "\n",
        "Static method is accessed or executed using Class Name or self in the class.\n",
        "\n",
        "Generally static method is written for Unitility purpose."
      ],
      "metadata": {
        "id": "DfmkUO4l3KcY"
      }
    },
    {
      "cell_type": "code",
      "source": [
        "class Rectangle:\n",
        "  #constructor method\n",
        "  def __init__(self):\n",
        "    print(\"constructor method\")\n",
        "\n",
        "  def method1(self):\n",
        "    print(\"instance method\")\n",
        "\n",
        "  @classmethod\n",
        "  def method2(cls):\n",
        "    print(\"class method\")\n",
        "\n",
        "  @staticmethod\n",
        "  def method3():\n",
        "    print(\"static method\")\n",
        "\n",
        "#class method and static method can be called using Class Name as well as using object Name\n",
        "Rectangle.method2()\n",
        "r1 = Rectangle()\n",
        "r1.method1()\n",
        "Rectangle.method2()\n",
        "r1.method2()\n",
        "Rectangle.method3()\n",
        "r1.method3()"
      ],
      "metadata": {
        "colab": {
          "base_uri": "https://localhost:8080/"
        },
        "id": "gQddod5Vu3im",
        "outputId": "4c0a4503-777d-444a-937a-34ee7bf08ec0"
      },
      "execution_count": 65,
      "outputs": [
        {
          "output_type": "stream",
          "name": "stdout",
          "text": [
            "class method\n",
            "constructor method\n",
            "instance method\n",
            "class method\n",
            "class method\n",
            "static method\n",
            "static method\n"
          ]
        }
      ]
    },
    {
      "cell_type": "markdown",
      "source": [
        "## 4. Constructor Methods\n",
        "\n",
        "Constructor is a special method in python.\n",
        "\n",
        "The name of the constructor should be `__init__(self)`\n",
        "\n",
        "Constructor will be executed automatically at the time of object creation.\n",
        "\n",
        "The main purpose of constructor is to `declare` and `initialize` instance variables.\n",
        "\n",
        "Per object constructor will be exeucted only once.\n",
        "\n",
        "Constructor can take atleast one argument(atleast self)\n",
        "\n",
        "Constructor is optional and if we are not providing any constructor then python will provide `default constructor`.  \n"
      ],
      "metadata": {
        "id": "oYiNrc6n3M6G"
      }
    },
    {
      "cell_type": "markdown",
      "source": [
        "### Default Constructor\n",
        "\n",
        "If we do not write User defined Constructor then PVM (Python Vertual Machine) provides one constructor that is called Defualt Constructor.\n",
        "\n",
        "The Default Constructor is always zero-parameterized and empty implementation constructor, looks like:\n",
        "\n",
        "```Python\n",
        "def __init__(self):\n",
        "  pass\n",
        "\n",
        "```\n",
        "\n",
        "![](https://pynative.com/wp-content/uploads/2021/07/types_of_constructor.png)"
      ],
      "metadata": {
        "id": "EAvKFCIqyT2A"
      }
    },
    {
      "cell_type": "code",
      "source": [
        "class Rectangle:\n",
        "  #constructor method\n",
        "  def __init__(self):\n",
        "    print(\"This is constructor method\")\n",
        "\n",
        "#constructor method is called once when object is created\n",
        "r1 = Rectangle()\n",
        "r2 = Rectangle()"
      ],
      "metadata": {
        "colab": {
          "base_uri": "https://localhost:8080/"
        },
        "id": "jth0UTlFvn9u",
        "outputId": "ed3416a1-5d59-4909-8af2-138790795492"
      },
      "execution_count": 67,
      "outputs": [
        {
          "output_type": "stream",
          "name": "stdout",
          "text": [
            "This is constructor method\n",
            "This is constructor method\n"
          ]
        }
      ]
    },
    {
      "cell_type": "markdown",
      "source": [
        "### Parameterized Constructor"
      ],
      "metadata": {
        "id": "0-CmEwBHyP5s"
      }
    },
    {
      "cell_type": "code",
      "source": [
        "class Rectangle:\n",
        "  #parameterized construcgor\n",
        "  def __init__(self, length, breadth):\n",
        "    print(\"This is constructor method\")\n",
        "    self.length = length\n",
        "    self.breadth = breadth\n",
        "\n",
        "#constructor method is called once when object is created\n",
        "r1 = Rectangle(15, 20)\n",
        "r2 = Rectangle(11, 22)\n",
        "r3 = Rectangle(100, 200)\n",
        "print(\"Length: {} and Breadth: {}\".format(r1.length, r1.breadth))\n",
        "print(\"Length: {} and Breadth: {}\".format(r2.length, r2.breadth))\n",
        "print(\"Length: {} and Breadth: {}\".format(r3.length, r3.breadth))"
      ],
      "metadata": {
        "colab": {
          "base_uri": "https://localhost:8080/"
        },
        "id": "baCS29uIwIR8",
        "outputId": "474da35e-464e-4e14-ceea-693cf44fc2ee"
      },
      "execution_count": 69,
      "outputs": [
        {
          "output_type": "stream",
          "name": "stdout",
          "text": [
            "This is constructor method\n",
            "This is constructor method\n",
            "This is constructor method\n",
            "Length: 15 and Breadth: 20\n",
            "Length: 11 and Breadth: 22\n",
            "Length: 100 and Breadth: 200\n"
          ]
        }
      ]
    },
    {
      "cell_type": "markdown",
      "source": [
        "### Constructor Overloading"
      ],
      "metadata": {
        "id": "CZMTNlAn8WKU"
      }
    },
    {
      "cell_type": "code",
      "source": [
        "class Rectangle:\n",
        "  #parameterized construcgor\n",
        "  def __init__(self, length=1, breadth=1):\n",
        "    print(\"This is constructor method\")\n",
        "    self.length = length\n",
        "    self.breadth = breadth\n",
        "\n",
        "#constructor method is called once when object is created\n",
        "r1 = Rectangle()\n",
        "r2 = Rectangle(11)\n",
        "r3 = Rectangle(100, 200)\n",
        "print(\"Length: {} and Breadth: {}\".format(r1.length, r1.breadth))\n",
        "print(\"Length: {} and Breadth: {}\".format(r2.length, r2.breadth))\n",
        "print(\"Length: {} and Breadth: {}\".format(r3.length, r3.breadth))"
      ],
      "metadata": {
        "colab": {
          "base_uri": "https://localhost:8080/"
        },
        "id": "uoTdAYsZxBjE",
        "outputId": "064c5b9f-96a5-40b4-8fd2-573b48a5ca3f"
      },
      "execution_count": 70,
      "outputs": [
        {
          "output_type": "stream",
          "name": "stdout",
          "text": [
            "This is constructor method\n",
            "This is constructor method\n",
            "This is constructor method\n",
            "Length: 1 and Breadth: 1\n",
            "Length: 11 and Breadth: 1\n",
            "Length: 100 and Breadth: 200\n"
          ]
        }
      ]
    },
    {
      "cell_type": "markdown",
      "source": [
        "### Constructor Keyword Parameters"
      ],
      "metadata": {
        "id": "7A8R9TqI8dLh"
      }
    },
    {
      "cell_type": "code",
      "source": [
        "class Rectangle:\n",
        "  #parameterized construcgor\n",
        "  def __init__(self, length, breadth):\n",
        "    print(\"This is constructor method\")\n",
        "    self.length = length\n",
        "    self.breadth = breadth\n",
        "\n",
        "#constructor method is called once when object is created\n",
        "r1 = Rectangle(breadth = 15, length = 20)\n",
        "r2 = Rectangle(11, breadth = 22)\n",
        "r3 = Rectangle(length=100, breadth = 200)\n",
        "print(\"Length: {} and Breadth: {}\".format(r1.length, r1.breadth))\n",
        "print(\"Length: {} and Breadth: {}\".format(r2.length, r2.breadth))\n",
        "print(\"Length: {} and Breadth: {}\".format(r3.length, r3.breadth))"
      ],
      "metadata": {
        "colab": {
          "base_uri": "https://localhost:8080/"
        },
        "id": "UqzRpfFXxPZP",
        "outputId": "497e3f61-c31c-4dda-8bd5-74a166da786f"
      },
      "execution_count": 71,
      "outputs": [
        {
          "output_type": "stream",
          "name": "stdout",
          "text": [
            "This is constructor method\n",
            "This is constructor method\n",
            "This is constructor method\n",
            "Length: 20 and Breadth: 15\n",
            "Length: 11 and Breadth: 22\n",
            "Length: 100 and Breadth: 200\n"
          ]
        }
      ]
    },
    {
      "cell_type": "markdown",
      "source": [
        "## OOPS Exercises\n",
        "\n",
        "1. Write a Python program to create a Vehicle class with max_speed and mileage instance attributes.\n",
        "\n",
        "2. Create a Vehicle class without any variables and methods\n",
        "\n",
        "3. Create a child class Bus that will inherit all of the variables and methods of the Vehicle class.\n",
        "\n",
        "4. Define a property that must have the same value for every class instance (object)"
      ],
      "metadata": {
        "id": "S3y9XEedIKQD"
      }
    }
  ]
}