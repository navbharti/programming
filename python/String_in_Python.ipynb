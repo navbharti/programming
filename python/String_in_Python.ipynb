{
  "nbformat": 4,
  "nbformat_minor": 0,
  "metadata": {
    "colab": {
      "name": "String in Python.ipynb",
      "provenance": [],
      "authorship_tag": "ABX9TyOUVjbXJtPGzNFXBSDpcr5u",
      "include_colab_link": true
    },
    "kernelspec": {
      "name": "python3",
      "display_name": "Python 3"
    },
    "language_info": {
      "name": "python"
    }
  },
  "cells": [
    {
      "cell_type": "markdown",
      "metadata": {
        "id": "view-in-github",
        "colab_type": "text"
      },
      "source": [
        "<a href=\"https://colab.research.google.com/github/navbharti/programming/blob/master/python/String_in_Python.ipynb\" target=\"_parent\"><img src=\"https://colab.research.google.com/assets/colab-badge.svg\" alt=\"Open In Colab\"/></a>"
      ]
    },
    {
      "cell_type": "markdown",
      "source": [
        "# Introduction to String in Python"
      ],
      "metadata": {
        "id": "dKtYgpEZ-PJd"
      }
    },
    {
      "cell_type": "markdown",
      "source": [
        "## What is String in Python"
      ],
      "metadata": {
        "id": "2EGu6msoFwUi"
      }
    },
    {
      "cell_type": "markdown",
      "source": [
        "String is a `collection` of `alphabets`, `words` or `other characters`.<br>\n",
        "It is a `primitive data structures` and are the building blocks for data manipulation. <br>\n",
        "Python has a `built-in string class` named `str`. <br>\n",
        "Python strings are `immutable` which means they cannot be changed after they are created.<br>\n",
        "\n",
        "Textual data is handled in Python using the `str` object.<br>\n",
        "\n",
        "`immutable sequences of unicode`. <br>`Unicode` is a system designed to represent all characters from languages. \n",
        "<br>In unicode, each letter, character is represented as a `4-byte number`. Each number represents a unique character.\n",
        "\n",
        "String is wrapped it within quotes:\n",
        "* Single quotes\n",
        "* Example: `'Single quote allow \"double\".'`\n",
        "* Double quotes\n",
        "* Example: `\"Double quote allow  'single' .\"`\n",
        "* Triple quotes: multiple line strings\n",
        "* Example1 : `\"\"\"Triple \n",
        "quotes allows to embed \n",
        "\"double quotes\" as well \n",
        "as 'single quotes' in your string. \n",
        "And can also span across\n",
        " multiple lines.\"\"\"`\n",
        "\n",
        " Example2 : `'''Triple \n",
        "quotes allows to embed \n",
        "\"double quotes\" as well \n",
        "as 'single quotes' in your string. \n",
        "And can also span across\n",
        " multiple lines.'''`\n",
        "\n",
        "### Encoding and Decoding: For example ASCII and Unicode:\n",
        "Process fo converting character to binary representation of string is Encoding, and the process of converting a binary representation of string back to character representation."
      ],
      "metadata": {
        "id": "7323aOKC-gMG"
      }
    },
    {
      "cell_type": "markdown",
      "source": [
        "* Generally each character takes 1 Byte of memory to store in ASCII form.\n",
        "* ASCII form of encoding is not enough to represent all the character from different languages througout the world.\n",
        "* New encoding is introduced whicha is used to represent all the symbols of all the langauge so far. This is called Unicode character.\n",
        "* ‘e’, but no ‘é’ or ‘Í’\n",
        "\n",
        "* ‘naïve’ and ‘café’\n",
        "\n",
        "* ‘coöperate’\n",
        "\n",
        "* messages should contain accents (completé, caractère, accepté)\n",
        "\n",
        "* Unicode started out using 16-bit characters instead of 8-bit characters. 16 bits means you have 2^16 = 65,536 distinct values available, making it possible to represent many different characters from many different alphabets;"
      ],
      "metadata": {
        "id": "YDmzDmCNIBYJ"
      }
    },
    {
      "cell_type": "code",
      "source": [
        "s1 = \"klu\"\n",
        "print(s1)\n",
        "print(type(s1))\n",
        "#s1[2] = 'l'"
      ],
      "metadata": {
        "colab": {
          "base_uri": "https://localhost:8080/"
        },
        "id": "YomhPC2hHu4F",
        "outputId": "a9b1e8d3-6442-44cb-a383-ea2d1adfc1ab"
      },
      "execution_count": 47,
      "outputs": [
        {
          "output_type": "stream",
          "name": "stdout",
          "text": [
            "klu\n",
            "<class 'str'>\n"
          ]
        }
      ]
    },
    {
      "cell_type": "markdown",
      "source": [
        "## Creating string in Python"
      ],
      "metadata": {
        "id": "iZK6A8wMK9cK"
      }
    },
    {
      "cell_type": "code",
      "source": [
        "single_quote = 'Single quote allow \"double\".'\n",
        "double_quote = \"Double quote allow  'single' .\"\n",
        "triple_quote = \"\"\"Triple \n",
        "quotes allows to embed \n",
        "\"double quotes\" as well \n",
        "as 'single quotes' in your string. \n",
        "And can also span across\n",
        " multiple lines.\"\"\"\n",
        "\n",
        "print(\"str1: \", single_quote)\n",
        "print(\"str2: \", double_quote)\n",
        "print(\"str3: \", triple_quote)"
      ],
      "metadata": {
        "colab": {
          "base_uri": "https://localhost:8080/"
        },
        "id": "0jhcLzVf_8zR",
        "outputId": "f5c98bd0-bb3a-4c3f-9b9b-1dd3227977c5"
      },
      "execution_count": 48,
      "outputs": [
        {
          "output_type": "stream",
          "name": "stdout",
          "text": [
            "str1:  Single quote allow \"double\".\n",
            "str2:  Double quote allow  'single' .\n",
            "str3:  Triple \n",
            "quotes allows to embed \n",
            "\"double quotes\" as well \n",
            "as 'single quotes' in your string. \n",
            "And can also span across\n",
            " multiple lines.\n"
          ]
        }
      ]
    },
    {
      "cell_type": "markdown",
      "source": [
        "Since string is immutalbe, trying to change a string will give Error."
      ],
      "metadata": {
        "id": "cljDeWbBARs2"
      }
    },
    {
      "cell_type": "code",
      "source": [
        "triple_quote = '''This is triple quoted string using \"single\" quotes.'''\n",
        "triple_quote[35] = \"'\"\n",
        "#gives TypeError"
      ],
      "metadata": {
        "id": "ZfUWVQFBAXZm",
        "colab": {
          "base_uri": "https://localhost:8080/",
          "height": 201
        },
        "outputId": "b64b7653-0ac3-4817-f374-da5e87fd5707"
      },
      "execution_count": 49,
      "outputs": [
        {
          "output_type": "error",
          "ename": "TypeError",
          "evalue": "ignored",
          "traceback": [
            "\u001b[0;31m---------------------------------------------------------------------------\u001b[0m",
            "\u001b[0;31mTypeError\u001b[0m                                 Traceback (most recent call last)",
            "\u001b[0;32m<ipython-input-49-20632e256df5>\u001b[0m in \u001b[0;36m<module>\u001b[0;34m()\u001b[0m\n\u001b[1;32m      1\u001b[0m \u001b[0mtriple_quote\u001b[0m \u001b[0;34m=\u001b[0m \u001b[0;34m'''This is triple quoted string using \"single\" quotes.'''\u001b[0m\u001b[0;34m\u001b[0m\u001b[0;34m\u001b[0m\u001b[0m\n\u001b[0;32m----> 2\u001b[0;31m \u001b[0mtriple_quote\u001b[0m\u001b[0;34m[\u001b[0m\u001b[0;36m35\u001b[0m\u001b[0;34m]\u001b[0m \u001b[0;34m=\u001b[0m \u001b[0;34m\"'\"\u001b[0m\u001b[0;34m\u001b[0m\u001b[0;34m\u001b[0m\u001b[0m\n\u001b[0m\u001b[1;32m      3\u001b[0m \u001b[0;31m#gives TypeError\u001b[0m\u001b[0;34m\u001b[0m\u001b[0;34m\u001b[0m\u001b[0;34m\u001b[0m\u001b[0m\n",
            "\u001b[0;31mTypeError\u001b[0m: 'str' object does not support item assignment"
          ]
        }
      ]
    },
    {
      "cell_type": "markdown",
      "source": [
        "## Access characters in a string using index"
      ],
      "metadata": {
        "id": "qLbn7f1BLGH_"
      }
    },
    {
      "cell_type": "code",
      "source": [
        "s1 = \"Welcome to KL University\"\n",
        "print(s1[8])\n",
        "\n"
      ],
      "metadata": {
        "colab": {
          "base_uri": "https://localhost:8080/"
        },
        "id": "zDBx9XH0Ja_s",
        "outputId": "61cf8b13-e6b2-4a18-a9e2-5fb17d163a18"
      },
      "execution_count": 50,
      "outputs": [
        {
          "output_type": "stream",
          "name": "stdout",
          "text": [
            "t\n"
          ]
        }
      ]
    },
    {
      "cell_type": "markdown",
      "source": [
        "## String Slicing in Python using slicing\n",
        "### `[Start index (included): Stop index (excluded)]`"
      ],
      "metadata": {
        "id": "x6YzTfzjAzTA"
      }
    },
    {
      "cell_type": "code",
      "source": [
        "print(s1[11:13:1])\n",
        "s2 = s1[11:13:1]\n",
        "print(\"s2: \", s2)"
      ],
      "metadata": {
        "colab": {
          "base_uri": "https://localhost:8080/"
        },
        "id": "aOLIbfApeMW7",
        "outputId": "45849269-15c3-4925-b53d-79a6f97b3bd1"
      },
      "execution_count": 51,
      "outputs": [
        {
          "output_type": "stream",
          "name": "stdout",
          "text": [
            "KL\n",
            "s2:  KL\n"
          ]
        }
      ]
    },
    {
      "cell_type": "markdown",
      "source": [
        "#### Access string elements through for looping"
      ],
      "metadata": {
        "id": "s1_8mdWCvrDB"
      }
    },
    {
      "cell_type": "code",
      "source": [
        "s1 = \"Welcome to KL University\"\n",
        "for ch in s1:\n",
        "  print(ch)\n"
      ],
      "metadata": {
        "colab": {
          "base_uri": "https://localhost:8080/"
        },
        "id": "1D7Z_p0Yvp8A",
        "outputId": "cc3e5083-6956-4d06-e713-5aed388cb034"
      },
      "execution_count": 52,
      "outputs": [
        {
          "output_type": "stream",
          "name": "stdout",
          "text": [
            "W\n",
            "e\n",
            "l\n",
            "c\n",
            "o\n",
            "m\n",
            "e\n",
            " \n",
            "t\n",
            "o\n",
            " \n",
            "K\n",
            "L\n",
            " \n",
            "U\n",
            "n\n",
            "i\n",
            "v\n",
            "e\n",
            "r\n",
            "s\n",
            "i\n",
            "t\n",
            "y\n"
          ]
        }
      ]
    },
    {
      "cell_type": "markdown",
      "source": [
        "## Getting Length of a String using built-in len() method"
      ],
      "metadata": {
        "id": "8oAOXqMfAhPj"
      }
    },
    {
      "cell_type": "code",
      "source": [
        "length = len(triple_quote)\n",
        "print(\"Length of String: \", length)"
      ],
      "metadata": {
        "id": "zDFY1PYyApAh",
        "colab": {
          "base_uri": "https://localhost:8080/"
        },
        "outputId": "1ee09d12-de51-403a-86e8-c189ab0f06c5"
      },
      "execution_count": 53,
      "outputs": [
        {
          "output_type": "stream",
          "name": "stdout",
          "text": [
            "Length of String:  51\n"
          ]
        }
      ]
    },
    {
      "cell_type": "markdown",
      "source": [
        "## Change or delete a string?\n"
      ],
      "metadata": {
        "id": "OJtA0VlrLQGT"
      }
    },
    {
      "cell_type": "code",
      "source": [
        "print(s1)\n",
        "del s1\n",
        "print(s1)\n",
        "#Give NameError"
      ],
      "metadata": {
        "colab": {
          "base_uri": "https://localhost:8080/",
          "height": 236
        },
        "id": "-GesU_hIMcc7",
        "outputId": "d7f60656-4e5a-41ae-a0cd-94561afa2875"
      },
      "execution_count": 54,
      "outputs": [
        {
          "output_type": "stream",
          "name": "stdout",
          "text": [
            "Welcome to KL University\n"
          ]
        },
        {
          "output_type": "error",
          "ename": "NameError",
          "evalue": "ignored",
          "traceback": [
            "\u001b[0;31m---------------------------------------------------------------------------\u001b[0m",
            "\u001b[0;31mNameError\u001b[0m                                 Traceback (most recent call last)",
            "\u001b[0;32m<ipython-input-54-4bed416cdc6b>\u001b[0m in \u001b[0;36m<module>\u001b[0;34m()\u001b[0m\n\u001b[1;32m      1\u001b[0m \u001b[0mprint\u001b[0m\u001b[0;34m(\u001b[0m\u001b[0ms1\u001b[0m\u001b[0;34m)\u001b[0m\u001b[0;34m\u001b[0m\u001b[0;34m\u001b[0m\u001b[0m\n\u001b[1;32m      2\u001b[0m \u001b[0;32mdel\u001b[0m \u001b[0ms1\u001b[0m\u001b[0;34m\u001b[0m\u001b[0;34m\u001b[0m\u001b[0m\n\u001b[0;32m----> 3\u001b[0;31m \u001b[0mprint\u001b[0m\u001b[0;34m(\u001b[0m\u001b[0ms1\u001b[0m\u001b[0;34m)\u001b[0m\u001b[0;34m\u001b[0m\u001b[0;34m\u001b[0m\u001b[0m\n\u001b[0m\u001b[1;32m      4\u001b[0m \u001b[0;31m#Give NameError\u001b[0m\u001b[0;34m\u001b[0m\u001b[0;34m\u001b[0m\u001b[0;34m\u001b[0m\u001b[0m\n",
            "\u001b[0;31mNameError\u001b[0m: name 's1' is not defined"
          ]
        }
      ]
    },
    {
      "cell_type": "markdown",
      "source": [
        "### Concatenation of Two or More Strings\n"
      ],
      "metadata": {
        "id": "h2Hy4ByULY4E"
      }
    },
    {
      "cell_type": "code",
      "source": [
        "# Python String Operations\n",
        "str1 = 'Hello'\n",
        "str2 ='World!'\n",
        "\n",
        "# using +\n",
        "strconcat = str1 + str2\n",
        "print('concatenated = ', strconcat)\n",
        "\n",
        "# using *\n",
        "print('str1 * 3 =', str1 * 3)"
      ],
      "metadata": {
        "id": "hZJrHN-TLhx8",
        "colab": {
          "base_uri": "https://localhost:8080/"
        },
        "outputId": "0b2e8647-9d84-42ab-f371-4bf640818d2d"
      },
      "execution_count": 55,
      "outputs": [
        {
          "output_type": "stream",
          "name": "stdout",
          "text": [
            "concatenated =  HelloWorld!\n",
            "str1 * 3 = HelloHelloHello\n"
          ]
        }
      ]
    },
    {
      "cell_type": "markdown",
      "source": [
        "### Iterating Through a string\n"
      ],
      "metadata": {
        "id": "aMYJvBV1LlqX"
      }
    },
    {
      "cell_type": "code",
      "source": [
        "# Iterating through a string\n",
        "count = 0\n",
        "for letter in 'Hello World':\n",
        "    if(letter == 'l'):\n",
        "        count += 1\n",
        "print(count,'letters found')"
      ],
      "metadata": {
        "id": "sVq84NqgLoyM",
        "colab": {
          "base_uri": "https://localhost:8080/"
        },
        "outputId": "77098849-9f56-44de-96f4-8040419a551b"
      },
      "execution_count": 56,
      "outputs": [
        {
          "output_type": "stream",
          "name": "stdout",
          "text": [
            "3 letters found\n"
          ]
        }
      ]
    },
    {
      "cell_type": "markdown",
      "source": [
        "### String Membership Test\n"
      ],
      "metadata": {
        "id": "aBH7SG-ELrQA"
      }
    },
    {
      "cell_type": "code",
      "source": [
        "print('a' in 'program')\n",
        "\n",
        "print('at' not in 'battle')\n"
      ],
      "metadata": {
        "id": "xDvwKYiYLucJ",
        "colab": {
          "base_uri": "https://localhost:8080/"
        },
        "outputId": "e15d0f0e-8898-46f1-f527-06168a3e86da"
      },
      "execution_count": 57,
      "outputs": [
        {
          "output_type": "stream",
          "name": "stdout",
          "text": [
            "True\n",
            "False\n"
          ]
        }
      ]
    },
    {
      "cell_type": "markdown",
      "source": [
        "## Must Know String Functions\n",
        "\n",
        "<table class=\"tg\"><tbody><tr><th class=\"tg-s268\">Function</th><th class=\"tg-s268\">Description</th></tr><tr><td class=\"tg-md4w\"><a href=\"https://www.journaldev.com/23487/python-string-format\">format()</a></td><td class=\"tg-md4w\">It’s used to create a formatted string from the template string and the supplied values.</td></tr><tr><td class=\"tg-s268\"><a href=\"https://www.journaldev.com/23462/python-string-split\">split()</a></td><td class=\"tg-s268\">Python string split() function is used to split a string into the list of strings based on a delimiter.</td></tr><tr><td class=\"tg-md4w\"><a href=\"https://www.journaldev.com/23571/python-string-join\">join()</a></td><td class=\"tg-md4w\">This function returns a new string that is the concatenation of the strings in iterable with string object as a delimiter.</td></tr><tr><td class=\"tg-s268\"><a href=\"https://www.journaldev.com/23625/python-trim-string-rstrip-lstrip-strip\">strip()</a></td><td class=\"tg-s268\">Used to trim whitespaces from the string object.</td></tr><tr><td class=\"tg-md4w\"><a href=\"https://www.journaldev.com/24010/python-string-format_map\">format_map()</a></td><td class=\"tg-md4w\">Python string format_map() function returns a formatted version of the string using substitutions from the mapping provided.</td></tr><tr><td class=\"tg-s268\"><a href=\"https://www.journaldev.com/23427/python-string-to-uppercase-str-upper\">upper()</a></td><td class=\"tg-s268\">We can convert a string to uppercase in Python using str.upper() function.</td></tr><tr><td class=\"tg-md4w\"><a href=\"https://www.journaldev.com/23431/python-string-to-lowercase-str-lower\">lower()</a></td><td class=\"tg-md4w\">This function creates a new string in lowercase.</td></tr><tr><td class=\"tg-s268\"><a href=\"https://www.journaldev.com/23470/python-string-replace\">replace()</a></td><td class=\"tg-s268\">Python string replace() function is used to create a new string by replacing some parts of another string.</td></tr><tr><td class=\"tg-md4w\"><a href=\"https://www.journaldev.com/23666/python-string-find\">find()</a></td><td class=\"tg-md4w\">Python String find() method is used to find the index of a substring in a string.</td></tr><tr><td class=\"tg-s268\"><a href=\"https://www.journaldev.com/23697/python-string-translate\">translate()</a></td><td class=\"tg-s268\">Python String translate() function returns a new string with each character in the string replaced using the given translation table.</td></tr></tbody></table>"
      ],
      "metadata": {
        "id": "d0iHva1oD70z"
      }
    },
    {
      "cell_type": "markdown",
      "source": [
        "### String Formatting\n",
        "Python supports multiple ways to format a string.\n",
        "\n",
        "`% Formatting`: `interpolation operator`, provide % followed by the datatype that needs to be formatted or converted. The % operation then substitutes the '%datatype' phrase with zero or more elements of the specified data type:\n",
        "\n",
        "\n",
        "* The formatter class\n",
        "* Template Strings\n",
        "* Formatted String Literal (f-string)\n",
        "\n",
        "#### `template.format(p0, p1, ..., k0=v0, k1=v1, ...)`"
      ],
      "metadata": {
        "id": "braloMHlChok"
      }
    },
    {
      "cell_type": "markdown",
      "source": [
        "#### For keyword arguments\n",
        "#### Basic formatting for default, positional and keyword arguments"
      ],
      "metadata": {
        "id": "bWtNOV_afTno"
      }
    },
    {
      "cell_type": "code",
      "source": [
        "# default arguments\n",
        "print(\"Hello {}, your balance is {}.\".format(\"Adam\", 230.2346))\n",
        "\n",
        "# positional arguments\n",
        "print(\"Hello {0}, your balance is {1}.\".format(\"Adam\", 230.2346))\n",
        "\n",
        "# keyword arguments\n",
        "print(\"Hello {name}, your balance is {blc}.\".format(name=\"Adam\", blc=230.2346))\n",
        "\n",
        "# mixed arguments\n",
        "print(\"Hello {0}, your balance is {blc}.\".format(\"Adam\", blc=230.2346))"
      ],
      "metadata": {
        "id": "8q6znw8Ufhrk",
        "colab": {
          "base_uri": "https://localhost:8080/"
        },
        "outputId": "018d6f0b-9dd4-4612-83bf-73392eed9258"
      },
      "execution_count": 58,
      "outputs": [
        {
          "output_type": "stream",
          "name": "stdout",
          "text": [
            "Hello Adam, your balance is 230.2346.\n",
            "Hello Adam, your balance is 230.2346.\n",
            "Hello Adam, your balance is 230.2346.\n",
            "Hello Adam, your balance is 230.2346.\n"
          ]
        }
      ]
    },
    {
      "cell_type": "markdown",
      "source": [
        "<div class=\"table-responsive\"><table summary=\"Number Formatting Types\" border=\"0\"><caption>Number Formatting Types</caption>\n",
        "\t<thead><tr><th scope=\"col\">Type</th>\n",
        "\t\t\t<th scope=\"col\">Meaning</th>\n",
        "\t\t</tr></thead><tbody><tr><td>d</td>\n",
        "\t\t\t<td>Decimal integer</td>\n",
        "\t\t</tr><tr><td>c</td>\n",
        "\t\t\t<td>Corresponding Unicode character</td>\n",
        "\t\t</tr><tr><td>b</td>\n",
        "\t\t\t<td>Binary format</td>\n",
        "\t\t</tr><tr><td>o</td>\n",
        "\t\t\t<td>Octal format</td>\n",
        "\t\t</tr><tr><td>x</td>\n",
        "\t\t\t<td>Hexadecimal format (lower case)</td>\n",
        "\t\t</tr><tr><td>X</td>\n",
        "\t\t\t<td>Hexadecimal format (upper case)</td>\n",
        "\t\t</tr><tr><td>n</td>\n",
        "\t\t\t<td>Same as 'd'. Except it uses current locale setting for number separator</td>\n",
        "\t\t</tr><tr><td>e</td>\n",
        "\t\t\t<td>Exponential notation. (lowercase e)</td>\n",
        "\t\t</tr><tr><td>E</td>\n",
        "\t\t\t<td>Exponential notation (uppercase E)</td>\n",
        "\t\t</tr><tr><td>f</td>\n",
        "\t\t\t<td>Displays fixed point number (Default: 6)</td>\n",
        "\t\t</tr><tr><td>F</td>\n",
        "\t\t\t<td>Same as 'f'. Except displays 'inf' as 'INF' and 'nan' as 'NAN'</td>\n",
        "\t\t</tr><tr><td>g</td>\n",
        "\t\t\t<td>General format. Rounds number to p significant digits. (Default precision: 6)</td>\n",
        "\t\t</tr><tr><td>G</td>\n",
        "\t\t\t<td>Same as 'g'. Except switches to 'E' if the number is large.</td>\n",
        "\t\t</tr><tr><td>%</td>\n",
        "\t\t\t<td>Percentage. Multiples by 100 and puts % at the end.</td>\n",
        "\t\t</tr></tbody></table></div>"
      ],
      "metadata": {
        "id": "7AMaehATfpuJ"
      }
    },
    {
      "cell_type": "markdown",
      "source": [
        "#### Simple number formatting"
      ],
      "metadata": {
        "id": "j6b98OJAf05H"
      }
    },
    {
      "cell_type": "code",
      "source": [
        "# integer arguments\n",
        "print(\"The number is:{:d}\".format(123))\n",
        "\n",
        "# float arguments\n",
        "print(\"The float number is:{:f}\".format(123.4567898))\n",
        "\n",
        "# octal, binary and hexadecimal format\n",
        "print(\"bin: {0:b}, oct: {0:o}, hex: {0:x}\".format(12))"
      ],
      "metadata": {
        "id": "253mYMvRf4fc",
        "colab": {
          "base_uri": "https://localhost:8080/"
        },
        "outputId": "b253ab59-b585-4c86-cf10-25d62b98b38f"
      },
      "execution_count": 59,
      "outputs": [
        {
          "output_type": "stream",
          "name": "stdout",
          "text": [
            "The number is:123\n",
            "The float number is:123.456790\n",
            "bin: 1100, oct: 14, hex: c\n"
          ]
        }
      ]
    },
    {
      "cell_type": "markdown",
      "source": [
        "####  Number formatting with padding for int and floats"
      ],
      "metadata": {
        "id": "LVSyH-p3f7o7"
      }
    },
    {
      "cell_type": "code",
      "source": [
        "# integer numbers with minimum width\n",
        "print(\"{:5d}\".format(12))\n",
        "\n",
        "# width doesn't work for numbers longer than padding\n",
        "print(\"{:2d}\".format(1234))\n",
        "\n",
        "# padding for float numbers\n",
        "print(\"{:8.3f}\".format(12.2346))\n",
        "\n",
        "# integer numbers with minimum width filled with zeros\n",
        "print(\"{:05d}\".format(12))\n",
        "\n",
        "# padding for float numbers filled with zeros\n",
        "print(\"{:08.3f}\".format(12.2346))"
      ],
      "metadata": {
        "id": "Pe1FxOc_f-6A",
        "colab": {
          "base_uri": "https://localhost:8080/"
        },
        "outputId": "cc5bb06e-9c62-4406-deba-46300665c6b2"
      },
      "execution_count": 60,
      "outputs": [
        {
          "output_type": "stream",
          "name": "stdout",
          "text": [
            "   12\n",
            "1234\n",
            "  12.235\n",
            "00012\n",
            "0012.235\n"
          ]
        }
      ]
    },
    {
      "cell_type": "markdown",
      "source": [
        "#### Number formatting for signed numbers"
      ],
      "metadata": {
        "id": "b9etw533gCxu"
      }
    },
    {
      "cell_type": "code",
      "source": [
        "# show the + sign\n",
        "print(\"{:+f} {:+f}\".format(12.23, -12.23))\n",
        "\n",
        "# show the - sign only\n",
        "print(\"{:-f} {:-f}\".format(12.23, -12.23))\n",
        "\n",
        "# show space for + sign\n",
        "print(\"{: f} {: f}\".format(12.23, -12.23))"
      ],
      "metadata": {
        "id": "4sqdJwWRgHZ7",
        "colab": {
          "base_uri": "https://localhost:8080/"
        },
        "outputId": "12483add-8453-445b-f196-6e667cb2490c"
      },
      "execution_count": 61,
      "outputs": [
        {
          "output_type": "stream",
          "name": "stdout",
          "text": [
            "+12.230000 -12.230000\n",
            "12.230000 -12.230000\n",
            " 12.230000 -12.230000\n"
          ]
        }
      ]
    },
    {
      "cell_type": "markdown",
      "source": [
        "#### Number formatting with alignment"
      ],
      "metadata": {
        "id": "XiL3Y-6GgLKS"
      }
    },
    {
      "cell_type": "markdown",
      "source": [
        "<div class=\"table-responsive\"><table summary=\"Number formatting with alignment\" border=\"0\"><caption>Number formatting with alignment</caption>\n",
        "\t<thead><tr><th scope=\"col\">Type</th>\n",
        "\t\t\t<th scope=\"col\">Meaning</th>\n",
        "\t\t</tr></thead><tbody><tr><td>&lt;</td>\n",
        "\t\t\t<td>Left aligned to the remaining space</td>\n",
        "\t\t</tr><tr><td>^</td>\n",
        "\t\t\t<td>Center aligned to the remaining space</td>\n",
        "\t\t</tr><tr><td>&gt;</td>\n",
        "\t\t\t<td>Right aligned to the remaining space</td>\n",
        "\t\t</tr><tr><td>=</td>\n",
        "\t\t\t<td>Forces the signed (+) (-) to the leftmost position</td>\n",
        "\t\t</tr></tbody></table></div>"
      ],
      "metadata": {
        "id": "mlNMnqx5gNAl"
      }
    },
    {
      "cell_type": "markdown",
      "source": [
        "#### Number formatting with left, right and center alignment"
      ],
      "metadata": {
        "id": "KqNgXQ4sgXgb"
      }
    },
    {
      "cell_type": "code",
      "source": [
        "# integer numbers with right alignment\n",
        "print(\"{:5d}\".format(12))\n",
        "\n",
        "# float numbers with center alignment\n",
        "print(\"{:^10.3f}\".format(12.2346))\n",
        "\n",
        "# integer left alignment filled with zeros\n",
        "print(\"{:<05d}\".format(12))\n",
        "\n",
        "# float numbers with center alignment\n",
        "print(\"{:=8.3f}\".format(-12.2346))"
      ],
      "metadata": {
        "id": "9QQEhoqKgcoo",
        "colab": {
          "base_uri": "https://localhost:8080/"
        },
        "outputId": "40515ba5-6e0a-4de5-80cc-db87a58266ae"
      },
      "execution_count": 62,
      "outputs": [
        {
          "output_type": "stream",
          "name": "stdout",
          "text": [
            "   12\n",
            "  12.235  \n",
            "12000\n",
            "- 12.235\n"
          ]
        }
      ]
    },
    {
      "cell_type": "markdown",
      "source": [
        "#### String formatting with padding and alignment"
      ],
      "metadata": {
        "id": "6ftmz_-ZghI4"
      }
    },
    {
      "cell_type": "code",
      "source": [
        "# string padding with left alignment\n",
        "print(\"{:5}\".format(\"cat\"))\n",
        "\n",
        "# string padding with right alignment\n",
        "print(\"{:>5}\".format(\"cat\"))\n",
        "\n",
        "# string padding with center alignment\n",
        "print(\"{:^5}\".format(\"cat\"))\n",
        "\n",
        "# string padding with center alignment\n",
        "# and '*' padding character\n",
        "print(\"{:*^5}\".format(\"cat\"))"
      ],
      "metadata": {
        "id": "nOWRASJWgjvd",
        "colab": {
          "base_uri": "https://localhost:8080/"
        },
        "outputId": "464fd8b4-e41d-49f1-8a51-027a8e6c208d"
      },
      "execution_count": 63,
      "outputs": [
        {
          "output_type": "stream",
          "name": "stdout",
          "text": [
            "cat  \n",
            "  cat\n",
            " cat \n",
            "*cat*\n"
          ]
        }
      ]
    },
    {
      "cell_type": "markdown",
      "source": [
        "#### Truncating strings with format()"
      ],
      "metadata": {
        "id": "T_WSPRJBgmtG"
      }
    },
    {
      "cell_type": "code",
      "source": [
        "# truncating strings to 3 letters\n",
        "print(\"{:.3}\".format(\"caterpillar\"))\n",
        "\n",
        "# truncating strings to 3 letters\n",
        "# and padding\n",
        "print(\"{:5.3}\".format(\"caterpillar\"))\n",
        "\n",
        "# truncating strings to 3 letters,\n",
        "# padding and center alignment\n",
        "print(\"{:^5.3}\".format(\"caterpillar\"))"
      ],
      "metadata": {
        "id": "DJaH_1amgqNE",
        "colab": {
          "base_uri": "https://localhost:8080/"
        },
        "outputId": "172cbd03-fba2-40c5-d17a-9df9f557b458"
      },
      "execution_count": 64,
      "outputs": [
        {
          "output_type": "stream",
          "name": "stdout",
          "text": [
            "cat\n",
            "cat  \n",
            " cat \n"
          ]
        }
      ]
    },
    {
      "cell_type": "markdown",
      "source": [
        "#### Formatting dictionary members using format()"
      ],
      "metadata": {
        "id": "kyJ8v7h8gvBK"
      }
    },
    {
      "cell_type": "code",
      "source": [
        "# define Person dictionary\n",
        "person = {'age': 23, 'name': 'Adam'}\n",
        "\n",
        "# format age\n",
        "print(\"{p[name]}'s age is: {p[age]}\".format(p=person))"
      ],
      "metadata": {
        "id": "tZ_EZjuOgyJ9",
        "colab": {
          "base_uri": "https://localhost:8080/"
        },
        "outputId": "22d511f7-6f77-44ec-c4b0-0322fa454833"
      },
      "execution_count": 65,
      "outputs": [
        {
          "output_type": "stream",
          "name": "stdout",
          "text": [
            "Adam's age is: 23\n"
          ]
        }
      ]
    },
    {
      "cell_type": "code",
      "source": [
        "# define Person dictionary\n",
        "person = {'age': 23, 'name': 'Adam'}\n",
        "\n",
        "# format age\n",
        "print(\"{name}'s age is: {age}\".format(**person))"
      ],
      "metadata": {
        "id": "IQQVpbcPg4nS",
        "colab": {
          "base_uri": "https://localhost:8080/"
        },
        "outputId": "be9eda97-13c5-4661-ff39-e80297ef0790"
      },
      "execution_count": 66,
      "outputs": [
        {
          "output_type": "stream",
          "name": "stdout",
          "text": [
            "Adam's age is: 23\n"
          ]
        }
      ]
    },
    {
      "cell_type": "markdown",
      "source": [
        "#### Dynamic formatting using format()"
      ],
      "metadata": {
        "id": "f04c7igmg9we"
      }
    },
    {
      "cell_type": "code",
      "source": [
        "# dynamic string format template\n",
        "string = \"{:{fill}{align}{width}}\"\n",
        "\n",
        "# passing format codes as arguments\n",
        "print(string.format('cat', fill='*', align='^', width=5))\n",
        "\n",
        "# dynamic float format template\n",
        "num = \"{:{align}{width}.{precision}f}\"\n",
        "\n",
        "# passing format codes as arguments\n",
        "print(num.format(123.236, align='<', width=8, precision=2))"
      ],
      "metadata": {
        "id": "ewKQIrWOhAm6",
        "colab": {
          "base_uri": "https://localhost:8080/"
        },
        "outputId": "8be4adba-bdf5-40c0-86f5-a8dcc97ea66f"
      },
      "execution_count": 67,
      "outputs": [
        {
          "output_type": "stream",
          "name": "stdout",
          "text": [
            "*cat*\n",
            "123.24  \n"
          ]
        }
      ]
    },
    {
      "cell_type": "code",
      "source": [
        "print(\"I bought %d Euro worth of %s!\" %(200, 'cookies'))\n"
      ],
      "metadata": {
        "id": "iXmeZw8oDQS6",
        "colab": {
          "base_uri": "https://localhost:8080/"
        },
        "outputId": "f704b946-36cd-4e3c-ac4f-0901845544ed"
      },
      "execution_count": 68,
      "outputs": [
        {
          "output_type": "stream",
          "name": "stdout",
          "text": [
            "I bought 200 Euro worth of cookies!\n"
          ]
        }
      ]
    },
    {
      "cell_type": "code",
      "source": [
        "print(\"I bought {0} Euro worth of {1}!\".format(200,'cookies')) #Accessing values by position"
      ],
      "metadata": {
        "id": "X3uwqWpkDYo_",
        "colab": {
          "base_uri": "https://localhost:8080/"
        },
        "outputId": "bf334d98-3e42-4b4b-916e-b3497d4b13ac"
      },
      "execution_count": 69,
      "outputs": [
        {
          "output_type": "stream",
          "name": "stdout",
          "text": [
            "I bought 200 Euro worth of cookies!\n"
          ]
        }
      ]
    },
    {
      "cell_type": "code",
      "source": [
        "print(\"I bought {total} Euro worth of {item}!\".format(total = 200, item = 'cookies')) #Accessing values by name\n"
      ],
      "metadata": {
        "id": "q1WMDYJtDbXk",
        "colab": {
          "base_uri": "https://localhost:8080/"
        },
        "outputId": "71399235-0115-4c50-e319-fc21e6ff3db0"
      },
      "execution_count": 70,
      "outputs": [
        {
          "output_type": "stream",
          "name": "stdout",
          "text": [
            "I bought 200 Euro worth of cookies!\n"
          ]
        }
      ]
    },
    {
      "cell_type": "code",
      "source": [
        "'{:#<10}'.format('Cake') #Left aligment for word 'Cake' according to right alignment, gaps filled with '#'\n"
      ],
      "metadata": {
        "id": "c1C-QLnHDdmB",
        "colab": {
          "base_uri": "https://localhost:8080/",
          "height": 35
        },
        "outputId": "6ccf19fd-a2f0-40a1-dfe9-d1545d75c5b2"
      },
      "execution_count": 71,
      "outputs": [
        {
          "output_type": "execute_result",
          "data": {
            "application/vnd.google.colaboratory.intrinsic+json": {
              "type": "string"
            },
            "text/plain": [
              "'Cake######'"
            ]
          },
          "metadata": {},
          "execution_count": 71
        }
      ]
    },
    {
      "cell_type": "code",
      "source": [
        "'{:#^10}'.format('Cake') #Centre aligment for word 'Cake' according to right alignment, gaps filled with '#'\n"
      ],
      "metadata": {
        "id": "nEUwLRjDDfb9",
        "colab": {
          "base_uri": "https://localhost:8080/",
          "height": 35
        },
        "outputId": "aa1141b8-a18a-4f61-b754-9fa79662ab71"
      },
      "execution_count": 72,
      "outputs": [
        {
          "output_type": "execute_result",
          "data": {
            "application/vnd.google.colaboratory.intrinsic+json": {
              "type": "string"
            },
            "text/plain": [
              "'###Cake###'"
            ]
          },
          "metadata": {},
          "execution_count": 72
        }
      ]
    },
    {
      "cell_type": "code",
      "source": [
        "'{:#>10}'.format('Cake') #Right aligment for word 'Cake' according to right alignment, gaps filled with '#'\n"
      ],
      "metadata": {
        "id": "YyFKmXX8DhhT",
        "colab": {
          "base_uri": "https://localhost:8080/",
          "height": 35
        },
        "outputId": "ccfa2969-31b1-4f6d-a47e-91ce44821e63"
      },
      "execution_count": 73,
      "outputs": [
        {
          "output_type": "execute_result",
          "data": {
            "application/vnd.google.colaboratory.intrinsic+json": {
              "type": "string"
            },
            "text/plain": [
              "'######Cake'"
            ]
          },
          "metadata": {},
          "execution_count": 73
        }
      ]
    },
    {
      "cell_type": "code",
      "source": [
        "for num in range(1,10): \n",
        "        print('{0:{width}}'.format(num, width=5), end=' ')"
      ],
      "metadata": {
        "id": "r1SBO9nvDj1A",
        "colab": {
          "base_uri": "https://localhost:8080/"
        },
        "outputId": "256d4be3-c400-4825-abf0-1670c610ae65"
      },
      "execution_count": 74,
      "outputs": [
        {
          "output_type": "stream",
          "name": "stdout",
          "text": [
            "    1     2     3     4     5     6     7     8     9 "
          ]
        }
      ]
    },
    {
      "cell_type": "code",
      "source": [
        "from string import Template #First you will need to import 'Tempalte' class\n",
        "\n",
        "money = dict(who = 'You', to_whom = 'baker')\n",
        "Template('$who owe the $to_whom a total of $$100').substitute(money)"
      ],
      "metadata": {
        "id": "a-GyxWyBDnk5",
        "colab": {
          "base_uri": "https://localhost:8080/",
          "height": 35
        },
        "outputId": "baf5d9cb-6d49-46bd-f436-02b5c4e1da9b"
      },
      "execution_count": 75,
      "outputs": [
        {
          "output_type": "execute_result",
          "data": {
            "application/vnd.google.colaboratory.intrinsic+json": {
              "type": "string"
            },
            "text/plain": [
              "'You owe the baker a total of $100'"
            ]
          },
          "metadata": {},
          "execution_count": 75
        }
      ]
    },
    {
      "cell_type": "code",
      "source": [
        "word = dict(noun = 'feed')\n",
        "Template('Please don\\'t stop ${noun}ing me').substitute(word)"
      ],
      "metadata": {
        "id": "5ddIehH0Drea",
        "colab": {
          "base_uri": "https://localhost:8080/",
          "height": 35
        },
        "outputId": "46473af7-0531-4bad-83c7-32a1c34558a2"
      },
      "execution_count": 76,
      "outputs": [
        {
          "output_type": "execute_result",
          "data": {
            "application/vnd.google.colaboratory.intrinsic+json": {
              "type": "string"
            },
            "text/plain": [
              "\"Please don't stop feeding me\""
            ]
          },
          "metadata": {},
          "execution_count": 76
        }
      ]
    },
    {
      "cell_type": "code",
      "source": [
        "fact = Template('$alter_ego is weak but wait till he transforms to $superhero!')\n",
        "fact.substitute(alter_ego='Bruce Banner', superhero='Hulk')"
      ],
      "metadata": {
        "id": "I6K_6T62Dtvt",
        "colab": {
          "base_uri": "https://localhost:8080/",
          "height": 35
        },
        "outputId": "53f96432-49df-4549-eced-baf3159e1600"
      },
      "execution_count": 77,
      "outputs": [
        {
          "output_type": "execute_result",
          "data": {
            "application/vnd.google.colaboratory.intrinsic+json": {
              "type": "string"
            },
            "text/plain": [
              "'Bruce Banner is weak but wait till he transforms to Hulk!'"
            ]
          },
          "metadata": {},
          "execution_count": 77
        }
      ]
    },
    {
      "cell_type": "markdown",
      "source": [
        "### `str.format_map(mapping)`\n",
        "\n",
        "similar to str.format(**mapping) except that str.format(**mapping) creates a new dictionary whereas str.format_map(mapping) doesn't."
      ],
      "metadata": {
        "id": "SYjhNBHKemQp"
      }
    },
    {
      "cell_type": "code",
      "source": [
        "point = {'x':4,'y':-5}\n",
        "print('{x} {y}'.format(**point))"
      ],
      "metadata": {
        "colab": {
          "base_uri": "https://localhost:8080/"
        },
        "id": "b0DJrDQVeuGi",
        "outputId": "2e49add1-107f-4ced-e2dc-d833003e72a2"
      },
      "execution_count": 84,
      "outputs": [
        {
          "output_type": "stream",
          "name": "stdout",
          "text": [
            "4 -5\n"
          ]
        }
      ]
    },
    {
      "cell_type": "code",
      "source": [
        "point = {'x':4,'y':-5}\n",
        "print('{x} {y}'.format_map(point))\n",
        "\n",
        "point = {'x':4,'y':-5, 'z': 0}\n",
        "print('{x} {y} {z}'.format_map(point))"
      ],
      "metadata": {
        "colab": {
          "base_uri": "https://localhost:8080/"
        },
        "id": "b_GzWwczezbH",
        "outputId": "cfc5e380-9d08-4aff-a702-ba8f7a69a3a7"
      },
      "execution_count": 85,
      "outputs": [
        {
          "output_type": "stream",
          "name": "stdout",
          "text": [
            "4 -5\n",
            "4 -5 0\n"
          ]
        }
      ]
    },
    {
      "cell_type": "markdown",
      "source": [
        "### Syntax: `str.split(separator, maxsplit)`\n",
        "returns a list of strings.\n",
        "\n",
        "#### Example"
      ],
      "metadata": {
        "id": "2SOIeNaJTEIC"
      }
    },
    {
      "cell_type": "code",
      "source": [
        "text = 'Python is a fun programming language'\n",
        "\n",
        "# split the text from space\n",
        "print(text.split(' '))\n",
        "\n",
        "# Output: ['Python', 'is', 'a', 'fun', 'programming', 'language']"
      ],
      "metadata": {
        "colab": {
          "base_uri": "https://localhost:8080/"
        },
        "id": "e7zEybWiSkVg",
        "outputId": "0da520cc-86a9-44ed-8e15-3b674ac97474"
      },
      "execution_count": 86,
      "outputs": [
        {
          "output_type": "stream",
          "name": "stdout",
          "text": [
            "['Python', 'is', 'a', 'fun', 'programming', 'language']\n"
          ]
        }
      ]
    },
    {
      "cell_type": "markdown",
      "source": [
        "### split() without delimeter and with delimeter"
      ],
      "metadata": {
        "id": "FdVd-eYSTszm"
      }
    },
    {
      "cell_type": "code",
      "source": [
        "text= 'Love thy neighbor'\n",
        "\n",
        "# splits at space\n",
        "print(text.split())\n",
        "\n",
        "grocery = 'Milk, Chicken, Bread'\n",
        "\n",
        "# splits at ','\n",
        "print(grocery.split(', '))\n",
        "\n",
        "# Splits at ':'\n",
        "print(grocery.split(':'))"
      ],
      "metadata": {
        "colab": {
          "base_uri": "https://localhost:8080/"
        },
        "id": "2K97cue4TNI2",
        "outputId": "c85c82dd-b393-4c60-eae0-703210b04882"
      },
      "execution_count": 87,
      "outputs": [
        {
          "output_type": "stream",
          "name": "stdout",
          "text": [
            "['Love', 'thy', 'neighbor']\n",
            "['Milk', 'Chicken', 'Bread']\n",
            "['Milk, Chicken, Bread']\n"
          ]
        }
      ]
    },
    {
      "cell_type": "markdown",
      "source": [
        "### split() with maxsplit argument"
      ],
      "metadata": {
        "id": "g7d4wiyUT9km"
      }
    },
    {
      "cell_type": "code",
      "source": [
        "grocery = 'Milk, Chicken, Bread, Butter'\n",
        "\n",
        "# maxsplit: 2\n",
        "print(grocery.split(', ', 2))\n",
        "\n",
        "# maxsplit: 1\n",
        "print(grocery.split(', ', 1))\n",
        "\n",
        "# maxsplit: 5\n",
        "print(grocery.split(', ', 5))\n",
        "\n",
        "# maxsplit: 0\n",
        "print(grocery.split(', ', 0))"
      ],
      "metadata": {
        "colab": {
          "base_uri": "https://localhost:8080/"
        },
        "id": "CnGy-KxbTUBB",
        "outputId": "1706ec97-efbc-46d2-b543-5d8a73e39994"
      },
      "execution_count": 88,
      "outputs": [
        {
          "output_type": "stream",
          "name": "stdout",
          "text": [
            "['Milk', 'Chicken', 'Bread, Butter']\n",
            "['Milk', 'Chicken, Bread, Butter']\n",
            "['Milk', 'Chicken', 'Bread', 'Butter']\n",
            "['Milk, Chicken, Bread, Butter']\n"
          ]
        }
      ]
    },
    {
      "cell_type": "markdown",
      "source": [
        "### Syntax: `str.rsplit([separator [, maxsplit]])`\n",
        "\n",
        "splits string from the right at the specified separator and returns a list of strings.\n",
        "\n",
        "### rsplit() without delimeter and with delimeter"
      ],
      "metadata": {
        "id": "J9RSpdnOUKac"
      }
    },
    {
      "cell_type": "code",
      "source": [
        "text= 'Love thy neighbor'\n",
        "\n",
        "# splits at space\n",
        "print(text.rsplit())\n",
        "\n",
        "grocery = 'Milk, Chicken, Bread'\n",
        "\n",
        "# splits at ','\n",
        "print(grocery.rsplit(', '))\n",
        "\n",
        "# Splitting at ':'\n",
        "print(grocery.rsplit(':'))"
      ],
      "metadata": {
        "colab": {
          "base_uri": "https://localhost:8080/"
        },
        "id": "NhHahQs6UZBm",
        "outputId": "7aec754e-feb4-4e66-934e-419e3a192ff1"
      },
      "execution_count": 89,
      "outputs": [
        {
          "output_type": "stream",
          "name": "stdout",
          "text": [
            "['Love', 'thy', 'neighbor']\n",
            "['Milk', 'Chicken', 'Bread']\n",
            "['Milk, Chicken, Bread']\n"
          ]
        }
      ]
    },
    {
      "cell_type": "markdown",
      "source": [
        "### rsplit() with maxsplit argument"
      ],
      "metadata": {
        "id": "p5yA5o2TUon1"
      }
    },
    {
      "cell_type": "code",
      "source": [
        "grocery = 'Milk, Chicken, Bread, Butter'\n",
        "\n",
        "# maxsplit: 2\n",
        "print(grocery.rsplit(', ', 2))\n",
        "\n",
        "# maxsplit: 1\n",
        "print(grocery.rsplit(', ', 1))\n",
        "\n",
        "# maxsplit: 5\n",
        "print(grocery.rsplit(', ', 5))\n",
        "\n",
        "# maxsplit: 0\n",
        "print(grocery.rsplit(', ', 0))"
      ],
      "metadata": {
        "colab": {
          "base_uri": "https://localhost:8080/"
        },
        "id": "fWAXMEuRUeDz",
        "outputId": "a76700a6-069c-40c2-8f2c-a5f2697291f9"
      },
      "execution_count": 90,
      "outputs": [
        {
          "output_type": "stream",
          "name": "stdout",
          "text": [
            "['Milk, Chicken', 'Bread', 'Butter']\n",
            "['Milk, Chicken, Bread', 'Butter']\n",
            "['Milk', 'Chicken', 'Bread', 'Butter']\n",
            "['Milk, Chicken, Bread, Butter']\n"
          ]
        }
      ]
    },
    {
      "cell_type": "markdown",
      "source": [
        "### Syntax: `str.splitlines([keepends])`\n",
        "\n",
        "splits the string at line breaks and returns a list of lines in the string.\n",
        "\n",
        "Note: the splitlines() takes the following as seperators:\n",
        "\n",
        "<table border=\"0\"><thead><tr><th><strong>Representation</strong></th>\n",
        "\t\t\t<th><strong>Description</strong></th>\n",
        "\t\t</tr></thead><tbody valign=\"top\"><tr><td><strong>\\n</strong></td>\n",
        "\t\t\t<td>Line Feed</td>\n",
        "\t\t</tr><tr><td><strong>\\r</strong></td>\n",
        "\t\t\t<td>Carriage Return</td>\n",
        "\t\t</tr><tr><td><strong>\\r\\n</strong></td>\n",
        "\t\t\t<td>Carriage Return + Line Feed</td>\n",
        "\t\t</tr><tr><td><strong>\\v</strong>&nbsp;or <strong>\\x0b</strong></td>\n",
        "\t\t\t<td>Line Tabulation</td>\n",
        "\t\t</tr><tr><td><strong>\\f</strong>&nbsp;or <strong>\\x0c</strong></td>\n",
        "\t\t\t<td>Form Feed</td>\n",
        "\t\t</tr><tr><td><strong>\\x1c</strong></td>\n",
        "\t\t\t<td>File Separator</td>\n",
        "\t\t</tr><tr><td><strong>\\x1d</strong></td>\n",
        "\t\t\t<td>Group Separator</td>\n",
        "\t\t</tr><tr><td><strong>\\x1e</strong></td>\n",
        "\t\t\t<td>Record Separator</td>\n",
        "\t\t</tr><tr><td><strong>\\x85</strong></td>\n",
        "\t\t\t<td>Next Line (C1 Control Code)</td>\n",
        "\t\t</tr><tr><td><strong>\\u2028</strong></td>\n",
        "\t\t\t<td>Line Separator</td>\n",
        "\t\t</tr><tr><td><strong>\\u2029</strong></td>\n",
        "\t\t\t<td>Paragraph Separator</td>\n",
        "\t\t</tr></tbody></table>"
      ],
      "metadata": {
        "id": "Kq_ffcWtU67j"
      }
    },
    {
      "cell_type": "code",
      "source": [
        "grocery = 'Milk\\nChicken\\r\\nBread\\rButter'\n",
        "\n",
        "print(grocery.splitlines())\n",
        "print(grocery.splitlines(True))\n",
        "\n",
        "grocery = 'Milk Chicken Bread Butter'\n",
        "print(grocery.splitlines())"
      ],
      "metadata": {
        "colab": {
          "base_uri": "https://localhost:8080/"
        },
        "id": "Yf5fo0hLVnJh",
        "outputId": "f409347f-f61d-419e-e7a8-308c8a0141d0"
      },
      "execution_count": 91,
      "outputs": [
        {
          "output_type": "stream",
          "name": "stdout",
          "text": [
            "['Milk', 'Chicken', 'Bread', 'Butter']\n",
            "['Milk\\n', 'Chicken\\r\\n', 'Bread\\r', 'Butter']\n",
            "['Milk Chicken Bread Butter']\n"
          ]
        }
      ]
    },
    {
      "cell_type": "markdown",
      "source": [
        "### `string.join(iterable)`\n",
        "\n",
        "returns a string by joining all the elements of an iterable (list, string, tuple), separated by a string separator."
      ],
      "metadata": {
        "id": "nCr0Qf5kYBUV"
      }
    },
    {
      "cell_type": "code",
      "source": [
        "text = ['Python', 'is', 'a', 'fun', 'programming', 'language']\n",
        "\n",
        "# join elements of text with space\n",
        "print(' '.join(text))\n",
        "\n",
        "# Output: Python is a fun programming language"
      ],
      "metadata": {
        "colab": {
          "base_uri": "https://localhost:8080/"
        },
        "id": "wbA0R3WgYOO8",
        "outputId": "55c9f673-ac2f-4f26-9c9a-28bfe0e8a51b"
      },
      "execution_count": 92,
      "outputs": [
        {
          "output_type": "stream",
          "name": "stdout",
          "text": [
            "Python is a fun programming language\n"
          ]
        }
      ]
    },
    {
      "cell_type": "code",
      "source": [
        "# .join() with lists\n",
        "numList = ['1', '2', '3', '4']\n",
        "separator = ', '\n",
        "print(separator.join(numList))\n",
        "\n",
        "# .join() with tuples\n",
        "numTuple = ('1', '2', '3', '4')\n",
        "print(separator.join(numTuple))\n",
        "\n",
        "s1 = 'abc'\n",
        "s2 = '123'\n",
        "\n",
        "# each element of s2 is separated by s1\n",
        "# '1'+ 'abc'+ '2'+ 'abc'+ '3'\n",
        "print('s1.join(s2):', s1.join(s2))\n",
        "\n",
        "# each element of s1 is separated by s2\n",
        "# 'a'+ '123'+ 'b'+ '123'+ 'b'\n",
        "print('s2.join(s1):', s2.join(s1))"
      ],
      "metadata": {
        "colab": {
          "base_uri": "https://localhost:8080/"
        },
        "id": "L8dY9Ab-YV3y",
        "outputId": "3824540c-828b-462b-b5e5-e899905b8714"
      },
      "execution_count": 93,
      "outputs": [
        {
          "output_type": "stream",
          "name": "stdout",
          "text": [
            "1, 2, 3, 4\n",
            "1, 2, 3, 4\n",
            "s1.join(s2): 1abc2abc3\n",
            "s2.join(s1): a123b123c\n"
          ]
        }
      ]
    },
    {
      "cell_type": "markdown",
      "source": [
        "### join() with set"
      ],
      "metadata": {
        "id": "So2o2iU1YZRx"
      }
    },
    {
      "cell_type": "code",
      "source": [
        "# .join() with sets\n",
        "test = {'2', '1', '3'}\n",
        "s = ', '\n",
        "print(s.join(test))\n",
        "\n",
        "test = {'Python', 'Java', 'Ruby'}\n",
        "s = '->->'\n",
        "print(s.join(test))"
      ],
      "metadata": {
        "colab": {
          "base_uri": "https://localhost:8080/"
        },
        "id": "crEKfLBVYcEv",
        "outputId": "9cdafd1e-bd6e-4031-d6e8-a34e1c04c0e8"
      },
      "execution_count": 94,
      "outputs": [
        {
          "output_type": "stream",
          "name": "stdout",
          "text": [
            "1, 2, 3\n",
            "Java->->Python->->Ruby\n"
          ]
        }
      ]
    },
    {
      "cell_type": "markdown",
      "source": [
        "### join() with Dictionary"
      ],
      "metadata": {
        "id": "pbSwPnG5YfHh"
      }
    },
    {
      "cell_type": "code",
      "source": [
        "# .join() with dictionaries\n",
        "test = {'mat': 1, 'that': 2}\n",
        "s = '->'\n",
        "\n",
        "# joins the keys only\n",
        "print(s.join(test))\n",
        "\n",
        "test = {1: 'mat', 2: 'that'}\n",
        "s = ', '\n",
        "\n",
        "# this gives error since key isn't string\n",
        "print(s.join(test))"
      ],
      "metadata": {
        "colab": {
          "base_uri": "https://localhost:8080/",
          "height": 218
        },
        "id": "JO0IdDNRYiZJ",
        "outputId": "431fcfcd-00a9-4a13-9604-81051793178b"
      },
      "execution_count": 95,
      "outputs": [
        {
          "output_type": "stream",
          "name": "stdout",
          "text": [
            "mat->that\n"
          ]
        },
        {
          "output_type": "error",
          "ename": "TypeError",
          "evalue": "ignored",
          "traceback": [
            "\u001b[0;31m---------------------------------------------------------------------------\u001b[0m",
            "\u001b[0;31mTypeError\u001b[0m                                 Traceback (most recent call last)",
            "\u001b[0;32m<ipython-input-95-62f183f703ef>\u001b[0m in \u001b[0;36m<module>\u001b[0;34m()\u001b[0m\n\u001b[1;32m     10\u001b[0m \u001b[0;34m\u001b[0m\u001b[0m\n\u001b[1;32m     11\u001b[0m \u001b[0;31m# this gives error since key isn't string\u001b[0m\u001b[0;34m\u001b[0m\u001b[0;34m\u001b[0m\u001b[0;34m\u001b[0m\u001b[0m\n\u001b[0;32m---> 12\u001b[0;31m \u001b[0mprint\u001b[0m\u001b[0;34m(\u001b[0m\u001b[0ms\u001b[0m\u001b[0;34m.\u001b[0m\u001b[0mjoin\u001b[0m\u001b[0;34m(\u001b[0m\u001b[0mtest\u001b[0m\u001b[0;34m)\u001b[0m\u001b[0;34m)\u001b[0m\u001b[0;34m\u001b[0m\u001b[0;34m\u001b[0m\u001b[0m\n\u001b[0m",
            "\u001b[0;31mTypeError\u001b[0m: sequence item 0: expected str instance, int found"
          ]
        }
      ]
    },
    {
      "cell_type": "markdown",
      "source": [
        "`Note`: The join() method tries to join the keys (not values) of the dictionary with the string separator."
      ],
      "metadata": {
        "id": "Za-t6ILbYuoX"
      }
    },
    {
      "cell_type": "markdown",
      "source": [
        "### `string.strip([chars])`\n",
        "\n",
        "returns a copy of the string by removing both the leading and the trailing characters (based on the string argument passed)."
      ],
      "metadata": {
        "id": "km6tLRqqcT8b"
      }
    },
    {
      "cell_type": "code",
      "source": [
        "message = '     Learn Python  '\n",
        "\n",
        "# remove leading and trailing whitespaces\n",
        "print('Message:', message.strip())\n",
        "\n",
        "# Output: Message: Learn Python"
      ],
      "metadata": {
        "colab": {
          "base_uri": "https://localhost:8080/"
        },
        "id": "ccOd1UepciEf",
        "outputId": "49e97eac-ec5d-4382-85ae-3ff7087b96f1"
      },
      "execution_count": 96,
      "outputs": [
        {
          "output_type": "stream",
          "name": "stdout",
          "text": [
            "Message: Learn Python\n"
          ]
        }
      ]
    },
    {
      "cell_type": "markdown",
      "source": [
        "`Note`: strip() can also be used to remore preceding and trailing given set of chars."
      ],
      "metadata": {
        "id": "cVDbfpkAdJy5"
      }
    },
    {
      "cell_type": "code",
      "source": [
        "string = '  xoxo love xoxo   '\n",
        "\n",
        "# Leading and trailing whitespaces are removed\n",
        "print(string.strip())\n",
        "\n",
        "# All <whitespace>,x,o,e characters in the left\n",
        "# and right of string are removed\n",
        "print(string.strip(' xoe'))\n",
        "\n",
        "# Argument doesn't contain space\n",
        "# No characters are removed.\n",
        "print(string.strip('stx'))\n",
        "\n",
        "string = 'android is awesome'\n",
        "print(string.strip('an'))"
      ],
      "metadata": {
        "colab": {
          "base_uri": "https://localhost:8080/"
        },
        "id": "fsbojy0pcoXZ",
        "outputId": "c34d6f3d-1def-4b98-8159-d9f2f1f1e65d"
      },
      "execution_count": 97,
      "outputs": [
        {
          "output_type": "stream",
          "name": "stdout",
          "text": [
            "xoxo love xoxo\n",
            "lov\n",
            "  xoxo love xoxo   \n",
            "droid is awesome\n"
          ]
        }
      ]
    },
    {
      "cell_type": "markdown",
      "source": [
        "### `string.lstrip([chars])`\n",
        "\n",
        "returns a copy of the string with leading characters removed (based on the string argument passed)."
      ],
      "metadata": {
        "id": "r0cPDBk3dpyQ"
      }
    },
    {
      "cell_type": "code",
      "source": [
        "random_string = '   this is good '\n",
        "\n",
        "# Leading whitepsace are removed\n",
        "print(random_string.lstrip())\n",
        "\n",
        "# Argument doesn't contain space\n",
        "# No characters are removed.\n",
        "print(random_string.lstrip('sti'))\n",
        "\n",
        "print(random_string.lstrip('s ti'))\n",
        "\n",
        "website = 'https://www.programiz.com/'\n",
        "print(website.lstrip('htps:/.'))"
      ],
      "metadata": {
        "colab": {
          "base_uri": "https://localhost:8080/"
        },
        "id": "xxDnueiFd1W-",
        "outputId": "754fe1ee-d610-4990-c355-83c46cd29025"
      },
      "execution_count": 98,
      "outputs": [
        {
          "output_type": "stream",
          "name": "stdout",
          "text": [
            "this is good \n",
            "   this is good \n",
            "his is good \n",
            "www.programiz.com/\n"
          ]
        }
      ]
    },
    {
      "cell_type": "markdown",
      "source": [
        "### `string.rstrip([chars])`\n",
        "\n",
        "returns a copy of the string with trailing characters removed (based on the string argument passed).\n",
        "\n"
      ],
      "metadata": {
        "id": "flcFxlMjd7Iy"
      }
    },
    {
      "cell_type": "code",
      "source": [
        "random_string = 'this is good    '\n",
        "\n",
        "# Trailing whitespace are removed\n",
        "print(random_string.rstrip())\n",
        "\n",
        "# 'si oo' are not trailing characters so nothing is removed\n",
        "print(random_string.rstrip('si oo'))\n",
        "\n",
        "# in 'sid oo', 'd oo' are the trailing characters, 'ood' is removed from the string\n",
        "print(random_string.rstrip('sid oo')) website = 'https://www.kluniversity.in/' \n",
        "\n",
        "print(website.rstrip('m/.'))\n",
        "\n"
      ],
      "metadata": {
        "colab": {
          "base_uri": "https://localhost:8080/",
          "height": 131
        },
        "id": "AetNV5bZeFyL",
        "outputId": "29cd2be3-9038-4750-a99d-a245334c136b"
      },
      "execution_count": 100,
      "outputs": [
        {
          "output_type": "error",
          "ename": "SyntaxError",
          "evalue": "ignored",
          "traceback": [
            "\u001b[0;36m  File \u001b[0;32m\"<ipython-input-100-3105c25c088c>\"\u001b[0;36m, line \u001b[0;32m10\u001b[0m\n\u001b[0;31m    print(random_string.rstrip('sid oo')) website = 'https://www.kluniversity.in/'\u001b[0m\n\u001b[0m                                                ^\u001b[0m\n\u001b[0;31mSyntaxError\u001b[0m\u001b[0;31m:\u001b[0m invalid syntax\n"
          ]
        }
      ]
    },
    {
      "cell_type": "markdown",
      "source": [
        "### `string.upper()`\n",
        "\n",
        "converts all lowercase characters in a string into uppercase characters and returns it.\n",
        "\n"
      ],
      "metadata": {
        "id": "brbJ_HwifB1Y"
      }
    },
    {
      "cell_type": "code",
      "source": [
        "message = 'python is fun'\n",
        "\n",
        "# convert message to uppercase\n",
        "print(message.upper())\n",
        "\n",
        "# Output: PYTHON IS FUN"
      ],
      "metadata": {
        "colab": {
          "base_uri": "https://localhost:8080/"
        },
        "id": "0Cqem4MrfI3L",
        "outputId": "3d59cc64-0c12-490c-8932-808dbb4dcf5d"
      },
      "execution_count": 101,
      "outputs": [
        {
          "output_type": "stream",
          "name": "stdout",
          "text": [
            "PYTHON IS FUN\n"
          ]
        }
      ]
    },
    {
      "cell_type": "code",
      "source": [
        "# example string\n",
        "string = \"this should be uppercase!\"\n",
        "print(string.upper())\n",
        "\n",
        "# string with numbers\n",
        "# all alphabets should be lowercase\n",
        "string = \"Th!s Sh0uLd B3 uPp3rCas3!\"\n",
        "print(string.upper())"
      ],
      "metadata": {
        "colab": {
          "base_uri": "https://localhost:8080/"
        },
        "id": "PxItm82QfM97",
        "outputId": "7a57654c-f16f-48ef-b715-18b2cef8e7ac"
      },
      "execution_count": 102,
      "outputs": [
        {
          "output_type": "stream",
          "name": "stdout",
          "text": [
            "THIS SHOULD BE UPPERCASE!\n",
            "TH!S SH0ULD B3 UPP3RCAS3!\n"
          ]
        }
      ]
    },
    {
      "cell_type": "code",
      "source": [
        "# first string\n",
        "firstString = \"python is awesome!\"\n",
        "\n",
        "# second string\n",
        "secondString = \"PyThOn Is AwEsOmE!\"\n",
        "\n",
        "if(firstString.upper() == secondString.upper()):\n",
        "    print(\"The strings are same.\")\n",
        "else:\n",
        "    print(\"The strings are not same.\")"
      ],
      "metadata": {
        "colab": {
          "base_uri": "https://localhost:8080/"
        },
        "id": "PDqEQRRufRh5",
        "outputId": "b241f7f1-ed64-4871-fd18-5930ede8250c"
      },
      "execution_count": 103,
      "outputs": [
        {
          "output_type": "stream",
          "name": "stdout",
          "text": [
            "The strings are same.\n"
          ]
        }
      ]
    },
    {
      "cell_type": "markdown",
      "source": [
        "### `string.lower()`\n",
        "\n",
        "converts all uppercase characters in a string into lowercase characters and returns it."
      ],
      "metadata": {
        "id": "DV69vYn-fW2J"
      }
    },
    {
      "cell_type": "code",
      "source": [
        "message = 'PYTHON IS FUN'\n",
        "\n",
        "# convert message to lowercase\n",
        "print(message.lower())\n",
        "\n",
        "# Output: python is fun"
      ],
      "metadata": {
        "colab": {
          "base_uri": "https://localhost:8080/"
        },
        "id": "gPqOl1Uzfg2R",
        "outputId": "ce6c5024-f905-467c-d98e-64af1043a581"
      },
      "execution_count": 104,
      "outputs": [
        {
          "output_type": "stream",
          "name": "stdout",
          "text": [
            "python is fun\n"
          ]
        }
      ]
    },
    {
      "cell_type": "code",
      "source": [
        "# example string\n",
        "string = \"THIS SHOULD BE LOWERCASE!\"\n",
        "print(string.lower())\n",
        "\n",
        "# string with numbers\n",
        "# all alphabets should be lowercase\n",
        "string = \"Th!s Sh0uLd B3 L0w3rCas3!\"\n",
        "print(string.lower())"
      ],
      "metadata": {
        "colab": {
          "base_uri": "https://localhost:8080/"
        },
        "id": "-pR5MF-wfeAs",
        "outputId": "1d880e84-dcf9-49d5-84c2-4c629b82811e"
      },
      "execution_count": 105,
      "outputs": [
        {
          "output_type": "stream",
          "name": "stdout",
          "text": [
            "this should be lowercase!\n",
            "th!s sh0uld b3 l0w3rcas3!\n"
          ]
        }
      ]
    },
    {
      "cell_type": "code",
      "source": [
        "# first string\n",
        "firstString = \"PYTHON IS AWESOME!\"\n",
        "\n",
        "# second string\n",
        "secondString = \"PyThOn Is AwEsOmE!\"\n",
        "\n",
        "if(firstString.lower() == secondString.lower()):\n",
        "    print(\"The strings are same.\")\n",
        "else:\n",
        "    print(\"The strings are not same.\")"
      ],
      "metadata": {
        "colab": {
          "base_uri": "https://localhost:8080/"
        },
        "id": "tc1PhxgMfkwf",
        "outputId": "f0949843-2ba1-4e49-c93f-a48cf2f2a5ad"
      },
      "execution_count": 106,
      "outputs": [
        {
          "output_type": "stream",
          "name": "stdout",
          "text": [
            "The strings are same.\n"
          ]
        }
      ]
    },
    {
      "cell_type": "markdown",
      "source": [
        "### `string.swapcase()`\n",
        "\n",
        "converts all uppercase characters to lowercase and all lowercase characters to uppercase characters of the given string, and returns it."
      ],
      "metadata": {
        "id": "CFBYk3EifsDp"
      }
    },
    {
      "cell_type": "code",
      "source": [
        "# example string\n",
        "string = \"THIS SHOULD ALL BE LOWERCASE.\"\n",
        "print(string.swapcase())\n",
        "\n",
        "string = \"this should all be uppercase.\"\n",
        "print(string.swapcase())\n",
        "\n",
        "string = \"ThIs ShOuLd Be MiXeD cAsEd.\"\n",
        "print(string.swapcase())"
      ],
      "metadata": {
        "colab": {
          "base_uri": "https://localhost:8080/"
        },
        "id": "uujqF3uDfyUf",
        "outputId": "fafc7ff1-0775-4bbb-a9cf-5f7df271b6e3"
      },
      "execution_count": 107,
      "outputs": [
        {
          "output_type": "stream",
          "name": "stdout",
          "text": [
            "this should all be lowercase.\n",
            "THIS SHOULD ALL BE UPPERCASE.\n",
            "tHiS sHoUlD bE mIxEd CaSeD.\n"
          ]
        }
      ]
    },
    {
      "cell_type": "markdown",
      "source": [
        "### `str.replace(old, new [, count]) `\n",
        "\n",
        "replaces each matching occurrence of the old character/text in the string with the new character/text."
      ],
      "metadata": {
        "id": "li3jS4GZf-GM"
      }
    },
    {
      "cell_type": "code",
      "source": [
        "text = 'bat ball'\n",
        "\n",
        "# replace b with c\n",
        "replaced_text = text.replace('b', 'c')\n",
        "print(replaced_text)\n",
        "\n",
        "# Output: cat call"
      ],
      "metadata": {
        "colab": {
          "base_uri": "https://localhost:8080/"
        },
        "id": "oUrKfj_bgD6r",
        "outputId": "97a47048-49e7-4972-a7ed-52b3408956a4"
      },
      "execution_count": 108,
      "outputs": [
        {
          "output_type": "stream",
          "name": "stdout",
          "text": [
            "cat call\n"
          ]
        }
      ]
    },
    {
      "cell_type": "code",
      "source": [
        "song = 'cold, cold heart'\n",
        "\n",
        "# replacing 'cold' with 'hurt'\n",
        "print(song.replace('cold', 'hurt'))\n",
        "\n",
        "song = 'Let it be, let it be, let it be, let it be'\n",
        "\n",
        "# replacing only two occurences of 'let'\n",
        "print(song.replace('let', \"don't let\", 2))"
      ],
      "metadata": {
        "colab": {
          "base_uri": "https://localhost:8080/"
        },
        "id": "NRATM7vTgHc8",
        "outputId": "a84fc05a-04fc-494f-cc1e-d37261737c03"
      },
      "execution_count": 109,
      "outputs": [
        {
          "output_type": "stream",
          "name": "stdout",
          "text": [
            "hurt, hurt heart\n",
            "Let it be, don't let it be, don't let it be, let it be\n"
          ]
        }
      ]
    },
    {
      "cell_type": "code",
      "source": [
        "song = 'cold, cold heart'\n",
        "replaced_song = song.replace('o', 'e')\n",
        "\n",
        "# The original string is unchanged\n",
        "print('Original string:', song)\n",
        "\n",
        "print('Replaced string:', replaced_song)\n",
        "\n",
        "song = 'let it be, let it be, let it be'\n",
        "\n",
        "# maximum of 0 substring is replaced\n",
        "# returns copy of the original string\n",
        "print(song.replace('let', 'so', 0))"
      ],
      "metadata": {
        "colab": {
          "base_uri": "https://localhost:8080/"
        },
        "id": "vnzCF7fbgJdE",
        "outputId": "e84a8aa2-02dc-481e-f20b-e97ad780bdb1"
      },
      "execution_count": 110,
      "outputs": [
        {
          "output_type": "stream",
          "name": "stdout",
          "text": [
            "Original string: cold, cold heart\n",
            "Replaced string: celd, celd heart\n",
            "let it be, let it be, let it be\n"
          ]
        }
      ]
    },
    {
      "cell_type": "markdown",
      "source": [
        "### `str.find(sub[, start[, end]] )`\n",
        "\n",
        "returns the index of first occurrence of the substring (if found). If not found, it returns -1."
      ],
      "metadata": {
        "id": "5_rwfQTKgTki"
      }
    },
    {
      "cell_type": "code",
      "source": [
        "message = 'Python is a fun programming language'\n",
        "\n",
        "# check the index of 'fun'\n",
        "print(message.find('fun'))\n",
        "\n",
        "# Output: 12"
      ],
      "metadata": {
        "colab": {
          "base_uri": "https://localhost:8080/"
        },
        "id": "IdQWgfDMgZAw",
        "outputId": "0bf631e1-b304-4b14-bff1-41d90a77a7a2"
      },
      "execution_count": 111,
      "outputs": [
        {
          "output_type": "stream",
          "name": "stdout",
          "text": [
            "12\n"
          ]
        }
      ]
    },
    {
      "cell_type": "markdown",
      "source": [
        "#### find() without start and end arguments"
      ],
      "metadata": {
        "id": "dmnkeef5gf4T"
      }
    },
    {
      "cell_type": "code",
      "source": [
        "quote = 'Let it be, let it be, let it be'\n",
        "\n",
        "# first occurance of 'let it'(case sensitive)\n",
        "result = quote.find('let it')\n",
        "print(\"Substring 'let it':\", result)\n",
        "\n",
        "# find returns -1 if substring not found\n",
        "result = quote.find('small')\n",
        "print(\"Substring 'small ':\", result)\n",
        "\n",
        "# How to use find()\n",
        "if (quote.find('be,') != -1):\n",
        "    print(\"Contains substring 'be,'\")\n",
        "else:\n",
        "    print(\"Doesn't contain substring\")"
      ],
      "metadata": {
        "colab": {
          "base_uri": "https://localhost:8080/"
        },
        "id": "VoRvCT-Kgen1",
        "outputId": "23a32bd2-462e-4c5b-de7b-84f7ed89e2b5"
      },
      "execution_count": 112,
      "outputs": [
        {
          "output_type": "stream",
          "name": "stdout",
          "text": [
            "Substring 'let it': 11\n",
            "Substring 'small ': -1\n",
            "Contains substring 'be,'\n"
          ]
        }
      ]
    },
    {
      "cell_type": "markdown",
      "source": [
        "#### find() with start and end arguments"
      ],
      "metadata": {
        "id": "0-JLxjZzgoOw"
      }
    },
    {
      "cell_type": "code",
      "source": [
        "str1 = 'I got cook you a cookie and I cookhave another cook some more text'\n",
        "str2 = 'cook'\n",
        "result = str1.find(str2, 30, 50)\n",
        "if result != -1:\n",
        "  print(str2, \"is found at \", result)\n",
        "else:\n",
        "  print(str2, \"not found\")"
      ],
      "metadata": {
        "id": "TNRBxQ_tBtdR",
        "colab": {
          "base_uri": "https://localhost:8080/"
        },
        "outputId": "781de787-8ead-4633-badb-850725c9c712"
      },
      "execution_count": 113,
      "outputs": [
        {
          "output_type": "stream",
          "name": "stdout",
          "text": [
            "cook is found at  30\n"
          ]
        }
      ]
    },
    {
      "cell_type": "code",
      "source": [
        "quote = 'Do small things with great love'\n",
        "\n",
        "# Substring is searched in 'hings with great love'\n",
        "print(quote.find('small things', 10))\n",
        "\n",
        "# Substring is searched in ' small things with great love' \n",
        "print(quote.find('small things', 2))\n",
        "\n",
        "# Substring is searched in 'hings with great lov'\n",
        "print(quote.find('o small ', 10, -1))\n",
        "\n",
        "# Substring is searched in 'll things with'\n",
        "print(quote.find('things ', 6, 20))"
      ],
      "metadata": {
        "colab": {
          "base_uri": "https://localhost:8080/"
        },
        "id": "uTdr9A56grtO",
        "outputId": "5bd462b5-4102-4d64-886c-04b5dd4d3111"
      },
      "execution_count": 114,
      "outputs": [
        {
          "output_type": "stream",
          "name": "stdout",
          "text": [
            "-1\n",
            "3\n",
            "-1\n",
            "9\n"
          ]
        }
      ]
    },
    {
      "cell_type": "markdown",
      "source": [
        "### `str.rfind(sub[, start[, end]] )`\n",
        "\n",
        "returns the highest index of the substring (if found). If not found, it returns -1."
      ],
      "metadata": {
        "id": "MqkDGTRfgvVN"
      }
    },
    {
      "cell_type": "markdown",
      "source": [
        "#### rfind() without start and end arguments"
      ],
      "metadata": {
        "id": "U2ga-4oEg4pF"
      }
    },
    {
      "cell_type": "code",
      "source": [
        "quote = 'Let it be, let it be, let it be'\n",
        "\n",
        "result = quote.rfind('let it')\n",
        "print(\"Substring 'let it':\", result)\n",
        "\n",
        "result = quote.rfind('small')\n",
        "print(\"Substring 'small ':\", result)\n",
        "\n",
        "result = quote.rfind('be,')\n",
        "if  (result != -1):\n",
        "  print(\"Highest index where 'be,' occurs:\", result)\n",
        "else:\n",
        "  print(\"Doesn't contain substring\")"
      ],
      "metadata": {
        "colab": {
          "base_uri": "https://localhost:8080/"
        },
        "id": "uSwEmnIYg8St",
        "outputId": "b30e6120-d91b-44d2-e773-612ddbcd1b0e"
      },
      "execution_count": 115,
      "outputs": [
        {
          "output_type": "stream",
          "name": "stdout",
          "text": [
            "Substring 'let it': 22\n",
            "Substring 'small ': -1\n",
            "Highest index where 'be,' occurs: 18\n"
          ]
        }
      ]
    },
    {
      "cell_type": "markdown",
      "source": [
        "#### rfind() with start and end argument"
      ],
      "metadata": {
        "id": "upKdpd3ag-xT"
      }
    },
    {
      "cell_type": "code",
      "source": [
        "quote = 'Do small things with great love'\n",
        "\n",
        "# Substring is searched in 'hings with great love'\n",
        "print(quote.rfind('things', 10))\n",
        "\n",
        "# Substring is searched in ' small things with great love' \n",
        "print(quote.rfind('t', 2))\n",
        "\n",
        "# Substring is searched in 'hings with great lov'\n",
        "print(quote.rfind('o small ', 10, -1))\n",
        "\n",
        "# Substring is searched in 'll things with'\n",
        "print(quote.rfind('th', 6, 20))"
      ],
      "metadata": {
        "colab": {
          "base_uri": "https://localhost:8080/"
        },
        "id": "4aHm7VzohCVa",
        "outputId": "a9d1232e-fb4c-488f-e89e-28d634805702"
      },
      "execution_count": 116,
      "outputs": [
        {
          "output_type": "stream",
          "name": "stdout",
          "text": [
            "-1\n",
            "25\n",
            "-1\n",
            "18\n"
          ]
        }
      ]
    },
    {
      "cell_type": "markdown",
      "source": [
        "## Good to Know String Functions\n",
        "\n",
        "<table class=\"tg\"><tbody><tr><th class=\"tg-s268\">Function</th><th class=\"tg-s268\">Description</th></tr><tr><td class=\"tg-md4w\"><a href=\"https://www.journaldev.com/23617/python-string-encode-decode\">encode()</a></td><td class=\"tg-md4w\">Python string encode() function is used to encode the string using the provided encoding.</td></tr><tr><td class=\"tg-s268\"><a href=\"https://www.journaldev.com/23754/python-string-count\">count()</a></td><td class=\"tg-s268\">Python String count() function returns the number of occurrences of a substring in the given string.</td></tr><tr><td class=\"tg-md4w\"><a href=\"https://www.journaldev.com/23821/python-string-startswith\">startswith()</a></td><td class=\"tg-md4w\">Python string startswith() function returns True if the string starts with the given prefix, otherwise it returns False.</td></tr><tr><td class=\"tg-s268\"><a href=\"https://www.journaldev.com/23839/python-string-endswith\">endswith()</a></td><td class=\"tg-s268\">Python string endswith() function returns True if the string ends with the given suffix, otherwise it returns False.</td></tr><tr><td class=\"tg-md4w\"><a href=\"https://www.journaldev.com/23872/python-string-capitalize\">capitalize()</a></td><td class=\"tg-md4w\">Python String capitalize() function returns the capitalized version of the string.</td></tr><tr><td class=\"tg-s268\"><a href=\"https://www.journaldev.com/23919/python-string-center\">center()</a></td><td class=\"tg-s268\">Python string center() function returns a centered string of specified size.</td></tr><tr><td class=\"tg-md4w\"><a href=\"https://www.journaldev.com/23928/python-string-casefold\">casefold()</a></td><td class=\"tg-md4w\">Python string casefold() function returns a casefolded copy of the string. This function is used to perform case-insensitive string comparison.</td></tr><tr><td class=\"tg-s268\"><a href=\"https://www.journaldev.com/23978/python-string-expandtabs\">expandtabs()</a></td><td class=\"tg-s268\">Python string expandtabs() function returns a new string with tab characters (\\t) replaced with one or more whitespaces.</td></tr><tr><td class=\"tg-md4w\"><a href=\"https://www.journaldev.com/23992/python-string-index\">index()</a></td><td class=\"tg-md4w\">Python String index() function returns the lowest index where the specified substring is found.</td></tr><tr><td class=\"tg-s268\"><a href=\"https://www.journaldev.com/23451/python-string-contains\">__contains__()</a></td><td class=\"tg-s268\">Python String class has __contains__() function that we can use to check if it contains another string or not. We can also use “in” operator to perform this check.</td></tr></tbody></table>"
      ],
      "metadata": {
        "id": "dAljQ5aOEI-f"
      }
    },
    {
      "cell_type": "markdown",
      "source": [
        "### `string.encode(encoding='UTF-8',errors='strict')`\n",
        "\n",
        "returns an encoded version of the given string.\n",
        "\n",
        "<ul><li><strong>encoding</strong> - the encoding type a string has to be encoded to</li>\n",
        "\t<li><strong>errors</strong> - response when encoding fails. There are six types of error response\n",
        "\t\t<ul type=\"circle\"><li>strict - default response which raises a UnicodeDecodeError exception on failure</li>\n",
        "\t\t\t<li>ignore - ignores the unencodable unicode from the result</li>\n",
        "\t\t\t<li>replace - replaces the unencodable unicode to a question mark <strong>?</strong></li>\n",
        "\t\t\t<li>xmlcharrefreplace - inserts XML character reference instead of unencodable unicode</li>\n",
        "\t\t\t<li>backslashreplace - inserts a \\uNNNN escape sequence instead of unencodable unicode</li>\n",
        "\t\t\t<li>namereplace - inserts a \\N{...} escape sequence instead of unencodable unicode</li>\n",
        "\t\t</ul></li>\n",
        "\t\t</ul>"
      ],
      "metadata": {
        "id": "ho23DuTdirLk"
      }
    },
    {
      "cell_type": "markdown",
      "source": [
        "#### Encode to Default Utf-8 Encoding\n"
      ],
      "metadata": {
        "id": "4bym9yB2jVkk"
      }
    },
    {
      "cell_type": "code",
      "source": [
        "title = 'Python Programming'\n",
        "\n",
        "# change encoding to utf-8\n",
        "print(title.encode())\n",
        "\n",
        "# Output: b'Python Programming'"
      ],
      "metadata": {
        "colab": {
          "base_uri": "https://localhost:8080/"
        },
        "id": "jFeJQeNEjRyl",
        "outputId": "a8cff6cf-e30a-49b9-99b6-7eb4c93ab6af"
      },
      "execution_count": 117,
      "outputs": [
        {
          "output_type": "stream",
          "name": "stdout",
          "text": [
            "b'Python Programming'\n"
          ]
        }
      ]
    },
    {
      "cell_type": "code",
      "source": [
        "# unicode string\n",
        "string = 'pythön!'\n",
        "\n",
        "# print string\n",
        "print('The string is:', string)\n",
        "\n",
        "# default encoding to utf-8\n",
        "string_utf = string.encode()\n",
        "\n",
        "# print result\n",
        "print('The encoded version is:', string_utf)"
      ],
      "metadata": {
        "colab": {
          "base_uri": "https://localhost:8080/"
        },
        "id": "Qkiv4vTBjYNd",
        "outputId": "6d688fbf-b442-4001-f45e-53a037400de2"
      },
      "execution_count": 118,
      "outputs": [
        {
          "output_type": "stream",
          "name": "stdout",
          "text": [
            "The string is: pythön!\n",
            "The encoded version is: b'pyth\\xc3\\xb6n!'\n"
          ]
        }
      ]
    },
    {
      "cell_type": "markdown",
      "source": [
        "#### Encode with Error parameter"
      ],
      "metadata": {
        "id": "Cr2rJWz0jpBf"
      }
    },
    {
      "cell_type": "code",
      "source": [
        "# unicode string\n",
        "string = 'pythön!'\n",
        "\n",
        "# print string\n",
        "print('The string is:', string)\n",
        "\n",
        "# ignore error\n",
        "print('The encoded version (with ignore) is:', string.encode(\"ascii\", \"ignore\"))\n",
        "\n",
        "# replace error\n",
        "print('The encoded version (with replace) is:', string.encode(\"ascii\", \"replace\"))"
      ],
      "metadata": {
        "colab": {
          "base_uri": "https://localhost:8080/"
        },
        "id": "ZM0H1R39jtDT",
        "outputId": "e05761f4-34a3-486d-aed5-74d79dfa3ca7"
      },
      "execution_count": 119,
      "outputs": [
        {
          "output_type": "stream",
          "name": "stdout",
          "text": [
            "The string is: pythön!\n",
            "The encoded version (with ignore) is: b'pythn!'\n",
            "The encoded version (with replace) is: b'pyth?n!'\n"
          ]
        }
      ]
    },
    {
      "cell_type": "markdown",
      "source": [
        "#### String Encoding\n",
        "* Since Python 3.0, strings are stored as ***Unicode***, i.e. each character in the string is represented by a code point. So, each string is just a sequence of Unicode code points.\n",
        "\n",
        "* For efficient storage of these strings, the sequence of code points is converted into a set of bytes. The process is known as encoding.\n",
        "\n",
        "* There are various encodings present which treat a string differently. The popular encodings being `utf-8`, `ascii`, etc."
      ],
      "metadata": {
        "id": "P2nOaSECj4Cu"
      }
    },
    {
      "cell_type": "markdown",
      "source": [
        "*italicized text*### `string.count(substring, start=..., end=...)`: \n",
        "\n",
        "counts how many times a substring occurs in the string."
      ],
      "metadata": {
        "id": "VQxOc6FlBojU"
      }
    },
    {
      "cell_type": "markdown",
      "source": [
        "#### Count number of occurrences of a given char or substring"
      ],
      "metadata": {
        "id": "ZMEBKQ2FluBA"
      }
    },
    {
      "cell_type": "code",
      "source": [
        "message = 'python is popular programming language'\n",
        "\n",
        "# number of occurrence of 'p'\n",
        "print('Number of occurrence of p:', message.count('p'))\n",
        "\n",
        "# Output: Number of occurrence of p: 4"
      ],
      "metadata": {
        "colab": {
          "base_uri": "https://localhost:8080/"
        },
        "id": "qX__JHsYlb8p",
        "outputId": "2230a9ad-7152-4423-ffc0-f3fa9ad6818d"
      },
      "execution_count": 120,
      "outputs": [
        {
          "output_type": "stream",
          "name": "stdout",
          "text": [
            "Number of occurrence of p: 4\n"
          ]
        }
      ]
    },
    {
      "cell_type": "code",
      "source": [
        "# define string\n",
        "string = \"Python is awesome, isn't it?\"\n",
        "substring = \"is\"\n",
        "\n",
        "count = string.count(substring)\n",
        "\n",
        "# print count\n",
        "print(\"The count is:\", count)"
      ],
      "metadata": {
        "colab": {
          "base_uri": "https://localhost:8080/"
        },
        "id": "C7RkYDuslgqh",
        "outputId": "a272e1a0-4d9a-43c5-92c8-e5a7eae5db76"
      },
      "execution_count": 121,
      "outputs": [
        {
          "output_type": "stream",
          "name": "stdout",
          "text": [
            "The count is: 2\n"
          ]
        }
      ]
    },
    {
      "cell_type": "markdown",
      "source": [
        "#### Count number of occurrences of a given substring using start and end"
      ],
      "metadata": {
        "id": "Rjv0nTvrlps9"
      }
    },
    {
      "cell_type": "code",
      "source": [
        "# define string\n",
        "string = \"Python is awesome, isn't it?\"\n",
        "substring = \"i\"\n",
        "\n",
        "# count after first 'i' and before the last 'i'\n",
        "count = string.count(substring, 8, 25)\n",
        "\n",
        "# print count\n",
        "print(\"The count is:\", count)"
      ],
      "metadata": {
        "colab": {
          "base_uri": "https://localhost:8080/"
        },
        "id": "fTWd9yC2ll21",
        "outputId": "c6443695-e378-4d1f-f6ce-875655e788f8"
      },
      "execution_count": 122,
      "outputs": [
        {
          "output_type": "stream",
          "name": "stdout",
          "text": [
            "The count is: 1\n"
          ]
        }
      ]
    },
    {
      "cell_type": "markdown",
      "source": [
        ""
      ],
      "metadata": {
        "id": "-XaguxGHlo18"
      }
    },
    {
      "cell_type": "code",
      "source": [
        "str1 = 'I got you a cookie, do you like cookies?'\n",
        "str2 = 'cookie'\n",
        "str1.count(str2)"
      ],
      "metadata": {
        "id": "_rmg55OfBxSx",
        "colab": {
          "base_uri": "https://localhost:8080/"
        },
        "outputId": "443e66a6-a020-4e2b-c43d-77e921e47c2f"
      },
      "execution_count": 123,
      "outputs": [
        {
          "output_type": "execute_result",
          "data": {
            "text/plain": [
              "2"
            ]
          },
          "metadata": {},
          "execution_count": 123
        }
      ]
    },
    {
      "cell_type": "code",
      "source": [
        "str1.count('cook')"
      ],
      "metadata": {
        "colab": {
          "base_uri": "https://localhost:8080/"
        },
        "id": "W4boHRevU0sk",
        "outputId": "90ea154c-bdc1-4110-dfa7-e2b30fc7cfee"
      },
      "execution_count": 124,
      "outputs": [
        {
          "output_type": "execute_result",
          "data": {
            "text/plain": [
              "2"
            ]
          },
          "metadata": {},
          "execution_count": 124
        }
      ]
    },
    {
      "cell_type": "markdown",
      "source": [
        "### `str.startswith(prefix[, start[, end]])`\n",
        "\n",
        "returns True if a string starts with the specified prefix(string). If not, it returns False."
      ],
      "metadata": {
        "id": "1jg4WerKl-c9"
      }
    },
    {
      "cell_type": "markdown",
      "source": [
        "### Syntax: `str.startswith(prefix[, start[, end]])`\n",
        "\n",
        "returns True if a string starts with the specified prefix(string). If not, it returns False.\n",
        "\n",
        "\n",
        "### startswtith() without start and end parameters"
      ],
      "metadata": {
        "id": "b_yCgHdkVxOZ"
      }
    },
    {
      "cell_type": "markdown",
      "source": [
        ""
      ],
      "metadata": {
        "id": "gVusCd9hU5x4"
      }
    },
    {
      "cell_type": "code",
      "source": [
        "text = \"Python is easy to learn.\"\n",
        "\n",
        "result = text.startswith('is easy')\n",
        "# returns False\n",
        "print(result)\n",
        "\n",
        "result = text.startswith('Python is ')\n",
        "# returns True\n",
        "print(result)\n",
        "\n",
        "result = text.startswith('Python is easy to learn.')\n",
        "# returns True\n",
        "print(result)"
      ],
      "metadata": {
        "colab": {
          "base_uri": "https://localhost:8080/"
        },
        "id": "FgjTSU97UcjG",
        "outputId": "ec672f3e-48e3-4ee9-8475-ea3dbce89791"
      },
      "execution_count": 125,
      "outputs": [
        {
          "output_type": "stream",
          "name": "stdout",
          "text": [
            "False\n",
            "True\n",
            "True\n"
          ]
        }
      ]
    },
    {
      "cell_type": "code",
      "source": [
        "message = 'Python is fun'\n",
        "\n",
        "# check if the message starts with Python\n",
        "print(message.startswith('Python'))\n",
        "\n",
        "# Output: True"
      ],
      "metadata": {
        "colab": {
          "base_uri": "https://localhost:8080/"
        },
        "id": "a_DDMzVOjktC",
        "outputId": "1cce2251-87f6-43ed-db41-7ba1e9b0eb78"
      },
      "execution_count": 126,
      "outputs": [
        {
          "output_type": "stream",
          "name": "stdout",
          "text": [
            "True\n"
          ]
        }
      ]
    },
    {
      "cell_type": "code",
      "source": [
        "text = \"Python is easy to learn.\"\n",
        "\n",
        "result = text.startswith('is easy')\n",
        "# returns False\n",
        "print(result)\n",
        "\n",
        "result = text.startswith('Python is ')\n",
        "# returns True\n",
        "print(result)\n",
        "\n",
        "result = text.startswith('Python is easy to learn.')\n",
        "# returns True\n",
        "print(result)"
      ],
      "metadata": {
        "colab": {
          "base_uri": "https://localhost:8080/"
        },
        "id": "YmdAFScDjkhN",
        "outputId": "635019f1-d1dc-44b7-cd82-0dd182a5faec"
      },
      "execution_count": 127,
      "outputs": [
        {
          "output_type": "stream",
          "name": "stdout",
          "text": [
            "False\n",
            "True\n",
            "True\n"
          ]
        }
      ]
    },
    {
      "cell_type": "code",
      "source": [
        "text = \"Python programming is easy.\"\n",
        "\n",
        "# start parameter: 7\n",
        "# 'programming is easy.' string is searched\n",
        "result = text.startswith('programming is', 7)\n",
        "print(result)\n",
        "\n",
        "# start: 7, end: 18\n",
        "# 'programming' string is searched\n",
        "result = text.startswith('programming is', 7, 18)\n",
        "print(result)\n",
        "\n",
        "result = text.startswith('program', 7, 18)\n",
        "print(result)"
      ],
      "metadata": {
        "colab": {
          "base_uri": "https://localhost:8080/"
        },
        "id": "yixq407rjko7",
        "outputId": "b0df8753-7288-4f2f-f29c-71dd8c181e1c"
      },
      "execution_count": 128,
      "outputs": [
        {
          "output_type": "stream",
          "name": "stdout",
          "text": [
            "True\n",
            "False\n",
            "True\n"
          ]
        }
      ]
    },
    {
      "cell_type": "markdown",
      "source": [
        "#### startswith() With Tuple Prefix"
      ],
      "metadata": {
        "id": "LxQ9MumQmR3i"
      }
    },
    {
      "cell_type": "code",
      "source": [
        "text = \"programming is easy\"\n",
        "result = text.startswith(('python', 'programming'))\n",
        "\n",
        "# prints True\n",
        "print(result)\n",
        "\n",
        "result = text.startswith(('is', 'easy', 'java'))\n",
        "\n",
        "# prints False\n",
        "print(result)\n",
        "\n",
        "# With start and end parameter\n",
        "# 'is easy' string is checked\n",
        "result = text.startswith(('programming', 'easy'), 12, 19)\n",
        "\n",
        "# prints False\n",
        "print(result)"
      ],
      "metadata": {
        "colab": {
          "base_uri": "https://localhost:8080/"
        },
        "id": "aZIle5_Gjkk3",
        "outputId": "17450012-cbc3-46c8-c366-98161ce8b0f6"
      },
      "execution_count": 129,
      "outputs": [
        {
          "output_type": "stream",
          "name": "stdout",
          "text": [
            "True\n",
            "False\n",
            "False\n"
          ]
        }
      ]
    },
    {
      "cell_type": "markdown",
      "source": [
        "### startswith with start and end argument"
      ],
      "metadata": {
        "id": "4x2zVXFnWOff"
      }
    },
    {
      "cell_type": "code",
      "source": [
        "text = \"Python programming is easy.\"\n",
        "\n",
        "# start parameter: 7\n",
        "# 'programming is easy.' string is searched\n",
        "result = text.startswith('programming is', 7)\n",
        "print(result)\n",
        "\n",
        "# start: 7, end: 18\n",
        "# 'programming' string is searched\n",
        "result = text.startswith('programming is', 7, 18)\n",
        "print(result)\n",
        "\n",
        "result = text.startswith('program', 7, 18)\n",
        "print(result)"
      ],
      "metadata": {
        "colab": {
          "base_uri": "https://localhost:8080/"
        },
        "id": "0pQ0CWX4TRMx",
        "outputId": "2aaa0000-22a9-4749-9926-4c0164933f29"
      },
      "execution_count": 130,
      "outputs": [
        {
          "output_type": "stream",
          "name": "stdout",
          "text": [
            "True\n",
            "False\n",
            "True\n"
          ]
        }
      ]
    },
    {
      "cell_type": "markdown",
      "source": [
        "### ``"
      ],
      "metadata": {
        "id": "4sIU6bxHm5eG"
      }
    },
    {
      "cell_type": "markdown",
      "source": [
        "### startswith() With Tuple Prefix"
      ],
      "metadata": {
        "id": "vsg8lmkbWbxm"
      }
    },
    {
      "cell_type": "code",
      "source": [
        "text = \"programming is easy\"\n",
        "result = text.startswith(('python', 'programming'))\n",
        "\n",
        "# prints True\n",
        "print(result)\n",
        "\n",
        "result = text.startswith(('is', 'easy', 'java'))\n",
        "\n",
        "# prints False\n",
        "print(result)\n",
        "\n",
        "# With start and end parameter\n",
        "# 'is easy' string is checked\n",
        "result = text.startswith(('programming', 'easy'), 12, 19)\n",
        "\n",
        "# prints False\n",
        "print(result)"
      ],
      "metadata": {
        "colab": {
          "base_uri": "https://localhost:8080/"
        },
        "id": "Q7t5WFv4WeMj",
        "outputId": "64ff3d03-92c8-4512-c8d1-d659cac9315f"
      },
      "execution_count": 131,
      "outputs": [
        {
          "output_type": "stream",
          "name": "stdout",
          "text": [
            "True\n",
            "False\n",
            "False\n"
          ]
        }
      ]
    },
    {
      "cell_type": "markdown",
      "source": [
        "### `str.endswith(suffix[, start[, end]])`\n",
        "\n",
        "returns True if a string ends with the specified suffix. If not, it returns False.\n",
        "\n"
      ],
      "metadata": {
        "id": "RKkciA4poFUN"
      }
    },
    {
      "cell_type": "code",
      "source": [
        "message = 'Python is fun'\n",
        "\n",
        "# check if the message ends with fun\n",
        "print(message.endswith('fun'))\n",
        "\n",
        "# Output: True"
      ],
      "metadata": {
        "colab": {
          "base_uri": "https://localhost:8080/"
        },
        "id": "rzXyOUj4oOpU",
        "outputId": "53de1895-686d-4224-f45f-4b0e8e756fcd"
      },
      "execution_count": 132,
      "outputs": [
        {
          "output_type": "stream",
          "name": "stdout",
          "text": [
            "True\n"
          ]
        }
      ]
    },
    {
      "cell_type": "code",
      "source": [
        "text = \"Python is easy to learn.\"\n",
        "\n",
        "result = text.endswith('to learn')\n",
        "# returns False\n",
        "print(result)\n",
        "\n",
        "result = text.endswith('to learn.')\n",
        "# returns True\n",
        "print(result)\n",
        "\n",
        "result = text.endswith('Python is easy to learn.')\n",
        "# returns True\n",
        "print(result)"
      ],
      "metadata": {
        "colab": {
          "base_uri": "https://localhost:8080/"
        },
        "id": "8Nv1vqz5oR8z",
        "outputId": "e03acac7-a88e-4f59-efd3-1b443d35031e"
      },
      "execution_count": 133,
      "outputs": [
        {
          "output_type": "stream",
          "name": "stdout",
          "text": [
            "False\n",
            "True\n",
            "True\n"
          ]
        }
      ]
    },
    {
      "cell_type": "code",
      "source": [
        "text = \"Python programming is easy to learn.\"\n",
        "\n",
        "# start parameter: 7\n",
        "# \"programming is easy to learn.\" string is searched\n",
        "result = text.endswith('learn.', 7)\n",
        "print(result)\n",
        "\n",
        "# Both start and end is provided\n",
        "# start: 7, end: 26\n",
        "# \"programming is easy\" string is searched\n",
        "\n",
        "result = text.endswith('is', 7, 26)\n",
        "# Returns False\n",
        "print(result)\n",
        "\n",
        "result = text.endswith('easy', 7, 26)\n",
        "# returns True\n",
        "print(result)"
      ],
      "metadata": {
        "colab": {
          "base_uri": "https://localhost:8080/"
        },
        "id": "be1R1VQHoUdY",
        "outputId": "64de0f4b-e17f-40ea-99de-5b75dfc5c828"
      },
      "execution_count": 134,
      "outputs": [
        {
          "output_type": "stream",
          "name": "stdout",
          "text": [
            "True\n",
            "False\n",
            "True\n"
          ]
        }
      ]
    },
    {
      "cell_type": "markdown",
      "source": [
        "#### endswith() tuple sufix"
      ],
      "metadata": {
        "id": "5gDl4kdNoZav"
      }
    },
    {
      "cell_type": "code",
      "source": [
        "text = \"programming is easy\"\n",
        "result = text.endswith(('programming', 'python'))\n",
        "\n",
        "# prints False\n",
        "print(result)\n",
        "\n",
        "result = text.endswith(('python', 'easy', 'java'))\n",
        "\n",
        "#prints True\n",
        "print(result)\n",
        "\n",
        "# With start and end parameter\n",
        "# 'programming is' string is checked\n",
        "result = text.endswith(('is', 'an'), 0, 14)\n",
        "\n",
        "# prints True\n",
        "print(result)"
      ],
      "metadata": {
        "colab": {
          "base_uri": "https://localhost:8080/"
        },
        "id": "R0IrzulcocyH",
        "outputId": "2228e53f-fcec-470e-d331-bd3fb1cb346a"
      },
      "execution_count": 135,
      "outputs": [
        {
          "output_type": "stream",
          "name": "stdout",
          "text": [
            "False\n",
            "True\n",
            "True\n"
          ]
        }
      ]
    },
    {
      "cell_type": "markdown",
      "source": [
        "### `str.capitalize()`: returns a copy of the string with its first character capitalized."
      ],
      "metadata": {
        "id": "uzok9PbwLdzs"
      }
    },
    {
      "cell_type": "code",
      "source": [
        "s1 = 'my cookie. this ball.'\n",
        "s1.capitalize()"
      ],
      "metadata": {
        "id": "7HO4jTqO-Ndl",
        "colab": {
          "base_uri": "https://localhost:8080/",
          "height": 35
        },
        "outputId": "fd682f64-adb0-41a9-b757-d6348a5a16cf"
      },
      "execution_count": 137,
      "outputs": [
        {
          "output_type": "execute_result",
          "data": {
            "application/vnd.google.colaboratory.intrinsic+json": {
              "type": "string"
            },
            "text/plain": [
              "'My cookie. this ball.'"
            ]
          },
          "metadata": {},
          "execution_count": 137
        }
      ]
    },
    {
      "cell_type": "markdown",
      "source": [
        "### `string.center(width[, fillchar])`\n",
        "\n",
        "returns a string which is padded with the specified character."
      ],
      "metadata": {
        "id": "lIALuIhMo0Up"
      }
    },
    {
      "cell_type": "markdown",
      "source": [
        "#### center() Method With Default fillchar"
      ],
      "metadata": {
        "id": "M-gL8yYGpCOY"
      }
    },
    {
      "cell_type": "code",
      "source": [
        "string = \"Python is awesome\"\n",
        "\n",
        "new_string = string.center(24)\n",
        "\n",
        "print(\"Centered String: \", new_string)"
      ],
      "metadata": {
        "colab": {
          "base_uri": "https://localhost:8080/"
        },
        "id": "ekSnSM6DpFjF",
        "outputId": "92efaeab-71dc-421c-c432-4f5b91060d0a"
      },
      "execution_count": 138,
      "outputs": [
        {
          "output_type": "stream",
          "name": "stdout",
          "text": [
            "Centered String:     Python is awesome    \n"
          ]
        }
      ]
    },
    {
      "cell_type": "markdown",
      "source": [
        "#### center() Method With * fillchar"
      ],
      "metadata": {
        "id": "sA1oaX2FpIcn"
      }
    },
    {
      "cell_type": "code",
      "source": [
        "string = \"Python is awesome\"\n",
        "\n",
        "new_string = string.center(24, '*')\n",
        "\n",
        "print(\"Centered String: \", new_string)"
      ],
      "metadata": {
        "colab": {
          "base_uri": "https://localhost:8080/"
        },
        "id": "xgwbV9btpLA6",
        "outputId": "360813b2-aed8-40ce-9c6f-eb257877debe"
      },
      "execution_count": 139,
      "outputs": [
        {
          "output_type": "stream",
          "name": "stdout",
          "text": [
            "Centered String:  ***Python is awesome****\n"
          ]
        }
      ]
    },
    {
      "cell_type": "markdown",
      "source": [
        "### `string.expandtabs(tabsize)`\n",
        "\n",
        "returns a copy of string with all tab characters '\\t' replaced with whitespace characters until the next multiple of tabsize parameter."
      ],
      "metadata": {
        "id": "o4209w0mpuUp"
      }
    },
    {
      "cell_type": "code",
      "source": [
        "str = 'xyz\\t12345\\tabc'\n",
        "\n",
        "# no argument is passed\n",
        "# default tabsize is 8\n",
        "result = str.expandtabs()\n",
        "\n",
        "print(result)"
      ],
      "metadata": {
        "colab": {
          "base_uri": "https://localhost:8080/"
        },
        "id": "70jS15W1p1ue",
        "outputId": "d35b1da4-6b4f-4aa5-e392-b2f7ad48db5f"
      },
      "execution_count": 140,
      "outputs": [
        {
          "output_type": "stream",
          "name": "stdout",
          "text": [
            "xyz     12345   abc\n"
          ]
        }
      ]
    },
    {
      "cell_type": "code",
      "source": [
        "str = \"xyz\\t12345\\tabc\"\n",
        "print('Original String:', str)\n",
        "\n",
        "# tabsize is set to 2\n",
        "print('Tabsize 2:', str.expandtabs(2))\n",
        "\n",
        "# tabsize is set to 3\n",
        "print('Tabsize 3:', str.expandtabs(3))\n",
        "\n",
        "# tabsize is set to 4\n",
        "print('Tabsize 4:', str.expandtabs(4))\n",
        "\n",
        "# tabsize is set to 5\n",
        "print('Tabsize 5:', str.expandtabs(5))\n",
        "\n",
        "# tabsize is set to 6\n",
        "print('Tabsize 6:', str.expandtabs(6))"
      ],
      "metadata": {
        "colab": {
          "base_uri": "https://localhost:8080/"
        },
        "id": "D9J1NjA6p-w6",
        "outputId": "489cde7f-df9e-4045-8397-4420cff5a461"
      },
      "execution_count": 141,
      "outputs": [
        {
          "output_type": "stream",
          "name": "stdout",
          "text": [
            "Original String: xyz\t12345\tabc\n",
            "Tabsize 2: xyz 12345 abc\n",
            "Tabsize 3: xyz   12345 abc\n",
            "Tabsize 4: xyz 12345   abc\n",
            "Tabsize 5: xyz  12345     abc\n",
            "Tabsize 6: xyz   12345 abc\n"
          ]
        }
      ]
    },
    {
      "cell_type": "markdown",
      "source": [
        "### `str.index(sub[, start[, end]] )`\n",
        "\n",
        "returns the index of a substring inside the string (if found). If the substring is not found, it raises an exception."
      ],
      "metadata": {
        "id": "f_15IBzqqd5m"
      }
    },
    {
      "cell_type": "code",
      "source": [
        "text = 'Python is fun'\n",
        "\n",
        "# find the index of is\n",
        "result = text.index('is')\n",
        "print(result)\n",
        "\n",
        "# Output: 7"
      ],
      "metadata": {
        "colab": {
          "base_uri": "https://localhost:8080/"
        },
        "id": "S97EJ4jTqkk6",
        "outputId": "f27d61b9-26c0-49b0-aa4b-1291536e009f"
      },
      "execution_count": 142,
      "outputs": [
        {
          "output_type": "stream",
          "name": "stdout",
          "text": [
            "7\n"
          ]
        }
      ]
    },
    {
      "cell_type": "markdown",
      "source": [
        "#### index() With Substring argument Only"
      ],
      "metadata": {
        "id": "sKf0f0IEqpfj"
      }
    },
    {
      "cell_type": "code",
      "source": [
        "sentence = 'Python programming is fun.'\n",
        "\n",
        "result = sentence.index('is fun')\n",
        "print(\"Substring 'is fun':\", result)\n",
        "\n",
        "result = sentence.index('Java')\n",
        "print(\"Substring 'Java':\", result)"
      ],
      "metadata": {
        "colab": {
          "base_uri": "https://localhost:8080/",
          "height": 236
        },
        "id": "3NO6nAvfqp5I",
        "outputId": "3578dd12-9451-449d-819b-4478ee4318d9"
      },
      "execution_count": 143,
      "outputs": [
        {
          "output_type": "stream",
          "name": "stdout",
          "text": [
            "Substring 'is fun': 19\n"
          ]
        },
        {
          "output_type": "error",
          "ename": "ValueError",
          "evalue": "ignored",
          "traceback": [
            "\u001b[0;31m---------------------------------------------------------------------------\u001b[0m",
            "\u001b[0;31mValueError\u001b[0m                                Traceback (most recent call last)",
            "\u001b[0;32m<ipython-input-143-4ffe18acdb3f>\u001b[0m in \u001b[0;36m<module>\u001b[0;34m()\u001b[0m\n\u001b[1;32m      4\u001b[0m \u001b[0mprint\u001b[0m\u001b[0;34m(\u001b[0m\u001b[0;34m\"Substring 'is fun':\"\u001b[0m\u001b[0;34m,\u001b[0m \u001b[0mresult\u001b[0m\u001b[0;34m)\u001b[0m\u001b[0;34m\u001b[0m\u001b[0;34m\u001b[0m\u001b[0m\n\u001b[1;32m      5\u001b[0m \u001b[0;34m\u001b[0m\u001b[0m\n\u001b[0;32m----> 6\u001b[0;31m \u001b[0mresult\u001b[0m \u001b[0;34m=\u001b[0m \u001b[0msentence\u001b[0m\u001b[0;34m.\u001b[0m\u001b[0mindex\u001b[0m\u001b[0;34m(\u001b[0m\u001b[0;34m'Java'\u001b[0m\u001b[0;34m)\u001b[0m\u001b[0;34m\u001b[0m\u001b[0;34m\u001b[0m\u001b[0m\n\u001b[0m\u001b[1;32m      7\u001b[0m \u001b[0mprint\u001b[0m\u001b[0;34m(\u001b[0m\u001b[0;34m\"Substring 'Java':\"\u001b[0m\u001b[0;34m,\u001b[0m \u001b[0mresult\u001b[0m\u001b[0;34m)\u001b[0m\u001b[0;34m\u001b[0m\u001b[0;34m\u001b[0m\u001b[0m\n",
            "\u001b[0;31mValueError\u001b[0m: substring not found"
          ]
        }
      ]
    },
    {
      "cell_type": "markdown",
      "source": [
        "#### index() With start and end Arguments"
      ],
      "metadata": {
        "id": "biWTy8jJqw1Z"
      }
    },
    {
      "cell_type": "code",
      "source": [
        "sentence = 'Python programming is fun.'\n",
        "\n",
        "# Substring is searched in 'gramming is fun.'\n",
        "print(sentence.index('ing', 10))\n",
        "\n",
        "# Substring is searched in 'gramming is '\n",
        "print(sentence.index('g is', 10, -4))\n",
        "\n",
        "# Substring is searched in 'programming'\n",
        "print(sentence.index('fun', 7, 18))"
      ],
      "metadata": {
        "colab": {
          "base_uri": "https://localhost:8080/",
          "height": 236
        },
        "id": "yMpEQKvlqxC7",
        "outputId": "a11083c8-8f4f-4850-d02a-06244cd15b05"
      },
      "execution_count": 144,
      "outputs": [
        {
          "output_type": "stream",
          "name": "stdout",
          "text": [
            "15\n",
            "17\n"
          ]
        },
        {
          "output_type": "error",
          "ename": "ValueError",
          "evalue": "ignored",
          "traceback": [
            "\u001b[0;31m---------------------------------------------------------------------------\u001b[0m",
            "\u001b[0;31mValueError\u001b[0m                                Traceback (most recent call last)",
            "\u001b[0;32m<ipython-input-144-3ac91df976e8>\u001b[0m in \u001b[0;36m<module>\u001b[0;34m()\u001b[0m\n\u001b[1;32m      8\u001b[0m \u001b[0;34m\u001b[0m\u001b[0m\n\u001b[1;32m      9\u001b[0m \u001b[0;31m# Substring is searched in 'programming'\u001b[0m\u001b[0;34m\u001b[0m\u001b[0;34m\u001b[0m\u001b[0;34m\u001b[0m\u001b[0m\n\u001b[0;32m---> 10\u001b[0;31m \u001b[0mprint\u001b[0m\u001b[0;34m(\u001b[0m\u001b[0msentence\u001b[0m\u001b[0;34m.\u001b[0m\u001b[0mindex\u001b[0m\u001b[0;34m(\u001b[0m\u001b[0;34m'fun'\u001b[0m\u001b[0;34m,\u001b[0m \u001b[0;36m7\u001b[0m\u001b[0;34m,\u001b[0m \u001b[0;36m18\u001b[0m\u001b[0;34m)\u001b[0m\u001b[0;34m)\u001b[0m\u001b[0;34m\u001b[0m\u001b[0;34m\u001b[0m\u001b[0m\n\u001b[0m",
            "\u001b[0;31mValueError\u001b[0m: substring not found"
          ]
        }
      ]
    },
    {
      "cell_type": "markdown",
      "source": [
        "<tbody><tr><th>Escape Sequence</th>\n",
        "\t\t\t\t<th>Description</th>\n",
        "\t\t\t</tr><tr><td>\\newline</td>\n",
        "\t\t\t\t<td>Backslash and newline ignored</td>\n",
        "\t\t\t</tr><tr><td>\\\\</td>\n",
        "\t\t\t\t<td>Backslash</td>\n",
        "\t\t\t</tr><tr><td>\\'</td>\n",
        "\t\t\t\t<td>Single quote</td>\n",
        "\t\t\t</tr><tr><td>\\\"</td>\n",
        "\t\t\t\t<td>Double quote</td>\n",
        "\t\t\t</tr><tr><td>\\a</td>\n",
        "\t\t\t\t<td>ASCII Bell</td>\n",
        "\t\t\t</tr><tr><td>\\b</td>\n",
        "\t\t\t\t<td>ASCII Backspace</td>\n",
        "\t\t\t</tr><tr><td>\\f</td>\n",
        "\t\t\t\t<td>ASCII Formfeed</td>\n",
        "\t\t\t</tr><tr><td>\\n</td>\n",
        "\t\t\t\t<td>ASCII Linefeed</td>\n",
        "\t\t\t</tr><tr><td>\\r</td>\n",
        "\t\t\t\t<td>ASCII Carriage Return</td>\n",
        "\t\t\t</tr><tr><td>\\t</td>\n",
        "\t\t\t\t<td>ASCII Horizontal Tab</td>\n",
        "\t\t\t</tr><tr><td>\\v</td>\n",
        "\t\t\t\t<td>ASCII Vertical Tab</td>\n",
        "\t\t\t</tr><tr><td>\\ooo</td>\n",
        "\t\t\t\t<td>Character with octal value ooo</td>\n",
        "\t\t\t</tr><tr><td>\\xHH</td>\n",
        "\t\t\t\t<td>Character with hexadecimal value HH</td>\n",
        "\t\t\t</tr></tbody>"
      ],
      "metadata": {
        "id": "hN91xSRbMTD5"
      }
    },
    {
      "cell_type": "code",
      "source": [
        "print(\"C:\\\\Python32\\\\Lib\")\n",
        "#C:\\Python32\\Lib\n",
        "\n",
        "print(\"This is printed\\nin two lines\")\n",
        "#This is printed\n",
        "#in two lines\n",
        "\n",
        "print(\"This is \\x48\\x45\\x58 representation\")\n",
        "#This is HEX representation"
      ],
      "metadata": {
        "id": "iy0JM0u7MZ15",
        "colab": {
          "base_uri": "https://localhost:8080/"
        },
        "outputId": "a334f116-ab27-4f1d-edfd-24bd5a2f17de"
      },
      "execution_count": 145,
      "outputs": [
        {
          "output_type": "stream",
          "name": "stdout",
          "text": [
            "C:\\Python32\\Lib\n",
            "This is printed\n",
            "in two lines\n",
            "This is HEX representation\n"
          ]
        }
      ]
    },
    {
      "cell_type": "code",
      "source": [
        ""
      ],
      "metadata": {
        "id": "ld3NSmyTjkdw"
      },
      "execution_count": null,
      "outputs": []
    },
    {
      "cell_type": "markdown",
      "source": [
        "## Miscellaneous String Functions\n",
        "\n",
        "\n",
        "<table class=\"tg\"><tbody><tr><th class=\"tg-s268\">Function</th><th class=\"tg-s268\">Description</th></tr><tr><td class=\"tg-md4w\"><a href=\"https://www.journaldev.com/24017/python-string-isalnum\">isalnum()</a></td><td class=\"tg-md4w\">Python string isalnum() function returns True if it’s made of alphanumeric characters only.</td></tr><tr><td class=\"tg-s268\"><a href=\"https://www.journaldev.com/24026/python-string-isalpha\">isalpha()</a></td><td class=\"tg-s268\">Python String isalpha() function returns True if all the characters in the string are alphabets, otherwise False.</td></tr><tr><td class=\"tg-md4w\"><a href=\"https://www.journaldev.com/24032/python-string-isdecimal\">isdecimal()</a></td><td class=\"tg-md4w\">Python String isdecimal() function returns True if all the characters in the string are decimal characters, otherwise False.</td></tr><tr><td class=\"tg-s268\"><a href=\"https://www.journaldev.com/24049/python-string-isdigit\">isdigit()</a></td><td class=\"tg-s268\">Python String isdigit() function returns True if all the characters in the string are digits, otherwise False.</td></tr><tr><td class=\"tg-md4w\"><a href=\"https://www.journaldev.com/24059/python-string-isidentifier\">isidentifier()</a></td><td class=\"tg-md4w\">Python String isidentifier() function returns True if the string is a valid identifier according to the Python language definition.</td></tr><tr><td class=\"tg-s268\"><a href=\"https://www.journaldev.com/24117/python-string-islower\">islower()</a></td><td class=\"tg-s268\">Python String islower() returns True if all cased characters in the string are lowercase and there is at least one cased character, otherwise it returns False.</td></tr><tr><td class=\"tg-md4w\"><a href=\"https://www.journaldev.com/24122/python-string-isnumeric\">isnumeric()</a></td><td class=\"tg-md4w\">Python String isnumeric() function returns True if all the characters in the string are numeric, otherwise False. If the string is empty, then this function returns False.</td></tr><tr><td class=\"tg-s268\"><a href=\"https://www.journaldev.com/24137/python-string-isprintable\">isprintable()</a></td><td class=\"tg-s268\">Python String isprintable() function returns True if all characters in the string are printable or the string is empty, False otherwise.</td></tr><tr><td class=\"tg-md4w\"><a href=\"https://www.journaldev.com/24255/python-string-isspace\">isspace()</a></td><td class=\"tg-md4w\">Python String isspace() function returns True if there are only whitespace characters in the string, otherwise it returns False.</td></tr><tr><td class=\"tg-s268\"><a href=\"https://www.journaldev.com/24263/python-string-istitle\">istitle()</a></td><td class=\"tg-s268\">Python String istitle() returns True if the string is title cased and not empty, otherwise it returns False.</td></tr><tr><td class=\"tg-md4w\"><a href=\"https://www.journaldev.com/24273/python-string-isupper\">isupper()</a></td><td class=\"tg-md4w\">Python String isupper() function returns True if all the cased characters are in Uppercase.</td></tr><tr><td class=\"tg-s268\"><a href=\"https://www.journaldev.com/24393/python-string-rjust-ljust\">rjust(), ljust()</a></td><td class=\"tg-s268\">Utility functions to create a new string of specified length from the source string with right and left justification.</td></tr><tr><td class=\"tg-md4w\"><a href=\"https://www.journaldev.com/24413/python-string-swapcase\">swapcase()</a></td><td class=\"tg-md4w\">Python String swapcase() function returns a new string with uppercase characters converted to lowercase and vice versa.</td></tr><tr><td class=\"tg-s268\"><a href=\"https://www.journaldev.com/24420/python-string-partition-rpartition\">partition()</a></td><td class=\"tg-s268\">Python String partition() function splits a string based on a separator into a tuple with three strings.</td></tr><tr><td class=\"tg-md4w\"><a href=\"https://www.journaldev.com/24530/python-string-splitlines\">splitlines()</a></td><td class=\"tg-md4w\">Python String splitlines() function returns the list of lines in the string.</td></tr><tr><td class=\"tg-s268\"><a href=\"https://www.journaldev.com/24537/python-string-title\">title()</a></td><td class=\"tg-s268\">Python String title() function returns a title cased version of the string.</td></tr><tr><td class=\"tg-md4w\"><a href=\"https://www.journaldev.com/24546/python-string-zfill\">zfill()</a></td><td class=\"tg-md4w\">Python String zfill(width) function returns a new string of specified width. The string is filled with 0 on the left side to create the specified width.</td></tr></tbody></table>"
      ],
      "metadata": {
        "id": "s0o4CF17ESuD"
      }
    },
    {
      "cell_type": "markdown",
      "source": [
        "### `string.isalnum()`\n",
        "\n",
        "returns True if all characters in the string are alphanumeric (either alphabets or numbers). If not, it returns False."
      ],
      "metadata": {
        "id": "VXzNRdygrfB_"
      }
    },
    {
      "cell_type": "code",
      "source": [
        "name = \"M234onica\"\n",
        "print(name.isalnum())\n",
        "\n",
        "# contains whitespace\n",
        "name = \"M3onica Gell22er \"\n",
        "print(name.isalnum())\n",
        "\n",
        "name = \"Mo3nicaGell22er\"\n",
        "print(name.isalnum())\n",
        "\n",
        "name = \"133\"\n",
        "print(name.isalnum())"
      ],
      "metadata": {
        "colab": {
          "base_uri": "https://localhost:8080/"
        },
        "id": "pzc8pZVnroJH",
        "outputId": "344817e9-9e88-434a-f8e3-4fa5dccaaf17"
      },
      "execution_count": 146,
      "outputs": [
        {
          "output_type": "stream",
          "name": "stdout",
          "text": [
            "True\n",
            "False\n",
            "True\n",
            "True\n"
          ]
        }
      ]
    },
    {
      "cell_type": "code",
      "source": [
        "name = \"M0n1caG3ll3r\"\n",
        "\n",
        "if name.isalnum() == True:\n",
        "   print(\"All characters of string (name) are alphanumeric.\")\n",
        "else:\n",
        "    print(\"All characters are not alphanumeric.\")"
      ],
      "metadata": {
        "colab": {
          "base_uri": "https://localhost:8080/"
        },
        "id": "Iy_a8BPIrq1e",
        "outputId": "905b8ad2-ba28-47b8-aa83-64d944f9d786"
      },
      "execution_count": 147,
      "outputs": [
        {
          "output_type": "stream",
          "name": "stdout",
          "text": [
            "All characters of string (name) are alphanumeric.\n"
          ]
        }
      ]
    },
    {
      "cell_type": "markdown",
      "source": [
        "### `string.isalpha()`\n",
        "\n",
        "returns True if all characters in the string are alphabets. If not, it returns False."
      ],
      "metadata": {
        "id": "Pmt6mHe3sevv"
      }
    },
    {
      "cell_type": "code",
      "source": [
        "name = \"Monica\"\n",
        "print(name.isalpha())\n",
        "\n",
        "# contains whitespace\n",
        "name = \"Monica Geller\"\n",
        "print(name.isalpha())\n",
        "\n",
        "# contains number\n",
        "name = \"Mo3nicaGell22er\"\n",
        "print(name.isalpha())"
      ],
      "metadata": {
        "colab": {
          "base_uri": "https://localhost:8080/"
        },
        "id": "YEeLnq_ksmM3",
        "outputId": "58fb4985-8a6b-4b01-e71c-79a7541bf169"
      },
      "execution_count": 148,
      "outputs": [
        {
          "output_type": "stream",
          "name": "stdout",
          "text": [
            "True\n",
            "False\n",
            "False\n"
          ]
        }
      ]
    },
    {
      "cell_type": "code",
      "source": [
        "name = \"MonicaGeller\"\n",
        "\n",
        "if name.isalpha() == True:\n",
        "   print(\"All characters are alphabets\")\n",
        "else:\n",
        "    print(\"All characters are not alphabets.\")"
      ],
      "metadata": {
        "colab": {
          "base_uri": "https://localhost:8080/"
        },
        "id": "fdXYXUPlspDb",
        "outputId": "90ad6e7d-9c9f-402a-c5ef-40ad48cd7578"
      },
      "execution_count": 149,
      "outputs": [
        {
          "output_type": "stream",
          "name": "stdout",
          "text": [
            "All characters are alphabets\n"
          ]
        }
      ]
    },
    {
      "cell_type": "markdown",
      "source": [
        "### `string.isdecimal()`\n",
        "\n",
        "returns True if all characters in a string are decimal characters. If not, it returns False."
      ],
      "metadata": {
        "id": "FmpwIx0Gsu3e"
      }
    },
    {
      "cell_type": "code",
      "source": [
        "s = \"28212\"\n",
        "print(s.isdecimal())\n",
        "\n",
        "# contains alphabets\n",
        "s = \"32ladk3\"\n",
        "print(s.isdecimal())\n",
        "\n",
        "# contains alphabets and spaces\n",
        "s = \"Mo3 nicaG el l22er\"\n",
        "print(s.isdecimal())"
      ],
      "metadata": {
        "colab": {
          "base_uri": "https://localhost:8080/"
        },
        "id": "8poBIMVhs1ym",
        "outputId": "e216afde-0012-4d04-f633-6c5585e0f109"
      },
      "execution_count": 150,
      "outputs": [
        {
          "output_type": "stream",
          "name": "stdout",
          "text": [
            "True\n",
            "False\n",
            "False\n"
          ]
        }
      ]
    },
    {
      "cell_type": "code",
      "source": [
        "s = '23455'\n",
        "print(s.isdecimal())\n",
        "\n",
        "#s = '²3455'\n",
        "s = '\\u00B23455'\n",
        "print(s.isdecimal())\n",
        "\n",
        "# s = '½'\n",
        "s = '\\u00BD'\n",
        "print(s.isdecimal())\n"
      ],
      "metadata": {
        "colab": {
          "base_uri": "https://localhost:8080/"
        },
        "id": "dEcP42EDs4yi",
        "outputId": "14a9d5ec-5034-4deb-84c6-f34bf690537d"
      },
      "execution_count": 151,
      "outputs": [
        {
          "output_type": "stream",
          "name": "stdout",
          "text": [
            "True\n",
            "False\n",
            "False\n"
          ]
        }
      ]
    },
    {
      "cell_type": "markdown",
      "source": [
        "### `string.isdigit()`\n",
        "\n",
        "returns True if all characters in a string are digits. If not, it returns False."
      ],
      "metadata": {
        "id": "ZCFuA9_os9DO"
      }
    },
    {
      "cell_type": "code",
      "source": [
        "str1 = '342'\n",
        "print(str1.isdigit())\n",
        "\n",
        "str2 = 'python'\n",
        "print(str2.isdigit())\n",
        "\n",
        "# Output: True\n",
        "#         False"
      ],
      "metadata": {
        "colab": {
          "base_uri": "https://localhost:8080/"
        },
        "id": "zkvrpP3btDIW",
        "outputId": "2cde97c2-e35e-4494-c4eb-3123613129ce"
      },
      "execution_count": 152,
      "outputs": [
        {
          "output_type": "stream",
          "name": "stdout",
          "text": [
            "True\n",
            "False\n"
          ]
        }
      ]
    },
    {
      "cell_type": "code",
      "source": [
        "s = \"28212\"\n",
        "print(s.isdigit())\n",
        "\n",
        "# contains alphabets and spaces\n",
        "s = \"Mo3 nicaG el l22er\"\n",
        "print(s.isdigit())"
      ],
      "metadata": {
        "colab": {
          "base_uri": "https://localhost:8080/"
        },
        "id": "MbwhevvDtF2U",
        "outputId": "18171474-d9b4-4b06-e13e-bd26965d0206"
      },
      "execution_count": 153,
      "outputs": [
        {
          "output_type": "stream",
          "name": "stdout",
          "text": [
            "True\n",
            "False\n"
          ]
        }
      ]
    },
    {
      "cell_type": "markdown",
      "source": [
        "#### String Containing digits and Numeric Characters"
      ],
      "metadata": {
        "id": "JdxCht8ftTC_"
      }
    },
    {
      "cell_type": "code",
      "source": [
        "s = '23455'\n",
        "print(s.isdigit())\n",
        "\n",
        "#s = '²3455'\n",
        "# subscript is a digit\n",
        "s = '\\u00B23455'\n",
        "print(s.isdigit())\n",
        "\n",
        "# s = '½'\n",
        "# fraction is not a digit\n",
        "s = '\\u00BD'\n",
        "print(s.isdigit())"
      ],
      "metadata": {
        "colab": {
          "base_uri": "https://localhost:8080/"
        },
        "id": "MrZVDFMGtJPe",
        "outputId": "73587af8-4638-48e1-9c64-cf1f49fc82a7"
      },
      "execution_count": 154,
      "outputs": [
        {
          "output_type": "stream",
          "name": "stdout",
          "text": [
            "True\n",
            "True\n",
            "False\n"
          ]
        }
      ]
    },
    {
      "cell_type": "markdown",
      "source": [
        "### `string.isidentifier()`\n",
        "\n",
        "returns True if the string is a valid identifier in Python. If not, it returns False."
      ],
      "metadata": {
        "id": "ceA6wgFWtYi2"
      }
    },
    {
      "cell_type": "code",
      "source": [
        "str = 'Python'\n",
        "print(str.isidentifier())\n",
        "\n",
        "str = 'Py thon'\n",
        "print(str.isidentifier())\n",
        "\n",
        "str = '22Python'\n",
        "print(str.isidentifier())\n",
        "\n",
        "str = ''\n",
        "print(str.isidentifier())"
      ],
      "metadata": {
        "colab": {
          "base_uri": "https://localhost:8080/"
        },
        "id": "06s4IEXitfC-",
        "outputId": "e9ab9033-c95f-4ee9-a535-09bfd9e1ac72"
      },
      "execution_count": 155,
      "outputs": [
        {
          "output_type": "stream",
          "name": "stdout",
          "text": [
            "True\n",
            "False\n",
            "False\n",
            "False\n"
          ]
        }
      ]
    },
    {
      "cell_type": "code",
      "source": [
        "str = 'root33'\n",
        "if str.isidentifier() == True:\n",
        "  print(str, 'is a valid identifier.')\n",
        "else:\n",
        "  print(str, 'is not a valid identifier.')\n",
        "  \n",
        "str = '33root'\n",
        "if str.isidentifier() == True:\n",
        "  print(str, 'is a valid identifier.')\n",
        "else:\n",
        "  print(str, 'is not a valid identifier.')\n",
        "  \n",
        "str = 'root 33'\n",
        "if str.isidentifier() == True:\n",
        "  print(str, 'is a valid identifier.')\n",
        "else:\n",
        "  print(str, 'is not a valid identifier.')"
      ],
      "metadata": {
        "colab": {
          "base_uri": "https://localhost:8080/"
        },
        "id": "PC21FAS1th17",
        "outputId": "99d19a00-f8b8-404a-8139-2bf6eab588f3"
      },
      "execution_count": 156,
      "outputs": [
        {
          "output_type": "stream",
          "name": "stdout",
          "text": [
            "root33 is a valid identifier.\n",
            "33root is not a valid identifier.\n",
            "root 33 is not a valid identifier.\n"
          ]
        }
      ]
    },
    {
      "cell_type": "markdown",
      "source": [
        "### `string.islower()`\n",
        "\n",
        "returns True if all alphabets in a string are lowercase alphabets. If the string contains at least one uppercase alphabet, it returns False."
      ],
      "metadata": {
        "id": "wL5f0fi2tmVM"
      }
    },
    {
      "cell_type": "code",
      "source": [
        "s = 'this is good'\n",
        "print(s.islower())\n",
        "\n",
        "s = 'th!s is a1so g00d'\n",
        "print(s.islower())\n",
        "\n",
        "s = 'this is Not good'\n",
        "print(s.islower())"
      ],
      "metadata": {
        "colab": {
          "base_uri": "https://localhost:8080/"
        },
        "id": "PQsI9yBIts1J",
        "outputId": "744a4d12-dc3a-414c-cecc-dfa559f40cbc"
      },
      "execution_count": 157,
      "outputs": [
        {
          "output_type": "stream",
          "name": "stdout",
          "text": [
            "True\n",
            "True\n",
            "False\n"
          ]
        }
      ]
    },
    {
      "cell_type": "code",
      "source": [
        "s = 'this is good'\n",
        "if s.islower() == True:\n",
        "  print('Does not contain uppercase letter.')\n",
        "else:\n",
        "  print('Contains uppercase letter.')\n",
        "  \n",
        "s = 'this is Good'\n",
        "if s.islower() == True:\n",
        "  print('Does not contain uppercase letter.')\n",
        "else:\n",
        "  print('Contains uppercase letter.')"
      ],
      "metadata": {
        "colab": {
          "base_uri": "https://localhost:8080/"
        },
        "id": "hGiIXYeVtvK4",
        "outputId": "c7e2ccaa-7cdf-4483-c969-2aca43f6df55"
      },
      "execution_count": 158,
      "outputs": [
        {
          "output_type": "stream",
          "name": "stdout",
          "text": [
            "Does not contain uppercase letter.\n",
            "Contains uppercase letter.\n"
          ]
        }
      ]
    },
    {
      "cell_type": "markdown",
      "source": [
        "### `string.isupper()`\n",
        "\n",
        "returns whether or not all characters in a string are uppercased or not."
      ],
      "metadata": {
        "id": "FA1E78_yt3do"
      }
    },
    {
      "cell_type": "code",
      "source": [
        "# example string\n",
        "string = \"THIS IS GOOD!\"\n",
        "print(string.isupper());\n",
        "\n",
        "# numbers in place of alphabets\n",
        "string = \"THIS IS ALSO G00D!\"\n",
        "print(string.isupper());\n",
        "\n",
        "# lowercase string\n",
        "string = \"THIS IS not GOOD!\"\n",
        "print(string.isupper());"
      ],
      "metadata": {
        "colab": {
          "base_uri": "https://localhost:8080/"
        },
        "id": "n1w22pC9t9m6",
        "outputId": "6bc9b781-d88c-4f86-a10b-7f36c16539ef"
      },
      "execution_count": 159,
      "outputs": [
        {
          "output_type": "stream",
          "name": "stdout",
          "text": [
            "True\n",
            "True\n",
            "False\n"
          ]
        }
      ]
    },
    {
      "cell_type": "code",
      "source": [
        "string = 'THIS IS GOOD'\n",
        "if string.isupper() == True:\n",
        "  print('Does not contain lowercase letter.')\n",
        "else:\n",
        "  print('Contains lowercase letter.')\n",
        "  \n",
        "string = 'THIS IS gOOD'\n",
        "if string.isupper() == True:\n",
        "  print('Does not contain lowercase letter.')\n",
        "else:\n",
        "  print('Contains lowercase letter.')"
      ],
      "metadata": {
        "colab": {
          "base_uri": "https://localhost:8080/"
        },
        "id": "fh5Hkv3Zt_2t",
        "outputId": "cef92b13-8233-4386-d6b7-15b4260c832b"
      },
      "execution_count": 160,
      "outputs": [
        {
          "output_type": "stream",
          "name": "stdout",
          "text": [
            "Does not contain lowercase letter.\n",
            "Contains lowercase letter.\n"
          ]
        }
      ]
    },
    {
      "cell_type": "markdown",
      "source": [
        "### `string.isnumeric()`\n",
        "\n",
        "returns True if all characters in a string are numeric characters. If not, it returns False."
      ],
      "metadata": {
        "id": "vllDofFAuKa0"
      }
    },
    {
      "cell_type": "code",
      "source": [
        "s = '1242323'\n",
        "print(s.isnumeric())\n",
        "\n",
        "#s = '²3455'\n",
        "s = '\\u00B23455'\n",
        "print(s.isnumeric())\n",
        "\n",
        "# s = '½'\n",
        "s = '\\u00BD'\n",
        "print(s.isnumeric())\n",
        "\n",
        "s = '1242323'\n",
        "s='python12'\n",
        "print(s.isnumeric())"
      ],
      "metadata": {
        "colab": {
          "base_uri": "https://localhost:8080/"
        },
        "id": "SzxaX6V2uRJm",
        "outputId": "71a422ee-9047-44ea-ce04-981ccd9965b0"
      },
      "execution_count": 161,
      "outputs": [
        {
          "output_type": "stream",
          "name": "stdout",
          "text": [
            "True\n",
            "True\n",
            "True\n",
            "False\n"
          ]
        }
      ]
    },
    {
      "cell_type": "code",
      "source": [
        "#s = '²3455'\n",
        "s = '\\u00B23455'\n",
        "\n",
        "if s.isnumeric() == True:\n",
        "  print('All characters are numeric.')\n",
        "else:\n",
        "  print('All characters are not numeric.')"
      ],
      "metadata": {
        "colab": {
          "base_uri": "https://localhost:8080/"
        },
        "id": "ZkgqkZytuTaw",
        "outputId": "b5c7103f-be24-4127-f0a7-5fdbe6b330eb"
      },
      "execution_count": 162,
      "outputs": [
        {
          "output_type": "stream",
          "name": "stdout",
          "text": [
            "All characters are numeric.\n"
          ]
        }
      ]
    },
    {
      "cell_type": "markdown",
      "source": [
        "### `string.isprintable()`\n",
        "\n",
        "returns True if all characters in the string are printable or the string is empty. If not, it returns False.\n",
        "\n",
        "Characters that occupy printing space on the screen are known as printable characters. For example:\n",
        "\n",
        "* letters and symbols\n",
        "* digits\n",
        "* punctuation\n",
        "* whitespace"
      ],
      "metadata": {
        "id": "Mr4FfoqquYYH"
      }
    },
    {
      "cell_type": "code",
      "source": [
        "s = 'Space is a printable'\n",
        "print(s)\n",
        "print(s.isprintable())\n",
        "\n",
        "s = '\\nNew Line is printable'\n",
        "print(s)\n",
        "print(s.isprintable())\n",
        "\n",
        "s = ''\n",
        "print('\\nEmpty string printable?', s.isprintable())"
      ],
      "metadata": {
        "colab": {
          "base_uri": "https://localhost:8080/"
        },
        "id": "p23zMufPuTqs",
        "outputId": "60b98991-c5d7-4ea3-fa10-117d94da5432"
      },
      "execution_count": 163,
      "outputs": [
        {
          "output_type": "stream",
          "name": "stdout",
          "text": [
            "Space is a printable\n",
            "True\n",
            "\n",
            "New Line is printable\n",
            "False\n",
            "\n",
            "Empty string printable? True\n"
          ]
        }
      ]
    },
    {
      "cell_type": "code",
      "source": [
        "# written using ASCII\n",
        "# chr(27) is escape character\n",
        "# char(97) is letter 'a'\n",
        "s = chr(27) + chr(97)\n",
        "\n",
        "if s.isprintable() == True:\n",
        "  print('Printable')\n",
        "else:\n",
        "  print('Not Printable')\n",
        "  \n",
        "s = '2+2 = 4'\n",
        "\n",
        "if s.isprintable() == True:\n",
        "  print('Printable')\n",
        "else:\n",
        "  print('Not Printable')"
      ],
      "metadata": {
        "colab": {
          "base_uri": "https://localhost:8080/"
        },
        "id": "9EhjD3MBumSD",
        "outputId": "4ef2706c-0832-4fac-b38d-997d4274a403"
      },
      "execution_count": 164,
      "outputs": [
        {
          "output_type": "stream",
          "name": "stdout",
          "text": [
            "Not Printable\n",
            "Printable\n"
          ]
        }
      ]
    },
    {
      "cell_type": "markdown",
      "source": [
        "### `string.isspace()`\n",
        "\n",
        "returns True if there are only whitespace characters in the string. If not, it return False.\n",
        "\n"
      ],
      "metadata": {
        "id": "oKXT2WvNuq-i"
      }
    },
    {
      "cell_type": "code",
      "source": [
        "s = '   \\t'\n",
        "print(s.isspace())\n",
        "\n",
        "s = ' a '\n",
        "print(s.isspace())\n",
        "\n",
        "s = ''\n",
        "print(s.isspace())"
      ],
      "metadata": {
        "colab": {
          "base_uri": "https://localhost:8080/"
        },
        "id": "7AFm5WQiuxDL",
        "outputId": "e36c6d55-449f-48c8-ea3d-3d3734da6f8f"
      },
      "execution_count": 165,
      "outputs": [
        {
          "output_type": "stream",
          "name": "stdout",
          "text": [
            "True\n",
            "False\n",
            "False\n"
          ]
        }
      ]
    },
    {
      "cell_type": "code",
      "source": [
        "s = '\\t  \\n'\n",
        "if s.isspace() == True:\n",
        "  print('All whitespace characters')\n",
        "else:\n",
        "  print('Contains non-whitespace characters')\n",
        "  \n",
        "s = '2+2 = 4'\n",
        "\n",
        "if s.isspace() == True:\n",
        "  print('All whitespace characters')\n",
        "else:\n",
        "  print('Contains non-whitespace characters.')"
      ],
      "metadata": {
        "colab": {
          "base_uri": "https://localhost:8080/"
        },
        "id": "PvX2wZmQuzXn",
        "outputId": "2a4b6dc8-2660-4043-8f0f-cf756866bdd3"
      },
      "execution_count": 166,
      "outputs": [
        {
          "output_type": "stream",
          "name": "stdout",
          "text": [
            "All whitespace characters\n",
            "Contains non-whitespace characters.\n"
          ]
        }
      ]
    },
    {
      "cell_type": "markdown",
      "source": [
        "### Syntax: `str.title()`\n",
        "\n",
        "returns a string with first letter of each word capitalized; a title cased string."
      ],
      "metadata": {
        "id": "ml0Wyty7Wk-K"
      }
    },
    {
      "cell_type": "markdown",
      "source": [
        "### title() with apostrophes"
      ],
      "metadata": {
        "id": "R02goOtWW4Ke"
      }
    },
    {
      "cell_type": "code",
      "source": [
        "text = \"He's an engineer, isn't he?\"\n",
        "print(text.title())\n"
      ],
      "metadata": {
        "colab": {
          "base_uri": "https://localhost:8080/"
        },
        "id": "RIfffq-UW4c1",
        "outputId": "56538eba-253e-42b5-f80e-f3f3736f0c54"
      },
      "execution_count": 167,
      "outputs": [
        {
          "output_type": "stream",
          "name": "stdout",
          "text": [
            "He'S An Engineer, Isn'T He?\n"
          ]
        }
      ]
    },
    {
      "cell_type": "markdown",
      "source": [
        "### `string.istitle()`\n",
        "\n",
        "returns True if the string is a titlecased string. If not, it returns False."
      ],
      "metadata": {
        "id": "QBxaXljQu82c"
      }
    },
    {
      "cell_type": "code",
      "source": [
        "s = 'Python Is Good.'\n",
        "print(s.istitle())\n",
        "\n",
        "s = 'Python is good'\n",
        "print(s.istitle())\n",
        "\n",
        "s = 'This Is @ Symbol.'\n",
        "print(s.istitle())\n",
        "\n",
        "s = '99 Is A Number'\n",
        "print(s.istitle())\n",
        "\n",
        "s = 'PYTHON'\n",
        "print(s.istitle())"
      ],
      "metadata": {
        "colab": {
          "base_uri": "https://localhost:8080/"
        },
        "id": "-dhR_E_7vEYj",
        "outputId": "8cdf7ba6-2381-4e5c-eef2-76348ea2efdf"
      },
      "execution_count": 168,
      "outputs": [
        {
          "output_type": "stream",
          "name": "stdout",
          "text": [
            "True\n",
            "False\n",
            "True\n",
            "True\n",
            "False\n"
          ]
        }
      ]
    },
    {
      "cell_type": "code",
      "source": [
        "s = 'I Love Python.'\n",
        "if s.istitle() == True:\n",
        "  print('Titlecased String')\n",
        "else:\n",
        "  print('Not a Titlecased String')\n",
        "  \n",
        "s = 'PYthon'\n",
        "if s.istitle() == True:\n",
        "  print('Titlecased String')\n",
        "else:\n",
        "  print('Not a Titlecased String')"
      ],
      "metadata": {
        "colab": {
          "base_uri": "https://localhost:8080/"
        },
        "id": "UBjVjq7jvG1D",
        "outputId": "bbaa878a-14b6-46f9-8415-86c7aeb3f3cd"
      },
      "execution_count": 169,
      "outputs": [
        {
          "output_type": "stream",
          "name": "stdout",
          "text": [
            "Titlecased String\n",
            "Not a Titlecased String\n"
          ]
        }
      ]
    },
    {
      "cell_type": "markdown",
      "source": [
        "### zfill() works with Sign Prefix"
      ],
      "metadata": {
        "id": "y-aez2qSXgn5"
      }
    },
    {
      "cell_type": "code",
      "source": [
        "number = \"-290\"\n",
        "print(number.zfill(8))\n",
        "\n",
        "number = \"+290\"\n",
        "print(number.zfill(8))\n",
        "\n",
        "text = \"--random+text\"\n",
        "print(text.zfill(20))"
      ],
      "metadata": {
        "colab": {
          "base_uri": "https://localhost:8080/"
        },
        "id": "7wDtA1QDXgyn",
        "outputId": "e6b677f4-dbb4-42f3-97a8-9d8de14edadb"
      },
      "execution_count": 170,
      "outputs": [
        {
          "output_type": "stream",
          "name": "stdout",
          "text": [
            "-0000290\n",
            "+0000290\n",
            "-0000000-random+text\n"
          ]
        }
      ]
    },
    {
      "cell_type": "code",
      "source": [
        "text = 'My favorite number is 25.'\n",
        "print(text.title())\n",
        "\n",
        "text = '234 k3l2 *43 fun'\n",
        "print(text.title())"
      ],
      "metadata": {
        "colab": {
          "base_uri": "https://localhost:8080/"
        },
        "id": "a6t2fK9NWyd_",
        "outputId": "15d12dff-7b71-42be-8e56-dca9d63906c6"
      },
      "execution_count": 171,
      "outputs": [
        {
          "output_type": "stream",
          "name": "stdout",
          "text": [
            "My Favorite Number Is 25.\n",
            "234 K3L2 *43 Fun\n"
          ]
        }
      ]
    },
    {
      "cell_type": "markdown",
      "source": [
        "### Syntax: `str.zfill(width)`\n",
        "\n",
        "returns a copy of the string with '0' characters padded to the left.\n",
        "\n",
        "### Example:"
      ],
      "metadata": {
        "id": "R3o0QAzeXMgx"
      }
    },
    {
      "cell_type": "code",
      "source": [
        "text = \"program is fun\"\n",
        "print(text.zfill(15))\n",
        "print(text.zfill(20))\n",
        "print(text.zfill(10))"
      ],
      "metadata": {
        "colab": {
          "base_uri": "https://localhost:8080/"
        },
        "id": "lMO_WYmbXMwK",
        "outputId": "be549b28-97be-4e89-dfc4-8b0c5a63a9b2"
      },
      "execution_count": 172,
      "outputs": [
        {
          "output_type": "stream",
          "name": "stdout",
          "text": [
            "0program is fun\n",
            "000000program is fun\n",
            "program is fun\n"
          ]
        }
      ]
    },
    {
      "cell_type": "markdown",
      "source": [
        "## Built-in Functions that work on String\n",
        "\n",
        "\n",
        "<table class=\"tg\"><tbody><tr><th class=\"tg-s268\">Function</th><th class=\"tg-s268\">Description</th></tr><tr><td class=\"tg-md4w\"><a href=\"https://www.journaldev.com/23631/find-string-length-in-python\">len()</a></td><td class=\"tg-md4w\">Python String length can be determined by using built-in len() function.</td></tr><tr><td class=\"tg-s268\"><a href=\"https://www.journaldev.com/22644/python-ascii\">ascii()</a></td><td class=\"tg-s268\">Python ascii() function returns the string representation of the object. This function internally calls repr() function and before returning the representation string, escapes the non-ASCII characters using \\x, \\u or \\U escapes.</td></tr><tr><td class=\"tg-md4w\"><a href=\"https://www.journaldev.com/22669/python-bool\">bool()</a></td><td class=\"tg-md4w\">Python bool() function returns Boolean value for an object. The bool class has only two instances – True and False.</td></tr><tr><td class=\"tg-s268\"><a href=\"https://www.journaldev.com/22703/python-bytearray\">bytearray()</a></td><td class=\"tg-s268\">Python bytearray() function returns a bytearray object that contains the array of bytes from the input source.</td></tr><tr><td class=\"tg-md4w\"><a href=\"https://www.journaldev.com/22747/python-bytes\">bytes()</a></td><td class=\"tg-md4w\">This function returns bytes object that is an immutable sequence of integers in the range 0 &lt;= x &lt; 256.</td></tr><tr><td class=\"tg-s268\"><a href=\"https://www.journaldev.com/22767/python-ord-chr\">ord()</a></td><td class=\"tg-s268\">Python ord() function takes string argument of a single Unicode character and return its integer Unicode code point value.</td></tr><tr><td class=\"tg-md4w\"><a href=\"https://www.journaldev.com/15082/python-enumerate\">enumerate()</a></td><td class=\"tg-md4w\">Python enumerate function takes a sequence, and then make each element of the sequence into a tuple.</td></tr><tr><td class=\"tg-s268\"><a href=\"https://www.journaldev.com/15178/python-float\">float()</a></td><td class=\"tg-s268\">As the name says, python float() function returns a floating point number from the input argument.</td></tr><tr><td class=\"tg-md4w\"><a href=\"https://www.journaldev.com/17357/python-hash-function\">hash()</a></td><td class=\"tg-md4w\">This function returns the hash value of the given object.</td></tr><tr><td class=\"tg-s268\"><a href=\"https://www.journaldev.com/22925/python-id\">id()</a></td><td class=\"tg-s268\">Python id() function returns the “identity” of the object. The identity of an object is an integer, which is guaranteed to be unique and constant for this object during its lifetime.</td></tr><tr><td class=\"tg-md4w\"><a href=\"https://www.journaldev.com/22929/python-int\">int()</a></td><td class=\"tg-md4w\">Python int() function returns an integer object from the specified input. The returned int object will always be in base 10.</td></tr><tr><td class=\"tg-s268\"><a href=\"https://www.journaldev.com/22960/python-map-function\">map()</a></td><td class=\"tg-s268\">Python map() function is used to apply a function on all the elements of specified iterable and return map object.</td></tr><tr><td class=\"tg-md4w\"><a href=\"https://www.journaldev.com/15182/python-print\">print()</a></td><td class=\"tg-md4w\">Python print() function is used to print data into console.</td></tr><tr><td class=\"tg-s268\"><a href=\"https://www.journaldev.com/23139/python-slice\">slice()</a></td><td class=\"tg-s268\">Python slice() function returns a slice object representing the set of indices specified by range(start, stop, step).</td></tr><tr><td class=\"tg-md4w\"><a href=\"https://www.journaldev.com/15076/python-type\">type()</a></td><td class=\"tg-md4w\">This function returns the type of the object.</td></tr></tbody></table>"
      ],
      "metadata": {
        "id": "ukLzS49lEbhm"
      }
    },
    {
      "cell_type": "markdown",
      "source": [
        "## Common String Operations\n"
      ],
      "metadata": {
        "id": "dNZC__DPA9Kw"
      }
    },
    {
      "cell_type": "markdown",
      "source": [
        "### Built-in functions to Work with Python\n",
        "Almost all built-in functions that work with sequence work with strings as well.\n",
        "\n"
      ],
      "metadata": {
        "id": "aZir9oClL4Bt"
      }
    },
    {
      "cell_type": "markdown",
      "source": [
        "### Raw String to ignore escape sequence\n"
      ],
      "metadata": {
        "id": "0h-plwWvMkFh"
      }
    },
    {
      "cell_type": "code",
      "source": [
        "print(\"This is \\x61 \\ngood example\")\n",
        "#This is a\n",
        "#good example\n",
        "print(r\"This is \\x61 \\ngood example\")\n",
        "#This is \\x61 \\ngood example"
      ],
      "metadata": {
        "id": "1g6je2p7MnUI",
        "colab": {
          "base_uri": "https://localhost:8080/"
        },
        "outputId": "6182c574-5604-4973-f4bf-73dda45b28f8"
      },
      "execution_count": 173,
      "outputs": [
        {
          "output_type": "stream",
          "name": "stdout",
          "text": [
            "This is a \n",
            "good example\n",
            "This is \\x61 \\ngood example\n"
          ]
        }
      ]
    },
    {
      "cell_type": "markdown",
      "source": [
        "### `str.islower()`: returns true if all characters in the string are lowercase, false otherwise."
      ],
      "metadata": {
        "id": "Fp-6iHbyBS0x"
      }
    },
    {
      "cell_type": "code",
      "execution_count": 174,
      "metadata": {
        "id": "eQBYaFqJ-Ie_",
        "colab": {
          "base_uri": "https://localhost:8080/"
        },
        "outputId": "e5dc6c13-b856-4389-b048-c5a7ae91f791"
      },
      "outputs": [
        {
          "output_type": "stream",
          "name": "stdout",
          "text": [
            "no not in lower case.\n"
          ]
        }
      ],
      "source": [
        "snack = '20cooKie'\n",
        "result = snack.islower()\n",
        "if result == True:\n",
        "  print(\"Yes\")\n",
        "else:\n",
        "  print(\"no not in lower case.\")"
      ]
    },
    {
      "cell_type": "markdown",
      "source": [
        "### `str.find(substring)`: returns the lowest index in the string where the substring is found. "
      ],
      "metadata": {
        "id": "Oan7MWflBd6C"
      }
    },
    {
      "cell_type": "markdown",
      "source": [
        "### `str.isspace()`: returns True if there are only whitespace characters in the string, false otherwise."
      ],
      "metadata": {
        "id": "LY30WkjNBwCC"
      }
    },
    {
      "cell_type": "code",
      "source": [
        "str_space = '   '\n",
        "print(\"str_space: \", str_space.isspace())\n",
        "\n",
        "str_tab = '\\t'\n",
        "\n",
        "print(\"tab: \", str_tab.isspace())\n",
        "str_nextline = '''\\n'''\n",
        "print(\"next line: \",str_nextline.isspace())"
      ],
      "metadata": {
        "id": "P_-4lZScB4jw",
        "colab": {
          "base_uri": "https://localhost:8080/"
        },
        "outputId": "76e839c0-f89b-4f69-efa2-405c9735af86"
      },
      "execution_count": 175,
      "outputs": [
        {
          "output_type": "stream",
          "name": "stdout",
          "text": [
            "str_space:  True\n",
            "tab:  True\n",
            "next line:  True\n"
          ]
        }
      ]
    },
    {
      "cell_type": "markdown",
      "source": [
        "### `str.lstrip()`: removes all leading whitespace in string. "
      ],
      "metadata": {
        "id": "Y1eSuR48CD07"
      }
    },
    {
      "cell_type": "code",
      "source": [
        "str1 = \" I can't hear you. Are you alright? \"\n",
        "str2 = \" Yes, all is good.\"\n",
        "str3 = str1.lstrip() + str2.lstrip()\n",
        "print(str3)\n",
        "print(str3[0])"
      ],
      "metadata": {
        "id": "frXgS7gjCHYw",
        "colab": {
          "base_uri": "https://localhost:8080/"
        },
        "outputId": "0e6a1d3d-e26b-4efc-80b9-673b8e407bf8"
      },
      "execution_count": 176,
      "outputs": [
        {
          "output_type": "stream",
          "name": "stdout",
          "text": [
            "I can't hear you. Are you alright? Yes, all is good.\n",
            "I\n"
          ]
        }
      ]
    },
    {
      "cell_type": "markdown",
      "source": [
        "### `str.isdigit()`: returns True if string contains only digits and False otherwise."
      ],
      "metadata": {
        "id": "F-CBHMn2CKwo"
      }
    },
    {
      "cell_type": "code",
      "source": [
        "number_string = \"1020a304050\"\n",
        "number_string.isdigit()"
      ],
      "metadata": {
        "id": "o_OjLF21COO4",
        "colab": {
          "base_uri": "https://localhost:8080/"
        },
        "outputId": "283a1c4f-ef04-4f85-b8b9-50b7fcef04f2"
      },
      "execution_count": 177,
      "outputs": [
        {
          "output_type": "execute_result",
          "data": {
            "text/plain": [
              "False"
            ]
          },
          "metadata": {},
          "execution_count": 177
        }
      ]
    },
    {
      "cell_type": "markdown",
      "source": [
        "### `str.replace(substring, new)`: replaces all occurrences of the substring in string with new."
      ],
      "metadata": {
        "id": "BrXc2O9RCRa_"
      }
    },
    {
      "cell_type": "code",
      "source": [
        "string1 = 'hip hip hurray! hip hip hurray! hip hip hurray!'\n",
        "string2 = string1.replace('hip', 'Hip')\n",
        "print(string1)\n",
        "print(string2)"
      ],
      "metadata": {
        "id": "mDtrOk-tCVE2",
        "colab": {
          "base_uri": "https://localhost:8080/"
        },
        "outputId": "4ffffc24-34af-497c-d9bf-948a47b9d0e6"
      },
      "execution_count": 178,
      "outputs": [
        {
          "output_type": "stream",
          "name": "stdout",
          "text": [
            "hip hip hurray! hip hip hurray! hip hip hurray!\n",
            "Hip Hip hurray! Hip Hip hurray! Hip Hip hurray!\n"
          ]
        }
      ]
    },
    {
      "cell_type": "code",
      "source": [
        "string1.replace('hip', 'Hip', 4)\n",
        "#help(str.replace)"
      ],
      "metadata": {
        "id": "GPKVrgLoCXct",
        "colab": {
          "base_uri": "https://localhost:8080/",
          "height": 35
        },
        "outputId": "a25daee5-1884-46bf-ac73-dbf8efa47ac0"
      },
      "execution_count": 179,
      "outputs": [
        {
          "output_type": "execute_result",
          "data": {
            "application/vnd.google.colaboratory.intrinsic+json": {
              "type": "string"
            },
            "text/plain": [
              "'Hip Hip hurray! Hip Hip hurray! hip hip hurray!'"
            ]
          },
          "metadata": {},
          "execution_count": 179
        }
      ]
    },
    {
      "cell_type": "markdown",
      "source": [
        "### `str.split(delimiter=\"\")`: splits the string according to the delimiter (space if not provided) and returns a list of substrings."
      ],
      "metadata": {
        "id": "mDAoF0jXCbND"
      }
    },
    {
      "cell_type": "code",
      "source": [
        "dessert = 'Cake, Cookie, Icecream'\n",
        "list_dessert = dessert.split(',')\n",
        "print(list_dessert)"
      ],
      "metadata": {
        "id": "QeAVPiEiCfAF",
        "colab": {
          "base_uri": "https://localhost:8080/"
        },
        "outputId": "0cef7107-a4a7-4637-e489-a91adbc6d56d"
      },
      "execution_count": 180,
      "outputs": [
        {
          "output_type": "stream",
          "name": "stdout",
          "text": [
            "['Cake', ' Cookie', ' Icecream']\n"
          ]
        }
      ]
    },
    {
      "cell_type": "markdown",
      "source": [
        "### `str.index(sub[, start[, end]] )`: The index() method returns the index of a substring inside the string (if found). If the substring is not found, it raises an exception. Similar to `str.find()`"
      ],
      "metadata": {
        "id": "QBJleOjuaqp2"
      }
    },
    {
      "cell_type": "code",
      "source": [
        "text = 'Python is fun'\n",
        "\n",
        "# find the index of is\n",
        "result = text.index('is')\n",
        "print(result)\n",
        "\n",
        "# Output: 7"
      ],
      "metadata": {
        "id": "hIhvY2uaa1BO",
        "colab": {
          "base_uri": "https://localhost:8080/"
        },
        "outputId": "4bee96bf-e910-4e5e-a9b6-aab4a1a4d9ff"
      },
      "execution_count": 181,
      "outputs": [
        {
          "output_type": "stream",
          "name": "stdout",
          "text": [
            "7\n"
          ]
        }
      ]
    },
    {
      "cell_type": "markdown",
      "source": [
        "#### index() With Substring argument Only"
      ],
      "metadata": {
        "id": "6E1VAzrUhsEN"
      }
    },
    {
      "cell_type": "code",
      "source": [
        "sentence = 'Python programming is fun.'\n",
        "\n",
        "result = sentence.index('is fun')\n",
        "print(\"Substring 'is fun':\", result)\n",
        "\n",
        "result = sentence.index('Java')\n",
        "print(\"Substring 'Java':\", result)"
      ],
      "metadata": {
        "id": "LikxuTzIhwUt",
        "colab": {
          "base_uri": "https://localhost:8080/",
          "height": 236
        },
        "outputId": "b1fee61a-661e-4c0d-e429-e60f33d665b7"
      },
      "execution_count": 182,
      "outputs": [
        {
          "output_type": "stream",
          "name": "stdout",
          "text": [
            "Substring 'is fun': 19\n"
          ]
        },
        {
          "output_type": "error",
          "ename": "ValueError",
          "evalue": "ignored",
          "traceback": [
            "\u001b[0;31m---------------------------------------------------------------------------\u001b[0m",
            "\u001b[0;31mValueError\u001b[0m                                Traceback (most recent call last)",
            "\u001b[0;32m<ipython-input-182-4ffe18acdb3f>\u001b[0m in \u001b[0;36m<module>\u001b[0;34m()\u001b[0m\n\u001b[1;32m      4\u001b[0m \u001b[0mprint\u001b[0m\u001b[0;34m(\u001b[0m\u001b[0;34m\"Substring 'is fun':\"\u001b[0m\u001b[0;34m,\u001b[0m \u001b[0mresult\u001b[0m\u001b[0;34m)\u001b[0m\u001b[0;34m\u001b[0m\u001b[0;34m\u001b[0m\u001b[0m\n\u001b[1;32m      5\u001b[0m \u001b[0;34m\u001b[0m\u001b[0m\n\u001b[0;32m----> 6\u001b[0;31m \u001b[0mresult\u001b[0m \u001b[0;34m=\u001b[0m \u001b[0msentence\u001b[0m\u001b[0;34m.\u001b[0m\u001b[0mindex\u001b[0m\u001b[0;34m(\u001b[0m\u001b[0;34m'Java'\u001b[0m\u001b[0;34m)\u001b[0m\u001b[0;34m\u001b[0m\u001b[0;34m\u001b[0m\u001b[0m\n\u001b[0m\u001b[1;32m      7\u001b[0m \u001b[0mprint\u001b[0m\u001b[0;34m(\u001b[0m\u001b[0;34m\"Substring 'Java':\"\u001b[0m\u001b[0;34m,\u001b[0m \u001b[0mresult\u001b[0m\u001b[0;34m)\u001b[0m\u001b[0;34m\u001b[0m\u001b[0;34m\u001b[0m\u001b[0m\n",
            "\u001b[0;31mValueError\u001b[0m: substring not found"
          ]
        }
      ]
    },
    {
      "cell_type": "markdown",
      "source": [
        "#### index() With start and end Arguments"
      ],
      "metadata": {
        "id": "kb9_ky4Xh0km"
      }
    },
    {
      "cell_type": "code",
      "source": [
        "sentence = 'Python programming is fun.'\n",
        "\n",
        "# Substring is searched in 'gramming is fun.'\n",
        "print(sentence.index('ing', 10))\n",
        "\n",
        "# Substring is searched in 'gramming is '\n",
        "print(sentence.index('g is', 10, -4))\n",
        "\n",
        "# Substring is searched in 'programming'\n",
        "print(sentence.index('fun', 7, 18))"
      ],
      "metadata": {
        "id": "wItyPkpFh3xM",
        "colab": {
          "base_uri": "https://localhost:8080/",
          "height": 236
        },
        "outputId": "576e1378-3784-40e9-8272-ab195efb3449"
      },
      "execution_count": 183,
      "outputs": [
        {
          "output_type": "stream",
          "name": "stdout",
          "text": [
            "15\n",
            "17\n"
          ]
        },
        {
          "output_type": "error",
          "ename": "ValueError",
          "evalue": "ignored",
          "traceback": [
            "\u001b[0;31m---------------------------------------------------------------------------\u001b[0m",
            "\u001b[0;31mValueError\u001b[0m                                Traceback (most recent call last)",
            "\u001b[0;32m<ipython-input-183-3ac91df976e8>\u001b[0m in \u001b[0;36m<module>\u001b[0;34m()\u001b[0m\n\u001b[1;32m      8\u001b[0m \u001b[0;34m\u001b[0m\u001b[0m\n\u001b[1;32m      9\u001b[0m \u001b[0;31m# Substring is searched in 'programming'\u001b[0m\u001b[0;34m\u001b[0m\u001b[0;34m\u001b[0m\u001b[0;34m\u001b[0m\u001b[0m\n\u001b[0;32m---> 10\u001b[0;31m \u001b[0mprint\u001b[0m\u001b[0;34m(\u001b[0m\u001b[0msentence\u001b[0m\u001b[0;34m.\u001b[0m\u001b[0mindex\u001b[0m\u001b[0;34m(\u001b[0m\u001b[0;34m'fun'\u001b[0m\u001b[0;34m,\u001b[0m \u001b[0;36m7\u001b[0m\u001b[0;34m,\u001b[0m \u001b[0;36m18\u001b[0m\u001b[0;34m)\u001b[0m\u001b[0;34m)\u001b[0m\u001b[0;34m\u001b[0m\u001b[0;34m\u001b[0m\u001b[0m\n\u001b[0m",
            "\u001b[0;31mValueError\u001b[0m: substring not found"
          ]
        }
      ]
    },
    {
      "cell_type": "markdown",
      "source": [
        "### string.isalnum()"
      ],
      "metadata": {
        "id": "cL4AR6xDiL6P"
      }
    },
    {
      "cell_type": "code",
      "source": [
        "name = \"M234#onica\"\n",
        "print(name.isalnum())\n",
        "\n",
        "# contains whitespace\n",
        "name = \"M3onica Gell22er \"\n",
        "print(name.isalnum())\n",
        "\n",
        "name = \"Mo3nicaGell22er\"\n",
        "print(name.isalnum())\n",
        "\n",
        "name = \"133\"\n",
        "print(name.isalnum())"
      ],
      "metadata": {
        "id": "f7Jm58-ZiP20",
        "colab": {
          "base_uri": "https://localhost:8080/"
        },
        "outputId": "96ba3605-75ae-425a-c845-146c6e3d973f"
      },
      "execution_count": 184,
      "outputs": [
        {
          "output_type": "stream",
          "name": "stdout",
          "text": [
            "False\n",
            "False\n",
            "True\n",
            "True\n"
          ]
        }
      ]
    },
    {
      "cell_type": "code",
      "source": [
        "name = \"M0n1caG3ll3r\"\n",
        "\n",
        "if name.isalnum() == True:\n",
        "   print(\"All characters of string (name) are alphanumeric.\")\n",
        "else:\n",
        "    print(\"All characters are not alphanumeric.\")"
      ],
      "metadata": {
        "id": "s8bTPADtiSZI",
        "colab": {
          "base_uri": "https://localhost:8080/"
        },
        "outputId": "85ce1af6-2261-4abd-d915-fd81c3200930"
      },
      "execution_count": 185,
      "outputs": [
        {
          "output_type": "stream",
          "name": "stdout",
          "text": [
            "All characters of string (name) are alphanumeric.\n"
          ]
        }
      ]
    },
    {
      "cell_type": "markdown",
      "source": [
        "### string.isalpha()"
      ],
      "metadata": {
        "id": "YGh7qlypieUy"
      }
    },
    {
      "cell_type": "code",
      "source": [
        "name = \"Monica\"\n",
        "print(name.isalpha())\n",
        "\n",
        "# contains whitespace\n",
        "name = \"Monica Geller\"\n",
        "print(name.isalpha())\n",
        "\n",
        "# contains number\n",
        "name = \"Mo3nicaGell22er\"\n",
        "print(name.isalpha())"
      ],
      "metadata": {
        "id": "fpWnF_QMiiL5",
        "colab": {
          "base_uri": "https://localhost:8080/"
        },
        "outputId": "c1509b9d-d54b-480e-f24d-abc91f735b61"
      },
      "execution_count": 186,
      "outputs": [
        {
          "output_type": "stream",
          "name": "stdout",
          "text": [
            "True\n",
            "False\n",
            "False\n"
          ]
        }
      ]
    },
    {
      "cell_type": "markdown",
      "source": [
        ""
      ],
      "metadata": {
        "id": "xL07iSH56CRv"
      }
    },
    {
      "cell_type": "code",
      "source": [
        "name = \"MonicaGeller\"\n",
        "\n",
        "if name.isalpha() == True:\n",
        "   print(\"All characters are alphabets\")\n",
        "else:\n",
        "    print(\"All characters are not alphabets.\")"
      ],
      "metadata": {
        "id": "pIetqac3ikjd",
        "colab": {
          "base_uri": "https://localhost:8080/"
        },
        "outputId": "b9e75cf5-8112-4948-f6e9-1bc3a58c3e4a"
      },
      "execution_count": 187,
      "outputs": [
        {
          "output_type": "stream",
          "name": "stdout",
          "text": [
            "All characters are alphabets\n"
          ]
        }
      ]
    },
    {
      "cell_type": "markdown",
      "source": [
        "### string.isdecimal()"
      ],
      "metadata": {
        "id": "ADyVjNW5irgi"
      }
    },
    {
      "cell_type": "code",
      "source": [
        "s = \"28212\"\n",
        "print(s.isdecimal())\n",
        "\n",
        "# contains alphabets\n",
        "s = \"32ladk3\"\n",
        "print(s.isdecimal())\n",
        "\n",
        "# contains alphabets and spaces\n",
        "s = \"Mo3 nicaG el l22er\"\n",
        "print(s.isdecimal())"
      ],
      "metadata": {
        "id": "Pl4mSsBMivzh",
        "colab": {
          "base_uri": "https://localhost:8080/"
        },
        "outputId": "57896dbb-0dd2-42c0-cc01-a960efc76faf"
      },
      "execution_count": 188,
      "outputs": [
        {
          "output_type": "stream",
          "name": "stdout",
          "text": [
            "True\n",
            "False\n",
            "False\n"
          ]
        }
      ]
    },
    {
      "cell_type": "markdown",
      "source": [
        "#### String Containing digits and Numeric Characters"
      ],
      "metadata": {
        "id": "6lGybncBjJ7_"
      }
    },
    {
      "cell_type": "code",
      "source": [
        "s = '23455'\n",
        "print(s.isdecimal())\n",
        "\n",
        "#s = '²3455'\n",
        "s = '\\u00B23455'\n",
        "print(s.isdecimal())\n",
        "\n",
        "# s = '½'\n",
        "s = '\\u00BD'\n",
        "print(s.isdecimal())\n"
      ],
      "metadata": {
        "id": "-WiQaZpEjNY9",
        "colab": {
          "base_uri": "https://localhost:8080/"
        },
        "outputId": "75390cb1-61cb-481b-859f-9989db0bcf80"
      },
      "execution_count": 189,
      "outputs": [
        {
          "output_type": "stream",
          "name": "stdout",
          "text": [
            "True\n",
            "False\n",
            "False\n"
          ]
        }
      ]
    },
    {
      "cell_type": "markdown",
      "source": [
        "### `str.find(sub[, start[, end]] )`: The find() method returns the index of first occurrence of the substring (if found). If not found, it returns -1."
      ],
      "metadata": {
        "id": "sTWgpd_ebIF7"
      }
    },
    {
      "cell_type": "code",
      "source": [
        "message = 'Python is a fun programming language'\n",
        "\n",
        "# check the index of 'fun'\n",
        "print(message.find('fun'))"
      ],
      "metadata": {
        "id": "cLW9huC5bP57",
        "colab": {
          "base_uri": "https://localhost:8080/"
        },
        "outputId": "2ee903d7-6b91-4b98-8f33-157cbe377335"
      },
      "execution_count": 190,
      "outputs": [
        {
          "output_type": "stream",
          "name": "stdout",
          "text": [
            "12\n"
          ]
        }
      ]
    },
    {
      "cell_type": "code",
      "source": [
        ""
      ],
      "metadata": {
        "id": "9D96ekLDbawu"
      },
      "execution_count": 190,
      "outputs": []
    },
    {
      "cell_type": "code",
      "source": [
        ""
      ],
      "metadata": {
        "id": "I_JS-DmcbjQ7"
      },
      "execution_count": 190,
      "outputs": []
    },
    {
      "cell_type": "markdown",
      "source": [
        "### find() With No start and end Argument"
      ],
      "metadata": {
        "id": "QascdSLablBm"
      }
    },
    {
      "cell_type": "code",
      "source": [
        "quote = 'Let it be, let it be, let it be'\n",
        "\n",
        "# first occurance of 'let it'(case sensitive)\n",
        "result = quote.find('let it')\n",
        "print(\"Substring 'let it':\", result)\n",
        "\n",
        "# find returns -1 if substring not found\n",
        "result = quote.find('small')\n",
        "print(\"Substring 'small ':\", result)\n",
        "\n",
        "# How to use find()\n",
        "if (quote.find('be,') != -1):\n",
        "    print(\"Contains substring 'be,'\")\n",
        "else:\n",
        "    print(\"Doesn't contain substring\")"
      ],
      "metadata": {
        "id": "cKCkstbPbe1U",
        "colab": {
          "base_uri": "https://localhost:8080/"
        },
        "outputId": "cda43ad7-dae2-476f-d7b1-40a581c79a27"
      },
      "execution_count": 191,
      "outputs": [
        {
          "output_type": "stream",
          "name": "stdout",
          "text": [
            "Substring 'let it': 11\n",
            "Substring 'small ': -1\n",
            "Contains substring 'be,'\n"
          ]
        }
      ]
    },
    {
      "cell_type": "markdown",
      "source": [
        "### find() With start and end Arguments"
      ],
      "metadata": {
        "id": "K9KopblWbxon"
      }
    },
    {
      "cell_type": "code",
      "source": [
        "quote = 'Do small things with great love'\n",
        "\n",
        "# Substring is searched in 'hings with great love'\n",
        "print(quote.find('small things', 10))\n",
        "\n",
        "# Substring is searched in ' small things with great love' \n",
        "print(quote.find('small things', 2))\n",
        "\n",
        "# Substring is searched in 'hings with great lov'\n",
        "print(quote.find('o small ', 10, -1))\n",
        "\n",
        "# Substring is searched in 'll things with'\n",
        "print(quote.find('things ', 6, 20))"
      ],
      "metadata": {
        "id": "rKo1dY3ib06A",
        "colab": {
          "base_uri": "https://localhost:8080/"
        },
        "outputId": "bb96ad67-dd71-4a57-fc08-aab601319098"
      },
      "execution_count": 192,
      "outputs": [
        {
          "output_type": "stream",
          "name": "stdout",
          "text": [
            "-1\n",
            "3\n",
            "-1\n",
            "9\n"
          ]
        }
      ]
    },
    {
      "cell_type": "code",
      "source": [
        "str = 'cold'\n",
        "\n",
        "# enumerate()\n",
        "list_enumerate = list(enumerate(str))\n",
        "print('list(enumerate(str) = ', list_enumerate)\n",
        "\n",
        "#character count\n",
        "print('len(str) = ', len(str))"
      ],
      "metadata": {
        "id": "XE3JMy4UMEXq",
        "colab": {
          "base_uri": "https://localhost:8080/"
        },
        "outputId": "6671c68c-272b-4856-d81d-7f6fe9ae03d7"
      },
      "execution_count": 193,
      "outputs": [
        {
          "output_type": "stream",
          "name": "stdout",
          "text": [
            "list(enumerate(str) =  [(0, 'c'), (1, 'o'), (2, 'l'), (3, 'd')]\n",
            "len(str) =  4\n"
          ]
        }
      ]
    },
    {
      "cell_type": "markdown",
      "source": [
        "# Codechef Proplems on String\n",
        "\n",
        "https://www.codechef.com/problems/LONGSEQ\n"
      ],
      "metadata": {
        "id": "-X6gG7g2FBEp"
      }
    },
    {
      "cell_type": "code",
      "source": [
        ""
      ],
      "metadata": {
        "id": "CIVocuK_zKoa"
      },
      "execution_count": null,
      "outputs": []
    }
  ]
}