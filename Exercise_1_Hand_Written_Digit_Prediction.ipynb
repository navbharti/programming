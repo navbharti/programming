{
  "nbformat": 4,
  "nbformat_minor": 0,
  "metadata": {
    "colab": {
      "provenance": [],
      "authorship_tag": "ABX9TyPdqwyN2UOTAMrXn2tnTe0X",
      "include_colab_link": true
    },
    "kernelspec": {
      "name": "python3",
      "display_name": "Python 3"
    },
    "language_info": {
      "name": "python"
    }
  },
  "cells": [
    {
      "cell_type": "markdown",
      "metadata": {
        "id": "view-in-github",
        "colab_type": "text"
      },
      "source": [
        "<a href=\"https://colab.research.google.com/github/navbharti/programming/blob/master/Exercise_1_Hand_Written_Digit_Prediction.ipynb\" target=\"_parent\"><img src=\"https://colab.research.google.com/assets/colab-badge.svg\" alt=\"Open In Colab\"/></a>"
      ]
    },
    {
      "cell_type": "code",
      "execution_count": null,
      "metadata": {
        "id": "cSCHj_wyKf0O"
      },
      "outputs": [],
      "source": []
    },
    {
      "cell_type": "markdown",
      "source": [
        "# Hand Written Digit Prediction using Sequential Neuron Network with single Dense Layer"
      ],
      "metadata": {
        "id": "09sUuGOIKmSW"
      }
    },
    {
      "cell_type": "markdown",
      "source": [
        "# Import libraries"
      ],
      "metadata": {
        "id": "_wPMZRQgKoiC"
      }
    },
    {
      "cell_type": "code",
      "source": [
        "import numpy as np\n",
        "from matplotlib import pyplot as plt\n",
        "import tensorflow as tf\n",
        "from tensorflow import keras"
      ],
      "metadata": {
        "id": "pjc1ISu4Knhx"
      },
      "execution_count": null,
      "outputs": []
    },
    {
      "cell_type": "markdown",
      "source": [
        "# Load Digit Dataset from sklearn.datasets library\n"
      ],
      "metadata": {
        "id": "SchvY4FPKzrG"
      }
    },
    {
      "cell_type": "code",
      "source": [
        "from sklearn.datasets import load_digits"
      ],
      "metadata": {
        "id": "bQjavh_7Kyu5"
      },
      "execution_count": null,
      "outputs": []
    },
    {
      "cell_type": "code",
      "source": [
        "digit_dataset = load_digits()"
      ],
      "metadata": {
        "id": "b4dh-UC9K-ud"
      },
      "execution_count": null,
      "outputs": []
    },
    {
      "cell_type": "code",
      "source": [
        "dir(digit_dataset)"
      ],
      "metadata": {
        "id": "thIqFe3nLEeH"
      },
      "execution_count": null,
      "outputs": []
    },
    {
      "cell_type": "code",
      "source": [
        "digit_dataset.data[0]"
      ],
      "metadata": {
        "id": "aVGHjRwOLGs_"
      },
      "execution_count": null,
      "outputs": []
    },
    {
      "cell_type": "code",
      "source": [
        "digit_dataset.target[0]"
      ],
      "metadata": {
        "id": "lXo7At1eLQA1"
      },
      "execution_count": null,
      "outputs": []
    },
    {
      "cell_type": "code",
      "source": [
        "plt.matshow(digit_dataset.images[0])"
      ],
      "metadata": {
        "colab": {
          "base_uri": "https://localhost:8080/",
          "height": 292
        },
        "id": "bzKd62sMLUZk",
        "outputId": "0180858c-be34-4e63-908e-75698932419f"
      },
      "execution_count": null,
      "outputs": [
        {
          "output_type": "execute_result",
          "data": {
            "text/plain": [
              "<matplotlib.image.AxesImage at 0x7f7144012dc0>"
            ]
          },
          "metadata": {},
          "execution_count": 8
        },
        {
          "output_type": "display_data",
          "data": {
            "text/plain": [
              "<Figure size 288x288 with 1 Axes>"
            ],
            "image/png": "[encoded data removed]"
          },
          "metadata": {
            "needs_background": "light"
          }
        }
      ]
    },
    {
      "cell_type": "code",
      "source": [
        "print(f\"Shape of the Image: {digit_dataset.images[0].shape}\")"
      ],
      "metadata": {
        "colab": {
          "base_uri": "https://localhost:8080/"
        },
        "id": "OX1xtGqOLcbV",
        "outputId": "3414749d-5abf-4ca1-f0ea-22324e291c9b"
      },
      "execution_count": null,
      "outputs": [
        {
          "output_type": "stream",
          "name": "stdout",
          "text": [
            "Shape of the Image: (8, 8)\n"
          ]
        }
      ]
    },
    {
      "cell_type": "markdown",
      "source": [
        "# split the dataset"
      ],
      "metadata": {
        "id": "Wyr23FbcL1lm"
      }
    },
    {
      "cell_type": "code",
      "source": [
        "# your code goes here\n",
        "\n"
      ],
      "metadata": {
        "id": "yzzFsIbcLy_h"
      },
      "execution_count": null,
      "outputs": []
    },
    {
      "cell_type": "code",
      "source": [
        "# print the shapre of train dataset\n",
        "\n"
      ],
      "metadata": {
        "id": "2xxwzG0SMOwV"
      },
      "execution_count": null,
      "outputs": []
    },
    {
      "cell_type": "markdown",
      "source": [
        "# create you Sequential Neural Network having single Dense layer."
      ],
      "metadata": {
        "id": "TnRR8D3OMdM1"
      }
    },
    {
      "cell_type": "code",
      "source": [
        "# Create Sequential Neuron Network with Dense Layer\n",
        "\n"
      ],
      "metadata": {
        "id": "ai1cXFfsMa8M"
      },
      "execution_count": null,
      "outputs": []
    },
    {
      "cell_type": "code",
      "source": [
        "# Evaluate the model\n",
        "\n"
      ],
      "metadata": {
        "id": "jp1KlmsXMu2g"
      },
      "execution_count": null,
      "outputs": []
    },
    {
      "cell_type": "code",
      "source": [
        "# Predict first image class\n",
        "\n"
      ],
      "metadata": {
        "id": "7-IbhRyqEZ2K"
      },
      "execution_count": null,
      "outputs": []
    },
    {
      "cell_type": "code",
      "source": [
        "plt.matshow(X_test[0].reshape(8,8))"
      ],
      "metadata": {
        "colab": {
          "base_uri": "https://localhost:8080/",
          "height": 292
        },
        "id": "0Or_lWJ5M5tW",
        "outputId": "fb49ce81-1a77-47a0-c76e-ca6eb15f8503"
      },
      "execution_count": null,
      "outputs": [
        {
          "output_type": "execute_result",
          "data": {
            "text/plain": [
              "<matplotlib.image.AxesImage at 0x7f7140ca79d0>"
            ]
          },
          "metadata": {},
          "execution_count": 24
        },
        {
          "output_type": "display_data",
          "data": {
            "text/plain": [
              "<Figure size 288x288 with 1 Axes>"
            ],
            "image/png": "[encoded data removed]"
          },
          "metadata": {
            "needs_background": "light"
          }
        }
      ]
    },
    {
      "cell_type": "code",
      "source": [],
      "metadata": {
        "id": "ycV2kuf7NEoP"
      },
      "execution_count": null,
      "outputs": []
    },
    {
      "cell_type": "code",
      "source": [],
      "metadata": {
        "id": "4OL4B4TJNSS_"
      },
      "execution_count": null,
      "outputs": []
    },
    {
      "cell_type": "code",
      "source": [
        "# print the score the the model\n",
        "\n"
      ],
      "metadata": {
        "id": "CfjIeCeYNfU3"
      },
      "execution_count": null,
      "outputs": []
    },
    {
      "cell_type": "markdown",
      "source": [
        "# Exercise to add hidden layers in the previous Neural Network\n",
        "\n",
        "```python\n",
        "Model: \"sequential_1\"\n",
        "_________________________________________________________________\n",
        "Layer (type)                 Output Shape              Param #   \n",
        "=================================================================\n",
        "flatten_1 (Flatten)          (None, 784)               0         \n",
        "_________________________________________________________________\n",
        "dense_1 (Dense)              (None, 5)                 3925      \n",
        "_________________________________________________________________\n",
        "dense_2 (Dense)              (None, 10)                60        \n",
        "=================================================================\n",
        "Total params: 3,985\n",
        "Trainable params: 3,985\n",
        "Non-trainable params: 0\n",
        "```"
      ],
      "metadata": {
        "id": "fu0qzE5ZD53H"
      }
    },
    {
      "cell_type": "code",
      "source": [],
      "metadata": {
        "id": "96kWa1PxEFcf"
      },
      "execution_count": null,
      "outputs": []
    }
  ]
}